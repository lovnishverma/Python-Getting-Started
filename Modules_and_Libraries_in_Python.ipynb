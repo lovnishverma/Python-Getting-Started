{
  "nbformat": 4,
  "nbformat_minor": 0,
  "metadata": {
    "colab": {
      "provenance": [],
      "authorship_tag": "ABX9TyPt99X0T4/hoRgn3ZPimTzY",
      "include_colab_link": true
    },
    "kernelspec": {
      "name": "python3",
      "display_name": "Python 3"
    },
    "language_info": {
      "name": "python"
    }
  },
  "cells": [
    {
      "cell_type": "markdown",
      "metadata": {
        "id": "view-in-github",
        "colab_type": "text"
      },
      "source": [
        "<a href=\"https://colab.research.google.com/github/lovnishverma/Python-Getting-Started/blob/main/Modules_and_Libraries_in_Python.ipynb\" target=\"_parent\"><img src=\"https://colab.research.google.com/assets/colab-badge.svg\" alt=\"Open In Colab\"/></a>"
      ]
    },
    {
      "cell_type": "markdown",
      "source": [
        "### **Modules and Libraries in Python – Beginner's Guide**\n",
        "\n",
        "Python provides a vast ecosystem of **modules and libraries** to help developers write efficient, reusable, and maintainable code. In this guide, we’ll explore:\n",
        "\n",
        "1. **What are Modules and Libraries?**\n",
        "2. **Types of Modules (Built-in and User-defined)**\n",
        "3. **How to Create and Use a Module**\n",
        "4. **Python Standard Libraries**\n",
        "5. **Third-party Libraries (Installing and Using)**\n",
        "6. **Example: Using Popular Libraries**\n",
        "\n",
        "\n",
        "## **1. What are Modules and Libraries?**\n",
        "- A **module** is a Python file that contains functions, classes, or variables to be reused in other programs.\n",
        "- A **library** is a collection of modules that provide specific functionalities.\n",
        "\n",
        "Python has a **Standard Library** (built-in) and supports **third-party libraries** via package managers like `pip`.\n",
        "\n",
        "\n",
        "## **2. Types of Modules**\n",
        "### **(A) Built-in Modules (Pre-installed in Python)**\n",
        "Python comes with many built-in modules, such as:\n",
        "- `math` (for mathematical functions)\n",
        "- `random` (for generating random numbers)\n",
        "- `datetime` (for working with dates and times)\n",
        "- `os` (for interacting with the operating system)\n",
        "- `sys` (for system-specific parameters and functions)"
      ],
      "metadata": {
        "id": "-Hlw30kOyWcx"
      }
    },
    {
      "cell_type": "markdown",
      "source": [
        "#### **Example: Using a Built-in Module**"
      ],
      "metadata": {
        "id": "Uvfss00HyeSP"
      }
    },
    {
      "cell_type": "code",
      "source": [
        "import math\n",
        "\n",
        "print(math.sqrt(25))  # Output: 5.0\n",
        "print(math.factorial(5))  # Output: 120"
      ],
      "metadata": {
        "colab": {
          "base_uri": "https://localhost:8080/"
        },
        "id": "3ph1AI-dyjmh",
        "outputId": "d97aae58-8a13-48cd-be51-03f50497a76a"
      },
      "execution_count": 4,
      "outputs": [
        {
          "output_type": "stream",
          "name": "stdout",
          "text": [
            "5.0\n",
            "120\n"
          ]
        }
      ]
    },
    {
      "cell_type": "markdown",
      "source": [
        "### **(B) User-defined Modules (Custom Modules)**\n",
        "You can create your own module by writing functions and saving them in a `.py` file.\n",
        "\n",
        "#### **Example: Creating and Importing a Custom Module**\n",
        "1. Create a file `mymodule.py`:"
      ],
      "metadata": {
        "id": "-u5Aj-FpylS3"
      }
    },
    {
      "cell_type": "code",
      "source": [
        "# mymodule.py\n",
        "def greet(name):\n",
        "    return f\"Hello, {name}!\"\n",
        "\n",
        "def add(a, b):\n",
        "    return a + b"
      ],
      "metadata": {
        "id": "AkNo9Ge9yo7w"
      },
      "execution_count": 5,
      "outputs": []
    },
    {
      "cell_type": "markdown",
      "source": [
        "2. Import and use it in another script:"
      ],
      "metadata": {
        "id": "y_TtJ2KqytAy"
      }
    },
    {
      "cell_type": "markdown",
      "source": [
        "```ssh\n",
        "import mymodule\n",
        "\n",
        "print(mymodule.greet(\"Alice\"))  # Output: Hello, Alice!\n",
        "print(mymodule.add(3, 4))  # Output: 7\n",
        "```"
      ],
      "metadata": {
        "id": "ctq8syMcz0Ho"
      }
    },
    {
      "cell_type": "markdown",
      "source": [
        "## **3. How to Use Modules**\n",
        "### **(A) Importing Modules**\n",
        "- `import module_name` → Imports the entire module\n",
        "- `from module_name import function_name` → Imports specific functions\n",
        "- `import module_name as alias` → Gives a short alias to the module\n",
        "\n",
        "#### **Example: Different Import Methods**"
      ],
      "metadata": {
        "id": "3NXo5Zb5yzBB"
      }
    },
    {
      "cell_type": "code",
      "source": [
        "import math\n",
        "print(math.pi)  # Output: 3.141592653589793\n",
        "\n",
        "from math import sqrt\n",
        "print(sqrt(49))  # Output: 7.0\n",
        "\n",
        "import datetime as dt\n",
        "print(dt.datetime.now())  # Output: Current date and time"
      ],
      "metadata": {
        "colab": {
          "base_uri": "https://localhost:8080/"
        },
        "id": "B0NNirnQy5hg",
        "outputId": "825f9aac-f827-4c69-9319-39fdd55a77a1"
      },
      "execution_count": 6,
      "outputs": [
        {
          "output_type": "stream",
          "name": "stdout",
          "text": [
            "3.141592653589793\n",
            "7.0\n",
            "2025-03-02 17:04:20.454665\n"
          ]
        }
      ]
    },
    {
      "cell_type": "markdown",
      "source": [
        "## **4. Python Standard Libraries**\n",
        "Python's **Standard Library** provides modules for:\n",
        "- **Math and Numbers**: `math`, `random`, `decimal`, `fractions`\n",
        "- **Date and Time**: `datetime`, `calendar`, `time`\n",
        "- **OS and System Interaction**: `os`, `sys`, `shutil`\n",
        "- **Networking**: `socket`, `http`\n",
        "- **Data Processing**: `json`, `csv`, `sqlite3`\n",
        "- **Multithreading & Multiprocessing**: `threading`, `multiprocessing`"
      ],
      "metadata": {
        "id": "yDVsgZHMy9BP"
      }
    },
    {
      "cell_type": "markdown",
      "source": [
        "#### **Example: Using `random` Module**"
      ],
      "metadata": {
        "id": "Wu1bYvx9zAC4"
      }
    },
    {
      "cell_type": "code",
      "source": [
        "import random\n",
        "\n",
        "print(random.randint(1, 100))  # Random integer between 1 and 100\n",
        "print(random.choice([\"apple\", \"banana\", \"cherry\"]))  # Random selection"
      ],
      "metadata": {
        "colab": {
          "base_uri": "https://localhost:8080/"
        },
        "id": "uYWgZ1wszB7n",
        "outputId": "483d3157-2036-4f0f-834e-6409e196a5bf"
      },
      "execution_count": 7,
      "outputs": [
        {
          "output_type": "stream",
          "name": "stdout",
          "text": [
            "79\n",
            "cherry\n"
          ]
        }
      ]
    },
    {
      "cell_type": "markdown",
      "source": [
        "## **5. Third-Party Libraries**\n",
        "Python supports thousands of third-party libraries, installed using **pip** (Python Package Installer)."
      ],
      "metadata": {
        "id": "HKpm64WQzEgH"
      }
    },
    {
      "cell_type": "markdown",
      "source": [
        "### **(A) Installing Third-Party Libraries**\n",
        "To install a library, use:\n",
        "```sh\n",
        "pip install library_name\n",
        "```\n",
        "Example:\n",
        "```sh\n",
        "pip install numpy\n",
        "pip install requests\n",
        "```"
      ],
      "metadata": {
        "id": "M5BOkPn_zH_v"
      }
    },
    {
      "cell_type": "markdown",
      "source": [
        "### **(B) Popular Python Libraries**\n",
        "- **Data Science & Machine Learning**: `numpy`, `pandas`, `matplotlib`, `scikit-learn`, `tensorflow`\n",
        "- **Web Development**: `flask`, `django`\n",
        "- **Automation & Scripting**: `selenium`, `pyautogui`\n",
        "- **Networking & APIs**: `requests`, `beautifulsoup4`\n",
        "- **Game Development**: `pygame`"
      ],
      "metadata": {
        "id": "qD8TK4GbzLoA"
      }
    },
    {
      "cell_type": "markdown",
      "source": [
        "## **6. Example: Using Popular Libraries**\n",
        "### **(A) `requests` – Making an HTTP Request**"
      ],
      "metadata": {
        "id": "-KgnDBoazOUX"
      }
    },
    {
      "cell_type": "code",
      "source": [
        "import requests\n",
        "\n",
        "response = requests.get(\"https://api.github.com\")\n",
        "print(response.status_code)  # Output: 200\n",
        "print(response.json())  # Prints JSON response"
      ],
      "metadata": {
        "colab": {
          "base_uri": "https://localhost:8080/"
        },
        "id": "H7itnrgIzQ6b",
        "outputId": "eca7cf75-79b8-4282-823c-0571d33da209"
      },
      "execution_count": 8,
      "outputs": [
        {
          "output_type": "stream",
          "name": "stdout",
          "text": [
            "200\n",
            "{'current_user_url': 'https://api.github.com/user', 'current_user_authorizations_html_url': 'https://github.com/settings/connections/applications{/client_id}', 'authorizations_url': 'https://api.github.com/authorizations', 'code_search_url': 'https://api.github.com/search/code?q={query}{&page,per_page,sort,order}', 'commit_search_url': 'https://api.github.com/search/commits?q={query}{&page,per_page,sort,order}', 'emails_url': 'https://api.github.com/user/emails', 'emojis_url': 'https://api.github.com/emojis', 'events_url': 'https://api.github.com/events', 'feeds_url': 'https://api.github.com/feeds', 'followers_url': 'https://api.github.com/user/followers', 'following_url': 'https://api.github.com/user/following{/target}', 'gists_url': 'https://api.github.com/gists{/gist_id}', 'hub_url': 'https://api.github.com/hub', 'issue_search_url': 'https://api.github.com/search/issues?q={query}{&page,per_page,sort,order}', 'issues_url': 'https://api.github.com/issues', 'keys_url': 'https://api.github.com/user/keys', 'label_search_url': 'https://api.github.com/search/labels?q={query}&repository_id={repository_id}{&page,per_page}', 'notifications_url': 'https://api.github.com/notifications', 'organization_url': 'https://api.github.com/orgs/{org}', 'organization_repositories_url': 'https://api.github.com/orgs/{org}/repos{?type,page,per_page,sort}', 'organization_teams_url': 'https://api.github.com/orgs/{org}/teams', 'public_gists_url': 'https://api.github.com/gists/public', 'rate_limit_url': 'https://api.github.com/rate_limit', 'repository_url': 'https://api.github.com/repos/{owner}/{repo}', 'repository_search_url': 'https://api.github.com/search/repositories?q={query}{&page,per_page,sort,order}', 'current_user_repositories_url': 'https://api.github.com/user/repos{?type,page,per_page,sort}', 'starred_url': 'https://api.github.com/user/starred{/owner}{/repo}', 'starred_gists_url': 'https://api.github.com/gists/starred', 'topic_search_url': 'https://api.github.com/search/topics?q={query}{&page,per_page}', 'user_url': 'https://api.github.com/users/{user}', 'user_organizations_url': 'https://api.github.com/user/orgs', 'user_repositories_url': 'https://api.github.com/users/{user}/repos{?type,page,per_page,sort}', 'user_search_url': 'https://api.github.com/search/users?q={query}{&page,per_page,sort,order}'}\n"
          ]
        }
      ]
    },
    {
      "cell_type": "markdown",
      "source": [
        "### **(B) `numpy` – Working with Arrays**"
      ],
      "metadata": {
        "id": "tGZq-t3vzTXX"
      }
    },
    {
      "cell_type": "code",
      "execution_count": 9,
      "metadata": {
        "colab": {
          "base_uri": "https://localhost:8080/"
        },
        "id": "FIwZz2DRyBoh",
        "outputId": "6c5b98bf-5b86-4874-b313-432e0a48ac46"
      },
      "outputs": [
        {
          "output_type": "stream",
          "name": "stdout",
          "text": [
            "[ 2  4  6  8 10]\n"
          ]
        }
      ],
      "source": [
        "import numpy as np\n",
        "\n",
        "arr = np.array([1, 2, 3, 4, 5])\n",
        "print(arr * 2)  # Output: [ 2  4  6  8 10 ]"
      ]
    },
    {
      "cell_type": "markdown",
      "source": [
        "## **Conclusion**\n",
        "- **Modules** help organize code into reusable components.\n",
        "- Python’s **Standard Library** offers a variety of built-in modules.\n",
        "- **Third-party libraries** extend Python’s capabilities for various applications.\n",
        "- You can install external libraries using **pip**."
      ],
      "metadata": {
        "id": "AsT2YkmPyPEA"
      }
    }
  ]
}