{
  "nbformat": 4,
  "nbformat_minor": 0,
  "metadata": {
    "colab": {
      "provenance": [],
      "authorship_tag": "ABX9TyMCO1GUDpCcJvuqFkjh2mL+",
      "include_colab_link": true
    },
    "kernelspec": {
      "name": "python3",
      "display_name": "Python 3"
    },
    "language_info": {
      "name": "python"
    }
  },
  "cells": [
    {
      "cell_type": "markdown",
      "metadata": {
        "id": "view-in-github",
        "colab_type": "text"
      },
      "source": [
        "<a href=\"https://colab.research.google.com/github/lovnishverma/Python-Getting-Started/blob/main/NumPY.ipynb\" target=\"_parent\"><img src=\"https://colab.research.google.com/assets/colab-badge.svg\" alt=\"Open In Colab\"/></a>"
      ]
    },
    {
      "cell_type": "markdown",
      "source": [
        "![images.png](data:image/png;base64,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)\n",
        "\n",
        "\n",
        "What is NumPy?\n",
        "NumPy (Numerical Python) is a powerful library for numerical computing in Python. It provides support for large multi-dimensional arrays and matrices, along with a collection of mathematical functions to operate on them.\n",
        "\n",
        "Installing NumPy\n",
        "If you haven't installed NumPy yet, you can do so using:\n",
        "\n",
        "`pip install numpy`"
      ],
      "metadata": {
        "id": "bQs_M1UpwgAR"
      }
    },
    {
      "cell_type": "markdown",
      "source": [
        "Importing NumPy\n",
        "After installation, import NumPy in your Python script:"
      ],
      "metadata": {
        "id": "Lw4j4fBTw8-N"
      }
    },
    {
      "cell_type": "code",
      "source": [
        "import numpy as np"
      ],
      "metadata": {
        "id": "3hh4I21RxBHC"
      },
      "execution_count": 1,
      "outputs": []
    },
    {
      "cell_type": "markdown",
      "source": [
        "1. Creating Arrays\n",
        "a) 1D Array"
      ],
      "metadata": {
        "id": "LYtEvMNqxGso"
      }
    },
    {
      "cell_type": "code",
      "execution_count": 2,
      "metadata": {
        "colab": {
          "base_uri": "https://localhost:8080/"
        },
        "id": "_FuNf3K2wd1m",
        "outputId": "ef57111f-884f-44bb-cddb-1265ff939dab"
      },
      "outputs": [
        {
          "output_type": "stream",
          "name": "stdout",
          "text": [
            "[1 2 3 4 5]\n"
          ]
        }
      ],
      "source": [
        "arr = np.array([1, 2, 3, 4, 5])\n",
        "print(arr)"
      ]
    },
    {
      "cell_type": "markdown",
      "source": [
        "b) 2D Array"
      ],
      "metadata": {
        "id": "8FcxMWukxNWl"
      }
    },
    {
      "cell_type": "code",
      "source": [
        "arr2d = np.array([[1, 2, 3], [4, 5, 6]])\n",
        "print(arr2d)"
      ],
      "metadata": {
        "colab": {
          "base_uri": "https://localhost:8080/"
        },
        "id": "tXk0cf7NxPXx",
        "outputId": "41712ebd-db82-4607-8d67-a83a380c3024"
      },
      "execution_count": 3,
      "outputs": [
        {
          "output_type": "stream",
          "name": "stdout",
          "text": [
            "[[1 2 3]\n",
            " [4 5 6]]\n"
          ]
        }
      ]
    },
    {
      "cell_type": "markdown",
      "source": [
        "c) 3D Array"
      ],
      "metadata": {
        "id": "CPE_JZqBxRF7"
      }
    },
    {
      "cell_type": "code",
      "source": [
        "arr3d = np.array([[[1, 2], [3, 4]], [[5, 6], [7, 8]]])\n",
        "print(arr3d)"
      ],
      "metadata": {
        "colab": {
          "base_uri": "https://localhost:8080/"
        },
        "id": "Hu8TgstLxS3d",
        "outputId": "34358405-145e-4603-a1f3-ae1c6a89c71e"
      },
      "execution_count": 4,
      "outputs": [
        {
          "output_type": "stream",
          "name": "stdout",
          "text": [
            "[[[1 2]\n",
            "  [3 4]]\n",
            "\n",
            " [[5 6]\n",
            "  [7 8]]]\n"
          ]
        }
      ]
    },
    {
      "cell_type": "markdown",
      "source": [
        "2. Checking Array Properties"
      ],
      "metadata": {
        "id": "3XF2nYrnxUax"
      }
    },
    {
      "cell_type": "code",
      "source": [
        "print(arr.ndim)  # Number of dimensions\n",
        "print(arr.shape) # Shape (rows, columns)\n",
        "print(arr.size)  # Total number of elements\n",
        "print(arr.dtype) # Data type of elements"
      ],
      "metadata": {
        "colab": {
          "base_uri": "https://localhost:8080/"
        },
        "id": "mUoPbS2QxV-S",
        "outputId": "db4703d4-b9c5-4e0a-d866-f8cd5012b993"
      },
      "execution_count": 5,
      "outputs": [
        {
          "output_type": "stream",
          "name": "stdout",
          "text": [
            "1\n",
            "(5,)\n",
            "5\n",
            "int64\n"
          ]
        }
      ]
    },
    {
      "cell_type": "markdown",
      "source": [
        "3. Special Arrays\n",
        "\n",
        "\n",
        "a) Zeros Array"
      ],
      "metadata": {
        "id": "BiuCZazgxXj8"
      }
    },
    {
      "cell_type": "code",
      "source": [
        "zeros = np.zeros((3, 3))\n",
        "print(zeros)"
      ],
      "metadata": {
        "colab": {
          "base_uri": "https://localhost:8080/"
        },
        "id": "UBbWq4rqxZ1X",
        "outputId": "6ba8c35e-acae-4fae-f227-0c35fe5fcc9e"
      },
      "execution_count": 6,
      "outputs": [
        {
          "output_type": "stream",
          "name": "stdout",
          "text": [
            "[[0. 0. 0.]\n",
            " [0. 0. 0.]\n",
            " [0. 0. 0.]]\n"
          ]
        }
      ]
    },
    {
      "cell_type": "markdown",
      "source": [
        "b) Ones Array"
      ],
      "metadata": {
        "id": "fUfLPPgXxbtm"
      }
    },
    {
      "cell_type": "code",
      "source": [
        "ones = np.ones((2, 2))\n",
        "print(ones)"
      ],
      "metadata": {
        "colab": {
          "base_uri": "https://localhost:8080/"
        },
        "id": "i4OtNM54xhCE",
        "outputId": "372d2aaf-7274-4b90-9cc8-2a7a07907891"
      },
      "execution_count": 7,
      "outputs": [
        {
          "output_type": "stream",
          "name": "stdout",
          "text": [
            "[[1. 1.]\n",
            " [1. 1.]]\n"
          ]
        }
      ]
    },
    {
      "cell_type": "markdown",
      "source": [
        "c) Identity Matrix"
      ],
      "metadata": {
        "id": "6V_AeWbWxkKR"
      }
    },
    {
      "cell_type": "code",
      "source": [
        "identity = np.eye(3)\n",
        "print(identity)"
      ],
      "metadata": {
        "colab": {
          "base_uri": "https://localhost:8080/"
        },
        "id": "DWJikYOpxlof",
        "outputId": "b758739e-de30-4301-a25d-b03017e39b55"
      },
      "execution_count": 8,
      "outputs": [
        {
          "output_type": "stream",
          "name": "stdout",
          "text": [
            "[[1. 0. 0.]\n",
            " [0. 1. 0.]\n",
            " [0. 0. 1.]]\n"
          ]
        }
      ]
    },
    {
      "cell_type": "markdown",
      "source": [
        "d) Random Numbers"
      ],
      "metadata": {
        "id": "Vbw6LoGBxm_z"
      }
    },
    {
      "cell_type": "code",
      "source": [
        "rand_arr = np.random.rand(3, 3)  # Random numbers between 0 and 1\n",
        "print(rand_arr)"
      ],
      "metadata": {
        "colab": {
          "base_uri": "https://localhost:8080/"
        },
        "id": "40cMPDn7xozm",
        "outputId": "03a23153-7265-4856-8575-ec6dfdf0673c"
      },
      "execution_count": 9,
      "outputs": [
        {
          "output_type": "stream",
          "name": "stdout",
          "text": [
            "[[0.02345431 0.74688384 0.18746358]\n",
            " [0.36096796 0.5133506  0.62022952]\n",
            " [0.88182678 0.96412365 0.13765551]]\n"
          ]
        }
      ]
    },
    {
      "cell_type": "markdown",
      "source": [
        "4. **Array Indexing & Slicing**"
      ],
      "metadata": {
        "id": "TQyhR5t5xq6k"
      }
    },
    {
      "cell_type": "code",
      "source": [
        "arr = np.array([10, 20, 30, 40, 50])\n",
        "\n",
        "print(arr[0])      # First element\n",
        "print(arr[-1])     # Last element\n",
        "print(arr[1:4])    # Slicing (from index 1 to 3)\n",
        "print(arr[::2])    # Every second element"
      ],
      "metadata": {
        "colab": {
          "base_uri": "https://localhost:8080/"
        },
        "id": "r5Cyo3IxxtnO",
        "outputId": "567f4481-0445-464f-94dd-fdd19e057812"
      },
      "execution_count": 10,
      "outputs": [
        {
          "output_type": "stream",
          "name": "stdout",
          "text": [
            "10\n",
            "50\n",
            "[20 30 40]\n",
            "[10 30 50]\n"
          ]
        }
      ]
    },
    {
      "cell_type": "markdown",
      "source": [
        "For 2D arrays:"
      ],
      "metadata": {
        "id": "9u9RZjdQxvKt"
      }
    },
    {
      "cell_type": "code",
      "source": [
        "arr2d = np.array([[1, 2, 3], [4, 5, 6]])\n",
        "print(arr2d[0, 1])  # Row 0, Column 1\n",
        "print(arr2d[:, 1])  # All rows, Column 1\n",
        "print(arr2d[1, :])  # Row 1, all columns"
      ],
      "metadata": {
        "colab": {
          "base_uri": "https://localhost:8080/"
        },
        "id": "WK2mVYO6xw__",
        "outputId": "a7e4f334-2c7e-4d8c-b8c2-5be3512cb515"
      },
      "execution_count": 11,
      "outputs": [
        {
          "output_type": "stream",
          "name": "stdout",
          "text": [
            "2\n",
            "[2 5]\n",
            "[4 5 6]\n"
          ]
        }
      ]
    },
    {
      "cell_type": "markdown",
      "source": [
        "**5. Arithmetic Operations**"
      ],
      "metadata": {
        "id": "Wni70CDFxymq"
      }
    },
    {
      "cell_type": "code",
      "source": [
        "a = np.array([1, 2, 3])\n",
        "b = np.array([4, 5, 6])\n",
        "\n",
        "print(a + b)  # Element-wise addition\n",
        "print(a - b)  # Element-wise subtraction\n",
        "print(a * b)  # Element-wise multiplication\n",
        "print(a / b)  # Element-wise division\n",
        "print(a ** 2) # Square of each element"
      ],
      "metadata": {
        "colab": {
          "base_uri": "https://localhost:8080/"
        },
        "id": "bhS6CxPkx_jv",
        "outputId": "1cd351d7-d189-4e6d-d316-5826d491901c"
      },
      "execution_count": 12,
      "outputs": [
        {
          "output_type": "stream",
          "name": "stdout",
          "text": [
            "[5 7 9]\n",
            "[-3 -3 -3]\n",
            "[ 4 10 18]\n",
            "[0.25 0.4  0.5 ]\n",
            "[1 4 9]\n"
          ]
        }
      ]
    },
    {
      "cell_type": "markdown",
      "source": [
        "**6. Aggregations**"
      ],
      "metadata": {
        "id": "7ibTdyZ_y-yl"
      }
    },
    {
      "cell_type": "code",
      "source": [
        "arr = np.array([1, 2, 3, 4, 5])\n",
        "\n",
        "print(np.sum(arr))  # Sum of elements\n",
        "print(np.mean(arr)) # Mean (average)\n",
        "print(np.max(arr))  # Maximum element\n",
        "print(np.min(arr))  # Minimum element\n",
        "print(np.std(arr))  # Standard deviation"
      ],
      "metadata": {
        "colab": {
          "base_uri": "https://localhost:8080/"
        },
        "id": "N__5QN2tzBbd",
        "outputId": "cc6a84dd-6618-46c2-f403-446c41a8f85a"
      },
      "execution_count": 13,
      "outputs": [
        {
          "output_type": "stream",
          "name": "stdout",
          "text": [
            "15\n",
            "3.0\n",
            "5\n",
            "1\n",
            "1.4142135623730951\n"
          ]
        }
      ]
    },
    {
      "cell_type": "markdown",
      "source": [
        "**7. Reshaping & Transposing**"
      ],
      "metadata": {
        "id": "MXvlZf2mzGni"
      }
    },
    {
      "cell_type": "code",
      "source": [
        "arr = np.array([1, 2, 3, 4, 5, 6])\n",
        "reshaped = arr.reshape(2, 3)\n",
        "print(reshaped)"
      ],
      "metadata": {
        "colab": {
          "base_uri": "https://localhost:8080/"
        },
        "id": "tuLmTNL4zLHY",
        "outputId": "b04b58a0-7a50-460f-a88c-e371257e9651"
      },
      "execution_count": 14,
      "outputs": [
        {
          "output_type": "stream",
          "name": "stdout",
          "text": [
            "[[1 2 3]\n",
            " [4 5 6]]\n"
          ]
        }
      ]
    },
    {
      "cell_type": "markdown",
      "source": [
        "Transposing"
      ],
      "metadata": {
        "id": "ySw3ALahzOdl"
      }
    },
    {
      "cell_type": "code",
      "source": [
        "arr2d = np.array([[1, 2, 3], [4, 5, 6]])\n",
        "print(arr2d.T)  # Transpose of matrix"
      ],
      "metadata": {
        "colab": {
          "base_uri": "https://localhost:8080/"
        },
        "id": "uo-PrOgDzQQ9",
        "outputId": "03c1f18a-2a88-4515-a69b-d7c38cafa845"
      },
      "execution_count": 15,
      "outputs": [
        {
          "output_type": "stream",
          "name": "stdout",
          "text": [
            "[[1 4]\n",
            " [2 5]\n",
            " [3 6]]\n"
          ]
        }
      ]
    },
    {
      "cell_type": "markdown",
      "source": [
        "**8. Stacking & Concatenation**\n",
        "\n",
        "Horizontal Stacking"
      ],
      "metadata": {
        "id": "anlbDt-KzRvN"
      }
    },
    {
      "cell_type": "code",
      "source": [
        "a = np.array([1, 2, 3])\n",
        "b = np.array([4, 5, 6])\n",
        "print(np.hstack((a, b)))"
      ],
      "metadata": {
        "colab": {
          "base_uri": "https://localhost:8080/"
        },
        "id": "N_X9rMlYzUiW",
        "outputId": "eac88f9f-7fe4-4b94-e867-e6311b8532c9"
      },
      "execution_count": 16,
      "outputs": [
        {
          "output_type": "stream",
          "name": "stdout",
          "text": [
            "[1 2 3 4 5 6]\n"
          ]
        }
      ]
    },
    {
      "cell_type": "markdown",
      "source": [
        "Vertical Stacking"
      ],
      "metadata": {
        "id": "0kw9_NQJzWG2"
      }
    },
    {
      "cell_type": "code",
      "source": [
        "a = np.array([[1, 2], [3, 4]])\n",
        "b = np.array([[5, 6], [7, 8]])\n",
        "print(np.vstack((a, b)))"
      ],
      "metadata": {
        "colab": {
          "base_uri": "https://localhost:8080/"
        },
        "id": "HZtTvaQzzYDG",
        "outputId": "a1c1dd32-9b0c-4c3f-ba35-66ae13ca10f2"
      },
      "execution_count": 17,
      "outputs": [
        {
          "output_type": "stream",
          "name": "stdout",
          "text": [
            "[[1 2]\n",
            " [3 4]\n",
            " [5 6]\n",
            " [7 8]]\n"
          ]
        }
      ]
    },
    {
      "cell_type": "markdown",
      "source": [
        "This is just the beginning! Keep Learning - *Made with 💗 by Lovnish Verma*"
      ],
      "metadata": {
        "id": "w-D1DPFQzbCU"
      }
    }
  ]
}