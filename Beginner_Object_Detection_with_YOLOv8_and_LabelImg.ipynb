{
  "nbformat": 4,
  "nbformat_minor": 0,
  "metadata": {
    "colab": {
      "provenance": [],
      "gpuType": "T4",
      "authorship_tag": "ABX9TyMObZhpW/UeaYHiaIAxTEqP",
      "include_colab_link": true
    },
    "kernelspec": {
      "name": "python3",
      "display_name": "Python 3"
    },
    "language_info": {
      "name": "python"
    },
    "accelerator": "GPU"
  },
  "cells": [
    {
      "cell_type": "markdown",
      "metadata": {
        "id": "view-in-github",
        "colab_type": "text"
      },
      "source": [
        "<a href=\"https://colab.research.google.com/github/lovnishverma/Python-Getting-Started/blob/main/Beginner_Object_Detection_with_YOLOv8_and_LabelImg.ipynb\" target=\"_parent\"><img src=\"https://colab.research.google.com/assets/colab-badge.svg\" alt=\"Open In Colab\"/></a>"
      ]
    },
    {
      "cell_type": "markdown",
      "source": [
        "# Bounding_Box_Annotation_and_Training_YOLOv8"
      ],
      "metadata": {
        "id": "1KiBLkGWHIJ6"
      }
    },
    {
      "cell_type": "markdown",
      "source": [
        "## 🧠 What is Annotation?\n",
        "\n",
        "**Annotation** in object detection means labeling objects in an image by drawing **bounding boxes** around them and assigning a class label.\n",
        "This is essential for training models like YOLO, SSD, and Faster R-CNN.\n",
        "\n",
        "---\n",
        "\n",
        "## ✍️ Methods of Bounding Box Annotation\n",
        "\n",
        "You can annotate images in one of the following ways:\n",
        "\n",
        "### ✅ Recommended Tool-Based Annotation:\n",
        "\n",
        "1. **[LabelImg](https://github.com/heartexlabs/labelImg)** (Desktop)\n",
        "2. **[Makesense.ai](https://www.makesense.ai/)** (Online)\n",
        "3. **[Roboflow Annotate](https://app.roboflow.com/)** (Online, account needed)\n",
        "\n",
        "---\n",
        "\n",
        "## 📌 1. **How to Annotate using LabelImg (Easiest for Offline Work)**\n",
        "\n",
        "### 🔧 Step-by-Step Setup\n",
        "\n",
        "### ✅ Step 1: Install LabelImg\n",
        "\n",
        "**Windows:**\n",
        "\n",
        "* Download Windows .exe from [releases](https://github.com/heartexlabs/labelImg/releases)\n",
        "  **Linux/macOS/Colab:**\n",
        "\n",
        "```bash\n",
        "# You can try this on Colab for GUI with X11 if needed (advanced)\n",
        "!git clone https://github.com/heartexlabs/labelImg.git\n",
        "!pip install pyqt5 lxml\n",
        "%cd labelImg\n",
        "!make qt5py3\n",
        "```\n",
        "\n",
        "---\n",
        "\n",
        "### ✅ Step 2: Open the Tool\n",
        "\n",
        "```bash\n",
        "# Windows:\n",
        "labelImg.exe\n",
        "```\n",
        "\n",
        "### ✅ Step 3: Load Image Folder\n",
        "\n",
        "* Click: `Open Dir` → select the folder containing images (e.g., `bbox_dataset/images/train`)\n",
        "\n",
        "---\n",
        "\n",
        "### ✅ Step 4: Select Save Format\n",
        "\n",
        "* Menu → **PascalVOC** or **YOLO** format (choose YOLO for object detection)\n",
        "* Set annotation folder to `bbox_dataset/labels/train`\n",
        "\n",
        "---\n",
        "\n",
        "### ✅ Step 5: Annotate\n",
        "\n",
        "* Click **\"Create RectBox\"**\n",
        "* Draw box on object → enter class label (e.g., `dog`, `car`)\n",
        "* Save using **Ctrl + S** or click Save icon\n",
        "\n",
        "---\n",
        "\n",
        "### ✅ Step 6: Annotations are saved as `.txt` files in YOLO format:\n",
        "\n",
        "Example of `dog.jpg` → `dog.txt`:\n",
        "\n",
        "```\n",
        "0 0.512 0.480 0.210 0.320\n",
        "```\n",
        "\n",
        "This means:\n",
        "\n",
        "```\n",
        "class_id x_center y_center width height  (normalized between 0 and 1)\n",
        "```\n",
        "\n",
        "---\n",
        "\n",
        "## 📌 2. **How to Annotate using Makesense.ai (No Installation Needed)**\n",
        "\n",
        "### 🌐 Website: [https://www.makesense.ai/](https://www.makesense.ai/)\n",
        "\n",
        "### Steps:\n",
        "\n",
        "1. Click \"Get Started\"\n",
        "2. Upload your images (can be ZIP or multiple files)\n",
        "3. Choose **Object Detection**\n",
        "4. Add your class labels (e.g., `cat`, `bottle`, etc.)\n",
        "5. Draw bounding boxes\n",
        "6. Export → Choose **YOLO format**\n",
        "\n",
        "It downloads `.txt` files and one file per image.\n",
        "\n",
        "---\n",
        "\n",
        "## 📌 3. **How to Manually Annotate Inside Jupyter notebook (Drawing Bounding Boxes)**\n",
        "\n",
        "If you want to draw boxes with mouse inside a notebook using OpenCV (like a mini-LabelImg):\n",
        "\n",
        "This script only works on your local machine (Python installed, OpenCV installed with GUI support):\n",
        "\n",
        "```python\n",
        "import cv2\n",
        "\n",
        "def draw_box(image_path):\n",
        "    img = cv2.imread(image_path)\n",
        "    clone = img.copy()\n",
        "    bboxes = []\n",
        "\n",
        "    # ✅ Define these variables in the enclosing scope first\n",
        "    x_start, y_start = -1, -1\n",
        "    drawing = False\n",
        "\n",
        "    def draw(event, x, y, flags, param):\n",
        "        nonlocal x_start, y_start, drawing\n",
        "\n",
        "        if event == cv2.EVENT_LBUTTONDOWN:\n",
        "            x_start, y_start = x, y\n",
        "            drawing = True\n",
        "\n",
        "        elif event == cv2.EVENT_LBUTTONUP:\n",
        "            drawing = False\n",
        "            x_end, y_end = x, y\n",
        "            cv2.rectangle(img, (x_start, y_start), (x_end, y_end), (0, 255, 0), 2)\n",
        "            bboxes.append((x_start, y_start, x_end, y_end))\n",
        "\n",
        "    cv2.namedWindow(\"Annotation Tool\")\n",
        "    cv2.setMouseCallback(\"Annotation Tool\", draw)\n",
        "\n",
        "    print(\"Press 'q' to finish annotation\")\n",
        "    while True:\n",
        "        cv2.imshow(\"Annotation Tool\", img)\n",
        "        key = cv2.waitKey(1) & 0xFF\n",
        "        if key == ord(\"q\"):\n",
        "            break\n",
        "\n",
        "    cv2.destroyAllWindows()\n",
        "    return bboxes\n",
        "\n",
        "```\n",
        "\n",
        "> ⚠️ This works only in local Python, not in Colab due to GUI limitations.\n",
        "\n",
        "---\n",
        "\n",
        "## 🔍 Understanding YOLO Annotation Format (very important!)\n",
        "\n",
        "Each `.txt` file contains **one line per object**:\n",
        "\n",
        "```\n",
        "class_id x_center y_center width height\n",
        "```\n",
        "\n",
        "All values are **normalized** between `0 and 1` w\\.r.t. image dimensions.\n",
        "\n",
        "Example:\n",
        "\n",
        "```plaintext\n",
        "0 0.5 0.5 0.3 0.4\n",
        "```\n",
        "\n",
        "This means:\n",
        "\n",
        "* class\\_id = 0 (e.g., 'cat')\n",
        "* bounding box center is at (50% width, 50% height)\n",
        "* box size is 30% width × 40% height\n",
        "\n",
        "---\n",
        "\n",
        "## 🛠 You can Practice This:\n",
        "\n",
        "* Annotate 5–10 images using [Makesense.ai](https://www.makesense.ai/)\n",
        "* Export in YOLO format\n",
        "* Upload to Colab\n",
        "* Train YOLOv8 on it\n"
      ],
      "metadata": {
        "id": "V4DFpmz34yzz"
      }
    },
    {
      "cell_type": "markdown",
      "source": [
        "import os\n",
        "import xml.etree.ElementTree as ET\n",
        "\n",
        "# Classes in the dataset\n",
        "CLASSES = ['apple', 'mango']\n",
        "\n",
        "# Input and output paths\n",
        "xml_folder = 'annotations_xml'\n",
        "output_labels = 'labels'\n",
        "\n",
        "os.makedirs(output_labels, exist_ok=True)\n",
        "\n",
        "# Function to convert\n",
        "\n",
        "\n",
        "def convert(xml_file):\n",
        "    tree = ET.parse(xml_file)\n",
        "    root = tree.getroot()\n",
        "\n",
        "    img_w = int(root.find('size/width').text)\n",
        "    img_h = int(root.find('size/height').text)\n",
        "\n",
        "    yolo_lines = []\n",
        "\n",
        "    for obj in root.findall('object'):\n",
        "        class_name = obj.find('name').text.lower()\n",
        "        if class_name not in CLASSES:\n",
        "            continue\n",
        "\n",
        "        class_id = CLASSES.index(class_name)\n",
        "\n",
        "        bndbox = obj.find('bndbox')\n",
        "        xmin = int(bndbox.find('xmin').text)\n",
        "        ymin = int(bndbox.find('ymin').text)\n",
        "        xmax = int(bndbox.find('xmax').text)\n",
        "        ymax = int(bndbox.find('ymax').text)\n",
        "\n",
        "        # Convert to YOLO format\n",
        "        x_center = (xmin + xmax) / 2.0 / img_w\n",
        "        y_center = (ymin + ymax) / 2.0 / img_h\n",
        "        width = (xmax - xmin) / img_w\n",
        "        height = (ymax - ymin) / img_h\n",
        "\n",
        "        yolo_lines.append(\n",
        "            f\"{class_id} {x_center:.6f} {y_center:.6f} {width:.6f} {height:.6f}\")\n",
        "\n",
        "    return yolo_lines\n",
        "\n",
        "\n",
        "# Process all XML files\n",
        "for file in os.listdir(xml_folder):\n",
        "    if file.endswith(\".xml\"):\n",
        "        xml_path = os.path.join(xml_folder, file)\n",
        "        yolo_data = convert(xml_path)\n",
        "\n",
        "        txt_filename = file.replace(\".xml\", \".txt\")\n",
        "        with open(os.path.join(output_labels, txt_filename), \"w\") as f:\n",
        "            f.write(\"\\n\".join(yolo_data))\n",
        "\n",
        "print(\"✅ Conversion completed.\")\n"
      ],
      "metadata": {
        "id": "WItuCfaP97dT"
      }
    },
    {
      "cell_type": "markdown",
      "source": [
        "\n",
        "\n",
        "---\n",
        "\n"
      ],
      "metadata": {
        "id": "rcq2DXygHStC"
      }
    },
    {
      "cell_type": "markdown",
      "source": [
        "# Custom_Object_Detection_from_Scratch"
      ],
      "metadata": {
        "id": "BD8v6QDUHPcB"
      }
    },
    {
      "cell_type": "markdown",
      "source": [
        "If you've successfully annotated your mango and apple images using **LabelImg**, and the annotations are saved in **Pascal VOC XML format**\n",
        "\n",
        "### ✅ Your next steps are:\n",
        "\n",
        "1. **Convert the Pascal VOC (XML) annotations to YOLO format**\n",
        "2. **Organize dataset into YOLO folder structure**\n",
        "3. **Train YOLOv8 on this data using Google Colab**\n",
        "\n",
        "---\n",
        "\n",
        "## 🔁 Step 1: Convert Pascal VOC (XML) to YOLO format\n",
        "\n",
        "Here is a full Python script to convert your XML annotations to YOLO format:\n",
        "\n",
        "### 🐍 Python Script: `convert_voc_to_yolo.py`\n",
        "\n",
        "```python\n",
        "import os\n",
        "import xml.etree.ElementTree as ET\n",
        "\n",
        "# Classes in the dataset\n",
        "CLASSES = ['apple', 'mango']\n",
        "\n",
        "# Input and output paths\n",
        "xml_folder = 'annotations_xml'\n",
        "output_labels = 'labels'\n",
        "\n",
        "os.makedirs(output_labels, exist_ok=True)\n",
        "\n",
        "# Function to convert\n",
        "def convert(xml_file):\n",
        "    tree = ET.parse(xml_file)\n",
        "    root = tree.getroot()\n",
        "\n",
        "    img_w = int(root.find('size/width').text)\n",
        "    img_h = int(root.find('size/height').text)\n",
        "\n",
        "    yolo_lines = []\n",
        "\n",
        "    for obj in root.findall('object'):\n",
        "        class_name = obj.find('name').text.lower()\n",
        "        if class_name not in CLASSES:\n",
        "            continue\n",
        "\n",
        "        class_id = CLASSES.index(class_name)\n",
        "\n",
        "        bndbox = obj.find('bndbox')\n",
        "        xmin = int(bndbox.find('xmin').text)\n",
        "        ymin = int(bndbox.find('ymin').text)\n",
        "        xmax = int(bndbox.find('xmax').text)\n",
        "        ymax = int(bndbox.find('ymax').text)\n",
        "\n",
        "        # Convert to YOLO format\n",
        "        x_center = (xmin + xmax) / 2.0 / img_w\n",
        "        y_center = (ymin + ymax) / 2.0 / img_h\n",
        "        width = (xmax - xmin) / img_w\n",
        "        height = (ymax - ymin) / img_h\n",
        "\n",
        "        yolo_lines.append(f\"{class_id} {x_center:.6f} {y_center:.6f} {width:.6f} {height:.6f}\")\n",
        "\n",
        "    return yolo_lines\n",
        "\n",
        "# Process all XML files\n",
        "for file in os.listdir(xml_folder):\n",
        "    if file.endswith(\".xml\"):\n",
        "        xml_path = os.path.join(xml_folder, file)\n",
        "        yolo_data = convert(xml_path)\n",
        "\n",
        "        txt_filename = file.replace(\".xml\", \".txt\")\n",
        "        with open(os.path.join(output_labels, txt_filename), \"w\") as f:\n",
        "            f.write(\"\\n\".join(yolo_data))\n",
        "\n",
        "print(\"✅ Conversion completed.\")\n",
        "```\n",
        "\n",
        "### 🔧 What to do:\n",
        "\n",
        "1. Put all your `.xml` files in a folder: `annotations_xml/`\n",
        "2. Run the above script\n",
        "3. The output `.txt` files (YOLO format) will go into `labels/`\n",
        "\n",
        "---\n",
        "\n",
        "## 📁 Step 2: Organize Dataset Folder\n",
        "\n",
        "You need this structure:\n",
        "\n",
        "```\n",
        "YOLO_dataset/\n",
        "├── images/\n",
        "│   ├── train/\n",
        "│   │   ├── apple1.jpg\n",
        "│   │   ├── mango1.jpg\n",
        "├── labels/\n",
        "│   ├── train/\n",
        "│   │   ├── apple1.txt\n",
        "│   │   ├── mango1.txt\n",
        "├── data.yaml\n",
        "```\n",
        "\n",
        "---\n",
        "\n",
        "## 📄 Step 3: Create `data.yaml` File\n",
        "\n",
        "Create a file `data.yaml` like this:\n",
        "\n",
        "```yaml\n",
        "path: /content/YOLO_dataset\n",
        "train: images/train\n",
        "val: images/train  # or create a validation split later\n",
        "\n",
        "names:\n",
        "  0: apple\n",
        "  1: mango\n",
        "```\n",
        "\n",
        "---\n",
        "\n",
        "## 🧪 Step 4: Train YOLOv8 in Google Colab\n",
        "\n",
        "Now upload this to Colab and run the following:\n",
        "\n",
        "### ▶️ Colab Commands\n",
        "\n",
        "```python\n",
        "# 1. Install YOLOv8\n",
        "!pip install -q ultralytics\n",
        "from ultralytics import YOLO\n",
        "\n",
        "# 2. Load YOLOv8 model\n",
        "model = YOLO(\"yolov8n.yaml\")  # or use yolov8s.yaml\n",
        "\n",
        "# 3. Train\n",
        "model.train(data=\"YOLO_dataset/data.yaml\", epochs=20, imgsz=416)\n",
        "```\n",
        "\n",
        "---\n",
        "\n",
        "## 🧪 Step 5: Run Inference on a Test Image\n",
        "\n",
        "```python\n",
        "# Inference on one of your test images\n",
        "results = model.predict(source=\"YOLO_dataset/images/train/mango9.jpeg\", save=True, conf=0.5)\n",
        "```\n",
        "\n",
        "This will save prediction images in `runs/detect/predict/`.\n",
        "\n",
        "---\n",
        "\n",
        "## 🧳 Optional: Zip for Upload to Colab\n",
        "\n",
        "You can ZIP your full folder (`YOLO_dataset`) and upload to Colab:\n",
        "\n",
        "```python\n",
        "from google.colab import files\n",
        "uploaded = files.upload()  # upload your zip file\n",
        "!unzip YOLO_dataset.zip\n",
        "```\n",
        "\n",
        "---\n",
        "\n"
      ],
      "metadata": {
        "id": "RJqYuItAGvCy"
      }
    },
    {
      "cell_type": "markdown",
      "source": [
        "\n",
        "\n",
        "---\n",
        "\n"
      ],
      "metadata": {
        "id": "enFA9Uq2HU0a"
      }
    },
    {
      "cell_type": "markdown",
      "source": [
        "# **Pascal VOC (XML) to YOLO format**"
      ],
      "metadata": {
        "id": "AlC1bJCXD9nx"
      }
    },
    {
      "cell_type": "code",
      "source": [
        "import os\n",
        "import xml.etree.ElementTree as ET\n",
        "\n",
        "# Classes in the dataset\n",
        "CLASSES = ['apple', 'mango']\n",
        "\n",
        "# Input and output paths\n",
        "xml_folder = 'annotations_xml'\n",
        "output_labels = 'labels'\n",
        "\n",
        "os.makedirs(output_labels, exist_ok=True)\n",
        "\n",
        "# Function to convert\n",
        "\n",
        "\n",
        "def convert(xml_file):\n",
        "    tree = ET.parse(xml_file)\n",
        "    root = tree.getroot()\n",
        "\n",
        "    img_w = int(root.find('size/width').text)\n",
        "    img_h = int(root.find('size/height').text)\n",
        "\n",
        "    yolo_lines = []\n",
        "\n",
        "    for obj in root.findall('object'):\n",
        "        class_name = obj.find('name').text.lower()\n",
        "        if class_name not in CLASSES:\n",
        "            continue\n",
        "\n",
        "        class_id = CLASSES.index(class_name)\n",
        "\n",
        "        bndbox = obj.find('bndbox')\n",
        "        xmin = int(bndbox.find('xmin').text)\n",
        "        ymin = int(bndbox.find('ymin').text)\n",
        "        xmax = int(bndbox.find('xmax').text)\n",
        "        ymax = int(bndbox.find('ymax').text)\n",
        "\n",
        "        # Convert to YOLO format\n",
        "        x_center = (xmin + xmax) / 2.0 / img_w\n",
        "        y_center = (ymin + ymax) / 2.0 / img_h\n",
        "        width = (xmax - xmin) / img_w\n",
        "        height = (ymax - ymin) / img_h\n",
        "\n",
        "        yolo_lines.append(\n",
        "            f\"{class_id} {x_center:.6f} {y_center:.6f} {width:.6f} {height:.6f}\")\n",
        "\n",
        "    return yolo_lines\n",
        "\n",
        "\n",
        "# Process all XML files\n",
        "for file in os.listdir(xml_folder):\n",
        "    if file.endswith(\".xml\"):\n",
        "        xml_path = os.path.join(xml_folder, file)\n",
        "        yolo_data = convert(xml_path)\n",
        "\n",
        "        txt_filename = file.replace(\".xml\", \".txt\")\n",
        "        with open(os.path.join(output_labels, txt_filename), \"w\") as f:\n",
        "            f.write(\"\\n\".join(yolo_data))\n",
        "\n",
        "print(\"Conversion completed.\")\n"
      ],
      "metadata": {
        "id": "4cKHRObfEzDy"
      },
      "execution_count": null,
      "outputs": []
    },
    {
      "cell_type": "markdown",
      "source": [
        "# YOLOv8_Tutorial_Apple_vs_Mango"
      ],
      "metadata": {
        "id": "bELqCIunHWd5"
      }
    },
    {
      "cell_type": "markdown",
      "source": [
        "# upload and unzip dataset"
      ],
      "metadata": {
        "id": "j9OUcTu0FkPS"
      }
    },
    {
      "cell_type": "code",
      "source": [
        "# from google.colab import files\n",
        "# uploaded = files.upload()  # upload your zip file\n",
        "!unzip YOLO_dataset.zip\n"
      ],
      "metadata": {
        "colab": {
          "base_uri": "https://localhost:8080/"
        },
        "id": "jZbqc9SD975C",
        "outputId": "f857b02a-7334-409e-ddfc-584463028a0a"
      },
      "execution_count": 13,
      "outputs": [
        {
          "output_type": "stream",
          "name": "stdout",
          "text": [
            "Archive:  YOLO_dataset.zip\n",
            "replace YOLO_dataset/data.yaml? [y]es, [n]o, [A]ll, [N]one, [r]ename: N\n"
          ]
        }
      ]
    },
    {
      "cell_type": "markdown",
      "source": [
        "check annotation"
      ],
      "metadata": {
        "id": "Mw8YkwdJFmyh"
      }
    },
    {
      "cell_type": "code",
      "source": [
        "!head YOLO_dataset/labels/train/mango9.txt\n"
      ],
      "metadata": {
        "colab": {
          "base_uri": "https://localhost:8080/"
        },
        "id": "rvFsQ-oQA88x",
        "outputId": "254cad88-60b2-4292-ea07-942f395777cb"
      },
      "execution_count": 29,
      "outputs": [
        {
          "output_type": "stream",
          "name": "stdout",
          "text": [
            "1 0.500000 0.598361 0.607273 0.508197"
          ]
        }
      ]
    },
    {
      "cell_type": "markdown",
      "source": [
        "# Show your image and label"
      ],
      "metadata": {
        "id": "3Z0jGKyXFsu6"
      }
    },
    {
      "cell_type": "code",
      "source": [
        "import cv2\n",
        "import matplotlib.pyplot as plt\n",
        "\n",
        "def show_yolo_label(img_path, label_path, class_names=[\"apple\", \"mango\"]):\n",
        "    img = cv2.imread(img_path)\n",
        "    img = cv2.cvtColor(img, cv2.COLOR_BGR2RGB)\n",
        "    h, w, _ = img.shape\n",
        "\n",
        "    with open(label_path, 'r') as f:\n",
        "        lines = f.readlines()\n",
        "\n",
        "    for line in lines:\n",
        "        cls, x, y, bw, bh = map(float, line.strip().split())\n",
        "        x1 = int((x - bw/2) * w)\n",
        "        y1 = int((y - bh/2) * h)\n",
        "        x2 = int((x + bw/2) * w)\n",
        "        y2 = int((y + bh/2) * h)\n",
        "\n",
        "        label = class_names[int(cls)]\n",
        "        cv2.rectangle(img, (x1, y1), (x2, y2), (0,255,0), 2)\n",
        "        cv2.putText(img, label, (x1, y1 - 5), cv2.FONT_HERSHEY_SIMPLEX, 0.8, (255,0,0), 2)\n",
        "\n",
        "    plt.figure(figsize=(8,6))\n",
        "    plt.imshow(img)\n",
        "    plt.axis('off')\n",
        "    plt.show()\n",
        "\n",
        "# Show your image and label\n",
        "show_yolo_label(\"YOLO_dataset/images/train/mango9.jpeg\", \"YOLO_dataset/labels/train/mango9.txt\")\n"
      ],
      "metadata": {
        "colab": {
          "base_uri": "https://localhost:8080/",
          "height": 449
        },
        "id": "VObdM23eBJDi",
        "outputId": "fb697c42-9bf5-42b9-bcc7-efa4b612ee75"
      },
      "execution_count": 30,
      "outputs": [
        {
          "output_type": "display_data",
          "data": {
            "text/plain": [
              "<Figure size 800x600 with 1 Axes>"
            ],
            "image/png": "[encoded data removed]"
          },
          "metadata": {}
        }
      ]
    },
    {
      "cell_type": "code",
      "source": [
        "import cv2\n",
        "import matplotlib.pyplot as plt\n",
        "\n",
        "def show_yolo_label(img_path, label_path, class_names=[\"apple\", \"appleN\"]):\n",
        "    img = cv2.imread(img_path)\n",
        "    img = cv2.cvtColor(img, cv2.COLOR_BGR2RGB)\n",
        "    h, w, _ = img.shape\n",
        "\n",
        "    with open(label_path, 'r') as f:\n",
        "        lines = f.readlines()\n",
        "\n",
        "    for line in lines:\n",
        "        cls, x, y, bw, bh = map(float, line.strip().split())\n",
        "        x1 = int((x - bw/2) * w)\n",
        "        y1 = int((y - bh/2) * h)\n",
        "        x2 = int((x + bw/2) * w)\n",
        "        y2 = int((y + bh/2) * h)\n",
        "\n",
        "        label = class_names[int(cls)]\n",
        "        cv2.rectangle(img, (x1, y1), (x2, y2), (0,255,0), 2)\n",
        "        cv2.putText(img, label, (x1, y1 - 5), cv2.FONT_HERSHEY_SIMPLEX, 0.8, (255,0,0), 2)\n",
        "\n",
        "    plt.figure(figsize=(8,6))\n",
        "    plt.imshow(img)\n",
        "    plt.axis('off')\n",
        "    plt.show()\n",
        "\n",
        "# Show your image and label\n",
        "show_yolo_label(\"YOLO_dataset/images/train/apple9.jpeg\", \"YOLO_dataset/labels/train/apple9.txt\")\n"
      ],
      "metadata": {
        "colab": {
          "base_uri": "https://localhost:8080/",
          "height": 499
        },
        "id": "qefqPQc0BMla",
        "outputId": "a66363e9-124a-456d-fffb-10382360b656"
      },
      "execution_count": 36,
      "outputs": [
        {
          "output_type": "display_data",
          "data": {
            "text/plain": [
              "<Figure size 800x600 with 1 Axes>"
            ],
            "image/png": "[encoded data removed]"
          },
          "metadata": {}
        }
      ]
    },
    {
      "cell_type": "markdown",
      "source": [
        "# Train Model"
      ],
      "metadata": {
        "id": "EVFbSz6AFudy"
      }
    },
    {
      "cell_type": "code",
      "execution_count": 37,
      "metadata": {
        "colab": {
          "base_uri": "https://localhost:8080/"
        },
        "id": "UvqEwO214WTW",
        "outputId": "706bcec4-c097-4894-a30b-2b30f7f8e94f"
      },
      "outputs": [
        {
          "output_type": "stream",
          "name": "stdout",
          "text": [
            "Ultralytics 8.3.162 🚀 Python-3.11.13 torch-2.6.0+cu124 CUDA:0 (Tesla T4, 15095MiB)\n",
            "\u001b[34m\u001b[1mengine/trainer: \u001b[0magnostic_nms=False, amp=True, augment=False, auto_augment=randaugment, batch=4, bgr=0.0, box=7.5, cache=True, cfg=None, classes=None, close_mosaic=10, cls=0.5, conf=None, copy_paste=0.0, copy_paste_mode=flip, cos_lr=False, cutmix=0.0, data=YOLO_dataset/data.yaml, degrees=0.0, deterministic=True, device=None, dfl=1.5, dnn=False, dropout=0.0, dynamic=False, embed=None, epochs=200, erasing=0.4, exist_ok=False, fliplr=0.5, flipud=0.0, format=torchscript, fraction=1.0, freeze=None, half=False, hsv_h=0.015, hsv_s=0.7, hsv_v=0.4, imgsz=416, int8=False, iou=0.7, keras=False, kobj=1.0, line_width=None, lr0=0.01, lrf=0.01, mask_ratio=4, max_det=300, mixup=0.0, mode=train, model=yolov8n.pt, momentum=0.937, mosaic=1.0, multi_scale=False, name=mango_apple_detector8, nbs=64, nms=False, opset=None, optimize=False, optimizer=auto, overlap_mask=True, patience=20, perspective=0.0, plots=True, pose=12.0, pretrained=True, profile=False, project=runs/train, rect=False, resume=False, retina_masks=False, save=True, save_conf=False, save_crop=False, save_dir=runs/train/mango_apple_detector8, save_frames=False, save_json=False, save_period=10, save_txt=False, scale=0.5, seed=0, shear=0.0, show=False, show_boxes=True, show_conf=True, show_labels=True, simplify=True, single_cls=False, source=None, split=val, stream_buffer=False, task=detect, time=None, tracker=botsort.yaml, translate=0.1, val=True, verbose=True, vid_stride=1, visualize=False, warmup_bias_lr=0.1, warmup_epochs=3.0, warmup_momentum=0.8, weight_decay=0.0005, workers=8, workspace=None\n",
            "Overriding model.yaml nc=80 with nc=2\n",
            "\n",
            "                   from  n    params  module                                       arguments                     \n",
            "  0                  -1  1       464  ultralytics.nn.modules.conv.Conv             [3, 16, 3, 2]                 \n",
            "  1                  -1  1      4672  ultralytics.nn.modules.conv.Conv             [16, 32, 3, 2]                \n",
            "  2                  -1  1      7360  ultralytics.nn.modules.block.C2f             [32, 32, 1, True]             \n",
            "  3                  -1  1     18560  ultralytics.nn.modules.conv.Conv             [32, 64, 3, 2]                \n",
            "  4                  -1  2     49664  ultralytics.nn.modules.block.C2f             [64, 64, 2, True]             \n",
            "  5                  -1  1     73984  ultralytics.nn.modules.conv.Conv             [64, 128, 3, 2]               \n",
            "  6                  -1  2    197632  ultralytics.nn.modules.block.C2f             [128, 128, 2, True]           \n",
            "  7                  -1  1    295424  ultralytics.nn.modules.conv.Conv             [128, 256, 3, 2]              \n",
            "  8                  -1  1    460288  ultralytics.nn.modules.block.C2f             [256, 256, 1, True]           \n",
            "  9                  -1  1    164608  ultralytics.nn.modules.block.SPPF            [256, 256, 5]                 \n",
            " 10                  -1  1         0  torch.nn.modules.upsampling.Upsample         [None, 2, 'nearest']          \n",
            " 11             [-1, 6]  1         0  ultralytics.nn.modules.conv.Concat           [1]                           \n",
            " 12                  -1  1    148224  ultralytics.nn.modules.block.C2f             [384, 128, 1]                 \n",
            " 13                  -1  1         0  torch.nn.modules.upsampling.Upsample         [None, 2, 'nearest']          \n",
            " 14             [-1, 4]  1         0  ultralytics.nn.modules.conv.Concat           [1]                           \n",
            " 15                  -1  1     37248  ultralytics.nn.modules.block.C2f             [192, 64, 1]                  \n",
            " 16                  -1  1     36992  ultralytics.nn.modules.conv.Conv             [64, 64, 3, 2]                \n",
            " 17            [-1, 12]  1         0  ultralytics.nn.modules.conv.Concat           [1]                           \n",
            " 18                  -1  1    123648  ultralytics.nn.modules.block.C2f             [192, 128, 1]                 \n",
            " 19                  -1  1    147712  ultralytics.nn.modules.conv.Conv             [128, 128, 3, 2]              \n",
            " 20             [-1, 9]  1         0  ultralytics.nn.modules.conv.Concat           [1]                           \n",
            " 21                  -1  1    493056  ultralytics.nn.modules.block.C2f             [384, 256, 1]                 \n",
            " 22        [15, 18, 21]  1    751702  ultralytics.nn.modules.head.Detect           [2, [64, 128, 256]]           \n",
            "Model summary: 129 layers, 3,011,238 parameters, 3,011,222 gradients, 8.2 GFLOPs\n",
            "\n",
            "Transferred 319/355 items from pretrained weights\n",
            "Freezing layer 'model.22.dfl.conv.weight'\n",
            "\u001b[34m\u001b[1mAMP: \u001b[0mrunning Automatic Mixed Precision (AMP) checks...\n",
            "\u001b[34m\u001b[1mAMP: \u001b[0mchecks passed ✅\n",
            "\u001b[34m\u001b[1mtrain: \u001b[0mFast image access ✅ (ping: 0.0±0.0 ms, read: 200.4±99.3 MB/s, size: 5.0 KB)\n"
          ]
        },
        {
          "output_type": "stream",
          "name": "stderr",
          "text": [
            "\u001b[34m\u001b[1mtrain: \u001b[0mScanning /content/YOLO_dataset/labels/train.cache... 20 images, 0 backgrounds, 0 corrupt: 100%|██████████| 20/20 [00:00<?, ?it/s]"
          ]
        },
        {
          "output_type": "stream",
          "name": "stdout",
          "text": [
            "WARNING ⚠️ cache='ram' may produce non-deterministic training results. Consider cache='disk' as a deterministic alternative if your disk space allows.\n"
          ]
        },
        {
          "output_type": "stream",
          "name": "stderr",
          "text": [
            "\n",
            "\u001b[34m\u001b[1mtrain: \u001b[0mCaching images (0.0GB RAM): 100%|██████████| 20/20 [00:00<00:00, 2801.24it/s]"
          ]
        },
        {
          "output_type": "stream",
          "name": "stdout",
          "text": [
            "\u001b[34m\u001b[1malbumentations: \u001b[0mBlur(p=0.01, blur_limit=(3, 7)), MedianBlur(p=0.01, blur_limit=(3, 7)), ToGray(p=0.01, method='weighted_average', num_output_channels=3), CLAHE(p=0.01, clip_limit=(1.0, 4.0), tile_grid_size=(8, 8))\n"
          ]
        },
        {
          "output_type": "stream",
          "name": "stderr",
          "text": [
            "\n"
          ]
        },
        {
          "output_type": "stream",
          "name": "stdout",
          "text": [
            "\u001b[34m\u001b[1mval: \u001b[0mFast image access ✅ (ping: 0.0±0.0 ms, read: 75.5±31.7 MB/s, size: 4.5 KB)\n"
          ]
        },
        {
          "output_type": "stream",
          "name": "stderr",
          "text": [
            "\u001b[34m\u001b[1mval: \u001b[0mScanning /content/YOLO_dataset/labels/train.cache... 20 images, 0 backgrounds, 0 corrupt: 100%|██████████| 20/20 [00:00<?, ?it/s]\n"
          ]
        },
        {
          "output_type": "stream",
          "name": "stdout",
          "text": [
            "WARNING ⚠️ cache='ram' may produce non-deterministic training results. Consider cache='disk' as a deterministic alternative if your disk space allows.\n"
          ]
        },
        {
          "output_type": "stream",
          "name": "stderr",
          "text": [
            "\u001b[34m\u001b[1mval: \u001b[0mCaching images (0.0GB RAM): 100%|██████████| 20/20 [00:00<00:00, 185.58it/s]\n"
          ]
        },
        {
          "output_type": "stream",
          "name": "stdout",
          "text": [
            "Plotting labels to runs/train/mango_apple_detector8/labels.jpg... \n",
            "\u001b[34m\u001b[1moptimizer:\u001b[0m 'optimizer=auto' found, ignoring 'lr0=0.01' and 'momentum=0.937' and determining best 'optimizer', 'lr0' and 'momentum' automatically... \n",
            "\u001b[34m\u001b[1moptimizer:\u001b[0m AdamW(lr=0.001667, momentum=0.9) with parameter groups 57 weight(decay=0.0), 64 weight(decay=0.0005), 63 bias(decay=0.0)\n",
            "Image sizes 416 train, 416 val\n",
            "Using 2 dataloader workers\n",
            "Logging results to \u001b[1mruns/train/mango_apple_detector8\u001b[0m\n",
            "Starting training for 200 epochs...\n",
            "\n",
            "      Epoch    GPU_mem   box_loss   cls_loss   dfl_loss  Instances       Size\n"
          ]
        },
        {
          "output_type": "stream",
          "name": "stderr",
          "text": [
            "      1/200     0.396G       0.95      2.725      1.264         12        416: 100%|██████████| 5/5 [00:00<00:00,  8.53it/s]\n",
            "                 Class     Images  Instances      Box(P          R      mAP50  mAP50-95): 100%|██████████| 3/3 [00:00<00:00, 12.29it/s]"
          ]
        },
        {
          "output_type": "stream",
          "name": "stdout",
          "text": [
            "                   all         20         20    0.00424          1      0.427      0.244\n"
          ]
        },
        {
          "output_type": "stream",
          "name": "stderr",
          "text": [
            "\n"
          ]
        },
        {
          "output_type": "stream",
          "name": "stdout",
          "text": [
            "\n",
            "      Epoch    GPU_mem   box_loss   cls_loss   dfl_loss  Instances       Size\n"
          ]
        },
        {
          "output_type": "stream",
          "name": "stderr",
          "text": [
            "      2/200     0.396G     0.9524      2.715      1.255         13        416: 100%|██████████| 5/5 [00:00<00:00,  9.40it/s]\n",
            "                 Class     Images  Instances      Box(P          R      mAP50  mAP50-95): 100%|██████████| 3/3 [00:00<00:00, 17.12it/s]"
          ]
        },
        {
          "output_type": "stream",
          "name": "stdout",
          "text": [
            "                   all         20         20    0.00366          1      0.554      0.333\n"
          ]
        },
        {
          "output_type": "stream",
          "name": "stderr",
          "text": [
            "\n"
          ]
        },
        {
          "output_type": "stream",
          "name": "stdout",
          "text": [
            "\n",
            "      Epoch    GPU_mem   box_loss   cls_loss   dfl_loss  Instances       Size\n"
          ]
        },
        {
          "output_type": "stream",
          "name": "stderr",
          "text": [
            "      3/200       0.4G      0.826      2.615      1.256         14        416: 100%|██████████| 5/5 [00:00<00:00,  8.67it/s]\n",
            "                 Class     Images  Instances      Box(P          R      mAP50  mAP50-95): 100%|██████████| 3/3 [00:00<00:00, 17.41it/s]"
          ]
        },
        {
          "output_type": "stream",
          "name": "stdout",
          "text": [
            "                   all         20         20    0.00352          1      0.605      0.456\n"
          ]
        },
        {
          "output_type": "stream",
          "name": "stderr",
          "text": [
            "\n"
          ]
        },
        {
          "output_type": "stream",
          "name": "stdout",
          "text": [
            "\n",
            "      Epoch    GPU_mem   box_loss   cls_loss   dfl_loss  Instances       Size\n"
          ]
        },
        {
          "output_type": "stream",
          "name": "stderr",
          "text": [
            "      4/200     0.402G     0.9824      2.555      1.303         11        416: 100%|██████████| 5/5 [00:00<00:00,  6.96it/s]\n",
            "                 Class     Images  Instances      Box(P          R      mAP50  mAP50-95): 100%|██████████| 3/3 [00:00<00:00, 16.79it/s]"
          ]
        },
        {
          "output_type": "stream",
          "name": "stdout",
          "text": [
            "                   all         20         20    0.00335          1      0.569      0.458\n"
          ]
        },
        {
          "output_type": "stream",
          "name": "stderr",
          "text": [
            "\n"
          ]
        },
        {
          "output_type": "stream",
          "name": "stdout",
          "text": [
            "\n",
            "      Epoch    GPU_mem   box_loss   cls_loss   dfl_loss  Instances       Size\n"
          ]
        },
        {
          "output_type": "stream",
          "name": "stderr",
          "text": [
            "      5/200     0.402G     0.9355      2.239      1.328         15        416: 100%|██████████| 5/5 [00:00<00:00,  9.72it/s]\n",
            "                 Class     Images  Instances      Box(P          R      mAP50  mAP50-95): 100%|██████████| 3/3 [00:00<00:00, 12.23it/s]"
          ]
        },
        {
          "output_type": "stream",
          "name": "stdout",
          "text": [
            "                   all         20         20    0.00342          1      0.592      0.472\n"
          ]
        },
        {
          "output_type": "stream",
          "name": "stderr",
          "text": [
            "\n"
          ]
        },
        {
          "output_type": "stream",
          "name": "stdout",
          "text": [
            "\n",
            "      Epoch    GPU_mem   box_loss   cls_loss   dfl_loss  Instances       Size\n"
          ]
        },
        {
          "output_type": "stream",
          "name": "stderr",
          "text": [
            "      6/200     0.402G     0.8889      2.096      1.279          8        416: 100%|██████████| 5/5 [00:00<00:00, 11.10it/s]\n",
            "                 Class     Images  Instances      Box(P          R      mAP50  mAP50-95): 100%|██████████| 3/3 [00:00<00:00, 16.04it/s]"
          ]
        },
        {
          "output_type": "stream",
          "name": "stdout",
          "text": [
            "                   all         20         20    0.00346          1      0.601      0.471\n"
          ]
        },
        {
          "output_type": "stream",
          "name": "stderr",
          "text": [
            "\n"
          ]
        },
        {
          "output_type": "stream",
          "name": "stdout",
          "text": [
            "\n",
            "      Epoch    GPU_mem   box_loss   cls_loss   dfl_loss  Instances       Size\n"
          ]
        },
        {
          "output_type": "stream",
          "name": "stderr",
          "text": [
            "      7/200     0.402G     0.8509       1.86      1.326         13        416: 100%|██████████| 5/5 [00:00<00:00, 12.02it/s]\n",
            "                 Class     Images  Instances      Box(P          R      mAP50  mAP50-95): 100%|██████████| 3/3 [00:00<00:00, 16.74it/s]"
          ]
        },
        {
          "output_type": "stream",
          "name": "stdout",
          "text": [
            "                   all         20         20      0.493        0.5      0.582       0.43\n"
          ]
        },
        {
          "output_type": "stream",
          "name": "stderr",
          "text": [
            "\n"
          ]
        },
        {
          "output_type": "stream",
          "name": "stdout",
          "text": [
            "\n",
            "      Epoch    GPU_mem   box_loss   cls_loss   dfl_loss  Instances       Size\n"
          ]
        },
        {
          "output_type": "stream",
          "name": "stderr",
          "text": [
            "      8/200     0.402G     0.9694      2.019       1.39          9        416: 100%|██████████| 5/5 [00:00<00:00, 10.73it/s]\n",
            "                 Class     Images  Instances      Box(P          R      mAP50  mAP50-95): 100%|██████████| 3/3 [00:00<00:00, 17.60it/s]"
          ]
        },
        {
          "output_type": "stream",
          "name": "stdout",
          "text": [
            "                   all         20         20      0.493        0.5      0.582       0.43\n"
          ]
        },
        {
          "output_type": "stream",
          "name": "stderr",
          "text": [
            "\n"
          ]
        },
        {
          "output_type": "stream",
          "name": "stdout",
          "text": [
            "\n",
            "      Epoch    GPU_mem   box_loss   cls_loss   dfl_loss  Instances       Size\n"
          ]
        },
        {
          "output_type": "stream",
          "name": "stderr",
          "text": [
            "      9/200     0.402G      1.071       1.88      1.435         14        416: 100%|██████████| 5/5 [00:00<00:00, 11.26it/s]\n",
            "                 Class     Images  Instances      Box(P          R      mAP50  mAP50-95): 100%|██████████| 3/3 [00:00<00:00, 11.60it/s]"
          ]
        },
        {
          "output_type": "stream",
          "name": "stdout",
          "text": [
            "                   all         20         20      0.466        0.6        0.6      0.437\n"
          ]
        },
        {
          "output_type": "stream",
          "name": "stderr",
          "text": [
            "\n"
          ]
        },
        {
          "output_type": "stream",
          "name": "stdout",
          "text": [
            "\n",
            "      Epoch    GPU_mem   box_loss   cls_loss   dfl_loss  Instances       Size\n"
          ]
        },
        {
          "output_type": "stream",
          "name": "stderr",
          "text": [
            "     10/200     0.402G     0.8557      1.488      1.303         11        416: 100%|██████████| 5/5 [00:00<00:00,  8.07it/s]\n",
            "                 Class     Images  Instances      Box(P          R      mAP50  mAP50-95): 100%|██████████| 3/3 [00:00<00:00,  8.08it/s]"
          ]
        },
        {
          "output_type": "stream",
          "name": "stdout",
          "text": [
            "                   all         20         20       0.41       0.75      0.666      0.497\n"
          ]
        },
        {
          "output_type": "stream",
          "name": "stderr",
          "text": [
            "\n"
          ]
        },
        {
          "output_type": "stream",
          "name": "stdout",
          "text": [
            "\n",
            "      Epoch    GPU_mem   box_loss   cls_loss   dfl_loss  Instances       Size\n"
          ]
        },
        {
          "output_type": "stream",
          "name": "stderr",
          "text": [
            "     11/200     0.402G     0.9423      1.596      1.284          8        416: 100%|██████████| 5/5 [00:00<00:00, 10.20it/s]\n",
            "                 Class     Images  Instances      Box(P          R      mAP50  mAP50-95): 100%|██████████| 3/3 [00:00<00:00, 12.52it/s]"
          ]
        },
        {
          "output_type": "stream",
          "name": "stdout",
          "text": [
            "                   all         20         20       0.41       0.75      0.666      0.497\n"
          ]
        },
        {
          "output_type": "stream",
          "name": "stderr",
          "text": [
            "\n"
          ]
        },
        {
          "output_type": "stream",
          "name": "stdout",
          "text": [
            "\n",
            "      Epoch    GPU_mem   box_loss   cls_loss   dfl_loss  Instances       Size\n"
          ]
        },
        {
          "output_type": "stream",
          "name": "stderr",
          "text": [
            "     12/200     0.402G     0.8151      1.716      1.242         10        416: 100%|██████████| 5/5 [00:00<00:00, 11.86it/s]\n",
            "                 Class     Images  Instances      Box(P          R      mAP50  mAP50-95): 100%|██████████| 3/3 [00:00<00:00, 12.22it/s]"
          ]
        },
        {
          "output_type": "stream",
          "name": "stdout",
          "text": [
            "                   all         20         20      0.409       0.65      0.759       0.59\n"
          ]
        },
        {
          "output_type": "stream",
          "name": "stderr",
          "text": [
            "\n"
          ]
        },
        {
          "output_type": "stream",
          "name": "stdout",
          "text": [
            "\n",
            "      Epoch    GPU_mem   box_loss   cls_loss   dfl_loss  Instances       Size\n"
          ]
        },
        {
          "output_type": "stream",
          "name": "stderr",
          "text": [
            "     13/200     0.402G     0.8151      1.601      1.194         16        416: 100%|██████████| 5/5 [00:00<00:00, 11.73it/s]\n",
            "                 Class     Images  Instances      Box(P          R      mAP50  mAP50-95): 100%|██████████| 3/3 [00:00<00:00, 15.36it/s]\n"
          ]
        },
        {
          "output_type": "stream",
          "name": "stdout",
          "text": [
            "                   all         20         20      0.409       0.65      0.759       0.59\n",
            "\n",
            "      Epoch    GPU_mem   box_loss   cls_loss   dfl_loss  Instances       Size\n"
          ]
        },
        {
          "output_type": "stream",
          "name": "stderr",
          "text": [
            "     14/200     0.402G     0.9533      1.511      1.314         14        416: 100%|██████████| 5/5 [00:00<00:00, 12.47it/s]\n",
            "                 Class     Images  Instances      Box(P          R      mAP50  mAP50-95): 100%|██████████| 3/3 [00:00<00:00, 17.01it/s]\n"
          ]
        },
        {
          "output_type": "stream",
          "name": "stdout",
          "text": [
            "                   all         20         20      0.409       0.65      0.759       0.59\n",
            "\n",
            "      Epoch    GPU_mem   box_loss   cls_loss   dfl_loss  Instances       Size\n"
          ]
        },
        {
          "output_type": "stream",
          "name": "stderr",
          "text": [
            "     15/200     0.402G     0.7796      1.384      1.224          8        416: 100%|██████████| 5/5 [00:00<00:00, 12.24it/s]\n",
            "                 Class     Images  Instances      Box(P          R      mAP50  mAP50-95): 100%|██████████| 3/3 [00:00<00:00, 17.16it/s]"
          ]
        },
        {
          "output_type": "stream",
          "name": "stdout",
          "text": [
            "                   all         20         20      0.857      0.947      0.962      0.752\n"
          ]
        },
        {
          "output_type": "stream",
          "name": "stderr",
          "text": [
            "\n"
          ]
        },
        {
          "output_type": "stream",
          "name": "stdout",
          "text": [
            "\n",
            "      Epoch    GPU_mem   box_loss   cls_loss   dfl_loss  Instances       Size\n"
          ]
        },
        {
          "output_type": "stream",
          "name": "stderr",
          "text": [
            "     16/200     0.402G     0.8646      1.309      1.236          9        416: 100%|██████████| 5/5 [00:00<00:00, 12.75it/s]\n",
            "                 Class     Images  Instances      Box(P          R      mAP50  mAP50-95): 100%|██████████| 3/3 [00:00<00:00, 12.09it/s]"
          ]
        },
        {
          "output_type": "stream",
          "name": "stdout",
          "text": [
            "                   all         20         20      0.857      0.947      0.962      0.752\n"
          ]
        },
        {
          "output_type": "stream",
          "name": "stderr",
          "text": [
            "\n"
          ]
        },
        {
          "output_type": "stream",
          "name": "stdout",
          "text": [
            "\n",
            "      Epoch    GPU_mem   box_loss   cls_loss   dfl_loss  Instances       Size\n"
          ]
        },
        {
          "output_type": "stream",
          "name": "stderr",
          "text": [
            "     17/200     0.406G     0.8778      1.242      1.266          9        416: 100%|██████████| 5/5 [00:00<00:00, 12.05it/s]\n",
            "                 Class     Images  Instances      Box(P          R      mAP50  mAP50-95): 100%|██████████| 3/3 [00:00<00:00, 16.79it/s]"
          ]
        },
        {
          "output_type": "stream",
          "name": "stdout",
          "text": [
            "                   all         20         20      0.857      0.947      0.962      0.752\n"
          ]
        },
        {
          "output_type": "stream",
          "name": "stderr",
          "text": [
            "\n"
          ]
        },
        {
          "output_type": "stream",
          "name": "stdout",
          "text": [
            "\n",
            "      Epoch    GPU_mem   box_loss   cls_loss   dfl_loss  Instances       Size\n"
          ]
        },
        {
          "output_type": "stream",
          "name": "stderr",
          "text": [
            "     18/200     0.424G     0.9583      1.334      1.313         12        416: 100%|██████████| 5/5 [00:00<00:00, 10.03it/s]\n",
            "                 Class     Images  Instances      Box(P          R      mAP50  mAP50-95): 100%|██████████| 3/3 [00:00<00:00, 16.22it/s]\n"
          ]
        },
        {
          "output_type": "stream",
          "name": "stdout",
          "text": [
            "                   all         20         20      0.961      0.691      0.969      0.716\n",
            "\n",
            "      Epoch    GPU_mem   box_loss   cls_loss   dfl_loss  Instances       Size\n"
          ]
        },
        {
          "output_type": "stream",
          "name": "stderr",
          "text": [
            "     19/200     0.424G     0.9348      1.356      1.193         10        416: 100%|██████████| 5/5 [00:00<00:00, 10.51it/s]\n",
            "                 Class     Images  Instances      Box(P          R      mAP50  mAP50-95): 100%|██████████| 3/3 [00:00<00:00, 17.23it/s]"
          ]
        },
        {
          "output_type": "stream",
          "name": "stdout",
          "text": [
            "                   all         20         20      0.961      0.691      0.969      0.716\n"
          ]
        },
        {
          "output_type": "stream",
          "name": "stderr",
          "text": [
            "\n"
          ]
        },
        {
          "output_type": "stream",
          "name": "stdout",
          "text": [
            "\n",
            "      Epoch    GPU_mem   box_loss   cls_loss   dfl_loss  Instances       Size\n"
          ]
        },
        {
          "output_type": "stream",
          "name": "stderr",
          "text": [
            "     20/200     0.424G     0.8904      1.176       1.23         15        416: 100%|██████████| 5/5 [00:00<00:00, 10.62it/s]\n",
            "                 Class     Images  Instances      Box(P          R      mAP50  mAP50-95): 100%|██████████| 3/3 [00:00<00:00, 17.53it/s]"
          ]
        },
        {
          "output_type": "stream",
          "name": "stdout",
          "text": [
            "                   all         20         20      0.961      0.691      0.969      0.716\n"
          ]
        },
        {
          "output_type": "stream",
          "name": "stderr",
          "text": [
            "\n"
          ]
        },
        {
          "output_type": "stream",
          "name": "stdout",
          "text": [
            "\n",
            "      Epoch    GPU_mem   box_loss   cls_loss   dfl_loss  Instances       Size\n"
          ]
        },
        {
          "output_type": "stream",
          "name": "stderr",
          "text": [
            "     21/200     0.424G     0.8463       1.23      1.283          7        416: 100%|██████████| 5/5 [00:00<00:00, 11.79it/s]\n",
            "                 Class     Images  Instances      Box(P          R      mAP50  mAP50-95): 100%|██████████| 3/3 [00:00<00:00, 16.22it/s]\n"
          ]
        },
        {
          "output_type": "stream",
          "name": "stdout",
          "text": [
            "                   all         20         20      0.973       0.94      0.983      0.787\n",
            "\n",
            "      Epoch    GPU_mem   box_loss   cls_loss   dfl_loss  Instances       Size\n"
          ]
        },
        {
          "output_type": "stream",
          "name": "stderr",
          "text": [
            "     22/200     0.439G     0.8731      1.188      1.246         13        416: 100%|██████████| 5/5 [00:00<00:00,  6.98it/s]\n",
            "                 Class     Images  Instances      Box(P          R      mAP50  mAP50-95): 100%|██████████| 3/3 [00:00<00:00, 13.14it/s]"
          ]
        },
        {
          "output_type": "stream",
          "name": "stdout",
          "text": [
            "                   all         20         20      0.973       0.94      0.983      0.787\n"
          ]
        },
        {
          "output_type": "stream",
          "name": "stderr",
          "text": [
            "\n"
          ]
        },
        {
          "output_type": "stream",
          "name": "stdout",
          "text": [
            "\n",
            "      Epoch    GPU_mem   box_loss   cls_loss   dfl_loss  Instances       Size\n"
          ]
        },
        {
          "output_type": "stream",
          "name": "stderr",
          "text": [
            "     23/200     0.457G     0.9078      1.091      1.321         12        416: 100%|██████████| 5/5 [00:00<00:00,  6.71it/s]\n",
            "                 Class     Images  Instances      Box(P          R      mAP50  mAP50-95): 100%|██████████| 3/3 [00:00<00:00, 17.55it/s]"
          ]
        },
        {
          "output_type": "stream",
          "name": "stdout",
          "text": [
            "                   all         20         20      0.973       0.94      0.983      0.787\n"
          ]
        },
        {
          "output_type": "stream",
          "name": "stderr",
          "text": [
            "\n"
          ]
        },
        {
          "output_type": "stream",
          "name": "stdout",
          "text": [
            "\n",
            "      Epoch    GPU_mem   box_loss   cls_loss   dfl_loss  Instances       Size\n"
          ]
        },
        {
          "output_type": "stream",
          "name": "stderr",
          "text": [
            "     24/200     0.457G     0.8202      1.129       1.21         11        416: 100%|██████████| 5/5 [00:00<00:00,  9.98it/s]\n",
            "                 Class     Images  Instances      Box(P          R      mAP50  mAP50-95): 100%|██████████| 3/3 [00:00<00:00, 12.82it/s]"
          ]
        },
        {
          "output_type": "stream",
          "name": "stdout",
          "text": [
            "                   all         20         20      0.654          1      0.929      0.705\n"
          ]
        },
        {
          "output_type": "stream",
          "name": "stderr",
          "text": [
            "\n"
          ]
        },
        {
          "output_type": "stream",
          "name": "stdout",
          "text": [
            "\n",
            "      Epoch    GPU_mem   box_loss   cls_loss   dfl_loss  Instances       Size\n"
          ]
        },
        {
          "output_type": "stream",
          "name": "stderr",
          "text": [
            "     25/200     0.457G     0.8406      1.097      1.206         14        416: 100%|██████████| 5/5 [00:00<00:00, 12.47it/s]\n",
            "                 Class     Images  Instances      Box(P          R      mAP50  mAP50-95): 100%|██████████| 3/3 [00:00<00:00, 16.90it/s]"
          ]
        },
        {
          "output_type": "stream",
          "name": "stdout",
          "text": [
            "                   all         20         20      0.654          1      0.929      0.705\n"
          ]
        },
        {
          "output_type": "stream",
          "name": "stderr",
          "text": [
            "\n"
          ]
        },
        {
          "output_type": "stream",
          "name": "stdout",
          "text": [
            "\n",
            "      Epoch    GPU_mem   box_loss   cls_loss   dfl_loss  Instances       Size\n"
          ]
        },
        {
          "output_type": "stream",
          "name": "stderr",
          "text": [
            "     26/200     0.457G      0.908      1.115      1.263         13        416: 100%|██████████| 5/5 [00:00<00:00, 12.12it/s]\n",
            "                 Class     Images  Instances      Box(P          R      mAP50  mAP50-95): 100%|██████████| 3/3 [00:00<00:00, 17.67it/s]"
          ]
        },
        {
          "output_type": "stream",
          "name": "stdout",
          "text": [
            "                   all         20         20      0.654          1      0.929      0.705\n"
          ]
        },
        {
          "output_type": "stream",
          "name": "stderr",
          "text": [
            "\n"
          ]
        },
        {
          "output_type": "stream",
          "name": "stdout",
          "text": [
            "\n",
            "      Epoch    GPU_mem   box_loss   cls_loss   dfl_loss  Instances       Size\n"
          ]
        },
        {
          "output_type": "stream",
          "name": "stderr",
          "text": [
            "     27/200     0.475G     0.8983      1.224      1.267         14        416: 100%|██████████| 5/5 [00:00<00:00, 12.36it/s]\n",
            "                 Class     Images  Instances      Box(P          R      mAP50  mAP50-95): 100%|██████████| 3/3 [00:00<00:00, 15.72it/s]"
          ]
        },
        {
          "output_type": "stream",
          "name": "stdout",
          "text": [
            "                   all         20         20      0.706      0.923      0.949       0.75\n"
          ]
        },
        {
          "output_type": "stream",
          "name": "stderr",
          "text": [
            "\n"
          ]
        },
        {
          "output_type": "stream",
          "name": "stdout",
          "text": [
            "\n",
            "      Epoch    GPU_mem   box_loss   cls_loss   dfl_loss  Instances       Size\n"
          ]
        },
        {
          "output_type": "stream",
          "name": "stderr",
          "text": [
            "     28/200     0.475G     0.8543      1.189      1.175         11        416: 100%|██████████| 5/5 [00:00<00:00, 11.87it/s]\n",
            "                 Class     Images  Instances      Box(P          R      mAP50  mAP50-95): 100%|██████████| 3/3 [00:00<00:00, 16.68it/s]\n"
          ]
        },
        {
          "output_type": "stream",
          "name": "stdout",
          "text": [
            "                   all         20         20      0.706      0.923      0.949       0.75\n",
            "\n",
            "      Epoch    GPU_mem   box_loss   cls_loss   dfl_loss  Instances       Size\n"
          ]
        },
        {
          "output_type": "stream",
          "name": "stderr",
          "text": [
            "     29/200     0.475G     0.7845      1.045       1.16         13        416: 100%|██████████| 5/5 [00:00<00:00, 12.73it/s]\n",
            "                 Class     Images  Instances      Box(P          R      mAP50  mAP50-95): 100%|██████████| 3/3 [00:00<00:00, 16.06it/s]\n"
          ]
        },
        {
          "output_type": "stream",
          "name": "stdout",
          "text": [
            "                   all         20         20      0.706      0.923      0.949       0.75\n",
            "\n",
            "      Epoch    GPU_mem   box_loss   cls_loss   dfl_loss  Instances       Size\n"
          ]
        },
        {
          "output_type": "stream",
          "name": "stderr",
          "text": [
            "     30/200     0.475G     0.8213       1.05        1.2         10        416: 100%|██████████| 5/5 [00:00<00:00, 11.29it/s]\n",
            "                 Class     Images  Instances      Box(P          R      mAP50  mAP50-95): 100%|██████████| 3/3 [00:00<00:00, 16.45it/s]\n"
          ]
        },
        {
          "output_type": "stream",
          "name": "stdout",
          "text": [
            "                   all         20         20      0.715       0.85       0.85      0.632\n",
            "\n",
            "      Epoch    GPU_mem   box_loss   cls_loss   dfl_loss  Instances       Size\n"
          ]
        },
        {
          "output_type": "stream",
          "name": "stderr",
          "text": [
            "     31/200     0.475G      0.852       1.12      1.184         16        416: 100%|██████████| 5/5 [00:00<00:00, 12.69it/s]\n",
            "                 Class     Images  Instances      Box(P          R      mAP50  mAP50-95): 100%|██████████| 3/3 [00:00<00:00, 17.46it/s]"
          ]
        },
        {
          "output_type": "stream",
          "name": "stdout",
          "text": [
            "                   all         20         20      0.715       0.85       0.85      0.632\n"
          ]
        },
        {
          "output_type": "stream",
          "name": "stderr",
          "text": [
            "\n"
          ]
        },
        {
          "output_type": "stream",
          "name": "stdout",
          "text": [
            "\n",
            "      Epoch    GPU_mem   box_loss   cls_loss   dfl_loss  Instances       Size\n"
          ]
        },
        {
          "output_type": "stream",
          "name": "stderr",
          "text": [
            "     32/200     0.475G      0.856      1.074      1.221         10        416: 100%|██████████| 5/5 [00:00<00:00, 12.54it/s]\n",
            "                 Class     Images  Instances      Box(P          R      mAP50  mAP50-95): 100%|██████████| 3/3 [00:00<00:00, 17.57it/s]"
          ]
        },
        {
          "output_type": "stream",
          "name": "stdout",
          "text": [
            "                   all         20         20      0.715       0.85       0.85      0.632\n"
          ]
        },
        {
          "output_type": "stream",
          "name": "stderr",
          "text": [
            "\n"
          ]
        },
        {
          "output_type": "stream",
          "name": "stdout",
          "text": [
            "\n",
            "      Epoch    GPU_mem   box_loss   cls_loss   dfl_loss  Instances       Size\n"
          ]
        },
        {
          "output_type": "stream",
          "name": "stderr",
          "text": [
            "     33/200     0.475G     0.8682      1.199       1.21          6        416: 100%|██████████| 5/5 [00:00<00:00,  8.83it/s]\n",
            "                 Class     Images  Instances      Box(P          R      mAP50  mAP50-95): 100%|██████████| 3/3 [00:00<00:00, 17.70it/s]"
          ]
        },
        {
          "output_type": "stream",
          "name": "stdout",
          "text": [
            "                   all         20         20      0.715       0.85       0.85      0.632\n"
          ]
        },
        {
          "output_type": "stream",
          "name": "stderr",
          "text": [
            "\n"
          ]
        },
        {
          "output_type": "stream",
          "name": "stdout",
          "text": [
            "\n",
            "      Epoch    GPU_mem   box_loss   cls_loss   dfl_loss  Instances       Size\n"
          ]
        },
        {
          "output_type": "stream",
          "name": "stderr",
          "text": [
            "     34/200     0.475G     0.8561      1.057      1.188         12        416: 100%|██████████| 5/5 [00:00<00:00,  7.75it/s]\n",
            "                 Class     Images  Instances      Box(P          R      mAP50  mAP50-95): 100%|██████████| 3/3 [00:00<00:00, 11.25it/s]"
          ]
        },
        {
          "output_type": "stream",
          "name": "stdout",
          "text": [
            "                   all         20         20      0.918          1       0.99       0.84\n"
          ]
        },
        {
          "output_type": "stream",
          "name": "stderr",
          "text": [
            "\n"
          ]
        },
        {
          "output_type": "stream",
          "name": "stdout",
          "text": [
            "\n",
            "      Epoch    GPU_mem   box_loss   cls_loss   dfl_loss  Instances       Size\n"
          ]
        },
        {
          "output_type": "stream",
          "name": "stderr",
          "text": [
            "     35/200     0.475G     0.7803      1.068      1.167          7        416: 100%|██████████| 5/5 [00:00<00:00,  6.55it/s]\n",
            "                 Class     Images  Instances      Box(P          R      mAP50  mAP50-95): 100%|██████████| 3/3 [00:00<00:00, 11.15it/s]"
          ]
        },
        {
          "output_type": "stream",
          "name": "stdout",
          "text": [
            "                   all         20         20      0.918          1       0.99       0.84\n"
          ]
        },
        {
          "output_type": "stream",
          "name": "stderr",
          "text": [
            "\n"
          ]
        },
        {
          "output_type": "stream",
          "name": "stdout",
          "text": [
            "\n",
            "      Epoch    GPU_mem   box_loss   cls_loss   dfl_loss  Instances       Size\n"
          ]
        },
        {
          "output_type": "stream",
          "name": "stderr",
          "text": [
            "     36/200     0.475G     0.8279      1.018      1.166         12        416: 100%|██████████| 5/5 [00:00<00:00, 10.02it/s]\n",
            "                 Class     Images  Instances      Box(P          R      mAP50  mAP50-95): 100%|██████████| 3/3 [00:00<00:00, 12.62it/s]"
          ]
        },
        {
          "output_type": "stream",
          "name": "stdout",
          "text": [
            "                   all         20         20      0.918          1       0.99       0.84\n"
          ]
        },
        {
          "output_type": "stream",
          "name": "stderr",
          "text": [
            "\n"
          ]
        },
        {
          "output_type": "stream",
          "name": "stdout",
          "text": [
            "\n",
            "      Epoch    GPU_mem   box_loss   cls_loss   dfl_loss  Instances       Size\n"
          ]
        },
        {
          "output_type": "stream",
          "name": "stderr",
          "text": [
            "     37/200     0.475G     0.7718     0.9731      1.162          8        416: 100%|██████████| 5/5 [00:00<00:00, 11.65it/s]\n",
            "                 Class     Images  Instances      Box(P          R      mAP50  mAP50-95): 100%|██████████| 3/3 [00:00<00:00, 11.94it/s]"
          ]
        },
        {
          "output_type": "stream",
          "name": "stdout",
          "text": [
            "                   all         20         20      0.917          1      0.995      0.837\n"
          ]
        },
        {
          "output_type": "stream",
          "name": "stderr",
          "text": [
            "\n"
          ]
        },
        {
          "output_type": "stream",
          "name": "stdout",
          "text": [
            "\n",
            "      Epoch    GPU_mem   box_loss   cls_loss   dfl_loss  Instances       Size\n"
          ]
        },
        {
          "output_type": "stream",
          "name": "stderr",
          "text": [
            "     38/200     0.475G     0.7714      1.023       1.16         10        416: 100%|██████████| 5/5 [00:00<00:00, 12.52it/s]\n",
            "                 Class     Images  Instances      Box(P          R      mAP50  mAP50-95): 100%|██████████| 3/3 [00:00<00:00, 16.25it/s]\n"
          ]
        },
        {
          "output_type": "stream",
          "name": "stdout",
          "text": [
            "                   all         20         20      0.917          1      0.995      0.837\n",
            "\n",
            "      Epoch    GPU_mem   box_loss   cls_loss   dfl_loss  Instances       Size\n"
          ]
        },
        {
          "output_type": "stream",
          "name": "stderr",
          "text": [
            "     39/200     0.475G     0.7506     0.9297      1.161         10        416: 100%|██████████| 5/5 [00:00<00:00, 12.53it/s]\n",
            "                 Class     Images  Instances      Box(P          R      mAP50  mAP50-95): 100%|██████████| 3/3 [00:00<00:00, 12.77it/s]"
          ]
        },
        {
          "output_type": "stream",
          "name": "stdout",
          "text": [
            "                   all         20         20      0.917          1      0.995      0.837\n"
          ]
        },
        {
          "output_type": "stream",
          "name": "stderr",
          "text": [
            "\n"
          ]
        },
        {
          "output_type": "stream",
          "name": "stdout",
          "text": [
            "\n",
            "      Epoch    GPU_mem   box_loss   cls_loss   dfl_loss  Instances       Size\n"
          ]
        },
        {
          "output_type": "stream",
          "name": "stderr",
          "text": [
            "     40/200     0.475G     0.6864     0.8938      1.098         11        416: 100%|██████████| 5/5 [00:00<00:00, 10.37it/s]\n",
            "                 Class     Images  Instances      Box(P          R      mAP50  mAP50-95): 100%|██████████| 3/3 [00:00<00:00, 17.15it/s]\n"
          ]
        },
        {
          "output_type": "stream",
          "name": "stdout",
          "text": [
            "                   all         20         20      0.984          1      0.995      0.814\n",
            "\n",
            "      Epoch    GPU_mem   box_loss   cls_loss   dfl_loss  Instances       Size\n"
          ]
        },
        {
          "output_type": "stream",
          "name": "stderr",
          "text": [
            "     41/200     0.475G     0.7209      1.088      1.072         15        416: 100%|██████████| 5/5 [00:00<00:00,  7.60it/s]\n",
            "                 Class     Images  Instances      Box(P          R      mAP50  mAP50-95): 100%|██████████| 3/3 [00:00<00:00,  5.28it/s]"
          ]
        },
        {
          "output_type": "stream",
          "name": "stdout",
          "text": [
            "                   all         20         20      0.984          1      0.995      0.814\n"
          ]
        },
        {
          "output_type": "stream",
          "name": "stderr",
          "text": [
            "\n"
          ]
        },
        {
          "output_type": "stream",
          "name": "stdout",
          "text": [
            "\n",
            "      Epoch    GPU_mem   box_loss   cls_loss   dfl_loss  Instances       Size\n"
          ]
        },
        {
          "output_type": "stream",
          "name": "stderr",
          "text": [
            "     42/200     0.475G     0.7298       1.01       1.22         14        416: 100%|██████████| 5/5 [00:00<00:00,  7.69it/s]\n",
            "                 Class     Images  Instances      Box(P          R      mAP50  mAP50-95): 100%|██████████| 3/3 [00:00<00:00,  8.44it/s]"
          ]
        },
        {
          "output_type": "stream",
          "name": "stdout",
          "text": [
            "                   all         20         20      0.984          1      0.995      0.814\n"
          ]
        },
        {
          "output_type": "stream",
          "name": "stderr",
          "text": [
            "\n"
          ]
        },
        {
          "output_type": "stream",
          "name": "stdout",
          "text": [
            "\n",
            "      Epoch    GPU_mem   box_loss   cls_loss   dfl_loss  Instances       Size\n"
          ]
        },
        {
          "output_type": "stream",
          "name": "stderr",
          "text": [
            "     43/200     0.475G     0.8429      1.145      1.177         13        416: 100%|██████████| 5/5 [00:00<00:00, 11.54it/s]\n",
            "                 Class     Images  Instances      Box(P          R      mAP50  mAP50-95): 100%|██████████| 3/3 [00:00<00:00, 12.78it/s]"
          ]
        },
        {
          "output_type": "stream",
          "name": "stdout",
          "text": [
            "                   all         20         20      0.993          1      0.995      0.768\n"
          ]
        },
        {
          "output_type": "stream",
          "name": "stderr",
          "text": [
            "\n"
          ]
        },
        {
          "output_type": "stream",
          "name": "stdout",
          "text": [
            "\n",
            "      Epoch    GPU_mem   box_loss   cls_loss   dfl_loss  Instances       Size\n"
          ]
        },
        {
          "output_type": "stream",
          "name": "stderr",
          "text": [
            "     44/200     0.475G     0.8029     0.9809      1.195         13        416: 100%|██████████| 5/5 [00:01<00:00,  4.99it/s]\n",
            "                 Class     Images  Instances      Box(P          R      mAP50  mAP50-95): 100%|██████████| 3/3 [00:00<00:00, 14.00it/s]"
          ]
        },
        {
          "output_type": "stream",
          "name": "stdout",
          "text": [
            "                   all         20         20      0.993          1      0.995      0.768\n"
          ]
        },
        {
          "output_type": "stream",
          "name": "stderr",
          "text": [
            "\n"
          ]
        },
        {
          "output_type": "stream",
          "name": "stdout",
          "text": [
            "\n",
            "      Epoch    GPU_mem   box_loss   cls_loss   dfl_loss  Instances       Size\n"
          ]
        },
        {
          "output_type": "stream",
          "name": "stderr",
          "text": [
            "     45/200     0.475G     0.8096     0.9381      1.225          8        416: 100%|██████████| 5/5 [00:00<00:00,  8.39it/s]\n",
            "                 Class     Images  Instances      Box(P          R      mAP50  mAP50-95): 100%|██████████| 3/3 [00:00<00:00,  8.11it/s]"
          ]
        },
        {
          "output_type": "stream",
          "name": "stdout",
          "text": [
            "                   all         20         20      0.993          1      0.995      0.768\n"
          ]
        },
        {
          "output_type": "stream",
          "name": "stderr",
          "text": [
            "\n"
          ]
        },
        {
          "output_type": "stream",
          "name": "stdout",
          "text": [
            "\n",
            "      Epoch    GPU_mem   box_loss   cls_loss   dfl_loss  Instances       Size\n"
          ]
        },
        {
          "output_type": "stream",
          "name": "stderr",
          "text": [
            "     46/200     0.475G     0.8559      1.056      1.204          8        416: 100%|██████████| 5/5 [00:00<00:00,  7.01it/s]\n",
            "                 Class     Images  Instances      Box(P          R      mAP50  mAP50-95): 100%|██████████| 3/3 [00:00<00:00, 17.40it/s]"
          ]
        },
        {
          "output_type": "stream",
          "name": "stdout",
          "text": [
            "                   all         20         20      0.898       0.95       0.97      0.796\n"
          ]
        },
        {
          "output_type": "stream",
          "name": "stderr",
          "text": [
            "\n"
          ]
        },
        {
          "output_type": "stream",
          "name": "stdout",
          "text": [
            "\n",
            "      Epoch    GPU_mem   box_loss   cls_loss   dfl_loss  Instances       Size\n"
          ]
        },
        {
          "output_type": "stream",
          "name": "stderr",
          "text": [
            "     47/200     0.475G     0.8467     0.9528      1.205         11        416: 100%|██████████| 5/5 [00:00<00:00,  9.69it/s]\n",
            "                 Class     Images  Instances      Box(P          R      mAP50  mAP50-95): 100%|██████████| 3/3 [00:00<00:00,  5.92it/s]"
          ]
        },
        {
          "output_type": "stream",
          "name": "stdout",
          "text": [
            "                   all         20         20      0.898       0.95       0.97      0.796\n"
          ]
        },
        {
          "output_type": "stream",
          "name": "stderr",
          "text": [
            "\n"
          ]
        },
        {
          "output_type": "stream",
          "name": "stdout",
          "text": [
            "\n",
            "      Epoch    GPU_mem   box_loss   cls_loss   dfl_loss  Instances       Size\n"
          ]
        },
        {
          "output_type": "stream",
          "name": "stderr",
          "text": [
            "     48/200     0.475G     0.7915     0.9784      1.155          8        416: 100%|██████████| 5/5 [00:00<00:00, 12.44it/s]\n",
            "                 Class     Images  Instances      Box(P          R      mAP50  mAP50-95): 100%|██████████| 3/3 [00:00<00:00, 16.64it/s]\n"
          ]
        },
        {
          "output_type": "stream",
          "name": "stdout",
          "text": [
            "                   all         20         20      0.898       0.95       0.97      0.796\n",
            "\n",
            "      Epoch    GPU_mem   box_loss   cls_loss   dfl_loss  Instances       Size\n"
          ]
        },
        {
          "output_type": "stream",
          "name": "stderr",
          "text": [
            "     49/200     0.475G     0.8688     0.9474      1.309         11        416: 100%|██████████| 5/5 [00:00<00:00, 12.09it/s]\n",
            "                 Class     Images  Instances      Box(P          R      mAP50  mAP50-95): 100%|██████████| 3/3 [00:00<00:00, 15.27it/s]\n"
          ]
        },
        {
          "output_type": "stream",
          "name": "stdout",
          "text": [
            "                   all         20         20      0.898       0.95       0.97      0.796\n",
            "\n",
            "      Epoch    GPU_mem   box_loss   cls_loss   dfl_loss  Instances       Size\n"
          ]
        },
        {
          "output_type": "stream",
          "name": "stderr",
          "text": [
            "     50/200     0.475G     0.6934     0.8326      1.087          9        416: 100%|██████████| 5/5 [00:00<00:00, 10.79it/s]\n",
            "                 Class     Images  Instances      Box(P          R      mAP50  mAP50-95): 100%|██████████| 3/3 [00:00<00:00, 11.29it/s]"
          ]
        },
        {
          "output_type": "stream",
          "name": "stdout",
          "text": [
            "                   all         20         20      0.845       0.95       0.95      0.828\n"
          ]
        },
        {
          "output_type": "stream",
          "name": "stderr",
          "text": [
            "\n"
          ]
        },
        {
          "output_type": "stream",
          "name": "stdout",
          "text": [
            "\n",
            "      Epoch    GPU_mem   box_loss   cls_loss   dfl_loss  Instances       Size\n"
          ]
        },
        {
          "output_type": "stream",
          "name": "stderr",
          "text": [
            "     51/200     0.475G     0.8654       1.09      1.224         10        416: 100%|██████████| 5/5 [00:00<00:00, 10.55it/s]\n",
            "                 Class     Images  Instances      Box(P          R      mAP50  mAP50-95): 100%|██████████| 3/3 [00:00<00:00, 16.00it/s]"
          ]
        },
        {
          "output_type": "stream",
          "name": "stdout",
          "text": [
            "                   all         20         20      0.845       0.95       0.95      0.828\n"
          ]
        },
        {
          "output_type": "stream",
          "name": "stderr",
          "text": [
            "\n"
          ]
        },
        {
          "output_type": "stream",
          "name": "stdout",
          "text": [
            "\n",
            "      Epoch    GPU_mem   box_loss   cls_loss   dfl_loss  Instances       Size\n"
          ]
        },
        {
          "output_type": "stream",
          "name": "stderr",
          "text": [
            "     52/200     0.475G     0.7896     0.9002      1.186          9        416: 100%|██████████| 5/5 [00:00<00:00, 11.06it/s]\n",
            "                 Class     Images  Instances      Box(P          R      mAP50  mAP50-95): 100%|██████████| 3/3 [00:00<00:00, 16.73it/s]\n"
          ]
        },
        {
          "output_type": "stream",
          "name": "stdout",
          "text": [
            "                   all         20         20      0.845       0.95       0.95      0.828\n",
            "\n",
            "      Epoch    GPU_mem   box_loss   cls_loss   dfl_loss  Instances       Size\n"
          ]
        },
        {
          "output_type": "stream",
          "name": "stderr",
          "text": [
            "     53/200     0.475G     0.7605      1.115      1.184         13        416: 100%|██████████| 5/5 [00:00<00:00,  7.98it/s]\n",
            "                 Class     Images  Instances      Box(P          R      mAP50  mAP50-95): 100%|██████████| 3/3 [00:00<00:00, 17.94it/s]"
          ]
        },
        {
          "output_type": "stream",
          "name": "stdout",
          "text": [
            "                   all         20         20      0.943       0.95      0.978      0.854\n"
          ]
        },
        {
          "output_type": "stream",
          "name": "stderr",
          "text": [
            "\n"
          ]
        },
        {
          "output_type": "stream",
          "name": "stdout",
          "text": [
            "\n",
            "      Epoch    GPU_mem   box_loss   cls_loss   dfl_loss  Instances       Size\n"
          ]
        },
        {
          "output_type": "stream",
          "name": "stderr",
          "text": [
            "     54/200     0.475G     0.8185     0.9243      1.178         10        416: 100%|██████████| 5/5 [00:00<00:00,  7.80it/s]\n",
            "                 Class     Images  Instances      Box(P          R      mAP50  mAP50-95): 100%|██████████| 3/3 [00:00<00:00, 12.14it/s]"
          ]
        },
        {
          "output_type": "stream",
          "name": "stdout",
          "text": [
            "                   all         20         20      0.943       0.95      0.978      0.854\n"
          ]
        },
        {
          "output_type": "stream",
          "name": "stderr",
          "text": [
            "\n"
          ]
        },
        {
          "output_type": "stream",
          "name": "stdout",
          "text": [
            "\n",
            "      Epoch    GPU_mem   box_loss   cls_loss   dfl_loss  Instances       Size\n"
          ]
        },
        {
          "output_type": "stream",
          "name": "stderr",
          "text": [
            "     55/200     0.475G     0.6822      0.843      1.085         11        416: 100%|██████████| 5/5 [00:00<00:00,  6.44it/s]\n",
            "                 Class     Images  Instances      Box(P          R      mAP50  mAP50-95): 100%|██████████| 3/3 [00:00<00:00, 12.48it/s]"
          ]
        },
        {
          "output_type": "stream",
          "name": "stdout",
          "text": [
            "                   all         20         20      0.943       0.95      0.978      0.854\n"
          ]
        },
        {
          "output_type": "stream",
          "name": "stderr",
          "text": [
            "\n"
          ]
        },
        {
          "output_type": "stream",
          "name": "stdout",
          "text": [
            "\n",
            "      Epoch    GPU_mem   box_loss   cls_loss   dfl_loss  Instances       Size\n"
          ]
        },
        {
          "output_type": "stream",
          "name": "stderr",
          "text": [
            "     56/200     0.475G     0.7985     0.9941      1.233          7        416: 100%|██████████| 5/5 [00:00<00:00,  7.77it/s]\n",
            "                 Class     Images  Instances      Box(P          R      mAP50  mAP50-95): 100%|██████████| 3/3 [00:00<00:00,  4.63it/s]"
          ]
        },
        {
          "output_type": "stream",
          "name": "stdout",
          "text": [
            "                   all         20         20      0.967          1      0.995      0.821\n"
          ]
        },
        {
          "output_type": "stream",
          "name": "stderr",
          "text": [
            "\n"
          ]
        },
        {
          "output_type": "stream",
          "name": "stdout",
          "text": [
            "\n",
            "      Epoch    GPU_mem   box_loss   cls_loss   dfl_loss  Instances       Size\n"
          ]
        },
        {
          "output_type": "stream",
          "name": "stderr",
          "text": [
            "     57/200     0.475G     0.6575     0.8829      1.101          6        416: 100%|██████████| 5/5 [00:00<00:00, 11.71it/s]\n",
            "                 Class     Images  Instances      Box(P          R      mAP50  mAP50-95): 100%|██████████| 3/3 [00:00<00:00, 13.48it/s]"
          ]
        },
        {
          "output_type": "stream",
          "name": "stdout",
          "text": [
            "                   all         20         20      0.967          1      0.995      0.821\n"
          ]
        },
        {
          "output_type": "stream",
          "name": "stderr",
          "text": [
            "\n"
          ]
        },
        {
          "output_type": "stream",
          "name": "stdout",
          "text": [
            "\n",
            "      Epoch    GPU_mem   box_loss   cls_loss   dfl_loss  Instances       Size\n"
          ]
        },
        {
          "output_type": "stream",
          "name": "stderr",
          "text": [
            "     58/200     0.475G     0.7027     0.8116      1.096         13        416: 100%|██████████| 5/5 [00:00<00:00,  6.90it/s]\n",
            "                 Class     Images  Instances      Box(P          R      mAP50  mAP50-95): 100%|██████████| 3/3 [00:00<00:00, 17.53it/s]"
          ]
        },
        {
          "output_type": "stream",
          "name": "stdout",
          "text": [
            "                   all         20         20      0.967          1      0.995      0.821\n"
          ]
        },
        {
          "output_type": "stream",
          "name": "stderr",
          "text": [
            "\n"
          ]
        },
        {
          "output_type": "stream",
          "name": "stdout",
          "text": [
            "\n",
            "      Epoch    GPU_mem   box_loss   cls_loss   dfl_loss  Instances       Size\n"
          ]
        },
        {
          "output_type": "stream",
          "name": "stderr",
          "text": [
            "     59/200     0.475G     0.6824     0.8778      1.102         14        416: 100%|██████████| 5/5 [00:00<00:00, 10.26it/s]\n",
            "                 Class     Images  Instances      Box(P          R      mAP50  mAP50-95): 100%|██████████| 3/3 [00:00<00:00, 16.25it/s]\n"
          ]
        },
        {
          "output_type": "stream",
          "name": "stdout",
          "text": [
            "                   all         20         20      0.895          1      0.995      0.852\n",
            "\n",
            "      Epoch    GPU_mem   box_loss   cls_loss   dfl_loss  Instances       Size\n"
          ]
        },
        {
          "output_type": "stream",
          "name": "stderr",
          "text": [
            "     60/200     0.475G      0.794     0.9067      1.222         11        416: 100%|██████████| 5/5 [00:00<00:00, 10.50it/s]\n",
            "                 Class     Images  Instances      Box(P          R      mAP50  mAP50-95): 100%|██████████| 3/3 [00:00<00:00, 16.06it/s]"
          ]
        },
        {
          "output_type": "stream",
          "name": "stdout",
          "text": [
            "                   all         20         20      0.895          1      0.995      0.852\n"
          ]
        },
        {
          "output_type": "stream",
          "name": "stderr",
          "text": [
            "\n"
          ]
        },
        {
          "output_type": "stream",
          "name": "stdout",
          "text": [
            "\n",
            "      Epoch    GPU_mem   box_loss   cls_loss   dfl_loss  Instances       Size\n"
          ]
        },
        {
          "output_type": "stream",
          "name": "stderr",
          "text": [
            "     61/200     0.475G     0.8924      1.011      1.305         12        416: 100%|██████████| 5/5 [00:00<00:00, 10.72it/s]\n",
            "                 Class     Images  Instances      Box(P          R      mAP50  mAP50-95): 100%|██████████| 3/3 [00:00<00:00, 12.98it/s]"
          ]
        },
        {
          "output_type": "stream",
          "name": "stdout",
          "text": [
            "                   all         20         20      0.895          1      0.995      0.852\n"
          ]
        },
        {
          "output_type": "stream",
          "name": "stderr",
          "text": [
            "\n"
          ]
        },
        {
          "output_type": "stream",
          "name": "stdout",
          "text": [
            "\n",
            "      Epoch    GPU_mem   box_loss   cls_loss   dfl_loss  Instances       Size\n"
          ]
        },
        {
          "output_type": "stream",
          "name": "stderr",
          "text": [
            "     62/200     0.475G     0.6262     0.7156      1.065         14        416: 100%|██████████| 5/5 [00:00<00:00,  9.39it/s]\n",
            "                 Class     Images  Instances      Box(P          R      mAP50  mAP50-95): 100%|██████████| 3/3 [00:00<00:00, 17.46it/s]"
          ]
        },
        {
          "output_type": "stream",
          "name": "stdout",
          "text": [
            "                   all         20         20      0.945      0.994      0.995      0.837\n"
          ]
        },
        {
          "output_type": "stream",
          "name": "stderr",
          "text": [
            "\n"
          ]
        },
        {
          "output_type": "stream",
          "name": "stdout",
          "text": [
            "\n",
            "      Epoch    GPU_mem   box_loss   cls_loss   dfl_loss  Instances       Size\n"
          ]
        },
        {
          "output_type": "stream",
          "name": "stderr",
          "text": [
            "     63/200     0.475G        0.6      0.818      1.059          9        416: 100%|██████████| 5/5 [00:00<00:00, 12.43it/s]\n",
            "                 Class     Images  Instances      Box(P          R      mAP50  mAP50-95): 100%|██████████| 3/3 [00:00<00:00, 17.51it/s]"
          ]
        },
        {
          "output_type": "stream",
          "name": "stdout",
          "text": [
            "                   all         20         20      0.945      0.994      0.995      0.837\n"
          ]
        },
        {
          "output_type": "stream",
          "name": "stderr",
          "text": [
            "\n"
          ]
        },
        {
          "output_type": "stream",
          "name": "stdout",
          "text": [
            "\n",
            "      Epoch    GPU_mem   box_loss   cls_loss   dfl_loss  Instances       Size\n"
          ]
        },
        {
          "output_type": "stream",
          "name": "stderr",
          "text": [
            "     64/200     0.475G     0.6442     0.8355       1.09         11        416: 100%|██████████| 5/5 [00:00<00:00, 10.67it/s]\n",
            "                 Class     Images  Instances      Box(P          R      mAP50  mAP50-95): 100%|██████████| 3/3 [00:00<00:00, 16.81it/s]"
          ]
        },
        {
          "output_type": "stream",
          "name": "stdout",
          "text": [
            "                   all         20         20      0.945      0.994      0.995      0.837\n"
          ]
        },
        {
          "output_type": "stream",
          "name": "stderr",
          "text": [
            "\n"
          ]
        },
        {
          "output_type": "stream",
          "name": "stdout",
          "text": [
            "\n",
            "      Epoch    GPU_mem   box_loss   cls_loss   dfl_loss  Instances       Size\n"
          ]
        },
        {
          "output_type": "stream",
          "name": "stderr",
          "text": [
            "     65/200     0.475G      0.745     0.8528      1.138          8        416: 100%|██████████| 5/5 [00:00<00:00, 10.59it/s]\n",
            "                 Class     Images  Instances      Box(P          R      mAP50  mAP50-95): 100%|██████████| 3/3 [00:00<00:00, 17.54it/s]"
          ]
        },
        {
          "output_type": "stream",
          "name": "stdout",
          "text": [
            "                   all         20         20      0.945      0.994      0.995      0.837\n"
          ]
        },
        {
          "output_type": "stream",
          "name": "stderr",
          "text": [
            "\n"
          ]
        },
        {
          "output_type": "stream",
          "name": "stdout",
          "text": [
            "\n",
            "      Epoch    GPU_mem   box_loss   cls_loss   dfl_loss  Instances       Size\n"
          ]
        },
        {
          "output_type": "stream",
          "name": "stderr",
          "text": [
            "     66/200     0.475G     0.8742     0.9621      1.244         11        416: 100%|██████████| 5/5 [00:00<00:00,  6.15it/s]\n",
            "                 Class     Images  Instances      Box(P          R      mAP50  mAP50-95): 100%|██████████| 3/3 [00:00<00:00, 15.95it/s]"
          ]
        },
        {
          "output_type": "stream",
          "name": "stdout",
          "text": [
            "                   all         20         20      0.925          1      0.995      0.823\n"
          ]
        },
        {
          "output_type": "stream",
          "name": "stderr",
          "text": [
            "\n"
          ]
        },
        {
          "output_type": "stream",
          "name": "stdout",
          "text": [
            "\n",
            "      Epoch    GPU_mem   box_loss   cls_loss   dfl_loss  Instances       Size\n"
          ]
        },
        {
          "output_type": "stream",
          "name": "stderr",
          "text": [
            "     67/200     0.475G     0.5832     0.8449       1.06         13        416: 100%|██████████| 5/5 [00:00<00:00,  6.02it/s]\n",
            "                 Class     Images  Instances      Box(P          R      mAP50  mAP50-95): 100%|██████████| 3/3 [00:00<00:00, 13.77it/s]"
          ]
        },
        {
          "output_type": "stream",
          "name": "stdout",
          "text": [
            "                   all         20         20      0.925          1      0.995      0.823\n"
          ]
        },
        {
          "output_type": "stream",
          "name": "stderr",
          "text": [
            "\n"
          ]
        },
        {
          "output_type": "stream",
          "name": "stdout",
          "text": [
            "\n",
            "      Epoch    GPU_mem   box_loss   cls_loss   dfl_loss  Instances       Size\n"
          ]
        },
        {
          "output_type": "stream",
          "name": "stderr",
          "text": [
            "     68/200     0.475G     0.6208     0.7882      1.134         12        416: 100%|██████████| 5/5 [00:00<00:00,  5.34it/s]\n",
            "                 Class     Images  Instances      Box(P          R      mAP50  mAP50-95): 100%|██████████| 3/3 [00:00<00:00, 10.16it/s]\n"
          ]
        },
        {
          "output_type": "stream",
          "name": "stdout",
          "text": [
            "                   all         20         20      0.925          1      0.995      0.823\n",
            "\n",
            "      Epoch    GPU_mem   box_loss   cls_loss   dfl_loss  Instances       Size\n"
          ]
        },
        {
          "output_type": "stream",
          "name": "stderr",
          "text": [
            "     69/200     0.475G     0.8355     0.9276      1.214         10        416: 100%|██████████| 5/5 [00:00<00:00,  7.90it/s]\n",
            "                 Class     Images  Instances      Box(P          R      mAP50  mAP50-95): 100%|██████████| 3/3 [00:00<00:00, 14.41it/s]"
          ]
        },
        {
          "output_type": "stream",
          "name": "stdout",
          "text": [
            "                   all         20         20      0.935          1       0.99      0.863\n"
          ]
        },
        {
          "output_type": "stream",
          "name": "stderr",
          "text": [
            "\n"
          ]
        },
        {
          "output_type": "stream",
          "name": "stdout",
          "text": [
            "\n",
            "      Epoch    GPU_mem   box_loss   cls_loss   dfl_loss  Instances       Size\n"
          ]
        },
        {
          "output_type": "stream",
          "name": "stderr",
          "text": [
            "     70/200     0.475G      0.703     0.8369      1.116          8        416: 100%|██████████| 5/5 [00:00<00:00, 10.69it/s]\n",
            "                 Class     Images  Instances      Box(P          R      mAP50  mAP50-95): 100%|██████████| 3/3 [00:00<00:00, 11.58it/s]"
          ]
        },
        {
          "output_type": "stream",
          "name": "stdout",
          "text": [
            "                   all         20         20      0.935          1       0.99      0.863\n"
          ]
        },
        {
          "output_type": "stream",
          "name": "stderr",
          "text": [
            "\n"
          ]
        },
        {
          "output_type": "stream",
          "name": "stdout",
          "text": [
            "\n",
            "      Epoch    GPU_mem   box_loss   cls_loss   dfl_loss  Instances       Size\n"
          ]
        },
        {
          "output_type": "stream",
          "name": "stderr",
          "text": [
            "     71/200     0.475G      0.859     0.9556      1.197          9        416: 100%|██████████| 5/5 [00:00<00:00, 11.78it/s]\n",
            "                 Class     Images  Instances      Box(P          R      mAP50  mAP50-95): 100%|██████████| 3/3 [00:00<00:00, 16.98it/s]\n"
          ]
        },
        {
          "output_type": "stream",
          "name": "stdout",
          "text": [
            "                   all         20         20      0.935          1       0.99      0.863\n",
            "\n",
            "      Epoch    GPU_mem   box_loss   cls_loss   dfl_loss  Instances       Size\n"
          ]
        },
        {
          "output_type": "stream",
          "name": "stderr",
          "text": [
            "     72/200     0.475G     0.6882     0.9153      1.131         16        416: 100%|██████████| 5/5 [00:00<00:00,  9.76it/s]\n",
            "                 Class     Images  Instances      Box(P          R      mAP50  mAP50-95): 100%|██████████| 3/3 [00:00<00:00, 12.73it/s]"
          ]
        },
        {
          "output_type": "stream",
          "name": "stdout",
          "text": [
            "                   all         20         20      0.985      0.998      0.995      0.905\n"
          ]
        },
        {
          "output_type": "stream",
          "name": "stderr",
          "text": [
            "\n"
          ]
        },
        {
          "output_type": "stream",
          "name": "stdout",
          "text": [
            "\n",
            "      Epoch    GPU_mem   box_loss   cls_loss   dfl_loss  Instances       Size\n"
          ]
        },
        {
          "output_type": "stream",
          "name": "stderr",
          "text": [
            "     73/200     0.475G     0.8006     0.8263      1.143          7        416: 100%|██████████| 5/5 [00:00<00:00, 12.38it/s]\n",
            "                 Class     Images  Instances      Box(P          R      mAP50  mAP50-95): 100%|██████████| 3/3 [00:00<00:00, 11.61it/s]"
          ]
        },
        {
          "output_type": "stream",
          "name": "stdout",
          "text": [
            "                   all         20         20      0.985      0.998      0.995      0.905\n"
          ]
        },
        {
          "output_type": "stream",
          "name": "stderr",
          "text": [
            "\n"
          ]
        },
        {
          "output_type": "stream",
          "name": "stdout",
          "text": [
            "\n",
            "      Epoch    GPU_mem   box_loss   cls_loss   dfl_loss  Instances       Size\n"
          ]
        },
        {
          "output_type": "stream",
          "name": "stderr",
          "text": [
            "     74/200     0.475G     0.6539     0.8085      1.081         12        416: 100%|██████████| 5/5 [00:00<00:00, 12.23it/s]\n",
            "                 Class     Images  Instances      Box(P          R      mAP50  mAP50-95): 100%|██████████| 3/3 [00:00<00:00, 16.37it/s]\n"
          ]
        },
        {
          "output_type": "stream",
          "name": "stdout",
          "text": [
            "                   all         20         20      0.985      0.998      0.995      0.905\n",
            "\n",
            "      Epoch    GPU_mem   box_loss   cls_loss   dfl_loss  Instances       Size\n"
          ]
        },
        {
          "output_type": "stream",
          "name": "stderr",
          "text": [
            "     75/200     0.475G     0.7122      0.838       1.14         10        416: 100%|██████████| 5/5 [00:00<00:00, 11.56it/s]\n",
            "                 Class     Images  Instances      Box(P          R      mAP50  mAP50-95): 100%|██████████| 3/3 [00:00<00:00, 16.54it/s]"
          ]
        },
        {
          "output_type": "stream",
          "name": "stdout",
          "text": [
            "                   all         20         20      0.984          1      0.995      0.928\n"
          ]
        },
        {
          "output_type": "stream",
          "name": "stderr",
          "text": [
            "\n"
          ]
        },
        {
          "output_type": "stream",
          "name": "stdout",
          "text": [
            "\n",
            "      Epoch    GPU_mem   box_loss   cls_loss   dfl_loss  Instances       Size\n"
          ]
        },
        {
          "output_type": "stream",
          "name": "stderr",
          "text": [
            "     76/200     0.475G     0.6338     0.7808      1.072         14        416: 100%|██████████| 5/5 [00:00<00:00, 11.57it/s]\n",
            "                 Class     Images  Instances      Box(P          R      mAP50  mAP50-95): 100%|██████████| 3/3 [00:00<00:00, 17.10it/s]"
          ]
        },
        {
          "output_type": "stream",
          "name": "stdout",
          "text": [
            "                   all         20         20      0.984          1      0.995      0.928\n"
          ]
        },
        {
          "output_type": "stream",
          "name": "stderr",
          "text": [
            "\n"
          ]
        },
        {
          "output_type": "stream",
          "name": "stdout",
          "text": [
            "\n",
            "      Epoch    GPU_mem   box_loss   cls_loss   dfl_loss  Instances       Size\n"
          ]
        },
        {
          "output_type": "stream",
          "name": "stderr",
          "text": [
            "     77/200     0.475G       0.73     0.8022       1.15          9        416: 100%|██████████| 5/5 [00:00<00:00, 12.71it/s]\n",
            "                 Class     Images  Instances      Box(P          R      mAP50  mAP50-95): 100%|██████████| 3/3 [00:00<00:00, 17.91it/s]"
          ]
        },
        {
          "output_type": "stream",
          "name": "stdout",
          "text": [
            "                   all         20         20      0.984          1      0.995      0.928\n"
          ]
        },
        {
          "output_type": "stream",
          "name": "stderr",
          "text": [
            "\n"
          ]
        },
        {
          "output_type": "stream",
          "name": "stdout",
          "text": [
            "\n",
            "      Epoch    GPU_mem   box_loss   cls_loss   dfl_loss  Instances       Size\n"
          ]
        },
        {
          "output_type": "stream",
          "name": "stderr",
          "text": [
            "     78/200     0.475G     0.6944     0.8739      1.094         12        416: 100%|██████████| 5/5 [00:00<00:00,  9.98it/s]\n",
            "                 Class     Images  Instances      Box(P          R      mAP50  mAP50-95): 100%|██████████| 3/3 [00:00<00:00,  8.57it/s]"
          ]
        },
        {
          "output_type": "stream",
          "name": "stdout",
          "text": [
            "                   all         20         20      0.988          1      0.995      0.897\n"
          ]
        },
        {
          "output_type": "stream",
          "name": "stderr",
          "text": [
            "\n"
          ]
        },
        {
          "output_type": "stream",
          "name": "stdout",
          "text": [
            "\n",
            "      Epoch    GPU_mem   box_loss   cls_loss   dfl_loss  Instances       Size\n"
          ]
        },
        {
          "output_type": "stream",
          "name": "stderr",
          "text": [
            "     79/200     0.475G     0.6641     0.8241      1.154         10        416: 100%|██████████| 5/5 [00:00<00:00,  6.86it/s]\n",
            "                 Class     Images  Instances      Box(P          R      mAP50  mAP50-95): 100%|██████████| 3/3 [00:00<00:00, 11.35it/s]"
          ]
        },
        {
          "output_type": "stream",
          "name": "stdout",
          "text": [
            "                   all         20         20      0.988          1      0.995      0.897\n"
          ]
        },
        {
          "output_type": "stream",
          "name": "stderr",
          "text": [
            "\n"
          ]
        },
        {
          "output_type": "stream",
          "name": "stdout",
          "text": [
            "\n",
            "      Epoch    GPU_mem   box_loss   cls_loss   dfl_loss  Instances       Size\n"
          ]
        },
        {
          "output_type": "stream",
          "name": "stderr",
          "text": [
            "     80/200     0.475G     0.6271     0.7818      1.067         14        416: 100%|██████████| 5/5 [00:00<00:00, 10.30it/s]\n",
            "                 Class     Images  Instances      Box(P          R      mAP50  mAP50-95): 100%|██████████| 3/3 [00:00<00:00, 16.02it/s]"
          ]
        },
        {
          "output_type": "stream",
          "name": "stdout",
          "text": [
            "                   all         20         20      0.988          1      0.995      0.897\n"
          ]
        },
        {
          "output_type": "stream",
          "name": "stderr",
          "text": [
            "\n"
          ]
        },
        {
          "output_type": "stream",
          "name": "stdout",
          "text": [
            "\n",
            "      Epoch    GPU_mem   box_loss   cls_loss   dfl_loss  Instances       Size\n"
          ]
        },
        {
          "output_type": "stream",
          "name": "stderr",
          "text": [
            "     81/200     0.475G     0.6383     0.7099      1.073         12        416: 100%|██████████| 5/5 [00:00<00:00,  7.71it/s]\n",
            "                 Class     Images  Instances      Box(P          R      mAP50  mAP50-95): 100%|██████████| 3/3 [00:00<00:00, 14.55it/s]"
          ]
        },
        {
          "output_type": "stream",
          "name": "stdout",
          "text": [
            "                   all         20         20      0.988          1      0.995      0.897\n"
          ]
        },
        {
          "output_type": "stream",
          "name": "stderr",
          "text": [
            "\n"
          ]
        },
        {
          "output_type": "stream",
          "name": "stdout",
          "text": [
            "\n",
            "      Epoch    GPU_mem   box_loss   cls_loss   dfl_loss  Instances       Size\n"
          ]
        },
        {
          "output_type": "stream",
          "name": "stderr",
          "text": [
            "     82/200     0.475G     0.6648      0.813      1.071         12        416: 100%|██████████| 5/5 [00:00<00:00, 10.05it/s]\n",
            "                 Class     Images  Instances      Box(P          R      mAP50  mAP50-95): 100%|██████████| 3/3 [00:00<00:00, 16.83it/s]"
          ]
        },
        {
          "output_type": "stream",
          "name": "stdout",
          "text": [
            "                   all         20         20      0.993          1      0.995      0.888\n"
          ]
        },
        {
          "output_type": "stream",
          "name": "stderr",
          "text": [
            "\n"
          ]
        },
        {
          "output_type": "stream",
          "name": "stdout",
          "text": [
            "\n",
            "      Epoch    GPU_mem   box_loss   cls_loss   dfl_loss  Instances       Size\n"
          ]
        },
        {
          "output_type": "stream",
          "name": "stderr",
          "text": [
            "     83/200     0.475G     0.5947     0.7644      1.048          8        416: 100%|██████████| 5/5 [00:00<00:00, 10.51it/s]\n",
            "                 Class     Images  Instances      Box(P          R      mAP50  mAP50-95): 100%|██████████| 3/3 [00:00<00:00, 16.05it/s]"
          ]
        },
        {
          "output_type": "stream",
          "name": "stdout",
          "text": [
            "                   all         20         20      0.993          1      0.995      0.888\n"
          ]
        },
        {
          "output_type": "stream",
          "name": "stderr",
          "text": [
            "\n"
          ]
        },
        {
          "output_type": "stream",
          "name": "stdout",
          "text": [
            "\n",
            "      Epoch    GPU_mem   box_loss   cls_loss   dfl_loss  Instances       Size\n"
          ]
        },
        {
          "output_type": "stream",
          "name": "stderr",
          "text": [
            "     84/200     0.475G     0.8086     0.8141      1.209         14        416: 100%|██████████| 5/5 [00:00<00:00, 10.43it/s]\n",
            "                 Class     Images  Instances      Box(P          R      mAP50  mAP50-95): 100%|██████████| 3/3 [00:00<00:00, 17.86it/s]"
          ]
        },
        {
          "output_type": "stream",
          "name": "stdout",
          "text": [
            "                   all         20         20      0.993          1      0.995      0.888\n"
          ]
        },
        {
          "output_type": "stream",
          "name": "stderr",
          "text": [
            "\n"
          ]
        },
        {
          "output_type": "stream",
          "name": "stdout",
          "text": [
            "\n",
            "      Epoch    GPU_mem   box_loss   cls_loss   dfl_loss  Instances       Size\n"
          ]
        },
        {
          "output_type": "stream",
          "name": "stderr",
          "text": [
            "     85/200     0.475G     0.7151      0.872       1.15          6        416: 100%|██████████| 5/5 [00:00<00:00, 11.32it/s]\n",
            "                 Class     Images  Instances      Box(P          R      mAP50  mAP50-95): 100%|██████████| 3/3 [00:00<00:00, 17.29it/s]"
          ]
        },
        {
          "output_type": "stream",
          "name": "stdout",
          "text": [
            "                   all         20         20      0.989          1      0.995      0.891\n"
          ]
        },
        {
          "output_type": "stream",
          "name": "stderr",
          "text": [
            "\n"
          ]
        },
        {
          "output_type": "stream",
          "name": "stdout",
          "text": [
            "\n",
            "      Epoch    GPU_mem   box_loss   cls_loss   dfl_loss  Instances       Size\n"
          ]
        },
        {
          "output_type": "stream",
          "name": "stderr",
          "text": [
            "     86/200     0.475G     0.6633      0.775       1.11         13        416: 100%|██████████| 5/5 [00:00<00:00, 10.75it/s]\n",
            "                 Class     Images  Instances      Box(P          R      mAP50  mAP50-95): 100%|██████████| 3/3 [00:00<00:00, 12.22it/s]"
          ]
        },
        {
          "output_type": "stream",
          "name": "stdout",
          "text": [
            "                   all         20         20      0.989          1      0.995      0.891\n"
          ]
        },
        {
          "output_type": "stream",
          "name": "stderr",
          "text": [
            "\n"
          ]
        },
        {
          "output_type": "stream",
          "name": "stdout",
          "text": [
            "\n",
            "      Epoch    GPU_mem   box_loss   cls_loss   dfl_loss  Instances       Size\n"
          ]
        },
        {
          "output_type": "stream",
          "name": "stderr",
          "text": [
            "     87/200     0.475G      0.691     0.8029        1.1          7        416: 100%|██████████| 5/5 [00:00<00:00, 12.34it/s]\n",
            "                 Class     Images  Instances      Box(P          R      mAP50  mAP50-95): 100%|██████████| 3/3 [00:00<00:00,  8.42it/s]"
          ]
        },
        {
          "output_type": "stream",
          "name": "stdout",
          "text": [
            "                   all         20         20      0.989          1      0.995      0.891\n"
          ]
        },
        {
          "output_type": "stream",
          "name": "stderr",
          "text": [
            "\n"
          ]
        },
        {
          "output_type": "stream",
          "name": "stdout",
          "text": [
            "\n",
            "      Epoch    GPU_mem   box_loss   cls_loss   dfl_loss  Instances       Size\n"
          ]
        },
        {
          "output_type": "stream",
          "name": "stderr",
          "text": [
            "     88/200     0.475G     0.7104      0.738      1.087          8        416: 100%|██████████| 5/5 [00:00<00:00,  9.84it/s]\n",
            "                 Class     Images  Instances      Box(P          R      mAP50  mAP50-95): 100%|██████████| 3/3 [00:00<00:00, 17.46it/s]"
          ]
        },
        {
          "output_type": "stream",
          "name": "stdout",
          "text": [
            "                   all         20         20      0.986          1      0.995      0.894\n"
          ]
        },
        {
          "output_type": "stream",
          "name": "stderr",
          "text": [
            "\n"
          ]
        },
        {
          "output_type": "stream",
          "name": "stdout",
          "text": [
            "\n",
            "      Epoch    GPU_mem   box_loss   cls_loss   dfl_loss  Instances       Size\n"
          ]
        },
        {
          "output_type": "stream",
          "name": "stderr",
          "text": [
            "     89/200     0.475G     0.6543     0.7262      1.041         11        416: 100%|██████████| 5/5 [00:00<00:00, 11.87it/s]\n",
            "                 Class     Images  Instances      Box(P          R      mAP50  mAP50-95): 100%|██████████| 3/3 [00:00<00:00, 17.20it/s]"
          ]
        },
        {
          "output_type": "stream",
          "name": "stdout",
          "text": [
            "                   all         20         20      0.986          1      0.995      0.894\n"
          ]
        },
        {
          "output_type": "stream",
          "name": "stderr",
          "text": [
            "\n"
          ]
        },
        {
          "output_type": "stream",
          "name": "stdout",
          "text": [
            "\n",
            "      Epoch    GPU_mem   box_loss   cls_loss   dfl_loss  Instances       Size\n"
          ]
        },
        {
          "output_type": "stream",
          "name": "stderr",
          "text": [
            "     90/200     0.475G     0.7819     0.8214      1.132         11        416: 100%|██████████| 5/5 [00:00<00:00,  7.49it/s]\n",
            "                 Class     Images  Instances      Box(P          R      mAP50  mAP50-95): 100%|██████████| 3/3 [00:00<00:00,  8.23it/s]\n"
          ]
        },
        {
          "output_type": "stream",
          "name": "stdout",
          "text": [
            "                   all         20         20      0.986          1      0.995      0.894\n",
            "\n",
            "      Epoch    GPU_mem   box_loss   cls_loss   dfl_loss  Instances       Size\n"
          ]
        },
        {
          "output_type": "stream",
          "name": "stderr",
          "text": [
            "     91/200     0.475G      0.808     0.9837      1.179          5        416: 100%|██████████| 5/5 [00:00<00:00,  6.24it/s]\n",
            "                 Class     Images  Instances      Box(P          R      mAP50  mAP50-95): 100%|██████████| 3/3 [00:00<00:00, 15.69it/s]"
          ]
        },
        {
          "output_type": "stream",
          "name": "stdout",
          "text": [
            "                   all         20         20      0.984          1      0.995        0.9\n"
          ]
        },
        {
          "output_type": "stream",
          "name": "stderr",
          "text": [
            "\n"
          ]
        },
        {
          "output_type": "stream",
          "name": "stdout",
          "text": [
            "\n",
            "      Epoch    GPU_mem   box_loss   cls_loss   dfl_loss  Instances       Size\n"
          ]
        },
        {
          "output_type": "stream",
          "name": "stderr",
          "text": [
            "     92/200     0.475G      0.575     0.7864      1.086          7        416: 100%|██████████| 5/5 [00:00<00:00,  8.92it/s]\n",
            "                 Class     Images  Instances      Box(P          R      mAP50  mAP50-95): 100%|██████████| 3/3 [00:00<00:00, 16.76it/s]\n"
          ]
        },
        {
          "output_type": "stream",
          "name": "stdout",
          "text": [
            "                   all         20         20      0.984          1      0.995        0.9\n",
            "\n",
            "      Epoch    GPU_mem   box_loss   cls_loss   dfl_loss  Instances       Size\n"
          ]
        },
        {
          "output_type": "stream",
          "name": "stderr",
          "text": [
            "     93/200     0.475G     0.6699     0.7271      1.068         16        416: 100%|██████████| 5/5 [00:00<00:00,  9.21it/s]\n",
            "                 Class     Images  Instances      Box(P          R      mAP50  mAP50-95): 100%|██████████| 3/3 [00:00<00:00, 12.36it/s]"
          ]
        },
        {
          "output_type": "stream",
          "name": "stdout",
          "text": [
            "                   all         20         20      0.984          1      0.995        0.9\n"
          ]
        },
        {
          "output_type": "stream",
          "name": "stderr",
          "text": [
            "\n"
          ]
        },
        {
          "output_type": "stream",
          "name": "stdout",
          "text": [
            "\n",
            "      Epoch    GPU_mem   box_loss   cls_loss   dfl_loss  Instances       Size\n"
          ]
        },
        {
          "output_type": "stream",
          "name": "stderr",
          "text": [
            "     94/200     0.475G     0.5738     0.7318      1.034         10        416: 100%|██████████| 5/5 [00:00<00:00, 11.58it/s]\n",
            "                 Class     Images  Instances      Box(P          R      mAP50  mAP50-95): 100%|██████████| 3/3 [00:00<00:00, 12.64it/s]"
          ]
        },
        {
          "output_type": "stream",
          "name": "stdout",
          "text": [
            "                   all         20         20      0.985          1      0.995      0.901\n"
          ]
        },
        {
          "output_type": "stream",
          "name": "stderr",
          "text": [
            "\n"
          ]
        },
        {
          "output_type": "stream",
          "name": "stdout",
          "text": [
            "\n",
            "      Epoch    GPU_mem   box_loss   cls_loss   dfl_loss  Instances       Size\n"
          ]
        },
        {
          "output_type": "stream",
          "name": "stderr",
          "text": [
            "     95/200     0.475G     0.6417     0.7464      1.063         13        416: 100%|██████████| 5/5 [00:00<00:00,  7.47it/s]\n",
            "                 Class     Images  Instances      Box(P          R      mAP50  mAP50-95): 100%|██████████| 3/3 [00:00<00:00, 17.07it/s]"
          ]
        },
        {
          "output_type": "stream",
          "name": "stdout",
          "text": [
            "                   all         20         20      0.985          1      0.995      0.901\n",
            "\u001b[34m\u001b[1mEarlyStopping: \u001b[0mTraining stopped early as no improvement observed in last 20 epochs. Best results observed at epoch 75, best model saved as best.pt.\n",
            "To update EarlyStopping(patience=20) pass a new patience value, i.e. `patience=300` or use `patience=0` to disable EarlyStopping.\n"
          ]
        },
        {
          "output_type": "stream",
          "name": "stderr",
          "text": [
            "\n"
          ]
        },
        {
          "output_type": "stream",
          "name": "stdout",
          "text": [
            "\n",
            "95 epochs completed in 0.029 hours.\n",
            "Optimizer stripped from runs/train/mango_apple_detector8/weights/last.pt, 6.2MB\n",
            "Optimizer stripped from runs/train/mango_apple_detector8/weights/best.pt, 6.2MB\n",
            "\n",
            "Validating runs/train/mango_apple_detector8/weights/best.pt...\n",
            "Ultralytics 8.3.162 🚀 Python-3.11.13 torch-2.6.0+cu124 CUDA:0 (Tesla T4, 15095MiB)\n",
            "Model summary (fused): 72 layers, 3,006,038 parameters, 0 gradients, 8.1 GFLOPs\n"
          ]
        },
        {
          "output_type": "stream",
          "name": "stderr",
          "text": [
            "                 Class     Images  Instances      Box(P          R      mAP50  mAP50-95): 100%|██████████| 3/3 [00:00<00:00,  5.58it/s]\n"
          ]
        },
        {
          "output_type": "stream",
          "name": "stdout",
          "text": [
            "                   all         20         20      0.984          1      0.995      0.928\n",
            "                 apple         10         10      0.973          1      0.995      0.911\n",
            "                 mango         10         10      0.996          1      0.995      0.944\n",
            "Speed: 0.8ms preprocess, 9.1ms inference, 0.0ms loss, 4.8ms postprocess per image\n",
            "Results saved to \u001b[1mruns/train/mango_apple_detector8\u001b[0m\n"
          ]
        }
      ],
      "source": [
        "# Step 1: Install Ultralytics\n",
        "!pip install -q ultralytics\n",
        "from ultralytics import YOLO\n",
        "from IPython.display import Image\n",
        "\n",
        "# Step 2: Load Pretrained Model (Transfer Learning)\n",
        "model = YOLO(\"yolov8n.pt\")  # use pretrained weights instead of training from scratch\n",
        "\n",
        "# Step 3: Train with Enhanced Config\n",
        "results = model.train(\n",
        "    data=\"YOLO_dataset/data.yaml\",   # path to data config\n",
        "    epochs=200,                      # more epochs for small dataset\n",
        "    imgsz=416,                       # standard YOLO input size\n",
        "    batch=4,                         # small batch size for low GPU/RAM\n",
        "    patience=20,                     # early stopping patience\n",
        "    name=\"mango_apple_detector\",     # custom run name\n",
        "    save=True,                       # save final and best models\n",
        "    save_period=10,                  # save checkpoint every 10 epochs\n",
        "    cache=True,                      # cache images in memory for speed\n",
        "    project=\"runs/train\",            # output directory\n",
        "    val=True,                        # run validation at end of every epoch\n",
        "    verbose=True                     # show progress\n",
        ")\n"
      ]
    },
    {
      "cell_type": "markdown",
      "source": [
        "# Test Model"
      ],
      "metadata": {
        "id": "4VU_yYJbFyD5"
      }
    },
    {
      "cell_type": "code",
      "source": [
        "# Inference on one of your test images\n",
        "results = model.predict(source=\"YOLO_dataset/images/train/apple9.jpeg\", save=True, conf=0.5)\n"
      ],
      "metadata": {
        "colab": {
          "base_uri": "https://localhost:8080/"
        },
        "id": "AjAbsRSm93yj",
        "outputId": "2a2b7e0c-1a4e-4d25-be40-65aa15e26a0d"
      },
      "execution_count": 38,
      "outputs": [
        {
          "output_type": "stream",
          "name": "stdout",
          "text": [
            "\n",
            "image 1/1 /content/YOLO_dataset/images/train/apple9.jpeg: 416x416 1 apple, 8.5ms\n",
            "Speed: 1.9ms preprocess, 8.5ms inference, 2.0ms postprocess per image at shape (1, 3, 416, 416)\n",
            "Results saved to \u001b[1mruns/train/mango_apple_detector82\u001b[0m\n"
          ]
        }
      ]
    },
    {
      "cell_type": "markdown",
      "source": [
        "# Look for image files in the prediction directory"
      ],
      "metadata": {
        "id": "0hTnnEoiF2Dy"
      }
    },
    {
      "cell_type": "code",
      "source": [
        "from IPython.display import Image, display\n",
        "import os\n",
        "\n",
        "output_folder = \"runs/train/mango_apple_detector6\"\n",
        "# Look for image files in the prediction directory\n",
        "for file in os.listdir(output_folder):\n",
        "    if file.endswith(\".jpg\") or file.endswith(\".jpeg\") or file.endswith(\".png\"):\n",
        "        display(Image(filename=os.path.join(output_folder, file)))\n"
      ],
      "metadata": {
        "colab": {
          "base_uri": "https://localhost:8080/",
          "height": 242
        },
        "id": "LZT0AYw_CwFZ",
        "outputId": "226f8aa4-a61f-4ac0-e677-b53e91126e5f"
      },
      "execution_count": 39,
      "outputs": [
        {
          "output_type": "display_data",
          "data": {
            "image/jpeg": "[encoded data removed]",
            "text/plain": [
              "<IPython.core.display.Image object>"
            ]
          },
          "metadata": {}
        }
      ]
    },
    {
      "cell_type": "markdown",
      "source": [
        "# Save Model"
      ],
      "metadata": {
        "id": "VfoDKh3SF4MD"
      }
    },
    {
      "cell_type": "code",
      "source": [
        "from google.colab import files\n",
        "files.download('runs/detect/train/weights/best.pt')\n"
      ],
      "metadata": {
        "colab": {
          "base_uri": "https://localhost:8080/",
          "height": 17
        },
        "id": "jZdBNWwe-Wmj",
        "outputId": "711464e8-0d64-4a4d-8dbe-02c31d79dc2d"
      },
      "execution_count": 40,
      "outputs": [
        {
          "output_type": "display_data",
          "data": {
            "text/plain": [
              "<IPython.core.display.Javascript object>"
            ],
            "application/javascript": [
              "\n",
              "    async function download(id, filename, size) {\n",
              "      if (!google.colab.kernel.accessAllowed) {\n",
              "        return;\n",
              "      }\n",
              "      const div = document.createElement('div');\n",
              "      const label = document.createElement('label');\n",
              "      label.textContent = `Downloading \"${filename}\": `;\n",
              "      div.appendChild(label);\n",
              "      const progress = document.createElement('progress');\n",
              "      progress.max = size;\n",
              "      div.appendChild(progress);\n",
              "      document.body.appendChild(div);\n",
              "\n",
              "      const buffers = [];\n",
              "      let downloaded = 0;\n",
              "\n",
              "      const channel = await google.colab.kernel.comms.open(id);\n",
              "      // Send a message to notify the kernel that we're ready.\n",
              "      channel.send({})\n",
              "\n",
              "      for await (const message of channel.messages) {\n",
              "        // Send a message to notify the kernel that we're ready.\n",
              "        channel.send({})\n",
              "        if (message.buffers) {\n",
              "          for (const buffer of message.buffers) {\n",
              "            buffers.push(buffer);\n",
              "            downloaded += buffer.byteLength;\n",
              "            progress.value = downloaded;\n",
              "          }\n",
              "        }\n",
              "      }\n",
              "      const blob = new Blob(buffers, {type: 'application/binary'});\n",
              "      const a = document.createElement('a');\n",
              "      a.href = window.URL.createObjectURL(blob);\n",
              "      a.download = filename;\n",
              "      div.appendChild(a);\n",
              "      a.click();\n",
              "      div.remove();\n",
              "    }\n",
              "  "
            ]
          },
          "metadata": {}
        },
        {
          "output_type": "display_data",
          "data": {
            "text/plain": [
              "<IPython.core.display.Javascript object>"
            ],
            "application/javascript": [
              "download(\"download_8cd99cbc-58ff-4031-8680-1061dec6f502\", \"best.pt\", 6214051)"
            ]
          },
          "metadata": {}
        }
      ]
    },
    {
      "cell_type": "markdown",
      "source": [
        "# Exercise ToDo"
      ],
      "metadata": {
        "id": "1so495ZiF7A6"
      }
    },
    {
      "cell_type": "markdown",
      "source": [
        "\n",
        "\n",
        "---\n",
        "\n",
        "## **Simple Object Detection Ideas (for 10–20 images per class)**\n",
        "\n",
        "These pairs work well because they are:\n",
        "\n",
        "* Visually distinct\n",
        "* Easy to photograph or download\n",
        "* Easy to annotate with bounding boxes\n",
        "* Real-world relevant for small projects or demos\n",
        "\n",
        "---\n",
        "\n",
        "### 🍫 1. **Pen vs Eraser**\n",
        "\n",
        "* Very different shapes and colors\n",
        "* You can collect them easily\n",
        "* Great for a “stationery item” detector\n",
        "\n",
        "---\n",
        "\n",
        "### 🍽 2. **Spoon vs Fork**\n",
        "\n",
        "* Common kitchen objects\n",
        "* Easy to photograph\n",
        "* Good to teach fine shape differences\n",
        "\n",
        "---\n",
        "\n",
        "### 🎧 3. **Headphones vs Charger**\n",
        "\n",
        "* Useful for distinguishing electronic accessories\n",
        "* Can be used for object sorters\n",
        "\n",
        "---\n",
        "\n",
        "### 🕶 4. **Glasses vs Watch**\n",
        "\n",
        "* Useful for wearable detection projects\n",
        "* Clearly different geometry\n",
        "\n",
        "---\n",
        "\n",
        "### 🖐️ 5. **Hand vs Fist** (open hand vs closed hand)\n",
        "\n",
        "* Interesting for gesture detection\n",
        "* Good intro to pose-aware bounding box models\n",
        "\n",
        "---\n",
        "\n",
        "### 📱 6. **Mobile Phone vs Remote Control**\n",
        "\n",
        "* Look similar — good for learning fine classification\n",
        "* Good for object confusion experiments\n",
        "\n",
        "---\n",
        "\n",
        "### 🪑 7. **Chair vs Table Corner**\n",
        "\n",
        "* Good for learning furniture detection (room AI)\n",
        "* May require consistent angles\n",
        "\n",
        "---\n",
        "\n",
        "### 🧴 8. **Bottle vs Can**\n",
        "\n",
        "* Use water bottle vs Coke/Pepsi can\n",
        "* Easy to collect and annotate\n",
        "\n",
        "---\n",
        "\n",
        "### 🧠 Bonus: Use Common Dataset Subsets\n",
        "\n",
        "You can also grab a few images from larger public datasets like:\n",
        "\n",
        "* **Google Open Images**\n",
        "* **Roboflow datasets**\n",
        "* **Kaggle** subsets\n",
        "\n",
        "---\n",
        "\n",
        "## 🧰 Tools You Already Know\n",
        "\n",
        "| Task       | Tool                                   |\n",
        "| ---------- | -------------------------------------- |\n",
        "| Annotation | `LabelImg` (Pascal VOC XML)            |\n",
        "| Conversion | Python script to YOLO format           |\n",
        "| Training   | YOLOv8 via Ultralytics                 |\n",
        "| Platform   | Google Colab                           |\n",
        "| Testing    | `model.predict(...)` and `results.png` |\n",
        "\n",
        "---\n",
        "\n",
        "## 📝 Steps to Follow (Same as Apple/Mango)\n",
        "\n",
        "1. Collect 5–10 images each of **your new classes**\n",
        "2. Annotate each using **LabelImg** with bounding boxes\n",
        "3. Convert Pascal VOC XML to YOLO format\n",
        "4. Organize into:\n",
        "\n",
        "   ```\n",
        "   YOLO_dataset/\n",
        "   ├── images/train/\n",
        "   ├── labels/train/\n",
        "   └── data.yaml\n",
        "   ```\n",
        "5. Train with transfer learning:\n",
        "\n",
        "   ```python\n",
        "   model = YOLO(\"yolov8n.pt\")\n",
        "   model.train(data=\"YOLO_dataset/data.yaml\", epochs=100, imgsz=416)\n",
        "   ```\n",
        "6. Test with `model.predict(...)`\n",
        "\n",
        "---\n",
        "\n",
        "## 🧪 Want to Try Something Fun?\n",
        "\n",
        "If you want to teach students or create demos:\n",
        "\n",
        "* **Banana vs Orange** 🍌🍊\n",
        "* **Mask vs No Mask** 😷❌\n",
        "* **Thumbs Up vs Thumbs Down** 👍👎\n",
        "* **Open Book vs Closed Book** 📖📕\n",
        "* **Keyboard vs Mouse**\n",
        "\n",
        "All of these work with <10 images per class for basic demos.\n",
        "\n",
        "---\n",
        "\n",
        "\n"
      ],
      "metadata": {
        "id": "oL-WBmb9Dsgi"
      }
    }
  ]
}