{
  "nbformat": 4,
  "nbformat_minor": 0,
  "metadata": {
    "colab": {
      "provenance": [],
      "gpuType": "T4",
      "authorship_tag": "ABX9TyOvYfw6eaTLO1C8ccvwf0h7",
      "include_colab_link": true
    },
    "kernelspec": {
      "name": "python3",
      "display_name": "Python 3"
    },
    "language_info": {
      "name": "python"
    },
    "accelerator": "GPU"
  },
  "cells": [
    {
      "cell_type": "markdown",
      "metadata": {
        "id": "view-in-github",
        "colab_type": "text"
      },
      "source": [
        "<a href=\"https://colab.research.google.com/github/lovnishverma/Python-Getting-Started/blob/main/Beginner_Object_Detection_with_YOLOv8_and_LabelImg.ipynb\" target=\"_parent\"><img src=\"https://colab.research.google.com/assets/colab-badge.svg\" alt=\"Open In Colab\"/></a>"
      ]
    },
    {
      "cell_type": "markdown",
      "source": [
        "# Bounding_Box_Annotation_and_Training_YOLOv8"
      ],
      "metadata": {
        "id": "1KiBLkGWHIJ6"
      }
    },
    {
      "cell_type": "markdown",
      "source": [
        "## 🧠 What is Annotation?\n",
        "\n",
        "**Annotation** in object detection means labeling objects in an image by drawing **bounding boxes** around them and assigning a class label.\n",
        "This is essential for training models like YOLO, SSD, and Faster R-CNN.\n",
        "\n",
        "---\n",
        "\n",
        "## ✍️ Methods of Bounding Box Annotation\n",
        "\n",
        "You can annotate images in one of the following ways:\n",
        "\n",
        "### ✅ Recommended Tool-Based Annotation:\n",
        "\n",
        "1. **[LabelImg](https://github.com/heartexlabs/labelImg)** (Desktop)\n",
        "2. **[Makesense.ai](https://www.makesense.ai/)** (Online)\n",
        "3. **[Roboflow Annotate](https://app.roboflow.com/)** (Online, account needed)\n",
        "\n",
        "---\n",
        "\n",
        "## 📌 1. **How to Annotate using LabelImg (Easiest for Offline Work)**\n",
        "\n",
        "### 🔧 Step-by-Step Setup\n",
        "\n",
        "### ✅ Step 1: Install LabelImg\n",
        "\n",
        "**Windows:**\n",
        "\n",
        "* Download Windows .exe from [releases](https://github.com/heartexlabs/labelImg/releases)\n",
        "  **Linux/macOS/Colab:**\n",
        "\n",
        "```bash\n",
        "# You can try this on Colab for GUI with X11 if needed (advanced)\n",
        "!git clone https://github.com/heartexlabs/labelImg.git\n",
        "!pip install pyqt5 lxml\n",
        "%cd labelImg\n",
        "!make qt5py3\n",
        "```\n",
        "\n",
        "---\n",
        "\n",
        "### ✅ Step 2: Open the Tool\n",
        "\n",
        "```bash\n",
        "# Windows:\n",
        "labelImg.exe\n",
        "```\n",
        "\n",
        "### ✅ Step 3: Load Image Folder\n",
        "\n",
        "* Click: `Open Dir` → select the folder containing images (e.g., `bbox_dataset/images/train`)\n",
        "\n",
        "---\n",
        "\n",
        "### ✅ Step 4: Select Save Format\n",
        "\n",
        "* Menu → **PascalVOC** or **YOLO** format (choose YOLO for object detection)\n",
        "* Set annotation folder to `bbox_dataset/labels/train`\n",
        "\n",
        "---\n",
        "\n",
        "### ✅ Step 5: Annotate\n",
        "\n",
        "* Click **\"Create RectBox\"**\n",
        "* Draw box on object → enter class label (e.g., `dog`, `car`)\n",
        "* Save using **Ctrl + S** or click Save icon\n",
        "\n",
        "---\n",
        "\n",
        "### ✅ Step 6: Annotations are saved as `.txt` files in YOLO format:\n",
        "\n",
        "Example of `dog.jpg` → `dog.txt`:\n",
        "\n",
        "```\n",
        "0 0.512 0.480 0.210 0.320\n",
        "```\n",
        "\n",
        "This means:\n",
        "\n",
        "```\n",
        "class_id x_center y_center width height  (normalized between 0 and 1)\n",
        "```\n",
        "\n",
        "---\n",
        "\n",
        "## 📌 2. **How to Annotate using Makesense.ai (No Installation Needed)**\n",
        "\n",
        "### 🌐 Website: [https://www.makesense.ai/](https://www.makesense.ai/)\n",
        "\n",
        "### Steps:\n",
        "\n",
        "1. Click \"Get Started\"\n",
        "2. Upload your images (can be ZIP or multiple files)\n",
        "3. Choose **Object Detection**\n",
        "4. Add your class labels (e.g., `cat`, `bottle`, etc.)\n",
        "5. Draw bounding boxes\n",
        "6. Export → Choose **YOLO format**\n",
        "\n",
        "It downloads `.txt` files and one file per image.\n",
        "\n",
        "---\n",
        "\n",
        "## 📌 3. **How to Manually Annotate Inside Jupyter notebook (Drawing Bounding Boxes)**\n",
        "\n",
        "If you want to draw boxes with mouse inside a notebook using OpenCV (like a mini-LabelImg):\n",
        "\n",
        "This script only works on your local machine (Python installed, OpenCV installed with GUI support):\n",
        "\n",
        "```python\n",
        "import cv2\n",
        "\n",
        "def draw_box(image_path):\n",
        "    img = cv2.imread(image_path)\n",
        "    clone = img.copy()\n",
        "    bboxes = []\n",
        "\n",
        "    # ✅ Define these variables in the enclosing scope first\n",
        "    x_start, y_start = -1, -1\n",
        "    drawing = False\n",
        "\n",
        "    def draw(event, x, y, flags, param):\n",
        "        nonlocal x_start, y_start, drawing\n",
        "\n",
        "        if event == cv2.EVENT_LBUTTONDOWN:\n",
        "            x_start, y_start = x, y\n",
        "            drawing = True\n",
        "\n",
        "        elif event == cv2.EVENT_LBUTTONUP:\n",
        "            drawing = False\n",
        "            x_end, y_end = x, y\n",
        "            cv2.rectangle(img, (x_start, y_start), (x_end, y_end), (0, 255, 0), 2)\n",
        "            bboxes.append((x_start, y_start, x_end, y_end))\n",
        "\n",
        "    cv2.namedWindow(\"Annotation Tool\")\n",
        "    cv2.setMouseCallback(\"Annotation Tool\", draw)\n",
        "\n",
        "    print(\"Press 'q' to finish annotation\")\n",
        "    while True:\n",
        "        cv2.imshow(\"Annotation Tool\", img)\n",
        "        key = cv2.waitKey(1) & 0xFF\n",
        "        if key == ord(\"q\"):\n",
        "            break\n",
        "\n",
        "    cv2.destroyAllWindows()\n",
        "    return bboxes\n",
        "\n",
        "```\n",
        "\n",
        "> ⚠️ This works only in local Python, not in Colab due to GUI limitations.\n",
        "\n",
        "---\n",
        "\n",
        "## 🔍 Understanding YOLO Annotation Format (very important!)\n",
        "\n",
        "Each `.txt` file contains **one line per object**:\n",
        "\n",
        "```\n",
        "class_id x_center y_center width height\n",
        "```\n",
        "\n",
        "All values are **normalized** between `0 and 1` w\\.r.t. image dimensions.\n",
        "\n",
        "Example:\n",
        "\n",
        "```plaintext\n",
        "0 0.5 0.5 0.3 0.4\n",
        "```\n",
        "\n",
        "This means:\n",
        "\n",
        "* class\\_id = 0 (e.g., 'cat')\n",
        "* bounding box center is at (50% width, 50% height)\n",
        "* box size is 30% width × 40% height\n",
        "\n",
        "---\n",
        "\n",
        "## 🛠 You can Practice This:\n",
        "\n",
        "* Annotate 5–10 images using [Makesense.ai](https://www.makesense.ai/)\n",
        "* Export in YOLO format\n",
        "* Upload to Colab\n",
        "* Train YOLOv8 on it\n"
      ],
      "metadata": {
        "id": "V4DFpmz34yzz"
      }
    },
    {
      "cell_type": "markdown",
      "source": [
        "import os\n",
        "import xml.etree.ElementTree as ET\n",
        "\n",
        "# Classes in the dataset\n",
        "CLASSES = ['apple', 'mango']\n",
        "\n",
        "# Input and output paths\n",
        "xml_folder = 'annotations_xml'\n",
        "output_labels = 'labels'\n",
        "\n",
        "os.makedirs(output_labels, exist_ok=True)\n",
        "\n",
        "# Function to convert\n",
        "\n",
        "\n",
        "def convert(xml_file):\n",
        "    tree = ET.parse(xml_file)\n",
        "    root = tree.getroot()\n",
        "\n",
        "    img_w = int(root.find('size/width').text)\n",
        "    img_h = int(root.find('size/height').text)\n",
        "\n",
        "    yolo_lines = []\n",
        "\n",
        "    for obj in root.findall('object'):\n",
        "        class_name = obj.find('name').text.lower()\n",
        "        if class_name not in CLASSES:\n",
        "            continue\n",
        "\n",
        "        class_id = CLASSES.index(class_name)\n",
        "\n",
        "        bndbox = obj.find('bndbox')\n",
        "        xmin = int(bndbox.find('xmin').text)\n",
        "        ymin = int(bndbox.find('ymin').text)\n",
        "        xmax = int(bndbox.find('xmax').text)\n",
        "        ymax = int(bndbox.find('ymax').text)\n",
        "\n",
        "        # Convert to YOLO format\n",
        "        x_center = (xmin + xmax) / 2.0 / img_w\n",
        "        y_center = (ymin + ymax) / 2.0 / img_h\n",
        "        width = (xmax - xmin) / img_w\n",
        "        height = (ymax - ymin) / img_h\n",
        "\n",
        "        yolo_lines.append(\n",
        "            f\"{class_id} {x_center:.6f} {y_center:.6f} {width:.6f} {height:.6f}\")\n",
        "\n",
        "    return yolo_lines\n",
        "\n",
        "\n",
        "# Process all XML files\n",
        "for file in os.listdir(xml_folder):\n",
        "    if file.endswith(\".xml\"):\n",
        "        xml_path = os.path.join(xml_folder, file)\n",
        "        yolo_data = convert(xml_path)\n",
        "\n",
        "        txt_filename = file.replace(\".xml\", \".txt\")\n",
        "        with open(os.path.join(output_labels, txt_filename), \"w\") as f:\n",
        "            f.write(\"\\n\".join(yolo_data))\n",
        "\n",
        "print(\"✅ Conversion completed.\")\n"
      ],
      "metadata": {
        "id": "WItuCfaP97dT"
      }
    },
    {
      "cell_type": "markdown",
      "source": [
        "\n",
        "\n",
        "---\n",
        "\n"
      ],
      "metadata": {
        "id": "rcq2DXygHStC"
      }
    },
    {
      "cell_type": "markdown",
      "source": [
        "# Custom_Object_Detection_from_Scratch"
      ],
      "metadata": {
        "id": "BD8v6QDUHPcB"
      }
    },
    {
      "cell_type": "markdown",
      "source": [
        "If you've successfully annotated your mango and apple images using **LabelImg**, and the annotations are saved in **Pascal VOC XML format**\n",
        "\n",
        "### ✅ Your next steps are:\n",
        "\n",
        "1. **Convert the Pascal VOC (XML) annotations to YOLO format**\n",
        "2. **Organize dataset into YOLO folder structure**\n",
        "3. **Train YOLOv8 on this data using Google Colab**\n",
        "\n",
        "---\n",
        "\n",
        "![image.png](data:image/png;base64,iVBORw0KGgoAAAANSUhEUgAABS4AAAOOCAYAAAAOGowGAAAAAXNSR0IArs4c6QAAAARnQU1BAACxjwv8YQUAAAAJcEhZcwAAEnQAABJ0Ad5mH3gAAP+lSURBVHhe7N17XBT3vT/+1y53BfFuQBcUEoPBiLlYazbEk1iNlDZJ21z44vFnIsmJ+WLtKSZUSQ+1pMGUJvScVL4xJ8HEr0e+NKZt2pRoJNYmuLU2N/FSiQmoYDAmUQRBWNid+f2xO8PMZy8sCLi7vJ6Pxz6Emc/MXmZ2ZF/7eX8+hunTp8sgIiIiIiIiIiIi8iNGcQERERERERERERHRlcbgkoiIiIiIiIiIiPwOg0siIiIiIiIiIiLyOwwuiYiIiIiIiIiIyO8YBjI5jyzLCA0NhdFohNHI7JOIhockSZAkCTabDQaDQVxNREREREREREGk38Gl0WiEwWBAWFgYQ0siGnZKcGm32yHL/bp8EREREREREVEA8Tm4lGUZISEhCA8PZ09LIrqilJ6X3d3dsNvt7H1JREREREREFIR8Sh+V0DIyMhIhISEMLYnoijIajbprEnteEhEREREREQUfnxJIg8Gg9rRkzyYi8gcGgwFGoxHh4eG8LhEREREREREFoT5LxWVZRnh4OMMBohFIGc82LCzsir3/7XY7enp6YLPZxFWA8xrV09OD7u5ucRURERERERERBTCvPS5lWVaDiysVWhDRlREaGorRo0df8S8tlJLwqKgocRXgDFdDQ0NhMBhYMk5EREREREQURPoMLjl7ONHIo4SF/iQkJMRjeGk0GhEaGiouJiIiIiIiIqIA1mciGRISIi4ioiAXHh4uLvIL3iYH4yQ9RERERERERMHFfQKgcSVLRIlo+CmT3vgrT1+m8FpFREREREREFFw8phOyLKtjXBLRyGE0Gv36fe+pJFwZ45K9LomIiIiIiIiCg8fgkoiIiIiIiIiIiOhKYXBJREREREREREREfscwffp0t3WVsixDkiTExMT0a7y7/O+34+75VkRHypBhgCwDsmzAntoI/NebkTh9zv34dETkH7zN3u0P7HY7Ojs7xcWQJAkXL170+1J3IiIiIiIiIvKN74mkj66dKmF0hAxZNkCWDJBlI2TZgDuu78HDS6yIG2cXNyGiIHHVVVeJi1z40oaIiIiIiIiIaNB7XL60ug03J9vUnpaAAZIMQNP7UgbgmD/D4PhdWe5cduikEc/9KQINZ9lrCgBuvPFGvPjii9i/fz/WrFkjrg5oy5Ytw7p167B3796ge26B6nJ6XL722ms4cOAAnnvuOXEV4AwtX3zxRfz5z3/GSy+9JK72iT/1uPz1r3+N6OhoPPLII+IqIiIiIiIiIrpMvieSPuruAS52Am2XDGi7BFzokNF2CbjYFQ5MXoyo636E0bMfR/T1/47o1FzEpP4bxszOQWzq/4exs5dh7HX34dbFSzFufKy464CzevVqvPPOO1i2bJm4yqMbb7wRVVVVeP7558VVGDVqlLiIyK+sWbMGt912G9auXSuuUkPL9957b8Chpb+Jjo4WFxERERERERHRIBn04DIy6SGMnfcrTPhmCSZ+cyMmf/MXmDx/AybdtBZRE1NhkLsBextgbwfsHYB0CbBfAqROwN4JSFYYQwzD1mNqKM2cORNTpkwRF3s1a9YsJCQk6JZ99NFHmDdvHh5++GHdciJ/88UXX+DRRx91CS+1oaWn3phERERERERERFqDHlwajHYY7BeAnvO9N9t5wNbqCCflHkDqAaRuQO52/KvclN/t3YAsibv22fPPP4+amhocPnwY77//Pl5++WXdusOHD2P16tX43e9+p7ZZv3692qaqqgqHDx/G0qVL8c477+Dw4cOoqanB0qVL1TbKvrT3o+0lWVVVhdtvvx0AsG7dOhw+fBgAEBcXh+3bt+P9999X96vc9/PPP49169YBAG6//XYcPnwYy5Ytw7Jly3D48GHd/t3tZ/Xq1ep6X57n0qVL1XWHDx/G7373O3WdO8o+xef5/vvvIy4uTnefymuovG6rV69WX6uqqirExcXp9k3BQwwvGVoSERERERER0UAMenAJyeYIJ2VnEKkElXD+qwsre3rbqoFlNyBbAbgdetMnN9xwA9566y0888wzaGxsxPz583WBHQCsWLECn3/+OSoqKgAA3//+913CtCeffBJ79uzB3r17MXbsWPzwhz9U123fvh233347GhsbUVFRgcbGRtx+++1qSPqb3/wGhw4dAgC8+eabeOaZZwAAd9xxB8aOHYutW7fixRdfhNVqRXZ2Nm688Ua8+uqrePPNNwEAhw4dwjPPPIO//OUv6n0q4uLisG3bNsycORO1tbWoqKiA1WrFo48+qgsv0cfzfOqppzB58mS8+OKLePHFFxEb6708f82aNbhw4QIWLFiAuLg4LFu2DAkJCaiursaZM2fUdg888ABqa2vV1+3JJ5/EAw88gLfeegvHjx9HQkICnnrqKd2+Kbhow8tXX32VoSURERERERER9dvgB5ey3dmj0k3PSlkTVirr7NbedbLV+bsVwMB7XN5///3YuHEjtm/frgZ5YihZW1uLNWvWYOPGjdi/fz8iIyNxxx136Nr89re/xcaNG7FmzRo0NjaqJdw33ngj5syZg0OHDmHZsmXYuHEjfvCDH6ghaVxcHHbt2oVz584BAI4ePYrt27cDAP7yl78gMzMTmzZtwqZNm/DGG28AzhLxjz76CEePHgUAnDt3Dtu3b9cFgooHH3wQU6ZMwe9//3s8/PDD2LhxI5YvX46uri7cc889urbenmdkZCS+/PJL9bEsX75ct607mzdvRmRkJNavX4+HHnoIZ8+eRUFBga7NJ598goKCAqxZswZnz57F2LFj1dfyBz/4AeDmeBD5u1//+td46aWXdLerr74aV199tcvyYBnDk4iIiIiIiOhKGoLgUgkrld6UmhBT27tScgaVLuXiSpA58ODyjjvuwPbt21FVVYXdu3cDAJKTk3Vt9u7dq/vdnU2bNomLAGfICAD79+/XLa+vrwec9+/JmTNnsH79evzud7/DO++8g0cffRQAMH/+fLGpR0ro9+qrr6rLzpw5gy+//NJlTE1vz7OxsREzZ85ETU2N28mA3Nm+fTuOHz+O22+/HVOmTMGzzz4rNtHdp9VqBby8lhSctOXhDz74oMuYl4GovxPxTJ06VVxERERERERERP0w+MGlUiquCyPFcNLNMsnZ01L5fYCl4qtXr8a6desQGRmJnTt3qiXa/uLll19GdnY2Wlpa8Morr6il4VdCZmYmKioq0NbWhttvvx3btm0Tm7jV0tKi/vzll1/q1hGJY1qKY14GqkceecTl9tlnn+Gzzz5zWf7II4/g888/F3dBRERERERERP0w+MElbEJA6W5sS6UkXBtYan6XrQPucalMiPODH/wAmzZtUsu1B5OyzwULFuiWK7063Y1LqUhLS0NjYyMefvhhtXy8v9rb2wFnybgiLi4OkydPxtmzZzUtPVN6bW7cuBGZmZk4cOAApkyZgmXLlolNdZYtW4b58+dj79696Orq4liVpCOGlopgCS+JiIiIiIiIaPgMfnCpTs7jDCyVMSvVnpfKz9rAUjvO5eX1uOzq6gKcM2CvXr1aN6HOYNm1axeOHz+OOXPmYPv27Vi2bBm2b9+OhIQE7N27Vx2XUvn3+9//PoqLiwHn45s8eTLWr1+P9evXIz09XbfvY8eOAQCuu+46rF+/3mUmczgn/rlw4QK+//3vq8/z5ZdfRmRkJF555RWxuVt33HEHqqqqsHr1aixbtgzTp08HNPfvTlxcHFatWoULFy5gzZo1qK6uRkJCgsvERzRyPf/88y6hpUIbXj7yyCPiaiIiIiIiIiIinUEPLmVbB2R7p6b3pKb3pW4iHs163cQ83bB3WyFLA+tx+fjjj6szfD/wwAP4zW9+IzYZFKtXr8aBAwcwc+ZMrFu3Tg0t16xZo7Z59dVX1XEkFy9eDAB4+umn0dXVhezsbNx666347W9/q9kr8NFHH6m9H7Ozs3XrFGfOnMGPfvQj9Xk++uijiIiIwIsvvuhzL85jx44hIiICjz76KNatWwcAeOaZZ/DRRx+JTVVPPfUUxo4di7feegsAUFBQoAaonGyHAKC4uNhtaKlQwssrOUQCEREREREREQUGw/Tp0912bZRlGZIkISYmBkaj7/nmw9+y47s39WDMKANkALIMAAY4ckgDZBicVeAGYTkA2QBJBo42yfg/uw049ZV+30Q09EJCQhAVFSUu9ht2ux2dnZ3iYkiShIsXL8JoNMJgMIirh4Qyezh7kBIRERERERENvkEPLimwLVu2TO2BKbr++uvFRRSEGFz6burUqZyEh4iIiIiIiGiIMLgkIh0Gl0RERERERETkD5hIEhERERERERERkd9hcElEOpIkQXYMTuuX7Ha7uIiIiIiIiIiIghCDSyLSUYaJ8FcMLomIiIiIiIhGBgaXROTCarWKi/xCT08Pg0siIiIiIiKiEYLBJRG5kCTJ7QQ4V1JPT4/fBqpERERERERENPgYXBKRW3a7HR0dHbBarVd0zEu73Y6uri6GlkREREREREQjjGH69OluEwklqIiJiRFXERH5pYsXLwIADAaDuIqIiIiIiIiIAozHHpeyLCMkJERcTETkt0JCQq5o71AiIiIiIiIiGjxug0tZliHLMsLCwsRVRER+S7lmMbwkIiIiIiIiCnwuwaUSWkZGRjK4JKKAEhYWhoiICPU6RkRERERERESBy2AymdRP9waDASEhIQgLC0N4eLi+JRFRgOju7kZPTw/sdjsDTCIiIiIiIqIAZZg9ezY/1RMREREREREREZFfcSkVJyIiIiIiIiIiIrrSGFwSERERERERERGR32FwSURERERERERERH6HwSURERERERERERH5HQaXRERERERERERE5HcYXBIREREREREREZHfYXBJREREREREREREfofBJREREREREREREfkdBpdERERERERERETkdwyzZ8+WxYVEFJzCwsIQFhYGo5HfWRARERERERGRf2N6QTQChISEIDo6GhEREQwtiYiIiIiIiCggMMEgCnIGgwFRUVHiYiIiIiIiIiIiv8bgkijIhYaGiouIiIiIiIiIiPweg0uiIMfgkoiIiIiIiIgCEYNLoiAXEhIiLiIiIiIiIiIi8nsMLomIiIiIiIiIiMjvMLgkIiIiIiIiIiIiv8PgkoiIiIiIiIiIiPwOg0siIiIiIiIiIiLyO4bZs2fL4kIiCh7R0dHiogEZNWoUvv/97+Pmm2/u9z47Ojpw6NAhvPbaa7h48aK4moiIiIiIiIjIBYNLoiDX35DRk8ceeww33HADjhw5gpMnT4qrvTKZTEhLS8M///lP/Od//qe4moiIiIiIiIjIBYNLoiA3GMHlqFGj8Pzzz+Ptt9/Gjh07xNU+ueuuu3DXXXfhiSeeQEtLi7iarrC1a9fi3nvvxWOPPYaDBw+Kq4fMa6+9BgC4//77xVXkR/bv34+amhrk5+eLq4iuuJKSEqSnpwMASktLB/z/FBERERH5nys2xuX27duxfv16cXFQmz17tvqHdbDbvn07tm/fLi4OOuvXr8fvfvc7HD58GIcPH8b777+P3/3ud7pzu6amRrdNIJo6dSoA4MiRI+Iqn9XV1QEAJk2aJK4KOmvXrsX+/fvd3u677z6xOY1Qns6TkpISsalfu++++/p83EqbtWvX6pa/9tprLs9fbCNS9iXe+toOAF5++WXsd74P9+/frwbnopKSEt0+lfvo6/07d+5c7N+/H7t27VKXKfflbltPr8twUM4/T8dNeQ3mzp2rLnN3znp6DV977TWP67SU+9HeXn75ZbGZR2vXrkV6ejoee+wxLFiwgKEl0TB6+eWXddc7IiKioXBFgksl0Nq4caO4KqgpoU+wh5fbt2/HzJkzMXPmzKANL5cuXYp33nkHs2fPxt69e3H99dfj+uuvx7x587B3717Mnj0b77zzDpYuXYqxY8eKmwccg8EAALDb7eIq8kL5IK3cSktLkZeXh/3794tNaQTTnielpaVIT0/vV3Bzpe3YsQNNTU2YM2eOuEp15513AgCee+45QBPYAdC9Rx577DHce++9HgOvXbt2IS8vz+W95csXRPfddx9SU1Px2GOPYceOHXj99ddhMplcQsO5c+ciPT0dNTU16uNVKM/Dk9WrV4uLvFIex7333iuucqukpGTQQoLnnnsOR48e9Xjc0tPT8frrr6s9sHft2qX2yta+9nAGu9qA01f79+9Henq6bn8LFizAtGnTfL5Ozpo1C01NTcPaU3wwXKnAmobGrl27Bu29SURERHrDHlwqQdayZcvEVSOC8uEqWMNL5fgqvSa0y4LF0qVL8eSTT+KNN97AsmXLsGnTJt36TZs2YdmyZXjjjTfw5JNP6tbR8PnWt76FRx55RFx8Re3YsQMLFixAa2urx2CGhp8/nStKkJWamjqgIOhKOXnyJGJjYz0+5tTUVBw9ehRwBoN5eXmoqalxGSLg4MGDWLBgAcaMGeMS3r722mtoa2vDggULXEKq/Px8l5BRdN999+Ho0aPqts899xyampqwePFiXbuCggK0tra6lMW3trb2eVxSU1PR2toqLvbqueeeQ2trq8eej1rjx48XF12WTZs2ITY21iVAKykpQWtrq/qaKtcrd6/9/fffj5qaGrzwwgu65X3ZtWsXmpqa1PBTa+nSpTh69KhPQdCYMWPERX7P2zk02Pzp+uZPBhocK1+6DOcxJCIiGumGNbgc6aGlIljDS3fHV/k5mMLLxx9/HL/97W9dAkvFjTfeiGXLlqGlpQWffPKJuJqGyYwZM7By5coBfTAZauXl5TCZTG5LR2n4+du50tjYCAC45pprxFV+q6KiAgCQnZ0trlLP87fffhtw9kp0FwxqVVdX60LCtWvXwmQyobi4WGzqk7lz58JkMrlct3fs2IHY2Fg1NFTup7y8XNcOAA4dOgR4eI5whn3QtOuP6upqjz0fh9LBgwdx9OhRl/A2PT0d1dXVgPP4eXpNFMqx9CV8hfN1jo2N9Xo8PYWq1D/+dn3zB5cTOiYkJIiLAGfYvnTpUnExERERDYJhCy7dhVojWbCFl96ObzCFl+vXr8fZs2ddPvxq3XvvvcjOzkZ2djbi4uJw/PhxsQkNg5deekktwfS3D2zKGGzz5s3TLVfG31Nu2t5Gyth54nNRttHSjqmnjB8HZw8nZd++9vh0N/6cyN2Yg+LjhJt9eQo5xH0NdcDrz+cK3JwX7o6B2EbsrejuGCkf3t2t6+/rcPDgQY/l4nfeeSdaW1vV8z41NbXPcE/p6bdo0SIAwPz583W9JfsrOzsbra2tLtvv2LEDR48eVf8vXrx4MY4ePepxnMSamhqP/2/PmTMHNTU1A+oVuWfPHsTGxno815X3f2pqKmJjY9XjpG0vvr/2uzlP3FECQmVfYm9L8fh5cvToUUyfPl1c7Nb8+fP7LO9WzqlZs2aJqwDNeWsymWAymbDfwzXT23mtjM+nfQ/MnTvX7XLt660dm9Vdr1Bx7FZtm5dfflntnXrvvfdifz+uxwPh79c3IiIior4MS3DpLdQayYIlvPTl+AZLeHnzzTdjfx8fBgsKCpCZmanefvCDH4hNaJg899xzfvuBrampSRdw7Nq1C9OmTdON89bW1qZ+kPb0IX7atGmAplcbnIGoGDTs378f69atwwLnOIImk8kl3BK99tprLuPPHT16VPcBHs771o57p7zm2jYvv/yyy76mT58Ok8mktlGChpqaGt2+hoM/nStKoL1jxw7MnTsXY8aM0b1uTU1NuiDktddeczl3tEpKSpCXl4fS0lJ1vXZMSF+Ony8OHDjgtlxcG1Qq695//31dG3daW1vV891kMuH8+fNiE5+NHz8ep0+fFhcDAB5++GHA+R6JjY1Vf3dH6VkqniNKD0JlfX8dPHgQra2tHntzKSX0R48eRWtrq3qslPe4r+9Vd5Rel0o7bW9LOEuxPb12WufPn9e9n70ZM2YMTp48KS520dbWpl7jRMrQG01NTWrJudLjbe3atXjhhRfw+uuvq69HaWkp7r33XrfXvZycHLWdEqYqYa729czLy8OuXbtw4MABdXlsbKxun/fdd586pIFyg6bc/uGHH8Zjjz0GAOrjE4dMGGxX6vqm/bLMXUCrTOAkhszil1q7du3Cyy+/7BIku3su4r7Edn0Fx+K22mO7yznOKwC88MILuseqPBeR+BqI599a54RXc+fO7TMQ7+sLKneUbcTrgPZ5K49deSzKTbleD+RLTyIiosE05MGlMlHLuXPn8Pzzz/t881Y+5M9uuOEGzJs3z+dbV1cXoqOjAza89CW0VARDeDlz5kyvvS3J/1ypD2z9UVJSgtjYWJcys/vvvx+tra3qhB8nT55Eamqqul75INLU1KTrvTl9+nSXoKG0tFT9QH7w4EHU1NTo9iVa6yyZVT5gKx5++GE0NTXpPgTdf//9up5Typh9ymO6zzkpSmlpqdoGzu20lNJobfjz3HPP9dnTa7D4w7my1jlDshLYHjx40OV1UsqblQ+VY8aMcenBqIRv9913n7o/7euYn5+vHrO+jp+vlB562lJq5XUcaKCndfbsWXGRz8aMGeM1+FSC3L4m+VG+QJg/f75u+eX2CIUzpJsyZYq4uE/9ea96smnTJphMJpfeloHq3nvvdZlcydP4sbGxsVi3bp36u5b2b1Hl//62tjbdfmtqanTh6o4dO1zC7+rqap9D3aEy3Ne3tWvX4tChQ7oA190XZiaTCc8884za5vXXX0d6errLY0xNTdUFyTU1NS5fsPgSWHsLjktKSnTbPvbYY0hNTVXDyaVLl6rXZuXLHk9DXigB6unTp3WvQWpqqttQ8oUXXlDD+AXOQFwbEvb1BZUn7q4DL7/8MlpbW3X/t5hMJsyaNUvdd1NTE1544QXs2rUL5eXl6uuhXCeIiIiG05AHlxTcjhw54lNoqVi2bBlOnTolLg56fX0YpqH1nHP23HvvvRdXXXWVuPqK0E4oMX36dHXiEtHp06fVD8VKLzXlA8i8efNw+vRpnDx5UleiazKZ1PEEFWL411cI5G2m3pMnT7p8CBd7ucTGxqo9Sue56QGqaGpqUn/+9NNPAQDPPPOMpsXwuhLnitJzZ//+/bjXOWuzGBxpy4Dz8vIATdDb1taG9PR0twGV8tqL+xN5O379IZaLz5o1y22J9nAbM2aMx3N+rnMW8aamJqSnp7v0GBXt2LEDJs0Ytfc5x4AU33P91dbWNqDXvL/vVXeUXpdib8tApBwXd2H5nj17AM0QBHD27HX32onLlZ/d9RSNjY0VF+l6xym99Po6t4bacF7fnnvuOZdQTwx5Fdov7Z5zTpolfjkgBm35+flobW3FnXfeqS7rT2DtjjjJl/K+8HUIBK2CggI0NTW5hNiPPfaY27FbxS+XXn/9dZhMJp++oOpLcXExTCYT1q5di7lz5yI1NdXtmLXa/SmP5fTp0+rPl/N6EBERXY4hDy6XLVuG48ePY8KECVizZo3Pt4KCAnFXAeHjjz/G+++/7/MtMjIS7e3tARtsbdy4UVzUp0A9tpdj7Nix4iIaRmvXrkVqaipef/11fPHFF+LqKyI2NhbHjh0D+pgVV9tLbMeOHbqecHPmzMHbb7+NiooKtQee8mHIXUjojqcPct4ekxgA7d+/Hy+88IKuFLlVM7Oyr2HMQWc5bKyHMfyGw5U4V7Rl2guEWZuV0r05c+ao6931XFXKWPcL5YO+vPZ9Hb/+UMrFleMmjmepPDdfenNq3yOtmrLxwabMIq70cO7r/yjlfagEJnfeeSeampp8fs8Ntv68V71RXmsl3FN4K9fWGj9+vO6LCG/a2tp8Cj98LVPX8lRuD835N5SULxm0QzwovfSutCtxfdOWP6enp7uEvO7Omba2NnGR2/NA266/gbU32tLo1NRUr+8xT0wmEw4cOCAuxkHnsBDi9Ux83ymTtCm8fUHVl4POKovFixejoKDA7Ti+4nFQvkhUrgtaA3k9iIiILseQB5cIkhLhoaCUhwdqaDkSHT9+XC3b9dXq1asDfoKejo4OAMCkSZPEVT5TPqx0d3eLq4bU2rVrce+99+L111/vs9fZcFHCReXxuPuQphCDp9OnT2P69OmYO3cuYmNjsWPHDvWD0KJFizBr1iyPvTf7w9tj0pazKiVjCzTj7V0u5cO+EsaJPVOGij+eK8pkMeIwAqKHH35YDTVTU1N9HodssI+f8rrNmzdPPW5ikHD06FG3k/hoKdsqH+ZPnz7tdWiDvngqw14rzCKulPT2dc4ps54rwyC4Cyj6q69ydk98fa8O1Ntvv60Loz1JTU112xvRnQMHDuh6k7kz1zkTvLvgxBsx8NHydn+DJT09HTU1NS5DPFxpw319U3qcasf77M/fu76GY0q7wQislZBVW+I+kP9P+zrPvL1nRUrPem9fUPlC6f06ZswYn3tqEhER+YthCS7B8NIFQ8vA9MEHH2CBj+MKKRYsWIAPPvhAXBxQPv/8c7S3tyMjIwOpqamYMGFCv24zZ85ERkYGOjo63PaaGCrD/UHNF3PnzlXL2RTi2JVa06ZN0/VYe/vtt2EymZCdna37QHX69GnMmjUL06ZN6/cHfXeOHTvmMVgQS9vF3nlKqKo4duyY2iNUbOetjPXhhx922zNlKPjjuaIQwyxvvRV37NiBmpoa9XX1JXTq6/j1lxJMepo5WpnF2ts4acp7RNlW+aDd3w/rCk9l2Pfee6+u95FSpqqU9nqinCM5OTlo9aEU3xfeytkV4rmAfr5XB2LHjh1oampCTk6OuEqljJknlgZ78pxzHFVvvVuVUtv+vrbKsdSOtapQetz1d5/9JR5H8RomvieG2nBf35Ry5Ndff33YQrLLDayVIR9KS0t9Po896ev4+hrKigb6BRU0X1KJPxMREQWCYQsuwfBSxdAycG3cuBFTpkzxudfl6tWrMWXKlAGV1PubV199FePGjcOPf/xj/PKXv+zXLT8/H3Fxcfif//kf2Gw2cddD4pFHHhnWD2q+KCkpwQsvvICamhrdByPlZ3HA/tdeew2xsbG6tsqH8jlz5ugCyrfffhupqamIjY11KTkbCCVYUGZfVbz88sswmUzqRBVnz55FrDBelzhGpad9ie3Wrl2r248SoA1GEOuNP54rCqU8UHGfc7IdLfHD6/Tp09WyPyV0ysvL0314Lykpwdy5c306fv2lhKXeSiVfd07AIQaRc51jbTY1NbmEB8qHdfF9Aufz8dZL8vz58y7lzsp9ixOuKROyiI9NVFNTg9jYWJdx5wZCOde9hS/QvN+0x9LT+0t8r16O+++/H7HOIRxEr732GlJTUz1OcOPJunXrYDKZ3B7PXbt2wWQyDbjXYk1NjcsEL/fdd5/Ll0ZDobW1FYsXL1Z/X+sszxYN15cyV/L6Jp7PvgwPMFD9Cay9BYtKibRCvG6Iz8kTd+N0QvNev5wxccUvqPoy1zmOb3V1NcrLywdcck5ERHSlDGtwCYaXDC2DwLPPPosHHnigz/By9erVeOCBB/Dss8+KqwLSwYMH8dOf/hQvvvgiXnnlFbzyyivqB4WPP/5YXfbxxx8Dzj+slWUvvvgifvrTn6qTywyHEydOYMuWLcP+QU1LO+mKdpxCMZCBs2duW1ubrr2yXHT06FHExsbqnptyLNz1cBuopUuX4ujRo7rHpMxqqtzHc889hxrn7K5Km3Xr1rn04lu6dClaW1t1+1q3bp1uXK3GxkbdfpTZYYf6GPrDueKJMu6i8prcd999LmNcjhkzxuW80QY+999/P2pqanTn45w5c3Dw4EGfj19/aEvOPb2mzz33HBYsWIBp06bpHrsy1qa7wGqHc8Zd8X2y3zl2nrfAXjsOLJxBZ2pqqq5Xp+KgcwKK1NRUr2GoUgLv7v3sjlLiqb0p+1+0aBFaPUxgpfWcs0eociyV8MGX9+rlUkp9xeeglAK7ux+TyeTSXgkqDzrHtD19+rRLG6VUd6Dy8/PV2aSVfebl5Q1Kb7q+LF26VA159+/fj1mzZrkd47K8vBypqanYv3+/y5cPg+lKXN+Uc0EbjpWUlPgctA1UfwJrMThWAkvt33Yvv/yyS+9zpV1f42XucE7iJX4B8sILLwxoTFzxHNF+QdWXZ555Ru297EsPaiIiIn9jmD17tiwuHA7bt2/HqVOnvJYJBZsbbrgB0dHRLn88BaPnn38eALBmzRpxVVBYunQpHn/8cZw9exb79+/X9WhZvXo1FixYgClTpuDZZ59125tkOEVHR4uLLltERASio6Mxfvx4/OQnP0F1dTXeeecdAMC3vvUtLF68GL/85S9x/vx5tLe3w2q1irsgIhpWr732Gk6ePDnkwdVA7Nq1C4cOHfLLx0Y0EHPnztX1Alb+9k1PT1dDaSWME7+oePnllzFt2jR1bN9du3bh9OnTLmXn7ra/7777kJeXp2nl6K0tBoXadk1NTbj//vtdtn399dfVIVi04wyXlJToOiLk5+e7fSxwTn6mJVZcKGX8jz32mC78Vx6L8th37dqlC1GVx9yX1157DSaTSbd/5dgo+3D32JU24peH4rERfyciIhoKVyy4pOCmlNoFezC9fv163HzzzZg5c6a67Pjx4/jggw/8pjx8sIPL0NBQPPvssz7vt6enB/n5+bh48aK4ioho2ChBgBgQXGlKcHE5PQyJiIiIiIIVg0uiIOdrwNgfCxcudCmf8sRqtaK6uhqSJImriIiGldJTyl9CQrFXFRERERER6TG4JApyQxFcEhEREdGVpS1bd8dfvqQhIiK6HAwuiYIcg0siIiIiIiIiCkTDPqs4ERERERERERERUV8YXBIREREREREREZHfYXBJREREREREREREfofBJREREREREREREfkdBpdEQc5ut4uLiIiIiIiIiIj8HoNLoiBns9nERUREREREREREfo/BJVGQ6+npERcREREREREREfk9BpdEI8ClS5fERUREREREREREfo3BJdEIIEkS2tvb0dXVBUmSxNVERERERERERH7HMHv2bFlcSERERERERERERHQlscclERERERERERER+R0Gl0REREREREREROR3GFwSERERERERERGR32FwSURERERERERERH6HwSURERERERERERH5HQaXRERERERERERE5HcYXBIREREREREREZHfYXBJREREREREREREfofBJREREREREREREfkdwy233CKLC4mIiIiIiIiIiIiuJENcXByDSyIiIiIiIiIiIvIrLBUnIiIiIiIiIiIiv8PgkoiIiIiIiIiIiPwOg0siIiIiIiIiIiLyOwwuiYiIiIiIiIiIyO8wuCQiIiIiIiIiIiK/w+CSiIiIiIiIiIiI/A6DSyIiIiIiIiIiIvI7DC6JiIiIiIiIiIjI7zC4JCIiIiIiIiIiIr/D4DLIxMbGiouIiMiP8bpN5D/4fiQiIiLyLwwug0xoaKi4iIiI/Biv20T+g+9HIiIiIv/C4JKIiIiIiIiIiIj8DoNLIiIiIiIiIiIi8jsMLomIiIiIiIiIiMjvMLgkIiIiIiIiIiIiv8PgkoiIiIiIiIiIiPwOg0siIiIiIiIiIiLyOwwuiYiIiIiIiIiIyO8wuCQiIiIiIiIiIiK/Y4iLi5PFhYNtVFQUvv3tb2PevHmIi4tDdHQ0LrS24syZM9i7dy/ee+89dHd3i5vRAEyYMAHnzp0TFw+6kJAQzJs3DwcPHkRXV5e4WicsLAzz58/HwYMH0d7eLq4mPzZx4kSkpKQgevRodZkkyzh37hxqa2ths9l07YNR7M13IiQqWrdMtttw4R87Idt43QpEISEhSE5ORnx8PADgiy++wGeffXbFzufhum4TUd/4fiQiIiLyL0MaXIaGhGD58uX41+XL0XrhAt555x2cPn0aX371FZKTknBdaipmz56N8PBwvPB//g/+9Oab4i6on4brD26DwYD58+ejp6cHH374obhaZ+7cuYiOjsb+/ftht9vF1QHLYAxB5NSrETpmIgzGEN06WZYgXbqIrubPYO/q0K3zZ6GhoUhMTMSE8eMBAGNiY9Hc3IwvvvhCbWM0GjF37lxYu7pgtVph7e5GY2MjWlpaNHsKHiGjxsAYHoHwyQkIjR6HSw21kLqtsF9qE5sGlZDocYicnIBLp45Ctl+ZQG+oXHfddZgyZQpOnjgBg9GI6dOn4+zZszh69KjYdFgM13WbiPrG9yMRERGRfxmy4HLChAn42c9+hqQZM1BaWoq/7N0rNgGc4ebKnBws/9d/xdtvv41nnnkGtiAKt4bbcP7BHR0djVtuuQVHjhxBc3OzuBoAMGnSJNxwww34xz/+gQsXLoirA5fBgDHX34bQ6FhYzzZC6rHq1xtDEDFpGgxhEWj9cDcka6d+vZ9SeqEpxzMuLg5dXV26UDIyMhKmadPwxdmzuHjxIkZFRWHKlCnY+9e/BmQwPXbsWMTGxiI0NFRcpWpubgYmTUdY7CS0HX4PycnJsNlsaG1tDbjz2mAwYOLEiRgzZoxueUtLC86fP6/+HpUwC1GJ18HW+jUuHrUEXHgZERGBadOmiYthMBiQnJSEr77+Gq2trYDzHJg4YQLqGxogy67/JTY2NqKnp0dcPGiG+rodGhKC/Px8bHnlFd2XEFohkaMx5sZvoeVvfxRXEY0oQ/1+JCIiIqL+GZLgMjQkBC+88AIAYN369T79ATh79mw8s3Ej3nvvPZT86lfiavLRcP/BnZycjMTERNTU1Lh8sA8NDcWtt96KM2fO4JNPPtGtC3Rh469CzHW3oPWDtz33qDQYMPbmO9H99ee4dOKwuNYvfWPePJw7fx719fUAgNGjRmH6jBkYPWqU2kaSZZz7+mucOHlSXbb0zjvxj/ff1wVf/s5gMCA1NRXTpk7FxYsXXc5frWN1dbCNm6YGl9+YNw9hYWGIiYnBF2fP4vDhwwER2oaEhODmm29GbGws2traIGkec2NjI744e1b9PSphFsInJ8AYEgp7Z3vAhZfR0dG4btYsjB8/3uX4GkNCdM/d3TLl+H719dc4cuQIrFbhy4lBNJTX7dCQEPy8qAh33H47zp49i5yHH3Z7XzGpt2Bm4ev48AFH+TwNv+SkJMSOHSsuHpBz587h1KlT4mLywVC+H4mIiIio/4YkuFy7di1u/5d/wYoHH+zXH3+3ms341a9+hSeffNJjD03ybrj/4DYYDLhlwQK0d3SgtrZWt+762bMxfvx4WP72tys2dtxQiUqYhbBxV6Gt1vt5GjV9NkKjx+LikX3iKr8kBpe+WrBgAT7++OM+xzv1J0lJSZg+fTo+/OADtLb1XfYdlTBLDS4V0dHRuPnmm9Hc3Izjx4/r2vujpKQkJM2YAcvf/obOTs+9gEMiRyNqeiqMYZHoqP8YY66/LSDDSwC44447cOzYMZw5c0Zc5dXECRNw4003Yffu3eKqQTdU120ltPzmN7+JUVFROHv2LLq6upC7erXL/TG4vPJ27NiBaVOniosH5P0PPsCaNWvExeSDoXo/EhEREdHADPqs4pMnTcI9d9+N0tJSt3/4RZlSkPrr3g/+WvssFlRVVWFlTo64yidvvvkmmpubkeNm+6effvqKjV8WzGRZxpEjRzBlyhRMmjRJXT5xwgRMnToVh48cCfjQctKkSViwYAGWLFmCpXfeifHO8R8h+dDDTrLDYBj0t5nf2b9/f0CFlgAQHx+PkydPuoSWMdctQJTpWt0yT9rb23HixAnEXXWVuMovjRs3Ds1nzrgNLY0RUYieeRPGzluK2HlLERY7CVJPF+yXLqLt0LswhEUgJtUMQ4jnknp/ZO3qQmREhLi4TxGRkW5fp0ChDS3zfvxjAMB//td/AQDKNm3ChAkThC0Gj/J/sXJ7k+NX++S+++7DgltuGZRbf0JLi8Xi8Rjl5OSgubkZ8+fPV48rEREREdFwGvRE5Z7vfQ/nW1rw3nvuw8nQMeMRGX+1uFj1wubNSE5Kwo033iiu8lleXp64iIZQa1sbTp06hdTUVISGhiI0NBSpqaloOn06oEqH3Rk7dixuuOEGXLx4ER999BH+8f77aPOhd16wChs7CdGzvokx19/m9hZlujZggq3o0aNdxqcMGR2LsAnxiDSlwBASplvnycWLFxEVFSUu9kshRqPbkuew8Vch9sZvwRg1Bp2NdWh9fxdaDlShve4fAODobXnovYAML7usVkRERoqL+xQZGQlrgIXxCjG0rD10CADQ1taG3NWrgSEMLy0WC+D8YkC5DQZ++Th0/vrXv+Kmm24SFwMA7rnnHnz44Yc4cOAAvvvd7w7a8SQiIiIi8tWgB5c33ngj3t61a8AT7Jw7dw5ffvUVbr75ZnGVT5QZrl999VVxFQ2hzz77DDabDTNnzgQAWLu7g2Jcy2nTpqG1tRVHjhzB119/jfPnzwd8D9KBMoSEIua6BYC9Bz2tX7m9RVw1A5HxyeKmASMqYRZ6Ws4Cdhsi45PE1UFJGa+1q+kTtB36K6xnT7odt1Xq6UJ73QGExk4MqGPc1dWFSCG4HD1qVG/PaWcPcTF8joqKCtgel0/+9KcuoaXi3LlzuvBy1CCG7vPnz8eMGTPwi1/8Qrf8u9/9ru53cu+u734XOTk5g3LLzMwUd+/Rk08+CTjDYdFNN92EN954Q1xMRERERDRsBj24jIuLw5dffqlbFmVKQUzqLYhJvQVRiamAczwt5RY2drKufd2xY4iLi9Mt64/S0lIsWbIE8+fPF1fpPP3007pythxnifmbb76p9hpRNDc36/6of/XVV13aiK677jo8+uij4mI8+uijuO6668TFAc1ut+Po0aNIMJkwduxYvP/++0ER8I2KisLXX38tLh6RQmPGASFhaD/+ITobj7m9Wc+eQtjYKeKmASEkKhrhE+LRdfoTdJ1pQGT81TAYQ8RmQcUQEoroq29E58kj6Dx9HHAzo7bCGBaJ6JT5sLV+ja7m/o2BeiW5Cy6viovD1cm94WtSUpJLT7LIyEh0BmiPy85Ll9yGlgolvPz0008RHR0trh6wAwcOAM7J9rx59dVXdf/3il80Kv/fKustFgseeughx1AHzt/7Eoj//95w44248YYbBuU2tZ9jZX744YeYM2eObpnyN095ebn6u9jrVRwWQCH+zaQcT62jR4+6DUu1AvE4ejJ//nz85je/Uf/WFM2fPx+vvvqqx79dc3Jy8Jvf/MbjeiIiIqJgNejB5eRJk9De3q5blvzEFswsfB0zC1+HacXPAUD9fWbh65h4R7aufdPp05isGS+xv8rLy3HixAmUlpaKq1RPP/00HnroIbWU7T/+4z/w1FNPYf78+XjjjTcwY8YMta3yR6b2j/prrrkGf/3rX9Xf3fn6668xf/583R/djz76KObPnx+UYdiFCxfQ3dOD66+/XlxF5Pci45Jhv9SGngtfoevzz2AICUH4JJPYLKhEmlIg9XSh8/NPAWc4GT7JhNFX34DYG+5AdMo31OUxc26D3GMNuAl63AWXvoiMjERXgPa4LPnVrzyGlopz587hPwoL8eVXX4mrLsvu3bvx1FNPuYSRijfffBPz5s3TlZIvWbLEpb32/2ez2YxXXnkFLS0t6u99CcT/f3/+858jd/XqQbn993//t7h7rw4dOuRSLj5nzhy1isWdN998E+PHj1eP0+7du9VgUwxClZ+Vv6fmz5+PcePGqb09PQnE4+jOtGnTUFFRgR/84Ad46qmn8MQTT+jWz58/H3/4wx+wZMkS/OEPf3AJJ5944gk89dRT+MEPfoCKigpMmzZNt56IiIgomA16cHnmzBnEjh2rW3ZkzS348IF4fPhAPI4X3QsA6u8fPhCPM7//T137xMTEfs8AK8rLy8OMGTM8fpt/zz334D/+4z/U35Ww87HHHlN7Fyh/YN9zzz3YvXs3kpJ6S0dnzJiBP/3pT+rv7nz55ZdYt26d+ke38sf2unXrXHqlBoPpiYkwGAyQJQlXX+15HFMif2MIDUdE3AwYQkIx5vrbEHPdAsiyjMhpjqEPglX4hHhYv2xESORojJl9K8Z+MxOjZ1wPyDKkbiuMYZEBHVoCQGdn54Am54mMiECXm/FAybsHH3wQ3/ve97BkyRKXXnfz58/HTTfdhJUrV+q2eeWVVzBv3jyXZZdjpP3/e7nclYt7KxNXjqU2RH7wwQcxbtw45OTk4NChQ7q/mW666Sbs3r0b6enpAIC77roLJ06cUNd7EizH8c4779QNR3Hbbbfp1j/22GNef9e2j4qKwp133qlbT0RERBTMBj24PP3550hMSBAX98vs2bPx+eefi4v75cCBA9i9ezceeughcRXgnF33qaee0pU4aXtZnjhxQv0DOykpCS+88ALg/GM9JycHLS0talmcN9o/ugPxj21fRUdH4+prrsHRI0dw5OhRJCYmIiYmRmxG5Jci45Mh23pgPXtKHa+zq7leLR8PRsawSISMikFozHjE3vgtyJIdF49a0PL+TnTUH4Tt4nkYwyMCOrSEc1ZxOD/s+0qZZKwrQEvF+xI2Pg4zVv/GZZgWUXTKNzD1X3u/4PPVgQMH1EqGhx56SJ2xevbs2W7/7/zTn/6EcePG6ZY1NDTofh+IQPv/92c/+xnKNm0alNv69evF3fdJ20vy6aefRktLi/pFrkgZDkD7N5S2FFw5psrfTCdOnEBNTQ2uueYawNkD89NPHT29+xJox9Gdt99+WzdmrjiBpfI3pqffte07Ozvx9ttv69YTERERBbNBDy7fqa7G4sWLER4eLq7ySWJiIsbGxqK6ulpc1W8PPvggWlpaXErQFN/73vd05Wrx8fF48MEHAecsm9dccw3mz5+PCxcu4MCBA2hoaMBdd92F9PR0vP/+++LuPPryyy+xcuVKrFy5MuD+2PbEEBKKsHFTED4hHoaQMKSmpuLc11/ji7Nn8fXXX+NMczPmXH89jCGhCJ8Qj7DxVwXUTMR9kaydCIkZ1+fM02HjroJkdZ3ohPyHwRiCyLgkdDV/ph+z89Q/0f31aUTGB2fv4dCxjuE4wsZNQfsn7+PiP/ej5/wXunEujaPGBHRoCees4nCWfvtKaRuswaV0qQ2jktMw82evewwvo1O+gavXb0e4h/W+KC8vx/e+9z3cdNNNmH+FxuULpP9/P/7oI3z08ceDctu7d6+4+z698cYbarn4v/zLv/T5d45Sui/eysvLceDAAZw4cUL9m+mvf/0rysvL1S+ItV8I+yKQjqM7p0+fRnJysvoa/epXv9KtV8J+5SaG+7/61a/UdcnJyTh9+rRuPREREVEwG/zg8p13cPHiRdzlYRbRrjMn0PzbEnExACA0JAT5TzyBv+zdi9OX2eNSoUzUIw5U39LSgrvuuku3TOtPf/oTZsyYgbvuukvtFXDo0CHMmTMH11xzDWpqasRNRozwiVMxbsFdiL7mJoyanopxC74L26hx+OexY2qbY3V1uBQWjbEL7sLo5LkYPeN6jFtwF8In9m/CAH/Vfa4ZkCXEXLcA4ROnImzsJP1t3BREXzsPoWPGw/oVP2D4NYMR3S1foKvZtYdXZ+Mx2DtaxcVBwd7RCmtzPVo/egfdX7teb3sunEX32ZNqaBkZGYmQkMCbrMhut6O7p6ffwaXNZguKCcbcsXd14PjPHcO2uAsvldCy7eBenHzhx7p1/aUNYI4cOaL2wtO666670NLSols2Ev3pzTdRXl4+KLe///3v4u77VF5ejpaWFjz99NOYMWOG12DR07HU+vTTT9W/mZShdU6cOKGWo4vhHBERERGRO4MeXF7q7MQvnn4aj/3v/62WBGn1nD/jMqal4oEHHkBScjJ+VeI+2ByI8vJyfPjhh1iyZIlu+fvvv4+HHnpI90e3Us4G5x/ULS0tuOeee9SQ8k9/+hOSkpIwY8YMlHsonwp2oWPGI/raeeg4/gFa/vEWLnxYjc5P38eJ7kjYwkf1Nhw1Bqdso9DVcFBt137s72qYF+hkWzfaDr0HyBJGz7wZMdffpr+lmhEyOhbtdf9AT8tZcXPyA+0dHYgdMwayvQcdxz+EbO8Rm8B+6SI6GmrFxTqjoqJ0JYCBwn6pDR31ByFZ3T92W9t5tB//UO1pOXv2bCQmJorNAoK1q0s3zqW1qwvnNUFZZ2cnWlt7A+qRML5lz4UvdeFlyGjH2NTa0PLE8/+7Xz1t58+fr/t/FM4ZxJXy8AMHDuDDDz/Eli1bdG0eeughj2MpKhoaGlzKyWnwNTQ04KGHHnJb0q+l9KgUj6X2+NfU1CApKQljx45V9/Xpp5/innvuGZShAIiIiIhoZBj04BIAPvroI7z11lt49tlnMSslRVztIjQkBMuys7Fq1Sr8qqQEFzQfIAfDd930/nzwwQexe/du/OEPf3AZm0mh/GGthJTKH96+DCgfrMInTIWt7TysXzaqyzrPNqH7XDPCJ/T2plTaXdL0Yus+1+zSLhB46mVm72hF25F9aPnbH3G+5nf6277fO3qyfdUkbkZ+4syZM5g+Ywaio6PFVT6LiopCcnIyzgZQ6aKn87kvoaGhMBgM4uKA0GW1IkLT4/L055/js88+U38/fOSIbobiiMjIgAyj+0sbXpoe/DkADDi0hPP/yJtuukk35uG8efOQmpqqtvnud7+LhoYGXZtXXnmlz9mlld6Azc3NsFgs4uqgsGPHDuz/298G5fZSP2cVVygBcl9l4gBgNptx4cIF3bE8pJnNvry8HOPGjdPtq6amBuPGjdO1IyIiIiLyxhAXF9c7oNkgCg0JwYoHH8T/t3w5Xn31VfzpzTdx7tw5sRkSExOR/8QTak/LvwxgXCbqNWHCBLev82CJuW4BZMmO9rp/6JaPmnE9QqKicfGf+/vVzt9dd911mDBhgtehASIiInD99dejvr4+4MsdvzFvHs6dP4/6+npxFcLGTkLM9bfhfM3vxFWqqIRZCIudhLbD+okH/JHBYMCNN96I8ePHo729HXYvZcHH6upgGzdNfW7fmDcPIaGhiI6ORktLCw4ePBgQZcW+nM/ujB41Cunp6fjo448Dcny51NRUhIWF4eDBg+Iqt66fPRuSLOPo0aPiqiEx1NdtANj/t79h1apVqHUTGIWNnYyU4iqET5iKlr//eUChJV2+5KQkxI519Hy9XKebmvDlV1+Ji8kHw/F+JCIiIiLfDVlwqbjmmmvwHz/9KRITE1F76BDOnDmD1gsXMCMpCbNnz8bY2Fj8Ze/eIelpORIN9R/cUaZrERmXjAsf7u79YGswYOyN34L1q9PobHSMc+lrO38XFRUFs9kMq9WKs2fPwm6369aHhoZi8uTJkGUZ+/fvd1kfaEZScKmYOGECYmJiYPTSE7G5uRmYNF19bsnJyZDsdlxsb9f11PN3fZ3P7kRGRiLuqqvQZbXCYrFA1kzeEyiSk5MxefJk7N/v2xcm8+fPx1dffTVs5axDfd0GgFvNZuzz0lMxcsp0TPr2Izj9f3/G0JJGtOF4PxIRERGR74Y8uFSkzZmD9Ntuw5TJkzF+/HicOXMGn3/+OaqrqwdtIh4a+j+4DSGhiL3xW5C6rbB+cQKyvQeRcckIiYrGhQ+r1XECfW0XCKKiopCQkOAIt4RSWUmW0dbWhoaGhoDocdeX1NRUREVFuQQ2ra2tkEPDMXZeBjqOfwCp200ZrcGIUUlpsF34Eh31vvVsCwQho8bAGB6B8MkJCI0eh0sNtZAlO2xt58WmAcHb+eyOXZJw4cIFnDp1KmDP8YiICKSnp+PEiRN99ooeO3YskpOT8d5778E6TONcDvV1m4h8x/cjERERkX8ZtuCShsdw/MFtCA3HqKTrET52CgCgp/UrXDp5xGWSD1/bkf8YPWoUZl13HSZOmKAuk2QZH3zwAc6fP4+oaTMRaboWhtBw3XYKW8tZdHz2MexdHeKqgBV7850IidKPgyl3dzkCeFu3bjn5r/j4eFx77bWICHd/7iq6e3pw/JNPhvULteG4bhORb/h+JCIiIvIvDC6DDP/gJiIKLLxuE/kPvh+JiIiI/MuQzCpOREREREREREREdDkYXBIREREREREREZHfYXBJREREREREREREfofBJREREREREREREfkdBpdERERERERERETkdxhcEhERERERERERkd9hcElERERERERERER+h8ElERERERERERER+R0Gl0Gmu7tbXERERH6M120i/8H3IxEREZF/McTFxcniQiIiIiIiIiIiIqIriT0uiYiIiIiIiIiIyO8wuCQiIiIiIiIiIiK/w+CSiIiIiIiIiIiI/A6DSyIiIiIiIiIiIvI7DC6JiIiIiIiIiIjI7zC4JCIiIiIiIiIiIr9juOWWW2RxIREREREREREREdGVZIiLi2NwSVecJEniostms9kQExOD0aNHo6OjAwBgtVrFZkRE1E/f/va38dZbb4mLiQISz2caCjyv/AuPBxFR4GKpOBEREZEfePDBB8VFOn2tJyIiIiIKNgwuiYiIiPzAxx9/jF/84hfiYgDAL37xC3z88cfiYiIiIiKioMbgkoiIiMgP1NbWYseOHS7h5S9+8Qvs2LEDtbW1uuVERERERMGOwSURERGRnxDDS4aWRERERDSSMbgkIiIi8iNKePn//t//Y2hJRERERCMag0siIiIiP1NbW4v/9b/+F0NLIiIiIhrRGFwSERERERERERGR3zEkJCTIo0aNgtHIDJOGnyRJuHTpEqxWq7jqstlsNsTExGD06NHo6OgAgCG5HyKikebb3/423nrrLXExUUDi+UxDgeeVf+HxICIKXIaUlBQ5KiqKwSVdEZIkobOzEy0tLeKqy8bgkohoaPADIAUTns80FHhe+RceDyKiwGU0Go0MLemK4flHRERERERERETuMDEi8gOZJRZYLJXITRHXACm5lbCUZIqLiYj8WkpuJSwWi8ut0t2FLsiI123HNb4E2it57+vjWO6uTX+J90uDw3FsPNz4etNlcjm/+rh2EBERjTQMLon8hgnZG3IR/B/piWjEsBTDbDZrbsVozC7v/wfxzBJYKgP3+liVb4bZnI8qZUFKLjZkAxU5vctd2pDfcBwbx63YIpzX+TxiNFApyK20oAD662TxqenqtY7XBSIiIgaXRH6jqaICFlM2NoyA3khENFJVId+cg4omMwpGfE+1RpysE5cR0YiRsgjppiZUbNHHklVlZeClgYiIqBeDSyK/sQf5xRaYsld674mUkotKbUmR0Asps8SCytxM5Fb2tinJFLdz7e2kL+t0X7ZORHT56lC2zQKYF/Zeh7xc1zJLLLAUmAFTNsqFMsr+XLcG59rovjRYV+pZmYtkN+uVEvmU3EpYyrNhghkFmv1p2yj6en593S8NvcwS13MiJbdSPYeV46o7lm56D/d1rCkI1Z1EI0xI9PLG1V0XMkv01yI31ySeR0REFIwYXBL5k6p8FFu890RKWZSImhylpCgHFchGudDelL0c2OBok1PRBHOBBZYNwAZlG6G3U0puJcrTa5CjlCoVNyK73PUDPBHRoKg/hSYkYLrzQ7W361pVvhnmYgvQVOG4RjlLcwdy3RrQtTG7EcVqGWcOKhIKXMagK0hwPjazGeZtiSjINqnrRXVlWTDnVKAJFsd+PZQa9/X8+nu/NDSq3rUACb2lvUAKFqWbYNnW22vOlF2ODdjg9vyGD8eaglUVtjivQ+KXFm5V5etKynMqmhzXxcu4JhIREQUCBpdEfqZqSwWazMs9fkteV5aPMrWGyNlzSfehCYBlm9qmrmwbLIDmQ5S4TSZWZgMVGzSlSVVbUNFkxkL+tUtEQ6HuJBq1v/pyXdMZ4HVrINfGHO34cnUo21CBJrW3aCYWmpuEx5HvGAfxsvT1/Ibqfqnfqt6FxZSORcrJmrII6SYL3tXm0ZZiZKknuHIOKf/P93WsKZgpX2QguxyW/kxepoyTq543PI+IiCh4Mbgk8jd1ZdhQAa8T9ehKgQrM4mo0naoXl8BlkSJzIcwwIbtcW3pUDnbcIaIhkzIdCeKiPq5rOgO8bvX/2uhmHMq6k2hUeoumTEeCmzb1p5r0C/qrr+c3VPdLA1CFdy0mpDuTy5RF6TBZ3tVNpuJy3mmD+76ONQW/ujJkmR09y03Z5S5DD7hKQa4jtez9wofnERERBbGADy6vHteFoltPY8MtjZgyqkdcTRSQ6sq2eZioJxMlFotQCjQYXWycJYvCzUMFIxHR5UlOhKmpBnvqcBnXNT+4biUnYuhyAS/Pb0jvl/qr6l0LTOmLkKKUieu6W/rCy7GmkaMq3zGMhJeqGwBIyd2AbFRgQ283dSeeR0REFJwCOrhMiu3Er247iVsmt8E8pR3/Z2E9ksZ0ic2IAlCVOlHPIu3ilOlIgAXFWb2lQCnTxX5L/SSMNUdENLQyUVJg7i3RHsh1bTiuW57uQ9vb0UOb5MTLjBU97FflYf1l3y8NjFIunummTByASZx9Rdub18OxpBGqrwl7MktQLpaEg+cREREFt4ANLpNiO/HsracwSrLBZpVgt8oYJdux8cYTmBHdKTYnCjzOiXqyXep8NH+YpuRig8v6fqorwzaLSRjAPQW5JZ5L1YmIBiQlF5WWApgtxUIvIB+ua6bE3lmzh+O65ek+NmQDFVscpcBKG+3QHpkl6KvSvU+e7lt5fkN1vzRAznLx5a5l4gAAc4FjBntADe6bxHPI07Gm4JWSi0qXGemXwwzX8NtBOXc0JeIKnkdERBTEAjK4TB7ThV9+4yRGSXZIVuDs7PX4IjUfdquE0bIdxdefQNJo9rwMNgsXLkRhYSFuu+02cVXQqtpSAd2IZcr4l8oYRhuADT6VVHpXlW92zGauGRcp/dQe/bf5RET9ZS7QjLdmgaU8EdvMwkzavlzXnJNMFFgs6vhvw3Hdqso3I6ciQX8fNTmaiVaAqnznLNFKm4XvOmb7vUx9Pb+hul8amKotFYAJqNjimjg1VRTj1HLlODqCe/055P1YU5CqO4lG4RpZnt2IYrN2QrBemSUFMDtnqdddV4fxmkhERHQlGK677jo5KipKXO63kmM6sfGmExgdKgES8PXN62BP+T4kSYLhyO8w4e+/BOwy2ntC8NNPknGyM3Ce20jV2dmJc+fOiYtdFBYWqj8XFRXp1rljs9kQExOD0aNHo6OjAwBgtVrFZkRE1E/f/va38dZbb4mLiQLSoJzPmSWwLD+FHM2QB47FFiw/pQ+7aWQYlPOKBg2PBxFR4AqoHpdJoztRnNaAUbIdklXGVzeug+3a76nrrTO/iy9vegL2bhmRdht+lvAZEsMv6fbhybU//D0+KP2OuBgA8J3SD/D7H14rLiYiIiKiES8FucvNaKph7zYiIiKiwRYwweWMUZdQPLsBUZIdNquMr29eB1vKPZBlGZIkwWazwWg0wpryHZz9xuOQrECU3Yb/iP8MCWG+hZdERERERL7KLHGU5GY36su/iYiIiGhwBERwOSPqEn6R0oAIyQ57N3Bu/jrYrusNLXt6egAAkiQBALpTv4Ozt+RBssqI7LHhp+M+RUIIw0siIiIiGjxV+WaYxXFbNaryzQw0iYiIiC6D3weX0yMvoeiaekRJdtitMs598yewp94DOINKSZIgyzJsNpv6s8FgQFdqBs6m/zukHiBSsmH92OODGl5e+8Pf44MPPui9CWXmjvLy7+CHv+9tU/odANf+EL9XtyuFWJyu3+/vwQp1IiIiIiIiIiIaifw+uHwi8SQi7c7Q0vwT2K939LRUgkq73a7+q9xsNhsMBgOsc76Nswt/BAAYZbBj/djj4u4H5Nof/h7bV5zEhptvxs0334ybb16GrdM3uISXCStWAusdbZZtbcRtGz7ABxuB9co2jbdhg2aba3/4e2y/fS+WKfvdcBIrtruGm0RERERERERERMHO74PLI22jYUM0zt+2DtKcuyHLMux2u/qvGF4qvTCV8LJrzhKcuX0NAOAj61hx93q3bdD3onTeNtymbfQdPLoC2LosD39Wl32C36zfisbb7tCHjO9twW8+cbb4zRa8B+C9Lb+BY9En+M2W94DpM+DoVOnc73plPYA/v4itjbfhDiaXREREREREREQ0wvh9cPnCmUSc/99vQ77hHhgMBpegUgwtlX8BwG63AwA6Uxfj01V/wEvt04W9C97b4OxBqb9teE/T5jt34DacxAk1XXT65AROYjpmaEq7G098qm0BoBEuixTfuQO3IQErtmtD0+1YkSA2JCIiIiIiIiIiCn5+H1wCQEhIiK6HpRJQ/vznP8e///u/48c//jEef/xxPP7449i4caOuZFyWZXUf/u89Tfl57y2vt2snERERERERERHRiBAQwaVYBq7MJn7+/HmxKVpaWtRScaW9chsUn55Ao9CzEgBw7QxMd9cT01ee9ktERERERERERDQCBURwqZ2Ix2azqf96IvbMVP4dFJ/8BlveSxAmzbkWP9y4Atj6ombcy37ytN/SHzrHwCQiIvIPb731lriIKGDxfKahwPPKv/B4EBEFroAILsUel0qvS09kWVZ7ZWq3HSx/zrsZy7ZOxwbNWJS3712G7ysz8QzQn/Nuxob3btPv98Tu3sl6iIiIiIiIiIiIRgjDddddJ0dFRYnL/cqvf/1rXa9J5d/169cLLR1++tOfAs7AU5ZltXfmr371K6El+YPOzk6cO3dOXOyisLBQ/bmoqEi3zh2bzYaYmBiMHj0aHR0dAACr1So2IyIiIiIiIiIiPxQQPS6VyXaUCXqU3pSeaHtZKhP0eGtPRERERERERERE/iUggsv29na17FsZ49LbmJXacS2VsLOlpUVsRkRERERERERERH4qIILLP/3pTzh37pxa8m23272WFl+4cEE3oU9nZyf+/ve/i82IiIiIiIiIiIjITwXEGJcU3DjGJRERERERERERiQKixyURERERERERERGNLAwuiYiIiIiIiIiIyO8wuCQiIiIiIiIiIiK/w+CSiIiIiIiIiIiI/A6DSyIiIiIiIiIiIvI7DC6JiIiIiIiIiIjI7zC4JCIiIiIiIiIiIr9jlCQJkiSJy4mGBc8/IiIiIiIiIiJyx5CQkCCPGjUKRiM7X9LwkyQJly5dgtVqFVe5KCwsVH8uKirSrXPHZrMhJiYGo0ePRkdHBwD4dD9ERERERERERHTlGeLi4mRxIdFw86XXZSAFl1lbm1G6WFzqVJ2H+BWV4lKfpBXuw87kTQPenoiIiIiIiIgoULCbJdEQqFwRj/h4xy2v2hlWOn9n6EhERERERERE1DcGl0SC0aNHi4vc8rUdERERERERERH1H4NLIsGyZcuwbNkycbHOsmXLcM8994iL+yWtcB+am5t7b1uzxCbI2qpZv68Qs8QGaYXYp93HvkKkOVdlbXXdZ1rhPjTv6y25JyIiIiIiIiLyVwwuiQT//d//jSlTpngML5ctW4bJkydj+/bt4iqfpRXuw85V9chTysfjM7A5uVQXNGZtbUZp8mZkKG02JaN0VZJ+P3cnY3eGZh9YhZ3OfVTurAaSZ6pBJpCGu5ckoXpT3+ODEhERERERERFdaQwuidwoLS11G14qoeWvf/1r3fL+yULeKmBzxgr0jnZZi6LczWhYnAFH7JiFjMUN2JxbhFqlSeUKx3iZGrVFK1CkNqhF0SZNWFm5E9VJS3C3klym3Y0lSdXYySE2iYiIiIiIiCgAMLgk8kAMLwcntASQlYHFqMdxNXB0qj2OeiRjZhqAtJlIdtPmWH2DfoFYcq6byrwSO6uTsMSZXKbdvQRJ1Ts1YSkRERERERERkf9icEnkhRJePvPMM4MTWvpqVjL0ReHuZGFrczN2LtndW04udMms3FmNpCV3I00pE2d3SyIiIiIiIiIKEAwuifpQWlqKPXv2DF5oeaweDUrPSi1tL0sPbWYla+LMtJlIRjXybu0tJ0+bmdy7Hppy8SyWiRMRERERERFRYGFwSeSD6mphcMnLUVuETdVJWLVzq3M8SwBIQ2HZKmBzqaOUW2lT1jtLOLK2QlcJDgDacDOtEGXC5D1qufhqlokTERERERERUWAxxMXFyeJCf2K48TvAt38MQ8RowGCALEmAwQhAhmyzOxrJgCRJgCRBlgFIMmRZhtzSjJC//V8Yj74t7pb8jCRJ4iIXhYWF6s9FRX3PjG2z2RATE4PRo0ejo6MDAGC1WsVmQy5razNKkYf4FfrY0DGzeG/Q2LA5A7f2zrTjCDP37YTapDoPGfWrsTN5k7ov3T4aNiNjUzJ2rq5HhqYXJtIKsW/nEuzOuFUzkQ8RERERERERkX/z++DSuPYNYFwcDAYDZEmGDBmy3Q7A8bsjpJQAGZAlCbJdciyXHW0NnR0Ie+EecbfkZ4I5uLzisraiWQwziYiIiIiIiIj8nP+Xio+LA2QZkt0OWZYg2+yQJUC2O3tY2m2QbUpgKTl6WsqyI+S0y5DCogAAXcnfEvdMNAKkoXD1YjTs/iNDSyIiIiIiIiIKKH4fXMqSI5CEDGdoKTsDSyWsBGRZhmSXINtlNdCUnNvJdkdPvtb5P8L5O4rF3RMFraytzWhu3olV9XlCCToRERERERERkf/z++ASjqpvSD02yM5ycMnZu1IXTkoSnvjmBHz9RCryb5kEqMGmI7g0yBJsk2eJeycKWpUr4hEfH+8ytiYRERERERERUSDw++BS7VkpO3pTSja7Y1xL53LJZodst0Oy2ZFvngwAyL91ijPQtEOy2Rw7kiRAck7m403WVjQ3N+tvW3vnfu5L1tZm7CtU54F2+Z2IiIiIiIiIiIj65vfBpWS3O0JKm+NfSLKj96VzDEt1gh67Hb987wsAwDN/PdM7SY9zzheDJMEge5sAJg2F+5rRXArkxTt7qsXHIz4+D9XJM8HokYiIiIiIiIiIaPj4fXApS47xKyVJcoSYknPyHaU3pbNkHLIjsIz9+QfYuPdzZ+Bph2R39riUewAvwWVaYRlWYTMy4ldAX1hbiRWcjZmIiIiIiIiIiGhY+X9w6SwJh7O3pVo6rvS+tEuQbRIku80xnqUdkO3KzOPaHpd2GDyWimchb1USqjf5EFCmFWKftox8X2G/e2OmFe7TlKLvQ28luaPX59asLGxtbkZz81Zs3epaqp5WuG9A90tERERERERERBQo/D+4tNmFWcTtjol5bHb827yJ+Cj3Ojy1ZKom0LQ7wkpnW2WMS4PsCC/dysrAYlRjpw9zmKTdnYzdGUoZeQY2YxV29mMMzLTCfdi5ZDcylFL0vHqs2rkV2j0kr85AfUY84uNXYMXOakBXqp6Gu5f4GLISEREREREREREFKP8PLmUZks3uLBV3zihuk7A2PQ4bFk1F3JhwrLx5Mn793RnO2cZlSM4ScccYmM4dSTYYZGHnXuh7RfYGi7VFK1CkJoa1KNokBoveZCFvFbA5VxM6VpZic8NiZGiTy92lvfdRuRPVSUtwt3IHaXdjSZJvISsREREREREREVGg8vvgUrI5elhChmOmcJsd/26+CmvMV8FqB7rsQLcd+N71k/DsXUlqeClLzvbOXpYGyQ7Ye8Tde1RbdKujR2TGZjQI63ShZuliYa0XWRlYjCSs2qmdtXwnViXpm9Uf1/alrMTO6iQscSaXaXcvQVL1TmEcTiIiIiIiIiIiouDi98ElZMfM4bLNUQq+xhyHXHMcup2BZbcdsNoBqwTcPWcSnrkrGbLdpi8bBwDJDsgeSsWP1aMByZjZZ7dJx9iT+lLvarFRH6qFWcsdtxVeksjKndVIWnI30pQycXa3JCIiIiIiIiKiIOf3waXs7HEpSxJyF1yFx26JdwSVNmdgaQO6pd4A87tzpuB/L0x0hpeOsnEAMMgSDLKHWvHaImyqTsKqvD7GqkybiWRUI08zy3jazGShkRc+B6QCpVw8i2XiREREREREREQ0Mvh/cCk7Zglf9c04/NsCR2jZ7exh2e28WZ2hZbfd8fsjC6fj0X+Z4SwZd3S5NEgSDOqAl64qV+ShenGpD7N1a4LHtEKUiXXe3igBqW4ynjQUbu3rPp3l4qtZJk5ERERERERERCOD3weX0qVWZKVNQc43nT0tNSGl7nfJEWZabUC3DchZOAMP/8sMGDvPOXdkh8HZ+9K9SqyIj0de/SrsVMefbEbzzlWoz1vhCAtri5C7Gb1jVJYBuf0sFa9cEY+86sUo1YxxuaT+j33OEF5ZuhlIAjaXMrYkIiIiIiIiIqLgZ4iLi/NQP+0fJt2UgdKnN2DKVBOUSm+l36QsA8qDl52/qz8DaG9rw/rH83Dy0N9xMf1nMBiMGLP7h84tAkzWVjSvrkeGpkw9mEjOnrHeFBYWqj8XFRXp1rljs9kQExOD0aNHo6OjAwBgtVrFZkRERERERERE5If8Pri8XGGRozE2/d9QLyfCAANi3vmR2CQApKFw304s2Z2BW4uCMbYM3uAy/NqbELtyPULi44AIA2TYIBt6YAyxItTQAcO5ZrRXvYWWP7wtbkpERERERERENKIFTHBpnb4I0vUP4AffSMCYUeGAAYAkQTYYABnqWJYwOH82Gnu7YAL46LMvUXv4n4jeX9y70wCQtbUZpYsBVOch3tvU4wEu2ILL0IlTMeHxzQhNvBp2wyXIhm7Ihh7HaWvoQkiIHaEhnQgLvYSoiDaEWFvRXLod5/YcEXdFRERERERERDQi+f0Yl4qw039Dqv0IRkeFwW63w26XYJNk2CUZdlmCBECCDEmWIcEAu80OuwTHeruMlLgoxH+xW9yt36tcEY/4+PigDi2DTejEqbjq2XcQmngNYJAAGBznpSzDjh5IsowemwGSDMhyCAwAIsbISP75fZhVeIe4OyIiIiIiIiKiESlgelxScAuWHpehE6dhyrO7gfAwyAYbJHTDbuiAbLA5o/UeyJBgMMgwGCREjzqPUEMnxsV8gciwdkSEteP0/92Huv8KziEBiIiIiIiIiIh8FTA9LokCwYS1LwHh4QAMkCGhp7sHPa0SZFmGHd2Q4JjZXpIBo7EHdpsMg0GGtTsU3bYwSFIPrn7oGoyKjxJ3TUREREREREQ0ojC4JBok4dfOQ0hiCmx2G84cPISGN/eicacFZ/YcwOev/w3ndh9B97keyHB0cpZlwG4Pgd0uQZbsMOISIHXBiEu4+ekUcfdERERERERERCMKg0uiQTLhkV/C2m5F/Z730dYWBnnSTBjjroNx2mwYp86GPSIOLZZ6tB1shgESjOhGWEgnjIZuGODofWk09ECyd2Pi3GDtcZmGwn3NaG523rZmiQ2IKBhklsBisbi9lWSKjZ3tK3OhfGWTWaLZRrPchXY78T7d3JHX/fa1vbjeXRstoX1lrsdn4VNbr4/doxTkVnpu79hnJdzcnVMmSvp6niPEQF4rxzYl8OdXLyW30nle+f44e7fR3ry9Ns5thvg88nYfmSW97yvde0m8edieBsJx/enrJXV73JzXROWYuTvn3F0niYgoODG4JBok1qiJOHmgDtLoeMgR0ZBDIgBjBOTQKCAyFoieBOO4qej6wob2Y1/CIHegp0cCbBch2W2AbEXXJRu6rKGw9gTjWzMNhft2YlV9nmPCqfgMbE4uZXhJFIyq8mE2m/W3YgvQVIEtVWLjFOQuN8OyrQx1zg+oBWYLip3bFTdmo1z8UOuyXQpyF55Cjnp/xbCYC3QfbFNyK1GQUOFsk4MKaPfb9/YAAEux/jnluzwZVeZCqM/BbC5GY3a5xw/wfbX1/TURpCxCOprQZErHIo+f8U1I97AyJXc5EpqaxMUjWP9eq6p8M8zmfHg+S66wlFxsyAYqcjSPU/gSwSPxvWDOQlmd2Mg/OY6L871kEZ6Ll/c0+c4RDpcj2ySu8UFKLioLzLAUm5GlPam0xymnAvByTSUiouASjOkI0RVx7vMW2EJjICEEsmSAJDnGspQkA+wdHQirO4TQTfch7A+FsH36OSB3IdTQBgO6YbR/BZu1HZIkQ5ZlGGTHZEJBJe1uLEmqRt6KSueCWhTlbkbD4gwwuiQKdvpwUr9qEdJNFrxb5Wi3KN0ES3Fv2FO1pQJN5oWuvcF029WhLF+77ypsqWiCKX2RM4DJxMpsk+b+61C2oQJN5uXOXmJ9bQ+kTE9Q1/qiKl8bWFXhXQtgXujyLIA+2/bjNRFkrswGajZgm8WE7JXuWzc1NcGUvdLNvhz3S72C87VqxEmXNyXRZcgscX7RUgyLuK5PmSgpzwYqcuA1Q64rwzYv11QiIgouDC6JBom1JxQSDJAl2RFa2mVIdhlyZydsH+2H/LZzJvQLX0Da/iTQ2Y4QXIDB/jXstm4Y5YsIkc7BKF2EZPM8+3nW1mbsK8zSlVxvzQKQVoh9Sgl281Z9GKhb14zmfYVI612Jwn3N2JqlLePeh8LeBoDzfrXbZxXuc+ktmVa4r7eNWAo+KxlJ2sYAUHsc9UjGTOG+iCjIZK5ENtz1tgRSFqXDZHm3373S+tqu7mRj7y8p05EAJeRUG6ARJiQma5Zp6LYfJE2n6h0/pOSiso/SWrXtgGViobkJNXvqvAedNdtQ0WSGy+d/5zHbViMsH8n6+Vppy5MVYsmro8eYUlLrLDfXlG2L7T2V1Dpu+nPK27YpuZWwlGfDBDMKnOsySyywFJgBUzbK3d1XP4hDG7h7m4ltMt2UDOufg/f3DPmJqvwB9jROQW5lARIqcvQ9Lb24/OskEREFAgaXRIPkYksnZFmGJDlusgTHz8cPw2Czw2C9oGsfEtoCu60HkgRAtsHe0wNJMkCyd6Pnok3XVpS0ajWQG4/4+HhkbG7A4tJmNJcBuUoJdsNilGpCw7S7k7E7w9E+Pj4Dm7EKO4XQcXFpmbrPvOokrCrrDTeztjajNHkzMuKd+9iUjNJV+hgyrXAfdq6qR57SRiwFP1aPBt0WiiQkzxKXEVEwyVxoRlPNHtfelsjEymygQk0061C2zQJzQW9wk7ky201AKW7nKnOhGWg86bjP5ESYmk5B/xG3Hqe8VEHrtleYC9yGQH1y9kDa5suHcZe2vr4mgsyFMDfVYE8dgLo9qHEXuAEA6rGnpgnm5fryYOWYMRbQurzXKiW3EuXZjb3DAuRU4JRmfcLyhTilKdt2aW/OQUVCQe+5l5KLyoIEZ6m3Gebi3uS0r23ryrJgzqlAE5xDEORXOUqonUM65FxG2XRmiUUzLIMZ5m2JKBBqhn1pk5JbifL0mt42xY3ILvd9LE4KLJkl5chuLPYttHS5ThIRUTBjcEk0SCQJkCVAlmRnr0sZ6GgHOi4C4aN0bUdl3IpQYxuM8kUYpDbIditkWYYsdaLbasChZ5p17V1Ub0JRrePH2qJNqAZQvakIjkW1KNpUDSTPVIPH2qIVant36wGgYXOu2qaydDMakpLhyBOzkLG4AZtzlf0DqFyBvGp1UwBZyFsFbM5YAaUQ3KUUvPaP2C0EqllbS7FY/Y2IglJKLpZ7+oCpDdcUVfnIqUhw9AKzWFCAYtcAxd12GuqYkOJ2biRMd+3C5W77urIszXh+jjEwvYeXSu85CyzLTyFH2wOprgxZujEBvbSFj6+JQB8W1zkCN/fJJerKtsGiHQfT2zEb4Qb+WjmHK9CU/KOuDGXaw1izRXdOrMwGKnK054IyxIG296ym1LuqzLm9r9teBm2I7+wxqQzLsNDchIoNmqEXqvIdY0mqfGuzMhtCmy3ue7xqiY9Lec+YxYbkV8wFKDA3ef0ySndsC8z69xIREQU1BpdEg8Rgszp6WMq94aV84SsYjKGAwYiuWct628qXIMuAQe6ELFkBextCcQGStR0NL3yGs39t1+1b1FB/TFwCl0UCXRl3qWtcWH9cjSWdnCXcaTORjHqIq4/Va/pPZmVgsZs2+lLwWhTdmofqxaXq48jYmYdqHx47EQUubyXdrj0xHSWz5Ynb1JAw59RylxmPXbfTrCuxOHua+fahtlEY4M+37auQX2wBvIZAVchXgs4NwAavs+B6a+vba6KTkovlzjJxRd2eGs2YnqIqvGvpnXjG2zGjAb5WmQthFocrEOjOxcyFMLsbf7LuJBqRgOkpvT1pC9SScydftr1c4uQ8Wc6AMWU6Etzcd722e7MvbTIXwgwTssu1AaQPk72Ij8t504ei5HcsxXDMt+PluqY7tjk4tbyfPd+JiChgMbgkGiQhF5ogO0NLNbyUDYDBAACwTZgF28TZAICOXR+hec0ruPDHj9H1z0a0/KUZ//zJYfz97sP4/I0WYc+XKwtbm5uxc8nu3lJvfXdJ79yNTTlglVihlpLHY8Ux96EoEQUL58QybtOaTCwUe6plrkS2SezpuAEVTWYsVxM3N9sBasBXgGL346uZEoVx9pKRqAtB+theVH8KXirN9erKkFVs8TCxi0Bs69NropeyKB0mMfQpz4bJy6zYVVsqgOyVyEQKFqV7L8Mf6fzntapDWZaj5DyhwOI9zB4uyYnoK1v0qQ0AKGXswq2PzsYUoOrKslBsMaPAp/NYnGCNiIiCGYNLokES8/dNgCz3hpcSIMsSICstDLBe+wC6Uh+CHDEWtq/b0VL5MU4X/R1nNh/Gpbo2yOFjIIeP0e/4cqXNRDKqkXdrb6l32kx3w+R7cKweDW4m0JmVrIkzPbTx1FtTkXb3EiRV79SUlxNRUNHN/C2syl0Osy891QSetlPGR3NbQl31LixiTzNhwh6v27vjc/gy3BxhcVNFjkvgkyPMlK6jjINZshLZ8FyGTwN8repPoUk8B73x1N5db8W6MmSZc3rD7P5sO9g83Hey9luCy2hDwa0q33EeF6hDD/RliM9nIiLyCwwuiQZJ+JdHEHquvje8lGVI0RMB2Q5Negl77HRcuvFH6Jy7Gl2zlqMr5V9hTV2Jrhv+HV3XPwrbtNt1+x0cmlAxrRBlwsQ6XtX+Ebsb9JP1IGsrdNXmtUXYVJ2EVTu1s5mnobBsFbC51H0wmbUVO1cBm0vdriWiIJCyKN3NpDjw3BOz6l1YYEaBbvbjDcg2KWXPHrZzlkZ77vnmKO/N3qB8GE5B7oZsoGKLIwDtc/sU5JZoPkin5KKywIwmZXsXmcjVdQPKRIm2vW5W8T7a9vmaCFIWId3Duro9NWgyZWOl2+5MzkmAzJ7L8EkxgNeqrgzbLCZ9KWxKLnLdHgsP7cXzNrNEXyKulJv7sq03Lr2T+0G5b/W95nicujEm6/agpqmvNh6eg/Z9OFS0709PP9MQqUNZVjEspmyUiye3juN89mmYBiIiCngMLokG0cQ3VwG2bsdEOzJgDx8Fe8RoQO4NLh0MkCPHQxqTCGlMAqRRkyGHRACSDaGn9wptL1NtEXI3A6t2Ose3LANy+1MqjloU3eqciVwZIzNjJzI26+cIr1wRj4zNyShV2jTvxJLdGbhVnRUoDYX7lHXNaC4F8uJv1UwaRETBJjnR5D7YSVmEdFTANSesQr4y8Y2zxLk8G6jIcU5k43E7AGJptPOmfPatyjejuDEb5cpYeS6z13rfHgnKto6y68Zis5fZb+uB9HLNfgqQUJHjoX1fbft4TQSZK7Nh8jRxUd0e1DTB4yQ9jpDUXRk+uRjAa1WVb3aWwirnUTrcpPqqqnyzblImi6Uc6TWac6P+lLNEvHed0mG4z209cU6AU2DpY/xAN5Pg9L7XclABzftl4bvIqdAOrFCHsqy+2rh5vSzlSD/l5npCQaYK+TkVaDIXaCZ9Es+5fvaQJyKigGaIi4sTExWiYSdJkrjIRWFhofpzUVGRbp07NpsNMTExGD16NDo6OgAAVqtVbDbo7NFT8NU9WyCHhsNgMMAo2xF5qhbG7m4YIDunHpdhcExBDsiS42d7DyKPvARDd5u4S7+UtbUZq+u1wSQRkW8ySyxYfsqHEEUw0O2IyP/x/U1ERETusMcl0SALaT+Lq/4nE2Hn6h3l4ghBV2Ia7EZHOOmsI3eWjzu+NzBe+hJRHz0XMKGlo1S8GpsYWhJRv2VioTDjtW8Guh0R+b3MEhS4nXSLiIiIRjr2uCS/EEw9LrW6J89G2/zVkMYmQA4LR2jHORg7LsBgNCKiuwOR1nOQP3gVxos+z017RWRtbdaPaYlq5MWvcD92JREREZEXmSUW/ZiWsKDYnM/xComIiMgFg0vyC8EaXBIRERERERER0cCwVJyIiIiIiIiIiIj8DoNLIiIiIiIiIiIi8jsMLomIiIiIiIiIiMjvMLgkIiIiIiIiIiIiv8PgkoiIiIiIiIiIiPwOg0siIiIiIiIiIiLyOwwuiYiIiIiIiIiIyO8wuCQiIiIiIiIiIiK/w+CSiIiIiIiIiIiI/A6DSyIiIiIiIiIiIvI7DC6JiIiIiIiIiIjI7zC4JCIiIiIiIiIiIr9jiIuLk8WF7iQmJoqLiPp06tQpcZFbkiSJi1wUFhaqPxcVFenWuWOz2RATE4PRo0ejo6MDAGC1WsVmRERERERERETkh3wOLomGEoNLIiIiIiIiIiLSYqk4ERERERERERER+R0Gl0REREREREREROR3WCpOfiFYS8XDr70JsSvXIyQ+DogwQIYNsqEHxhArQg0dMJxrRnvVW2j5w9vipkREREREREREIxp7XBINgdCJUzHlmTcxacP/ICRxBuRwIyTYAAAy7AAMgDEEoXETEJd7N66v2ogJi2aLuyEiIiIiIiIiGrEYXBINstCJU3HVs+8gNPEawCABMECSZUiyDDt6IMkyemwGSDIgyyEwAIgYIyP55/dhVuEd4u6IiIiIiIiIiEYkBpdEgyh04jRMebYacngoZMiwyzbY0QXZYAMgQ5YlyM7BGbp7IgGDHdbuMBhgR0ToJUy9exZSfpQm7paIiIiIiIiIaMRhcEk0iCasfQkIDwdggAwJPd096GmVIMsy7OiGBDsAQJIBo7EHdpsMg0GGtTsU3bYwSFIPrn7oGoyKjxJ3TUREREREREQ0ojC4JBok4dfOQ0hiCmx2G84cPISGN/eicacFZ/YcwOev/w3ndh9B97keyHB0uZRlwG4Pgd0uQZbsMOISIHXBiEu4+ekUcfdERERERERERCMKg0uiQTLhkV/C2m5F/Z730dYWBnnSTBjjroNx2mwYp86GPSIOLZZ6tB1shgESjOhGWEgnjIZuGODofWk09ECyd2Pi3ODtcZm1tRnNzc7bvkKwMJ4oCGWWwGKxuL2VZIqNne0rc6F8ZZNZotlGs9yFdjvxPt3ckdf99rW9uN5dGy2hfWWux2fhU1uvj92jFORWem7v2Gcl3NydUyZK+nqeI8RAXivHNiXw51cvJbfSeV75/jh7t9HevL02zm2G+Dzydh+ZJb3vK917Sbx52J4GwnH96esldXvcnNdE5Zi5O+fcXSeJiCg4MbgkGiTWqIk4eaAO0uh4yBHRkEMiAGME5NAoIDIWiJ4E47ip6PrChvZjX8Igd6CnRwJsFyHZbYBsRdclG7qsobD2BOdbM61wH0oXVyMvPh7x8fHIq1+FnVuzxGZEFOiq8mE2m/W3YgvQVIEtVWLjFOQuN8OyrQx1zg+oBWYLip3bFTdmo1z8UOuyXQpyF55Cjnp/xbCYC3QfbFNyK1GQUOFsk4MKaPfb9/YAAEux/jnluzwZVeZCqM/BbC5GY3a5xw/wfbX1/TURpCxCOprQZErHIo+f8U1I97AyJXc5EpqaxMUjWP9eq6p8M8zmfHg+S66wlFxsyAYqcjSPU/gSwSPxvWDOQlmd2Mg/OY6L871kEZ6Ll/c0+c4RDpcj2ySu8UFKLioLzLAUm5GlPam0xymnAvByTSUiouASnOkI0RVw7vMW2EJjICEEsmSAJDnGspQkA+wdHQirO4TQTfch7A+FsH36OSB3IdTQBgO6YbR/BZu1HZIkQ5ZlGOQOcfdBIA13L0lCdd4KVDqXVJZuRsPiDDC6JAp2+nBSv2oR0k0WvFvlaLco3QRLcW/YU7WlAk3mha69wXTb1aEsX7vvKmypaIIpfZEzgMnEymyT5v7rULahAk3m5c5eYn1tD6RMT1DX+qIqXxtYVeFdC2Be6PIsgD7b9uM1EWSuzAZqNmCbxYTsle5bNzU1wZS90s2+HPdLvYLztWrESZc3JdFlyCxxftFSDIu4rk+ZKCnPBipy4DVDrivDNi/XVCIiCi4MLokGibUnFBIMkCXZEVraZUh2GXJnJ2wf7Yf8dpGj4YUvIG1/EuhsRwguwGD/GnZbN4zyRYRI52CULkKyWcXdq7K2NmNfYRYK9/WWXG/NApBWiH1KCXbzVn0YqFsnlminoXBfM7ZmOf51tNmHQqGGWyzxzirch2aht2Ra4b7eNs3NLuuJaITKXIlsuOttCaQsSofJ8m6/e6X1tV3dycbeX1KmIwFKyKk2QCNMSEzWLNPQbT9Imk7VO35IyUVlH6W1atsBy8RCcxNq9tR5DzprtqGiyQyXz//OY7atRlg+kvXztdKWJyvEkldHjzGlpNZZbq4p2xbbeyqpddz055S3bVNyK2Epz4YJZhQ412WWWGApMAOmbJS7u69+EIc2cPc2E9tkuikZ1j8H7+8Z8hNV+QPsaZyC3MoCJFTk6HtaenH510kiIgoEDC6JBsnFlk7IsgxJctxkCY6fjx+GwWaHwXpB1z4ktAV2Ww8kCYBsg72nB5JkgGTvRs9Fm66tKGnVaiDXUW6dsbkBi0ub0VwG5MbHIz4+A5sbFqNUExqm3Z2M3RmO9vHxGdgM1xLtxaVl6j7zqpOwqqw33Mza2ozS5M3IcJZ4x29KRumqJN32aYX7sHNVvVoGHh+fgc3JpZrwshZFm6qxuLQ3VM3KW4Wk6p1qD0wiCk6ZC81oqtnj2tsSmViZDVSoiWYdyrZZYC7oDW4yV2a7CSjF7VxlLjQDjScd95mcCFPTKeg/4tbjlJcqaN32CnOB2xCoT84eSNt8+TDu0tbX10SQuRDmphrsqQNQtwc17gI3AEA99tQ0wbxcXx6sHDPGAlqX91ql5FaiPLuxd1iAnAqc0qxPWL4QpzRl2y7tzTmoSCjoPfdSclFZkOAs9TbDXNybnPa1bV1ZFsw5FWiCcwiC/CpHCbVzSIecyyibziyxaIZlMMO8LREFQs2wL21ScitRnl7T26a4Ednlvo/FSYEls6Qc2Y3FvoWWLtdJIiIKZgwuiQaJJAGyBMiS7Ox1KQMd7UDHRSB8lK7tqIxbEWpsg1G+CIPUBtluhSzLkKVOdFsNOPRMs669i+pNKKp1/FhbtAnVAKo3FcGxyBEQInmmGjzWFq1Q27tbDwANm3PVNpWlm9GQlIxZAIAsZCxuwOZcZf8AKlcgr1rdFEAW8lYBmzN6y8CBWhTlCqXglSuQsTkZpc4emaXIQ/wKxpZEQS0lF8s9fcDUhmuKqnzkVCQ4eoFZLChAsWuA4m47DXVMSHE7NxKmu3bhcrd9XVmWZjw/xxiY3sNLpfecBZblp5Cj7YFUV4Ys3ZiAXtrCx9dEoA+L6xyBm/vkEnVl22DRjoPp7ZiNcAN/rZzDFWhK/lFXhjLtYazZojsnVmYDFTnac0EZ4kDbe1ZT6l1V5tze120vgzbEd/aYVIZlWGhuQsUGzdALVfmOsSRVvrVZmQ2hzRb3PV61xMelvGfMYkPyK+YCFJibvH4ZpTu2BWb9e4mIiIIag0uiQWKwWR09LOXe8FK+8BUMxlDAYETXrGW9beVLkGXAIHdClqyAvQ2huADJ2o6GFz7D2b+26/Ytaqg/Ji6ByyKBroy7dLG4GvXH1VjSKRkz0wCkzUQy6iGuPlbf0PtLVgYWu2mD2uOoV/bjLEnfmbzJ2SMzHhn1q13L2okoqHgr6XbtiekomS1P3KaGhDmnlrvMeOy6nWZdicXZ08y3D7WNwgB/vm1fhfxiC+A1BKpCvhJ0bgA2eJ0F11tb314TnZRcLHeWiSvq9tRoxvQUVeFdS+/EM96OGQ3wtcpcCLM4XIFAdy5mLoTZ3fiTdSfRiARMT+ntSVuglpw7+bLt5RIn58lyBowp05Hg5r7rtd2bfWmTuRBmmJBdrg0gfZjsRXxczps+FCW/YymGY74dL9c13bHNwanl/ez5TkREAYvBJdEgCbnQBNkZWqrhpWwADAYAgG3CLNgmzgYAdOz6CM1rXsGFP36Mrn82ouUvzfjnTw7j73cfxudvtAh7vlxZ2NrcjJ1LdveWeuu7S3o3Kxn6ovABysrDqqRq5Gl6WNYW5WJzw2KsFgfUJKIg4ZxYxm1ak4mFYk+1zJXINok9HTegosmM5Wri5mY7QA34ClDsfnw1U6Iwzl4yEnUhSB/bi+pPwUuluV5dGbKKLR4mdhGIbX16TfRSFqXDJIY+5dkweZkVu2pLBZC9EplIwaJ072X4I53/vFZ1KMtylJwnFFi8h9nDJTkRfWWLPrUBAKWMXbj10dmYAlRdWRaKLWYU+HQeixOsERFRMGNwSTRIYv6+CZDl3vBSAmRZAmSlhQHWax9AV+pDkCPGwvZ1O1oqP8bpor/jzObDuFTXBjl8DOTwMfodX660mUhGNfJu7S31Tpvpbph8D47Vo0HtNdlrVrImzvTQxlNvTSIaIXQzfwurcpfD7EtPNYGn7ZTx0dyWUFe9C4vY00yYsMfr9u74HL4MN0dY3FSR4xL45Agzpeso42CWrEQ2PJfh0wBfq/pTaBLPQW88tXfXW7GuDFnmnN4wuz/bDjYP952s/ZbgMtpQcKvKd5zHBerQA30Z4vOZiIj8AoNLokES/uURhJ6r7w0vZRlS9ERAtkOTXsIeOx2XbvwROueuRtes5ehK+VdYU1ei64Z/R9f1j8I27XbdfgeHJlRMK0SZMLGOV7V/xO4G/WQ9yNoKXbV5bRE2VSdh1U5t2XcaCstWAZtLHeNeVu5ENYRJgwrLsCqpAbv/yGSTKBilLEp3MykOPPfErHoXFphRoJv9eAOyTUrZs4ftnKXRnnu+Ocp7szcoH4ZTkLshG6jY4ghA+9w+Bbklmg/SKbmoLDCjSdneRSZydd2AMlGiba+bVbyPtn2+JoKURUj3sK5uTw2aTNlY6bY7k3MSILPnMnxSDOC1qivDNotJXwqbkotct8fCQ3vxvM0s0ZeIK+XmvmzrjUvv5H5Q7lt9rzkep26Mybo9qGnqq42H56B9Hw4V7fvT0880ROpQllUMiykb5eLJreM4n30apoGIiAIeg0uiQTTxzVWArdsx0Y4M2MNHwR4xGpB7g0sHA+TI8ZDGJEIakwBp1GTIIRGAZEPo6b1C28tUW4TczcCqnc7xLcuA3P6UiqMWRbc6ZyJXxsjM2ImMzZoxLgFUrojXTbzT3LwTS3Zn4FZ1VqBKrIjPQ/XiUnWszZ2rgM0Zt2omDiKiYJKcaHIf7KQsQjoq4JoTViFfmfjGWeJcng1U5DgnsvG4HQCxNNp5Uz77VuWbUdyYjXJlrDyX2Wu9b48EZVtH2XVjsdnL7Lf1QHq5Zj8FSKjI8dC+r7Z9vCaCzJXZMHmauKhuD2qa4HGSHkdI6q4Mn1wM4LWqyjc7S2GV8ygdblJ9VVW+WTcpk8VSjvQazblRf8pZIt67Tukw3Oe2njgnwCmw9DF+oJtJcHrfazmogOb9svBd5FRoB1aoQ1lWX23cvF6WcqSfcnM9oSBThfycCjSZCzSTPonnXD97yBMRUUAzxMXFiYkK0bCTJElc5KKwsFD9uaioSLfOHZvNhpiYGIwePRodHR0AAKvVKjYbdPboKfjqni2QQ8NhMBhglO2IPFULY3c3DJCdU4/LMDimIAdkyfGzvQeRR16CobtN3KVfytrajNX12mCSiMg3mSUWLD/lQ4giGOh2ROT/+P4mIiIid9jjkmiQhbSfxVX/k4mwc/WOcnGEoCsxDXajI5x01pE7y8cd3xsYL32JqI+eC5jQ0lEqXo1NDC2JqN8ysVCY8do3A92OiPxeZgkK3E66RURERCMde1ySXwimHpda3ZNno23+akhjEyCHhSO04xyMHRdgMBoR0d2BSOs5yB+8CuNFn+emvSKytjbrx7RENfLiVzjGriQiIiLqh8wSi35MS1hQbM7neIVERETkgsEl+YVgDS6JiIiIiIiIiGhgWCpOREREREREREREfofBJREREREREREREfkdBpdERERERERERETkdxhcEhERERERERERkd9hcElERERERERERER+JyiCyzF334ToB78lLiYiIiIiIiIiIqIAFRTB5fhH70DYnd8UFxMREREREREREVGACorgUpYk2CWDuJiIiIiIiIiIiIgCVFAElwajEXY7g0t/FBEZiYjISHExERERERERERGRV0ERXEoSILHHpd+ZEhePH/7kp3jiZ09j4bfuFFcTERERERERERF5FBTBJWCAzXZ5wWVa4T40Nze73PYVpolNh13W1uF5HGmF+9C8NUtcPGBLvnM3IiOjAADpi5YwvCQiIiIiIiIiIp8FRXApwwC7XVw6ANV5iI+P19zyUL9qJ5qbt2Lw4ryRIXbcOCQmXa1bxvCSiIiIiIiIiIh8FRTBpWSTIckh4uJBUIkV8RnY3LAYpYPYEzHYRURGYsl37hEXAwwviYiIiIiIiIjIR8ERXMI4OD0u3apF0aZqYHGGrtelS2m5JtjM2qr/HcjC1uZmaBf1lmWnoXBfM7ZmOf517G8f+qoM93b/zgbYp12/rxDiLrO26tfPEtYja6vmPvp+TIlJyVj+yGN44mdP49rrZourVemLlnDCHiIiIiIiIiIi8irggsupWx7BtPJ/Q+jkWHWZLBlgt/W2MUwci9Bf/gjGjT/uXXg5jtWjAcmY6Qzu0gr3YeeqeuSpJeUZ2JxcqoaHlTurgeSZvUFhVgYWA1ic0RsuzkpOQvXOSvX3xaVlQK5jf3nVSVhV5ho0Kvq6fwBIuzsZuzM067EKO4VwtTR5MzKUfWxKRumqJHU90gqxrzQZm5V95O3uXefGd+/NwvJH/rdLebg7rS3nxUVEREREREREREQ6ARdcSpIB0oSxGPvzZTBOcoSXdgmw252T80wYC+Q9hJ6Y8ejuvrwJe1S1x1Gv/pKFvFXA5owV6I0da1GUuxkNSq/MY/VoSFqCu53JY1bGYlRv3owGNczMQsbiBtQfU3eAhs25KKp1/FxZuhkNScmuPSAB3+4fQG3RCnV/aq9R4f435xZBbVK5AnnVyi+KehxXGlQWafbnqmbP7j4DSWtXJ/5hqcFr216BtatLXE1ERERERERERKQKuODyy4Lf4tLnHbCPG4/I9cthmDgWkmSEJBkhjx8L25qV6I6ZgO4vLiLkv7aImw9M2kwkKz9nZWCxNtBT1B5HvdIrs/aP2N2QhORZcIaE1dhZdBz1SpiZlYHFDbvxR80+6l122NvDU8eX+3fSlZOXLtasmIlkN/s4Vt/Q+0vtH7G7YTFKhRJ3Ty60nMe2l17wGF6++87b+M0vf4Hdf34DZ880i6uDVvi1N2HSL1/HVdssuOq1v2HKa+9h8o49uOr3b2HaH3bA9PJ/Ydz3OOYnEREREREREZEo4IJL+5etaNvwP+g8fRG2MeNhWPsQrN1GyAB6fvgwuqMnoLu5DWGbymE4f0HcfGBmJSNJCBq9q8Ufdzc4SsPTZiK5oR7HUImd1Y4wM21mMhp2/7G3t+Ogc4ypuXPJ7t5ScG13ylnJ0BSFe1CLolvjEZ+xGcmlzT7NrH6h5Ty+cBNKnmr4DDV7dqNrBPWyDJ04FVOeeROTNvwPQhJnQA43QoJjPAMZdgAGwBiC0LgJiMu9G9dXbcSERZ7HBSUiIiIiIiIiGmkCLrgEAOmrVlg3bkVnczuso8fj3LlIGI0GdI2agJ4vWhG1+SUYz7eImw1QFraWLkb1JmdZtTDepUroxVj7x91oSJ6JrLuXAM6QsnJnNRZnFOLuJUluelj6yJf7T5uJZFQj79beUvC0mWqfUY/7mJXsJs6sLcKtzpnVV/cxO893783CtdfNRu2H7+t6Xp5s6C20HwlCJ07FVc++g9DEawCDBMAASZYhyTLs6IEky+ixGSDJgCyHwAAgYoyM5J/fh1mFd4i7IyIiIiIiIiIakQIyuAQA+dwFGP/zFXR/0Y7OrlB0dYXAdrYNMS+9BGPLIIWWaYXY11yKxdV5WKEMKFlbhE3VSVi1U9sDMQ2FZauAzaW9407WHkd90iqUrgJ2K101j9WjIXkJliRVQzMvT//4ev/aYDKtEGXaiXeUfWgnAMraCm01ObK2upSIewtbv3tvFtJumofaD9/Hm69X6srGj//ziNg8aIVOnIYpz1ZDDg+FDBl22QY7uiAbbABkyLIEWXa07e6JBAx2WLvDYIAdEaGXMPXuWUj5kfeAmIiIiIiIiIhoJAjY4BIADOdbEPXCf8N29gLsX11A7JYXYbxwGaHl4tLeMSGbm9G8Mxmb4uMRr6aWDpUr4pGxORmlatudWLI7A7fqZq+pxM5qANoS89o/YjeSkFS9UxMw9l+f919bhNzNwKqdzvVlQK4w807lCudM48o+MnYiY7NmjMtj9c4S8d79Cy+D6hvmdF1oCc2Yl5/888iIGtNywtqXgPBwAAbIkNDT3YOeVgmyLMOObkiwAwAkGTAae2C3yTAYZFi7Q9FtC4Mk9eDqh67BqPgocddERERERERERCOKIS4uztn/i2hgEpOSMSUuHv+w1IirfCZJkrjIRWFhofpzUVGRbp07NpsNMTExGD16NDo6OgAAVqtVbDZowq+dh4k/ew12uxVfHf4nOk43Q5LsMEo2GKRuhMdGIOamaxA+IQwAEBpiRZixA5HhbRgd8TWio84jKuxrREd8jQsfn8F7D30s3gURERERERER0YgR0D0uyT+caqi/rNAyWEx45JewtltRv+d9tLWFQZ40E8a462CcNhvGqbNhj4hDi6UebQebYYAEI7oRFtIJo6EbBjh6XxoNPZDs3Zg4Nwh7XGZt1fdo1tzEYQmIKMBllsBisbi9lWSKjZ3tK3ORov6q2Uaz3IV2O/E+3dyR1/32tb243l0bLaF9Za7HZ+FTW6+P3aMU5FZ6bu/YZyXc3J1TJkr6ep4jxEBeK8c2JfDnVy8lt9J5Xvn+OHu30d68vTbObYb4PPJ2H5klve8r3XtJvHnYngbCcf3p6yV1e9yc10TlmLk759xdJ4mIKDgFVHA5bcsjSPzzWkx/6wkkVj2BhDcfR8Kbj8P053xM+1M+pv7xJ4j/Qz6u+t1PMOV36zH59QLEPp8r7oZoSFijJuLkgTpIo+MhR0RDDokAjBGQQ6OAyFggehKM46ai6wsb2o99CYPcgZ4eCbBdhGS3AbIVXZds6LKGwtoTUG9N31SucMxwr73lVQMNm1HqYRgCIgpQVfkwm836W7EFaKrAliqxcQpyl5th2VaGOucH1AKzBcXO7Yobs1Eufqh12S4FuQtPIUe9v2JYzAW6D7YpuZUoSKhwtslBBbT77Xt7AIClWP+c8l2ejCpzIdTnYDYXozG73OMH+L7a+v6aCFIWIR1NaDKlY5HHz/gmpHtYmZK7HAlNTeLiEax/r1VVvhlmcz48nyVXWEouNmQDFTmaxyl8ieCR+F4wZ6GsTmzknxzHxflesgjPxct7mnznCIfLkW0S1/ggJReVBWZYis3I0p5U2uOUUwF4uaYSEVFwCah0pK09HOdaRuHs2Uh8cXYUznwxGqfPxKDpdDRONcXg5KkxaDg1Fg2nxuKz+hh8Wj8GTWeixd0QDYlzn7fAFhoDCSGQJQMkyTGWpSQZYO/oQFjdIYRuug9hfyiE7dPPAbkLoYY2GNANo/0r2KztkCQZsizDIDtK24NbGgpXL0b1piJ4nvaJiIKDPpzUr1qEdJMF71Y52i1KN8FS3Bv2VG2pQJN5oWtvMN12dSjL1+67ClsqmmBKX+QMYDKxMtukuf86lG2oQJN5ubOXWF/bAynTE9S1vqjK1wZWVXjXApgXujwLoM+2/XhNBJkrs4GaDdhmMSF7pfvWTU1NMGWvdLMvx/1Sr+B8rRpx0uVNSXQZMkucX7QUwyKu61MmSsqzgYoceM2Q68qwzcs1lYiIgktgBZdrytC+/Cl0PvQUrCt/jp5Hfg7p334GrCpESO5/IGzNk4j89wKMyluPmPwCxP5kHcZs/KW4G6IhYe0JhQQDZEl2hJZ2GZJdhtzZCdtH+yG/7RyX88IXkLY/CXS2IwQXYLB/DbutG0b5IkKkczBKFyHZPI/FmbW1GfsKs1C4Tyi1TivEPrX8WjvrvLiuGc37NDPKIw2F+5qxNcvxr6PNPhQKk5tnbdVvn1W4D81CjXda4T59Gbi3GvCsPKwCe1sSjQiZK5ENd70tgZRF6TBZ3u13r7S+tqs72dj7S8p0JEAJOdUGaIQJicmaZRq67QdJ06l6xw8puajso7RWbTtgmVhobkLNnjrvQWfNNlQ0meHy+d95zLZxJJhe/XyttOXJCrHk1dFjTCmpdZaba8q2xfaeSmodN/055W3blNxKWMqzYYIZBc51mSUWWArMgCkb5e7uqx/EoQ3cvc3ENpluSob1z8H7e4b8RFX+AHsapyC3sgAJFTn6npZeXP51koiIAkFABZdE/uxiSydkWYYkOW6yBMfPxw/DYLPDYL2gax8S2gK7rQeSBEC2wd7TA0kyQLJ3o+eiTddWlLRqNZDrKLfO2NyAxaXO2ePj4xEfn4HNDYtRqgkN0+5Oxu4MpUTbOaO8ECouLi1T95lXnYRVZb3hZtbWZpQmb0aGUuK9KRmlq5J026cV7sPOVfXIU0vBM7A5udRjeJmVsRgNu//I3pZEI0DmQjOaava49rZEJlZmAxVqolmHsm0WmAt6g5vMldluAkpxO1eZC81A40nHfSYnwtR0CvqPuPU45aUKWre9wlzgNgTqk7MH0jZfPoy7tPX1NRFkLoS5qQZ76gDU7UGNu8ANAFCPPTVNMC/Xlwcrx4yxgNblvVYpuZUoz27sHRYgpwKnNOsTli/EKU3Ztkt7cw4qEgp6z72UXFQWJDhLvc0wF/cmp31tW1eWBXNOBZrgHIIgv8pRQu0c0iHnMsqmM0ssmmEZzDBvS0SBUDPsS5uU3EqUp9f0tiluRHa572NxUmDJLClHdmOxb6Gly3WSiIiCGYNLokEiSYAsAbIkO3tdykBHO9BxEQgfpWs7KuNWhBrbYJQvwiC1QbZbIcsyZKkT3VYDDj3TrGvvonoTipyJX23RJlQDmpLrWhRtqgaSZ6rBY23RCrW9u/UA0LA5V21TWboZDUnJmAUAyELG4gZsztWUdFeuQF61uimALOStAjZnrEBvB8paFOVuRsPiDH3vTzh6gK5eXI1NvQ+KiIJVSi6We/qAqQ3XFFX5yKlIcPQCs1hQgGLXAMXddhrqmJDidm4kTHftwuVu+7qyLM14fo4xML2Hl0rvOQssy08hR9sDqa4MWboxAb20hY+viUAfFtc5Ajf3ySXqyrbBoh0H09sxG+EG/lo5hyvQlPyjrgxl2sNYs0V3TqzMBipytOeCMsSBtvesptS7qsy5va/bXgZtiO/sMakMy7DQ3ISKDZqhF6ryHWNJqnxrszIbQpst7nu8aomPS3nPmMWG5FfMBSgwN3n9Mkp3bAvM+vcSEREFNQaXRIPEYLM6eljKveGlfOErGIyhgMGIrlnLetvKlyDLgEHuhCxZAXsbQnEBkrUdDS98hrN/bdftW9RQf0xcApdFAl0Zd+licTXqj4shYjJmpgFIm4lk1ENcfay+ofeXrAwsdtMGtcdRr+xHI+3uJUiq3qkJOYkoWHkr6XbtiekomS1P3KaGhDmnlrvMeOy6nWZdicXZ08y3D7WNwgB/vm1fhfxiC+A1BKpCvhJ0bgA2eJ0F11tb314TnZRcLHeWiSvq9tRoxvQUVeFdS+/EM96OGQ3wtcpcCLM4XIFAdy5mLoTZ3fiTdSfRiARMT+ntSVuglpw7+bLt5RIn58lyBowp05Hg5r7rtd2bfWmTuRBmmJBdrg0gfZjsRXxczps+FCW/YymGY74dL9c13bHNwanl/ez5TkREAYvBJdEgCbnQBNkZWqrhpWwADAYAgG3CLNgmzgYAdOz6CM1rXsGFP36Mrn82ouUvzfjnTw7j73cfxudvtAh7vlxZ2NrcjJ1LdveWeuu7S3o3Kxn6ovDLlYa7lySheidjS6Lg55xYxm1ak4mFYk+1zJXINok9HTegosmM5Wri5mY7QA34ClDsfnw1U6Iwzl4yEnUhSB/bi+pPwUuluV5dGbKKLR4mdhGIbX16TfRSFqXDJIY+5dkweZkVu2pLBZC9EplIwaJ072X4I53/vFZ1KMtylJwnFFi8h9nDJTkRfWWLPrUBAKWMXbj10dmYAlRdWRaKLWYU+HQeixOsERFRMGNwSTRIYv6+CZDl3vBSAmRZAmSlhQHWax9AV+pDkCPGwvZ1O1oqP8bpor/jzObDuFTXBjl8DOTwMfodX660mUhGNfJu7S31Tpvpbph8D47Vo8FNr8lZyZo400Mbt7010+7GkqRqMLckGgF0M38Lq3KXw+xLTzXB/8/e/cfHddd3vn/NSJacOM4P4iRYiSTXgmQcwopCaXs71lWpsXu1AzfsLtzOVdH1Yl0eVTuhFFHUrdoVrraooEt1d7fWRbusTHUNurotdyEbhIqFoa48LYUSEEnjIUXaSCLKT8eObdkaac45949zZuacMz808o9kJL+fj8c8Ip/z/Z6jOXNmYN76fr7fQv3S86PlLaEeP0ncP9LMt2BP0f75lBy+vNbssHhhtD0n8Gn3rZTukZ4Hs/8QrRQuw5crvFYzcyz478FiCrXPN1oxMUg03J4Ns9fT91orcO4G918JrqKNbG7jXfZ93J2ZemAt1/l+FhGRsqDgUuQaqXrxSSrPzGTDS8vCvGUHWAau9BLjtl1cevtHufy2R1je08Zy6IMk33KI5Z/9HZbf+huk7nuX57jXhitUbOxh0LewTlHTj3J81rtYD9ERPNXm070cmdxNx4R7NfNGegY7YGjAUxLe+PABds/OsEZlu4hsAqF9TXkWxaHwSMzxk8QJ0+1Z/fgwrbXpsucC/ZzS6MIj3+zy3tbD6S/DIWKHW2H0qB2Artk/RKzf9UU6FGOsO8xCun+OCDHPMKAI/e72nlXF12i75jXxCe2jqcC+xIkpFmpbOZR3OJOzCFC4cBm+pF3BtUoMcixe6y2FDcWI5X0tCrT337eRfm+JeLrcvJS+xeSMTl6H9Lkz7zX79/TMMZk4wdTCWm0KPAf3+/B6cb8/C/0s10mCwWgf8dpWhv03t4d9P5c0TYOIiGx4Ci5FrqEdj3VAasVeaMcCo+pmjOptYGWDS1sAa+sbMG+tx7y1DvPmu7EqqsFMUfnTb/vaXqXpXmJD0DHhzG85CLH1lIozTe9eZyXy9ByZLRO0DLnmuATGDtbQMtTAQLrN4gQHjrew17cAz56G3VpNXOQG0VBfmz/YCe2jiVFyc8JxutIL3zglzsOtMNruLGRTsB/gL412HunvvuNdYfrmWxlOz5WXs3pt8f7UpfvaZdfzfeEiq9/OQNOw6zjd1I22F2i/Vts1rolP5FArtYUWLkqcYGqBgov02CFpvjJ8yXEF12q8K+yUwqbvoybypPoZ411hz6JM8fgwTVOue2NmzikRz+5LDxhes28hzgI43fE15g/MswhO9r3Wziiu90vzSdpH3RMrJBiMrtUmz/WKD9M0l+fzRDaZcbraR1kId7sWffLfc+scIS8iIhtaYOfOnf5EReQ1Z5qmf1OOnp6ezM+9vb2effmkUim2b9/Otm3bWFpaAiCZTPqbXXPGLffw0vuOYlVWEQgECFoGW+emCa6sEMBylh63CNhLkINl2j8bq2x98vMEVs77D1mWoiOLPDKTG0yKiKwl0h+nba6EEMXnSvuJSPnT+1tERETy0YhLkWus4uILvPGLEbacmbHLxalgub4RI2iHk04duVM+bv/dIHjpRW56/E83TGhpl4pPckShpYisW4Rm34rXpbnSfiJS9iL9dOdddEtERERudBpxKWVhM424dFu5+yHO/8IjmLfXYW2ponLpDMGlcwSCQapXltiaPIP1D39O8ELJa9O+LqIji945LZmks+agZ+5KERERkVJE+uPeOS2J0xfu0nyFIiIikkPBpZSFzRpcioiIiIiIiIjIlVGpuIiIiIiIiIiIiJQdBZciIiIiIiIiIiJSdhRcioiIiIiIiIiISNlRcCkiIiIiIiIiIiJlR8GliIiIiIiIiIiIlB0FlyIiIiIiIiIiIlJ2FFyKiIiIiIiIiIhI2VFwKSIiIiIiIiIiImVHwaWIiIiIiIiIiIiUHQWXIiIiIiIiIiIiUnYCO3futPwby8k7YzF+riOGZYFlWmBamKZl/2yBaVhYFmDa+y3L3me3dbaZFpYJT3zp8zzx//xn/ymkDJim6d+Uo6enJ/Nzb2+vZ18+qVSK7du3s23bNpaWlgBIJpP+ZiIiIiIiIiIiUobKPrg88P1pZpdXMU0wUyYYTnCZsgNJ07CwjOx/LaedaZh2cJneZ1q8aVsVP/jXzf5TyHVUvXUrAMnlZf8uDwWXIiIiIiIiIiLiVval4jOXVzFSFqcaavjbB+7DWDUxVy2MlImxatk/r5qYKQtz1cRYNTBTJlbKv88iceay//ByHd2zs4aP/N4f8olPformd/+qf7eIiIiIiIiIiEhBZR9c2kFldjSe4QSU5qqFmTIxUq7QMmVirWb3G6tGpn868CyksecUi4uLOY9TPY3+pleokZ5Ti4xE/ds3rwPveZitW28CoGnfAYWXIiIiIiIiIiJSsrIPLu0Q0uQtX3qMB7/4GFbKCSFTdhBpraZHV5pYq+mg0w41zZRdUp4+hplaoxx5spOamhrXo5OZjgkWF0e47nljdITFUz1cq5j09XbbHXdQv/tNnm0KL0VEREREREREpFQbIrg0Vk3+8dffy1MffG82lHTKwo1VE2PFsEddppxA0ykNT5eKp8vFjZU1gsscYxysaWFodj8DN9JQyatUvXUrB97zPv9mUHgpIiIiIiIiIiIlKv/g0gkh07IjKu3tVsr+2T0K0x5hadijMI10Wzu8XL9peo9Mwv4Wz6hLb2n5KTwV5dGRwvsy7NLxxcURRkYWWRzYD7s7mFhcZNEVkuaUsPsC1OiIXc7uafc6jdys391A24d/k0988lM88OBD/t0ZTfsOZBbt2eyqHngHd33my7zxWJw3/sXfcs9f/A13/+UJ3vhfv859X/lLav/Lf+COf6EgV0RERERERETEr/yDSyeQvP8/f4U3Df3XTNm3sWKXiKfnsDRXsiXkRsq058JM2e2yozDXO+LScXqGWRq430kDG3tOMXHgOC3pkvLOGTomnHLyxh5ODTQw1JLed9x3MFt0ZIIOhmipOcjBgzXUdE7C7JB9zINjkD5PxwydmdL1FoYaBnLCy90dEwwSy7ahg4nXeIToe98fpe3Dv5VTHp7Pq2df8W/adCp33Ms9n36Muw5/kYr6n8GqCmKSAsDCAAIQrKBy553sjD3MW8f/hDv3FQ57RURERERERERuNGUfXKZXDq/6mQep3vWgPbrSWTXcWDWc/7rLx9OrizuBphNypsvJr8j008xk/hGlswOGYr1MpzeNDTA0u5+WTFY4w9PpnWO99GYa2qIjiww0DNGy13WMHM55Wg5ix5jYoz9jQ8z6Rn8y2cnezEnSbR4pMNLz+pg6cXzNQDK5fJnvxqf4i2NfILm87N+9aVTuuJc3fvabVNa/GQImEMC0LEzLwmAV07JYTQUwLbCsCgJA9a0WDX/0Afb0/Ir/cCIiIiIiIiIiN6SyDy7TIy4tz0I76aDSHnFpeea1dBbtcUrI0wv0pEdnXpHG+2lI/xxtYT+76Zhwrz4+QcduZ//0oxyf3c/AYv4VxBseOcXA/kk6i4aW6fO4AtC06aeZcY3+BJidOe1u4QtaXxvnzr7Csc9/rmB4efKb3+DPPvPHHP/aV3nhuUX/7k2jcsd93PPZSayqSiwsDCuFwTJWIAVYWJaJ5eTnK6tbIWCQXNlCAIPqykvc+/AeQh99DRNnEREREREREZEyVf7BZWYkpXs1cWdkpW+UZSa4dELM9KjLdF/rSoPLPQ3snj3Oo5kQcdJVvp192BXe0/TuraGmZYiGAXsOy9z80hs8bhbnzr7C83lCybnZnzB14jjLm3iUZdqdH/88VFUBASxMVldWWX3VxLIsDFYwMQAwLQgGVzFSFoGARXKlkpXUFkxzlTd96M3cXHOT/9AiIiIiIiIiIjeU8g8unVLxbCCZXrDHcMLJ7D5j1fCsOJ7t4/z3ikrFo4wM7GfyiDNC0jffZUHTvex1ViR/xFWzPXNkLy1D0DFRaNEeR6HzNN5Pg28k5u6GPe4WhUdrXmfvfX+UBx58iOnvf88z8vKZ2dd6/Ofro+qBd1JRHyJlpHjuhz9i9rFvMz8R57kTf8+zX/5bzhx/kpUzq1jY96FlgWFUYBgmlmkQ5BKYywS5xM99KuQ/vIiIiIiIiIjIDaX8g0tnkZ1MAOkOJNPl405Y6R1p6V5tPB1ernPEZWMPpxYH2D/Z6YymtAPJI5O7s4vx2A3pGXFW8o6O5JSIz/gSxOnedHjpG425u4FMBFnoPIMdMDTgmvcS2D/gOqcdtM7621xn731/lMZ3vJPp73+Px7485ikbf/qpJ/3NN6U7P/wZkheTzJz4HufPb8G6636COx8keN9DBO99CKN6J2fjM5z/4SIBTIKssKXiMsHACgHs0ZfBwCqmscKOt23mEZeN9JxyTbVwynnviMjmEeknHo/nffRH/I2d9mMx0n+yifS7+ri253D3858zz4mKHnet/v79+dq4+dqPxQo+i5LaFv3dCwoRGyvc3j7mGHlO54jQv9bzvEFcybWy+/RTzlcvFBtz7qvSf89sH/ej2LVx+lzn+6jYOSL92feV573kfxToL1fC/vxZ65Lmfd2cz8T0a5bvnsv3OSkiIptT2QeXxqqRDSIz5eLZUZj2yMrsAj32nJfO/JaZEnJnPsyVNYLL/QOueSsXWZxo4Ihrle+0sYM1dE7a81im57g8MPNoZkSmXSLubD/ekg09XaZ792aOMRLNLvAzsLiYWTV87GANLUMN3vMcb3EtxGObHepk5pF0Gzto9be5nn4+3OQJLXHNefnjp57c1HNauiVv2sEzf5/A3FaDVX0LVkU1BKuxKm+CrbfBLXcRvONelp9PcfH0iwSsJVZXTUhdwDRSYCVZvpRiOVlJcrXs35pXqJGeU/Z9nJlmYa35XkVk4xnvIhwOex99cVgY5ei4v3GIWFuY+LFBEs4X1O5wnD6nX998K8P+L7U5/ULEmudoz5yvj3i42/PFNhQbo7tu1GnTziju467dH4B4n/c5deU8mYxIM5nnEA73Md86XPAL/FptS78mPqF9NLHAQm0T+wp+x6+lqcDOUKyNuoUF/+Yb2Pqu1XhXmHC4i8J3yessFONwK4y2u35P3x8RCvK/F8JRBhP+RuXJfl2c91Lc91yKvKeldHY4PExrrX9PCUIxxrrDxPvCRN03lft1ah+FIp+pIiKyuZR9OpJdZCc9r6VlrxC+apJyQsvMiEtnUZ5MyXhm9XETM2WvQF7IdO/enDkra2rcK3p7jR30ts0EhdO97M233Zn70h1ipo/hmRvTF5T6f6/8geTpbN88Qev19sJzixz/2lczoWXaubOv8JfHvuDZtpmdefYsqcrtmFRgmQFM057L0jQDGEtLbEn8iMojH2DLV3pI/dOzYC1TGThPgBWCxkukkhcxTQvLsghYS/7DbwqNPYN0zLy2wbqIlANvOOndtY+m2jgnx+12+5pqifdlw57xo6MshJtzR4N5+iUY7HIfe5yjowvUNu1zApgIh1prXedPMHh4lIVwmzNKbK3+ENpVl9lbivEud2A1zsk4hJtzngWs2XYd18QncqgVpg5zLF5L66H8rRcWFqhtPZTnWPZ5JWtzXqt5nsl5U4pchUi/84eWPuL+fWuK0D/cCqPtFM2QE4McK/KZKiIim0vZB5fn/8+P8sqXP8fZ//o5zn11iFcfHeL81/4z57/2n7jw9c9zYeI/c+GvPs/S5OdZmvwvLH3zv3D5W0e5/O1h/tMvb+Hy3xxl+MBWkvE/Z8s3/q3/8HINzM3O8N34lH/zDSe5WolJAMu07NDSsDANC+vyZVKP/x3WN3rthueex/zSH8Dli1RwjoDxMkZqhaB1gQrzDEHzAmYq6T98RnRkkVM9UU+59Ug0PbVBeptvGgLPPn95tl26PRJ1l3DnzsEaHfH2j/acyowOTmvsOeUdtezZ38jDB3YzOfHaBusiUgYih2gl32hLCO1rojZ+ct2j0tbql3hmPvuP0C7qSIecmQbMU0t9g2ubi6f/NbIw58z5HIoxtkZpbabtFYvQHF5g6kSieNA5dYzRhTA53/+d1+yY/uc9a53Xyl2enOYvebVHjKVLap1yc1fZtr99oZJa++G9p4r1DcXGiA+3UkuYbmdfpD9OvDsMta0M5zvXOvinNsj3NvO3ieQpGfY+h+LvGSkT411XONI4RGysm7rRdu9IyyKu/nNSREQ2grIPLrc8+2O2fe+/se0fHuOWxx/jlh98je0//BrbfzTObU+Mc9s/fp3bn/o6t5+e4I4fT/CGf/or3vCTv+LOmW/QefBfctczx+n81/+Suxcm2XZ+1n94kWvmwtnLWJaFadoPy8T++eknCKQMAslznvYVlWcxUquYJmClMFZXMc0AprHC6oWUp63f7o5HIGaPsG0ZmmX/wCKLgxCrqaHGWRRqwBUaNj7cwPGW9KjcFoboYMIXOu4fGMwcs3NyNx2D2XAzOrLIQMMQLelRvUcaGOjY7enf2HOKiY4ZOjMjhFsYahjIhpeND3Ng9ywzuEPU3IBURDafSHOYhakTuaMtiXCoFUYziWaCwWNxwt3Z4CZyqDVPQOnvlyvSHIb5Z+xzNtRTuzCH9yvuDHNFqqA9/dPC3XlDoDU5I5COlfJlPKdtqdfEJ9JMeGGKEwkgcYKpfIEbADOcmFog3OYtD06/ZooF3K7uWoViYwy3zmenBWgfZc61v66tmTlX2XZO+3A7o3Xd2XsvFGOsu84p9Q4T7ssmp2v1TQxGCbePsoAzBUHXuF1C7Uzp0H4VZdOR/rhrWoYw4WP1dPtqhktpE4qNMdw0lW3TN0/rcOlzccrGEukfpnW+r7TQMudzUkRENrOyDy6luLGDhcrH5bVmmmCZYJmWM+rSgqWLsHQBqm72tL25ZS+VwfMErQsEzPNYRhLLsrDMy6wkA/zo02vMCzp5hOzsBEeYhOzK90zTe2QSGu7PBI/TvQcz7fPtB5gdimXajA0MMZtZLCpKy/5ZhmKuuSjHDtI5mekKROnsgKEW9/QK0/TGhpjd3+Ia/bkbO3NNh655FqkSkc0lFKOt0BdMd7iWNt5F+2idPQosHqebvtwAJV8/l8yckP5+edTtyh3Cla9/YjDqms/PngOzeHiZHj0XJ942R7t7BFJikKhnTsAibSnxmvh4w+KEHbjlTy5JDB4j7p4Hs9hrdoO78mvlTFfgKvknMcig+2WcOuq5Jw61wmi7+15IT3HgHj3rKvUeH3T6l9r3KrhDfGfEZHpahubwAqOHXVMvjHfZc0lmlNbmUCu+Nkfzj3h18/9e6fdM2N9Qykq4m+7wQtE/Rnle2+6w970kIiKbmoJLkWskkEraIyytbHhpnXuJQLASAkGW9/x6tq11CcuCgHUZy0yCcZ5KzmEmLzL7uZ/wwl9f9Bzbb3bmtH8LOZt8PGXcA/v9u5l52h+AN3B/I9B4Pw3M4N99esY1gjnawv48bZh+mpn0cQDwBqDTvTGGZvfziIZdimxaxUq6c0di2iWzw/XHMiFh+1xbzorHuf1c+/rjzkiz0r7Uzvsm+Cut/zhdfXEoGgKN05UOOg/D4aKr4BZrW9o18QjFaHPKxNMSJ6Zcc3r6jXMynl14pthrJld4rSLNhP3TFfh47sVIM+F8808mnmGeOnaFsiNpuzMl545S+l4t/+I8USdgDO2iLs+5Z9zDm0tpE2kmTC2tw+4AsoTFXvy/l/PwhqJSduJ92OvtFPlc87y27cy1rXPku4iIbFgKLkWukYpzC1hOaJkJL60ABAIApO7cQ2rHQwAs/dXjLP72Fzj36A9Yfmqes99a5Knfe4LvPPwEz371rO/IVyvKyOIiEweOZ0u9vcMli9vTgLcoXESkVM7CMnnTmgjN/pFqkUO01vpHOh5mdCFMWyZxy9MPMgFfN33551errffNs9dAvScEWaO/38wcRSrNvRKDRPviBRZ28fG3LemaeIX2NVHrD32GW6ktsir2+NFRaD1EhBD7moqX4d/oyudaJRiM2iXndd3x4mH2a6WhnrWyxZLaAKTL2H2PNQYbywaVGIzSFw/TXdJ97F9gTURENjMFlyLXyPbvHAHLyoaXJliWCZnF7AMkH/g1lt/yIazq20m9fJGzYz/gp73f4bmhJ7iUOI9VdStW1a3eA1+txvtpYJLOvdmRjo3355smv4DTM8x6Rk3a9jS44swCbTyjNacf5fjsbhrs+nOP3NGeIrIpeFb+9u2KtREuZaSaT6F+6fnR8pZQj58k7h9p5luwp2j/fEoOX15rdli8MNqeE/i0+1ZK90jPg9l/iFYKl+HLFV6rmTkW/PdgMYXa5xutmBgkGm7Phtnr6XutFTh3g/uvBFfRRja38S77Pu7OTD2wlut8P4uISFlQcClyjVS9+CSVZ2ay4aVlYd6yAywDV3qJcdsuLr39o1x+2yMs72ljOfRBkm85xPLP/g7Lb/0NUve9y3Pca8MVKjb2MOhbWKcoJ3B0L9ZDdARPtfl0L0cmd/vmq2ykZ7ADhgaceS+nefT4LPsHsm0aewbpYIgBLTQusimF9jXlWRSHwiMxx08SJ0y3Z/Xjw7TWpsueC/RzSqMLj3yzy3tbD6e/DIeIHW6F0aN2ALpm/xCxftcX6VCMse4wC+n+OSLEPMOAIvS723tWFV+j7ZrXxCe0j6YC+xInpliobeVQ3uFMziJA4cJl+JJ2BdcqMcixeK23FDYUI5b3tSjQ3n/fRvq9JeLpcvNS+haTMzp5HdLnzrzX7N/TM8dk4gRTC2u1KfAc3O/D68X9/iz0s1wnCQajfcRrWxn239we9v1c0jQNIiKy4Sm4FLmGdjzWAakVe6EdC4yqmzGqt4GVDS5tAaytb8C8tR7z1jrMm+/GqqgGM0XlT7/ta3uVpnuJDUHHhDO/5SDE1lMqzjS9e52VyNNzZLZM0DLkmuPSWSiqZaiBgcyK4RMcON7iWTxqunevp81Ex4xnJKiIbC4N9bX5g53QPpoYJTcnHKcrvfCNU+I83Aqj7c5CNgX7Af7SaOeR/u473hWmb76V4fRceTmr1xbvT126r112Pd8XLrL67Qw0DbuO003daHuB9mu1XeOa+EQOtVJbaOGixAmmFii4SI8dkuYrw5ccV3CtxrvCTils+j5qIk+qnzHeFfYsyhSPD9M05bo3ZuacEvHsvvSA4TX7FuIsgNMdX2P+wDyL4GTfa+2M4nq/NJ+kfdQ9sUKCwehabfJcr/gwTXN5Pk9kkxmnq32UhXC3a9En/z23zhHyIiKyoQV27tzpT1REXnOmafo35ejp6cn83Nvb69mXTyqVYvv27Wzbto2lpSUAksmkv9k1Z9xyDy+97yhWZRWBQICgZbB1bprgygoBLGfpcYuAvQQ5WKb9s7HK1ic/T2DlvP+QZSk6ssgjM95gUkSkFJH+OG1zJYQoPlfaT0TKn97fIiIiko9GXIpcYxUXX+CNX4yw5cyMXS5OBcv1jRhBO5x06sid8nH77wbBSy9y0+N/umFCS7tUfJIjCi1FZN0iNPtWvC7NlfYTkbIX6ac776JbIiIicqPTiEspC5tpxKXbyt0Pcf4XHsG8vQ5rSxWVS2cILp0jEAxSvbLE1uQZrH/4c4IXSl6b9nURHVn0zmnJJJ01B525K0VERERKF+mPe+e0JE5fuEvzFYqIiEgOBZdSFjZrcCkiIiIiIiIiIldGpeIiIiIiIiIiIiJSdhRcioiIiIiIiIiISNlRcCkiIiIiIiIiIiJlR8GliIiIiIiIiIiIlB0FlyIiIiIiIiIiIlJ2FFyKiIiIiIiIiIhI2VFwKSIiIiIiIiIiImVHwaWIiIiIiIiIiIiUHQWXIiIiIiIiIiIiUnYUXIqIiIiIiIiIiEjZUXApIiIiIiIiIiIiZUfBpYiIiIiIiIiIiJQdBZciIiIiIiIiIiJSdhRcioiIiIiIiIiISNnZEMHll//Q5NkvWfz0ixYLX4T5YzD3fwf45K8H/E2lzFRv3Ur11q3+zSIiIiIiIiIiIkVtiODyF/cEMU2wrCCWGbD/awX40P4gv/MvNsRTuCHds7OGj/zeH/KJT36K5nf/qn+3iIiIiIiIiIhIQYGdO3da/o3lZv4YYAWwLLCsABDAtACy2yzAsgCCzjZnu9PuxA8NPjK04j90RmPPKSY6dvs3MzvUwt7eaf9mKUHbh3+T+t1vyvx76sRxTn7zG542aaZp+jfl6Onpyfzc29vr2ZdPKpVi+/btbNu2jaWlJQCSyaS/2XVV9cA7uO3Q71NRsxOqA1iksAKrBCuSVAaWCJxZ5OL41zn7lfzXRURERERERETkRrUhhisurwQ4fwnOX7L/e27J4vwluJDcSmX9/8rN/+z32PbQx7nlrR/llrf8Jtvf8mFufegQt72ljdsfauX2B9/Pv3j/P/cfNtdkJzU1Na5HJzMdEywujhD1t91soiMsnuqh0b/9Ct12xx2e0BKgad+BG2bkZeWOe7nn049x1+EvUlH/M1hVQUxSAFgYQACCFVTuvJOdsYd56/ifcOe+h/yHERERERERERG5YW2I4PLmt/4Rb/jFAe78xc+w4xf/hLt/8d9x9y98krve/jts2XYXrL4KxgUwLoKxBOYlMC6BeRmMy2AmCVZW+A9bgjEO1rQwNLufgZFNH11eM9Vbt3LgPe/zb4YbJLys3HEvb/zsN6msfzMETGeEsIVpWRisYloWqyl71LBlVRAAqm+1aPijD7Cn51f8hxMRERERERERuSFtiOAyGEzB6hlYfSX739RZSL0KZhKsVTBX7Ifl/Dfzb2efUbhMvLhpeo9Mwv4Wz6jLxp5TLC4uZh95gk1/G7tJlJHFU/S4hzY29nDKNaozOrLIqZ4oPad8fRt7OJU5Xu4oUO/53OdopOfUIiNR+7/+/dGRRRYH9sPuDibczyU6UuB4+dXvbqDtw7/JJz75KR54sPDowaZ9Bzbtgj2VO+7jns9OYlVVYmFhWCkMlrECKcDCskxn+gJYWd0KAYPkyhYCGFRXXuLeh/cQ+ugaF1pERERERERE5AawIYJLzFU7kLScIDIdRuL8NxNWrjptnfbmChhJp99VzG14eoZZGrjfyZPs+TBn6MyUlLcw1DDgCS9z2rQMMZM94pp2dzwCMbtvy9As+wcWWRyEWPp8vlGgjT2nmDhwnJb0+Tpn6Jjwhpv7BwYzx+yc3E3HoF0aPnawhprOSZgdsvsfHLND0oEGhlrSxzvuOlKu974/StuHfyunPDyfV8++4t+0adz58c9DVZU9/yomqyurrL5qYlkWBiuYGACYFgSDqxgpi0DAIrlSyUpqC6a5yps+9GZurrnJf2gRERERERERkRvKxgguLSeQNPOMrEzvc4+6NJLZNlbS+fdVBJfTT7tCxyidHTDUcpCxbAN6Y0PMZkZlRuns2M1kp6vNdC+92Q5rmzxCek2g6d4jTAKTR3qxNzmjQBvud+akdH6nWHo/MDbA0Ox+WlzJ5exQLHPMsYEhZnc3sCe7O48Znk4fcKw30zefqRPH1wwkk8uX+W58ir849gWSy8v+3Rte1QPvpKI+RMpI8dwPf8TsY99mfiLOcyf+nme//LecOf4kK2dWsbCHXFoWGEYFhmFimQZBLoG5TJBL/NynQv7Di4iIiIiIiIjcUDZGcJkeTZkebWmtgpnyjsTMBJrOCMv0v9PbzCstFQca76ch/XO0hf3uQC9t+mlm0qMyoy3sZ5KJ9QSVPrMzp/1byNmUFm1hP7vpmHCVri9O4F8kfSbnl86OIs0x/SjHZ/czkClxL+7c2Vc49vnPFQwvT37zG/zZZ/6Y41/7Ki88t+jfvSnc+eHPkLyYZObE9zh/fgvWXfcT3PkgwfseInjvQxjVOzkbn+H8DxcJYBJkhS0VlwkGVghgj74MBlYxjRV2vG2Tjrj0TD/gPEq5wURkY4n0E4/H8z76I/7GTvuxGOk/2UT6XX1c23O4+/nPmedERY+7Vn///nxt3Hztx2IFn0XxtvnO6zyKnd4WIjaW57k67OsxRuFfLUL/Ws/zBnEl18ru0085X71QbMy5n0r/PbN93I9i18bpc53vo2LniPRn31eezwH/o0B/uRL2589alzTv6+Z87qVfs3z3XNHPVBER2VQ2SHDpKv32j7hMj8L0B5jmij3K0nRCy6sJLvc0sHv2OI/6c7+yMukqXc8+Dl5xeDpN7167xL1hIP+cmn7nzr7C83lCybnZnzB14jjLm3CUpVvyph088/cJzG01WNW3YFVUQ7Aaq/Im2Hob3HIXwTvuZfn5FBdPv0jAWmJ11YTUBUwjBVaS5UsplpOVJFc3xlvzikx2eu/TK79JRaRcjXcRDoe9j744LIxydNzfOESsLUz82CAJ5wtqdzhOn9Ovb76VYf+X2px+IWLNc7RnztdHPNzt+WIbio3RXTfqtGlnFPdx1+4PQLzP+5y6cp5MRqSZzHMIh/uYbx0u+AW+aNt1XUuf0D6aWGChtol9Bb/j19JUYGco1kbdwoJ/8w1sfddqvCtMONzFWi/T6yYU43ArjLa7fk/fHxEK8r8XwlEGE/5G5cl+XexHX9z3XIq8p6V0djg8TGutf08JQjHGusPE+8JE3TeV+3VqH4Uin6kiIrK5bIx0xHIHlK6ycCsdTjr/TZeIZwJL17+tKw0uo4wM7M+Wafvmu8xovJ+G9EjMQm0K2dOAb3Dk+qz3fOsx3cteZ07NR9ZYnee974/ywIMPMf3973lGXj4zu57ZPTeuM8+eJVW5HZMKLDOAadpzWZpmAGNpiS2JH1F55ANs+UoPqX96FqxlKgPnCbBC0HiJVPIipmlhWRYBa8l/+E2h8f7M2GURuaF4w0nvrn001cY5OW6329dUS7wvG/aMHx1lIdycOxrM0y/BYJf72OMcHV2gtmmfE8BEONRa6zp/gsHDoyyE25xRYmv1h9CuuszeUox3uQOrcU7GIdyc8yxgnW2LXkufyKFWmDrMsXgtrYfyH29hYYHa1kO519d5LSRrc16reZ5Z60YSWY9Iv/PHpz7i/n1ritA/3Aqj7RTNkBODHCv6OSkiIpvJxgguMyXh6RXCXaGkO7y03IGle55Lp816NfZwanGA/ZOd2ZGL070cmdztW/imkZ7BDhgasOe0zNemsYeeKMBpZmZ309GZWUOckYH96VZXJt/5aKRnxF58p2TuOS+jIzkl4rml5lnvfX+Uxne8k+nvf4/HvjzmKRt/+qkn/c03peRqJSYBLNOyQ0vDwjQsrMuXST3+d1jf6LUbnnse80t/AJcvUsE5AsbLGKkVgtYFKswzBM0LmKnC9+sVrTrv2bfI4in3vVF81fm06Ii3f7TnVE6Zt3dle5WBi4gjcohW8o8QDO1rojZ+ct2j0tbql3hmPvuP0C7qSIecmQbMU0t9gb+nePpfIwtzzh/yQjHG1iitzbT1K3ItvSI0hxeYOpEoHP4CTB1jdCFMzvd/5zzHpnzbb2TrvFbu8uQ0f8mrPWIsXVLrlJu7yrb97QuV1NoP7z1VrG8oNkZ8uJVawnQ7+yL9ceLdYahtZTjfudbBPy1DvreZv00kT8mw9zkUf89ImRjvusKRxiFiY93UjbZ7R1oWUfBzUkRENpUNEVyaK696y78zC/P4F+JJ708HndlRmKlk4SAoY/+AN3SZaOBInlLWsYM1tAw1MJBpO8GB4y3sda1eM3awhs5Je45I+1gH4DROCXYnk5lztTDRMsSs+wRXIOd8ixMcmHk0u1jPWpzFfAbSYdPpGadEPPv8ClX0/ny4yRNa4prz8sdPPblp57T0u3D2MpZlYZr2wzKxf376CQIpg0DynKd9ReVZjNQqpglYKYzVVUwzgGmssHoh5Wnrt+5V5x9u4Hh6hfiaFoboYMIXKhZadR4ntBxocFadr6mh5kgDA75JVBt7TjHRMeOasqCFoYaB3PDS/T7z7xORTSnSHGZh6kSeEYIRDrXCaCaFSzB4LE64OxvcRA615gko/f1yRZrDMP+Mfc6GemoX5lwL7QHMMFekCtrTPy3cnTcEWpMzAulYKV/G12hb+Fr6RJoJL0xxIgEkTjCVL3ADYIYTUwuE27zlwenzKBZwu7prFYqNMdw6n50WoH2UOdf+urZm5lxl2zntw+2M1nVn771QjLHuOqfUO0y4L5ucrtU3MRgl3D7KAs60DF3jdgm1Mw1B+1WUTUf6465pGcKEj9XT7asZLqVNKDbGcNNUtk3fPK3Dpc/FKRtLpH+Y1vm+0kLLNT4nRURkc9kQweV//ctvcOYfv87L/3icl576Fi8+dZIXT8d5/h+/w/Onv89ziWkWn3qSxdM/ZvHHs/z09DP8NPEsCz9+gYWnzzD343OMPpZ/0Zi06d69OfND1tS4Vw738rd3h5ZpYwfdx9rrWpV7jIPuc0z3std1rrGD/uONcdDTHxg7SM1e1yriOedzH8Oer9ITPE73stdzTGdOyxonqJ3uZW/eY+V64blFjn/tq5nQMu3c2Vf4y2Nf8GzbzEwTLBMs03JGXVqwdBGWLkDVzZ62N7fspTJ4nqB1gYB5HstIYlkWlnmZlWSAH316jbB3XavOw3TvQe9r7dtP0VXno7Tsn/WtWn+QzslM1+zK9i3u98w0vbEhZve3ZEZ/et83ToCv8FJkcwvFaCv0BdMdrqWNd9E+WmePAovH6aYvN0DJ188lM0+mv18edbtyh3Dl658YjLrm87PnwCweXqZHz8WJt83R7h6BlBgk6pkTsEhbt2LX0scbcCbswC1/ckli8Bhx9zyY6zjPjebKr5UzXYFrGgQSgwy6X+ipo5574lArjLa774X0FAfu0bOuUu/xQad/qX2vgjvEd0ZMpqdlaA4vMHrYNZXBeJc9l2RGaW0OteJrczT/iFc3/++V/hwJ+xtKWQl30x1eKPrHKM9r2x32vpdERGRT2xDB5W//p2XeGlvinz1ykcZHLvK2j1zkbR+5wNs/eoG3f/Q87/joq/zcx17l5z52jp/72Fl+/uNn+fmPv8IvfPwVfuF3z/A/fOIM/2bkgv+wco3Mzc7w3bhqyQKppD3C0sqGl9a5lwgEKyEQZHnPr2fbWpewLAhYl7HMJBjnqeQcZvIis5/7CS/89UXPsf3Wteq8w1PGnWd6gtypAJx5U93zt7qcnnGNE462sD9PG6afZqbg/KtjHOycBFewKSKbT7GS7tzRg3bJ7HD9sUxI2D7XlrPicW4/177+uDPSrLQvtfO+Cf5K6z9OV18cioZA43Slg87DcLjoKriltS12LT1CMdqcMvG0xIkp15yefuOcjGcXnin5PDekK7xWkWbC/ukKfDz3YqSZcL75JxPPME8du0LZkbTd/hXmS+l7tfyL80SdgDG0i7o8555xD28upU2kmTC1tA67A8gSFnvx/17OwxuKStmJ92Gvt1NkRK3ntW1nrm2dI99FRGTD2hDBpchGUHFuAcsJLTPhpRWAQACA1J17SO14CIClv3qcxd/+Auce/QHLT81z9luLPPV7T/Cdh5/g2a+e9R35akUZWVxk4sDxbKm3d7hkcVe7eFQxp2euepoEESlnzmI7edOaCM3+kWqRQ7TW+kc6HmZ0IUxbJnHL0w8yoWc3ffnnV6ut982z10C9JwRZo7/fzBxFKs29EoNE++IFFnbxKdi22LX0Cu1rotYf+gy3UltkVezxo6PQeogIIfY1FS/Dv9GVz7VKMBi1S87ruuM5Af/roqGetbLFktoApMvYfY8SBlLLBpQYjNIXD9Nd0n3sX2BNREQ2MwWXItfI9u8cAcvKhpcmWJYJVrpFgOQDv8byWz6EVX07qZcvcnbsB/y09zs8N/QElxLnsapuxaq61Xvgq9V4Pw1M0umaWmBdq3sXWLV+T4MrzizQptBozYzrGYqKyOvPs/K3b1esjXApI9V8CvVLz4+WU1YOMH6SuH+kmW/BnqL98yk5fLlGilxLLzvgXBhtzwl82n0rpXuk58HsP0Qrhcvw5Qqv1cwcC/57sJhC7fONVkwMEg23ZwP+9fS91gqcu8H9V4KraCOb23iXfR93Z6YeWMt1vp9FRKQsKLgUuUaqXnySyjMz2fDSsjBv2QGWgSu9xLhtF5fe/lEuv+0Rlve0sRz6IMm3HGL5Z3+H5bf+Bqn73uU57rXhChUbexj0LaxT1PSjHJ/1LtZDdARPtXmhle0HO2BowJn30rfSfWMPpwb2M5vZLyKbTWhfU55FcSg8enD8JHHCdHtWPz5Ma2267LlAP6c0uvDIN7u8t/Vw+stwiNjhVhg9agega/YPEet3fZEOxRjrDrOQ7p8jQswzDChCv7u9Z1XxNdo6Cl9Ln9A+mjLXyytxYoqF2lYO5R3O5CyMFC5chi9pV3CtEoMci9d6S2FDMWJ5X4sC7f33baTfWyKeLjcvpW8xOaOT1yF97sx7zf49PXNMJk4wtbBWmwLPwf0+vF7c789CP8t1kmAw2ke8tpVh/83tYd/PJU3TICIiG56CS5FraMdjHZBasRfascCouhmjehtY2eDSFsDa+gbMW+sxb63DvPlurIpqMFNU/vTbvrZXabqX2BB0TDjzWw5CbD2l4kzTu9dZiTw9R2bLBC1D3iLvsYM1tAw1eFe2P97iXdipwXWMiQ5mOosv/CQiG1tDfW3+YCe0jyZGyc0Jx+lKL3zjlDgPt8Jou7OQTcF+gL802nmkv/uOd4Xpm29lOD1XXs7qtcX7U5fua5ddz/eFi6x+OwNNw67jdFM32l6gfWltC15Ln8ihVmoLLVyUOMHUAgUX6bGD43xl+JLjCq7VeFfYKYVN30dNFEuix7vCnoWq4vFhmqZc98bMnFMint2XHjC8Zt9CnAVwuuNrzB+YZxGc7HutnVFc75fmk7SPuidWSDAYXatNnusVH6Zpbu33gGx043S1j7IQ7nYt+uS/59Y5Ql5ERDa0wM6dO/2JishrzjRN/6YcPT09mZ97e3s9+/JJpVJs376dbdu2sbS0BEAymfQ3u+aMW+7hpfcdxaqsIhAIELQMts5NE1xZIYDlLD1uEbCXIAfLtH82Vtn65OcJrJz3H7IsRUcWeWTGF0yKiJQg0h+nba6EEMXnSvuJSPnT+1tERETy0YhLkWus4uILvPGLEbacmbHLxalgub4RI2iHk04duVM+bv/dIHjpRW56/E83TGhpl4pPckShpYisW4Rm34rXpbnSfiJS9iL9dOdddEtERERudBpxKWVhM424dFu5+yHO/8IjmLfXYW2ponLpDMGlcwSCQapXltiaPIP1D39O8ELJa9O+LqIji945LZmks+ag5qYUERGRdYv0x71zWhKnL9yl+QpFREQkh4JLKQubNbgUEREREREREZEro1JxERERERERERERKTsKLkVERERERERERKTsKLgUERERERERERGRsqPgUkRERERERERERMqOgksREREREREREREpOwouRUREREREREREpOwouBQREREREREREZGyo+BSREREREREREREyo6CSxERERERERERESk7Ci5FRERERERERESk7Ci4FBERERERERERkbKj4FJERERERERERETKjoJLERERERERERERKTsKLkVERERERERERKTsKLgUERERERERERGRshPYuXOn5d9Ybna+41383G/1seWmW7DI/roBCywLLMvZZllYZmYj9maLSy8t8uTYn/L8D09m+kp5MU3TvylHT09P5ufe3l7PvnxSqRTbt29n27ZtLC0tAZBMJv3NRERERERERESkDG2I4LLxT8ZJWHexalpgYYeXlv2zaZqQ3m6ZmeDS/d+bKuHB7Sl+9Ie/6j+0lInNGlxWPfAObjv0+1TU7ITqABYprMAqwYoklYElAmcWuTj+dc5+5Rv+riIiIiIiIiIiN7QNUSo+E7BDS8tyHqaJZVhYhgmG/W/TNO1/m/b2+26pwDJMLNNkadngh2cC/sPKa6B661aqt271b970Knfcyz2ffoy7Dn+RivqfwaoKYpICwMIAAhCsoHLnneyMPcxbx/+EO/c95D+MiIiIiIiIiMgNa0MEl5dSdjiZDiXTYWXmYVhgmJiGiWkYjLz3Xh7/39/EyMO1TphpsrJq+A8r19k9O2v4yO/9IZ/45KdofveNM9q1cse9vPGz36Sy/s0QMIEApmVhWhYGq5iWxWoqYA8UtioIANW3WjT80QfY0/Mr/sOJiIiIiIiIiNyQNkRwaY+czIaV6dGVpmH/N70d06R2eyUtb9oOwD9/83bu217ptCteER8dWWRx0f04RU+jf/8IUXcnKerAex5m69abAGjad+CGCC8rd9zHPZ+dxKqqxMLCsFIYLGMFUoBlT2fg3Iorq1shYJBc2UIAg+rKS9z78B5CH3XdeCIiIiIiIiIiN6iNEVya6eAyXSaeDSrTIzFNJ9yceyXJ1//pVQDGf/wq82eTdj9j7RGXs0Mt1NTUUFNTQ8sQdExkw8uxgzXU1BxkzN8pn+gIi6d6uJHjp9vuuIP63W/ybLsRwss7P/55qKoCAliYrK6ssvqqiWVZGKxgYt+HpgXB4CpGyiIQsEiuVLKS2oJprvKmD72Zm2vswFdERERERERE5Ea1IYJLe8SkYT+ccnHLMDFTdlhpGoYdYjrzXn7wL56h8c+e4oP/76zT1u63HtO9MYZmd3Pg4Rs5frwy1Vu3cuA97/Nvhk0eXlY98E4q6kOkjBTP/fBHzD72beYn4jx34u959st/y5njT7JyZtVeXAp7fSnDqMAwTCzTIMglMJcJcomf+1TIf3gRERERERERkRvKhggu7bDSeaSc8NI9+tIpG8c1CnPulWVM0wk003NjXoXoyCKn3LXjQGPPKU95+UjUKSkf2A+7O5hYXGRxJApEGfGVntPYw6lM6XkjPacWGYlGGVn0lqR7z+E7RnSk8L7XQf3uBto+/Jt84pOf4oEHCy8007TvwKZcsOfOD3+G5MUkMye+x/nzW7Duup/gzgcJ3vcQwXsfwqjeydn4DOd/uEgAkyArbKm4TDCwQgB79GUwsIpprLDjbTfAiMvoSFnctyJyHUT6icfjeR/9EX9jp/1YjPSfbCL9rj6u7Tnc/fznzHOiosddq79/f742br72Y7GCz6J423zndR7FTm8LERvL81wd9vUYo/CvFqF/red5g7iSa2X36aecr14oNubcT6X/ntk+7kexa+P0uc73UbFzRPqz7yvP54D/UaC/XAn782etS5r3dXM+99KvWb57ruhnqoiIbCobIri0w0cD00yHlvYiPOkS8Gx4adjzX7oW7UkHmpZ1ZcHlzNPT/k3gBIoTHTN0OqXlNS1DzKRLyjsnYXaIlpoaag6WVFwOQMMjLcy0ZEvSG3tOMXHguH2cmhpqOmfomHBCzcYeTg00MNSS3nfcf7jX1HvfH6Xtw7+VUx6ez6tnX/Fv2hSSN+3gmb9PYG6rwaq+BauiGoLVWJU3wdbb4Ja7CN5xL8vPp7h4+kUC1hKrqyakLmAaKbCSLF9KsZysJLm6Md6aV66Rnkf2+zeKyGYx3kU4HPY++uKwMMrRcX/jELG2MPFjgyScL6jd4Th9Tr+++VaG/V9qc/qFiDXP0Z45Xx/xcLfni20oNkZ33ajTpp1R3Mdduz8A8T7vc+rKeTIZkWYyzyEc7mO+dbjgF/iibdd1LX1C+2higYXaJvYV/I5fS1OBnaFYG3ULC/7NN7D1XavxrjDhcBdrvUyvm1CMw60w2u76PX1/RCjI/14IRxlM+BuVJ/t1sR99cd9zKfKeltLZ4fAwrbX+PSUIxRjrDhPvCxN131Tu16l9FIp8poqIyOayIdKR9OI6Vno1ccNwVhg3wFjloTcECNdUYq4kPUFmekSmmTKxUusLLqMjE3TsnmQib+4YpbNjN5Odrjkvp3vpzdt2HY4P0JvJSaN0dsBQrJfMprEBhmb305JZIWiGTK461uvq+9qbOnF8zUAyuXyZ78an+ItjXyC5vOzfveGdefYsqcrtmFRgmQF7ALAFphnAWFpiS+JHVB75AFu+0kPqn54Fa5nKwHkCrBA0XiKVvIhpWliWRcBa8h9+U2nsGaRjZpJJ/w4R2aS84aR31z6aauOcHLfb7WuqJd6XDXvGj46yEG7OHQ3m6ZdgsMt97HGOji5Q27TPCWAiHGqtdZ0/weDhURbCbc4osbX6Q2hXXWZvKca73IHVOCfjEG7OeRawzrZFr6VP5FArTB3mWLyW1kP5j7ewsEBt66Hc6+u8FpK1Oa/VPM+sdSOJrEek3/njUx9x/741RegfboXRdopmyIlBjhX9nBQRkc1kQwSX5JSGW3ZZ+OoKv/s/7OCvO/4Zj37oIQYf3oW1suzMaWlCOuhML+Kzht0dE5nS64GGIVoKLcYTbWE/hULNK+cZ3RltYT+76Zhwr3Q+QcduZ//0oxyf3c+AU6L+ejt39hWOff5zBcPLk9/8Bn/2mT/m+Ne+ygvPLfp3bwrJ1UpMAva8qyaYhoVpWFiXL5N6/O+wvtFrNzz3POaX/gAuX6SCcwSMlzFSKwStC1SYZwiaFzBTSf/hM+xpC6L0nPJOU2BPP5Delp1uAPz7Fn2LR6WnKrD/W2jqgeiIt3+055QzFUKWf/oE/36nEYMdM3QenPDvEZHNKnKIVvKPEAzta6I2fnLdo9LW6pd4Zj77j9Au6kiHnJkGzFNLfYNrm4un/zWyMDdj/xCKMbZGaW2mrV+Ra+kVoTm8wNSJROHwF2DqGKMLYXK+/zvnOTbl234jW+e1cpcnp/lLXu0RY+mSWqfc3FW27W9fqKTWfnjvqWJ9Q7Ex4sOt1BKm29kX6Y8T7w5DbSvD+c61Dv5pGfK9zfxtInlKhr3Pofh7RsrEeNcVjjQOERvrpm603TvSsoiCn5MiIrKpbIjg0kwvzOMaSWmuJPn4L93F776rnpQJhgn/y8++kf/4vgbMlWUwTbu0PD3ysoTFedyritfsdY10fN1MZkvRXQ+7+nya3r12iXrDQJ6g6nVw7uwrPJ8nlJyb/QlTJ46zvAlHWbpdOHsZy7IwTfthmdg/P/0EgZRBIHnO076i8ixGahXTBKwUxuoqphnANFZYvZDytPXb3fEIxOz7oWVolv0DiywOQqymhpqaFoZm9zPgCg0bH27geHpagZoWhuhgwhcq7h8YzByzc3I3HYPZcDM6kg7znWMcaWAgk6LbcqZPqGlhqGHAF1420jPYwYx7tLKIbHqR5jALUyfyjBCMcKgVRjMpXILBY3HC3dngJnKoNU9A6e+XK9Ichvln7HM21FO7MIf3K+4Mc0WqoD3908LdeUOgNTkjkI6V8mV8jbaFr6VPpJnwwhQnEkDiBFP5AjcAZjgxtUC4zVsenD6PYgG3q7tWodgYw63z2WkB2keZc+2va2tmzlW2ndM+3M5oXXf23gvFGOuuc0q9w4T7ssnpWn0Tg1HC7aMs4EzL0DVul1A70xC0X0XZdKQ/7pqWIUz4WD3dvprhUtqEYmMMN01l2/TN0zpc+lycsrFE+odpne8rLbRc43NSREQ2lw0RXGZGXKbnq1xJ0hm+m4+/a5cdWlr2I2XC//L2Gv7jv3wzZnIZjOzCPFe7OI/H6RlmaeD+q1lUZE8D3tjHp9RzTPey1wmqHvEPkXuNvff9UR548CGmv/89z8jLZ2bX+r/ym4NpgmU6i0k54SVLF2HpAlTd7Gl7c8teKoPnCVoXCJjnsYwklmVhmZdZSQb40adzA2CPySOZqQGme48wCUweSYft0/QemYSG+zPB43TvQddUArn7AWaHYpk2YwNDzO5uYA8AUVr2z/qmLThIp6fO25naoMUdSE7TGxtidn9LJlSPjkzQMdPphO8ickMIxWgr9AXTHa6ljXfRPlpnjwKLx+mmLzdAydfPJTNPpr9fHnW7codw5eufGIy65vOz58AsHl6mR8/FibfN0e4egZQYJOqZE7BIW7di19LHG3Am7MAtf3JJYvAYcfc8mOs4z43myq+VM12BaxoEEoMMul/oqaOee+JQK4y2u++F9BQH7tGzrlLv8UGnf6l9r4I7xHdGTKanZWgOLzB62DWVwXiXPZdkRmltDrXia3M0/4hXN//vlf4cCfsbSlkJd9MdXij6xyjPa9sd9r6XRERkU9sQwaUdPDrzWqZW+Vj4Hjp/uR7DsucQNJwRl+kA8/3vuJd//6/ut0deGgZYdsn4NTPdy5HJ3dmFcrDLX3vcA8syoQ/AaWZmd9PRmYlvGBlYY2GSfOegkZ4RZxRcdCSnRLzQQkKvhfe+P0rjO97J9Pe/x2NfHvOUjT/91JP+5ptSIJW0R1ha2fDSOvcSgWAlBIIs7/n1bFvrEpYFAesylpkE4zyVnMNMXmT2cz/hhb++6Dm23+zMaf8Wcjb5eMq489x/ufePE5w33k+Dez5Vx+mZ2ew/oi3sz9OG6aeZSR8nOmKP2lRqKXJDKVbSnTt60C6ZHa4/lgkJ2+faclY8zu3n2tcfd0aalfaldt43wV9p/cfp6otD0RBonK500HkYDhddBbe0tsWupUcoRptTJp6WODHlmtPTb5yT8ezCMyWf54Z0hdcq0kzYP12Bj+dejDQTzjf/ZOIZ5qljVyg7krbbv8J8KX2vln9xnqgTMIZ2UZfn3DPu4c2ltIk0E6aW1mF3AFnCYi/+38t5eENRKTvxPuz1doqMqPW8tu3Mta1z5LuIiGxYGya4tEPLJB/9pbv52Lt2YVgBDNMeZWlYkHKNujQteP/P3Ufnr9TZC/akrvGIS2f18M5Je47JxcVFFicOQDo4chbRGcjM8TdN795OJvcPOMFRCxMtQ7hin7xyzrE4wYGZR+1Rb6dnnBJxZ/vxltdtFNvPh5s8oSWuOS9//NSTm3ZOS7+KcwtYTmiZCS+tAAQCAKTu3ENqx0MALP3V4yz+9hc49+gPWH5qnrPfWuSp33uC7zz8BM9+9azvyFcrysjiom+F+nUsi7PW6OCSOKuI7+5gInM/D2TncfWn8CKySTiL7eRNayI0+0eqRQ7RWusf6XiY0YUwbZnELU8/yISe3fTln1+ttt43z14D9Z4QZI3+fjNzFKk090oMEu2LF1jYxadg22LX0iu0r4laf+gz3EptkVWxx4+OQushIoTY11S8DP9GVz7XKsFg1C45r+uO5wT8r4uGetbKFktqA5AuY/c9ShhILRtQYjBKXzxMd0n3sX+BNRER2cw2RnBpmlipFT76Szv5aLNTHm7CqmkHliln1GXKBBMnzAR+5396gI+9ux4rteI/ZI6xgzXsLbIsd779Ywfdc0/u9Zbi7nW2Z9LEMQ5m2h5kbLqXvZnFf+z2+YJH7zlcv8N0L3vzbX8dvPDcIse/9tVMaJl27uwr/OWxL3i2bWbbv3PEHt2bDi9NsCwTMtOrBkg+8Gssv+VDWNW3k3r5ImfHfsBPe7/Dc0NPcClxHqvqVqyqW70HvlqN99PAJJ2ueVsb7883TX4BBaYt2NPgijMLtMmO1nS9JzKPTiaZZajF/T4RkU3Fs/K3b1esjXApI9V8CvVLz4+WU1YOMH6SuH+kmW/BnqL98yk5fLlGilxLLzvgXBhtzwl82n0rpXuk58HsP0Qrhcvw5Qqv1cwcC/57sJhC7fONVkwMEg23ZwP+9fS91gqcu8H9V4KraCOb23iXfR93Z6YeWMt1vp9FRKQsbIzg8vJ53v0z2/mIqzw8PcLSdEZYuue5TDn/NUz47f/pAQ7tvY+KpRf9h5VrZG52hu/Gtexo1YtPUnlmJhteWhbmLTvAMnCllxi37eLS2z/K5bc9wvKeNpZDHyT5lkMs/+zvsPzW3yB137s8x702XKFiYw+DvoV1ipp+lOOz3sV6iI7gqTYvNLXBYAcMDWghHpEbVGhfU55FcSg8enD8JHHCdHtWPz5Ma2267LlAP6c0uvDIN7u8t/Vw+stwiNjhVhg9agega/YPEet3fZEOxRjrDrOQ7p8jQswzDChCv7u9Z1XxNdo6Cl9Ln9A+mjLXyytxYoqF2lYO5R3O5CyMFC5chi9pV3CtEoMci9d6S2FDMWJ5X4sC7f33baTfWyKeLjcvpW8xOaOT1yF97sx7zf49PXNMJk4wtbBWmwLPwf0+vF7c789CP8t1kmAw2ke8tpVh/83tYd/PJU3TICIiG96GCC6rT/5HJn8wy88c/g71n/xb6nvi7Pq3p9j1h1PUdf8Ndf/mJHX/5tvUd32buk+coO53v0n9756g/hMn2PWJb/GFk/+dbU+O+g8rcs3teKwDUiv2QjsWGFU3Y1RvA8u/qn0Aa+sbMG+tx7y1DvPmu7EqqsFMUfnTb/vaXqXpXmJD2CXZi87q4+spFWea3r3OSuTpMu+WCVqGvJMdjB2soWWowTu1wfGW13U0sIi8vhrqa/MHO6F9NDFKbk44Tld64RunxHm4FUbbnYVsCvYD/KXRziP93Xe8K0zffCvD6bnyclavLd6funRfu+x6vi9cZPXbGWgadh2nm7rR9gLtS2tb8Fr6RA61Ulto4aLECaYWKLhIjx0c5yvDlxxXcK3Gu8JOKWz6PmqiWBI93hX2LFQVjw/TNOW6N2bmnBLx7L70gOE1+xbiLIDTHV9j/sA8i+Bk32vtjOJ6vzSfpH3UPbFCgsHoWm3yXK/4ME1za78HZKMbp6t9lIVwt2vRJ/89t84R8iIisqEFdu7c6U9URF5zZgmLJ/X09GR+7u3t9ezLJ5VKsX37drZt28bS0hIAyWTS3+yaM265h5fedxSrsopAIEDQMtg6N01wZYUAlrP0uEXAXoIcLNP+2Vhl65OfJ7By3n/IshQdWeSRGQWTIrJ+kf44bXMlhCg+V9pPRMqf3t8iIiKSz4YYcSmykVRcfIE3fjHCljMzdrk4FSzXN2IE7XDSqSN3ysftvxsEL73ITY//6YYJLe1S8UmOKLQUkXWL0Oxb8bo0V9pPRMpepJ/uvItuiYiIyI1OIy6lLGymEZduK3c/xPlfeATz9jqsLVVULp0huHSOQDBI9coSW5NnsP7hzwleKHlt2tdFdGTRO6clk3RmFpcSERERKV2kP+6d05I4feEuzVcoIiIiORRcSlnYrMGliIiIiIiIiIhcGZWKi4iIiIiIiIiISNlRcCkiIiIiIiIiIiJlR8GliIiIiIiIiIiIlB0FlyIiIiIiIiIiIlJ2FFyKiIiIiIiIiIhI2VFwKSIiIiIiIiIiImVHwaWIiIiIiIiIiIiUHQWXIiIiIiIiIiIiUnYUXIqIiIiIiIiIiEjZUXApIiIiIiIiIiIiZUfBpYiIiIiIiIiIiJQdBZciIiIiIiIiIiJSdhRcioiIiIiIiIiISNlRcCkiIiIiIiIiIiJlR8GliIiIiIiIiIiIlB0FlyIiIiIiIiIiIlJ2Ajt37rT8G0Vea6Zp+jfl6Onpyfzc29vr2ZdPKpVi+/btbNu2jaWlJQCSyaS/2XVV9cA7uO3Q71NRsxOqA1iksAKrBCuSVAaWCJxZ5OL41zn7lW/4u4qIiIiIiIiI3NA2ZHC5/aZq/tUvNfLz9+/igXt3cu+dd2CaARI/fZFnz5zjxI9O89XvPO7vJmVsswWXlTvu5c7fHaKy/k0YgUtYgRWswCoBwAwsU1FhUFlxmS2Vl7ip+jwVyVdZHPgSZ0486T+UiIiIiIiIiMgNqWL79u2H/RvL2f633c+XPtbKu2rfQG1lipvOn2HluZ+y+uLz3I5B7c3V/PJDD/IvfnkvFy4n+fGzz/kPIWXIstbOz5ubmzM/nzx50rMvH9M0qa6upqqqitXVVQAMw/A3u+Yqd9zLGz/7TYJ33gkBEwsDkxQWBlYghYWJaUJFxSoVQZOqymW2blvmzneFuPW+IC+f/O/+Q4qIiIiIiIiI3HA21ByX//bX3s1g2z6qf5pg5fl5jFdfxUiuYhpBTLOC1KUVVl69wPLCPLe98Dz/9p+/m46W/f7DiFw3lTvu457PTmJVVWJhYVgpDJaxAinAwrJM0hntyupWCBgkV7YQwKC68hL3PryH0Ecb/YcVEREREREREbnhbJjg8nf+5ybaHrqb1fl/wjRMTCvoPCowqcCwghhWEMuqwLQqWE2muDT/U/71z/4zfvdf/M/+w8lrpHrrVqq3bvVv3rTu/PjnoaoKCGBhsrqyyuqrJpZlYbCCiT3i07QgGFzFSFkEAhbJlUpWUlswzVXe9KE3c3PNTf5Di4iIiIiIiIjcUDZEqfj7w2/l93/lAVIvP49pBbGsSgyrAsuswLSCpMwAd8d6qK5/E1ZFFStnX8VKmVgESV1Y4i21dcycv8Dciy/6Dy3X0T07a/jwRz9O87t/lUAgwNzsjL9JxmYoFa964J3c8vBvYhirvPCjJ3nxH57g3D/NsTS7wIV/fIaVZ1+h8vbbqbjZ/ntBMGAQIEVFcJktFUtUbznPluB5qitf5Q0PbmXu0ef9pxARERERERERuWFsiBGXH/kfH8B46VksK4BlVWCYQSwzYI+yNIMsp6Dy9ju46YG3cOfDH+CuX2tj1bT3pcwKll98hT+MvIdbioz8i44ssrh4ip6CVbpRRhYXWRyJ+nesm32uEa7+SOXtwHseZutWe+Rg074DNL/7V/1NNpU7P/wZkheTzJz4HufPb8G6636COx8keN9DBO99CKN6J2fjM5z/4SIBTIKssKXiMsHACgHs0ZfBwCqmscKOt23SEZfRERYXFzOPU4XfcCKykUX6icfjeR/9EX9jp/1YjFDmn64+ru053P3858xzoqLHXau/f3++Nm6+9mOxgs+ieNt853UexU5vCxEby/NcHfb1GKPwrxahf63neYO4kmtl9+mnnK9eKDbm3E+l/57ZPu5HsWvj9LnO91Gxc0T6s+8rz+eA/1Ggv1wJ+/NnrUua93VzPvfSr1m+e67oZ6qIiGwqZR9cvj/8VnaaF5yRlhVYVhDLCmKS/rmClOF9Gjft+hlWjACmWWmPzjSD8MIrvOcdP+dpl2s3Bx7OH6Q09jxCw+ysf/MVGTtYQ03NQcb8OzaR2+64g/rdb/Js2+zhZfKmHTzz9wnMbTVY1bdgVVRDsBqr8ibYehvcchfBO+5l+fkUF0+/SMBaYnXVhNQFTCMFVpLlSymWk5UkV8v+rXlFoi3QWVNDTU0NNTWdzHRMcA3+FiAi5Wa8i3A47H30xWFhlKPj/sYhYm1h4scGSThfULvDcfqcfn3zrQz7v9Tm9AsRa56jPXO+PuLhbs8X21BsjO66UadNO6O4j7t2fwDifd7n1JXzZDIizWSeQzjcx3zrcMEv8EXbruta+oT20cQCC7VN7Cv4Hb+WpgI7Q7E26hYW/JtvYOu7VuNdYcLhLtZ6mV43oRiHW2G03fV7+v6IUJD/vRCOMpjwNypP9utiP/rivudS5D0tpbPD4WFaa/17ShCKMdYdJt4XJuq+qdyvU/soFPlMFRGRzaXs05F9u27HTCbtsNIKZOe2dEZUpv8NcPI//kdmT8V5MfE0qylnRKYVxDQrMVLw4B13+Q/vMTs7y+6OzjwjIRt5+MBu/0YpoHrrVg68533+zbDJw8szz54lVbndDtXNAKZpz2VpmgGMpSW2JH5E5ZEPsOUrPaT+6VmwlqkMnCfACkHjJVLJi5imhWVZBKwl/+E3hbGD7sB+jIlJ2N+S+44Tkc3GG056d+2jqTbOyXG73b6mWuJ92bBn/OgoC+Hm3NFgnn4JBrvcxx7n6OgCtU37nAAmwqHWWtf5EwweHmUh3OaMElurP4R21WX2lmK8yx1YjXMyDuHmnGcB62xb9Fr6RA61wtRhjsVraT2U/3gLCwvUth7Kvb7OayFZm/NazfPMWjeSyHpE+p0/PvUR9+9bU4T+4VYYbadohpwY5FjRz0kREdlMyj64rN+WDifToaX9X8sZcWlaFZim/TRSP/nvJL70F3z3P/xfYFVimvZCPXbQWcGu7W/wH97r+BGGZveTk6NEO+lgiCPHPRsZ8ZeWN/Zwyl0C7imLzbaNjuSWyDb2nPKU0G7EUWj1uxto+/Bv8olPfooHHnzIvzujad+BTblgT3K1EpMAlmnZoaVhYRoW1uXLpB7/O6xv9NoNzz2P+aU/gMsXqeAcAeNljNQKQesCFeYZguYFzFTSf/gM+/6J0nPKd7809nAqcw/5piLw7Ftk8VQP2TuwkZ5Ti4xE7f/679c0e4qDbP9oz6mcqRP897F/fz6zM6f9m0Rks4kcopX8IwRD+5qojZ9c96i0tfolnpnP/iO0izrSIWemAfPUUt/g2ubi6X+NLMw5cz2HYoytUVqbaetX5Fp6RWgOLzB1IlE4/AWYOsboQpic7//OeY5N+bbfyNZ5rdzlyWn+kld7xFi6pNYpN3eVbfvbFyqptR/ee6pY31BsjPhwK7WE6Xb2RfrjxLvDUNvKcL5zrYN/WoZ8bzN/m0iekmHvcyj+npEyMd51hSONQ8TGuqkbbfeOtCyi4OekiIhsKmUfXDbcfhMWQSwziGk6oaUVxDADmFRkgkyAO7bewn133EXdbXdTEazCtCpIGRUYzmI+O6q3+w/vc5pHj8+y/xF3qAPRlv3MHn+UdcUrjT2cGmhgqMUpi+30pJ4ejT2nmOiYyZbQtgyx0f5n+L3vj9L24d/KKQ/P59Wzr/g3bQoXzl7GsixM035YJvbPTz9BIGUQSJ7ztK+oPIuRWsU0ASuFsbpq3+PGCqsXUp62frs7HoGYfb+0DM2yf2CRxUGI1dRQU9PC0Ox+BlyhYePDDRxP34s1LQzRwYQvVNw/MJg5ZufkbjoGs++D6MgiAw1DtKTv0SMNDHR4RyHn3Mc1LQw1DBQOL6MjDOyf5EjvtH+PiGwykeYwC1Mn8owQjHCoFUYzKVyCwWNxwt3Z4CZyqDVPQOnvlyvSHIb5Z+xzNtRTuzDn+9/WGeaKVEF7+qeFu/OGQGtyRiAdK+XL+BptC19Ln0gz4YUpTiSAxAmm8gVuAMxwYmqBcJu3PDh9no32/0eur6u7VqHYGMOt89lpAdpHmXPtr2trZs5Vtp3TPtzOaF139t4LxRjrrnNKvcOE+7LJ6Vp9E4NRwu2jLOBMy9A1bpdQO9MQtF9F2XSkP+6aliFM+Fg93b6a4VLahGJjDDdNZdv0zdM6XPpcnLKxRPqHaZ3vKy20XONzUkRENpeyDy7NlRUnnAzYAaYVtEe1OeXiljOiEsCikqBVCdhBZcqqJGVVsmpWsGpWspJce+Xq6d4jTO4+QGaqy8YeHrnicGWGp9PdxnrJf4gonR27mex0ldBO99K7wSbAnDpxfM1AMrl8me/Gp/iLY18gubzs373hmSZYJlim5Yy6tGDpIixdgKqbPW1vbtlLZfA8QesCAfM8lpHEsiws8zIryQA/+vSip32OySOZ+2m69wiTwOSRXuxN0/QemYSG+zPB43TvQdf9l7sfYHYolmkzNjDE7O4G9gAQpWX/LEOx9PGBsYN0Tma6OvcxDLW4S8Gn6Y0NMbu/xTX601nkanGRxUdmaNnkc72KiB2utBX6gukO19LGu2gfrbNHgcXjdNOXG6Dk6+eSmSfT3y+Pul25Q7jy9U8MRl3z+dlzYBYPL9Oj5+LE2+Zod49ASgwS9cwJWKStW7Fr6eMNOBN24JY/uSQxeIy4ex7MdZznRnPl18qZrsA1DQKJQQbdL/TUUc89cagVRtvd90J6igP36FlXqff4oNO/1L5XwR3iOyMm09MyNIcXGD3smspgvMueSzKjtDaHWvG1OZp/xKub//dKf46E/Q2lrIS76Q4vFP1jlOe17Q5730siIrKplX1w+dNXk2AFM6GlZdmjLy0q2P6LYep+p5M3f+QRAHskplWBQSUpawur6eDSqiRFJf/0yln/4fMYY2Iyu0hP48MH2D05sf5wZfpRjs/uZ2Ctsu9oC/uZZGLdJygv586+wrHPf65geHnym9/gzz7zxxz/2ld54bk1QrkNKpBK2iMsrWx4aZ17iUCwEgJBlvf8eratdQnLgoB1GctMgnGeSs5hJi8y+7mf8MJfX/Qc2y+3vHqWnE0+njLugf3+3cxkUva0Bu5vBBrvp8EdwjtOz7gWq4q2sD9PG6afZiZ9HADGOJgekRmDQa0sLrLpFSvpzh09aJfMDtcfy4SE7XNtOSse5/Zz7euPOyPNSvtSO++b4K+0/uN09cWhaAg0Tlc66DwMh4uuglta22LX0iMUo80pE09LnJhyzenpN87JeHbhmZLPc0O6wmsVaSbsn67Ax3MvRpoJ55t/MvEM89SxK5QdSdvtX2G+lL5Xy784T9QJGEO7qMtz7hn38OZS2kSaCVNL67A7gCxhsRf/7+U8vKGolJ14H/Z6O0VG1Hpe23bm2tY58l1ERDassg8uT7+0ZI+29M1xaVZt5c5f/edU3n47N9fsBCBlVZCyKpzA0h5lmQkvzUqeu1g8DEobGxiCjk6iNPLwARgauJJUcZrevXbZd8NAnjkHN6FzZ1/h+Tyh5NzsT5g6cZzlTTjK0q3i3AKWE1pmwksrAIEAAKk795DaYc/9ufRXj7P421/g3KM/YPmpec5+a5Gnfu8JvvPwEzz71VIC9vWwRzlOHDieLfX2Dpcsbk8D12Vpqule9nZOFlgQS0Q2B2exnbxpTYRm/0i1yCFaa/0jHQ8zuhCmLZO45ekHmdCzm77886vV1vvm2Wug3hOCrNHfb2aOIpXmXolBon3xAgu7+BRsW+xaeoX2NVHrD32GW6ktsir2+NFRaD1EhBD7moqX4d/oyudaJRiM2iXndd3xnID/ddFQz1rZYkltANJl7L5HCQOpZQNKDEbpi4fpLuk+9i+wJiIim1nZB5ff/elZe7QlQTsUwg4vU5XVnnZLL7+CYQVJWRUYmfDSO/Lye8+uNfuQwxkt2TLSSQfHedQ/iqyQfAHPdC97nTkHH8k3suz0DLOeEWkb13vfH+WBBx9i+vvf84y8fGa2xOu+wW3/zhGwrGx4aYJlmZCZoSBA8oFfY/ktH8Kqvp3Uyxc5O/YDftr7HZ4beoJLifNYVbdiVd3qPfDVaryfBibp3Jst9W68P980+QUUuEf3NLju9gJtCo3WFJEbhGflb9+uWBvhUkaq+RTql54fLaesHGD8JHH/SDPfgj1F++dTcvhyjRS5ll52wLkw2p4T+LT7Vkr3SM+D2X+IVgqX4csVXquZORb892AxhdrnG62YGCQabs8G/Ovpe60VOHeD+68EV9FGNrfxLvs+7s5MPbCW63w/i4hIWSj74PLRp57lQjJlj1wjiGXZ81suvXyWn3zzRKbdM3/7fSy2YGDPaWmPvsyGl89fvMjUM6WmJ/YcgPv324vy5O91mpnZ3XR0pseKRRlxl99GR3JKxHNLce1g88jkbjomXCMyG3vo2WBD0N77/iiN73gn09//Ho99ecxTNv70U0/6m29KVS8+SeWZmWx4aVmYt+wAy8CVXmLctotLb/8ol9/2CMt72lgOfZDkWw6x/LO/w/Jbf4PUfe/yHPfacIWKjT0M+hbWKWr6UY7PehfrsRfWcbfJcx/TSM9gBwwNOFMtROnxhPf2e2Y2s19ENpvQvqY8i+JQePTg+EnihOn2rH58mNbadNlzgX5OaXThkW92eW/r4fSX4RCxw60wetQOQNfsHyLW7/oiHYox1h1mId0/R4SYZxhQhH53e8+q4mu0dRS+lj6hfTRlrpdX4sQUC7WtHMo7nMlZGClcuAxf0q7gWiUGORav9ZbChmLE8r4WBdr779tIv7dEPF1uXkrfYnJGJ69D+tyZ95r9e3rmmEycYGphrTYFnoP7fXi9uN+fhX6W6yTBYLSPeG0rw/6b28O+n0uapkFERDa8sg8uL6yk+MNv/ggLZ4EeK4BFgOrKKv77V8f5ysf/gLGOT/DfJ04RCFaRMisw2IJhbckszJOyKnn0dHalxZKMTTBJsUV5pund28nk/gFn3sAWJlqGyMz6d3rGKRFfZHFxggPHWzhYIJ0ZO1hD56Q9H+bi4iKLEwdY3xLmr6+fDzd5Qktcc17++KknN+2clvnseKwDUiv2QjsWGFU3Y1RvA8u/MFQAa+sbMG+tx7y1DvPmu7EqqsFMUfnTb/vaXqXpXmJD0DHh3F+DEFtPqTjT9O51ViJP36MtE7QMuea4dO7jlqGG7H3s3Pd7M++h03BgIjvP5uIADUPu/SKy2TTU1+YPdkL7aGKU3JxwnK70wjdOifNwK4y2OwvZFOwH+EujnUf6u+94V5i++VaG03Pl5axeW7w/dem+dtn1fF+4yOq3M9A07DpON3Wj7QXal9a24LX0iRxqpbbQwkWJE0wtUHCRHjs4zleGLzmu4FqNd4WdUtj0fdREsSR6vCvsWagqHh+macp1b8zMOSXi2X3pAcNr9i3EWQCnO77G/IF5FsHJvtfaGcX1fmk+Sfuoe2KFBIPRtdrkuV7xYZrm1n4PyEY3Tlf7KAvhbteiT/57bp0j5EVEZEML7Ny505+olKXO8D/j/Q8+QMqsxDArMcwtJFMBLiybWFQRqLwZw6rOlIYbTsm4SZCvn57k66e/6T+kXCP1uxu4Z2cN342vMxx2MU3TvylHT09P5ufe3l7PvnxSqRTbt29n27ZtLC0tAZBMJv3Nrjnjlnt46X1HsSqrCAQCBC2DrXPTBFdWCGA5S49bBOwlyMEy7Z+NVbY++XkCK+f9hyxL0ZFFHplR8Cgi6xfpj9M2V0KI4nOl/USk/On9LSIiIvmU/YjLtIH4j/gv338KrKBTMh4kGKjkluqb2Vp1M7AFk3SJuD3H5apVyYmf/K1Cy+tsbnbmqkLLzabi4gu88YsRtpyZscvFqWC5vhEjaIeTTh25Uz5u/90geOlFbnr8TzdMaGmXihcbkSwiUkiEZt+K16W50n4iUvYi/XTnXXRLREREbnQbZsRlWsubd/PBxrdz1023kzLt1cJXrSpWzCpWrC2smFtYtbZwYSXFl77///LEczfG/Iob3WYacem2cvdDnP+FRzBvr8PaUkXl0hmCS+cIBINUryyxNXkG6x/+nOCFktemfV1ERxa9c1oySWfNQc1NKSIiIusW6Y9757QkTl+4S/MVioiISI4NF1ymHWi4n1+4dzdv2HYn9962kxWzimcvXuKZsy9x+qV5vjP3PZZXl/3dpExt1uBSRERERERERESuzIYNLmVzUXApIiIiIiIiIiJuG2aOSxEREREREREREblxKLgUERERERERERGRsqPgUkRERERERERERMqOgksREREREREREREpOwouRUREREREREREpOwouBQREREREREREZGyo+BSREREREREREREyo6CSxERERERERERESk7Ci5FRERERERERESk7Ci4FBERERERERERkbKj4FJERERERERERETKjoJLERERERERERERKTsKLkVERERERERERKTsKLgUERERERERERGRsqPgUkRERERERERERMpOYOfOnZZ/o8hrzTRN/6YcPT09mZ97e3s9+/JJpVJs376dbdu2sbS0BEAymfQ3u66qHngHtx36fSpqdkJ1AIsUVmCVYEWSysASgTOLXBz/Ome/8g1/VxERERERERGRG5pGXIpcB5U77uWeTz/GXYe/SEX9z2BVBTFJAWBhAAEIVlC58052xh7mreN/wp37HvIfRkRERERERETkhqXgUuQaq9xxL2/87DeprH8zBEwggGlZmJaFwSqmZbGaCmBaYFkVBIDqWy0a/ugD7On5Ff/hRERERERERERuSAouRa6hyh33cc9nJ7GqKrGwMKwUBstYgRRgYVkmljM5w8rqVggYJFe2EMCguvIS9z68h9BHG/2HFRERERERERG54WyYOS7/t8jH+GDLRwkQwDQtAoHsfy3LniMx6PxsAVg42y3Gvvkf+NI3/r3/kFJGNsscl/f8yYQ90hIwA0lWVi5jLC9TcZuBGUgCJgECWFhsqUxSXXmerVWXuanqDDdVL7Gt+kVu3vIK3/rn41xavOw/vIiIiIiIiIjIDWPDBJdf6ZnjwvMGpmVlRqxhBbCcpNICLNMOwCxwtgfACnDLPQE++H82+I4o5WQzBJdVD7yTHZ/8CwwjyUtPPMXSTxcxTYOgmSJgrlB1WzXb3/Fmqu7cAkBlRZItwSW2Vp1nW/XL3HLTK9y05WVuqX6Zcz94jr/50A/8pxARERERERERuWFsmFLx888ZmKY9gtIywTAsTMPCMExSholppPcFsAznYQYwDJOzz9qLoohcT3d++DMkLyaZOfE9zp/fgnXX/QR3PkjwvocI3vsQRvVOzsZnOP/DRQKYBFlhS8VlgoEVAqxipCyCgVVMY4Udb7vJf/jNITrC4uJi9jES9bcQkc0g0k88Hs/76I/4Gzvtx2KEMv909XFtz+Hu5z9nnhMVPe5a/f3787Vx87UfixV8FsXb5juv8yh2eluI2Fie5+qwr8cYhX+1CP1rPc8bxJVcK7tPP+V89UKxMed+Kv33zPZxP4pdG6fPdb6Pip0j0p99X3k+B/yPAv3lStifP2td0ryvm/O5l37N8t1zRT9TRURkU9kwwaVpwrFTg/zZX33SDjANC9PEDirNAIZhYaTsbaZpYRgWX/7B5/gvp3qxzID/cPIaqd66leqtW/2bN6XkTTt45u8TmNtqsKpvwaqohmA1VuVNsPU2uOUugnfcy/LzKS6efpGAtcTqqgmpC5hGCqwky5dSLCcrSa5umLfmOjTS0zJDS00NNTU11NR0Mrl/gFM9mtNTZNMZ7yIcDnsffXFYGOXouL9xiFhbmPixQRLOF9TucJw+p1/ffCvD/i+1Of1CxJrnaM+cr494uNvzxTYUG6O7btRp084o7uOu3R+AeJ/3OXXlPJmMSDOZ5xAO9zHfOlzwC3zRtuu6lj6hfTSxwEJtE/sKfsevpanAzlCsjbqFBf/mG9j6rtV4V5hwuIu1XqbXTSjG4VYYbXf9nr4/IhTkfy+Eowwm/I3Kk/262I++uO+5FHlPS+nscHiY1lr/nhKEYox1h4n3hYm6byr369Q+CkU+U0VEZHPZMOlIKmVw/tIZzl18CdOwR1baIy7TIaZFyjAxDNMejWniaS+vvXt21vCR3/tDPvHJT9H87l/17950zjx7llTldkwq7PvTBNMC0wxgLC2xJfEjKo98gC1f6SH1T8+CtUxl4DwBVggaL5FKXrRHDVsWAcsubd9cpuk92Mt05t9jDAzNsvvAwyi6FNnsvOGkd9c+mmrjnBy32+1rqiXelw17xo+OshBuzh0N5umXYLDLfexxjo4uUNu0zwlgIhxqrXWdP8Hg4VEWwm3OKLG1+kNoV11mbynGu9yB1Tgn4xBuznkWsM62Ra+lT+RQK0wd5li8ltZD+Y+3sLBAbeuh3OvrvBaStTmv1TzPrHUjiaxHpN/541Mfcf++NUXoH26F0XaKZsiJQY4V/ZwUEZHNZMMEl5YZ4H//H/+QrvccsYNKwx5Vaf8MZma0JU7puMX/+vZ/wyO//O8xDP/RvKIjhUtW3fuiI4ssLo6Qv6WtsedUwWPdaA6852G2brVLnpv2Hdj04WVytRKTAJbp3IvO/Wldvkzq8b/D+oYzL+e55zG/9Adw+SIVnCNgvIyRWiFoXaDCPEPQvICZKjwXZ3RkkVM9UXpOZUuuR6JAYw+nMmXYvvvUs2+RxVM9rrCwkZ5Ti4xE7f/abU7hHwhp3//Z/tE893pjz6l1lYJPPz3j3yQim1HkEK3kHyEY2tdEbfzkukelrdUv8cx89h+hXdSRDjkzDZinlvoCU2B7+l8jC3POZ14oxtgapbWZtn5FrqVXhObwAlMnEoXDX4CpY4wuhMn5/u+c59iUb/uNbJ3Xyl2enOYvebVHjKVLap1yc1fZtr99oZJa++G9p4r1DcXGiA+3UkuYbmdfpD9OvDsMta0M5zvXOvinZcj3NvO3ieQpGfY+h+LvGSkT411XONI4RGysm7rRdu9IyyIKfk6KiMimsmGCS9OwF9+xy8LtOS4P/OHN7G6qcMJKC5yScXu+y2x70yw+4nJsYhL2t+QJJKO07IfJiTG73cEaamoOYv9Lirntjjuo3/0mz7bNHl5eOHsZy7JH/6bnYjVNC/PpJwikDALJc572FZVnMVKrmCZgpTBWVzHNAKaxwuqF4vOy7u54BGJ2yXXL0Cz7BxZZHIRYTQ01NS0Mze5nwBUaNj7cwPGWdIl2C0N0MOELFfcPDGaO2Tm5m47BbLgZHVlkoGEoW+Z9pIGBjt2e/o09p5jomKEzUwrewlDDQNHwMtqyH2aedo3CFJHNKNIcZmHqRJ4RghEOtcJoJoVLMHgsTrg7G9xEDrXmCSj9/XJFmsMw/4x9zoZ6ahfm8H7FnWGuSBW0p39auDtvCLQmZwTSsVK+jK/RtvC19Ik0E16Y4kQCSJxgKl/gBsAMJ6YWCLd5y4PT51Es4HZ11yoUG2O4dT47LUD7KHOu/XVtzcy5yrZz2ofbGa3rzt57oRhj3XVOqXeYcF82OV2rb2IwSrh9lAWcaRm6xu0SamcagvarKJuO9Mdd0zKECR+rp9tXM1xKm1BsjOGmqWybvnlah0ufi1M2lkj/MK3zfaWFlmt8ToqIyOaycYJL0+IvHv8cn/+bP8I0LZKrSapuNXjLeyv5Hz9Wwc13BDBMe7Eeyxnt9vWnP8+XHv93GMYaK1aPTTDJflr8+Uq0hf1M4uSWUqLqrVs58J73+TfDJg8vs2G55Yy6tGDpIixdgKqbPW1vbtlLZfA8QesCAfM8lpHEsiws8zIryQA/+vSip32OySP0OmnfdO8RJoHJI+ky7Gl6j0xCw/2Z4HG692Cmfb79ALNDsUybsYEhZnc3sAecAH+WoZirzHvsIJ2Tma5AlM4OGGpxB/vT9MaGmM37RwE76BzYP0nnQb3BRDa1UIy2Ql8w3eFa2ngX7aN19iiweJxu+nIDlHz9XDLzZPr75VG3K3cIV77+icGoaz4/ew7M4uFlevRcnHjbHO3uEUiJQaKeOQGLtHUrdi19vAFnwg7c8ieXJAaPEXfPg7mO89xorvxaOdMVuKZBIDHIoPuFnjrquScOtcJou/teSE9x4B496yr1Hh90+pfa9yq4Q3xnxGR6Wobm8AKjh11TGYx32XNJZpTW5lArvjZH8494dfP/XunPkbC/oZSVcDfd4YWif4zyvLbdYe97SURENrUNE1wahsWFS69w7uJLGIbFamoVwzBIGSm23WPxK78f5M3vTo+wtNu/eukM55ZexjLWWpxnDHvQpTdeidrDLTNBjF2i662f9ZfP2kGPl7d8NrcEd83yWs9KzLn9y0X97gbaPvybfOKTn+KBBx/y785o2ndgUy7YE0gl7RGWVja8tM69RCBYCYEgy3t+PdvWuoRlQcC6jGUmwThPJecwkxeZ/dxPeOGvL3qO7Tc7c9q/hZxNPp77bGC/fzczT/vHPTZwfyPQeD8NzODffXpmNvuPaAv787Rh+mlm0sdxiY4sOqMzNYJZZLMrVtKdO3rQLpkdrj+WCQnb59pyVjzO7efa1x93RpqV9qV23jfBX2n9x+nqi0PREGicrnTQeRgOF10Ft7S2xa6lRyhGm1MmnpY4MeWa09NvnJPx7MIzJZ/nhnSF1yrSTNg/XYGP516MNBPON/9k4hnmqWNXKDuSttu/wnwpfa+Wf3GeqBMwhnZRl+fcM+7hzaW0iTQTppbWYXcAWcJiL/7fy3l4Q1EpO/E+7PV2ioyo9by27cy1rXPku4iIbFgbKLg0aX3H7/Hb7/qPGIZJKmXawWUqhWGkSKVSvGmfybv+jUn1rfYcg/8y1EX7OwfWLBUnb7l4I/c3ZMvE8ym5fPbA8Wybzhk6JrLzD65ZXtvYw6mBBobSZb6dx92HLxvvfX+Utg//Vk55eD6vnn3Fv2lTqDi3gOWElpnw0gpAwA7OU3fuIbXDDnSX/upxFn/7C5x79AcsPzXP2W8t8tTvPcF3Hn6CZ7961nfkqxVlZHHRdx96hksWt6cB7119Nex5NAfo1LQLIjcEZ7GdvGlNhGb/SLXIIVpr/SMdDzO6EKYtk7jl6QeZ0LObvvzzq9XW++bZa6DeE4Ks0d9vZo4ileZeiUGiffECC7v4FGxb7Fp6hfY1UesPfYZbqS2yKvb40VFoPUSEEPuaipfh3+jK51olGIzaJed13fGcgP910VDPWtliSW0A0mXsvkcJA6llA0oMRumLh+ku6T72L7AmIiKb2cYJLk1nMR7TXkncMnFCS8MJMO0Qc+l8ktXUCinDsOe6NCx7/su1jE0w6R4Z1vgwB3YXKxNfR/msp80AQ7PpsvRSy2tdI9nGel0lv+Vj6sTxNQPJ5PJlvhuf4i+OfYHk8rJ/94a3/TtHwLKy4aUJlmVC5vYLkHzg11h+y4ewqm8n9fJFzo79gJ/2fofnhp7gUuI8VtWtWFW3eg98tRrvp4FJOvdm78PG+/NNk1/A6Rlm84ya3NPgijMLtPGP1oyOTNAx00mNysNFbgyelb99u2JthEsZqeZTqF96frScsnKA8ZPE/SPNfAv2FO2fT8nhyzVS5Fp62QHnwmh7TuDT7lsp3SM9D2b/IVopXIYvV3itZuZY8N+DxRRqn2+0YmKQaLg9G/Cvp++1VuDcDe6/ElxFG9ncxrvs+7g7M/XAWq7z/SwiImVhwwSXGEEmnv4vfPH7/y4TCqVSqUxgeenCCt/9yst85Y+e59wLq1hGgG8/O8xXfvwnmKUEl4wxMbmbAw/byUvjwwfY7SoTz1Fy+exuOiZcZeCLE2QGZZZSXjv9KMdn9zOQXjm6TJ07+wrHPv+5guHlyW9+gz/7zB9z/Gtf5YXn1pi/cYOqevFJKs/MZMNLy8K8ZQdYBq70EuO2XVx6+0e5/LZHWN7TxnLogyTfcojln/0dlt/6G6Tue5fnuNeGO5TvYdA3Mrio6Uc5PutdrIfoCJ5q8+lejkzu9owmhkZ6BjtgaMB+HzX28Mj+WYYGCr6rRGSTCe1ryrMoDoVHD46fJE6Ybs/qx4dprU2XPRfo55RGFx75Zpf3th5OfxkOETvcCqNH7QB0zf4hYv2uL9KhGGPdYRbS/XNEiHmGAUXod7f3rCq+RltH4WvpE9pHU+Z6eSVOTLFQ28qhvMOZnIWRwoXL8CXtCq5VYpBj8VpvKWwoRizva1Ggvf++jfR7S8TT5eal9C0mZ3TyOqTPnXmv2b+nZ47JxAmmFtZqU+A5uN+H14v7/VnoZ7lOEgxG+4jXtjLsv7k97Pu5pGkaRERkw9swwaVhmJy/dCYzx6VpWM5oyxQL/3iRLx9e4InxFW6qvIOKQBWmCa8uneHcxZftVZtLMDYxye4DD9NIIw8f2F20TLz08tlJVxl49lH6gLNpevfWUNMyRMPAIouL7mCovJw7+wrP5wkl52Z/wtSJ4yxvwlGWfjse64DUir3QjgVG1c0Y1dvA8uEsluAAANhmSURBVIfnAaytb8C8tR7z1jrMm+/GqqgGM0XlT7/ta3uVpnuJDZEN0Achtp5Scabp3eusRJ4O4FsmaBlyhfTA2MEaWoYaGHCF9AeOt7DXM0TYH+Tbj3IO5UXkyjXU1+YPdkL7aGKU3JxwnK70wjdOifNwK4y2OwvZFOwH+EujnUf6u+94V5i++VaG03Pl5axeW7w/dem+dtn1fF+4yOq3M9A07DpON3Wj7QXal9a24LX0iRxqpbbQwkWJE0wtUHCRHjs4zleGLzmu4FqNd4WdUtj0fdREsSR6vCvsWagqHh+macp1b8zMOSXi2X3pAcNr9i3EWQCnO77G/IF5FsHJvtfaGcX1fmk+Sfuoe2KFBIPRtdrkuV7xYZrm1n4PyEY3Tlf7KAvhbteiT/57bp0j5EVEZEML7Ny505+olKVP/0+n7TkDCWBaFsurS+zvhh9NniXx7WVu2nI71RXbqAhUESCIYZnO4icBLMviU3/3Vv8h84gysvgIM53HOTDQwBHfHHzRkUUemXGCmMYeTk0c4HjLXk/pdnTEmb/v4FjBNhmF9jf2cGoi9/z2/ID5wqDy8N73R2l8xzuZ/v732LW7gdvueAM4oy2nThSfm9MsIV3u6enJ/Nzb2+vZl08qlWL79u1s27aNpaUlAJLJpL/ZNWfccg8vve8oVmUVgUCAoGWwdW6a4MoKASxn6XGLgL0EOVim/bOxytYnP09g5bz/kGXJ834QEVmHSH+ctrkSQhSfK+0nIuVP728RERHJZwONuHTKww0T07CwTPj//uBlfnISbqm6m5sqbqeCaiwzgJFuY2Cv8mz4j1aIXS7eMdBRvEwcV2nslZTPjjh9Cu13l9dGR3JGo+Wu/vz6c4eWj315zFM2/vRTT/qbb2oVF1/gjV+MsOXMjF0uTgXL9Y0YQTucdOrInfJx++8GwUsvctPjf7phQkv7Xp/kiEJLEVm3CM2+Fa9Lc6X9RKTsRfrpzrvoloiIiNzoNkxwaRrwrZ8O85VEH5YBlVSxrWoH2yrvZEtgG5YVxEgHmyZYZoC/P/cFvr7waYwSVhVPG5uwS2iLlok7xg6WVj7bOWnPUZkpn515NLNIyprltadnnBLx7L7Sy8xfGz8fbvKElrjmvPzxU09u2jkt17LjsQ7u/PrHqDzzEzAMlt/8SyzXv4WVO3eyevd9BG6/k5tuDrL19DGq//Gov3tZiY74yrsHoDNnRLCISCnG6Qo7pd/rcqX9RKTcRPq9ZebxbugLd2m+QhEREcmxYUrF/+iX/5Gvzf4fvPzqc3zwrZ8lQADDNLFIl4NnB7GZznyC33phgJfPP8e/2v0ZPvv42/yHlGukfncD9+ys4bvxKf+ukm2mUnEREREREREREbl6G2bEpWFYtNT9Lr/+0GedcnC7DNwyApgGmIaFaVoYTmm4acAv7+jkX+3+DIGN8zQ3pLnZmasKLUVERERERERERPw2TKJnGnZ4aRim6792abhhWhiGvc6JaZpYmAQCdr8AQSzWHs0nIiIiIiIiIiIi5WPDBJcn5wYxDBPLDDqL74BpAmYgvb6JvYo4QYKBIKaVDSv/7vn/lD2QiIiIiIiIiIiIlL0NM8elbG6a41JERERERERERNw2zIhLERERERERERERuXEouBQREREREREREZGyo+BSREREREREREREyo6CSxERERERERERESk7Ci5FRERERERERESk7Ci4FBERERERERERkbKj4FJERERERERERETKjoJLERERERERERERKTsKLkVERERERERERKTsKLgUERERERERERGRsqPgUkRERERERERERMqOgksREREREREREREpO4GdO3da/o0irzXTNP2bcvT09GR+7u3t9ezLJ5VKsX37drZt28bS0hIAyWTS3+y6qnrgHdx26PepqNkJ1QEsUliBVYIVSSoDSwTOLHJx/Ouc/co3/F1FRERERERERG5oGnEpch1U7riXez79GHcd/iIV9T+DVRXEJAWAhQEEIFhB5c472Rl7mLeO/wl37nvIfxgRERERERERkRuWgkuRa6xyx7288bPfpLL+zRAwgQCmZWFaFgarmJbFaiqAaYFlVRAAqm+1aPijD7Cn51f8hxMRERERERERuSEpuBS5hip33Mc9n53EqqrEwsKwUhgsYwVSgIVlmVjO5Awrq1shYJBc2UIAg+rKS9z78B5CH230H1ZERERERERE5Iaj4FLkGrrz45+HqioggIXJ6soqq6+aWJaFwQomBgCmBcHgKkbKIhCwSK5UspLagmmu8qYPvZmba27yH1pERERERERE5Iai4FLkGql64J1U1IdIGSme++GPmH3s28xPxHnuxN/z7Jf/ljPHn2TlzCoW9pBLywLDqMAwTCzTIMglMJcJcomf+1TIf3gRERERERERkRuKgkuRa+TOD3+G5MUkMye+x/nzW7Duup/gzgcJ3vcQwXsfwqjeydn4DOd/uEgAkyArbKm4TDCwQgB79GUwsIpprLDjbZt9xGUjPacWGYn6t0N0ZJHFRedxqgcVzotsQJF+4vF43kd/xN/YaT8WI/0nm0i/q49rew53P/8585yo6HHX6u/fn6+Nm6/9WKzgsyixbYjYWJHfPy+nT4G29vUYI+/pAIjQv9bzvEFcybWy+/RTzlcvFBtz7qnSf89sH/ej2LVx+lzn+6jYOSL92feV53PA/yjQX66E/fmz1iXN+7o5n4np1yzfPZf/c1JERDajDRdcbrvlFs+/Dxw4kNne8Ob77Z+3bQPg1ltv9bQVuZ6SN+3gmb9PYG6rwaq+BauiGoLVWJU3wdbb4Ja7CN5xL8vPp7h4+kUC1hKrqyakLmAaKbCSLF9KsZysJLm64d6aJbODyQk6dvv3QGPPKQYahmipqaGmpoUhOpjIl26KSHkb7yIcDnsffXFYGOXouL9xiFhbmPixQRLOF9TucJw+p1/ffCvD/i+1Of1CxJrnaM+cr494uNvzxTYUG6O7btRp084o7uOu3R+AeJ/3OXXlPJmMSDOZ5xAO9zHfOlzwC/zabUPExoZpmmrPnjtqX6+iQvtoYoGF2ib2FfyOX0tTgZ2hWBt1Cwv+zTew9V2r8a4w4XAXhe+S11koxuFWGG13/Z6+PyIU5H8vhKMMrnlDlgf7dbEffXHfcynynpbS2eHwMK21/j0lCMUY6w4T7wsTdd9U7tepfRRyPidFRGSz2lDpyM//wv/AN751klPf/T7fOvk3/LevfZ2PfOQjDP6nz/P/feWrfOHYl/irb36L/j/99/xx/wD/7b89lgkzRa63M8+eJVW5HZMKLDOAadpzWZpmAGNpiS2JH1F55ANs+UoPqX96FqxlKgPnCbBC0HiJVPIipmlhWRYBa8l/+M0hOsLA/kk6azqZ9O8jSmfHbiaP9DINwDS9sSFm9z9Cj4Zdimxw3nDSu2sfTbVxTo7b7fY11RLvy4Y940dHWQg3544G8/RLMNjlPvY4R0cXqG3a5wQwEQ611rrOn2Dw8CgL4TZnlNha/SG0qy6ztxTjXe7AapyTcQg35zwLKKFtKHaY1vk+75f4EkQOtcLUYY7Fa2k9lP/cCwsL1LYeyr2+zmshWZvzWs3zzPpuK5HiIv3OH5/6iPv3rSlC/3ArjLZTNENODHKsyGeqiIhsLhsmuNxZcy8/94thvvO3cSqw2FV7L/V197Hllu3svv9+ana+kQuvvsL5y0tUb6ngV8I/zxvecAe/+s//Z3bW3Os/nMg1l1ytxCSAZVp2aGlYmIaFdfkyqcf/DusbvXbDc89jfukP4PJFKjhHwHgZI7VC0LpAhXmGoHkBM5X0Hz4jOrLIqZ4oPaeyJdUjUaCxh1PpEuvFETzjFD37/CXY6bJt+792m1M5YaG/hDvac4pF32jIxp5T2TaLizn7GTtITc1BxrxbbY3308AkE+6d008zw24a9ri2icjGEzlEK/lGW0JoXxO18ZPrHpW2Vr/EM/PZf4R2UUc65Mw0YJ5a6htc21w8/a+RhbkZ+4dQjLE1SmszbdNhrueXL0WE5vACUycShcNfgKljjC6Eyfn+77xmx6Z8229k67xW7vLkNH/Jqz1iLF1S65Sbu8q2/e0LldTaD+89VaxvKDZGfLiVWsJ0O/si/XHi3WGobWU437nWwT8tQ763mb9NJE/JsPc5FH/PSJkY77rCkcYhYmPd1I22l/xHmuznpIiIbGYbJrh861sfoutjj/CBf/EwtTU7qareyhve8AYefFMDb31zA3fcfjsPhUL8/Fvfyrv3/QpvrLmX226/nY/+1oe56667/YeT10j11q1Ub93q37wpXTh7GcuyME37YZnYPz/9BIGUQSB5ztO+ovIsRmoV0wSsFMbqKqYZwDRWWL2Q8rT1293xCMRqqKmpoWVolv0DiywOQixdYj27nwFXaNj4cAPHW+z2hUqw9w8MZo7ZObmbjsFsuBkdWXSVcNdQc6SBAV+td2PPKSY6ZuhMt6lpYahhIDe8LGRPA7tnZzjt2XiamVnPBhHZgCLNYRamTuSOtiTCoVYYzSSaCQaPxQl3Z4ObyKHWPAGlv1+uSHMY5p+xz9lQT+3CHN6vuDPMFamC9vRPC3fnDYHW5IxAOlbKl3F/29A+mmoXmCPG2HoCnEgz4YUpTiSAxAmm8gVuAMxwYmqBcJu3PDj9mikWcLu6axWKjTHcOp+dFqB9lDnX/rq2ZuZcZds57cPtjNZ1Z++9UIyx7jqn1DtMuC+bnK7VNzEYJdw+ygLOtAxd43YJtTOlQ/tVlE1H+uOuaRnChI/V0+2rGS6lTSg2xnDTVLZN3zytw6XPxSkbS6R/uPSR5f7PSRER2dQ2THD59NNP81TiaZ5/6Qznl5Z49cISKysrXFpO8uqFJV45+yrPvvgiz585x+ILL/HT557nmfl5Hps4ziuvnPEfTl4D9+ys4SO/94d84pOfovndv+rfvemYJlgmWKbljLq0YOkiLF2Aqps9bW9u2Utl8DxB6wIB8zyWkcSyLCzzMivJAD/69KKnfY7JI/Ta9dRM9x5hErwl1kcmoeH+TPA43Xsw0z7ffoDZoVimzdjAELO7G7AHOkZp2T/LUCx9fHvkZKen1jtKZwcMtbhHU6ZLvVu8oz+vQMP9qhUX2bBCMdoKfcF0h2tp4120j9bZo8Dicbrpyw1Q8vVzycyT6e+XR92u3AQwX//EYNQ1n589B2bx8DI9ei5OvG2OdvcIpMQgUc+cgEXaAlBLaxscds5vT+9WPMDxhsUJO3DLn1ySGDxG3D0PZrHX7AZ35dfKma7ANQ0CiUEG3S/01FHPPXGoFUbb3fdCeooD9+hZV6n3+KDTv9S+V8Ed4jsjJtPTMjSHFxg97Jp6YbzLnksyo7Q2h1rxtTmaf8Srm//3Sn+OhP0NpayEu+kOLxT9Y5Tnte0Oe99LIiKyqW2Y4PLChQtcuHiRhfl5KoMBIMDlFXtUmmlZrCYvg2mxZUsl2265hdtvuYWlS5d55exZXn7pRf/hcnjKYAuVub4O7LLgKw9tckp3F3OPZz93X2nxNXDgPQ+zdau9OnbTvgObPrwMpJL2CEsrG15a514iEKyEQJDlPb+ebWtdwrIgYF3GMpNgnKeSc5jJi8x+7ie88NcXPcf2m53xjkuEWXI2+XjuhYH9/t3MPJ2JJR0N3N+YLuGewb/7tHsoZLSF/Xna2KXeznGuQu7vJiIbRbGS7tyRmHbJ7HD9sUxI2D7XlrPicW4/177+uDPSrLQvtfO+Cf5K6z9OV18cioZA43Slg87DcLjoKrhrtfWGPInBw4wuhGkrdLxQjDanTDwtcWLKNaen3zgn49mFZ4q9ZnKF1yrSTNg/XYGP516MNBPON/9k4hnmqWNXKDuStjtTcu4ope/V8i/Ok14sKrSLujznnnEPby6lTaSZMLW0DrsDyBIWe/H/Xs7DG4pK2Yn3rf0HGc9r285c2zpHvouIyIa1YYLLMy+/zLmzZwk98GYqKirYftMWtlZV8n///fP0x8/w7xNBvrSwlS2VlawaFsspg3/4h8dJLidZXl72Hy6/yU6nxLWGmppOJvcP5IR8G5L7ebUMQceEPSeiY+xgTeF5B6/QbXfcQf3uN3m2bfbwsuLcApYTWmbCSysAgQAAqTv3kNrxEABLf/U4i7/9Bc49+gOWn5rn7LcWeer3nuA7Dz/Bs1896zvy1YoysrjIxIHj2VJv73DJ4vY0kGcB8OsjM8ozbQ8Nr9nJReTaKzY/Y4Rm/0i1yCFaa/0jHf0hXZ5+kAk9u+nLP79abb1vnr0G6j0hyBr9/WbmKFJp7pUYJNoXL7Cwi8962hYQ2tdErT/0GW6ltsiq2ONHR6H1EBFC7GsqXoZ/oyufa5VgMGqXnNd1x3MC/tdFQz1rZYsltQFIl7H7HiUMpJYNKDEYpS8epruk+9i/wJqIiGxmGya4BHjl7Fmee/4FLiVXWV5J8a3EK3zkL2f4f/5ukf/8NPzhP6zyNy9VQGUVy6lV3lhTw5kzL/sPU6IxBoZm2X3gYU857YY33cuRSdjfcq3HV2ZVb93Kgfe8z78ZNnl4uf07R8CysuGlCZZlgpVuESD5wK+x/JYPYVXfTurli5wd+wE/7f0Ozw09waXEeayqW7GqbvUe+Go5i9507s2Wejfen2+a/AJOzzCbZ9TkHneiWKBNodGaeY1NMOk/Rr4Fe0Rk4/Cs/O3bFWsjXMpINZ9C/dLzo+WUlQOMnyTuH2nmW7CnaP98Sg5frlLiBFML+RcR8o8Wtdlh8cJoe07g0+5bKd0jPQ9m/yFaKVyGL1d4rWbmWPDfg8UUap9vtGJikGi4PRvwr6fvtVbg3A3uvxJcRRvZ3Ma77Pu4OzP1wFqu8/0sIiJlYUMFl3PPPMPW6iq2VFZgEqB+x1b+13fczb/++bt5764qAD526gIBYwUIcMeON7C6uuo/zPrMPJ2d189fbptn5WV/afZI1CnFzrf6smtl53z9ClnrdyiFu9TYW45e2grT+dTvbqDtw7/JJz75KR540B5ZmE/TvgObcsGeqhefpPLMTDa8tCzMW3aAZeBKLzFu28Wlt3+Uy297hOU9bSyHPkjyLYdY/tnfYfmtv0Hqvnd5jnttuALBxh4GfQvrFDX9KMdnvYv1EB3BU20+3cuRyd10TLinHGikZ7ADhgZKHM07xoRnUaD19heRchPa15RnURwKj8QcP0mcMN2e1Y8P01qbLnsu0M8pjS488s0u7209nP4yHCJ2uBVGj9oB6Jr9Q8T6XV+kQzHGusMspPvniBDzDAOK0O9u71lVfI226fkpXQsWhWKHC67Snl7Mx10mnpY4McVCbSuH8g5nchZGChcuw5e0K7hWiUGOxWu9pbChGLG8r0WB9v77NtLvLRFPh9ml9C0mZ3TyOqTPnXmv2b+nZ45JJ4wv3qbAc3C/D68X9/uz0M9ynSQYjPYRr21l2H9ze9j3c0nTNIiIyIa3oYLLl158kVfOvsqrSYs/+9FlfutvU3S8u56u/bW0vnkLv/ngFv63++1ALAA8v/gcL73wvP8wpWnswc5MspFJY88pX7ntjCeoyVlVuWWIGWBswr8QSiMPH9idWUylUL981vod1hQdYWD/JEeyK7XkVWyF6Xze+/4obR/+rZzy8HxePfuKf9OmseOxDkit2AvtWGBU3YxRvQ2sbHBpC2BtfQPmrfWYt9Zh3nw3VkU1mCkqf/ptX9urNN1LbAg6JpwgehBi6ykVZ5revc5K5OnAvGWCliHvct9jB2toGWpgIBOqT3DgeAt717jX3MYO1tA5kz7PBB0znevqLyLlpaG+Nn+wE9pHU97gbZyu9MI3TonzcCuMtjsL2RTsh72AjWc+PPuR/u473hWmb76V4fRceTmr1xbvT126r112Pd8XLrL67Qw0DbuO003daHuB9mu3TQxGPQsWDbfO05eeU9AncqiV2kILFyVOMLVAwUV67OA4Xxm+5LiCazXeFXZKYdP3URMF/w+f0979usfjwzRNue6NmTmnRDy7Lz1geM2+hTgL4HTH15g/MM8iONn3WjujuN4vzSdpH3VPrJBgMLpWmzzXKz5M01yezxPZZMbpah9lIdztWvTJf8+tc4S8iIhsaIGdO3f6E5Wy1fyuX6H9w7/BL7zz7dQeu8CrKxadDwX5d790O6lUikAA/o8Tz/Lnf/c84/97A//wd3/Do//1y3z3O3/nP1SO6MiidwTZ7BAtrtJae57AR5hp2etanbmRnlMTNByp4eBYlJHFAeis4WDO8DBf38YeTk00cKTmIGMU62f/Xo/MpMOftX4Hb18yoah3dN2k71zec9jH8wROnt83v9vveANtH/5NbrvjDf5dGcnly0x//x+Y/v53eeE576rZpml6/p1PT09P5ufe3l7PvnxSqRTbt29n27ZtLC0tAZBMJv3Nrjnjlnt46X1HsSqrCAQCBC2DrXPTBFdWCGA5S49bBOwlyMEy7Z+NVbY++XkCK+f9hyxL3vtGRKR0kf44bXMlhCg+V9pPRMqf3t8iIiKSz4YacfnquXNUV23hn84HeXXF4vZKk1+8q5LVVIrFV5c4lljhq0+9ysKSyfTiBep37eLMmTP+wxSWWcSmk8ndHXS6hzFGW9jP7uyotfSIsHQmGG1hf8G5+OwS2AMPOwWwDx9g9+SEHQIW7eez1u9QiGfRoRZmHsktXffLXcU5z/yFLufOvsKxz3+u4GjKk9/8Bn/2mT/m+Ne+mhNabjYVF1/gjV+MsOXMjF0uTgXL9Y0YQTucdOrInfJx++8GwUsvctPjf7phQstSR+6KiOSK0Oxb8bo0V9pPRMpepJ/uvItuiYiIyI1uQwWXi88+y9mz56ituszenRWcm3+O/+X/epwXLib5VycMYvFlnrj5Pn7xl0JUvfxjZn7yEy5euOA/TAnGONg5yf4Bfwn2ZLac2/XIN9LRb2xi0lnoxykTLympzOfKfwfbNL2xIWb3P1LSvJXrce7sKzyfJ5Scm/0JUyeOl766+yax47EO7vz6x6g88xMwDJbf/Ess17+FlTt3snr3fQRuv5Obbg6y9fQxqv/xqL97WYmOuMPyRexBwoVH4IqIFDZOV9gp/V6XK+0nIuUm0u8tM493Q1+4S/MVioj8/+z9fXAb+X3n+74BUk+j0YxtyQ/iDMkJGctQPA6dp3v2LobLTbScWwxqa5zd+AYHCUtlslLhKWjjLHMus8tscRVuLeOwvKy9u+INdx0qh5HNy7snZ505szDjYRRHh0JiJ7u26ZnMIBOTNSQ89KMiWRIlggT6d//oBtDdeCAoUR4+fF5VKJLo768baDRQhS+/399PRErsqcTl7dvf55vf+ja3bt/lkz8Z5P/+riz/8P3v5OSxQ/xs0yGaTwTpaDjEf/z7R2hpbSUYrOPG977r301tZsaYWOrkQj67V2nV5Lytts/MMtfyPC9EX+D5FleF5Vbj3LYTu6UaV3rehn/881E+8CPPsvA//spTefnmUpUJnPa5w995lVMv9fGeKz/Ley//I07+/36Bd/63X+Ed/+cvc+yPf43AF/4NwTveOZ12o5nz/mS5kpYiIiLyYBID3hXvw0paioiISAV7KnG5vr7O9777PQ4dOcp7j8GnY02MdgS58b3v8r9+qI7Ezx7nv3Ye5tThHNmA4ejjx8hms/7d1GiB4UtztPSN25WJlVZNnnIWrSm3vW2IocIfTrv4BVebeE3jXMrFuh9DTeyVmj2PYQf845+P0vYTP8XC//grXvrDGU/b+BuvveoPFxERERERERERqWpPJS4BgvUB6gKGhnce59ChI9z8/m0CxuI7f3eD49k73LqzhmVZ3L9/n1e/+pAlhTNjTCwVV9SeOd9A/1ynd9XkxRcLC/iUbJ99Hl53724CWrwrlVPDOLeSWN9jKKtzzDsn5mI/DbX3lm/p/xZu9yQtcc15+Tevvbrv57QUEREREREREZGdt6dWFQf42X/8Ef7p//PnOfPDrQTrj7CZzXL71k2CQTj++BPcWrvD0UPHeOWVV7n+Z3/K//lf/3f/Lt4+0SlWLyz6Vivf+5pbWnnv6Qb+Mjnv31Sz/bSquIiIiIiIiIiIPLw9V3H5ox/+CdbW7pNK/S1/k0rx+mspbvzdTVa/+R2+vrjId1a/zd+k/ob6YJCWHz7jH/42amPoQidLL29RHbkHLS8tPlTSUkRERERERERExG/PJS4XvvJXBANBMhubrN27Tza7ydrdNTYyG2TuZ9jIbFAXDHD4UD1/89or/uFvC3tFZrtF+7nh/Za2FBERERERERER2Xl7rlVc9ie1iouIiIiIiIiIiNueq7gUERERERERERGR/U+JSxEREREREREREdl1lLgUERERERERERGRXUeJSxEREREREREREdl1lLgUERERERERERGRXUeJSxEREREREREREdl1lLgUERERERERERGRXUeJSxEREREREREREdl1lLgUERERERERERGRXUeJSxEREREREREREdl1AqdPnzb+O0V+0CzL8t9VYmhoqPD78PCwZ1s52WyWEydOcPz4cdbW1gDIZDL+sEfq8Ad+gid7/iV1DafhSABDFhPYJFiXoT6wRuDGKncTn+PmZz/vHyoiIiIiIiIicqCp4lLkEag/9RTv/cRLvPvip6lr/iHM4SAWWQAMOSAAwTrqT5/kdPwFPpT4bU6ee9a/GxERERERERGRA0uJS5EdVn/qKd73yT+hvvn9ELCAAJYxWMaQYxPLGDazASwDxtQRAI48YWj9rY9yduhn/LsTERERERERETmQlLgU2UH1p57mvZ+cwxyux2DImSw51jGBLGAwxsI4kzNsbB6FQI7MxiEC5DhSf4+nXjhL6ONt/t2KiIiIiIiIiBw4SlyK7KCTv/4pOHwYCGCw2NzYZPP7FsYYcmxgkQPAMhAMbpLLGgIBQ2ajno3sISxrkx/+2Pt5rOGYf9ciIiIiIiIiIgeKEpciO+TwB36KuuYQ2VyWb371ayy99AVWZpN88+qXeOsP/5wbL7/Kxo1NDHbJpTGQy9WRy1kYK0eQe2CtE+QeP/lvQ/7di4iIiIiIiIgcKEpciuyQk7/8O2TuZli8+lfcvn0I8+4zBE//CMGnnyX41LPkjpzmZnKR219dJYBFkA0O1d0nGNgggF19GQxsYuU2OPXh/V5x2cbQ9VWmov77RWRfiIySTCbL3kYj/mAnfiZO/l82kVHXGNf9Jdzj/Mcsc6Cq+91qvH97uRg3X/xMvOKzqDE2RHymyuMvyxlTIdY+HzOUPRwAEUa3ep4HxIOcK3vMKLv57IXiM841VfvjLI5x36qdG2fMI76Oqh0jMlp8X3k+B/y3CuPlQdifP1ud0rKvm/OZmH/Nyl1z5T8nRURkP1LiUmSHZI6d4s0vpbCON2COPI6pOwLBI5j6Y3D0SXj83QTf+RTr38py9/XvEDBrbG5akL2DlcuCybB+L8t6pp7M5v59a0anVlldnaWvxb9FRPaNxADhcNh7G0lCeprLCX9wiHh3mOSVcVLOF9TBcJIRZ9zISoxJ/5faknEh4h3L9BaON0IyPOj5YhuKzzDYNO3E9DKNe79bjwcgOeJ9TgMlT6Yg0kHhOYTDI6zEJit+gd86NkR8ZpL2+d7isaP2+aoqdI520qQb2zlX8Tt+I+0VNobi3TSl0/67D7DtnavEQJhweIDKV8nbLBTnYgyme12P0/dPhIr874VwlPEtL8jdwX5d7NtI0vdcqrynpXZ2cniSWKN/Sw1CcWYGwyRHwkTdF5X7deqdhpLPSRER2a/2b3ZE5Afsxls3ydafwKIOYwWwLHsuS8sKkFtb41Dqa9Rf+iiHPjtE9m/fArNOfeA2ATYI5r5LNnMXyzIYYwiYNf/u94foFGOdc/Q39DPn3yYi+5g3OenddI72xiTXEnbcufZGkiPFZE/i8jTpcEdpNZhnXIrxAfe+E1yeTtPYfs5JwEToiTW6jp9i/OI06XC3UyW21XgIPdNU2FqLxIA7YZXgWhLCHSXPAmqIDcUvElsZ8X6Jr0GkJwbzF7mSbCTWU/7Y6XSaxlhP6fl1Xgsp2p/naoU3t3dZiVQXGXX++TRC0r9tSxFGJ2Mw3UvVHHJqnCtVPlNFRGR/UeJSZIdkNuuxCGAsYyctcwYrZzD375P98l9gPj9sB976FtZnfhPu36WOWwRy3yOX3SBo7lBn3SBo3cHKZvy7L4hOrXJ9KMrQ9VVWV+3bVBRoG+K68/fq6hSeLmzPtlVWrw9RXLs837Zt/7RjrjPkW9zcrpQsjo8OXWfV1+vdNnS9GLO6WrKdmfM0NJxnxnuviOx3kR5ilKu2hNC5dhqT17ZdlbbVuNSbK8U/Qs/QRD7JWQhghUaaW133uXjG75D08qL9SyjOzBattYXYfDLX8+BrEaEjnGb+aqpy8hdg/grT6TAl3/+d1+zKvO/+g2yb58rdnpznb3m1K8byLbVOu7mrbdsfX6ml1r55r6lqY0PxGZKTMRoJM+hsi4wmSQ6GoTHGZLljbYN/WoZybzN/TKRMy7D3OVR/z8gukRh4wErjEPGZQZqme2v+J03xc1JERPYzJS5Fdsidm/cxxmBZ9s1Y2L+/8QqBbI5A5pYnvq7+JrnsJpYFmCy5zU0sK4CV22DzTtYT69fSdwHiDTQ0NNA1sUTn2Cqr4xBvaKChoYuJpU7GXEnDthdaebnLjm9o6GKCPmZ9ScXOsfHCPvvnWugbLyY3o1OrjLVO0NXg7ONSK2O+Xu+2oevM9i3Sn49p6GKidaw0eSkiB06kI0x6/mpptSURemIwXchophi/kiQ8WEzcRHpiZRKU/nGlIh1hWHnTPmZrM43pZbxfcRdZrtIF7RmfFx4smwTaklOBdKWWL+P+2NA52hvTLBNnZjsJnEgH4fQ8V1NA6irz5RJuACxydT5NuNvbHpx/zZQWcHu4cxWKzzAZWylOC9A7zbJre1N3B8uutu2S+HAv002DxWsvFGdmsMlp9Q4THilmTrcamxqPEu6dJo0zLcNAwm6hdqZ06H2ItunIaNI1LUOY8JVmBn09w7XEhOIzTLbPF2NGVohN1j4Xp+wtkdHJ2ivL/Z+TIiKyrylxKbJDLAuMBcYyTtWlgbW7sHYHDj/miX2s6znqg7cJmjsErNuYXAZjDMa6z0YmwNc+seqJLzF3ieEF+9eF4UvMAXOXhrHvWmD40hy0nikkHheGzxfiy20HWJqIF2JmxiZYamnlLABRujqXmIjn929XTvZ7er2j9PfBRJe7mnKB4fgES51d3upPETlYQnG6K33BdCfX8hID9E432VVgySSDjJQmUMqNcynMk+kfV0bTM6UZwHLjU+NR13x+9hyY1ZOX+eq5JMnuZXrdFUipcaKeOQGrxALQSKwbLjrHt6d3q57A8SaLU3bCrXzmktT4FZLueTCrvWYH3IOfK2e6Atc0CKTGGXe/0POXPddETwyme93XQn6KA3f1rKvVOzHujK917ENwJ/Gdisn8tAwd4TTTF11TLyQG7LkkC2qL6Ynhi7lcvuLVzf+48p8jYX+g7CrhQQbD6ar/jPK8toNh73tJRET2NSUuRXZIIJuxKyxNMXlpbn2XQLAeAkHWz/5iMdbcwxgImPsYKwO529RzCytzl6Xf/Trf/rO7nn37LS2+7r+Hkrt8PG3cY53+zSy+UUhLOlo50wa0naGVRfybX19cKv4R7aKzTAwLb7CY34+IHEjVWrpLKzHtltnJ5iuFJGHvcnfJisel41zbRpNOpVltX2pXfBP81TY+wcBIEqomgRIM5BOdF+Fi1VVwt4r1JnlS4xeZTofprrS/UJxup008L3V13jWnp1+Ca8niwjPVXjN5wHMV6SDsn67Ax3MtRjoIl5t/MvUmKzTxTKhYSTtYaDl31DL2YfkX58kvFhV6hqYyx150lzfXEhPpIEwjsUl3ArKGxV78j8u5eZOisuskR7b+h4znte1luXuble8iIrJn7YnE5R/+K4u3PmP4xqcN6U/DyhVY/oMA//oXA/5QkbdN3a00xklaFpKXJgAB+zrNnjxL9tSzAKz98ZdZ/dXf59aLX2H9tRVu/ukqr/3GK3zxhVd4649u+vb8sKJMra4y+/zLxVZvb7lkdWdb0QLgIvJgqs3PGKHDX6kW6SHW6K909CfpyoyDQtJzkJHy86s1Nvvm2Wul2ZME2WK83+IyVTrNvVLjREeSFRZ28dlObAWhc+00+pM+kzEaq6yKnbg8DbEeIoQ41169Df+g2z3nKsV41G45bxpMliT43xatzWyVW6wpBiDfxu671VBILXtQajzKSDLMYE3XsX+BNRER2c/2ROLy750N2m24JoixAvZPE+BjnUF+7ef2xFOQA+DEFy+BMcXkpQXGWGDyEQEyH/gF1j/4McyRd5D93l1uznyFbwx/kW9OvMK91G3M4Scwh5/w7vhhtZ2hlTn6nyu2eredKTdNfgWvL7JUpmrybKsrnVkhplK1pogcEJ6Vv32b4t2Ea6lU86k0Lj8/WklbOUDiGkl/pZlvwZ6q48upOfnykFJXmU+XX0TIXy1qs5PF6enekoRPr2+ldI/8PJijPcSo3IYvD3iuFpdJ+6/BairFl6tWTI0TDfcWE/zbGbvTKhy71f1fgoeIkf0tMWBfx4OFqQe28oivZxER2RX2RNYvn7S0LLCsAMYK2IuYmAD/7B8H+frkIf528hBv/N4h3vi9I/zNp46Q+s9HeP0/HeW1iaO8NnGM/9h32L/bEp5Vk30rIpds8626XLKasi9mq+2V91NcHbqtzCrOefZK0/6skfwgHf7Oq9TfWCwmL43BevwUmByu7CW5J5/h3o9/nPsfvsD62W7WQ79E5oM9rP/Yr7H+oV8h+/RPe/a7M1xJxbYhxn0L61S18CIvL3kX6yE6hafbfGGYS3Mt9M26VzNvY2i8DybGtIq4yAEVOtdeZlEcKldiJq6RJMygZ/Xji8Qa823PFcY5rdGVK9/s9t7YxfyX4RDxizGYvmwnQLccHyI+6voiHYozMxgmnR9fIkLcUwYUYdQd71lVfIvY/PyUrgWLQvGLFVdpzy/m424Tz0tdnSfdGKOnbDmTszBSuHIbvuQ9wLlKjXMl2ehthQ3FiZd9LSrE+6/byKi3RTyfzK5lbDUl1cnbkD924b1mP07PHJNOMr56TIXn4H4fPiru92el3+URSTEeHSHZGGPSf3F72NdzTdM0iIjInrcnEpfrGwFu34Pb9+yft9YMt+/BncxR6pv/Zx770d/g+LO/zuMf+jiPf/B/4cQHf5knnu3hyQ92845nY7zjR36en/v5n/Xv1qWNoeurjNHvrIbsrKy86F+8pKuwrWsC+mZ9icc57/iGhudcC6Jstd1+DN5VmRto6Ieu8rlK2YVOvdQH2Q17oR0DucOPkTtyHEwxcWkLYI6+C+uJZqwnmrAeew+m7ghYWeq/8QVf7ENaGCY+AX2zTjJ8HOLbaRVngeHnnJXI8wn1rlm6JlxzXAIz5xvommhlrJB0n+X5l7t4zvMmEJGDpLW5sXxiJ3SO9rKJtwQD+YVvnBbnyRhM9zoL2VQch72AjWc+PPuW/+6bGAgzshJjMj9XXsnqtdXH05Qfa7ddr4yEq6x+uwjtk679DNI03VshfuvY1HjUs2DRZGyFkfycgj6RnhiNlRYuSl1lPk3FRXrsxHG5Nnwp8QDnKjEQdlph89dRO2Wy+gWJgbDndU8mJ2mfd10bi8tOi3hxW75geMuxlTgL4Awmt5g/sMwiOMX3Wi/TuN4vHdfonXZPrJBiPLpVTJnzlZykfbnM54nsMwkGeqdJhwddiz75r7ltVsiLiMieFjh9+rQ/o7LrfOMvhwkePgEm6yzbnLWr2KwNsO6BtQlYQA6snP3T+G7kaPiH/4d/17a2Ia7PPs/LXb5Eo0t0apULi+4kTBtD14uJmbah68y2XqLhfPnaspq2P/8yXa52Xr9q+yh9fHuLZVn+u0oMDQ0Vfh8eHvZsKyebzXLixAmOHz/O2toaAJlMxh+243KPv5fvfuQypv4wgUCAoMlxdHmB4MYGAYxzDRsC9hLkYCz799wmR1/9FIGN2/5d7kp7/ZoTkbdPZDRJ93INSRSfBx0nIruf3t8iIiJSzp6ouAwGs7B5Azb/rvgzexOy3wcrA2bTSWJugHF+Fv52tuU2/LstWniDRVpoPevf8IMSpb+vhblLlZOWsnfU3f027/t0hEM3Fu12cepYb24jF7STk04fudM+bv/fIHjvOxz78r/bM0lLu1V8jktKWorItkXo8K14XZsHHSciu15klMGyi26JiIjIQbcnEpdYm3ZC0jiJyHwyEudnIVm56cQ68dYG5DLOuGqVdjOMTSzRObb9eSIXd2LVkWgXncwxW1pIKXvYqZf6OPm5f079ja9DLsf6+/8+680fZOPkaTbf8zSBd5zk2GNBjr5+hSN/fdk/fFcpmeN1DPobzmvuShF5AAkGwk7r97Y86DgR2W0io9428+QgjIQHNF+hiIiIlNgTreKrX/pfy7Z+279bpdtM1rU967SPZ2l4/pp/115tQ1yf7aPFmc/S3QLrb4uNTq0y1jlXSN60DV1n1r/gydJEofW76vboVE2JoLL7cPE/5r1kP7WKi4iIiIiIiIjIw9sjFZdONWW+2tJsgpX1VmIWWsOdCktPu3jGqdDcwsIwzzU00NA/R0vfbMkK3i19s4WKs7HWCbr8iUb/4jv++Sq32l4L/z6c27bWWhEREREREREREdnl9kji0tX6XUhGutvD823kvhgr49ycv2s1c56GrgmWOi94Vg13ryr+QEnHSl5fZIlWzmyvS11ERERERERERGTf2huJS+NOULrmuDT55KTzM+f63ZO0dKowt+MHuWDPwou8vNRCX7+3wlNEREREREREROSg2huJy0JLeH6FcFdS0p28NO6EpWt7PqaStiGu+9rC24Yu/AAXzFlg+Ll+5jrHWL0+hKfwMjqF76GJiIiIiIiIiIjse3sicWltfN/b/p1vCTf5JKYvQZlfVdwUqzCz1RZlWXiDxc4xz6rJs32LWy6WU8K3j9XVVW/Sser2Gc43dDFBH7PumAuLjG3rQYiIiIiIiIiIiOx9e2JV8f/wK0f56R+tw5gABjAGIIC9EHUAQwDj/O69HzABLAPXXt3gX0zd8e5Ydg2tKi4iIiIiIiIiIm57InEp+58SlyIiIiIiIiIi4rYnWsVFRERERERERETkYFHiUkRERERERERERHYdJS5FRERERERERERk11HiUkRERERERERERHYdJS5FRERERERERERk11HiUkRERERERERERHYdJS5FRERERERERERk11HiUkRERERERERERHYdJS5FRERERERERERk1wmcPn3a+O8U+UGzLMt/V4mhoaHC78PDw55t5WSzWU6cOMHx48dZW1sDIJPJ+MMeqcMf+Ame7PmX1DWchiMBDFlMYJNgXYb6wBqBG6vcTXyOm5/9vH+oiIiIiIiIiMiBpopLkUeg/tRTvPcTL/Hui5+mrvmHMIeDWGQBMOSAAATrqD99ktPxF/hQ4rc5ee5Z/25ERERERERERA4sJS5Fdlj9qad43yf/hPrm90PAAgJYxmAZQ45NLGPYzAawDBhTRwA48oSh9bc+ytmhn/HvTkRERERERETkQFLiUmQH1Z96mvd+cg5zuB6DIWey5FjHBLKAwRgL40zOsLF5FAI5MhuHCJDjSP09nnrhLKGPt/l3KyIiIiIiIiJy4ChxKbKDTv76p+DwYSCAwWJzY5PN71sYY8ixgUUOAMtAMLhJLmsIBAyZjXo2soewrE1++GPv57GGY/5di4iIiIiIiIgcKEpciuyQwx/4KeqaQ2RzWb751a+x9NIXWJlN8s2rX+KtP/xzbrz8Khs3NjHYJZfGQC5XRy5nYawcQe6BtU6Qe/zkvw35dy8iIiIiIiIicqAocSmyQ07+8u+QuZth8epfcfv2Icy7zxA8/SMEn36W4FPPkjtympvJRW5/dZUAFkE2OFR3n2BggwB29WUwsImV2+DUh9/+isvo1CrXh7bTtt7G0PVVVled21TUHyAiB0VklGQyWfY2GvEHO/EzcfL/somMusa47i/hHuc/ZpkDVd3vVuP928vFuPniZ+IVn0WNsSHiM1Uef1nOmAqx9vmYoezhAIgwutXzPCAe5FzZY0bZzWcvFJ9xrqnaH2dxjPtW7dw4Yx7xdVTtGJHR4vvK8zngv1UYLw/C/vzZ6pSWfd2cz8T8a1bumiv/OSkiIvuREpciOyRz7BRvfimFdbwBc+RxTN0RCB7B1B+Do0/C4+8m+M6nWP9Wlruvf4eAWWNz04LsHaxcFkyG9XtZ1jP1ZDb32luzjaHrs/Qt9tPQ0EBDQxcTrWNKXoocVIkBwuGw9zaShPQ0lxP+4BDx7jDJK+OknC+og+EkI864kZUYk/4vtSXjQsQ7luktHG+EZHjQ88U2FJ9hsGnaiellGvd+tx4PQHLE+5wGSp5MQaSDwnMIh0dYiU1W/AK/dWyI+Mwk7fO9xWNH7fNVVegc7aRJN7ZzruJ3/EbaK2wMxbtpSqf9dx9g2ztXiYEw4fAAla+St1kozsUYTPe6HqfvnwgV+d8L4SjjW16Qu4P9uti3kaTvuVR5T0vt7OTwJLFG/5YahOLMDIZJjoSJui8q9+vUOw0ln5MiIrJf7bXsiMiudeOtm2TrT2BRh7ECWJY9l6VlBcitrXEo9TXqL32UQ58dIvu3b4FZpz5wmwAbBHPfJZu5i2UZjDEEzJp/97tb2ws83zJH//kZ544FhuMTLHV2odSliPiTk95N52hvTHItYceda28kOVJM9iQuT5MOd5RWg3nGpRgfcO87weXpNI3t55wETISeWKPr+CnGL06TDnc7VWJbjYfQM02FrbVIDLgTVgmuJSHcUfIsoIbYUPwisZUR75f4GkR6YjB/kSvJRmI95Y+dTqdpjPWUnl/ntZCi/XmuVnhze5eVSHWRUeefTyMk/du2FGF0MgbTvVTNIafGuVLlM1VERPYXJS5Fdkhmsx6LAMYydtIyZ7ByBnP/Ptkv/wXm88N24K1vYX3mN+H+Xeq4RSD3PXLZDYLmDnXWDYLWHaxsxr/7orYhrufbsVdXWb0+hLuhO9/i3TZ0/aFiyvHEr16n0El+tpUWXywLb7BIK2e22qmI7H+RHmKUq7aE0Ll2GpPXtl2VttW41JsrxT9Cz9BEPslZCGCFRppbXfe5eMbvkPTyov1LKM7MFq21hdh8Mtfz4GsRoSOcZv5qqnLyF2D+CtPpMCXf/53X7Mq87/6DbJvnyt2enOdvebUrxvIttU67uatt2x9fqaXWvnmvqWpjQ/EZkpMxGgkz6GyLjCZJDoahMcZkuWNtg39ahnJvM39MpEzLsPc5VH/PyC6RGHjASuMQ8ZlBmqZ7a/4nTfFzUkRE9jMlLkV2yJ2b9zHGYFn2zVjYv7/xCoFsjkDmlie+rv4muewmlgWYLLnNTSwrgJXbYPNO1hPr1vZCKy93NRRbsulj1teS3dI3yzjxh45xaxu6zuzzL9PV4By7f5G+2Sm7ovL1RZb8AwBoofWs/z4ROWgiHWHS81dLqy2J0BOD6UJGM8X4lSThwWLiJtITK5Og9I8rFekIw8qb9jFbm2lML+P9irvIcpUuaM/4vPBg2STQlpwKpCu1fBn3x4bO0d6YZpk4M9tJ4EQ6CKfnuZoCUleZL5dwA2CRq/Npwt3e9uD8a6a0gNvDnatQfIbJ2EpxWoDeaZZd25u6O1h2tW2XxId7mW4aLF57oTgzg01Oq3eY8Egxc7rV2NR4lHDvNGmcaRkGEnYLtTOlQ+9DtE1HRpOuaRnChK80M+jrGa4lJhSfYbJ9vhgzskJssva5OGVviYxO1l5Z7v+cFBGRfU2JS5EdYllgLDCWcaouDazdhbU7cPgxT+xjXc9RH7xN0NwhYN3G5DIYYzDWfTYyAb72iVVPvNvC8HmGFwp/MXxpDlrPeKsl5/p5rhCUb9u+UKyQrDWmIEp/H0zEhykcemaMiaVOuqLAwou8vNTJmCvxGZ0ao7Pwl4gcWKE43ZW+YLqTa3mJAXqnm+wqsGSSQUZKEyjlxrkU5sn0jyuj6ZnSDGC58anxqGs+P3sOzOrJy3z1XJJk9zK97gqk1DhRz5yAVWIBaCTWDRed49vTu1VP4HiTxSk74VY+c0lq/ApJ9zyY1V6zA+7Bz5UzXYFrGgRS44y7X+j5y55roicG073uayE/xYG7etbV6p0Yd8bXOvYhuJP4TsVkflqGjnCa6YuuqRcSA/ZckgW1xfTE8MVcLl/x6uZ/XPnPkbA/UHaV8CCD4XTVf0Z5XtvBsPe9JCIi+5oSlyI7JJDN2BWWppi8NLe+SyBYD4Eg62d/sRhr7mEMBMx9jJWB3G3quYWVucvS736db//ZXc++/Twt22Ol6cGlxde9dyy8UVIJUktMQbSLTlrom3W1qK/O0lfoD19g+Ll+5jrHCtu7ZvuZYwn/YUTkYKnW0l1aiWm3zE42XykkCXuXu0tWPC4d59o2mnQqzWr7Urvim+CvtvEJBkaSUDUJlGAgn+i8CBerroK7Vaw3yZMav8h0Okx3pf2F4nQ7beJ5qavzrjk9/RJcSxYXnqn2mskDnqtIB2H/dAU+nmsx0kG43PyTqTdZoYlnQsVK2sFCy7mjlrEPy784T36xqNAzNJU59qK7vLmWmEgHYRqJTboTkDUs9uJ/XM7NmxSVXSc5svU/ZDyvbS/L3dusfBcRkT1LiUuRHVJ3K41xkpaF5KUJQCAAQPbkWbKnngVg7Y+/zOqv/j63XvwK66+tcPNPV3ntN17hiy+8wlt/dNO3Z7coU6urvpbtOX/QIzJHf/6YrlthPR5mOO++//UztLLIG4USTRE5eKrNzxihw1+pFukh1uivdPQn6cqMg0LSc5CR8vOrNTb75tlrpdmTBNlivN/iMlU6zb1S40RHkhUWdvHZTmwFoXPtNPqTPpMxGqusip24PA2xHiKEONdevQ3/oNs95yrFeNRuOW8aTJYk+N8Wrc1slVusKQYg38buu9VQSC17UGo8ykgyzGBN17F/gTUREdnPlLgU2SEnvngJjCkmLy0wxgKTjwiQ+cAvsP7Bj2GOvIPs9+5yc+YrfGP4i3xz4hXupW5jDj+BOfyEd8dubWdoZY7+54ot221nSqe8b/FPLBntotOXRKwlpuD1RZa2udBO2wvP0zI3SyGvKSIHj2flb9+meDfhWirVfCqNy8+PVtJWDpC4RtJfaeZbsKfq+HJqTr48pNRV5tPlFxHyV4va7GRxerq3JOHT61sp3SM/D+ZoDzEqt+HLA56rxWXS/muwmkrx5aoVU+NEw73FBP92xu60Csdudf+X4CFiZH9LDNjX8WBh6oGtPOLrWUREdgUlLkV2yOHvvEr9jcVi8tIYrMdPgcnhyl6Se/IZ7v34x7n/4Qusn+1mPfRLZD7Yw/qP/RrrH/oVsk//tGe/pVwJxLYhxov92kWdYxSnm4wyNdbJ0sSYN4lYS0zewjCX5lqKi/EA0MbQVIWVyKNTzPbBxFjZvYnIARE6115mURwqV2ImrpEkzKBn9eOLxBrzbc8Vxjmt0ZUr3+z23tjF/JfhEPGLMZi+bCdAtxwfIj7q+iIdijMzGCadH18iQtxTBhRh1B3vWVV8i9j8/JSuBYtC8YsVV2nPL+bjbhPPS12dJ90Yo6dsOZOzMFK4chu+5D3AuUqNcyXZ6G2FDcWJl30tKsT7r9vIqLdFPJ/MrmVsNSXVyduQP3bhvWY/Ts8ck04yvnpMhefgfh8+Ku73Z6Xf5RFJMR4dIdkYY9J/cXvY13NN0zSIiMietycSl3/4ryze+ozhG582pD8NK1dg+Q8C/OtftFtwRXaLUy/1QXbDXmjHQO7wY+SOHAdTTFzaApij78J6ohnriSasx96DqTsCVpb6b3zBF+uyMEx8guJck+MQL9MqvjTRz+KF/FyUY3R6FuKpPcZt5nwD/XOdjLnmuHx+8UWn8rONoeuu+S/HoL/hOdciQiJyELU2N5ZP7ITO0V428ZZgIL/wjdPiPBmD6V5nIZuK47AXsPHMh2ff8t99EwNhRlZiTObnyitZvbb6eJryY+2265WRcJXVbxehfdK1n0GapnsrxG8dmxqPehYsmoytMJKfU9An0hOjsdLCRamrzKepuEiPnTgu14YvJR7gXCUGwk4rbP46aqdMVr8gMRD2vO7J5CTt865rY3HZaREvbssXDG85thJnAZzB5BbzB5ZZBKf4XutlGtf7peMavdPuiRVSjEe3iilzvpKTtC+X+TyRfSbBQO806fCga9En/zW3zQp5ERHZ0wKnT5/2Z1R2nW98xm69haBdyUbAzgOZAP/+RcO//6zlHyJ7jGVt/RoODQ0Vfh8eHvZsKyebzXLixAmOHz/O2toaAJlMxh+243KPv5fvfuQypv4wgUCAoMlxdHmB4MYGAYyz9LghYC9BDsayf89tcvTVTxHYuO3f5bZEp1a5sNhVNQlZS4yIyKMSGU3SvVxDEsXnQceJyO6n97eIiIiUsycqLu25AoNYFlhWAGMFsKwAlgnwz/5xkK9PHuJvJw/xxu8d4o3fO8LffOoIqf98hNf/01FemzjKaxPH+I99h/27fVtEp1a5PlS2uVb2ibq73+Z9n45w6Mai3S5OHevNbeSCdnLS6SN32sft/xsE732HY1/+dw+dtBQR2f0idPhWvK7Ng44TkV0vMspg2UW3RERE5KDbExWXb0wG2NgEY+xKS8sABAjUHeMd7/85Dj3RDFYWyNo/TRbIOfflwNrE2rjD0//oj/y7/oFTpVt5+6ni0m3jPc9y+3+6gPWOJsyhw9Sv3SC4dotAMMiRjTWOZm5g/vv/RvBOzWvTbqmWa6yWGBEREZFHITKa9M5pSZKR8IDmKxQREZESeyJx+Y2/HCZ4+ISdkDSW8zMH1gZY98DaBCwnSZmzfxrfjRwN//D/8O/6B04Jo/L2a+JSREREREREREQezJ5oFQ8Gs7B5Azb/rvgzexOy3wcrA2bTSWJugHF+Fv52tuU2/Lv1ahviemHRkVVWr3tXS863eLcNXX+omHI88avXUSe5iIiIiIiIiIgcdHsicYm1aSckjZOIzCcjcX4WkpWbTqwTb21ALuOMq15p1/ZCKy93NdDQ0EBDQxcT9DE7FfXEtPTNMk78oWPc2oauM/v8y3Q1OMfuX6RvdorKI0RERERERERERPa/vZG4NE5C0ipTWZnf5q66zGWKMSbj/F09cbkwfJ5i9/YCw5fmoPWMt1pyrt/V4r3AcHyCpc4L3grJWmIKovT3wUR8mMKhZ8aYWOqkS5lLERERERERERE5wPZG4jJfTZmvtjSb9sI77krMQkLTqbDM/52/z9qiVdzfsj3W6d/M0uLr3jsW3mDRe09NMQXRLjppoW/W1aK+Oktfiz9QRERERERERETkYNkjiUtX67e/4jJfhelPYFobdpWl5SQtqyYuo0ytrvpatuf8QY/IHP35Y7pu52f8cSIiIiIiIiIiIgfH3khcGneC0tUWbvLJSednvkW8kLB0/W2qJC7bztDKHP3PFVu22860+oKgpfWs945oF50s8oZrgfBaYgpeX2SJVs6UbSMXERERERERERE5uPZG4rLQEp5fIdyVlHQnL407Yeme59KJqcqVQGwbYrxcv3bnGMV1dqJMjXWyNDGGpziylpi8hWEuzbX4FuNpY2hq65XIRURERERERERE9rM9kbi0Nr7vbf8uLMzjX4gnvz2f6CxWYWYzVRKXC8PEJyjONTkO8TKt4ksT/SxeyM9FOUanZyGe2mPcZs430D/XyZhrjsvnF18sLtYjIiIiIiIiIiJyAAVOnz5t/HfuNv/hV47y0z9ahzEBDGAMQADLsn8aAhjnd+/9gAlgGbj26gb/YuqOd8fbEJ1a5cJiV9UkZC0xUp5lv2hVDQ0NFX4fHh72bCsnm81y4sQJjh8/ztraGgCZaglsERERERERERHZNfZE4nI3qCUpWUuMlKfEpYiIiIiIiIiIuO2JVnERERERERERERE5WJS4rNHM+YYtKylriREREREREREREZGtKXEpIiIiIiIiIiIiu44SlyIiIiIiIiIiIrLrKHEpIiIiIiIiIiIiu44SlyIiIiIiIiIiIrLrBE6fPm38d4r8oFmW5b+rxNDQUOH34eFhz7ZystksJ06c4Pjx46ytrQGQyWT8YY/U4Q/8BE/2/EvqGk7DkQCGLCawSbAuQ31gjcCNVe4mPsfNz37eP1RERERERERE5EBTxaXII1B/6ine+4mXePfFT1PX/EOYw0EssgAYckAAgnXUnz7J6fgLfCjx25w896x/NyIiIiIiIiIiB5YSlyI7rP7UU7zvk39CffP7IWABASxjsIwhxyaWMWxmA1gGjKkjABx5wtD6Wx/l7NDP+HcnIiIiIiIiInIgKXEpsoPqTz3Nez85hzlcj8GQM1lyrGMCWcBgjIVxJmfY2DwKgRyZjUMEyHGk/h5PvXCW0Mfb/LsVERERERERETlwlLgU2UEnf/1TcPgwEMBgsbmxyeb3LYwx5NjAIgeAZSAY3CSXNQQChsxGPRvZQ1jWJj/8sffzWMMx/65FRERERERERA4UJS5FdsjhD/wUdc0hsrks3/zq11h66QuszCb55tUv8dYf/jk3Xn6VjRubGOySS2Mgl6sjl7MwVo4g98BaJ8g9fvLfhvy7FxERERERERE5UJS4FNkhJ3/5d8jczbB49a+4ffsQ5t1nCJ7+EYJPP0vwqWfJHTnNzeQit7+6SgCLIBscqrtPMLBBALv6MhjYxMptcOrDb3/FZXRqletD22tbj06tsrrq3K4Psb3RIrJvREZJJpNlb6MRf7ATPxMn/y+byKhrjOv+Eu5x/mOWOVDV/W413r+9XIybL34mXvFZ1BgbIj5T5fGX5YypEGufjxnKHg6ACKNbPc8D4kHOlT1mlN189kLxGeeaqv1xFse4b9XOjTPmEV9H1Y4RGS2+rzyfA/5bhfHyIOzPn61OadnXzflMzL9m5a658p+TIiKyHylxKbJDMsdO8eaXUljHGzBHHsfUHYHgEUz9MTj6JDz+boLvfIr1b2W5+/p3CJg1NjctyN7BymXBZFi/l2U9U09mc++9NduGrjPWOUd/QwMNDQ30L/YxOxX1h4nIQZAYIBwOe28jSUhPcznhDw4R7w6TvDJOyvmCOhhOMuKMG1mJMen/UlsyLkS8Y5newvFGSIYHPV9sQ/EZBpumnZhepnHvd+vxACRHvM9poOTJFEQ6KDyHcHiEldhkxS/wW8eGiM9M0j7fWzx21D5fVYXO0U6adGM75yp+x2+kvcLGULybpnTaf/cBtr1zlRgIEw4PUPkqeZuF4lyMwXSv63H6/olQkf+9EI4yvuUFuTvYr4t9G0n6nkuV97TUzk4OTxJr9G+pQSjOzGCY5EiYqPuicr9OvdNQ8jkpIiL71d7LjojsUjfeukm2/gQWdRgrgGXZc1laVoDc2hqHUl+j/tJHOfTZIbJ/+xaYdeoDtwmwQTD3XbKZu1iWwRhDwKz5d7/LtfHC8y3M9Z9nxrlnZmyCpc4ulLoUEX9y0rvpHO2NSa4l7Lhz7Y0kR4rJnsTladLhjtJqMM+4FOMD7n0nuDydprH9nJOAidATa3QdP8X4xWnS4W6nSmyr8RB6pqmwtRaJAXfCKsG1JIQ7Sp4F1BAbil8ktjLi/RJfg0hPDOYvciXZSKyn/LHT6TSNsZ7S8+u8FlK0P8/VCm9u77ISqS4y6vzzaYSkf9uWIoxOxmC6l6o55NQ4V6p8poqIyP6ixKXIDsls1mMRwFjGTlrmDFbOYO7fJ/vlv8B8ftgOvPUtrM/8Jty/Sx23COS+Ry67QdDcoc66QdC6g5XN+Hdf1DbE9Xw7dpmW7HyLd9vQ9YeKKccTv3qdbXaSi8hBFekhRrlqSwida6cxeW3bVWlbjUu9uVL8I/QMTeSTnIUAVmikudV1n4tn/A5JLy/av4TizGzRWluIzSdzPQ++FhE6wmnmr6YqJ38B5q8wnQ5T8v3fec2uzPvuP8i2ea7c7cl5/pZXu2Is31LrtJu72rb98ZVaau2b95qqNjYUnyE5GaORMIPOtshokuRgGBpjTJY71jb4p2Uo9zbzx0TKtAx7n0P194zsEomBB6w0DhGfGaRpurfmf9IUPydFRGQ/U+JSZIfcuXkfYwyWZd+Mhf37G68QyOYIZG554uvqb5LLbmJZgMmS29zEsgJYuQ0272Q9sW5tL7Tycpfdjt3Q0MUEpS3ZLX2zjBN/6Bi3tqHrzD7/Ml1OK3hD/yJ9s1NOReUCw5fm6BzL/w3R/j5a5mYLFZgicnBFOsKk56+WVlsSoScG04WMZorxK0nCg8XETaQnViZB6R9XKtIRhpU37WO2NtOYXsb7FXeR5Spd0J7xeeHBskmgLTkVSFdq+TLujw2do70xzTJxZraTwIl0EE7PczUFpK4yXy7hBsAiV+fThLu97cH510xpAbeHO1eh+AyTsZXitAC90yy7tjd1d7DsatsuiQ/3Mt00WLz2QnFmBpucVu8w4ZFi5nSrsanxKOHeadI40zIMJOwWamdKh96HaJuOjCZd0zKECV9pZtDXM1xLTCg+w2T7fDFmZIXYZO1zccreEhmdrL2y3P85KSIi+5oSlyI7xLLAWGAs41RdGli7C2t34PBjntjHup6jPniboLlDwLqNyWUwxmCs+2xkAnztE6ueeLeF4fMMLxT+YvjSHLSe8VZLzvXzXCFogeH4BEudF7wVkrXEFETp74OJ+DCFQ8+MMbHUSVc+Uzlznq6JVsaciswx+mk4r7SlyIEXitNd6QumO7mWlxigd7rJrgJLJhlkpDSBUm6cS2GeTP+4MpqeKc0AlhufGo+65vOz58CsnrzMV88lSXYv0+uuQEqNE/XMCVglFoBGYt1w0Tm+Pb1b9QSON1mcshNu5TOXpMavkHTPg1ntNTvgHvxcOdMVuKZBIDXOuPuFnr/suSZ6YjDd674W8lMcuKtnXa3eiXFnfK1jH4I7ie9UTOanZegIp5m+6Jp6ITFgzyVZUFtMTwxfzOXyFa9u/seV/xwJ+wNlVwkPMhhOV/1nlOe1HQx730siIrKvKXEpskMC2YxdYWmKyUtz67sEgvUQCLJ+9heLseYexkDA3MdYGcjdpp5bWJm7LP3u1/n2n9317NvP07I91unfzNLi6947Ft4oqQSpJaYg2kUnLfTNulrUV2fpa8kHtDF0fZXZ1ktOBWcDXYsXWF0tVmCKyMFUraW7tBLTbpmdbL5SSBL2LneXrHhcOs61bTTpVJrV9qV2xTfBX23jEwyMJKFqEijBQD7ReREuVl0Fd6tYb5InNX6R6XSY7kr7C8XpdtrE81JX511zevoluJYsLjxT7TWTBzxXkQ7C/ukKfDzXYqSDcLn5J1NvskITz4SKlbSDhZZzRy1jH5Z/cZ78YlGhZ2gqc+xFd3lzLTGRDsI0Ept0JyBrWOzF/7icmzcpKrtOcmTrf8h4Xttelru3WfkuIiJ7lhKXIjuk7lYa4yQtC8lLE4BAAIDsybNkTz0LwNoff5nVX/19br34FdZfW+Hmn67y2m+8whdfeIW3/uimb89uUaZWV30t23P+oEekuGK4+3Z+Boj209cyR7+rwnJhOM7EUicXypdwisiBUG1+xggd/kq1SA+xRn+loz9JV2YcFJKeg4yUn1+tsdk3z14rzZ4kyBbj/RaXqdJp7pUaJzqSrLCwi892YisInWun0Z/0mYzRWGVV7MTlaYj1ECHEufbqbfgH3e45VynGo3bLedNgsiTB/7ZobWar3GJNMQD5NnbfrYZCatmDUuNRRpJhBmu6jv0LrImIyH6mxKXIDjnxxUtgTDF5aYExFph8RIDMB36B9Q9+DHPkHWS/d5ebM1/hG8Nf5JsTr3AvdRtz+AnM4Se8O3ZrO0Mrc/Q/V2zZbjtTOuV9S+tZ7x3RLjpZ5I1Cn3dtMQWvL7JEK2eUgxSR7fCs/O3bFO8mXEulmk+lcfn50UraygES10j6K818C/ZUHV9OzcmXh5S6yny6/CJC/mpRm50sTk/3liR8en0rpXvk58Ec7SFG5TZ8ecBztbhM2n8NVlMpvly1YmqcaLi3mODfztidVuHYre7/EjxEjOxviQH7Oh4sTD2wlUd8PYuIyK6gxKXIDjn8nVepv7FYTF4ag/X4KTA5XNlLck8+w70f/zj3P3yB9bPdrId+icwHe1j/sV9j/UO/Qvbpn/bst5Qrgdg2xHixX7uoc4ziOjtRpsY6WZoY8y6UU0tM3sIwl+ZaXIvxYLeHTzkrkc/MMkcnY67FfdqGxulrWeLlF8tlQkXkIAiday+zKA6VKzET10gSZtCz+vFFYo35tucK45zW6MqVb3Z7b+xi/stwiPjFGExfthOgW44PER91fZEOxZkZDJPOjy8RIe4pA4ow6o73rCq+RWx+fkrXgkWh+MWKq7TnF/Nxt4nnpa7Ok26M0VO2nMlZGClcuQ1f8h7gXKXGuZJs9LbChuLEy74WFeL9121k1Nsink9m1zK2mpLq5G3IH7vwXrMfp2eOSScZXz2mwnNwvw8fFff7s9Lv8oikGI+OkGyMMem/uD3s67mmaRpERGTPU+JSZAedeqkPshv2QjsGcocfI3fkOJhi4tIWwBx9F9YTzVhPNGE99h5M3RGwstR/4wu+WJeFYeITFOeaHId4mVbxpYl+Fi/k56Ico9OzEE/tMW4z5xvon+ssLL6zujrL84svOpWfM5xv6Geuc6wwB+ZsH0x0PedaSEhEDprW5sbyiZ3QOdrLJt4SDOQXvnFanCdjMN3rLGRTcRz2Ajae+fDsW/67b2IgzMhKjMn8XHklq9dWH09Tfqzddr0yEq6y+u0itE+69jNI03RvhfitY1PjUc+CRZOxFUbycwr6RHpiNFZauCh1lfk0FRfpsRPH5drwpcQDnKvEQNhphc1fR+2UyeoXJAbCntc9mZykfd51bSwuOy3ixW35guEtx1biLIAzmNxi/sAyi+AU32u9TON6v3Rco3faPbFCivHoVjFlzldykvblMp8nss8kGOidJh0edC365L/mtlkhLyIie1rg9OnT/oyKyA+cZVn+u0oMDQ0Vfh8eHvZsKyebzXLixAmOHz/O2toaAJlMxh+243KPv5fvfuQypv4wgUCAoMlxdHmB4MYGAYyz9LghYC9BDsayf89tcvTVTxHYuO3f5bZEp1a5sNhVNQlZS4yIyKMSGU3SvVxDEsXnQceJyO6n97eIiIiUo4pLkR1Wd/fbvO/TEQ7dWLTbxaljvbmNXNBOTjp95E77uP1/g+C973Dsy//uoZOWIiK7X4QO34rXtXnQcSKy60VGGSy76JaIiIgcdHsicfmH/8rirc8YvvFpQ/rTsHIFlv8gwL/+RXu1ZpHd6NRLfZz83D+n/sbXIZdj/f1/n/XmD7Jx8jSb73mawDtOcuyxIEdfv8KRv77sHy4isk8lGAg7rd/b8qDjRGS3iYx628yTgzASHtB8hSIiIlJiT7SKf+Mz9irNELSL1Qg4BWsB/v2Lhn//2a3bjGV320+t4iIiIiIiIiIi8vD2ROJy5YqdpLQ7bANAAMtgL3Di3GfIr3/iJDfz9ztxV7+a459NbPh3LbuEEpciIiIiIiIiIuK2JxKXb0wG2NgsJiLzSctA3THe8f6f49ATzWBlgaz902SBnHNfDqxNrI07PP2P/si/a9kllLgUERERERERERG3PZG4/MZfDhM8fMJOSBrL+ZkDawOse2BtApaTpMzZP43vRo6Gf/h/+Hctu4QSlyIiIiIiIiIi4rYnFucJBrOweQM2/674M3sTst8HKwNm00liboBxfhb+drblqreJR6dWuT4UZej6Kqur9m0qCrQNcd35e3V1iqh7kGfbKqvXh2grbmTo+ipTUfunHXOdoWIAOMd1j48OXWd1ynMU2oauF2NWV0u2i4iIiIiIiIiI7Dd7InGJtWknJI2TiMwnI3F+FpKVm06sE29tQC7jjNu60q6l7wLEG2hoaKBrYonOsVVWxyHe0EBDQxcTS52MuZKGbS+08nKXHd/Q0MUEfcz6koqdY+OFffbPtdA3XkxuRqdWGWudoKvB2celVsb6Wjzj24auM9u3SH8+pqGLidYxJS9FRERERERERGRf2xuJS+MkJK0ylZX5be6qy1ymGGMyzt9bJy6Zu8Twgv3rwvAl5oC5S8PYdy0wfGkOWs8UEo8Lw+cL8eW2AyxNxAsxM2MTLLW0chaAKF2dS0zE8/sHZs7TP1cYCkTp74OJrvPMFO5bYDg+wVJnl7f6U0REREREREREZB/ZG4nLfDVlvtrSbNoL77grMQsJTafCMv93/j6reqs4wNLi6/57KLnLx9PGPdbp38ziG4W0pKOVM21A2xlaWcS/+fXFpeIf0S46y8Sw8AaL+f2IiIiIiIiIiIjsQ3skcelq/fZXXOarMP0JTGvDrrK0nKRlDYnL7YkytbrK7PMvF1u9veWS1Z1txdsULiIiIiIiIiIiInl7I3Fp3AlKV1u4yScnnZ/5FvFCwtL1t9nhxGXbGVqZo/+5Yqt325lWX1AVry+yVKZq8myrK51ZIaZStaaIiIiIiIiIiMh+sTcSl4WW8PwK4a6kpDt5adwJS/c8l07MjnMlFduGGPctrFPVwou8vORdrIfoFJ5u84VhLs210DfrXs28jaHxPpgYc817KSIiIiIiIiIisr/sicSltfF9b/t3YWEe/0I8+e35RGexCjOb2eHE5cIw8Qnom3XmtxyH+HZaxVlg+DlnJfL8HJlds3RNuOa4BGbON9A10cpYPmZ1ludf7uK54qpAIiIiIiIiIiIi+07g9OnTxn/nbvMffuUoP/2jdRgTwADGAASwLPunIYBxfvfeD5gAloFrr27wL6bueHe8C0WnVrmwePASk5b9olU1NDRU+H14eNizrZxsNsuJEyc4fvw4a2trAGR2OoEtIiIiIiIiIiKPxJ5IXB4Y0SlWx6C/4fyBawNX4lJERERERERERNz2RKv4fhWdyrd/O7cDmrQUERERERERERHxU+LybTRzvoGGBvdNSUsRERERERERERGUuBQREREREREREZHdSHNcyq6wX+e4PPyBn+DJnn9JXcNpOBLAkMUENgnWZagPrBG4scrdxOe4+dnP+4eKiIiIiIiIiBxoqrgUeQTqTz3Fez/xEu+++Gnqmn8IcziIRRYAQw4IQLCO+tMnOR1/gQ8lfpuT557170ZERERERERE5MBS4lJkh9Wfeor3ffJPqG9+PwQsIIBlDJYx5NjEMobNbADLgDF1BIAjTxhaf+ujnB36Gf/uREREREREREQOJCUuRXZQ/amnee8n5zCH6zEYciZLjnVMIAsYjLEwzuQMG5tHIZAjs3GIADmO1N/jqRfOEvp4m3+3IiIiIiIiIiIHjhKXIjvo5K9/Cg4fBgIYLDY3Ntn8voUxhhwbWOQAsAwEg5vksoZAwJDZqGcjewjL2uSHP/Z+Hms45t+1iIiIiIiIiMiBosSlyA45/IGfoq45RDaX5Ztf/RpLL32Bldkk37z6Jd76wz/nxsuvsnFjE4NdcmkM5HJ15HIWxsoR5B5Y6wS5x0/+25B/9yIiIiIiIiIiB4oSlyI75OQv/w6ZuxkWr/4Vt28fwrz7DMHTP0Lw6WcJPvUsuSOnuZlc5PZXVwlgEWSDQ3X3CQY2CGBXXwYDm1i5DU59+O2vuIxOrXJ9qMa29egUq6urZW9TUX+wiOx7kVGSyWTZ22jEH+zEz8TJ/8smMuoa47q/hHuc/5hlDlR1v1uN928vF+Pmi5+JV3wWW8du99gFIeIzZZ6rwz4fM/gPVxRhtOZj7W8Pcq7sMaPs5rMXis8411Ttj7M4xn2rdm6cMY/4Oqp2jMho8X3l+Rzw3yqMlwdhf/5sdUrLvm7OZ17+NSt3zZV8ToqIyL6lxKXIDskcO8WbX0phHW/AHHkcU3cEgkcw9cfg6JPw+LsJvvMp1r+V5e7r3yFg1tjctCB7ByuXBZNh/V6W9Uw9mc099tacOU9DQ4P31j8HSxOMzfiDRWTfSwwQDoe9t5EkpKe5nPAHh4h3h0leGSflfEEdDCcZccaNrMSY9H+pLRkXIt6xTG/heCMkw4OeL7ah+AyDTdNOTC/TuPe79XgAkiPe5zRQ8mQKIh0UnkM4PMJKbLLiF/iaYrdx7ILQOdpJk25s51zF7/iNtFfYGIp305RO++8+wLZ3rhIDYcLhAWp4pd4eoTgXYzDd63qcvn8iVOS/HsNRxlP+oN3Jfl3s20jS91xqeV/Jluzk8CSxRv+WGoTizAyGSY6EibovKvfr1DsN5T4nRURkX9pj2RGR3evGWzfJ1p/Aog5jBbAsey5LywqQW1vjUOpr1F/6KIc+O0T2b98Cs0594DYBNgjmvks2cxfLMhhjCJg1/+73mDaGLnQyd2mYBf8mETmAvMlJ76ZztDcmuZaw4861N5IcKSZ7EpenSYc7SqvBPONSjA+4953g8nSaxvZzTgImQk+s0XX8FOMXp0mHu50qsa3GQ+iZpsLWWiQG3AmrBNeSEO4oeRZQQ+x2j50X6YnB/EWuJBuJ9ZQ/djqdpjHWU3p+nddCivbnuVrhzZI3pchDiIw6/3waIenftqUIo5MxmO6lag45Nc6VKp+pIiKyvyhxKbJDMpv1WAQwlrGTljmDlTOY+/fJfvkvMJ8ftgNvfQvrM78J9+9Sxy0Cue+Ry24QNHeos24QtO5gZTP+3Re1DXHd3Y59fQh3Q3e+xbtt6PpDxZTjiV+9TsVO8mg/fajaUkQckR5ilKu2hNC5dhqT17ZdlbbVuNSbK8U/Qs/QRD7JWQhghUaaW133uXjG75D08qL9SyjOzBattYXYBxahI5xm/mqqcvIXYP4K0+kwJd//ndfsyrzv/oNsm+fK3Z6c5295tSvG8i21Tru5q23bH1+ppda+ea+pamND8RmSkzEaCTPobIuMJkkOhqExxmS5Y22Df1qGcm8zf0ykTMuw9zlUf8/ILpEYeMBK4xDxmUGapnu9lZZVPPznpIiI7AVKXIrskDs372OMwbLsm7Gwf3/jFQLZHIHMLU98Xf1NctlNLAswWXKbm1hWACu3weadrCfWre2FVl7uyrdkdzFBH7O+iSRb+mYZJ/7QMW5tQ9eZff5lugqt4Iv0zU5RbkS0q5Oll19UtaWIABDpCJOev1pabUmEnhhMFzKaKcavJAkPFhM3kZ5YmQSlf1ypSEcYVt60j9naTGN6Ge9X3EWWq3RBe8bnhQfLJoG25FQgXanly3il2O0eO9JBOD3P1RSQusp8uYQbAItcnU8T7va2B+dfM6UF3B7uXIXiM0zGVorTAvROs+za3tTdwbKrbbskPtzLdNNg8fUPxZkZbHJavcOER4qZ063GpsajhHunSeNMyzCQsFuonSkdeh+ibToymnRNyxAmfKWZQV/PcC0xofgMk+3zxZiRFWKTtc/FKXtLZHSS2MpIbUnLSp+TIiKyLylxKbJDLAuMBcYyTtWlgbW7sHYHDj/miX2s6znqg7cJmjsErNuYXAZjDMa6z0YmwNc+seqJd1sYPs9wISO4wPClOWg9462WnOvnuULQAsPxCZY6L3grJGuJKYjS3wcTcVfr98wYE0uddPkzl21DXOic41LxQYrIQRaK013pC6Y7uZaXGKB3usmuAksmGWSkNIFSbpxLYZ5M/7gymp4pLeEqNz41HnXN52fPgVk9gZivnkuS7F6m112BlBon6pkTsErsAx3bnyxO2Qm38plLUuNXSLrnwaz2mh1wD36unOkKXNMgkBpn3P1Cz1/2XBM9MZjudV8L+SkO3NWzrlbvxLgzvtaxD8GdSHcqJvPTMnSE00xfdE29kBiw55IsqC2mJ4Yv5nL5ilc3/+PKf46E/YGyq4QHGQynq/4zyvPaDoa97yUREdnXlLgU2SGBbMausDTF5KW59V0CwXoIBFk/+4vFWHMPYyBg7mOsDORuU88trMxdln7363z7z+569u3nadke6/RvZmnxde8dC2+UVILUElMQ7aKTFvpm3SuGz9LX4g+Etheep2VuFnWJiwhUb+kurcS0W2Ynm68UEnW9y90lKx6XjnNtG006lWa1fald8U3wV9v4BAMjSaiaBEowkE82XoSLVVfB3WbsVscOxel22sTzUlfnXXN6+iW4liwuPFPtNZMHPFeRDsL+6Qp8PNdipINwufknU2+yQhPPhIqVtIOFlnNHLWMfln9xnqiTYAw9Q1OZYy+6y5triYl0EKaR2KQ7AVnDYi/+x+XcvElR2XWSI9jr7VSpqPW8tr0sd9dYfS4iInueEpciO6TuVhrjJC0LyUsTgEAAgOzJs2RPPQvA2h9/mdVf/X1uvfgV1l9b4eafrvLab7zCF194hbf+6KZvz25RplZXfS3bc/6gR2SOfv/K4Q0NnPdkKNt44fkW5maVthQRKCy2UzZbE6HDX6kW6SHW6K90vMh0Okx3IeNWZhwUkp6DjJSfX62x2TfPXivNniTIFuP9Fpep0mnulRonOpKssLCLTy2xWxw7dK6dRn/SZzJGY5VVsROXpyHWQ4QQ59qrt+EfdLvnXKUYj9ot502DyZIE/9uitZmtcos1xQDk29h9txoKqWUPSo1HGUmGGazpOvYvsCYiIvuZEpciO+TEFy+BMcXkpQXGWGDyEQEyH/gF1j/4McyRd5D93l1uznyFbwx/kW9OvMK91G3M4Scwh5/w7tit7QytzNH/XLFlu+1M6ZT3La1nvXdEu+hkkTdc3du1xBS8vsgSrZwp20bu0vYCz7fMobyliAC+lb99m+LdhGupVPOpNC4/P1pJWzlA4hpJf6WZb8GequPLqTn58ghUPbadLE5P95YkfHp9K6V75OfBHO0hRuU2fHnAc7W4TNp/DVZTKb5ctWJqnGi4t5jg387YnVbh2K3u/xI8RIzsb4kB+zoeLEw9sJVHfD2LiMiuoMSlyA45/J1Xqb+xWExeGoP1+CkwOVzZS3JPPsO9H/849z98gfWz3ayHfonMB3tY/7FfY/1Dv0L26Z/27LeUK4HYNsR4uX7tzjGK6+xEmRrrZGlizNu+XUtM3sIwl+ZafIvxtDE05V2JvO2F52lZWsTXhC4iB1ToXHuZRXGoXImZuEaSMIOe1Y8vEmvMtz1XGOe0RleufLPbe2MX81+GQ8QvxmD6sp0A3XJ8iPio64t0KM7MYJh0fnyJCHFPGVCEUXe8Z1XxLWK3e+zQOdoL58srdXWedGOMnrLlTM7CSOHKbfiS9wDnKjXOlWSjtxU2FCde9rWoEO+/biOj3hbxfLt5LWOrKalO3ob8sQvvNftxeuaYTF1lPr1VTIXn4H4vPCru92el3+URSTEeHSHZGGPSf3F72NdzTdM0iIjInqfEpcgOOvVSH2Q37IV2DOQOP0buyHEwxcSlLYA5+i6sJ5qxnmjCeuw9mLojYGWp/8YXfLEuC8PEJyjONTkO8TKt4ksT/SxeyM9FOUanZyGe2mPcZs430D/XyZhrjsvnF70rh59tbdFq4iJS0NrcWD6xEzpHO9OU5gkTDOQXn3FanCdjMN3rLGRTcRzgb412bvnvvomBMCMrMSbzc+WVrF5bfTxN+bF22/XKSLjK6reL0D7p2s8gTdO9FeJriN3GsSM9MRorLVyUusp8moqL9NiJ43Jt+FLiAc5VYiDstMLmX8t2ymT1CxIDYc9CVcnkJO3zrmtjcdlpES9uyxcMbzm2EmcBnMHkFvMHllkEp/he62Ua1zXbcY3eaffkBinGo1vFlDlfyUnal8t8nsg+k2Cgd5p0eNC16JP/mttmhbyIiOxpgdOnT/szKiI/cJZl+e8qMTQ0VPh9eHjYs62cbDbLiRMnOH78OGtrawBkMhl/2I7LPf5evvuRy5j6wwQCAYImx9HlBYIbGwQwztLjhoC9BDkYy/49t8nRVz9FYOO2f5fbEp1a5cJiV9UkZC0xIiKPSmQ0SfdyDUkUnwcdJyK7n97fIiIiUo4qLkV2WN3db/O+T0c4dGPRbhenjvXmNnJBOznp9JE77eP2/w2C977DsS//u4dOWoqI7H4ROnwrXtfmQceJyK4XGWWw7KJbIiIictApcSnyiJx6qY+Tn/vn1N/4OuRyrL//77Pe/EE2Tp5m8z1PE3jHSY49FuTo61c48teX/cNFRPapBANhp/V7Wx50nIjsNpFRb5t5chBGwgOar1BERERKqFVcdoX91CouIiIiIiIiIiIPTxWXIiIiIiIiIiIisuvsicTlH/4ri7c+Y/jGpw3pT8PKFVj+gwD/+hcD/lARERERERERERHZB/ZE4vLvnQ1iWWBMEGMF7J8mwMc6g/zaz+2JpyAiIiIiIiIiIiLbsCeyfvmkpWWBZQUwVgDLCmCZAP/sHwf5+uQh/nbyEG/83iHe+L0j/M2njpD6z0d4/T8d5bWJo7w2cYz/2HfYv1uP6NQqq6vu23WG2vxRPzjRqVWuV3gA0alVVqei/ruhwraS53Z9iPJ7hrah677zMEX5IxUVjhmdYnV1ldKHFmVqtfi47Mfz9p5fERERERERERHZ3fZE4nJ9I8Dte3D7nv3z1prh9j24kzlKffP/zGM/+hscf/bXefxDH+fxD/4vnPjgL/PEsz08+cFu3vFsjHf8yM/zcz//s/7dllia6KKhoYGGhga6JqBvdncm12Zm56Czq0xCMUpXJ8zNzhT+nlpdZax1gi7neTU0NNC/2MdsSUKyjaHrq8z2LdLvim3oh67SAxVFpxijn4bzMzBznv456LzgTYy2DV2gc2mCrvP5xwXQwvMv7MKTKyIiIiIiIiIiu8KeSFw+9qHf4l1/b4yTf+93OPX3fpv3/L1/w3v+p3/Nu3/81zh0/N2w+X3I3YHcXcitgXUPcvfAug+5+2BlCNbX+Xdb1cJwnImlXZpcm5lljs7ShGK0i07myOcto1NjdsLwuWEWXGEz5xvon+tkzFUa2TY0Th8TdDWcx51eZOY8nnyjRxtDF1qZGCsGzJzvZ66lj/F8xrdtiPE+mIh7H8PS0hItff1lkq8iIiIiIiIiIiJ7JHEZDGZh8wZs/l3xZ/YmZL8PVgbMJlgb9s04Pwt/O9tyG/7d1q5tiOvVWq2dFulyLeb+1utCrnCrfVY1g1106WsJt8stncSjU315yZswzJsZm2Cp84LzWKP097VUjK0o2k/f4iWGPYNmON8/V0hKRvv7aJnzxwAvX2JiqUzyVUREREREREREZK8kLrE27YSkcRKR+WQkzs9CsnLTiXXirQ3IZZxxGf9ea7L4xgJtL7Tycle+fbqLCfqYzWcg24a4PtbKRH57/8uFsW1D172t110TLOa3VdtnDUrbxds40+pqE/dVX5ZYeINFWmg9W0NsBW1nWllafN1/N8yMMbHUyYXr1xnrnKO/bMnm67z48lJJW7mIiIiIiIiIiAh7JnFpnISkVaayMr/NXXWZyxRjTMb5e3uJy+jULH0tdjJvYfi8q2JwgeFLc9B6xpVwW+SN/PaZYSfWqWLsd7VeLwwz7Pyx9T63MDPLHK2cyQ9oe4Hnncf7g3K2tYXFwhN3W2A4PgEtLSxNjHlbz10Whi8x1/I8u7EbX0RERERERERE3l57I3GZr6bMV1uaTbCy3krMQkLTqbDM/52/z9q6Vbylb7bQum0vaFNMOnpavsc6i4MWXuTlpU7G/Ktp11DFWHGfNZlhdq44B2fbC8/TUmgT/0Fo40zrEuUKLqGNofE+2HIeS+9zEBERERERERERydsjiUtX67e/4jJfhelPYFobdpWl5SQta0hculcVbygsaGOvzD37/MvFlbn751yjFhh+zm4Dbx1bZbVkte5yttpnbWZm52h5/gXaaOOF51tcq4kDry+y5K7I9Gs7QytO4nGr2LIWeGPRaTX3yS/0E38uzsSSdxEgv5mxCejr998tIiIiIiIiIiIH3N5IXBp3gtLVFm7yyUnnZ75FvJCwdP1ttk5cltV2hlbm6HetzN12ptUXZLeBP9fQZc/tONRWPRlY6z63MjNrt1pHy7SJLwxzaa6Fvv7ySUPPojkLL/LyUuXYalr9T7BtiPHCQj92y/hS55i3GtXNqVgVERERERERERFx2xuJy0JLeH6FcFdS0p28NO6EpXueSyfmgbnnkrQTcwXRqZKk3OIbC8XE4ayrArNtiKHCH1X2WTO71bpvrK9sm/jM+X7mOsdY9T3A6NSqb9GcBYafc2L9q5uXeX55M7NztHhKLu0W8Za5foq7HubSHFUW4XHm9xQREREREREREXHZE4lLa+P73vbvwsI8/oV48tvzic5iFWY284CJy4Vh4hPQN+vMRTkOcXdb9+uLTov4Kqurszz/clchaTdzvoH+OXv+y9XVVVZnn4fXa9jnNszM2uM8beIFM5xv6GKidaw4l+bqKmP00+Cav9MTSx+zrtjVC4uMlds1TsVn5wWGnIxkfkEj/yriM+f7mWupsmr6zKz/HhEREREREREROeACp0+fNv47d5v/8CtH+ekfrcOYAAYwBiCAZdk/DQGM87v3fsAEsAxce3WDfzF1x7tjeXjRKVa7ZmnwJSu3y7JftKqGhoYKvw8PD3u2lZPNZjlx4gTHjx9nbW0NgMyDJrBFREREREREROQHak8kLmV3i045VZwPkbxU4lJERERERERERNyUuJRdYb8mLg9/4Cd4sudfUtdwGo4EMGQxgU2CdRnqA2sEbqxyN/E5bn728/6hIiIiIiIiIiIH2p6Y41Jkr6k/9RTv/cRLvPvip6lr/iHM4SAWWQAMOXtag2Ad9adPcjr+Ah9K/DYnzz3r342IiIiIiIiIyIGlxKXIDqs/9RTv++SfUN/8fghY9ryrxmAZQ45NLGPYzNpzrxpTRwA48oSh9bc+ytmhn/HvTkRERERERETkQFLiUmQH1Z96mvd+cg5zuB6DIWey5FjHBLKAwRjLWVwKNjaPQiBHZuMQAXIcqb/HUy+cJfRxZ5l2EREREREREZEDTIlLkR108tc/BYcPO6vaW2xubLL5fQtjDDk2sMgBYBkIBjfJZQ2BgCGzUc9G9hCWtckPf+z9PNZwzL9rEREREREREZEDRYlLkR1y+AM/RV1ziGwuyze/+jWWXvoCK7NJvnn1S7z1h3/OjZdfZePGJga75NIYyOXqyOUsjJUjyD2w1glyj5/8tyH/7kVEREREREREDhQlLkV2yMlf/h0ydzMsXv0rbt8+hHn3GYKnf4Tg088SfOpZckdOczO5yO2vrhLAIsgGh+ruEwxsEMCuvgwGNrFyG5z68NtfcRmdWuX60Hbb1tsYur7K6qpzuz7EdvcgIvtAZJRkMln2NhrxBzvxM3Hy/7KJjLrGuO4v4R7nP2aZA1Xd71bj/dvLxbj54mfiFZ/F1rHbPXZBiPhMmefqsM/HDP7DFUUYrflY+9uDnCt7zCi7+eyF4jPONVX74yyOcd+qnRtnzCO+jqodIzJafF95Pgf8twrj5UHYnz9bndKyr5vzmZd/zcpdcyWfkyIism8pcSmyQzLHTvHml1JYxxswRx7H1B2B4BFM/TE4+iQ8/m6C73yK9W9lufv6dwiYNTY3LcjewcplwWRYv5dlPVNPZnMvvjXbGLo+y/Mvd9HQ0GDfnhtmwR8mIvtfYoBwOOy9jSQhPc3lhD84RLw7TPLKOCnnC+pgOMmIM25kJcak/0ttybgQ8Y5legvHGyEZHvR8sQ3FZxhsmnZiepnGvd+txwOQHPE+p4GSJ1MQ6aDwHMLhEVZikxW/wNcUu41jF4TO0U6adGM75yp+x2+kvcLGULybpnTaf/cBtr1zlRgIEw4PUMMr9fYIxbkYg+le1+P0/ROhIv/1GI4ynvIH7U7262LfRpK+51LL+0q2ZCeHJ4k1+rfUIBRnZjBMciRM1H1RuV+n3mko9zkpIiL70l7MjojsSjfeukm2/gQWdRgrgGXZc1laVoDc2hqHUl+j/tJHOfTZIbJ/+xaYdeoDtwmwQTD3XbKZu1iWwRhDwKz5d7/rtQ2N07fYz3PDSlWKiJ83OenddI72xiTXEnbcufZGkiPFZE/i8jTpcEdpNZhnXIrxAfe+E1yeTtPYfs5JwEToiTW6jp9i/OI06XC3UyW21XgIPdNU2FqLxIA7YZXgWhLCHSXPAmqI3e6x8yI9MZi/yJVkI7Ge8sdOp9M0xnpKz6/zWkjR/jxXK7xZ8qYUeQiRUeefTyMk/du2FGF0MgbTvVTNIafGuVLlM1VERPYXJS5Fdkhmsx6LAMYydtIyZ7ByBnP/Ptkv/wXm88N24K1vYX3mN+H+Xeq4RSD3PXLZDYLmDnXWDYLWHaxsxr/7orYhrudbscu0Y+dbvNuGrj9UTDme+NXrFDvJ23jh+RbmZme8A0REACI9xChXbQmhc+00Jq9tuyptq3GpN1eKf4SeoYl8krMQwAqNNLe67nPxjN8h6eVF+5dQnJktWmsLsQ8sQkc4zfzVVOXkL8D8FabTYUq+/zuv2ZV53/0H2TbPlbs9Oc/f8mpXjOVbap12c1fbtj++UkutffNeU9XGhuIzJCdjNBJm0NkWGU2SHAxDY4zJcsfaBv+0DOXeZv6YSJmWYe9zqP6ekV0iMfCAlcYh4jODNE33eistq3j4z0kREdkLlLgU2SF3bt7HGINl2TdjYf/+xisEsjkCmVue+Lr6m+Sym1gWYLLkNjexrABWboPNO1lPrFvbC6283OW0Yjd0MUEfs1NRT0xL3yzjxB86xq1t6Dqzz79MV74NvH+RvtkpogBtL/B8yxKLuJOq7sSmiBxkkY4w6fmrpdWWROiJwXQho5li/EqS8GAxcRPpiZVJUPrHlYp0hGHlTfuYrc00ppfxfsVdZLlKF7RnfF54sGwSaEtOBdKVWr6MV4rd7rEjHYTT81xNAamrzJdLuAGwyNX5NOFub3tw/jVTWsDt4c5VKD7DZGylOC1A7zTLru1N3R0su9q2S+LDvUw3DRZf/1CcmcEmp9U7THikmDndamxqPEq4d5o0zrQMAwm7hdqZ0qH3IdqmI6NJ17QMYcJXmhn09QzXEhOKzzDZPl+MGVkhNln7XJyyt0RGJ4mtjNSWtKz0OSkiIvuSEpciO8SywFhgLONUXRpYuwtrd+DwY57Yx7qeoz54m6C5Q8C6jcllMMZgrPtsZAJ87ROrnni3heHzFLuxFxi+NAetZ7zVknPulu0FhuMTLHVe8CYSa4kpiNLfBxNx15yVM2NMLHXSVch1ttB3AeJOYrNrgmJiU0QOrlCc7kpfMN3JtbzEAL3TTXYVWDLJICOlCZRy41wK82T6x5XR9ExpCVe58anxqGs+P3sOzOoJxHz1XJJk9zK97gqk1DhRz5yAVWIf6Nj+ZHHKTriVz1ySGr9C0j0PZrXX7IB78HPlTFfgmgaB1Djj7hd6/rLnmuiJwXSv+1rIT3Hgrp51tXonxp3xtY59CO5EulMxmZ+WoSOcZvqia+qFxIA9l2RBbTE9MXwxl8tXvLr5H1f+cyTsD5RdJTzIYDhd9Z9Rntd2MOx9L4mIyL6mxKXIDglkM3aFpSkmL82t7xII1kMgyPrZXyzGmnsYAwFzH2NlIHebem5hZe6y9Ltf59t/dtezbz9Py/ZYp38zS4uve+9YeKOkEqSWmIJoF5200DfralFfnaWvxR205ElsLgzHmVjq5EL5TKiIHBDVWrpLKzHtltnJ5iuFRF3vcnfJisel41zbRpNOpVltX2pXfBP81TY+wcBIEqomgRIM5JONF+Fi1VVwtxm71bFDcbqdNvG81NV515yefgmuJYsLz1R7zeQBz1Wkg7B/ugIfz7UY6SBcbv7J1Jus0MQzoWIl7WCh5dxRy9iH5V+cJ+okGEPP0FTm2Ivu8uZaYiIdhGkkNulOQNaw2Iv/cTk3b1JUdp3kCPZ6O1Uqaj2vbS/L3TVWn4uIyJ6nxKXIDqm7lcY4SctC8tIEIBAAIHvyLNlTzwKw9sdfZvVXf59bL36F9ddWuPmnq7z2G6/wxRde4a0/uunbs1uUqdVVX8v2nD/oEZmjP39M1+28prUUkYqcxXbKZmsidPgr1SI9xBr9lY4XmU6H6S5k3MqMg0LSc5CR8vOrNTb75tlrpdmTBNlivN/iMlU6zb1S40RHkhUWdvGpJXaLY4fOtdPoT/pMxmissip24vI0xHqIEOJce/U2/INu95yrFONRu+W8aTBZkuB/W7Q2s1VusaYYgHwbu+9WQyG17EGp8SgjyTCDNV3H/gXWRERkP1PiUmSHnPjiJTCmmLy0wBgLTD4iQOYDv8D6Bz+GOfIOst+7y82Zr/CN4S/yzYlXuJe6jTn8BObwE94du7WdoZU5+p8rVja2nSmd8r6l9az3jmgXnSzyhmvB71piCl5fZIlWzlQqnlx4kZeXWvDvEmCx7A5F5EDwrPzt2xTvJlxLpZpPpXH5+dFK2soBEtdI+ivNfAv2VB1fTs3Jl0eg6rHtZHF6urck4dPrWyndIz8P5mgPMSq34csDnqvFZdL+a7CaSvHlqhVT40TDvcUE/3bG7rQKx251/5fgIWJkf0sM2NfxYGHqga084utZRER2BSUuRXbI4e+8Sv2NxWLy0hisx0+ByeHKXpJ78hnu/fjHuf/hC6yf7WY99EtkPtjD+o/9Gusf+hWyT/+0Z7+lXAnEtiHGvf3ats4xiuvsRJka62RpYgxPcWQtMXkLw1yaa/HNWdnG0FR+JfIFXnx5ic6x4va2oXH6mGCs7A5F5CAInWsvsygOlSsxE9dIEmbQs/rxRWKN+bbnCuOc1ujKlW92e2/sYv7LcIj4xRhMX7YToFuODxEfdX2RDsWZGQyTzo8vESHuKQOKMOqO96wqvkXsdo8dOkd74Xx5pa7Ok26M0VO2nMlZGClcuQ1f8h7gXKXGuZJs9LbChuLEy74WFeL9121k1Nsinm83r2VsNSXVyduQP3bhvWY/Ts8ck6mrzKe3iqnwHNzvhUfF/f6s9Ls8IinGoyMkG2NM+i9uD/t6rmmaBhER2fOUuBTZQade6oPshr3QjoHc4cfIHTkOppi4tAUwR9+F9UQz1hNNWI+9B1N3BKws9d/4gi/WZWGY+ATFuSbHIV6mVXxpop/FC/m5KMfo9CzEU3uM28z5BvrnOhlzzXH5/OKLrjktn6NrorWwfbZv0VMZKiIHT2tzY/nETugc7UxTmidMMJBffMZpcZ6MwXSvs5BNxXGAvzXaueW/+yYGwoysxJjMz5VXsnpt9fE05cfabdcrI+Eqq98uQvukaz+DNE33VoivIXYbx470xGistHBR6irzaSou0mMnjsu14UuJBzhXiYGw0wqbfy3bKZPVL0gMhD0LVSWTk7TPu66NxWWnRby4LV8wvOXYSpwFcAaTW8wfWGYRnOJ7rZdpXNdsxzV6p92TG6QYj24VU+Z8JSdpXy7zeSL7TIKB3mnS4UHXok/+a26bFfIiIrKnBU6fPu3PqIj8wFmW5b+rxNDQUOH34eFhz7ZystksJ06c4Pjx46ytrQGQyWT8YTsu9/h7+e5HLmPqDxMIBAiaHEeXFwhubBDAOEuPGwL2EuRgLPv33CZHX/0UgY3b/l1uS3RqlQuLXVWTkLXEiIg8KpHRJN3LNSRRfB50nIjsfnp/i4iISDmquBTZYXV3v837Ph3h0I1Fu12cOtab28gF7eSk00futI/b/zcI3vsOx7787x46aSkisvtF6PCteF2bBx0nIrteZJTBsotuiYiIyEGnxKXII3LqpT5Ofu6fU3/j65DLsf7+v8968wfZOHmazfc8TeAdJzn2WJCjr1/hyF9f9g8XEdmnEgyEndbvbXnQcSKy20RGvW3myUEYCQ9ovkIREREpoVZx2RX2U6u4iIiIiIiIiIg8PFVcioiIiIiIiIiIyK6jxKWIiIiIiIiIiIjsOkpcioiIiIiIiIiIyK6jxKWIiIiIiIiIiIjsOkpcioiIiIiIiIiIyK6jxKWIiIiIiIiIiIjsOkpcioiIiIiIiIiIyK6jxKWIiIiIiIiIiIjsOkpcioiIiIiIiIiIyK6jxKWIiIiIiIiIiIjsOkpcioiIiIiIiIiIyK4TOH36tPHfWU5zc7P/LpEtLS8v++8qy7Is/10lhoaGCr8PDw97tpWTzWY5ceIEx48fZ21tDYBMJuMPExERERERERGRXajmxKXIo6TEpYiIiIiIiIiIuKlVXERERERERERERHYdJS5FRERERERERERk11HiUkRERERERERERHYdzXEpu8J+nePy8Ad+gid7/iV1DafhSABDFhPYJFiXoT6wRuDGKncTn+PmZz/vHyoiIiIiIiIicqCp4lLkEag/9RTv/cRLvPvip6lr/iHM4SAWWQAMOSAAwTrqT5/kdPwFPpT4bU6ee9a/GxERERERERGRA0uJS5EdVn/qKd73yT+hvvn9ELCAAJYxWMaQYxPLGDazASwDxtQRAI48YWj9rY9yduhn/LsTERERERERETmQlLgU2UH1p57mvZ+cwxyux2DImSw51jGBLGAwxsI4kzNsbB6FQI7MxiEC5DhSf4+nXjhL6ONt/t2KiIiIiIiIiBw4SlyK7KCTv/4pOHwYCGCw2NzYZPP7FsYYcmxgkQPAMhAMbpLLGgIBQ2ajno3sISxrkx/+2Pt5rOGYf9ciIiIiIiIiIgeKEpciO+TwB36KuuYQ2VyWb371ayy99AVWZpN88+qXeOsP/5wbL7/Kxo1NDHbJpTGQy9WRy1kYK0eQe2CtE+QeP/lvQ/7di4iIiIiIiIgcKEpciuyQk7/8O2TuZli8+lfcvn0I8+4zBE//CMGnnyX41LPkjpzmZnKR219dJYBFkA0O1d0nGNgggF19GQxsYuU2OPXht7/iMjq1yvWhbbStR6dYXV313qai/igROQgioySTybK30Yg/2ImfiZP/l01k1DXGdX8J9zj/McscqOp+txrv314uxs0XPxOv+Cy2jt3usQtCxGfKPFeHfT5m8B+uKMJozcfa3x7kXNljRtnNZy8Un3GuqdofZ3GM+1bt3DhjHvF1VO0YkdHi+8rzOeC/VRgvD8L+/NnqlJZ93ZzPvPxrVu6aK/mcFBGRfUuJS5Edkjl2ije/lMI63oA58jim7ggEj2Dqj8HRJ+HxdxN851OsfyvL3de/Q8CssblpQfYOVi4LJsP6vSzrmXoym3v0rTnXT0NDQ/F2fsYfISIHQWKAcDjsvY0kIT3N5YQ/OES8O0zyyjgp5wvqYDjJiDNuZCXGpP9Lbcm4EPGOZXoLxxshGR70fLENxWcYbJp2YnqZxr3frccDkBzxPqeBkidTEOmg8BzC4RFWYpMVv8DXFLuNYxeEztFOmnRjO+cqfsdvpL3CxlC8m6Z02n/3Aba9c5UYCBMOD1DDK/X2CMW5GIPpXtfj9P0ToSL/9RiOMp7yB+1O9uti30aSvudSy/tKtmQnhyeJNfq31CAUZ2YwTHIkTNR9Ublfp95pKPc5KSIi+9IezY6I7D433rpJtv4EFnUYK4Bl2XNZWlaA3Noah1Jfo/7SRzn02SGyf/sWmHXqA7cJsEEw912ymbtYlsEYQ8Cs+Xe/67WdafXfJSLi8CYnvZvO0d6Y5FrCjjvX3khypJjsSVyeJh3uKK0G84xLMT7g3neCy9NpGtvPOQmYCD2xRtfxU4xfnCYd7naqxLYaD6Fnmgpba5EYcCesElxLQrij5FlADbHbPXZepCcG8xe5kmwk1lP+2Ol0msZYT+n5dV4LKdqf52qFN0velCIPITLq/PNphKR/25YijE7GYLqXqjnk1DhXqnymiojI/qLEpcgOyWzWYxHAWMZOWuYMVs5g7t8n++W/wHx+2A689S2sz/wm3L9LHbcI5L5HLrtB0NyhzrpB0LqDlc34d1/UNsR1dzv29SHcDd35Fu+2oesPFVOOJ371OtvpJBeRAyzSQ4xy1ZYQOtdOY/LatqvSthqXenOl+EfoGZrIJzkLAazQSHOF/7l4xu+Q9PKi/UsozswWrbWF2AcWoSOcZv5qqnLyF2D+CtPpMCXf/53X7Mq87/6DbJvnyt2enOdvebUrxvIttU67uatt2x9fqaXWvnmvqWpjQ/EZkpMxGgkz6GyLjCZJDoahMcZkuWNtg39ahnJvM39MpEzLsPc5VH/PyC6RGHjASuMQ8ZlBmqZ7vZWWVTz856SIiOwFSlyK7JA7N+9jjMGy7JuxsH9/4xUC2RyBzC1PfF39TXLZTSwLMFlym5tYVgArt8Hmnawn1q3thVZe7sq3Y3cxQR+zvrkkW/pmGSf+0DFubUPXmX3+ZbrybeD9i/TNTuEZ0Tmm+S1FpESkI0x6/mpptSURemIwXchophi/kiQ8WEzcRHpiZRKU/nGlIh1hWHnTPmZrM43pZbxfcRdZrtIF7RmfFx4smwTaklOBdKWWL+OVYrd77EgH4fQ8V1NA6irz5RJuACxydT5NuNvbHpx/zZQWcHu4cxWKzzAZWylOC9A7zbJre1N3B8uutu2S+HAv002Dxdc/FGdmsMlp9Q4THilmTrcamxqPEu6dJo0zLcNAwm6hdqZ06H2ItunIaNI1LUOY8JVmBn09w7XEhOIzTLbPF2NGVohN1j4Xp+wtkdFJYisjtSUtK31OiojIvqTEpcgOsSwwFhjLOFWXBtbuwtodOPyYJ/axrueoD94maO4QsG5jchmMMRjrPhuZAF/7xKon3m1h+DzDC4W/GL40B61nvNWSc/08VwhaYDg+wVLnBW+FZC0xBVH6+2AiPkzh0DNjTCx10uXkJxeGn3PNb9nPXOeYkpciAqE43ZW+YLqTa3mJAXqnm+wqsGSSQUZKEyjlxrkU5sn0jyuj6ZnSEq5y41PjUdd8fvYcmNUTiPnquSTJ7mV63RVIqXGinjkBq8Q+0LH9yeKUnXArn7kkNX6FpHsezGqv2QH34OfKma7ANQ0CqXHG3S/0/GXPNdETg+le97WQn+LAXT3ravVOjDvjax37ENyJdKdiMj8tQ0c4zfRF19QLiQF7LsmC2mJ6YvhiLpeveHXzP67850jYHyi7SniQwXC66j+jPK/tYNj7XhIRkX1NiUuRHRLIZuwKS1NMXppb3yUQrIdAkPWzv1iMNfcwBgLmPsbKQO429dzCytxl6Xe/zrf/7K5n336elu2xTv9mlhZf996x8EZJJUgtMQXRLjppoW/WvWr4LH0t/sC8Gc73z0Fnl7ciU0QOnGot3aWVmHbL7GTzlUKirne5u2TF49Jxrm2jSafSrLYvtSu+Cf5qG59gYCQJVZNACQbyycaLcLHqKrjbjN3q2KE43U6beF7q6rxrTk+/BNeSxYVnqr1m8oDnKtJB2D9dgY/nWox0EC43/2TqTVZo4plQsZJ2sNBy7qhl7MPyL84TdRKMoWdoKnPsRXd5cy0xkQ7CNBKbdCcga1jsxf+4nJs3KSq7TnIEe72dKhW1nte2l+XuGqvPRURkz1PiUmSH1N1KY5ykZSF5aQIQCACQPXmW7KlnAVj74y+z+qu/z60Xv8L6ayvc/NNVXvuNV/jiC6/w1h/d9O3ZLcrU6qqvZXvOH/SIzNHvXjHcuVVcOPz1RZb894nIAeMstlM2WxOhw1+pFukh1uivdLzIdDpMdyHjVmYcFJKeg4yUn1+tsdk3z14rzZ4kyBbj/RaXqdJp7pUaJzqSrLCwi08tsVscO3SunUZ/0mcyRmOVVbETl6ch1kOEEOfaq7fhH3S751ylGI/aLedNg8mSBP/borWZrXKLNcUA5NvYfbcaCqllD0qNRxlJhhms6Tr2L7AmIiL7mRKXIjvkxBcvgTHF5KUFxlhg8hEBMh/4BdY/+DHMkXeQ/d5dbs58hW8Mf5FvTrzCvdRtzOEnMIef8O7Yre0MrczR/1yxZbvcat4trWe9d0S76GSRNwp93rXFFLy+yBKtnCnbRl7B2VYqFmSKyMHgWfnbtyneTbiWSjWfSuPy86OVtJUDJK6R9Fea+RbsqTq+nJqTL49A1WPbyeL0dG9JwqfXt1K6R34ezNEeYlRuw5cHPFeLy6T912A1leLLVSumxomGe4sJ/u2M3WkVjt3q/i/BQ8TI/pYYsK/jwcLUA1t5xNeziIjsCkpciuyQw995lfobi8XkpTFYj58Ck8OVvST35DPc+/GPc//DF1g/28166JfIfLCH9R/7NdY/9Ctkn/5pz35LuRKIbUOMl+vX7hyjOL1klKmxTpYmxvAUR9YSk7cwzKW5Ft9iPG0MTeVXInf/7qx8Xm1/InIghM61l1kUh8qVmIlrJAkz6Fn9+CKxxnzbc4VxTmt05co3u703djH/ZThE/GIMpi/bCdAtx4eIj7q+SIfizAyGSefHl4gQ95QBRRh1x3tWFd8idrvHDp2jvXC+vFJX50k3xugpW87kLIwUrtyGL3kPcK5S41xJNnpbYUNx4mVfiwrx/us2MuptEc+3m9cytpqS6uRtyB+78F6zH6dnjsnUVebTW8VUeA7u98Kj4n5/VvpdHpEU49ERko0xJv0Xt4d9Pdc0TYOIiOx5SlyK7KBTL/VBdsNeaMdA7vBj5I4cB1NMXNoCmKPvwnqiGeuJJqzH3oOpOwJWlvpvfMEX67IwTHyC4lyT4xAv0yq+NNHP4oX8XJRjdHoW4qk9xm3mfAP9c52Muea4fH7xxeJiPa19zOa3zfax2N9QdX8isv+1NjeWT+yEztHONKV5wgQD+cVnnBbnyRhM9zoL2VQcB/hbo51b/rtvYiDMyEqMyfxceSWr11YfT1N+rN12vTISrrL67SK0T7r2M0jTdG+F+Bpit3HsSE+MxkoLF6WuMp+m4iI9duK4XBu+lHiAc5UYCDutsPnXsp0yWf2CxEDYs1BVMjlJ+7zr2lhcdlrEi9vyBcNbjq3EWQBnMLnF/IFlFsEpvtd6mcZ1zXZco3faPblBivHoVjFlzldykvblMp8nss8kGOidJh0edC365L/mtlkhLyIie1rg9OnT/oyKyA+cZVn+u0oMDQ0Vfh8eHvZsKyebzXLixAmOHz/O2toaAJlMxh+243KPv5fvfuQypv4wgUCAoMlxdHmB4MYGAYyz9LghYC9BDsayf89tcvTVTxHYuO3f5bZEp1a5sNhVNWlYS4yIyKMSGU3SvVxDEsXnQceJyO6n97eIiIiUo4pLkR1Wd/fbvO/TEQ7dWLTbxaljvbmNXNBOTjp95E77uP1/g+C973Dsy//uoZOWIiK7X4QO34rXtXnQcSKy60VGGSy76JaIiIgcdEpcijwip17q4+Tn/jn1N74OuRzr7//7rDd/kI2Tp9l8z9ME3nGSY48FOfr6FY789WX/cBGRfSrBQNhp/d6WBx0nIrtNZNTbZp4chJHwgOYrFBERkRJqFZddYT+1iouIiIiIiIiIyMNTxaWIiIiIiIiIiIjsOkpcioiIiIiIiIiIyK6jxKWIiIiIiIiIiIjsOkpcioiIiIiIiIiIyK6jxKWIiIiIiIiIiIjsOkpcioiIiIiIiIiIyK4TOH36tPHfuds8+f8axBw6ApaFlTMYy7nlf88ZMMbelrMwhuI2y76PTIbAH/2uf9eyS1iW5b+rxNDQUOH34eFhz7ZystksJ06c4Pjx46ytrQGQyWT8YSIiIiIiIiIisgvticTlE//iIqd+NoKVtZOUVs7CZA3GglzWgpydtLRyBnKQy+ac3w1WDqysxe1r/426//of/LuWXUKJSxERERERERERcdsTreJW1iKXyWFtWuQ2clgbhtymRW7Dcu6zsDYNuY0c2Y0cVv5+5z5r02Bld31+VkRERERERERERBx7JnFpJyadZOSmK2G5YTlJTCdBuWn/bW3YSUt7TA4rW7miLzq1yupqhdtUFGhj6PoqU1H/yCJ7H1NUCSmr9NjXGWrzR0Hb0HVf3PaPJSIiIiIiIiIislc8UOIyGKxtWK1xWzE5JxnpJCatDYvchrErMTdNIalp5W/5uE2DyRqsDYOpkricOd9AQ4N9658D5voLfzecn/GHl2Xv4zy1RXstTXQVjtc1AX2z7uSlnTSd7VukP/+YGhpo6IcuZS5FRERERERERGSf2nZm8cSJE3zta19jZmaGY8eO+TcDcOzYMWZmZlhYWOAd73iHf/O2FZOVdlVloeLS3T6edRKYTsVlvpXcvlWvuNxNFobjTCy18PwLduaybWicPibo8idFZ85TY05VRERERERERERkz9l24jKbzbK+vs4/+Af/gD/4gz8oSV4eO3aMP/iDP+Af/IN/wMbGBpubm57tD8LKmmJlpZOszFdU5lvGcxs5p0XcXXmZj3VWFn9odvVjuZbu6NQq1713bNn+vbUo/X0tzF0aZsG/SUREREREREREZB/bduLy/v37/PzP/zzf+ta3CIfDnuRlPmkZDof51re+xT/9p/+0sJrzw7ByTmJyI19haZEtWZjHSWB6Ki6dFvKstSOL83SOjUM831LeQt/4EGXzkW1DXB9rZaIr39b9sj9iS4tvLEC0i07mmFVlpYiIiIiIiIiIHDDbTlwCvPnmm/yTf/JPPMnLd73rXZ6k5T/5J/+EN9980z/0gdiL83iTksWkpftmL8Zjt5UXY7IZO3n5sJYm4gw7pY8zYxMstbRy1h9UsMgb+TLJmeHCuK1Ep2bpa1GyUkREREREREREDrYHSlxSJnn5l3/5l48kaQlgnFXF7bkuTWEBnvw8lsV2cdeq4r6byT18xeViIROZ18qZciWXCy/y8lInY6vVVyLPa+mbLbSVj7WWmc9SRERERERERETkgHngxCW+5OVjjz32SJKW5Oe43LBXEHcvvGPlW8NdK4kXfzdkne3W5s5UXNZugeHnGmjomqB1bJXV1Smq5S/dq4o3POeaz/L1RZYqJUdlTzj8gZ/g3b/zh7zvSpL3/Zc/573/5f/iPf/7Vd73Xz/H05/932n8vf837/y5/4d/mIiIiIiIiIjIgfdQiUuc5OVHPvIRfvd3f5ePfOQjO560BDA5JwGZbw135q7M31dsHbcX6LHnwCwuzJPbyO1IxeW2LQzzXEMXE0udXHiQ1XkWXuTlpRb6+qulPWU3qj/1FO/9xEu8++KnqWv+IczhIBZZAAw5IADBOupPn+R0/AU+lPhtTp571r8bEREREREREZED66ETlwArKyv8m3/zb1hZWfFv2hHmfobbf/YSt6+9xO3/6yXuzL/E3eR/4+6fJ1j7C/t274sJ7v1lgvW/SnD/r/4bmf/+OTL/I0Hmywk2vjoLG+v+3T460amSFvHSNvNaLDD8XD9znWOsXvctBFTmGLI71J96ivd98k+ob34/BCwggGUMljHk2MQyhs1sAMuAMXUEgCNPGFp/66OcHfoZ/+5ERERERERERA6kHUlcPmr1s/+Jw4lxjsz+fzj6+d/l2J9M8NjVCY5/4T9x/Np/Zqj9aYY6nubJL17myb/8fd75P/433vmV/413LfwBJ1/5A0799RVO/s1/8e/20Xl90WkRX2V1dZbnX+7i/ANPWjnD+YYuJuhj1pkHc3V1ldULi4w98D7lUak/9TTv/eQc5nA9BkPOZMmxjglkAYMxFsYp/t3YPAqBHJmNQwTIcaT+Hk+9cJbQxx+gOldEREREREREZJ8JnD59+m3ooX54/3nq/8vJU+/Gsgx//drrgOGH338GYxm+/a1v8r9e6PUPkV3Msraeg3RoaKjw+/DwsGdbOdlslhMnTnD8+HHW1tYAyGQy/rAd9d7fnrUrLQErkGFj4z659XXqnsxhBTKARYAABsOh+gxH6m9z9PB9jh2+wbEjaxw/8h0eO/R3/OnPJri3et+/exERERERERGRA2PPJi5/5Ed/jEAgSCAQIBAIYPJlbEAul+P1V77iiZfdbT8kLg9/4Kc49a//C7lchu++8hpr31jFsnIErSwBa4PDTx7hxE+8n8MnDwFQX5fhUHCNo4dvc/zI93j82N9x7ND3ePzI97j1lW/yf31M17CIiIiIiIiIHFx7olW8nNe+9hX+euF/8OpX/zuvfOWvePWr/71wU9JS3g4nf/l3yNzNsHj1r7h9+xDm3WcInv4Rgk8/S/CpZ8kdOc3N5CK3v7pKAIsgGxyqu08wsEGATXJZQzCwiZXb4NSHj/l3/wMXnVrl+oMsKoU9B+vq6nUedLiI7HGRUZLJZNnbaMQf7MTPxAkV/nSNcd1fwj3Of8wyB6q6363G+7eXi3Hzxc/EKz6LrWO3e+yCEPGZMs/VYZ+PGfyHK4owWvOx9rcHOVf2mFF289kLxWeca6r2x1kc475VOzfOmEd8HVU7RmS0+L7yfA74bxXGy4OwP3+2OqVlXzfnMy//mpW75ko+J0VEZN/as4lLkd0mc+wUb34phXW8AXPkcUzdEQgewdQfg6NPwuPvJvjOp1j/Vpa7r3+HgFljc9OC7B2sXBZMhvV7WdYz9WQ29/Jbs42hC53+O0XkIEkMEA6HvbeRJKSnuZzwB4eId4dJXhkn5XxBHQwnGXHGjazEmPR/qS0ZFyLesUxv4XgjJMODni+2ofgMg03TTkwv07j3u/V4AJIj3uc0UPJkCiIdFJ5DODzCSmyy4hf4mmK3ceyC0DnaSZNubOdcxe/4jbRX2BiKd9OUTvvvPsC2d64SA2HC4QFqeKXeHqE4F2Mw3et6nL5/IlTkvx7DUcZT/qDdyX5d7NtI0vdcanlfyZbs5PAksUb/lhqE4swMhkmOhIm6Lyr369Q7DeU+J0VEZF/ay9kRkV3lxls3ydafwKIOYwWwLLAMWFaA3Noah1Jfo/7SRzn02SGyf/sWmHXqA7cJsEEw912ymbtYlsEYQ8DYre17UdvQOH2Lc8z5N4jIAeZNTno3naO9Mcm1hB13rr2R5Egx2ZO4PE063FFaDeYZl2J8wL3vBJen0zS2n3MSMBF6Yo2u46cYvzhNOtztVIltNR5CzzQVttYiMeBOWCW4loRwR8mzgBpit3vsvEhPDOYvciXZSKyn/LHT6TSNsZ7S8+u8FlK0P8/VCm+WvClFHkJk1Pnn0whJ/7YtRRidjMF0L1VzyKlxrlT5TBURkf1FiUuRHZLZrMcigLGMnbTMGaycwdy/T/bLf4H5vDMv561vYX3mN+H+Xeq4RSD3PXLZDYLmDnXWDYLWHaxslbk424a47l5h/voQ7o7sfIt329D1h4opxxNfrhW8bYjxvkX6z8/6NojIgRbpIUa5aksInWunMXlt21VpW41LvblS/CP0DE3kk5yFAFZopLnVdZ+LZ/wOSS8v2r+E4sxs0VpbiH1gETrCaeavpionfwHmrzCdDlPy/d95za7M++4/yLZ5rtztyXn+lle7YizfUuu0m7vatv3xlVpq7Zv3mqo2NhSfITkZo5Ewg862yGiS5GAYGmNMljvWNvinZSj3NvPHRMq0DHufQ/X3jOwSiYEHrDQOEZ8ZpGm611tpWcXDf06KiMheoMSlyA65c/M+xhgsy74ZC/v3N14hkM0RyNzyxNfV3ySX3cSyAJMlt7mJZQWwchts3sl6Yt3aXmjl5a4GGhoaaGjoYoI+ZqeinpiWvlnGiT90jFvb0HVmn3+Zrgbn2P2L9M1OURzRxtB4H4v955nxjBSRgy7SESY9f7W02pIIPTGYLmQ0U4xfSRIeLCZuIj2xMglK/7hSkY4wrLxpH7O1mcb0Mt6vuIssV+mC9ozPCw+WTQJtyalAulLLl/FKsds9dqSDcHqeqykgdZX5cgk3ABa5Op8m3O1tD86/ZkoLuD3cuQrFZ5iMrRSnBeidZtm1vam7g2VX23ZJfLiX6abB4usfijMz2OS0eocJjxQzp1uNTY1HCfdOk8aZlmEgYbdQO1M69D5E23RkNOmaliFM+Eozg76e4VpiQvEZJtvnizEjK8Qma5+LU/aWyOgksZWR2pKWlT4nRURkX1LiUmSHWBYYC4xlnKpLA2t3Ye0OHH7ME/tY13PUB28TNHcIWLcxuQzGGIx1n41MgK99YtUT77YwfJ7hhcJfDF+ag9Yz3mrJuX6eKwQtMByfYKnzgrdCspaYgij9fTARH6Zw6JkxJpY66XIyl9GpWfoW+zmvrKWIuIXidFf6gulOruUlBuidbrKrwJJJBhkpTaCUG+dSmCfTP66MpmdKS7jKjU+NR13z+dlzYFZPIOar55Iku5fpdVcgpcaJeuYErBL7QMf2J4tTdsKtfOaS1PgVku55MKu9Zgfcg58rZ7oC1zQIpMYZd7/Q85c910RPDKZ73ddCfooDd/Wsq9U7Me6Mr3XsQ3An0p2Kyfy0DB3hNNMXXVMvJAbsuSQLaovpieGLuVy+4tXN/7jynyNhf6DsKuFBBsPpqv+M8ry2g2Hve0lERPY1JS5Fdkggm7ErLE0xeWlufZdAsB4CQdbP/mIx1tzDGAiY+xgrA7nb1HMLK3OXpd/9Ot/+s7uefft5WrbHShfCWVp83XvHwhsllSC1xBREu+ikhb5ZV4v66ix9LfntU4y1TtClrKWI+FRr6S6txLRbZiebrxQSdb3L3SUrHpeOc20bTTqVZrV9qV3xTfBX2/gEAyNJqJoESjCQTzZehItVV8HdZuxWxw7F6XbaxPNSV+ddc3r6JbiWLC48U+01kwc8V5EOwv7pCnw812Kkg3C5+SdTb7JCE8+EipW0g4WWc0ctYx+Wf3GeqJNgDD1DU5ljL7rLm2uJiXQQppHYpDsBWcNiL/7H5dy8SVHZdZIj2OvtVKmo9by2vSx311h9LiIie54SlyI7pO5WGuMkLQvJSxOAQACA7MmzZE89C8DaH3+Z1V/9fW69+BXWX1vh5p+u8tpvvMIXX3iFt/7opm/PblGmVld9Lds/qGVw5ujPH9N1Oz/jrCLe0sdsIak5Vkx0Vmk/F5H9zllsp2y2JkKHv1It0kOs0V/peJHpdJjuQsatzDgoJD0HGSk/v1pjs2+evVaaPUmQLcb7LS5TpdPcKzVOdCRZYWEXn1pitzh26Fw7jf6kz2SMxiqrYicuT0OshwghzrVXb8M/6HbPuUoxHrVbzpsGkyUJ/rdFazNb5RZrigHIt7H7bjUUUsselBqPMpIMM1jTdexfYE1ERPYzJS5FdsiJL14CY4rJSwuMscDkIwJkPvALrH/wY5gj7yD7vbvcnPkK3xj+It+ceIV7qduYw09gDj/h3bFb2xlamaP/uWLLdtuZ0invW1rPeu+IdtHJIm8U+rxriyl4fZElWjlTto18geHn/AnNfuZYYqKrgQZVYYocXJ6Vv32b4t2Ea6lU86k0Lj8/WklbOUDiGkl/pZlvwZ6q48upOfnyCFQ9tp0sTk/3liR8en0rpXvk58Ec7SFG5TZ8ecBztbhM2n8NVlMpvly1YmqcaLi3mODfztidVuHYre7/EjxEjOxviQH7Oh4sTD2wlUd8PYuIyK6gxKXIDjn8nVepv7FYTF4ag/X4KTA5XNlLck8+w70f/zj3P3yB9bPdrId+icwHe1j/sV9j/UO/Qvbpn/bst5Qrgdg2xHihX9ulc4xioWOUqbFOlibGvIvm1BKTtzDMpbmW0sV4prZeiVxEDq7QufYyi+JQuRIzcY0kYQY9qx9fJNaYb3uuMM5pja5c+Wa398Yu5r8Mh4hfjMH0ZTsBuuX4EPFR1xfpUJyZwTDp/PgSEeKeMqAIo+54z6riW8Ru99ihc7QXzpdX6uo86cYYPWXLmZyFkcKV2/Al7wHOVWqcK8lGbytsKE687GtRId5/3UZGvS3i+XbzWsZWU1KdvA35Yxfea/bj9MwxmbrKfHqrmArPwf1eeFTc789Kv8sjkmI8OkKyMcak/+L2sK/nmqZpEBGRPU+JS5EddOqlPshu2AvtGMgdfozckeNgiolLWwBz9F1YTzRjPdGE9dh7MHVHwMpS/40v+GJdFoaJT1Cca3Ic4mVaxZcm+lm84Grb9izEU3uM28z5BvrnOhlzzXH5/OKLxcV6RER8Wpsbyyd2QudoZ5rSPGGCgfziM06L82QMpnudhWwqjgP8rdHOLf/dNzEQZmQlxmR+rryS1Wurj6cpP9Zuu14ZCVdZ/XYR2idd+xmkabq3QnwNsds4dqQnRmOlhYtSV5lPU3GRHjtxXK4NX0o8wLlKDISdVtj8a9lOmax+QWIg7FmoKpmcpH3edW0sLjst4sVt+YLhLcdW4iyAM5jcYv7AMovgFN9rvUzjumY7rtE77Z7cIMV4dKuYMucrOUn7cpnPE9lnEgz0TpMOD7oWffJfc9uskBcRkT0tcPr0aX9GReT/3979R7eV13f+f0p2HOeHh5lJZibxjJPBYjLKMuDhV9uDkoY2x+kx4jTM7pddfV1CSrwtLsp2qNk1xT3Vcd1TAwa8zBIfvIc6PSbURwtsp+nUeBs3hRCLDi1l8AwQk0HeSUzEMJOQjBMn1q979w/9urqSbNlOgu28HufoRLn387mSrq50jl7+vD+f284wDPumAoFAIHu/q6srb18xiUSCmpoaNmzYwMzMDADRaNTe7KZLbnyAV997FLOyCofDgdNMUn1uHGcshgMzvfS4iSO1BDmYRup+Mk71D76IIzZtP+SC+AYjHA43zRlCltNGRORW8faEOHCujBDFZrH9RGT50+dbREREitGIS5GbrOLaz9nyZS9rLoVT5eJUMLu9gaQzFU6m68jT5eOpvxs4r7/Cuu99dsmhpYjI8udlj23F6/Istp+ILHveHjqKLrolIiIidzoFlyK3yOZnWtn09T+i8tJPIJlk9pF3Mrv9jcQ2bSV+/0M47t7EuvVOqs8cY+0Pj9q7i4isUsO0e9Kl3wuy2H4istx4e/LLzEMd0O1p13yFIiIiUkCl4rIsrKZScRERERERERERWTqNuBQREREREREREZFlR8GliIiIiIiIiIiILDsKLkVERERERERERGTZUXApIiIiIiIiIiIiy46CSxEREREREREREVl2FFyKiIiIiIiIiIjIsqPgUkRERERERERERJadVRNc1nz++6z/79+j+jP/BkBl97/i+PPvwJ99x95URERERERERERElrlVE1wmYkkScYNk3Ez9P26QjBskYkl7UxEREREREREREVnmVk9wmQkq40b6/0kScZNEOsgUERERERERERGRlcOxdetWJXvyS2cYqcB5LoFAIHu/q6srb18xiUSCmpoaNmzYwMzMDADRaNTeTERERERERERElqHbNuKypqaGdevW2TffNEbgWRJ/8m2ifxwCYKbtNFc/8i1e+y/ftDcVERERERERERGRZe62BZdf+tKX+NKXvsSDDz5o33VTJNJl4sl0qXjSUjr+7L/8W+nbd77LBw8dsh+uKN9ghMigz745tX0sQEOx7en2vsEIkcgghb3L1xAYK/r4vyzFzkdDYIxIJGK5Fb7m5fY6RERERERERERk+bltweWLL77Ifffdx1NPPXVLwstscJkw+MDB3yWRyASZ81TCOxz83u//Af/+3/9/9j0FgiOj0NhkC+Ia2OEC6vexPy+5TG0fHQkCEDxYS23tQVL/WwV8g/TSRu3BzCtqIDAWYaQ1TFttLbWZWxs02TLK8a5dNIUPMxawR70iIiIiIiIiIiIpty24DAQCPPfcc2zevPmWhJfrP7OLjf/91/kPE918qPXDnP3gXfzkP7+OyQ/dbW9awOl08tH/1s6+fb9l35XvTJhJXOyw5m0N+9lXP8nkZD2unYXbw2cs21aNBgKHXfT35mLYhkAfrfTTZA9ngwfJZpsW411HCLe2FYzGFBERERERERER4XYGl7Ozs3z84x+/peGly+XiTwOdVFRU2HfNq6Kigj8NdOJyuey7csaPc2Kynn2WoZUN+/dRP3qEI2FotA4t3OmifvIEx8dT//UNRiwjDFOjEwd9qX9TJdVj2AcgpsrL07exANZcNKOgNNtSgl1Yyu1jMBLBuimvbNs3aDlW4fPJ8rXRGj5CV/q1gY+21npGj3SR3WTXEGAs75hBevtdHC75ICIiIiIiIiIicie7bcElJcLL2tpae7NFe+yxx/D/wYf4/f/8wUXd/B/+EO985zvth7UY5/iJSeotQyt3uuqZDJ9JlZG7dmTnufQ1NUL4bOkgD2js7QN/qqS6bbSe1r7cPJm+wQi9rn6aMiXXR1z0ttbn9W8IjNlKs5vod/Vmg0j7c8LXRCP5AetOV32qnL0hwFivi/6mTIn3iWwbu4YdLiatQ0l9TTQySroqvmzjZ8N553I1qnr0bdz3qa+x5ViILV/5Ng985Vvc/9WTbPmbr/PQ01+l7i+f4p4n5hnpKyIiIiIiIiJyB7qtwSXp8LKzs5PZ2Vk2b97ME088YW+yaFu2bGF6eprpq9NceMMFXrv2Wur/09NcvXo1e3+u2/r16+2HzTN+NmyZ59JHU+MkJ46PQ3CE0ew8lz6aGnPzW5Yy2e/PjloM9vYzWe9Kj6pMHbffbxnBGDxI22i2a3qUI/Q3WUuzx+ny9zOZeX5nwkxa5t70NTUy2t/PZDbMTD1OLoMMczbzgMEuy4jKfDtd9YSzDcs03sWu2l35xzwTtjyX1aVy84M88MlnuK/zy1Rsfz1mlRODBAAmScABzgoqt25iq38/bxr+BJv2PmY/jIiIiIiIiIjIHeu2B5fV1dV0dnZSXV3NxYsXefrpp+1NFm3jxo3U1NRQ5anizZ9+M4nHE9TU1LBx48bsPuu/mfvW/2/cuNF+2HzBEUZpTC0442uiMVsOfoZwZp7Lhh24yhiBWBj+pefPbNiByxoipp0JT+b+42uisUgbxs8SzhwnXdqeGtToo6lxlJGus4QzYab1+Y8f58RkI722UvJCDexw3aS5O8fPEs6GtatH5eYH2fKZf6Ry+yPgMAAHhmlimCZJ4himSTzhwDDBNCtwAGvvMnH92fvYGfhN++FERERERERERO5ItzW4rK6u5hOf+ARvectbuHjxIk8++SSRSMTebNHWr1/Pxo0buXfyXn7a+VPqXq4rGlQWCywz/59vxCUESVVgN9Cww2UpB0+VkTc2+VLzXk6GWXS2t9NFflH4YuWeEw07cE2GOUOQkdFUmNmww8XkiePZ59+1q5bapn5cvREikcESC+eMczZsW4io2KJF5cg+p9WjcvNDPPCZUcyqSkxMkmaCJLOYjgRgYpoGZnqh+1i8GhxJorE1OEiytvI6D+7fifvJhZ5IEREREREREZHV57YFl8VCywsXLtibLUl1dTX33HMPd228i9f//PXctfGubCBZzu2ee+5h7dq19sMWOBOepH5fG2370vNDpmXKyNtc9ZZAcBFKBIE7XZY4s0Qb+2jN8eMnmHTtwLd/H6SfU3BklMamAPv3FSn5Hu9iV20T/ZONcy6c47I+cHpkZ2tb8aizpJ0u6ueZB3Sl2fTRL0JVFeDAxCAeixN/zcA0TZLEMEgCYJjgdMZJJkwcDpNorJJYYg2GEecNH3yE9bXr7IcWEREREREREbmj3Lbgsqur65aGlgCVlZW85z3vYf/+/fz2b/929rZ///6CbcVu73nPe4jFYvbDFhg/foLJ+kYa620l0+ky8sbMvJeLNd7FEdtiPfgG6W0s0mbEOjKygUBfK/T35ua9HD9LuL6V3lZyz+lMmEnXPvbVW8rZfYMFJeIFoWZacGTUtqjOOF272hht7CUyZnnOWI5bsKp4kUV+VriqR99BxXY3iWSCn33/eSaf+QbnR0L87OR3uPC1b3PpxA+IXYpjkhpyaZqQTFaQTBqYRhIn18GYxcl13v4XbvvhRURERERERETuKLctuHz00Ud55ZVXblloCfCxj32MD3/4w/j9fg4fPpy9+f3+gm3Fbh/+8Ifp6uqyH7bQ+HFOTALZ+S0zUmXkeYvcLFLwYBP9tDISiRCJRIg0jdDUb5njEggerKWp30Vvpk1khH0nmtiVtwJO+jlZn+v4cU5QT/3oSC7gPBNOl4jnjnOw1BydwRFGGw/nhZAQ5GCt7TlHIkQOh+ktehwfba1hjpRaAWgF2vR7nyJ6LUr45L8yPb0G874dOLf+O5wPPYbzwcdIrt3K5VCY6e9HcGDgJMaaihs4HTEcpEZfOh1xjGSMzY//8kdc+gYjjM0x6raAbzD3vkcW2FdEVhdvD6FQqOitx2tvnG4f9JP5k423x9LHsr2AtZ/9MYs80JzHna+/fX+xNla29kF/yVexiLZB5mqS48YfLPJa01LnY65jeemZ73XeIRZzrlJ9eljOZ8/tD6avu/KfZ66P9TbXuUn3ucXX0VyP4e3Jfa7yvgfstxL9ZTFS3z/zndKi71v6OzHznhW75ub8nhQRkVXFsXXr1vSMe7dWTU0N8Xic2dlZ+y5ZiXyDRJpGqC2Zbs6tITBGH/5syGoYhr1JgUAgkL1fTsCcSKQWZ9qwYQMzMzMARKNRe7Ob5t6+5zn3vUnM6hoclU6cFU6cDgeOCnA6wGHGcFy/jDlzmQ3bq7j3jeB0xFm/5hWq115n/drLVDlepbrqKmsrrzH8K2P2h7itfIMRDoftQXhpvsFBOJhZ5d7HYKQX2mpLB+Aicmfx9hA6cI4WXx8TeTvc+IMDbD/moX049QN1oPk83Z52htMhQwfdeNqH83rl93Pj79nLyfbMsb30hDrYNtSCry+1xe0PMrD7dPrxU32bz2eOO39/vD2E9pwq8jyK8/b0QHvqNWSOR3fqNdqV3zb9vOumGGrxkXlqJbn9BDt3Qx2cLtLe2xOiwwNT1tdp4fYH6dwNdeePlf26V6tVea7cfoIDu/OvjZKf0xy3P8jA9oW9zsX0Wai5HsPbE+LAucL3rvT3iyxF5vMCECr6XZZT8L65/QQHmjlv6VdOGxERWb1u24jLq1evKrRcTYIHaaOXiL2+vAwNgTFGXEfKDsRWiksXLpOorMGgAtNwYBipuSwNw0FyZoY1E89TeeR9rHk6QOLFC2DOUumYxkEMZ/JVEtFrGIaJaZo4zFTQupIEs6El2ZG+jU0Lvz5EZDVy4z/gIXSsSBji3svuuhCnhlPt9u6uI9SdCfFg+OgQU549haPB8vpN0JcNHQGGOTo0Rd3uvemRhl4ONddZHn+Cvs4hpjwH0qPE5usP7oe3ZfeWYzgbRAIMcyoEnj0FrwIW0Nbt76T5fIiQfUcJ3kPNcLqTY6E6mg8VHg9gamqKuuZDhec3/V5Izuo8V+d5qeBDKbIE3h46PCG6Pd1lf1fleOkZaIahlrkDyYk+jpX4nhQRkdXntgWXsvoED9YuasTleNeuRfVb7qLxSgwcmIaZCi2TJkbSxLxxg8T3/hnzH9KjRK+8jPHXfwI3rlHBFRzJiyQTMZzmVSqMSziNqxiJOUaGNgQYs5bj2+YVzZR4NwTGltSmmLz2tjlLi1lNc5iKyBJ4D9HMEEeL/BB1791NXeiUJbgrz3z9Jl46n/uP+2G2kQk5sw04Tx3bXZZtFnn9b5Kpc+HUHbef4Dyltdm2GW4/nc3n6W4/lb+9JC97PFOcPjlROvwFOH2MoSkPBb//0+/ZsdO27XeyBZ4ra3lyhr3kNVUhmympTZebW8q27e1LldSmbvnX1Fx93f4goYFm6vDQkd7n7QkR6vBAXTMDxR5rAezTMhT7mNnbeIuUDOe/hrk/M7JMDLfjSY+YXxg3/qBtpPs8Cr4nRURkVVJwKXKTXL18A9M0MYzUzTRI3T/7Ao5EEkf0Sl77isrLJBNxDAMwEyTjcQzDgZGMEb+ayGtr1bDfxYmmWmpra6nNzCtqG/la3zpCH/4lt7FqCIwxsu8ETbXpx24L2xaHsvAN0ts4uqrmMBWRxfPu8TB1+mThaEu8HGqGoWyiOUHfsRCejlxw4z3UXCSgtPcr5N3jgfMvpR7TtZ26qXPk/8QNc24qb0OevP4Zno6iIdC80iOQjpXzY7xoWzf+zmbOW0aizsu7B8/UaU5OABMnOV0scAMgzMnTU3gO5M+DmXnPFAtYLe1c5aZB8ODxePC0DHHOsn/bgT2ca/FkQ5+C9p4WhrZ15K49t59gxzaGWtL7u3PJ6Xx9J/p8eFqGmCKUatM+zHC7B093CKaGaElvWwxvT4iObeljeDx4jm2nozl/RGo5bbLTO2TadJ+neaD8uThlZfH2pKbvKCu0LPo9KSIiq5WCS5GbxDDANMA0zPSoSxNmrsHMVahan9d2fdMuKp3TOM2rOIxpzGQU0zQxjRvEog6e/2Qkr73VeNdBcnngOF1HRsG1I3+05GibpRR/nC5/P5P2BZXKaZPlo60V+v1dZB862Ev/ZCO5anAfg5ZFmZpqraXjInLHcvs5UOoHpjVcyxhup2VoW2oUWKjE/HPF+lm4/cFUqaK9XxHbHi4cwlWs/0SfLx0AefB4ugl5LAFSUZnRc6HUnIHWEUgTffg81jkn52hr+UFfxsvJyg+LJ1KBW/Hkkom+Y4TqdrM3Wxc/x3t2h1v8uUpPV2ANnyf66LO+p6eP5l0Th5phqMV6LWSmOLCOnrWUeg/3pfuX23cJrCF+esRkZlqGPZ4phjotUy8Mt9OdVzNcXptDzdjaHC0+4tXK/rwy3yPp+RZlmfJ00OGZmvOPUXnvbYcn/7MkIiKrmoJLkZvEkYimRliaufDSvPIqDmclOJzM7vydXFvzOqYJDvMGphGF5DSVXMGIXmPyCz/h59+8lndsu7yS7d5G++7CEu3xswUjQcppk+VropF6WkcsJeqREVrrrY2CHMyMxvRDn1YWFxHmLukuHImZKpkd2H4sGxK2nDtQsOJxYT/Lvp5Q3uI+8zlvm+CvvP7DtHeHYM4QaJj2TNDZCZ1zroI7R1tvT2pk2kJSS7efA+ky8YyJk6ctc3raDXMqVMfudBo313smizxX3j147NMV2ORdi949eIrNPznxEufZxsPu3EjajmzJeVo5fZcq1G0J8j14Mov5uB9mW5HHDluHN5fTxrsHD3U0D1gDyAFsgzIL2Z9X+pYfisqyE+qmZYi5R9TmvbctnDuwwJHvIiKyYim4FLlJKq5MYaZDy2x4aTrA4QAgsWknic2PATDzf75H5A//iivHn2P2R+e5/E8RfvSxF3h2/wtc+NvLtiNbpUY15pdsj9ob3SKjtGUe03IrOl3peBe72kapb20rXkouIneI9GI7RdMaL3vsI9W8h2ius4907GRoysOBbOJWpB9kQ88OuovPr1a33TbPnovteSHIPP3twueYo9I830Qfvu5QiYVdbPLaphY1ys45GAoRCnXkAp0SP9rde3dTZw99BpqpIxe42Q0fHYL0Y+7dPXcZ/p1u+ZyrCfp8qZLzbR2hgoD/l8K1nfmyxbLaAGTK2G23hWT4snJM9PnoDnnoKOs6ti+wJiIiq5mCS5GbpObZI2CaufDSANM0wMy0cBB99D8x+8YPYq69m8TFa1wOPsdPu57lZ/0vcH1iGrPqLsyqu/IPbNWwAxejtO3KlWw37Cic8r7etTN/g6+JRsKctUw5WU6brDNhJnGxQwMoRWQh8lb+tu3yH8BTzkg1m1L9MuXUBWXlAMOnCNlHmtkW7JmzfzFlhy9LkQ6m8oKbbkJMpeY1LPpcU2Hx1FBLQeDTYlspPU9mHsyeQzRTugxfFnmuwueYsl+DcynVvthoxYk+fJ6WXMC/kL43W4nHdln/SrCENrK6DbenruOO7NQD87nF17OIiCwLCi5FbpKqV35A5aVwLrw0TYyNm8FMYkkvSb7uYa6/9UluPH6Y2Z0HmHW/n+gbDzH7lo8w+6YPkXjoN/KOW8gSIDYE6Muv105p7CW3zo6Pwd5GJvt78+ecLKdNxngXR0brbYvxNBAYzKxE7iOQVxY+z/FE5I7g3ru7yKI4lB6JOXyKEB468lY/7qS5LlP2XKJfujS69Mi3VHlvc2fmx3BqsRuGjqYC0Hn7u/H3WH5Iu/0EOzxMZfoX8OLPGwbkpcfaPm9V8XnaLpR7L7uz5yvfxMnTTNU1c6jocKb0wkie0mX4krGIczXRx7FQXX4prNuPv+h7UaK9/br19uSXiGfKzcvpO5eC0ckLkHns7GctPd2BdY7JiZOcnpqvTYnXYP0c3irWz2ep+3KLTNDn6yZU18yA/eLOk7qey5qmQUREVjwFlyI30eZnWiERSy20Y0Kyaj3JtRvAzAWXKQ7M6nsx7tqOcdc2jPX3Y1asBSNB5U+/YWtrMd6Fv5/cXJN94C9SKj7Z30b4cGYuyl4a8xbiKb+NVfBgLW2jjfRa5rjcFz6eHvl5BvaNWOa/7MXV3zTn8URk9XNtryse7Lj3spshCnPCYdozC9+kS5wHmmGoJb2QTcl+gL00On3L/PYdbvfQfT5Tcl1s9dq5+7PNUq490Mz5bs8cq9+GYfeA5TgdbBtqKdF+IW3n5z3UTF2phYsmTnJ6ipKL9KSC42Jl+FJgEedquN2TLoXNXEe7KZLqZw23e/IWqgqFBth92nJthM+lS8Rz+zKDcOftW0p6AZyOUOmpCKD4Iji5z1oLQ1g+L3tO0TJknVhhgj7ffG2KnK/QALvPFfk+kVVmmPaWIaY8HZZFn+zX3AJHyIuIyIrm2Lp1qz1REbntDMOwbyoQCASy97u6uvL2FZNIJKipqWHDhg3MzMwAEI1G7c1uuuTGB3j1vUcxK6twOBw4zSTV58ZxxmI4MNNLj5s4UkuQg2mk7ifjVP/gizhi0/ZDLohvMMLh8NyhYTltRERuFW9PiAPnyghRbBbbT0SWP32+RUREpBiNuBS5ySqu/ZwtX/ay5lI4VS5OBbPbG0g6U+Fkuo48XT6e+ruB8/orrPveZ5ccWoqILH9e9thWvC7PYvuJyLLn7aGj6KJbIiIicqdTcClyi2x+ppVNX/8jKi/9BJJJZh95J7Pb30hs01bi9z+E4+5NrFvvpPrMMdb+8Ki9u4jIKjVMuydd+r0gi+0nIsuNtye/zDzUAd2eds1XKCIiIgVUKi7LwmoqFRcRERERERERkaXTiEsRERERERERERFZdhRcioiIiIiIiIiIyLKj4FJERERERERERESWHQWXIiIiIiIiIiIisuwouBQREREREREREZFlR8GliIiIiIiIiIiILDsKLkVERERERERERGTZUXApIiIiIiIiIiIiy46CSxEREREREREREVl2FFyKiIiIiIiIiIjIsrMigstNW7byuf/9DH95+jm+8u3v8odfHmXH7/8Fv931P3nq6b+3NxcREREREREREZEVbkUEl08c+n0eeeQRNqxbx+S1Sn58cZZ19z/E2V9E+afxl/jAf+3g3vu32LuJiIiIiIiIiIjICrXsg8vqe7dw76828S8vx/hfP7zC8I8v81qigsqqaiqrqnktXsF+n493/Yf/aO8qIiIiIiIiIiIiK9SyDy63vfsgcdbwk8tJpuMOnGvW4KyoxFFRgbOykoqKSqrWVPLmd+6ydxUREREREREREZEVasnBZU1NDevWrbNvvmle98jjXLph8IvZBPesqwRMHI70TtPk/KuXuXTlGq9Mz9p6ioiIiIiIiIiIyErl2Lp1q2nfuBBPP/00iUSCj3zkI1y4cMG+e8ne+bkTVFZV8+5H72HHfev5ux9e5MeRS8RmrhK99ho3XrsE11/j0s+miD3+KKYBZtLATIJhGJhJEwwwkibGj78PoeKL+fgGI/Q2TtLftIuu8fx9DYExRlxHqD0YzN+xrDQQGBvBdaSWZf00SzAMw76pQCAQyN7v6urK21dMIpGgpqaGDRs2MDMzA0A0GrU3ExERERERERGRZWjJIy5ffPFF7rvvPp566ikefPBB++4li732CxLRWdY5E2xeV8GHfq2WXQ+/jmQ8SjIWxYjHmLl2DXPdOmp+9TfY+I53sfHt72LD2/ew4a3vYsNb38W6x3+d9Y//Oubr32w/vE09rX0BGuybF8o3SGTsJhxHVryqR9/GfZ/6GluOhdjylW/zwFe+xf1fPcmWv/k6Dz39Ver+8inueeK37N1ERERERERERO54Sw4uA4EAzz33HJs3b74l4eXLz44Qu36Vf/zhz7g4PcONaAzvY1v5Xc8biN+YIT57nfjsDI4HtmDETIyYQTJuYMRSt2QsSTJmkIwaGPG5R/VN9vczWt9KX0CRoyxN5eYHeeCTz3Bf55ep2P56zConBgkATJKAA5wVVG7dxFb/ft40/Ak27X3MfhgRERERERERkTvWkoPL2dlZPv7xj9+y8PKVfx7mxi9e5vzLr/LsixFeeW2ak+Nhhk5+l9jMNPGZaeLJBM63/Eo2pDRiJonM/biJEU+Hmcm5g0s4zsG2Uepb2/DZd9k0BMaIRCLp2xiZrNM3GCHS2wj1rYxEIkQGfaltg9Yj+hiMRLBuagiM5bXJP769fwOBsQiDvtRxIpHBIs831ab4PrmVKjc/yJbP/COV2x8BhwE4MEwTwzRJEscwTeIJB4YJplmBA1h7l4nrz97HzsBv2g8nIiIiIiIiInJHWnJwSYnwsra21t5sUWJXLvLTkS9x/dUIP/y/U5x87ix//Q/P8rMLEaLXrhCNzuJ4269hrN2YHW2ZjCUxYibJmEEimgkzDcxEGdN5Bg/SNtpIb15QmK8hMMbIvhM01dZSW1tLbVuY1pFUQBg8WEtt2yhM9qf2HwwSHBkF145c6biviUagsSn3GDtd9YyOpCanbAiMMdIapi1z/Nom+l29tvASXIebCDfVUlt7EPu0lr7BEVrpp6nIPrl1Kjc/xAOfGcWsqsTEJGkmSDKL6UgAJqZpYKYvw1i8GhxJorE1OEiytvI6D+7fiftJjfgVEREREREREbkpwSXp8LKzs5PZ2Vk2b97ME088YW+yaK/96Dv836FP8ezf/y3Doee4fuUiszemiT1Uh+Pd78XxencqpIwZJKPJ1L+xJEa6ZDwZNVLl4uUEl0Cwt5/JxsPZUZT5fLS1Qr+/i+waPsFe+icbseSQ+c6Emazfx/7MqMymRkb7+5nMhpk+mhonCZ9J3W9rhf4ma+A4Tpe/n8nGpvzRkyd6CxYSIrPQkKufpl2W5yi3xaaPfhGqqgAHJgbxWJz4awamaZIkhkESAMMEpzNOMmHicJhEY5XEEmswjDhv+OAjrK9dZz+0iIiIiIiIiMgd5aYFl9XV1XR2dlJdXc3Fixd5+umn7U2WJHH1CpdCf8elu6tJvPcJkvvfh9nwqxhVG9Ml4el5LbP/pkZcWm/zzXGZNd6Fv5/iC/X4mmikntYRSxl3ZITWentDi/HjnJisx7WTdEg5ykjXWcKZMNPXROPkCY6PZ44f5qw9cRw/SxgXOyxPKFzQCFyHx+htHKVNoeVtV/XoO6jY7iaRTPCz7z/P5DPf4PxIiJ+d/A4XvvZtLp34AbFLcUxSAbppQjJZQTJpYBpJnFwHYxYn13n7X7jthxcRERERERERuaPclOCyurqaT3ziE7zlLW/h4sWLPPnkk0QiEXuzm8JIGCQyIyjjydziO5ky8WhmUZ70wjzxVGCZjBkYZY64BBjvOjLHQj2jljLu3O1gyZrscY6fmEyVhjfswDUZ5gxBRkZTYWbDDheTJ47fxKAxP+CU22PT732K6LUo4ZP/yvT0Gsz7duDc+u9wPvQYzgcfI7l2K5dDYaa/H8GBgZMYaypu4HTEcJAafel0xDGSMTY//ssfcekbjDBW9PovwTc4x7ysInJH8fYQCoWK3nq89sbp9kE/mT/ZeHssfSzbC1j72R+zyAPNedz5+tv3F2tjZWsf9Jd8FYtoG2SuJjlu/MEirzUtdT7mOpaXnvle5x1iMecq1aeH5Xz23P5g+ror/3nm+lhvc52bdJ9bfB3N9RjentznKu97wH4r0V8WI/X9M98pLfq+pb8TM+9ZsWtuzu9JERFZVZYcXBYLLS9cuGBvdtOYifRiO9HcPJa5kvBUUJkJMFNzW+bamMnyg0sIZhfq2W/dfCbM5CKCwfHjJ5h07cC3fx+kQ8rgyCiNTQH276vPjZ4sdfyGHbiKjcS0CR/ZRVM/tI7kFgyS2yO6bjMvfWcCY0Mt5tqNmBVrwbkWs3IdVL8ONt6H854HmX05wbUzr+AwZ4jHDUhcxUgmwIwyez3BbLSSaHzJH83brIFAUzg372ttG6ONvQsLPkVk9Rhux+Px5N+6QzA1xNFhe2M3/gMeQsf6mEj/QO3whOhO9+s+38yA/UdtQT83/j3naMk+XjchT0feD1u3P0jHtqF0mxaGsB53/v4AhLrzX1N7wYvJ8u4h+xo8nm7ONw+U/AFfftvUay6bey+7mWKqbjd7S/7Gr2N3iZ1u/wG2TU3ZN9/BFnauhts9eDztlL5KfsncfjqbYajF8jxtf0Qoyf5Z8Pjom7A3Wp5S70vq1h2yvZY5PtNSvlQ4PEBznX1PGdx+gh0eQt0efNaLyvo+tQxBye9JERFZbZacjnR1dd220BIgmciUfWcCSTM9p2UmqEyHlvHUHJfWEZlGfCHBZW6hnlZrHfh4F0dG67OL8aQ0EBi0lZXXu9hp/f/4WcL1rfS2wonjlpDStY999aOk1+Upffy+VujvLWuhnfGuTHipFcVvp0sXLpOorMGgAtNwYBipuSwNw0FyZoY1E89TeeR9rHk6QOLFC2DOUumYxkEMZ/JVEtFrGIaJaZo4zBn74Ze5cboOWqcnCNLbP0n9vv2F0y2IyB0oP5zM37WX3XUhTg2n2u3dXUeoOxf2DB8dYsqzp3A0WF6/Cfrarcce5ujQFHW796YDGC+Hmussjz9BX+cQU54D6VFi8/UH98PbsnvLMdxuDayGORUCz56CVwELaOv2d9J8PkTIvqME76FmON3JsVAdzYcKjwcwNTVFXfOhwvObfi8kZ3Weq/O8VPChFFkCb0/6j0/dZX9X5XjpGWiGoRbmzJAn+jhW4ntSRERWnyUHl48++iivvPLKbQktAcyCuSuT2dXEUyFmZlEek2RmtGUmuEykFkZZiGBvP5P2bQdrUyuPW+a43Be2lHqnF+vpzSuXDTIyCmTmsiQ99yX11I+O5AWSwYO1NPW78o9/ooldxVbiKWG8a1f2Oapi9/aIxisxcGAaZiq0TJoYSRPzxg0S3/tnzH/oSjW88jLGX/8J3LhGBVdwJC+STMRwmlepMC7hNK5iJKL2w+c0BBizlmSP5YfmmRLvhsDYktoUk9c+Mveo3vGzYfsmEblTeQ/RTLHRluDeu5u60KkFj0qbr9/ES+dz/3E/zDYyIWe2AeepY7vLss0ir/9NMnUu/b3o9hOcp7Q22zbD7aez+Tzd7afyt5fkZY9nitMnJ0qHvwCnjzE05aHg93/6PTt22rb9TrbAc2UtT86wl7ymRoxlSmrT5eaWsm17+1Iltalb/jU1V1+3P0hooJk6PHSk93l7QoQ6PFDXzECxx1oA+7QMxT5m9jbeIiXD+a9h7s+MLBPD7YscaezGH+xg21BL/kjLORR8T4qIyKq05ODy/e9/Px/4wAduS2gJYLw4zrV//QbXvvtNrn33G1z7t1Ncfy59Gz9F9IUxbrzwLWZ/eJroD08TOzNGdGKM2I/HWPPzM/bDZQUP1hYPBse72FVbS61tAsvgwfz5LfP7jtO1K73P0i94sJbavEVz0u2KTI453rVr3uPndyvclnmORQ4vt8DVyzcwTRPDSN1Mg9T9sy/gSCRxRK/kta+ovEwyEccwADNBMh7HMBwYyRjxq4m8tlYN+12caMpcG03008qILZ2ubx2hD/+S21g1BMYY2XciVw7eFp5zVK+vqRHCZ2/i3K0islJ593iYOn2ycLQlXg41w1A20Zyg71gIT0cuuPEeai4SUNr7FfLu8cD5l1KP6dpO3dQ58n/ihjk3RxV0Xv8MT0fREGhe6RFIx8r5MV60rRt/ZzPnLSNR5+Xdg2fqNCcngImTnC4WuAEQ5uTpKTwH8suDM++ZYgGrpZ0rtz/IQPP53LQALUOcs+zfdmAP5yxl2wXtPS0MbevIXXtuP8GObelSbw+e7lxyOl/fiT4fnpYhpkhPy9A+nCqhTk/p0LKEsmlvT8gyLYMHz7HtdNhqhstp4/YHGdh9Otem+zzNA+XPxSkri7dngObz3eWFlkW/J0VEZLVacnB59epVZmdn7ZtvGed3hqn8yqdY87VPsfZvP031332a6r//DOtHPsvn3+3m8+9xU/NPn+Oub36O151+irtD/4N7n/08m/7lCDUvnbQfTuSmMQwwDTANMz3q0oSZazBzFarW57Vd37SLSuc0TvMqDmMaMxnFNE1M4waxqIPnP1l6cavxroPkcuxxuo6MgmtH/mjJ0TZL2D1Ol7+fycbD+SMky2mT5aOtFfr9luA9PbK4qUhy2RBIr26v1FxE3H4OlPqBaQ3XMobbaRnalhoFFgrRQXdhgFKsn0V2nkx7vyK2PVw4hKtY/4k+n2U+v9QcmHOHl5nRcyFCB87RYh2BNNGHL29OwDnaWn7Ql/FysvLD4olU4FY8uWSi7xgh6zyYc71nd7jFn6v0dAXW8Hmijz7re3r6aN41cagZhlqs10JmigPr6FlLqfdwX7p/uX2XwBrip0dMZqZl2OOZYqjTMvXCcHtqLsms8tocasbW5mjxEa9W9ueV+R5ZwNSw8kvg6aDDMzXnH6Py3tsOT/5nSUREVrUlB5cikuJIRFMjLM1ceGleeRWHsxIcTmZ3/k6urXkd0wSHeQPTiEJymkquYESvMfmFn/Dzb17LO7ZdXsl2b6N9N5Nh2+ji8bMFI0HKaZPla6KRelpHLCXqkRGs079mmw5GGGkN01Z7sKw5WUVkdZurpLtwJGaqZHZg+7FsSNhy7kDBiseF/Sz7ekLpkWbl/ag9b5vgr7z+w7R3h2DOEGiY9kzQ2Qmdc66CO0dbb09qZNpCUku3nwPpMvGMiZOnLXN62g1zKpRbeGau90wWea68e/DYpyuwybsWvXvwFJt/cuIlzrONh925kbQd2ZLztHL6LpV9cR5fOmB0P8y2Io8dtg5vLqeNdw8e6mgesAaQZSz2Yn9e6Vt+KCrLTqib1Ho7c4yozXtvWzh3YIEj30VEZMVa8cHlJ5/6n3xh8Cv8jy9+mTVrKsE0+fNPf54//YvP8gcfabc3F7llKq5MYaZDy2x4aTrA4QAgsWknic2PATDzf75H5A//iivHn2P2R+e5/E8RfvSxF3h2/wtc+NvLtiNb+RiMRGwl26P2RrfIKG2W6Qsyt9ygygYCYxF6aaNWoaWIANnFdoqmNV722EeqeQ/RXGcf6djJ0JSHA9nErUg/yIaeHXQXn1+tbrttnj0X2/NCkHn624XPMUeleb6JPnzdoRILu9jktU2vIp6ZczAUIhTqyAU6JX60u/fups4e+gw0UzfHqtjDR4cg/Zh7d89dhn+nWz7naoI+X6rkfFtHqCDg/6VwbWe+bLGsNgCZMnbbbSEZvqwcE30+ukMeOsq6ju0LrImIyGq24oPLP37yQ/zBwf/IH/7e+/nohw/xxx/5EH/63/4Lf/4nH+ULn+uxNxe5ZWqePQKmmQsvDTBNA7KL2TuIPvqfmH3jBzHX3k3i4jUuB5/jp13P8rP+F7g+MY1ZdRdm1V35B7Zq2IGLUdosc6U27Cic8r7elbemfXrEZJizlgkny2mTdSbMJC52FC0jT/ENjtAabis6Z6uI3KHyVv627fIfwFPOSDWbUv0y5dQFZeUAw6cI2Uea2RbsmbN/MWWHL0uRDqbygptuQkyl5jUs+lxTYfHUUEtB4NNiWyk9T2YezJ5DNFO6DF8Wea7C55iyX4NzKdW+2GjFiT58npZcwL+Qvjdbicd2Wf9KsIQ2sroNt6eu447s1APzucXXs4iILAsrPrgUWS6qXvkBlZfCufDSNDE2bgYziSW9JPm6h7n+1ie58fhhZnceYNb9fqJvPMTsWz7C7Js+ROKh38g7biFLgNgQoK9YvXZjr2U1eR+DvY1M9vfmj4Isp03GeBdHRutti/E0EBhMr0TeEOBw4yT9vUV7i8gdyr13d5FFcSg9EnP4FCE8dOStftxJc12m7LlEv3RpdOmRb6ny3ubOzI/h1GI3DB1NBaDz9nfj77H8kHb7CXZ4mMr0L+DFnzcMyEuPtX3equLztF0o9152Z89XvomTp5mqa+ZQ0eFM6YWRPKXL8CVjEedqoo9jobr8Uli3H3/R96JEe/t16+3JLxHPlJuX03cuBaOTFyDz2NnPWnq6A+sckxMnOT01X5sSr8H6ObxVrJ/PUvflFpmgz9dNqK6ZAfvFnSd1PZc1TYOIiKx4Ci5FbqLNz7RCIpZaaMeEZNV6kms3gJkLLlMcmNX3Yty1HeOubRjr78esWAtGgsqffsPW1mK8C38/ubkm+8BfpFR8sr+N8OHMXJS9NOYtxFN+G6vgwVraRhvptcxxuS983LJquH0OzNRtjoXKRWSVc22vKx7suPeymyEKc8Jh2jML36RLnAeaYaglvZBNyX6AvTQ6fcv89h1u99B9PlNyXWz12rn7s81Srj3QzPluzxyr34Zh94DlOB1sG2op0X4hbefnPdRMXamFiyZOcnqKkov0pILjYmX4UmAR52q43ZMuhc1cR7spkupnDbd78haqCoUG2H3acm2Ez6VLxHP7MoNw5+1bSnoBnI5Q6akIoPgiOLnPWgtDWD4ve07RMmSdWGGCPt98bYqcr9AAu88V+T6RVWaY9pYhpjwdlkWf7NfcAkfIi4jIiubYunWrPVERue0Mw7BvKhAIBLL3u7q68vYVk0gkqKmpYcOGDczMzAAQjUbtzW665MYHePW9RzErq3A4HDjNJNXnxnHGYjgw00uPmzhSS5CDaaTuJ+NU/+CLOGLT9kMuiG8wwuFw05whZDltRERuFW9PiAPnyghRbBbbT0SWP32+RUREpBiNuBS5ySqu/ZwtX/ay5lI4VS5OBbPbG0g6U+Fkuo48XT6e+ruB8/orrPveZ5ccWoqILH9e9thWvC7PYvuJyLLn7aGj6KJbIiIicqdTcClyi2x+ppVNX/8jKi/9BJJJZh95J7Pb30hs01bi9z+E4+5NrFvvpPrMMdb+8Ki9u4jIKjVMuydd+r0gi+0nIsuNtye/zDzUAd2eds1XKCIiIgVUKi7LwmoqFRcRERERERERkaXTiEsRERERERERERFZdhRcioiIiIiIiIiIyLKj4FJERERERERERESWHQWXIiIiIiIiIiIisuwouBQREREREREREZFlR8GliIiIiIiIiIiILDsKLkVERERERERERGTZUXApIiIiIiIiIiIiy46CSxEREREREREREVl2FFyKiIiIiIiIiIjIsqPgUkRERERERERERJYdBZciIiIiIiIiIiKy7Ci4FBERERERERERkWVnRQeXpmkyPT3Nz3/+c15++WUuXrxILBazNxMREREREREREZEVZkUHl9evX2dmZgbDMDBNk3g8zvT0NKZp2puKiIiIiIiIiIjICrJig0vTNDFNky1btuBwOHjHO97Bli1bSCQSJBIJe3MRERERERERERFZQVZscAmwa9cuPv3pT/Mrv/I2Pv7xjxMIBKioqCCZTNqbivxSVD36Nu771NfYcizElq98mwe+8i3u/+pJtvzN13no6a9S95dPcc8Tv2XvJiIiIiIiIiJyx1vRweXMzAzPnfoC/nf/gtDfd3H50suAw95M5Lar3PwgD3zyGe7r/DIV21+PWeXEIDUS2CSZuk6dFVRu3cRW/37eNPwJNu19zH4YEREREREREZE71ooOLqO/eI53v3GCx7dfZv9bX+L6ZB8OEoua49I3GCEy6LNvhsy+yCDF94rkq9z8IFs+849Ubn8EHAbgwDBNDNMkSRzDNIknHBgmmGYFDmDtXSauP3sfOwO/aT+ciIiIiIiIiMgdaVHBpdNZXrdy2y2GaZrMOrdw0enhx5F1vOZ8O7/+3k+x+b4tzM7OLiq8LCV4sJba2oME7TtEbCo3P8QDnxnFrKrExCRpJkgyi+lIACamaZC5NGPxanAkicbW4CDJ2srrPLh/J+4nG+yHFRERERERERG54yw4WaypqeH5558nGAyybt06+24A1q1bRzAYZHx8nLvvvtu++6a4ceMGb274Nd79u3/FO///v+Ndv/O/8Oz18da3vpVoNMrs7Ky9i8gtt+mjX4SqKsCBiUE8Fif+WmrV+yQxDFLzrxomOJ1xkgkTh8MkGqsklliDYcR5wwcfYX1t8c+WiIiIiIiIiMid4v8BBdieu5s3yIUAAAAASUVORK5CYII=)\n",
        "\n",
        "## 🔁 Step 1: Convert Pascal VOC (XML) to YOLO format\n",
        "\n",
        "Here is a full Python script to convert your XML annotations to YOLO format:\n",
        "\n",
        "### 🐍 Python Script: `convert_voc_to_yolo.py`\n",
        "\n",
        "```python\n",
        "import os\n",
        "import xml.etree.ElementTree as ET\n",
        "\n",
        "# Classes in the dataset\n",
        "CLASSES = ['apple', 'mango']\n",
        "\n",
        "# Input and output paths\n",
        "xml_folder = 'annotations_xml'\n",
        "output_labels = 'labels'\n",
        "\n",
        "os.makedirs(output_labels, exist_ok=True)\n",
        "\n",
        "# Function to convert\n",
        "def convert(xml_file):\n",
        "    tree = ET.parse(xml_file)\n",
        "    root = tree.getroot()\n",
        "\n",
        "    img_w = int(root.find('size/width').text)\n",
        "    img_h = int(root.find('size/height').text)\n",
        "\n",
        "    yolo_lines = []\n",
        "\n",
        "    for obj in root.findall('object'):\n",
        "        class_name = obj.find('name').text.lower()\n",
        "        if class_name not in CLASSES:\n",
        "            continue\n",
        "\n",
        "        class_id = CLASSES.index(class_name)\n",
        "\n",
        "        bndbox = obj.find('bndbox')\n",
        "        xmin = int(bndbox.find('xmin').text)\n",
        "        ymin = int(bndbox.find('ymin').text)\n",
        "        xmax = int(bndbox.find('xmax').text)\n",
        "        ymax = int(bndbox.find('ymax').text)\n",
        "\n",
        "        # Convert to YOLO format\n",
        "        x_center = (xmin + xmax) / 2.0 / img_w\n",
        "        y_center = (ymin + ymax) / 2.0 / img_h\n",
        "        width = (xmax - xmin) / img_w\n",
        "        height = (ymax - ymin) / img_h\n",
        "\n",
        "        yolo_lines.append(f\"{class_id} {x_center:.6f} {y_center:.6f} {width:.6f} {height:.6f}\")\n",
        "\n",
        "    return yolo_lines\n",
        "\n",
        "# Process all XML files\n",
        "for file in os.listdir(xml_folder):\n",
        "    if file.endswith(\".xml\"):\n",
        "        xml_path = os.path.join(xml_folder, file)\n",
        "        yolo_data = convert(xml_path)\n",
        "\n",
        "        txt_filename = file.replace(\".xml\", \".txt\")\n",
        "        with open(os.path.join(output_labels, txt_filename), \"w\") as f:\n",
        "            f.write(\"\\n\".join(yolo_data))\n",
        "\n",
        "print(\"✅ Conversion completed.\")\n",
        "```\n",
        "\n",
        "### 🔧 What to do:\n",
        "\n",
        "1. Put all your `.xml` files in a folder: `annotations_xml/`\n",
        "2. Run the above script\n",
        "3. The output `.txt` files (YOLO format) will go into `labels/`\n",
        "\n",
        "---\n",
        "\n",
        "## 📁 Step 2: Organize Dataset Folder\n",
        "\n",
        "You need this structure:\n",
        "\n",
        "```\n",
        "YOLO_dataset/\n",
        "├── images/\n",
        "│   ├── train/\n",
        "│   │   ├── apple1.jpg\n",
        "│   │   ├── mango1.jpg\n",
        "├── labels/\n",
        "│   ├── train/\n",
        "│   │   ├── apple1.txt\n",
        "│   │   ├── mango1.txt\n",
        "├── data.yaml\n",
        "```\n",
        "\n",
        "---\n",
        "\n",
        "## 📄 Step 3: Create `data.yaml` File\n",
        "\n",
        "Create a file `data.yaml` like this:\n",
        "\n",
        "```yaml\n",
        "path: /content/YOLO_dataset\n",
        "train: images/train\n",
        "val: images/train  # or create a validation split later\n",
        "\n",
        "names:\n",
        "  0: apple\n",
        "  1: mango\n",
        "```\n",
        "\n",
        "---\n",
        "\n",
        "## 🧪 Step 4: Train YOLOv8 in Google Colab\n",
        "\n",
        "Now upload this to Colab and run the following:\n",
        "\n",
        "### ▶️ Colab Commands\n",
        "\n",
        "```python\n",
        "# 1. Install YOLOv8\n",
        "!pip install -q ultralytics\n",
        "from ultralytics import YOLO\n",
        "\n",
        "# 2. Load YOLOv8 model\n",
        "model = YOLO(\"yolov8n.yaml\")  # or use yolov8s.yaml\n",
        "\n",
        "# 3. Train\n",
        "model.train(data=\"YOLO_dataset/data.yaml\", epochs=20, imgsz=416)\n",
        "```\n",
        "\n",
        "---\n",
        "\n",
        "## 🧪 Step 5: Run Inference on a Test Image\n",
        "\n",
        "```python\n",
        "# Inference on one of your test images\n",
        "results = model.predict(source=\"YOLO_dataset/images/train/mango9.jpeg\", save=True, conf=0.5)\n",
        "```\n",
        "\n",
        "This will save prediction images in `runs/detect/predict/`.\n",
        "\n",
        "---\n",
        "\n",
        "## 🧳 Optional: Zip for Upload to Colab\n",
        "\n",
        "You can ZIP your full folder (`YOLO_dataset`) and upload to Colab:\n",
        "\n",
        "```python\n",
        "from google.colab import files\n",
        "uploaded = files.upload()  # upload your zip file\n",
        "!unzip YOLO_dataset.zip\n",
        "```\n",
        "\n",
        "---\n",
        "\n"
      ],
      "metadata": {
        "id": "RJqYuItAGvCy"
      }
    },
    {
      "cell_type": "markdown",
      "source": [
        "\n",
        "\n",
        "---\n",
        "\n"
      ],
      "metadata": {
        "id": "enFA9Uq2HU0a"
      }
    },
    {
      "cell_type": "markdown",
      "source": [
        "# **Pascal VOC (XML) to YOLO format**"
      ],
      "metadata": {
        "id": "AlC1bJCXD9nx"
      }
    },
    {
      "cell_type": "code",
      "source": [
        "# import os\n",
        "# import xml.etree.ElementTree as ET\n",
        "\n",
        "# # Classes in the dataset\n",
        "# CLASSES = ['apple', 'mango']\n",
        "\n",
        "# # Input and output paths\n",
        "# xml_folder = 'annotations_xml'\n",
        "# output_labels = 'labels'\n",
        "\n",
        "# os.makedirs(output_labels, exist_ok=True)\n",
        "\n",
        "# # Function to convert\n",
        "\n",
        "\n",
        "# def convert(xml_file):\n",
        "#     tree = ET.parse(xml_file)\n",
        "#     root = tree.getroot()\n",
        "\n",
        "#     img_w = int(root.find('size/width').text)\n",
        "#     img_h = int(root.find('size/height').text)\n",
        "\n",
        "#     yolo_lines = []\n",
        "\n",
        "#     for obj in root.findall('object'):\n",
        "#         class_name = obj.find('name').text.lower()\n",
        "#         if class_name not in CLASSES:\n",
        "#             continue\n",
        "\n",
        "#         class_id = CLASSES.index(class_name)\n",
        "\n",
        "#         bndbox = obj.find('bndbox')\n",
        "#         xmin = int(bndbox.find('xmin').text)\n",
        "#         ymin = int(bndbox.find('ymin').text)\n",
        "#         xmax = int(bndbox.find('xmax').text)\n",
        "#         ymax = int(bndbox.find('ymax').text)\n",
        "\n",
        "#         # Convert to YOLO format\n",
        "#         x_center = (xmin + xmax) / 2.0 / img_w\n",
        "#         y_center = (ymin + ymax) / 2.0 / img_h\n",
        "#         width = (xmax - xmin) / img_w\n",
        "#         height = (ymax - ymin) / img_h\n",
        "\n",
        "#         yolo_lines.append(\n",
        "#             f\"{class_id} {x_center:.6f} {y_center:.6f} {width:.6f} {height:.6f}\")\n",
        "\n",
        "#     return yolo_lines\n",
        "\n",
        "\n",
        "# # Process all XML files\n",
        "# for file in os.listdir(xml_folder):\n",
        "#     if file.endswith(\".xml\"):\n",
        "#         xml_path = os.path.join(xml_folder, file)\n",
        "#         yolo_data = convert(xml_path)\n",
        "\n",
        "#         txt_filename = file.replace(\".xml\", \".txt\")\n",
        "#         with open(os.path.join(output_labels, txt_filename), \"w\") as f:\n",
        "#             f.write(\"\\n\".join(yolo_data))\n",
        "\n",
        "# print(\"Conversion completed.\")\n"
      ],
      "metadata": {
        "id": "4cKHRObfEzDy"
      },
      "execution_count": 1,
      "outputs": []
    },
    {
      "cell_type": "markdown",
      "source": [
        "# YOLOv8_Tutorial_Apple_vs_Mango"
      ],
      "metadata": {
        "id": "bELqCIunHWd5"
      }
    },
    {
      "cell_type": "markdown",
      "source": [
        "# upload and unzip dataset"
      ],
      "metadata": {
        "id": "j9OUcTu0FkPS"
      }
    },
    {
      "cell_type": "code",
      "source": [
        "# from google.colab import files\n",
        "# uploaded = files.upload()  # upload your zip file\n",
        "!unzip YOLO_dataset.zip\n"
      ],
      "metadata": {
        "colab": {
          "base_uri": "https://localhost:8080/"
        },
        "id": "jZbqc9SD975C",
        "outputId": "9f3fd8f8-3d60-4e40-d7cd-b4caaa4ee822"
      },
      "execution_count": 2,
      "outputs": [
        {
          "output_type": "stream",
          "name": "stdout",
          "text": [
            "Archive:  YOLO_dataset.zip\n",
            "   creating: YOLO_dataset/\n",
            "  inflating: YOLO_dataset/data.yaml  \n",
            "   creating: YOLO_dataset/images/\n",
            "   creating: YOLO_dataset/images/train/\n",
            "  inflating: YOLO_dataset/images/train/apple1.jpeg  \n",
            "  inflating: YOLO_dataset/images/train/apple10.jpeg  \n",
            "  inflating: YOLO_dataset/images/train/apple2.jpeg  \n",
            "  inflating: YOLO_dataset/images/train/apple3.jpeg  \n",
            "  inflating: YOLO_dataset/images/train/apple4.jpeg  \n",
            "  inflating: YOLO_dataset/images/train/apple5.jpeg  \n",
            "  inflating: YOLO_dataset/images/train/apple6.jpeg  \n",
            "  inflating: YOLO_dataset/images/train/apple7.jpeg  \n",
            "  inflating: YOLO_dataset/images/train/apple8.jpeg  \n",
            "  inflating: YOLO_dataset/images/train/apple9.jpeg  \n",
            "  inflating: YOLO_dataset/images/train/mango1.jpeg  \n",
            "  inflating: YOLO_dataset/images/train/mango10.jpeg  \n",
            "  inflating: YOLO_dataset/images/train/mango2.jpeg  \n",
            "  inflating: YOLO_dataset/images/train/mango3.jpeg  \n",
            "  inflating: YOLO_dataset/images/train/mango4.jpeg  \n",
            "  inflating: YOLO_dataset/images/train/mango5.jpeg  \n",
            "  inflating: YOLO_dataset/images/train/mango6.jpeg  \n",
            "  inflating: YOLO_dataset/images/train/mango7.jpeg  \n",
            "  inflating: YOLO_dataset/images/train/mango8.jpeg  \n",
            "  inflating: YOLO_dataset/images/train/mango9.jpeg  \n",
            "   creating: YOLO_dataset/labels/\n",
            "   creating: YOLO_dataset/labels/train/\n",
            "  inflating: YOLO_dataset/labels/train/apple1.txt  \n",
            "  inflating: YOLO_dataset/labels/train/apple10.txt  \n",
            "  inflating: YOLO_dataset/labels/train/apple2.txt  \n",
            "  inflating: YOLO_dataset/labels/train/apple3.txt  \n",
            "  inflating: YOLO_dataset/labels/train/apple4.txt  \n",
            "  inflating: YOLO_dataset/labels/train/apple5.txt  \n",
            "  inflating: YOLO_dataset/labels/train/apple6.txt  \n",
            "  inflating: YOLO_dataset/labels/train/apple7.txt  \n",
            "  inflating: YOLO_dataset/labels/train/apple8.txt  \n",
            "  inflating: YOLO_dataset/labels/train/apple9.txt  \n",
            "  inflating: YOLO_dataset/labels/train/mango1.txt  \n",
            "  inflating: YOLO_dataset/labels/train/mango10.txt  \n",
            "  inflating: YOLO_dataset/labels/train/mango2.txt  \n",
            "  inflating: YOLO_dataset/labels/train/mango3.txt  \n",
            "  inflating: YOLO_dataset/labels/train/mango4.txt  \n",
            "  inflating: YOLO_dataset/labels/train/mango5.txt  \n",
            "  inflating: YOLO_dataset/labels/train/mango6.txt  \n",
            "  inflating: YOLO_dataset/labels/train/mango7.txt  \n",
            "  inflating: YOLO_dataset/labels/train/mango8.txt  \n",
            "  inflating: YOLO_dataset/labels/train/mango9.txt  \n"
          ]
        }
      ]
    },
    {
      "cell_type": "markdown",
      "source": [
        "check annotation"
      ],
      "metadata": {
        "id": "Mw8YkwdJFmyh"
      }
    },
    {
      "cell_type": "code",
      "source": [
        "!head YOLO_dataset/labels/train/mango9.txt\n"
      ],
      "metadata": {
        "colab": {
          "base_uri": "https://localhost:8080/"
        },
        "id": "rvFsQ-oQA88x",
        "outputId": "6c6cc75c-8f87-4d46-a35c-abc228dcc48f"
      },
      "execution_count": 3,
      "outputs": [
        {
          "output_type": "stream",
          "name": "stdout",
          "text": [
            "1 0.500000 0.598361 0.607273 0.508197"
          ]
        }
      ]
    },
    {
      "cell_type": "markdown",
      "source": [
        "# Show your image and label"
      ],
      "metadata": {
        "id": "3Z0jGKyXFsu6"
      }
    },
    {
      "cell_type": "code",
      "source": [
        "import cv2\n",
        "import matplotlib.pyplot as plt\n",
        "\n",
        "def show_yolo_label(img_path, label_path, class_names=[\"apple\", \"mango\"]):\n",
        "    img = cv2.imread(img_path)\n",
        "    img = cv2.cvtColor(img, cv2.COLOR_BGR2RGB)\n",
        "    h, w, _ = img.shape\n",
        "\n",
        "    with open(label_path, 'r') as f:\n",
        "        lines = f.readlines()\n",
        "\n",
        "    for line in lines:\n",
        "        cls, x, y, bw, bh = map(float, line.strip().split())\n",
        "        x1 = int((x - bw/2) * w)\n",
        "        y1 = int((y - bh/2) * h)\n",
        "        x2 = int((x + bw/2) * w)\n",
        "        y2 = int((y + bh/2) * h)\n",
        "\n",
        "        label = class_names[int(cls)]\n",
        "        cv2.rectangle(img, (x1, y1), (x2, y2), (0,255,0), 2)\n",
        "        cv2.putText(img, label, (x1, y1 - 5), cv2.FONT_HERSHEY_SIMPLEX, 0.8, (255,0,0), 2)\n",
        "\n",
        "    plt.figure(figsize=(8,6))\n",
        "    plt.imshow(img)\n",
        "    plt.axis('off')\n",
        "    plt.show()\n",
        "\n",
        "# Show your image and label\n",
        "show_yolo_label(\"YOLO_dataset/images/train/mango9.jpeg\", \"YOLO_dataset/labels/train/mango9.txt\")\n"
      ],
      "metadata": {
        "colab": {
          "base_uri": "https://localhost:8080/",
          "height": 441
        },
        "id": "VObdM23eBJDi",
        "outputId": "0544d15c-371e-44b3-e155-395dd1b0906a"
      },
      "execution_count": 4,
      "outputs": [
        {
          "output_type": "display_data",
          "data": {
            "text/plain": [
              "<Figure size 800x600 with 1 Axes>"
            ],
            "image/png": "[encoded data removed]"
          },
          "metadata": {}
        }
      ]
    },
    {
      "cell_type": "code",
      "source": [
        "import cv2\n",
        "import matplotlib.pyplot as plt\n",
        "\n",
        "def show_yolo_label(img_path, label_path, class_names=[\"apple\", \"mango\"]):\n",
        "    img = cv2.imread(img_path)\n",
        "    img = cv2.cvtColor(img, cv2.COLOR_BGR2RGB)\n",
        "    h, w, _ = img.shape\n",
        "\n",
        "    with open(label_path, 'r') as f:\n",
        "        lines = f.readlines()\n",
        "\n",
        "    for line in lines:\n",
        "        cls, x, y, bw, bh = map(float, line.strip().split())\n",
        "        x1 = int((x - bw/2) * w)\n",
        "        y1 = int((y - bh/2) * h)\n",
        "        x2 = int((x + bw/2) * w)\n",
        "        y2 = int((y + bh/2) * h)\n",
        "\n",
        "        label = class_names[int(cls)]\n",
        "        cv2.rectangle(img, (x1, y1), (x2, y2), (0,255,0), 2)\n",
        "        cv2.putText(img, label, (x1, y1 - 5), cv2.FONT_HERSHEY_SIMPLEX, 0.8, (255,0,0), 2)\n",
        "\n",
        "    plt.figure(figsize=(8,6))\n",
        "    plt.imshow(img)\n",
        "    plt.axis('off')\n",
        "    plt.show()\n",
        "\n",
        "# Show your image and label\n",
        "show_yolo_label(\"YOLO_dataset/images/train/apple9.jpeg\", \"YOLO_dataset/labels/train/apple9.txt\")\n"
      ],
      "metadata": {
        "colab": {
          "base_uri": "https://localhost:8080/",
          "height": 499
        },
        "id": "qefqPQc0BMla",
        "outputId": "56c35856-ac5e-47f1-9e5a-f47c16950c7e"
      },
      "execution_count": 5,
      "outputs": [
        {
          "output_type": "display_data",
          "data": {
            "text/plain": [
              "<Figure size 800x600 with 1 Axes>"
            ],
            "image/png": "[encoded data removed]"
          },
          "metadata": {}
        }
      ]
    },
    {
      "cell_type": "markdown",
      "source": [
        "# Train Model"
      ],
      "metadata": {
        "id": "EVFbSz6AFudy"
      }
    },
    {
      "cell_type": "code",
      "execution_count": 6,
      "metadata": {
        "colab": {
          "base_uri": "https://localhost:8080/"
        },
        "id": "UvqEwO214WTW",
        "outputId": "58114864-82b9-48d6-9e9a-bb76cfa77b92"
      },
      "outputs": [
        {
          "output_type": "stream",
          "name": "stdout",
          "text": [
            "\u001b[2K   \u001b[90m━━━━━━━━━━━━━━━━━━━━━━━━━━━━━━━━━━━━━━━━\u001b[0m \u001b[32m1.0/1.0 MB\u001b[0m \u001b[31m34.5 MB/s\u001b[0m eta \u001b[36m0:00:00\u001b[0m\n",
            "\u001b[2K   \u001b[90m━━━━━━━━━━━━━━━━━━━━━━━━━━━━━━━━━━━━━━━━\u001b[0m \u001b[32m363.4/363.4 MB\u001b[0m \u001b[31m3.3 MB/s\u001b[0m eta \u001b[36m0:00:00\u001b[0m\n",
            "\u001b[2K   \u001b[90m━━━━━━━━━━━━━━━━━━━━━━━━━━━━━━━━━━━━━━━━\u001b[0m \u001b[32m13.8/13.8 MB\u001b[0m \u001b[31m24.4 MB/s\u001b[0m eta \u001b[36m0:00:00\u001b[0m\n",
            "\u001b[2K   \u001b[90m━━━━━━━━━━━━━━━━━━━━━━━━━━━━━━━━━━━━━━━━\u001b[0m \u001b[32m24.6/24.6 MB\u001b[0m \u001b[31m21.4 MB/s\u001b[0m eta \u001b[36m0:00:00\u001b[0m\n",
            "\u001b[2K   \u001b[90m━━━━━━━━━━━━━━━━━━━━━━━━━━━━━━━━━━━━━━━━\u001b[0m \u001b[32m883.7/883.7 kB\u001b[0m \u001b[31m14.3 MB/s\u001b[0m eta \u001b[36m0:00:00\u001b[0m\n",
            "\u001b[2K   \u001b[90m━━━━━━━━━━━━━━━━━━━━━━━━━━━━━━━━━━━━━━━━\u001b[0m \u001b[32m664.8/664.8 MB\u001b[0m \u001b[31m1.9 MB/s\u001b[0m eta \u001b[36m0:00:00\u001b[0m\n",
            "\u001b[2K   \u001b[90m━━━━━━━━━━━━━━━━━━━━━━━━━━━━━━━━━━━━━━━━\u001b[0m \u001b[32m211.5/211.5 MB\u001b[0m \u001b[31m6.6 MB/s\u001b[0m eta \u001b[36m0:00:00\u001b[0m\n",
            "\u001b[2K   \u001b[90m━━━━━━━━━━━━━━━━━━━━━━━━━━━━━━━━━━━━━━━━\u001b[0m \u001b[32m56.3/56.3 MB\u001b[0m \u001b[31m10.4 MB/s\u001b[0m eta \u001b[36m0:00:00\u001b[0m\n",
            "\u001b[2K   \u001b[90m━━━━━━━━━━━━━━━━━━━━━━━━━━━━━━━━━━━━━━━━\u001b[0m \u001b[32m127.9/127.9 MB\u001b[0m \u001b[31m7.5 MB/s\u001b[0m eta \u001b[36m0:00:00\u001b[0m\n",
            "\u001b[2K   \u001b[90m━━━━━━━━━━━━━━━━━━━━━━━━━━━━━━━━━━━━━━━━\u001b[0m \u001b[32m207.5/207.5 MB\u001b[0m \u001b[31m5.1 MB/s\u001b[0m eta \u001b[36m0:00:00\u001b[0m\n",
            "\u001b[2K   \u001b[90m━━━━━━━━━━━━━━━━━━━━━━━━━━━━━━━━━━━━━━━━\u001b[0m \u001b[32m21.1/21.1 MB\u001b[0m \u001b[31m64.8 MB/s\u001b[0m eta \u001b[36m0:00:00\u001b[0m\n",
            "\u001b[?25hCreating new Ultralytics Settings v0.0.6 file ✅ \n",
            "View Ultralytics Settings with 'yolo settings' or at '/root/.config/Ultralytics/settings.json'\n",
            "Update Settings with 'yolo settings key=value', i.e. 'yolo settings runs_dir=path/to/dir'. For help see https://docs.ultralytics.com/quickstart/#ultralytics-settings.\n",
            "Downloading https://github.com/ultralytics/assets/releases/download/v8.3.0/yolov8n.pt to 'yolov8n.pt'...\n"
          ]
        },
        {
          "output_type": "stream",
          "name": "stderr",
          "text": [
            "100%|██████████| 6.25M/6.25M [00:00<00:00, 156MB/s]\n"
          ]
        },
        {
          "output_type": "stream",
          "name": "stdout",
          "text": [
            "Ultralytics 8.3.163 🚀 Python-3.11.13 torch-2.6.0+cu124 CPU (Intel Xeon 2.20GHz)\n",
            "\u001b[34m\u001b[1mengine/trainer: \u001b[0magnostic_nms=False, amp=True, augment=False, auto_augment=randaugment, batch=4, bgr=0.0, box=7.5, cache=True, cfg=None, classes=None, close_mosaic=10, cls=0.5, conf=None, copy_paste=0.0, copy_paste_mode=flip, cos_lr=False, cutmix=0.0, data=YOLO_dataset/data.yaml, degrees=0.0, deterministic=True, device=cpu, dfl=1.5, dnn=False, dropout=0.0, dynamic=False, embed=None, epochs=200, erasing=0.4, exist_ok=False, fliplr=0.5, flipud=0.0, format=torchscript, fraction=1.0, freeze=None, half=False, hsv_h=0.015, hsv_s=0.7, hsv_v=0.4, imgsz=416, int8=False, iou=0.7, keras=False, kobj=1.0, line_width=None, lr0=0.01, lrf=0.01, mask_ratio=4, max_det=300, mixup=0.0, mode=train, model=yolov8n.pt, momentum=0.937, mosaic=1.0, multi_scale=False, name=mango_apple_detector, nbs=64, nms=False, opset=None, optimize=False, optimizer=auto, overlap_mask=True, patience=20, perspective=0.0, plots=True, pose=12.0, pretrained=True, profile=False, project=runs/train, rect=False, resume=False, retina_masks=False, save=True, save_conf=False, save_crop=False, save_dir=runs/train/mango_apple_detector, save_frames=False, save_json=False, save_period=10, save_txt=False, scale=0.5, seed=0, shear=0.0, show=False, show_boxes=True, show_conf=True, show_labels=True, simplify=True, single_cls=False, source=None, split=val, stream_buffer=False, task=detect, time=None, tracker=botsort.yaml, translate=0.1, val=True, verbose=True, vid_stride=1, visualize=False, warmup_bias_lr=0.1, warmup_epochs=3.0, warmup_momentum=0.8, weight_decay=0.0005, workers=8, workspace=None\n",
            "Downloading https://ultralytics.com/assets/Arial.ttf to '/root/.config/Ultralytics/Arial.ttf'...\n"
          ]
        },
        {
          "output_type": "stream",
          "name": "stderr",
          "text": [
            "100%|██████████| 755k/755k [00:00<00:00, 39.4MB/s]"
          ]
        },
        {
          "output_type": "stream",
          "name": "stdout",
          "text": [
            "Overriding model.yaml nc=80 with nc=2\n",
            "\n",
            "                   from  n    params  module                                       arguments                     \n",
            "  0                  -1  1       464  ultralytics.nn.modules.conv.Conv             [3, 16, 3, 2]                 \n",
            "  1                  -1  1      4672  ultralytics.nn.modules.conv.Conv             [16, 32, 3, 2]                \n",
            "  2                  -1  1      7360  ultralytics.nn.modules.block.C2f             [32, 32, 1, True]             \n",
            "  3                  -1  1     18560  ultralytics.nn.modules.conv.Conv             [32, 64, 3, 2]                \n",
            "  4                  -1  2     49664  ultralytics.nn.modules.block.C2f             [64, 64, 2, True]             \n",
            "  5                  -1  1     73984  ultralytics.nn.modules.conv.Conv             [64, 128, 3, 2]               \n",
            "  6                  -1  2    197632  ultralytics.nn.modules.block.C2f             [128, 128, 2, True]           \n",
            "  7                  -1  1    295424  ultralytics.nn.modules.conv.Conv             [128, 256, 3, 2]              \n",
            "  8                  -1  1    460288  ultralytics.nn.modules.block.C2f             [256, 256, 1, True]           \n",
            "  9                  -1  1    164608  ultralytics.nn.modules.block.SPPF            [256, 256, 5]                 \n",
            " 10                  -1  1         0  torch.nn.modules.upsampling.Upsample         [None, 2, 'nearest']          \n",
            " 11             [-1, 6]  1         0  ultralytics.nn.modules.conv.Concat           [1]                           \n",
            " 12                  -1  1    148224  ultralytics.nn.modules.block.C2f             [384, 128, 1]                 \n",
            " 13                  -1  1         0  torch.nn.modules.upsampling.Upsample         [None, 2, 'nearest']          \n",
            " 14             [-1, 4]  1         0  ultralytics.nn.modules.conv.Concat           [1]                           \n",
            " 15                  -1  1     37248  ultralytics.nn.modules.block.C2f             [192, 64, 1]                  \n",
            " 16                  -1  1     36992  ultralytics.nn.modules.conv.Conv             [64, 64, 3, 2]                \n",
            " 17            [-1, 12]  1         0  ultralytics.nn.modules.conv.Concat           [1]                           \n",
            " 18                  -1  1    123648  ultralytics.nn.modules.block.C2f             [192, 128, 1]                 \n",
            " 19                  -1  1    147712  ultralytics.nn.modules.conv.Conv             [128, 128, 3, 2]              \n",
            " 20             [-1, 9]  1         0  ultralytics.nn.modules.conv.Concat           [1]                           \n",
            " 21                  -1  1    493056  ultralytics.nn.modules.block.C2f             [384, 256, 1]                 \n"
          ]
        },
        {
          "output_type": "stream",
          "name": "stderr",
          "text": [
            "\n"
          ]
        },
        {
          "output_type": "stream",
          "name": "stdout",
          "text": [
            " 22        [15, 18, 21]  1    751702  ultralytics.nn.modules.head.Detect           [2, [64, 128, 256]]           \n",
            "Model summary: 129 layers, 3,011,238 parameters, 3,011,222 gradients, 8.2 GFLOPs\n",
            "\n",
            "Transferred 319/355 items from pretrained weights\n",
            "Freezing layer 'model.22.dfl.conv.weight'\n",
            "\u001b[34m\u001b[1mtrain: \u001b[0mFast image access ✅ (ping: 0.0±0.0 ms, read: 12.3±11.9 MB/s, size: 5.0 KB)\n"
          ]
        },
        {
          "output_type": "stream",
          "name": "stderr",
          "text": [
            "\u001b[34m\u001b[1mtrain: \u001b[0mScanning /content/YOLO_dataset/labels/train... 20 images, 0 backgrounds, 0 corrupt: 100%|██████████| 20/20 [00:00<00:00, 1406.30it/s]"
          ]
        },
        {
          "output_type": "stream",
          "name": "stdout",
          "text": [
            "\u001b[34m\u001b[1mtrain: \u001b[0mNew cache created: /content/YOLO_dataset/labels/train.cache\n",
            "WARNING ⚠️ cache='ram' may produce non-deterministic training results. Consider cache='disk' as a deterministic alternative if your disk space allows.\n"
          ]
        },
        {
          "output_type": "stream",
          "name": "stderr",
          "text": [
            "\n",
            "\u001b[34m\u001b[1mtrain: \u001b[0mCaching images (0.0GB RAM): 100%|██████████| 20/20 [00:00<00:00, 540.35it/s]\n"
          ]
        },
        {
          "output_type": "stream",
          "name": "stdout",
          "text": [
            "\u001b[34m\u001b[1malbumentations: \u001b[0mBlur(p=0.01, blur_limit=(3, 7)), MedianBlur(p=0.01, blur_limit=(3, 7)), ToGray(p=0.01, method='weighted_average', num_output_channels=3), CLAHE(p=0.01, clip_limit=(1.0, 4.0), tile_grid_size=(8, 8))\n",
            "\u001b[34m\u001b[1mval: \u001b[0mFast image access ✅ (ping: 0.0±0.0 ms, read: 167.5±64.4 MB/s, size: 4.5 KB)\n"
          ]
        },
        {
          "output_type": "stream",
          "name": "stderr",
          "text": [
            "\u001b[34m\u001b[1mval: \u001b[0mScanning /content/YOLO_dataset/labels/train.cache... 20 images, 0 backgrounds, 0 corrupt: 100%|██████████| 20/20 [00:00<?, ?it/s]"
          ]
        },
        {
          "output_type": "stream",
          "name": "stdout",
          "text": [
            "WARNING ⚠️ cache='ram' may produce non-deterministic training results. Consider cache='disk' as a deterministic alternative if your disk space allows.\n"
          ]
        },
        {
          "output_type": "stream",
          "name": "stderr",
          "text": [
            "\n",
            "\u001b[34m\u001b[1mval: \u001b[0mCaching images (0.0GB RAM): 100%|██████████| 20/20 [00:00<00:00, 621.65it/s]\n"
          ]
        },
        {
          "output_type": "stream",
          "name": "stdout",
          "text": [
            "Plotting labels to runs/train/mango_apple_detector/labels.jpg... \n",
            "\u001b[34m\u001b[1moptimizer:\u001b[0m 'optimizer=auto' found, ignoring 'lr0=0.01' and 'momentum=0.937' and determining best 'optimizer', 'lr0' and 'momentum' automatically... \n",
            "\u001b[34m\u001b[1moptimizer:\u001b[0m AdamW(lr=0.001667, momentum=0.9) with parameter groups 57 weight(decay=0.0), 64 weight(decay=0.0005), 63 bias(decay=0.0)\n",
            "Image sizes 416 train, 416 val\n",
            "Using 0 dataloader workers\n",
            "Logging results to \u001b[1mruns/train/mango_apple_detector\u001b[0m\n",
            "Starting training for 200 epochs...\n",
            "\n",
            "      Epoch    GPU_mem   box_loss   cls_loss   dfl_loss  Instances       Size\n"
          ]
        },
        {
          "output_type": "stream",
          "name": "stderr",
          "text": [
            "      1/200         0G     0.9744      2.779      1.352         10        416: 100%|██████████| 5/5 [00:08<00:00,  1.73s/it]\n",
            "                 Class     Images  Instances      Box(P          R      mAP50  mAP50-95): 100%|██████████| 3/3 [00:03<00:00,  1.27s/it]"
          ]
        },
        {
          "output_type": "stream",
          "name": "stdout",
          "text": [
            "                   all         20         20    0.00426          1      0.423      0.232\n"
          ]
        },
        {
          "output_type": "stream",
          "name": "stderr",
          "text": [
            "\n"
          ]
        },
        {
          "output_type": "stream",
          "name": "stdout",
          "text": [
            "\n",
            "      Epoch    GPU_mem   box_loss   cls_loss   dfl_loss  Instances       Size\n"
          ]
        },
        {
          "output_type": "stream",
          "name": "stderr",
          "text": [
            "      2/200         0G     0.9647      2.722      1.339         11        416: 100%|██████████| 5/5 [00:08<00:00,  1.68s/it]\n",
            "                 Class     Images  Instances      Box(P          R      mAP50  mAP50-95): 100%|██████████| 3/3 [00:02<00:00,  1.08it/s]"
          ]
        },
        {
          "output_type": "stream",
          "name": "stdout",
          "text": [
            "                   all         20         20    0.00376          1      0.524      0.398\n"
          ]
        },
        {
          "output_type": "stream",
          "name": "stderr",
          "text": [
            "\n"
          ]
        },
        {
          "output_type": "stream",
          "name": "stdout",
          "text": [
            "\n",
            "      Epoch    GPU_mem   box_loss   cls_loss   dfl_loss  Instances       Size\n"
          ]
        },
        {
          "output_type": "stream",
          "name": "stderr",
          "text": [
            "      3/200         0G     0.8801      2.546       1.27         12        416: 100%|██████████| 5/5 [00:08<00:00,  1.70s/it]\n",
            "                 Class     Images  Instances      Box(P          R      mAP50  mAP50-95): 100%|██████████| 3/3 [00:02<00:00,  1.09it/s]"
          ]
        },
        {
          "output_type": "stream",
          "name": "stdout",
          "text": [
            "                   all         20         20    0.00355          1      0.609      0.516\n"
          ]
        },
        {
          "output_type": "stream",
          "name": "stderr",
          "text": [
            "\n"
          ]
        },
        {
          "output_type": "stream",
          "name": "stdout",
          "text": [
            "\n",
            "      Epoch    GPU_mem   box_loss   cls_loss   dfl_loss  Instances       Size\n"
          ]
        },
        {
          "output_type": "stream",
          "name": "stderr",
          "text": [
            "      4/200         0G     0.7843      2.371      1.192         10        416: 100%|██████████| 5/5 [00:08<00:00,  1.65s/it]\n",
            "                 Class     Images  Instances      Box(P          R      mAP50  mAP50-95): 100%|██████████| 3/3 [00:02<00:00,  1.11it/s]"
          ]
        },
        {
          "output_type": "stream",
          "name": "stdout",
          "text": [
            "                   all         20         20    0.00333          1      0.666      0.546\n"
          ]
        },
        {
          "output_type": "stream",
          "name": "stderr",
          "text": [
            "\n"
          ]
        },
        {
          "output_type": "stream",
          "name": "stdout",
          "text": [
            "\n",
            "      Epoch    GPU_mem   box_loss   cls_loss   dfl_loss  Instances       Size\n"
          ]
        },
        {
          "output_type": "stream",
          "name": "stderr",
          "text": [
            "      5/200         0G     0.7233      2.168      1.182          7        416: 100%|██████████| 5/5 [00:08<00:00,  1.67s/it]\n",
            "                 Class     Images  Instances      Box(P          R      mAP50  mAP50-95): 100%|██████████| 3/3 [00:02<00:00,  1.11it/s]"
          ]
        },
        {
          "output_type": "stream",
          "name": "stdout",
          "text": [
            "                   all         20         20    0.00337          1      0.663      0.536\n"
          ]
        },
        {
          "output_type": "stream",
          "name": "stderr",
          "text": [
            "\n"
          ]
        },
        {
          "output_type": "stream",
          "name": "stdout",
          "text": [
            "\n",
            "      Epoch    GPU_mem   box_loss   cls_loss   dfl_loss  Instances       Size\n"
          ]
        },
        {
          "output_type": "stream",
          "name": "stderr",
          "text": [
            "      6/200         0G      0.886       1.96       1.28         11        416: 100%|██████████| 5/5 [00:07<00:00,  1.48s/it]\n",
            "                 Class     Images  Instances      Box(P          R      mAP50  mAP50-95): 100%|██████████| 3/3 [00:03<00:00,  1.26s/it]"
          ]
        },
        {
          "output_type": "stream",
          "name": "stdout",
          "text": [
            "                   all         20         20      0.498      0.997       0.61      0.486\n"
          ]
        },
        {
          "output_type": "stream",
          "name": "stderr",
          "text": [
            "\n"
          ]
        },
        {
          "output_type": "stream",
          "name": "stdout",
          "text": [
            "\n",
            "      Epoch    GPU_mem   box_loss   cls_loss   dfl_loss  Instances       Size\n"
          ]
        },
        {
          "output_type": "stream",
          "name": "stderr",
          "text": [
            "      7/200         0G     0.7815      1.725      1.195         10        416: 100%|██████████| 5/5 [00:07<00:00,  1.42s/it]\n",
            "                 Class     Images  Instances      Box(P          R      mAP50  mAP50-95): 100%|██████████| 3/3 [00:03<00:00,  1.04s/it]"
          ]
        },
        {
          "output_type": "stream",
          "name": "stdout",
          "text": [
            "                   all         20         20      0.528      0.809      0.649      0.521\n"
          ]
        },
        {
          "output_type": "stream",
          "name": "stderr",
          "text": [
            "\n"
          ]
        },
        {
          "output_type": "stream",
          "name": "stdout",
          "text": [
            "\n",
            "      Epoch    GPU_mem   box_loss   cls_loss   dfl_loss  Instances       Size\n"
          ]
        },
        {
          "output_type": "stream",
          "name": "stderr",
          "text": [
            "      8/200         0G     0.8229      1.704      1.213          8        416: 100%|██████████| 5/5 [00:07<00:00,  1.50s/it]\n",
            "                 Class     Images  Instances      Box(P          R      mAP50  mAP50-95): 100%|██████████| 3/3 [00:02<00:00,  1.09it/s]"
          ]
        },
        {
          "output_type": "stream",
          "name": "stdout",
          "text": [
            "                   all         20         20      0.528      0.809      0.649      0.521\n"
          ]
        },
        {
          "output_type": "stream",
          "name": "stderr",
          "text": [
            "\n"
          ]
        },
        {
          "output_type": "stream",
          "name": "stdout",
          "text": [
            "\n",
            "      Epoch    GPU_mem   box_loss   cls_loss   dfl_loss  Instances       Size\n"
          ]
        },
        {
          "output_type": "stream",
          "name": "stderr",
          "text": [
            "      9/200         0G      0.938      1.748      1.463          9        416: 100%|██████████| 5/5 [00:08<00:00,  1.65s/it]\n",
            "                 Class     Images  Instances      Box(P          R      mAP50  mAP50-95): 100%|██████████| 3/3 [00:02<00:00,  1.09it/s]"
          ]
        },
        {
          "output_type": "stream",
          "name": "stdout",
          "text": [
            "                   all         20         20      0.455       0.95      0.697      0.555\n"
          ]
        },
        {
          "output_type": "stream",
          "name": "stderr",
          "text": [
            "\n"
          ]
        },
        {
          "output_type": "stream",
          "name": "stdout",
          "text": [
            "\n",
            "      Epoch    GPU_mem   box_loss   cls_loss   dfl_loss  Instances       Size\n"
          ]
        },
        {
          "output_type": "stream",
          "name": "stderr",
          "text": [
            "     10/200         0G     0.9559      1.541      1.328         12        416: 100%|██████████| 5/5 [00:08<00:00,  1.78s/it]\n",
            "                 Class     Images  Instances      Box(P          R      mAP50  mAP50-95): 100%|██████████| 3/3 [00:03<00:00,  1.12s/it]"
          ]
        },
        {
          "output_type": "stream",
          "name": "stdout",
          "text": [
            "                   all         20         20      0.529      0.758      0.696      0.561\n"
          ]
        },
        {
          "output_type": "stream",
          "name": "stderr",
          "text": [
            "\n"
          ]
        },
        {
          "output_type": "stream",
          "name": "stdout",
          "text": [
            "\n",
            "      Epoch    GPU_mem   box_loss   cls_loss   dfl_loss  Instances       Size\n"
          ]
        },
        {
          "output_type": "stream",
          "name": "stderr",
          "text": [
            "     11/200         0G     0.8377      1.611      1.243         10        416: 100%|██████████| 5/5 [00:08<00:00,  1.63s/it]\n",
            "                 Class     Images  Instances      Box(P          R      mAP50  mAP50-95): 100%|██████████| 3/3 [00:02<00:00,  1.08it/s]"
          ]
        },
        {
          "output_type": "stream",
          "name": "stdout",
          "text": [
            "                   all         20         20      0.529      0.758      0.696      0.561\n"
          ]
        },
        {
          "output_type": "stream",
          "name": "stderr",
          "text": [
            "\n"
          ]
        },
        {
          "output_type": "stream",
          "name": "stdout",
          "text": [
            "\n",
            "      Epoch    GPU_mem   box_loss   cls_loss   dfl_loss  Instances       Size\n"
          ]
        },
        {
          "output_type": "stream",
          "name": "stderr",
          "text": [
            "     12/200         0G     0.7885      1.585      1.169          9        416: 100%|██████████| 5/5 [00:08<00:00,  1.65s/it]\n",
            "                 Class     Images  Instances      Box(P          R      mAP50  mAP50-95): 100%|██████████| 3/3 [00:02<00:00,  1.09it/s]"
          ]
        },
        {
          "output_type": "stream",
          "name": "stdout",
          "text": [
            "                   all         20         20      0.729        0.7      0.796      0.623\n"
          ]
        },
        {
          "output_type": "stream",
          "name": "stderr",
          "text": [
            "\n"
          ]
        },
        {
          "output_type": "stream",
          "name": "stdout",
          "text": [
            "\n",
            "      Epoch    GPU_mem   box_loss   cls_loss   dfl_loss  Instances       Size\n"
          ]
        },
        {
          "output_type": "stream",
          "name": "stderr",
          "text": [
            "     13/200         0G      0.872      1.337      1.221         11        416: 100%|██████████| 5/5 [00:07<00:00,  1.48s/it]\n",
            "                 Class     Images  Instances      Box(P          R      mAP50  mAP50-95): 100%|██████████| 3/3 [00:03<00:00,  1.12s/it]"
          ]
        },
        {
          "output_type": "stream",
          "name": "stdout",
          "text": [
            "                   all         20         20      0.729        0.7      0.796      0.623\n"
          ]
        },
        {
          "output_type": "stream",
          "name": "stderr",
          "text": [
            "\n"
          ]
        },
        {
          "output_type": "stream",
          "name": "stdout",
          "text": [
            "\n",
            "      Epoch    GPU_mem   box_loss   cls_loss   dfl_loss  Instances       Size\n"
          ]
        },
        {
          "output_type": "stream",
          "name": "stderr",
          "text": [
            "     14/200         0G     0.9191      1.501      1.237         13        416: 100%|██████████| 5/5 [00:07<00:00,  1.46s/it]\n",
            "                 Class     Images  Instances      Box(P          R      mAP50  mAP50-95): 100%|██████████| 3/3 [00:03<00:00,  1.20s/it]"
          ]
        },
        {
          "output_type": "stream",
          "name": "stdout",
          "text": [
            "                   all         20         20      0.729        0.7      0.796      0.623\n"
          ]
        },
        {
          "output_type": "stream",
          "name": "stderr",
          "text": [
            "\n"
          ]
        },
        {
          "output_type": "stream",
          "name": "stdout",
          "text": [
            "\n",
            "      Epoch    GPU_mem   box_loss   cls_loss   dfl_loss  Instances       Size\n"
          ]
        },
        {
          "output_type": "stream",
          "name": "stderr",
          "text": [
            "     15/200         0G     0.8208      1.358      1.248          7        416: 100%|██████████| 5/5 [00:07<00:00,  1.49s/it]\n",
            "                 Class     Images  Instances      Box(P          R      mAP50  mAP50-95): 100%|██████████| 3/3 [00:02<00:00,  1.11it/s]"
          ]
        },
        {
          "output_type": "stream",
          "name": "stdout",
          "text": [
            "                   all         20         20      0.793      0.771      0.851      0.659\n"
          ]
        },
        {
          "output_type": "stream",
          "name": "stderr",
          "text": [
            "\n"
          ]
        },
        {
          "output_type": "stream",
          "name": "stdout",
          "text": [
            "\n",
            "      Epoch    GPU_mem   box_loss   cls_loss   dfl_loss  Instances       Size\n"
          ]
        },
        {
          "output_type": "stream",
          "name": "stderr",
          "text": [
            "     16/200         0G     0.8885      1.326      1.262          9        416: 100%|██████████| 5/5 [00:08<00:00,  1.66s/it]\n",
            "                 Class     Images  Instances      Box(P          R      mAP50  mAP50-95): 100%|██████████| 3/3 [00:02<00:00,  1.09it/s]"
          ]
        },
        {
          "output_type": "stream",
          "name": "stdout",
          "text": [
            "                   all         20         20      0.793      0.771      0.851      0.659\n"
          ]
        },
        {
          "output_type": "stream",
          "name": "stderr",
          "text": [
            "\n"
          ]
        },
        {
          "output_type": "stream",
          "name": "stdout",
          "text": [
            "\n",
            "      Epoch    GPU_mem   box_loss   cls_loss   dfl_loss  Instances       Size\n"
          ]
        },
        {
          "output_type": "stream",
          "name": "stderr",
          "text": [
            "     17/200         0G     0.9418      1.274      1.255         14        416: 100%|██████████| 5/5 [00:08<00:00,  1.66s/it]\n",
            "                 Class     Images  Instances      Box(P          R      mAP50  mAP50-95): 100%|██████████| 3/3 [00:02<00:00,  1.10it/s]"
          ]
        },
        {
          "output_type": "stream",
          "name": "stdout",
          "text": [
            "                   all         20         20      0.793      0.771      0.851      0.659\n"
          ]
        },
        {
          "output_type": "stream",
          "name": "stderr",
          "text": [
            "\n"
          ]
        },
        {
          "output_type": "stream",
          "name": "stdout",
          "text": [
            "\n",
            "      Epoch    GPU_mem   box_loss   cls_loss   dfl_loss  Instances       Size\n"
          ]
        },
        {
          "output_type": "stream",
          "name": "stderr",
          "text": [
            "     18/200         0G     0.9536       1.47       1.36         10        416: 100%|██████████| 5/5 [00:08<00:00,  1.65s/it]\n",
            "                 Class     Images  Instances      Box(P          R      mAP50  mAP50-95): 100%|██████████| 3/3 [00:02<00:00,  1.11it/s]"
          ]
        },
        {
          "output_type": "stream",
          "name": "stdout",
          "text": [
            "                   all         20         20       0.77       0.85      0.838      0.667\n"
          ]
        },
        {
          "output_type": "stream",
          "name": "stderr",
          "text": [
            "\n"
          ]
        },
        {
          "output_type": "stream",
          "name": "stdout",
          "text": [
            "\n",
            "      Epoch    GPU_mem   box_loss   cls_loss   dfl_loss  Instances       Size\n"
          ]
        },
        {
          "output_type": "stream",
          "name": "stderr",
          "text": [
            "     19/200         0G     0.7301      1.171      1.127         15        416: 100%|██████████| 5/5 [00:08<00:00,  1.62s/it]\n",
            "                 Class     Images  Instances      Box(P          R      mAP50  mAP50-95): 100%|██████████| 3/3 [00:02<00:00,  1.05it/s]"
          ]
        },
        {
          "output_type": "stream",
          "name": "stdout",
          "text": [
            "                   all         20         20       0.77       0.85      0.838      0.667\n"
          ]
        },
        {
          "output_type": "stream",
          "name": "stderr",
          "text": [
            "\n"
          ]
        },
        {
          "output_type": "stream",
          "name": "stdout",
          "text": [
            "\n",
            "      Epoch    GPU_mem   box_loss   cls_loss   dfl_loss  Instances       Size\n"
          ]
        },
        {
          "output_type": "stream",
          "name": "stderr",
          "text": [
            "     20/200         0G     0.8334      1.154      1.264         12        416: 100%|██████████| 5/5 [00:07<00:00,  1.50s/it]\n",
            "                 Class     Images  Instances      Box(P          R      mAP50  mAP50-95): 100%|██████████| 3/3 [00:03<00:00,  1.17s/it]"
          ]
        },
        {
          "output_type": "stream",
          "name": "stdout",
          "text": [
            "                   all         20         20       0.77       0.85      0.838      0.667\n"
          ]
        },
        {
          "output_type": "stream",
          "name": "stderr",
          "text": [
            "\n"
          ]
        },
        {
          "output_type": "stream",
          "name": "stdout",
          "text": [
            "\n",
            "      Epoch    GPU_mem   box_loss   cls_loss   dfl_loss  Instances       Size\n"
          ]
        },
        {
          "output_type": "stream",
          "name": "stderr",
          "text": [
            "     21/200         0G     0.9812      1.362      1.314          9        416: 100%|██████████| 5/5 [00:07<00:00,  1.53s/it]\n",
            "                 Class     Images  Instances      Box(P          R      mAP50  mAP50-95): 100%|██████████| 3/3 [00:03<00:00,  1.11s/it]"
          ]
        },
        {
          "output_type": "stream",
          "name": "stdout",
          "text": [
            "                   all         20         20      0.628      0.824      0.853      0.551\n"
          ]
        },
        {
          "output_type": "stream",
          "name": "stderr",
          "text": [
            "\n"
          ]
        },
        {
          "output_type": "stream",
          "name": "stdout",
          "text": [
            "\n",
            "      Epoch    GPU_mem   box_loss   cls_loss   dfl_loss  Instances       Size\n"
          ]
        },
        {
          "output_type": "stream",
          "name": "stderr",
          "text": [
            "     22/200         0G     0.8852      1.127      1.221         14        416: 100%|██████████| 5/5 [00:07<00:00,  1.52s/it]\n",
            "                 Class     Images  Instances      Box(P          R      mAP50  mAP50-95): 100%|██████████| 3/3 [00:02<00:00,  1.12it/s]"
          ]
        },
        {
          "output_type": "stream",
          "name": "stdout",
          "text": [
            "                   all         20         20      0.628      0.824      0.853      0.551\n"
          ]
        },
        {
          "output_type": "stream",
          "name": "stderr",
          "text": [
            "\n"
          ]
        },
        {
          "output_type": "stream",
          "name": "stdout",
          "text": [
            "\n",
            "      Epoch    GPU_mem   box_loss   cls_loss   dfl_loss  Instances       Size\n"
          ]
        },
        {
          "output_type": "stream",
          "name": "stderr",
          "text": [
            "     23/200         0G     0.7134      1.172      1.162         12        416: 100%|██████████| 5/5 [00:08<00:00,  1.63s/it]\n",
            "                 Class     Images  Instances      Box(P          R      mAP50  mAP50-95): 100%|██████████| 3/3 [00:02<00:00,  1.14it/s]"
          ]
        },
        {
          "output_type": "stream",
          "name": "stdout",
          "text": [
            "                   all         20         20      0.628      0.824      0.853      0.551\n"
          ]
        },
        {
          "output_type": "stream",
          "name": "stderr",
          "text": [
            "\n"
          ]
        },
        {
          "output_type": "stream",
          "name": "stdout",
          "text": [
            "\n",
            "      Epoch    GPU_mem   box_loss   cls_loss   dfl_loss  Instances       Size\n"
          ]
        },
        {
          "output_type": "stream",
          "name": "stderr",
          "text": [
            "     24/200         0G     0.9021      1.274      1.237         10        416: 100%|██████████| 5/5 [00:08<00:00,  1.69s/it]\n",
            "                 Class     Images  Instances      Box(P          R      mAP50  mAP50-95): 100%|██████████| 3/3 [00:02<00:00,  1.13it/s]"
          ]
        },
        {
          "output_type": "stream",
          "name": "stdout",
          "text": [
            "                   all         20         20      0.791      0.805      0.995      0.798\n"
          ]
        },
        {
          "output_type": "stream",
          "name": "stderr",
          "text": [
            "\n"
          ]
        },
        {
          "output_type": "stream",
          "name": "stdout",
          "text": [
            "\n",
            "      Epoch    GPU_mem   box_loss   cls_loss   dfl_loss  Instances       Size\n"
          ]
        },
        {
          "output_type": "stream",
          "name": "stderr",
          "text": [
            "     25/200         0G      0.974      1.279      1.327          6        416: 100%|██████████| 5/5 [00:10<00:00,  2.01s/it]\n",
            "                 Class     Images  Instances      Box(P          R      mAP50  mAP50-95): 100%|██████████| 3/3 [00:02<00:00,  1.12it/s]"
          ]
        },
        {
          "output_type": "stream",
          "name": "stdout",
          "text": [
            "                   all         20         20      0.791      0.805      0.995      0.798\n"
          ]
        },
        {
          "output_type": "stream",
          "name": "stderr",
          "text": [
            "\n"
          ]
        },
        {
          "output_type": "stream",
          "name": "stdout",
          "text": [
            "\n",
            "      Epoch    GPU_mem   box_loss   cls_loss   dfl_loss  Instances       Size\n"
          ]
        },
        {
          "output_type": "stream",
          "name": "stderr",
          "text": [
            "     26/200         0G      0.717      1.101      1.129          8        416: 100%|██████████| 5/5 [00:08<00:00,  1.68s/it]\n",
            "                 Class     Images  Instances      Box(P          R      mAP50  mAP50-95): 100%|██████████| 3/3 [00:02<00:00,  1.09it/s]"
          ]
        },
        {
          "output_type": "stream",
          "name": "stdout",
          "text": [
            "                   all         20         20      0.791      0.805      0.995      0.798\n"
          ]
        },
        {
          "output_type": "stream",
          "name": "stderr",
          "text": [
            "\n"
          ]
        },
        {
          "output_type": "stream",
          "name": "stdout",
          "text": [
            "\n",
            "      Epoch    GPU_mem   box_loss   cls_loss   dfl_loss  Instances       Size\n"
          ]
        },
        {
          "output_type": "stream",
          "name": "stderr",
          "text": [
            "     27/200         0G     0.8352      1.183      1.211          9        416: 100%|██████████| 5/5 [00:07<00:00,  1.50s/it]\n",
            "                 Class     Images  Instances      Box(P          R      mAP50  mAP50-95): 100%|██████████| 3/3 [00:03<00:00,  1.13s/it]"
          ]
        },
        {
          "output_type": "stream",
          "name": "stdout",
          "text": [
            "                   all         20         20      0.642      0.893      0.774      0.649\n"
          ]
        },
        {
          "output_type": "stream",
          "name": "stderr",
          "text": [
            "\n"
          ]
        },
        {
          "output_type": "stream",
          "name": "stdout",
          "text": [
            "\n",
            "      Epoch    GPU_mem   box_loss   cls_loss   dfl_loss  Instances       Size\n"
          ]
        },
        {
          "output_type": "stream",
          "name": "stderr",
          "text": [
            "     28/200         0G     0.8286      1.125      1.272         12        416: 100%|██████████| 5/5 [00:07<00:00,  1.44s/it]\n",
            "                 Class     Images  Instances      Box(P          R      mAP50  mAP50-95): 100%|██████████| 3/3 [00:03<00:00,  1.10s/it]"
          ]
        },
        {
          "output_type": "stream",
          "name": "stdout",
          "text": [
            "                   all         20         20      0.642      0.893      0.774      0.649\n"
          ]
        },
        {
          "output_type": "stream",
          "name": "stderr",
          "text": [
            "\n"
          ]
        },
        {
          "output_type": "stream",
          "name": "stdout",
          "text": [
            "\n",
            "      Epoch    GPU_mem   box_loss   cls_loss   dfl_loss  Instances       Size\n"
          ]
        },
        {
          "output_type": "stream",
          "name": "stderr",
          "text": [
            "     29/200         0G     0.8863      1.134      1.205          9        416: 100%|██████████| 5/5 [00:07<00:00,  1.48s/it]\n",
            "                 Class     Images  Instances      Box(P          R      mAP50  mAP50-95): 100%|██████████| 3/3 [00:02<00:00,  1.10it/s]"
          ]
        },
        {
          "output_type": "stream",
          "name": "stdout",
          "text": [
            "                   all         20         20      0.642      0.893      0.774      0.649\n"
          ]
        },
        {
          "output_type": "stream",
          "name": "stderr",
          "text": [
            "\n"
          ]
        },
        {
          "output_type": "stream",
          "name": "stdout",
          "text": [
            "\n",
            "      Epoch    GPU_mem   box_loss   cls_loss   dfl_loss  Instances       Size\n"
          ]
        },
        {
          "output_type": "stream",
          "name": "stderr",
          "text": [
            "     30/200         0G     0.8811      1.184      1.303         10        416: 100%|██████████| 5/5 [00:08<00:00,  1.65s/it]\n",
            "                 Class     Images  Instances      Box(P          R      mAP50  mAP50-95): 100%|██████████| 3/3 [00:02<00:00,  1.07it/s]"
          ]
        },
        {
          "output_type": "stream",
          "name": "stdout",
          "text": [
            "                   all         20         20      0.712      0.982      0.912       0.76\n"
          ]
        },
        {
          "output_type": "stream",
          "name": "stderr",
          "text": [
            "\n"
          ]
        },
        {
          "output_type": "stream",
          "name": "stdout",
          "text": [
            "\n",
            "      Epoch    GPU_mem   box_loss   cls_loss   dfl_loss  Instances       Size\n"
          ]
        },
        {
          "output_type": "stream",
          "name": "stderr",
          "text": [
            "     31/200         0G     0.8216      1.069      1.154         16        416: 100%|██████████| 5/5 [00:08<00:00,  1.79s/it]\n",
            "                 Class     Images  Instances      Box(P          R      mAP50  mAP50-95): 100%|██████████| 3/3 [00:03<00:00,  1.05s/it]"
          ]
        },
        {
          "output_type": "stream",
          "name": "stdout",
          "text": [
            "                   all         20         20      0.712      0.982      0.912       0.76\n"
          ]
        },
        {
          "output_type": "stream",
          "name": "stderr",
          "text": [
            "\n"
          ]
        },
        {
          "output_type": "stream",
          "name": "stdout",
          "text": [
            "\n",
            "      Epoch    GPU_mem   box_loss   cls_loss   dfl_loss  Instances       Size\n"
          ]
        },
        {
          "output_type": "stream",
          "name": "stderr",
          "text": [
            "     32/200         0G     0.7905      1.082      1.221         11        416: 100%|██████████| 5/5 [00:08<00:00,  1.64s/it]\n",
            "                 Class     Images  Instances      Box(P          R      mAP50  mAP50-95): 100%|██████████| 3/3 [00:02<00:00,  1.09it/s]"
          ]
        },
        {
          "output_type": "stream",
          "name": "stdout",
          "text": [
            "                   all         20         20      0.712      0.982      0.912       0.76\n"
          ]
        },
        {
          "output_type": "stream",
          "name": "stderr",
          "text": [
            "\n"
          ]
        },
        {
          "output_type": "stream",
          "name": "stdout",
          "text": [
            "\n",
            "      Epoch    GPU_mem   box_loss   cls_loss   dfl_loss  Instances       Size\n"
          ]
        },
        {
          "output_type": "stream",
          "name": "stderr",
          "text": [
            "     33/200         0G     0.9307      1.107      1.196         11        416: 100%|██████████| 5/5 [00:08<00:00,  1.65s/it]\n",
            "                 Class     Images  Instances      Box(P          R      mAP50  mAP50-95): 100%|██████████| 3/3 [00:02<00:00,  1.08it/s]"
          ]
        },
        {
          "output_type": "stream",
          "name": "stdout",
          "text": [
            "                   all         20         20      0.712      0.982      0.912       0.76\n"
          ]
        },
        {
          "output_type": "stream",
          "name": "stderr",
          "text": [
            "\n"
          ]
        },
        {
          "output_type": "stream",
          "name": "stdout",
          "text": [
            "\n",
            "      Epoch    GPU_mem   box_loss   cls_loss   dfl_loss  Instances       Size\n"
          ]
        },
        {
          "output_type": "stream",
          "name": "stderr",
          "text": [
            "     34/200         0G     0.9006      1.051      1.238         10        416: 100%|██████████| 5/5 [00:07<00:00,  1.48s/it]\n",
            "                 Class     Images  Instances      Box(P          R      mAP50  mAP50-95): 100%|██████████| 3/3 [00:03<00:00,  1.19s/it]"
          ]
        },
        {
          "output_type": "stream",
          "name": "stdout",
          "text": [
            "                   all         20         20      0.974          1      0.995      0.831\n"
          ]
        },
        {
          "output_type": "stream",
          "name": "stderr",
          "text": [
            "\n"
          ]
        },
        {
          "output_type": "stream",
          "name": "stdout",
          "text": [
            "\n",
            "      Epoch    GPU_mem   box_loss   cls_loss   dfl_loss  Instances       Size\n"
          ]
        },
        {
          "output_type": "stream",
          "name": "stderr",
          "text": [
            "     35/200         0G     0.8686      1.025      1.187         11        416: 100%|██████████| 5/5 [00:07<00:00,  1.49s/it]\n",
            "                 Class     Images  Instances      Box(P          R      mAP50  mAP50-95): 100%|██████████| 3/3 [00:03<00:00,  1.28s/it]"
          ]
        },
        {
          "output_type": "stream",
          "name": "stdout",
          "text": [
            "                   all         20         20      0.974          1      0.995      0.831\n"
          ]
        },
        {
          "output_type": "stream",
          "name": "stderr",
          "text": [
            "\n"
          ]
        },
        {
          "output_type": "stream",
          "name": "stdout",
          "text": [
            "\n",
            "      Epoch    GPU_mem   box_loss   cls_loss   dfl_loss  Instances       Size\n"
          ]
        },
        {
          "output_type": "stream",
          "name": "stderr",
          "text": [
            "     36/200         0G     0.9135      1.203      1.284          6        416: 100%|██████████| 5/5 [00:07<00:00,  1.42s/it]\n",
            "                 Class     Images  Instances      Box(P          R      mAP50  mAP50-95): 100%|██████████| 3/3 [00:02<00:00,  1.04it/s]"
          ]
        },
        {
          "output_type": "stream",
          "name": "stdout",
          "text": [
            "                   all         20         20      0.974          1      0.995      0.831\n"
          ]
        },
        {
          "output_type": "stream",
          "name": "stderr",
          "text": [
            "\n"
          ]
        },
        {
          "output_type": "stream",
          "name": "stdout",
          "text": [
            "\n",
            "      Epoch    GPU_mem   box_loss   cls_loss   dfl_loss  Instances       Size\n"
          ]
        },
        {
          "output_type": "stream",
          "name": "stderr",
          "text": [
            "     37/200         0G      0.928      1.051      1.208         12        416: 100%|██████████| 5/5 [00:08<00:00,  1.60s/it]\n",
            "                 Class     Images  Instances      Box(P          R      mAP50  mAP50-95): 100%|██████████| 3/3 [00:02<00:00,  1.09it/s]"
          ]
        },
        {
          "output_type": "stream",
          "name": "stdout",
          "text": [
            "                   all         20         20      0.942          1      0.981      0.819\n"
          ]
        },
        {
          "output_type": "stream",
          "name": "stderr",
          "text": [
            "\n"
          ]
        },
        {
          "output_type": "stream",
          "name": "stdout",
          "text": [
            "\n",
            "      Epoch    GPU_mem   box_loss   cls_loss   dfl_loss  Instances       Size\n"
          ]
        },
        {
          "output_type": "stream",
          "name": "stderr",
          "text": [
            "     38/200         0G     0.8349      1.075      1.141         10        416: 100%|██████████| 5/5 [00:08<00:00,  1.79s/it]\n",
            "                 Class     Images  Instances      Box(P          R      mAP50  mAP50-95): 100%|██████████| 3/3 [00:02<00:00,  1.09it/s]"
          ]
        },
        {
          "output_type": "stream",
          "name": "stdout",
          "text": [
            "                   all         20         20      0.942          1      0.981      0.819\n"
          ]
        },
        {
          "output_type": "stream",
          "name": "stderr",
          "text": [
            "\n"
          ]
        },
        {
          "output_type": "stream",
          "name": "stdout",
          "text": [
            "\n",
            "      Epoch    GPU_mem   box_loss   cls_loss   dfl_loss  Instances       Size\n"
          ]
        },
        {
          "output_type": "stream",
          "name": "stderr",
          "text": [
            "     39/200         0G     0.8463      1.013      1.277          9        416: 100%|██████████| 5/5 [00:08<00:00,  1.64s/it]\n",
            "                 Class     Images  Instances      Box(P          R      mAP50  mAP50-95): 100%|██████████| 3/3 [00:05<00:00,  1.72s/it]"
          ]
        },
        {
          "output_type": "stream",
          "name": "stdout",
          "text": [
            "                   all         20         20      0.942          1      0.981      0.819\n"
          ]
        },
        {
          "output_type": "stream",
          "name": "stderr",
          "text": [
            "\n"
          ]
        },
        {
          "output_type": "stream",
          "name": "stdout",
          "text": [
            "\n",
            "      Epoch    GPU_mem   box_loss   cls_loss   dfl_loss  Instances       Size\n"
          ]
        },
        {
          "output_type": "stream",
          "name": "stderr",
          "text": [
            "     40/200         0G     0.8694      1.038      1.158         11        416: 100%|██████████| 5/5 [00:08<00:00,  1.67s/it]\n",
            "                 Class     Images  Instances      Box(P          R      mAP50  mAP50-95): 100%|██████████| 3/3 [00:02<00:00,  1.07it/s]"
          ]
        },
        {
          "output_type": "stream",
          "name": "stdout",
          "text": [
            "                   all         20         20      0.928       0.95      0.972       0.78\n"
          ]
        },
        {
          "output_type": "stream",
          "name": "stderr",
          "text": [
            "\n"
          ]
        },
        {
          "output_type": "stream",
          "name": "stdout",
          "text": [
            "\n",
            "      Epoch    GPU_mem   box_loss   cls_loss   dfl_loss  Instances       Size\n"
          ]
        },
        {
          "output_type": "stream",
          "name": "stderr",
          "text": [
            "     41/200         0G     0.8003      1.178      1.218         10        416: 100%|██████████| 5/5 [00:08<00:00,  1.65s/it]\n",
            "                 Class     Images  Instances      Box(P          R      mAP50  mAP50-95): 100%|██████████| 3/3 [00:02<00:00,  1.06it/s]"
          ]
        },
        {
          "output_type": "stream",
          "name": "stdout",
          "text": [
            "                   all         20         20      0.928       0.95      0.972       0.78\n"
          ]
        },
        {
          "output_type": "stream",
          "name": "stderr",
          "text": [
            "\n"
          ]
        },
        {
          "output_type": "stream",
          "name": "stdout",
          "text": [
            "\n",
            "      Epoch    GPU_mem   box_loss   cls_loss   dfl_loss  Instances       Size\n"
          ]
        },
        {
          "output_type": "stream",
          "name": "stderr",
          "text": [
            "     42/200         0G     0.8849     0.9821      1.192          7        416: 100%|██████████| 5/5 [00:08<00:00,  1.64s/it]\n",
            "                 Class     Images  Instances      Box(P          R      mAP50  mAP50-95): 100%|██████████| 3/3 [00:02<00:00,  1.06it/s]"
          ]
        },
        {
          "output_type": "stream",
          "name": "stdout",
          "text": [
            "                   all         20         20      0.928       0.95      0.972       0.78\n"
          ]
        },
        {
          "output_type": "stream",
          "name": "stderr",
          "text": [
            "\n"
          ]
        },
        {
          "output_type": "stream",
          "name": "stdout",
          "text": [
            "\n",
            "      Epoch    GPU_mem   box_loss   cls_loss   dfl_loss  Instances       Size\n"
          ]
        },
        {
          "output_type": "stream",
          "name": "stderr",
          "text": [
            "     43/200         0G     0.8135      1.003      1.164          9        416: 100%|██████████| 5/5 [00:07<00:00,  1.52s/it]\n",
            "                 Class     Images  Instances      Box(P          R      mAP50  mAP50-95): 100%|██████████| 3/3 [00:03<00:00,  1.16s/it]"
          ]
        },
        {
          "output_type": "stream",
          "name": "stdout",
          "text": [
            "                   all         20         20      0.987          1      0.995      0.794\n"
          ]
        },
        {
          "output_type": "stream",
          "name": "stderr",
          "text": [
            "\n"
          ]
        },
        {
          "output_type": "stream",
          "name": "stdout",
          "text": [
            "\n",
            "      Epoch    GPU_mem   box_loss   cls_loss   dfl_loss  Instances       Size\n"
          ]
        },
        {
          "output_type": "stream",
          "name": "stderr",
          "text": [
            "     44/200         0G     0.8181      1.009      1.199         10        416: 100%|██████████| 5/5 [00:07<00:00,  1.47s/it]\n",
            "                 Class     Images  Instances      Box(P          R      mAP50  mAP50-95): 100%|██████████| 3/3 [00:03<00:00,  1.13s/it]"
          ]
        },
        {
          "output_type": "stream",
          "name": "stdout",
          "text": [
            "                   all         20         20      0.987          1      0.995      0.794\n"
          ]
        },
        {
          "output_type": "stream",
          "name": "stderr",
          "text": [
            "\n"
          ]
        },
        {
          "output_type": "stream",
          "name": "stdout",
          "text": [
            "\n",
            "      Epoch    GPU_mem   box_loss   cls_loss   dfl_loss  Instances       Size\n"
          ]
        },
        {
          "output_type": "stream",
          "name": "stderr",
          "text": [
            "     45/200         0G     0.8356      1.042      1.194         10        416: 100%|██████████| 5/5 [00:07<00:00,  1.49s/it]\n",
            "                 Class     Images  Instances      Box(P          R      mAP50  mAP50-95): 100%|██████████| 3/3 [00:02<00:00,  1.12it/s]"
          ]
        },
        {
          "output_type": "stream",
          "name": "stdout",
          "text": [
            "                   all         20         20      0.987          1      0.995      0.794\n"
          ]
        },
        {
          "output_type": "stream",
          "name": "stderr",
          "text": [
            "\n"
          ]
        },
        {
          "output_type": "stream",
          "name": "stdout",
          "text": [
            "\n",
            "      Epoch    GPU_mem   box_loss   cls_loss   dfl_loss  Instances       Size\n"
          ]
        },
        {
          "output_type": "stream",
          "name": "stderr",
          "text": [
            "     46/200         0G     0.8322      1.136      1.151          8        416: 100%|██████████| 5/5 [00:08<00:00,  1.65s/it]\n",
            "                 Class     Images  Instances      Box(P          R      mAP50  mAP50-95): 100%|██████████| 3/3 [00:02<00:00,  1.13it/s]"
          ]
        },
        {
          "output_type": "stream",
          "name": "stdout",
          "text": [
            "                   all         20         20      0.989          1      0.995      0.831\n"
          ]
        },
        {
          "output_type": "stream",
          "name": "stderr",
          "text": [
            "\n"
          ]
        },
        {
          "output_type": "stream",
          "name": "stdout",
          "text": [
            "\n",
            "      Epoch    GPU_mem   box_loss   cls_loss   dfl_loss  Instances       Size\n"
          ]
        },
        {
          "output_type": "stream",
          "name": "stderr",
          "text": [
            "     47/200         0G     0.7319     0.9534      1.094         14        416: 100%|██████████| 5/5 [00:08<00:00,  1.65s/it]\n",
            "                 Class     Images  Instances      Box(P          R      mAP50  mAP50-95): 100%|██████████| 3/3 [00:02<00:00,  1.09it/s]"
          ]
        },
        {
          "output_type": "stream",
          "name": "stdout",
          "text": [
            "                   all         20         20      0.989          1      0.995      0.831\n"
          ]
        },
        {
          "output_type": "stream",
          "name": "stderr",
          "text": [
            "\n"
          ]
        },
        {
          "output_type": "stream",
          "name": "stdout",
          "text": [
            "\n",
            "      Epoch    GPU_mem   box_loss   cls_loss   dfl_loss  Instances       Size\n"
          ]
        },
        {
          "output_type": "stream",
          "name": "stderr",
          "text": [
            "     48/200         0G     0.6503     0.8563      1.058          6        416: 100%|██████████| 5/5 [00:08<00:00,  1.62s/it]\n",
            "                 Class     Images  Instances      Box(P          R      mAP50  mAP50-95): 100%|██████████| 3/3 [00:02<00:00,  1.09it/s]"
          ]
        },
        {
          "output_type": "stream",
          "name": "stdout",
          "text": [
            "                   all         20         20      0.989          1      0.995      0.831\n"
          ]
        },
        {
          "output_type": "stream",
          "name": "stderr",
          "text": [
            "\n"
          ]
        },
        {
          "output_type": "stream",
          "name": "stdout",
          "text": [
            "\n",
            "      Epoch    GPU_mem   box_loss   cls_loss   dfl_loss  Instances       Size\n"
          ]
        },
        {
          "output_type": "stream",
          "name": "stderr",
          "text": [
            "     49/200         0G     0.7959       1.03      1.205         14        416: 100%|██████████| 5/5 [00:07<00:00,  1.58s/it]\n",
            "                 Class     Images  Instances      Box(P          R      mAP50  mAP50-95): 100%|██████████| 3/3 [00:03<00:00,  1.03s/it]"
          ]
        },
        {
          "output_type": "stream",
          "name": "stdout",
          "text": [
            "                   all         20         20      0.989          1      0.995      0.831\n"
          ]
        },
        {
          "output_type": "stream",
          "name": "stderr",
          "text": [
            "\n"
          ]
        },
        {
          "output_type": "stream",
          "name": "stdout",
          "text": [
            "\n",
            "      Epoch    GPU_mem   box_loss   cls_loss   dfl_loss  Instances       Size\n"
          ]
        },
        {
          "output_type": "stream",
          "name": "stderr",
          "text": [
            "     50/200         0G     0.6725     0.9113      1.102          9        416: 100%|██████████| 5/5 [00:07<00:00,  1.47s/it]\n",
            "                 Class     Images  Instances      Box(P          R      mAP50  mAP50-95): 100%|██████████| 3/3 [00:03<00:00,  1.20s/it]"
          ]
        },
        {
          "output_type": "stream",
          "name": "stdout",
          "text": [
            "                   all         20         20      0.988          1      0.995      0.855\n"
          ]
        },
        {
          "output_type": "stream",
          "name": "stderr",
          "text": [
            "\n"
          ]
        },
        {
          "output_type": "stream",
          "name": "stdout",
          "text": [
            "\n",
            "      Epoch    GPU_mem   box_loss   cls_loss   dfl_loss  Instances       Size\n"
          ]
        },
        {
          "output_type": "stream",
          "name": "stderr",
          "text": [
            "     51/200         0G     0.7345     0.9009      1.119         14        416: 100%|██████████| 5/5 [00:07<00:00,  1.42s/it]\n",
            "                 Class     Images  Instances      Box(P          R      mAP50  mAP50-95): 100%|██████████| 3/3 [00:02<00:00,  1.06it/s]"
          ]
        },
        {
          "output_type": "stream",
          "name": "stdout",
          "text": [
            "                   all         20         20      0.988          1      0.995      0.855\n"
          ]
        },
        {
          "output_type": "stream",
          "name": "stderr",
          "text": [
            "\n"
          ]
        },
        {
          "output_type": "stream",
          "name": "stdout",
          "text": [
            "\n",
            "      Epoch    GPU_mem   box_loss   cls_loss   dfl_loss  Instances       Size\n"
          ]
        },
        {
          "output_type": "stream",
          "name": "stderr",
          "text": [
            "     52/200         0G     0.7271     0.9482      1.123         12        416: 100%|██████████| 5/5 [00:07<00:00,  1.58s/it]\n",
            "                 Class     Images  Instances      Box(P          R      mAP50  mAP50-95): 100%|██████████| 3/3 [00:03<00:00,  1.07s/it]"
          ]
        },
        {
          "output_type": "stream",
          "name": "stdout",
          "text": [
            "                   all         20         20      0.988          1      0.995      0.855\n"
          ]
        },
        {
          "output_type": "stream",
          "name": "stderr",
          "text": [
            "\n"
          ]
        },
        {
          "output_type": "stream",
          "name": "stdout",
          "text": [
            "\n",
            "      Epoch    GPU_mem   box_loss   cls_loss   dfl_loss  Instances       Size\n"
          ]
        },
        {
          "output_type": "stream",
          "name": "stderr",
          "text": [
            "     53/200         0G     0.6915     0.8159      1.065         12        416: 100%|██████████| 5/5 [00:08<00:00,  1.77s/it]\n",
            "                 Class     Images  Instances      Box(P          R      mAP50  mAP50-95): 100%|██████████| 3/3 [00:02<00:00,  1.09it/s]"
          ]
        },
        {
          "output_type": "stream",
          "name": "stdout",
          "text": [
            "                   all         20         20      0.979          1      0.995      0.881\n"
          ]
        },
        {
          "output_type": "stream",
          "name": "stderr",
          "text": [
            "\n"
          ]
        },
        {
          "output_type": "stream",
          "name": "stdout",
          "text": [
            "\n",
            "      Epoch    GPU_mem   box_loss   cls_loss   dfl_loss  Instances       Size\n"
          ]
        },
        {
          "output_type": "stream",
          "name": "stderr",
          "text": [
            "     54/200         0G     0.6917     0.9139      1.168          8        416: 100%|██████████| 5/5 [00:08<00:00,  1.66s/it]\n",
            "                 Class     Images  Instances      Box(P          R      mAP50  mAP50-95): 100%|██████████| 3/3 [00:02<00:00,  1.08it/s]"
          ]
        },
        {
          "output_type": "stream",
          "name": "stdout",
          "text": [
            "                   all         20         20      0.979          1      0.995      0.881\n"
          ]
        },
        {
          "output_type": "stream",
          "name": "stderr",
          "text": [
            "\n"
          ]
        },
        {
          "output_type": "stream",
          "name": "stdout",
          "text": [
            "\n",
            "      Epoch    GPU_mem   box_loss   cls_loss   dfl_loss  Instances       Size\n"
          ]
        },
        {
          "output_type": "stream",
          "name": "stderr",
          "text": [
            "     55/200         0G     0.8059     0.8849      1.164          9        416: 100%|██████████| 5/5 [00:08<00:00,  1.65s/it]\n",
            "                 Class     Images  Instances      Box(P          R      mAP50  mAP50-95): 100%|██████████| 3/3 [00:02<00:00,  1.05it/s]"
          ]
        },
        {
          "output_type": "stream",
          "name": "stdout",
          "text": [
            "                   all         20         20      0.979          1      0.995      0.881\n"
          ]
        },
        {
          "output_type": "stream",
          "name": "stderr",
          "text": [
            "\n"
          ]
        },
        {
          "output_type": "stream",
          "name": "stdout",
          "text": [
            "\n",
            "      Epoch    GPU_mem   box_loss   cls_loss   dfl_loss  Instances       Size\n"
          ]
        },
        {
          "output_type": "stream",
          "name": "stderr",
          "text": [
            "     56/200         0G     0.7466     0.8457      1.115         11        416: 100%|██████████| 5/5 [00:08<00:00,  1.63s/it]\n",
            "                 Class     Images  Instances      Box(P          R      mAP50  mAP50-95): 100%|██████████| 3/3 [00:03<00:00,  1.02s/it]"
          ]
        },
        {
          "output_type": "stream",
          "name": "stdout",
          "text": [
            "                   all         20         20      0.931      0.999      0.995      0.866\n"
          ]
        },
        {
          "output_type": "stream",
          "name": "stderr",
          "text": [
            "\n"
          ]
        },
        {
          "output_type": "stream",
          "name": "stdout",
          "text": [
            "\n",
            "      Epoch    GPU_mem   box_loss   cls_loss   dfl_loss  Instances       Size\n"
          ]
        },
        {
          "output_type": "stream",
          "name": "stderr",
          "text": [
            "     57/200         0G     0.6946     0.8108      1.099          8        416: 100%|██████████| 5/5 [00:07<00:00,  1.45s/it]\n",
            "                 Class     Images  Instances      Box(P          R      mAP50  mAP50-95): 100%|██████████| 3/3 [00:03<00:00,  1.26s/it]"
          ]
        },
        {
          "output_type": "stream",
          "name": "stdout",
          "text": [
            "                   all         20         20      0.931      0.999      0.995      0.866\n"
          ]
        },
        {
          "output_type": "stream",
          "name": "stderr",
          "text": [
            "\n"
          ]
        },
        {
          "output_type": "stream",
          "name": "stdout",
          "text": [
            "\n",
            "      Epoch    GPU_mem   box_loss   cls_loss   dfl_loss  Instances       Size\n"
          ]
        },
        {
          "output_type": "stream",
          "name": "stderr",
          "text": [
            "     58/200         0G     0.7685     0.9017      1.141         12        416: 100%|██████████| 5/5 [00:07<00:00,  1.44s/it]\n",
            "                 Class     Images  Instances      Box(P          R      mAP50  mAP50-95): 100%|██████████| 3/3 [00:02<00:00,  1.03it/s]"
          ]
        },
        {
          "output_type": "stream",
          "name": "stdout",
          "text": [
            "                   all         20         20      0.931      0.999      0.995      0.866\n"
          ]
        },
        {
          "output_type": "stream",
          "name": "stderr",
          "text": [
            "\n"
          ]
        },
        {
          "output_type": "stream",
          "name": "stdout",
          "text": [
            "\n",
            "      Epoch    GPU_mem   box_loss   cls_loss   dfl_loss  Instances       Size\n"
          ]
        },
        {
          "output_type": "stream",
          "name": "stderr",
          "text": [
            "     59/200         0G     0.7318     0.9462      1.139          9        416: 100%|██████████| 5/5 [00:07<00:00,  1.57s/it]\n",
            "                 Class     Images  Instances      Box(P          R      mAP50  mAP50-95): 100%|██████████| 3/3 [00:02<00:00,  1.07it/s]"
          ]
        },
        {
          "output_type": "stream",
          "name": "stdout",
          "text": [
            "                   all         20         20      0.958      0.989      0.995      0.859\n"
          ]
        },
        {
          "output_type": "stream",
          "name": "stderr",
          "text": [
            "\n"
          ]
        },
        {
          "output_type": "stream",
          "name": "stdout",
          "text": [
            "\n",
            "      Epoch    GPU_mem   box_loss   cls_loss   dfl_loss  Instances       Size\n"
          ]
        },
        {
          "output_type": "stream",
          "name": "stderr",
          "text": [
            "     60/200         0G     0.7145      1.085      1.087          8        416: 100%|██████████| 5/5 [00:08<00:00,  1.62s/it]\n",
            "                 Class     Images  Instances      Box(P          R      mAP50  mAP50-95): 100%|██████████| 3/3 [00:02<00:00,  1.10it/s]"
          ]
        },
        {
          "output_type": "stream",
          "name": "stdout",
          "text": [
            "                   all         20         20      0.958      0.989      0.995      0.859\n"
          ]
        },
        {
          "output_type": "stream",
          "name": "stderr",
          "text": [
            "\n"
          ]
        },
        {
          "output_type": "stream",
          "name": "stdout",
          "text": [
            "\n",
            "      Epoch    GPU_mem   box_loss   cls_loss   dfl_loss  Instances       Size\n"
          ]
        },
        {
          "output_type": "stream",
          "name": "stderr",
          "text": [
            "     61/200         0G     0.7087     0.8807      1.058         16        416: 100%|██████████| 5/5 [00:08<00:00,  1.65s/it]\n",
            "                 Class     Images  Instances      Box(P          R      mAP50  mAP50-95): 100%|██████████| 3/3 [00:02<00:00,  1.05it/s]"
          ]
        },
        {
          "output_type": "stream",
          "name": "stdout",
          "text": [
            "                   all         20         20      0.958      0.989      0.995      0.859\n"
          ]
        },
        {
          "output_type": "stream",
          "name": "stderr",
          "text": [
            "\n"
          ]
        },
        {
          "output_type": "stream",
          "name": "stdout",
          "text": [
            "\n",
            "      Epoch    GPU_mem   box_loss   cls_loss   dfl_loss  Instances       Size\n"
          ]
        },
        {
          "output_type": "stream",
          "name": "stderr",
          "text": [
            "     62/200         0G     0.8077     0.9731      1.194         11        416: 100%|██████████| 5/5 [00:08<00:00,  1.64s/it]\n",
            "                 Class     Images  Instances      Box(P          R      mAP50  mAP50-95): 100%|██████████| 3/3 [00:02<00:00,  1.09it/s]"
          ]
        },
        {
          "output_type": "stream",
          "name": "stdout",
          "text": [
            "                   all         20         20      0.993          1      0.995      0.877\n"
          ]
        },
        {
          "output_type": "stream",
          "name": "stderr",
          "text": [
            "\n"
          ]
        },
        {
          "output_type": "stream",
          "name": "stdout",
          "text": [
            "\n",
            "      Epoch    GPU_mem   box_loss   cls_loss   dfl_loss  Instances       Size\n"
          ]
        },
        {
          "output_type": "stream",
          "name": "stderr",
          "text": [
            "     63/200         0G      0.911     0.9384      1.191         10        416: 100%|██████████| 5/5 [00:07<00:00,  1.53s/it]\n",
            "                 Class     Images  Instances      Box(P          R      mAP50  mAP50-95): 100%|██████████| 3/3 [00:03<00:00,  1.14s/it]"
          ]
        },
        {
          "output_type": "stream",
          "name": "stdout",
          "text": [
            "                   all         20         20      0.993          1      0.995      0.877\n"
          ]
        },
        {
          "output_type": "stream",
          "name": "stderr",
          "text": [
            "\n"
          ]
        },
        {
          "output_type": "stream",
          "name": "stdout",
          "text": [
            "\n",
            "      Epoch    GPU_mem   box_loss   cls_loss   dfl_loss  Instances       Size\n"
          ]
        },
        {
          "output_type": "stream",
          "name": "stderr",
          "text": [
            "     64/200         0G     0.7855     0.8747      1.136         12        416: 100%|██████████| 5/5 [00:07<00:00,  1.45s/it]\n",
            "                 Class     Images  Instances      Box(P          R      mAP50  mAP50-95): 100%|██████████| 3/3 [00:03<00:00,  1.19s/it]"
          ]
        },
        {
          "output_type": "stream",
          "name": "stdout",
          "text": [
            "                   all         20         20      0.993          1      0.995      0.877\n"
          ]
        },
        {
          "output_type": "stream",
          "name": "stderr",
          "text": [
            "\n"
          ]
        },
        {
          "output_type": "stream",
          "name": "stdout",
          "text": [
            "\n",
            "      Epoch    GPU_mem   box_loss   cls_loss   dfl_loss  Instances       Size\n"
          ]
        },
        {
          "output_type": "stream",
          "name": "stderr",
          "text": [
            "     65/200         0G     0.7518     0.8694      1.121          7        416: 100%|██████████| 5/5 [00:07<00:00,  1.42s/it]\n",
            "                 Class     Images  Instances      Box(P          R      mAP50  mAP50-95): 100%|██████████| 3/3 [00:02<00:00,  1.06it/s]"
          ]
        },
        {
          "output_type": "stream",
          "name": "stdout",
          "text": [
            "                   all         20         20      0.993          1      0.995      0.877\n"
          ]
        },
        {
          "output_type": "stream",
          "name": "stderr",
          "text": [
            "\n"
          ]
        },
        {
          "output_type": "stream",
          "name": "stdout",
          "text": [
            "\n",
            "      Epoch    GPU_mem   box_loss   cls_loss   dfl_loss  Instances       Size\n"
          ]
        },
        {
          "output_type": "stream",
          "name": "stderr",
          "text": [
            "     66/200         0G     0.7564     0.8963      1.116         10        416: 100%|██████████| 5/5 [00:08<00:00,  1.62s/it]\n",
            "                 Class     Images  Instances      Box(P          R      mAP50  mAP50-95): 100%|██████████| 3/3 [00:02<00:00,  1.10it/s]"
          ]
        },
        {
          "output_type": "stream",
          "name": "stdout",
          "text": [
            "                   all         20         20      0.991          1      0.995      0.854\n"
          ]
        },
        {
          "output_type": "stream",
          "name": "stderr",
          "text": [
            "\n"
          ]
        },
        {
          "output_type": "stream",
          "name": "stdout",
          "text": [
            "\n",
            "      Epoch    GPU_mem   box_loss   cls_loss   dfl_loss  Instances       Size\n"
          ]
        },
        {
          "output_type": "stream",
          "name": "stderr",
          "text": [
            "     67/200         0G     0.8932     0.8772      1.174         11        416: 100%|██████████| 5/5 [00:08<00:00,  1.66s/it]\n",
            "                 Class     Images  Instances      Box(P          R      mAP50  mAP50-95): 100%|██████████| 3/3 [00:02<00:00,  1.08it/s]"
          ]
        },
        {
          "output_type": "stream",
          "name": "stdout",
          "text": [
            "                   all         20         20      0.991          1      0.995      0.854\n"
          ]
        },
        {
          "output_type": "stream",
          "name": "stderr",
          "text": [
            "\n"
          ]
        },
        {
          "output_type": "stream",
          "name": "stdout",
          "text": [
            "\n",
            "      Epoch    GPU_mem   box_loss   cls_loss   dfl_loss  Instances       Size\n"
          ]
        },
        {
          "output_type": "stream",
          "name": "stderr",
          "text": [
            "     68/200         0G     0.7657     0.8504      1.104          9        416: 100%|██████████| 5/5 [00:08<00:00,  1.67s/it]\n",
            "                 Class     Images  Instances      Box(P          R      mAP50  mAP50-95): 100%|██████████| 3/3 [00:02<00:00,  1.10it/s]"
          ]
        },
        {
          "output_type": "stream",
          "name": "stdout",
          "text": [
            "                   all         20         20      0.991          1      0.995      0.854\n"
          ]
        },
        {
          "output_type": "stream",
          "name": "stderr",
          "text": [
            "\n"
          ]
        },
        {
          "output_type": "stream",
          "name": "stdout",
          "text": [
            "\n",
            "      Epoch    GPU_mem   box_loss   cls_loss   dfl_loss  Instances       Size\n"
          ]
        },
        {
          "output_type": "stream",
          "name": "stderr",
          "text": [
            "     69/200         0G     0.6956      1.073      1.152          6        416: 100%|██████████| 5/5 [00:08<00:00,  1.68s/it]\n",
            "                 Class     Images  Instances      Box(P          R      mAP50  mAP50-95): 100%|██████████| 3/3 [00:02<00:00,  1.10it/s]"
          ]
        },
        {
          "output_type": "stream",
          "name": "stdout",
          "text": [
            "                   all         20         20      0.993          1      0.995       0.85\n"
          ]
        },
        {
          "output_type": "stream",
          "name": "stderr",
          "text": [
            "\n"
          ]
        },
        {
          "output_type": "stream",
          "name": "stdout",
          "text": [
            "\n",
            "      Epoch    GPU_mem   box_loss   cls_loss   dfl_loss  Instances       Size\n"
          ]
        },
        {
          "output_type": "stream",
          "name": "stderr",
          "text": [
            "     70/200         0G     0.8183     0.8903      1.128         12        416: 100%|██████████| 5/5 [00:07<00:00,  1.52s/it]\n",
            "                 Class     Images  Instances      Box(P          R      mAP50  mAP50-95): 100%|██████████| 3/3 [00:03<00:00,  1.13s/it]"
          ]
        },
        {
          "output_type": "stream",
          "name": "stdout",
          "text": [
            "                   all         20         20      0.993          1      0.995       0.85\n"
          ]
        },
        {
          "output_type": "stream",
          "name": "stderr",
          "text": [
            "\n"
          ]
        },
        {
          "output_type": "stream",
          "name": "stdout",
          "text": [
            "\n",
            "      Epoch    GPU_mem   box_loss   cls_loss   dfl_loss  Instances       Size\n"
          ]
        },
        {
          "output_type": "stream",
          "name": "stderr",
          "text": [
            "     71/200         0G      0.789     0.8142      1.121         11        416: 100%|██████████| 5/5 [00:07<00:00,  1.44s/it]\n",
            "                 Class     Images  Instances      Box(P          R      mAP50  mAP50-95): 100%|██████████| 3/3 [00:03<00:00,  1.13s/it]"
          ]
        },
        {
          "output_type": "stream",
          "name": "stdout",
          "text": [
            "                   all         20         20      0.993          1      0.995       0.85\n"
          ]
        },
        {
          "output_type": "stream",
          "name": "stderr",
          "text": [
            "\n"
          ]
        },
        {
          "output_type": "stream",
          "name": "stdout",
          "text": [
            "\n",
            "      Epoch    GPU_mem   box_loss   cls_loss   dfl_loss  Instances       Size\n"
          ]
        },
        {
          "output_type": "stream",
          "name": "stderr",
          "text": [
            "     72/200         0G     0.8305     0.8261       1.14          9        416: 100%|██████████| 5/5 [00:07<00:00,  1.49s/it]\n",
            "                 Class     Images  Instances      Box(P          R      mAP50  mAP50-95): 100%|██████████| 3/3 [00:02<00:00,  1.05it/s]"
          ]
        },
        {
          "output_type": "stream",
          "name": "stdout",
          "text": [
            "                   all         20         20      0.992          1      0.995      0.897\n"
          ]
        },
        {
          "output_type": "stream",
          "name": "stderr",
          "text": [
            "\n"
          ]
        },
        {
          "output_type": "stream",
          "name": "stdout",
          "text": [
            "\n",
            "      Epoch    GPU_mem   box_loss   cls_loss   dfl_loss  Instances       Size\n"
          ]
        },
        {
          "output_type": "stream",
          "name": "stderr",
          "text": [
            "     73/200         0G     0.6913     0.7602      1.024         14        416: 100%|██████████| 5/5 [00:08<00:00,  1.62s/it]\n",
            "                 Class     Images  Instances      Box(P          R      mAP50  mAP50-95): 100%|██████████| 3/3 [00:02<00:00,  1.09it/s]"
          ]
        },
        {
          "output_type": "stream",
          "name": "stdout",
          "text": [
            "                   all         20         20      0.992          1      0.995      0.897\n"
          ]
        },
        {
          "output_type": "stream",
          "name": "stderr",
          "text": [
            "\n"
          ]
        },
        {
          "output_type": "stream",
          "name": "stdout",
          "text": [
            "\n",
            "      Epoch    GPU_mem   box_loss   cls_loss   dfl_loss  Instances       Size\n"
          ]
        },
        {
          "output_type": "stream",
          "name": "stderr",
          "text": [
            "     74/200         0G     0.7591     0.9793      1.178         11        416: 100%|██████████| 5/5 [00:09<00:00,  1.88s/it]\n",
            "                 Class     Images  Instances      Box(P          R      mAP50  mAP50-95): 100%|██████████| 3/3 [00:02<00:00,  1.11it/s]"
          ]
        },
        {
          "output_type": "stream",
          "name": "stdout",
          "text": [
            "                   all         20         20      0.992          1      0.995      0.897\n"
          ]
        },
        {
          "output_type": "stream",
          "name": "stderr",
          "text": [
            "\n"
          ]
        },
        {
          "output_type": "stream",
          "name": "stdout",
          "text": [
            "\n",
            "      Epoch    GPU_mem   box_loss   cls_loss   dfl_loss  Instances       Size\n"
          ]
        },
        {
          "output_type": "stream",
          "name": "stderr",
          "text": [
            "     75/200         0G     0.8411      1.039      1.218          7        416: 100%|██████████| 5/5 [00:08<00:00,  1.64s/it]\n",
            "                 Class     Images  Instances      Box(P          R      mAP50  mAP50-95): 100%|██████████| 3/3 [00:02<00:00,  1.09it/s]"
          ]
        },
        {
          "output_type": "stream",
          "name": "stdout",
          "text": [
            "                   all         20         20       0.99          1      0.995      0.865\n"
          ]
        },
        {
          "output_type": "stream",
          "name": "stderr",
          "text": [
            "\n"
          ]
        },
        {
          "output_type": "stream",
          "name": "stdout",
          "text": [
            "\n",
            "      Epoch    GPU_mem   box_loss   cls_loss   dfl_loss  Instances       Size\n"
          ]
        },
        {
          "output_type": "stream",
          "name": "stderr",
          "text": [
            "     76/200         0G     0.6943     0.7763      1.122         12        416: 100%|██████████| 5/5 [00:07<00:00,  1.55s/it]\n",
            "                 Class     Images  Instances      Box(P          R      mAP50  mAP50-95): 100%|██████████| 3/3 [00:03<00:00,  1.08s/it]"
          ]
        },
        {
          "output_type": "stream",
          "name": "stdout",
          "text": [
            "                   all         20         20       0.99          1      0.995      0.865\n"
          ]
        },
        {
          "output_type": "stream",
          "name": "stderr",
          "text": [
            "\n"
          ]
        },
        {
          "output_type": "stream",
          "name": "stdout",
          "text": [
            "\n",
            "      Epoch    GPU_mem   box_loss   cls_loss   dfl_loss  Instances       Size\n"
          ]
        },
        {
          "output_type": "stream",
          "name": "stderr",
          "text": [
            "     77/200         0G     0.6315     0.7613      1.029         10        416: 100%|██████████| 5/5 [00:07<00:00,  1.46s/it]\n",
            "                 Class     Images  Instances      Box(P          R      mAP50  mAP50-95): 100%|██████████| 3/3 [00:03<00:00,  1.25s/it]"
          ]
        },
        {
          "output_type": "stream",
          "name": "stdout",
          "text": [
            "                   all         20         20       0.99          1      0.995      0.865\n"
          ]
        },
        {
          "output_type": "stream",
          "name": "stderr",
          "text": [
            "\n"
          ]
        },
        {
          "output_type": "stream",
          "name": "stdout",
          "text": [
            "\n",
            "      Epoch    GPU_mem   box_loss   cls_loss   dfl_loss  Instances       Size\n"
          ]
        },
        {
          "output_type": "stream",
          "name": "stderr",
          "text": [
            "     78/200         0G     0.6878     0.9367      1.098          8        416: 100%|██████████| 5/5 [00:07<00:00,  1.45s/it]\n",
            "                 Class     Images  Instances      Box(P          R      mAP50  mAP50-95): 100%|██████████| 3/3 [00:03<00:00,  1.03s/it]"
          ]
        },
        {
          "output_type": "stream",
          "name": "stdout",
          "text": [
            "                   all         20         20      0.991          1      0.995      0.883\n"
          ]
        },
        {
          "output_type": "stream",
          "name": "stderr",
          "text": [
            "\n"
          ]
        },
        {
          "output_type": "stream",
          "name": "stdout",
          "text": [
            "\n",
            "      Epoch    GPU_mem   box_loss   cls_loss   dfl_loss  Instances       Size\n"
          ]
        },
        {
          "output_type": "stream",
          "name": "stderr",
          "text": [
            "     79/200         0G     0.7348     0.8774      1.113         10        416: 100%|██████████| 5/5 [00:10<00:00,  2.16s/it]\n",
            "                 Class     Images  Instances      Box(P          R      mAP50  mAP50-95): 100%|██████████| 3/3 [00:03<00:00,  1.16s/it]"
          ]
        },
        {
          "output_type": "stream",
          "name": "stdout",
          "text": [
            "                   all         20         20      0.991          1      0.995      0.883\n"
          ]
        },
        {
          "output_type": "stream",
          "name": "stderr",
          "text": [
            "\n"
          ]
        },
        {
          "output_type": "stream",
          "name": "stdout",
          "text": [
            "\n",
            "      Epoch    GPU_mem   box_loss   cls_loss   dfl_loss  Instances       Size\n"
          ]
        },
        {
          "output_type": "stream",
          "name": "stderr",
          "text": [
            "     80/200         0G     0.6669       0.74      1.051         14        416: 100%|██████████| 5/5 [00:07<00:00,  1.50s/it]\n",
            "                 Class     Images  Instances      Box(P          R      mAP50  mAP50-95): 100%|██████████| 3/3 [00:02<00:00,  1.11it/s]"
          ]
        },
        {
          "output_type": "stream",
          "name": "stdout",
          "text": [
            "                   all         20         20      0.991          1      0.995      0.883\n"
          ]
        },
        {
          "output_type": "stream",
          "name": "stderr",
          "text": [
            "\n"
          ]
        },
        {
          "output_type": "stream",
          "name": "stdout",
          "text": [
            "\n",
            "      Epoch    GPU_mem   box_loss   cls_loss   dfl_loss  Instances       Size\n"
          ]
        },
        {
          "output_type": "stream",
          "name": "stderr",
          "text": [
            "     81/200         0G     0.7041     0.8443      1.121         10        416: 100%|██████████| 5/5 [00:08<00:00,  1.63s/it]\n",
            "                 Class     Images  Instances      Box(P          R      mAP50  mAP50-95): 100%|██████████| 3/3 [00:02<00:00,  1.14it/s]"
          ]
        },
        {
          "output_type": "stream",
          "name": "stdout",
          "text": [
            "                   all         20         20      0.991          1      0.995      0.883\n"
          ]
        },
        {
          "output_type": "stream",
          "name": "stderr",
          "text": [
            "\n"
          ]
        },
        {
          "output_type": "stream",
          "name": "stdout",
          "text": [
            "\n",
            "      Epoch    GPU_mem   box_loss   cls_loss   dfl_loss  Instances       Size\n"
          ]
        },
        {
          "output_type": "stream",
          "name": "stderr",
          "text": [
            "     82/200         0G     0.5848      0.796       1.03         11        416: 100%|██████████| 5/5 [00:08<00:00,  1.63s/it]\n",
            "                 Class     Images  Instances      Box(P          R      mAP50  mAP50-95): 100%|██████████| 3/3 [00:02<00:00,  1.04it/s]"
          ]
        },
        {
          "output_type": "stream",
          "name": "stdout",
          "text": [
            "                   all         20         20      0.989      0.999      0.995      0.888\n"
          ]
        },
        {
          "output_type": "stream",
          "name": "stderr",
          "text": [
            "\n"
          ]
        },
        {
          "output_type": "stream",
          "name": "stdout",
          "text": [
            "\n",
            "      Epoch    GPU_mem   box_loss   cls_loss   dfl_loss  Instances       Size\n"
          ]
        },
        {
          "output_type": "stream",
          "name": "stderr",
          "text": [
            "     83/200         0G     0.7188     0.8327      1.117         14        416: 100%|██████████| 5/5 [00:08<00:00,  1.65s/it]\n",
            "                 Class     Images  Instances      Box(P          R      mAP50  mAP50-95): 100%|██████████| 3/3 [00:02<00:00,  1.11it/s]"
          ]
        },
        {
          "output_type": "stream",
          "name": "stdout",
          "text": [
            "                   all         20         20      0.989      0.999      0.995      0.888\n"
          ]
        },
        {
          "output_type": "stream",
          "name": "stderr",
          "text": [
            "\n"
          ]
        },
        {
          "output_type": "stream",
          "name": "stdout",
          "text": [
            "\n",
            "      Epoch    GPU_mem   box_loss   cls_loss   dfl_loss  Instances       Size\n"
          ]
        },
        {
          "output_type": "stream",
          "name": "stderr",
          "text": [
            "     84/200         0G     0.7178      0.896      1.089         12        416: 100%|██████████| 5/5 [00:07<00:00,  1.53s/it]\n",
            "                 Class     Images  Instances      Box(P          R      mAP50  mAP50-95): 100%|██████████| 3/3 [00:03<00:00,  1.12s/it]"
          ]
        },
        {
          "output_type": "stream",
          "name": "stdout",
          "text": [
            "                   all         20         20      0.989      0.999      0.995      0.888\n"
          ]
        },
        {
          "output_type": "stream",
          "name": "stderr",
          "text": [
            "\n"
          ]
        },
        {
          "output_type": "stream",
          "name": "stdout",
          "text": [
            "\n",
            "      Epoch    GPU_mem   box_loss   cls_loss   dfl_loss  Instances       Size\n"
          ]
        },
        {
          "output_type": "stream",
          "name": "stderr",
          "text": [
            "     85/200         0G     0.7525     0.8512      1.098          7        416: 100%|██████████| 5/5 [00:07<00:00,  1.45s/it]\n",
            "                 Class     Images  Instances      Box(P          R      mAP50  mAP50-95): 100%|██████████| 3/3 [00:03<00:00,  1.21s/it]"
          ]
        },
        {
          "output_type": "stream",
          "name": "stdout",
          "text": [
            "                   all         20         20      0.991          1      0.995      0.874\n"
          ]
        },
        {
          "output_type": "stream",
          "name": "stderr",
          "text": [
            "\n"
          ]
        },
        {
          "output_type": "stream",
          "name": "stdout",
          "text": [
            "\n",
            "      Epoch    GPU_mem   box_loss   cls_loss   dfl_loss  Instances       Size\n"
          ]
        },
        {
          "output_type": "stream",
          "name": "stderr",
          "text": [
            "     86/200         0G     0.7386     0.8381      1.083         11        416: 100%|██████████| 5/5 [00:07<00:00,  1.49s/it]\n",
            "                 Class     Images  Instances      Box(P          R      mAP50  mAP50-95): 100%|██████████| 3/3 [00:02<00:00,  1.07it/s]"
          ]
        },
        {
          "output_type": "stream",
          "name": "stdout",
          "text": [
            "                   all         20         20      0.991          1      0.995      0.874\n"
          ]
        },
        {
          "output_type": "stream",
          "name": "stderr",
          "text": [
            "\n"
          ]
        },
        {
          "output_type": "stream",
          "name": "stdout",
          "text": [
            "\n",
            "      Epoch    GPU_mem   box_loss   cls_loss   dfl_loss  Instances       Size\n"
          ]
        },
        {
          "output_type": "stream",
          "name": "stderr",
          "text": [
            "     87/200         0G     0.6713     0.7961      1.121         10        416: 100%|██████████| 5/5 [00:07<00:00,  1.56s/it]\n",
            "                 Class     Images  Instances      Box(P          R      mAP50  mAP50-95): 100%|██████████| 3/3 [00:02<00:00,  1.08it/s]"
          ]
        },
        {
          "output_type": "stream",
          "name": "stdout",
          "text": [
            "                   all         20         20      0.991          1      0.995      0.874\n"
          ]
        },
        {
          "output_type": "stream",
          "name": "stderr",
          "text": [
            "\n"
          ]
        },
        {
          "output_type": "stream",
          "name": "stdout",
          "text": [
            "\n",
            "      Epoch    GPU_mem   box_loss   cls_loss   dfl_loss  Instances       Size\n"
          ]
        },
        {
          "output_type": "stream",
          "name": "stderr",
          "text": [
            "     88/200         0G     0.7437     0.7644      1.082          8        416: 100%|██████████| 5/5 [00:08<00:00,  1.64s/it]\n",
            "                 Class     Images  Instances      Box(P          R      mAP50  mAP50-95): 100%|██████████| 3/3 [00:02<00:00,  1.08it/s]"
          ]
        },
        {
          "output_type": "stream",
          "name": "stdout",
          "text": [
            "                   all         20         20      0.994          1      0.995      0.905\n"
          ]
        },
        {
          "output_type": "stream",
          "name": "stderr",
          "text": [
            "\n"
          ]
        },
        {
          "output_type": "stream",
          "name": "stdout",
          "text": [
            "\n",
            "      Epoch    GPU_mem   box_loss   cls_loss   dfl_loss  Instances       Size\n"
          ]
        },
        {
          "output_type": "stream",
          "name": "stderr",
          "text": [
            "     89/200         0G     0.6976     0.8086       1.11         11        416: 100%|██████████| 5/5 [00:08<00:00,  1.67s/it]\n",
            "                 Class     Images  Instances      Box(P          R      mAP50  mAP50-95): 100%|██████████| 3/3 [00:02<00:00,  1.12it/s]"
          ]
        },
        {
          "output_type": "stream",
          "name": "stdout",
          "text": [
            "                   all         20         20      0.994          1      0.995      0.905\n"
          ]
        },
        {
          "output_type": "stream",
          "name": "stderr",
          "text": [
            "\n"
          ]
        },
        {
          "output_type": "stream",
          "name": "stdout",
          "text": [
            "\n",
            "      Epoch    GPU_mem   box_loss   cls_loss   dfl_loss  Instances       Size\n"
          ]
        },
        {
          "output_type": "stream",
          "name": "stderr",
          "text": [
            "     90/200         0G     0.6873     0.7175      1.082         11        416: 100%|██████████| 5/5 [00:08<00:00,  1.67s/it]\n",
            "                 Class     Images  Instances      Box(P          R      mAP50  mAP50-95): 100%|██████████| 3/3 [00:02<00:00,  1.06it/s]"
          ]
        },
        {
          "output_type": "stream",
          "name": "stdout",
          "text": [
            "                   all         20         20      0.994          1      0.995      0.905\n"
          ]
        },
        {
          "output_type": "stream",
          "name": "stderr",
          "text": [
            "\n"
          ]
        },
        {
          "output_type": "stream",
          "name": "stdout",
          "text": [
            "\n",
            "      Epoch    GPU_mem   box_loss   cls_loss   dfl_loss  Instances       Size\n"
          ]
        },
        {
          "output_type": "stream",
          "name": "stderr",
          "text": [
            "     91/200         0G     0.6873     0.8197      1.082         13        416: 100%|██████████| 5/5 [00:07<00:00,  1.50s/it]\n",
            "                 Class     Images  Instances      Box(P          R      mAP50  mAP50-95): 100%|██████████| 3/3 [00:03<00:00,  1.12s/it]"
          ]
        },
        {
          "output_type": "stream",
          "name": "stdout",
          "text": [
            "                   all         20         20      0.994          1      0.995      0.905\n"
          ]
        },
        {
          "output_type": "stream",
          "name": "stderr",
          "text": [
            "\n"
          ]
        },
        {
          "output_type": "stream",
          "name": "stdout",
          "text": [
            "\n",
            "      Epoch    GPU_mem   box_loss   cls_loss   dfl_loss  Instances       Size\n"
          ]
        },
        {
          "output_type": "stream",
          "name": "stderr",
          "text": [
            "     92/200         0G      0.701     0.7594      1.092         12        416: 100%|██████████| 5/5 [00:07<00:00,  1.42s/it]\n",
            "                 Class     Images  Instances      Box(P          R      mAP50  mAP50-95): 100%|██████████| 3/3 [00:03<00:00,  1.21s/it]"
          ]
        },
        {
          "output_type": "stream",
          "name": "stdout",
          "text": [
            "                   all         20         20      0.994          1      0.995      0.905\n"
          ]
        },
        {
          "output_type": "stream",
          "name": "stderr",
          "text": [
            "\n"
          ]
        },
        {
          "output_type": "stream",
          "name": "stdout",
          "text": [
            "\n",
            "      Epoch    GPU_mem   box_loss   cls_loss   dfl_loss  Instances       Size\n"
          ]
        },
        {
          "output_type": "stream",
          "name": "stderr",
          "text": [
            "     93/200         0G     0.6519      0.724      1.068         12        416: 100%|██████████| 5/5 [00:07<00:00,  1.48s/it]\n",
            "                 Class     Images  Instances      Box(P          R      mAP50  mAP50-95): 100%|██████████| 3/3 [00:02<00:00,  1.05it/s]"
          ]
        },
        {
          "output_type": "stream",
          "name": "stdout",
          "text": [
            "                   all         20         20      0.994          1      0.995      0.905\n"
          ]
        },
        {
          "output_type": "stream",
          "name": "stderr",
          "text": [
            "\n"
          ]
        },
        {
          "output_type": "stream",
          "name": "stdout",
          "text": [
            "\n",
            "      Epoch    GPU_mem   box_loss   cls_loss   dfl_loss  Instances       Size\n"
          ]
        },
        {
          "output_type": "stream",
          "name": "stderr",
          "text": [
            "     94/200         0G     0.6859     0.8105      1.061         13        416: 100%|██████████| 5/5 [00:08<00:00,  1.61s/it]\n",
            "                 Class     Images  Instances      Box(P          R      mAP50  mAP50-95): 100%|██████████| 3/3 [00:02<00:00,  1.09it/s]"
          ]
        },
        {
          "output_type": "stream",
          "name": "stdout",
          "text": [
            "                   all         20         20      0.994          1      0.995       0.91\n"
          ]
        },
        {
          "output_type": "stream",
          "name": "stderr",
          "text": [
            "\n"
          ]
        },
        {
          "output_type": "stream",
          "name": "stdout",
          "text": [
            "\n",
            "      Epoch    GPU_mem   box_loss   cls_loss   dfl_loss  Instances       Size\n"
          ]
        },
        {
          "output_type": "stream",
          "name": "stderr",
          "text": [
            "     95/200         0G      0.661     0.7529      1.061         10        416: 100%|██████████| 5/5 [00:08<00:00,  1.78s/it]\n",
            "                 Class     Images  Instances      Box(P          R      mAP50  mAP50-95): 100%|██████████| 3/3 [00:03<00:00,  1.04s/it]"
          ]
        },
        {
          "output_type": "stream",
          "name": "stdout",
          "text": [
            "                   all         20         20      0.994          1      0.995       0.91\n"
          ]
        },
        {
          "output_type": "stream",
          "name": "stderr",
          "text": [
            "\n"
          ]
        },
        {
          "output_type": "stream",
          "name": "stdout",
          "text": [
            "\n",
            "      Epoch    GPU_mem   box_loss   cls_loss   dfl_loss  Instances       Size\n"
          ]
        },
        {
          "output_type": "stream",
          "name": "stderr",
          "text": [
            "     96/200         0G     0.6651     0.7631      1.065         11        416: 100%|██████████| 5/5 [00:08<00:00,  1.63s/it]\n",
            "                 Class     Images  Instances      Box(P          R      mAP50  mAP50-95): 100%|██████████| 3/3 [00:02<00:00,  1.14it/s]"
          ]
        },
        {
          "output_type": "stream",
          "name": "stdout",
          "text": [
            "                   all         20         20      0.994          1      0.995       0.91\n"
          ]
        },
        {
          "output_type": "stream",
          "name": "stderr",
          "text": [
            "\n"
          ]
        },
        {
          "output_type": "stream",
          "name": "stdout",
          "text": [
            "\n",
            "      Epoch    GPU_mem   box_loss   cls_loss   dfl_loss  Instances       Size\n"
          ]
        },
        {
          "output_type": "stream",
          "name": "stderr",
          "text": [
            "     97/200         0G     0.6146     0.6885      1.042         11        416: 100%|██████████| 5/5 [00:08<00:00,  1.63s/it]\n",
            "                 Class     Images  Instances      Box(P          R      mAP50  mAP50-95): 100%|██████████| 3/3 [00:02<00:00,  1.09it/s]"
          ]
        },
        {
          "output_type": "stream",
          "name": "stdout",
          "text": [
            "                   all         20         20      0.994          1      0.995       0.91\n"
          ]
        },
        {
          "output_type": "stream",
          "name": "stderr",
          "text": [
            "\n"
          ]
        },
        {
          "output_type": "stream",
          "name": "stdout",
          "text": [
            "\n",
            "      Epoch    GPU_mem   box_loss   cls_loss   dfl_loss  Instances       Size\n"
          ]
        },
        {
          "output_type": "stream",
          "name": "stderr",
          "text": [
            "     98/200         0G     0.6477     0.6902      1.091          9        416: 100%|██████████| 5/5 [00:08<00:00,  1.63s/it]\n",
            "                 Class     Images  Instances      Box(P          R      mAP50  mAP50-95): 100%|██████████| 3/3 [00:03<00:00,  1.02s/it]"
          ]
        },
        {
          "output_type": "stream",
          "name": "stdout",
          "text": [
            "                   all         20         20      0.995          1      0.995      0.887\n"
          ]
        },
        {
          "output_type": "stream",
          "name": "stderr",
          "text": [
            "\n"
          ]
        },
        {
          "output_type": "stream",
          "name": "stdout",
          "text": [
            "\n",
            "      Epoch    GPU_mem   box_loss   cls_loss   dfl_loss  Instances       Size\n"
          ]
        },
        {
          "output_type": "stream",
          "name": "stderr",
          "text": [
            "     99/200         0G     0.6244     0.7926       1.04         13        416: 100%|██████████| 5/5 [00:07<00:00,  1.50s/it]\n",
            "                 Class     Images  Instances      Box(P          R      mAP50  mAP50-95): 100%|██████████| 3/3 [00:03<00:00,  1.27s/it]"
          ]
        },
        {
          "output_type": "stream",
          "name": "stdout",
          "text": [
            "                   all         20         20      0.995          1      0.995      0.887\n"
          ]
        },
        {
          "output_type": "stream",
          "name": "stderr",
          "text": [
            "\n"
          ]
        },
        {
          "output_type": "stream",
          "name": "stdout",
          "text": [
            "\n",
            "      Epoch    GPU_mem   box_loss   cls_loss   dfl_loss  Instances       Size\n"
          ]
        },
        {
          "output_type": "stream",
          "name": "stderr",
          "text": [
            "    100/200         0G     0.6836     0.7726      1.148         11        416: 100%|██████████| 5/5 [00:07<00:00,  1.45s/it]\n",
            "                 Class     Images  Instances      Box(P          R      mAP50  mAP50-95): 100%|██████████| 3/3 [00:03<00:00,  1.09s/it]"
          ]
        },
        {
          "output_type": "stream",
          "name": "stdout",
          "text": [
            "                   all         20         20      0.995          1      0.995      0.887\n"
          ]
        },
        {
          "output_type": "stream",
          "name": "stderr",
          "text": [
            "\n"
          ]
        },
        {
          "output_type": "stream",
          "name": "stdout",
          "text": [
            "\n",
            "      Epoch    GPU_mem   box_loss   cls_loss   dfl_loss  Instances       Size\n"
          ]
        },
        {
          "output_type": "stream",
          "name": "stderr",
          "text": [
            "    101/200         0G     0.5814     0.7173      1.055         14        416: 100%|██████████| 5/5 [00:07<00:00,  1.57s/it]\n",
            "                 Class     Images  Instances      Box(P          R      mAP50  mAP50-95): 100%|██████████| 3/3 [00:02<00:00,  1.08it/s]"
          ]
        },
        {
          "output_type": "stream",
          "name": "stdout",
          "text": [
            "                   all         20         20      0.993          1      0.995      0.893\n"
          ]
        },
        {
          "output_type": "stream",
          "name": "stderr",
          "text": [
            "\n"
          ]
        },
        {
          "output_type": "stream",
          "name": "stdout",
          "text": [
            "\n",
            "      Epoch    GPU_mem   box_loss   cls_loss   dfl_loss  Instances       Size\n"
          ]
        },
        {
          "output_type": "stream",
          "name": "stderr",
          "text": [
            "    102/200         0G     0.6092     0.7754      1.034          8        416: 100%|██████████| 5/5 [00:08<00:00,  1.68s/it]\n",
            "                 Class     Images  Instances      Box(P          R      mAP50  mAP50-95): 100%|██████████| 3/3 [00:02<00:00,  1.11it/s]"
          ]
        },
        {
          "output_type": "stream",
          "name": "stdout",
          "text": [
            "                   all         20         20      0.993          1      0.995      0.893\n"
          ]
        },
        {
          "output_type": "stream",
          "name": "stderr",
          "text": [
            "\n"
          ]
        },
        {
          "output_type": "stream",
          "name": "stdout",
          "text": [
            "\n",
            "      Epoch    GPU_mem   box_loss   cls_loss   dfl_loss  Instances       Size\n"
          ]
        },
        {
          "output_type": "stream",
          "name": "stderr",
          "text": [
            "    103/200         0G     0.5622     0.7324      1.038         12        416: 100%|██████████| 5/5 [00:08<00:00,  1.67s/it]\n",
            "                 Class     Images  Instances      Box(P          R      mAP50  mAP50-95): 100%|██████████| 3/3 [00:02<00:00,  1.11it/s]"
          ]
        },
        {
          "output_type": "stream",
          "name": "stdout",
          "text": [
            "                   all         20         20      0.993          1      0.995      0.893\n"
          ]
        },
        {
          "output_type": "stream",
          "name": "stderr",
          "text": [
            "\n"
          ]
        },
        {
          "output_type": "stream",
          "name": "stdout",
          "text": [
            "\n",
            "      Epoch    GPU_mem   box_loss   cls_loss   dfl_loss  Instances       Size\n"
          ]
        },
        {
          "output_type": "stream",
          "name": "stderr",
          "text": [
            "    104/200         0G     0.6609      0.774      1.124          7        416: 100%|██████████| 5/5 [00:08<00:00,  1.66s/it]\n",
            "                 Class     Images  Instances      Box(P          R      mAP50  mAP50-95): 100%|██████████| 3/3 [00:02<00:00,  1.08it/s]"
          ]
        },
        {
          "output_type": "stream",
          "name": "stdout",
          "text": [
            "                   all         20         20      0.994          1      0.995      0.937\n"
          ]
        },
        {
          "output_type": "stream",
          "name": "stderr",
          "text": [
            "\n"
          ]
        },
        {
          "output_type": "stream",
          "name": "stdout",
          "text": [
            "\n",
            "      Epoch    GPU_mem   box_loss   cls_loss   dfl_loss  Instances       Size\n"
          ]
        },
        {
          "output_type": "stream",
          "name": "stderr",
          "text": [
            "    105/200         0G     0.5811     0.6819      1.033         14        416: 100%|██████████| 5/5 [00:07<00:00,  1.59s/it]\n",
            "                 Class     Images  Instances      Box(P          R      mAP50  mAP50-95): 100%|██████████| 3/3 [00:03<00:00,  1.03s/it]"
          ]
        },
        {
          "output_type": "stream",
          "name": "stdout",
          "text": [
            "                   all         20         20      0.994          1      0.995      0.937\n"
          ]
        },
        {
          "output_type": "stream",
          "name": "stderr",
          "text": [
            "\n"
          ]
        },
        {
          "output_type": "stream",
          "name": "stdout",
          "text": [
            "\n",
            "      Epoch    GPU_mem   box_loss   cls_loss   dfl_loss  Instances       Size\n"
          ]
        },
        {
          "output_type": "stream",
          "name": "stderr",
          "text": [
            "    106/200         0G     0.6336     0.7119     0.9903         13        416: 100%|██████████| 5/5 [00:08<00:00,  1.61s/it]\n",
            "                 Class     Images  Instances      Box(P          R      mAP50  mAP50-95): 100%|██████████| 3/3 [00:03<00:00,  1.23s/it]"
          ]
        },
        {
          "output_type": "stream",
          "name": "stdout",
          "text": [
            "                   all         20         20      0.994          1      0.995      0.937\n"
          ]
        },
        {
          "output_type": "stream",
          "name": "stderr",
          "text": [
            "\n"
          ]
        },
        {
          "output_type": "stream",
          "name": "stdout",
          "text": [
            "\n",
            "      Epoch    GPU_mem   box_loss   cls_loss   dfl_loss  Instances       Size\n"
          ]
        },
        {
          "output_type": "stream",
          "name": "stderr",
          "text": [
            "    107/200         0G     0.6109      0.688      1.074          8        416: 100%|██████████| 5/5 [00:07<00:00,  1.51s/it]\n",
            "                 Class     Images  Instances      Box(P          R      mAP50  mAP50-95): 100%|██████████| 3/3 [00:03<00:00,  1.23s/it]"
          ]
        },
        {
          "output_type": "stream",
          "name": "stdout",
          "text": [
            "                   all         20         20      0.994          1      0.995      0.953\n"
          ]
        },
        {
          "output_type": "stream",
          "name": "stderr",
          "text": [
            "\n"
          ]
        },
        {
          "output_type": "stream",
          "name": "stdout",
          "text": [
            "\n",
            "      Epoch    GPU_mem   box_loss   cls_loss   dfl_loss  Instances       Size\n"
          ]
        },
        {
          "output_type": "stream",
          "name": "stderr",
          "text": [
            "    108/200         0G     0.7432     0.7968      1.134          7        416: 100%|██████████| 5/5 [00:07<00:00,  1.48s/it]\n",
            "                 Class     Images  Instances      Box(P          R      mAP50  mAP50-95): 100%|██████████| 3/3 [00:02<00:00,  1.01it/s]"
          ]
        },
        {
          "output_type": "stream",
          "name": "stdout",
          "text": [
            "                   all         20         20      0.994          1      0.995      0.953\n"
          ]
        },
        {
          "output_type": "stream",
          "name": "stderr",
          "text": [
            "\n"
          ]
        },
        {
          "output_type": "stream",
          "name": "stdout",
          "text": [
            "\n",
            "      Epoch    GPU_mem   box_loss   cls_loss   dfl_loss  Instances       Size\n"
          ]
        },
        {
          "output_type": "stream",
          "name": "stderr",
          "text": [
            "    109/200         0G     0.7204     0.7871      1.123         11        416: 100%|██████████| 5/5 [00:07<00:00,  1.59s/it]\n",
            "                 Class     Images  Instances      Box(P          R      mAP50  mAP50-95): 100%|██████████| 3/3 [00:02<00:00,  1.05it/s]"
          ]
        },
        {
          "output_type": "stream",
          "name": "stdout",
          "text": [
            "                   all         20         20      0.994          1      0.995      0.953\n"
          ]
        },
        {
          "output_type": "stream",
          "name": "stderr",
          "text": [
            "\n"
          ]
        },
        {
          "output_type": "stream",
          "name": "stdout",
          "text": [
            "\n",
            "      Epoch    GPU_mem   box_loss   cls_loss   dfl_loss  Instances       Size\n"
          ]
        },
        {
          "output_type": "stream",
          "name": "stderr",
          "text": [
            "    110/200         0G       0.54     0.7046      1.009         12        416: 100%|██████████| 5/5 [00:08<00:00,  1.67s/it]\n",
            "                 Class     Images  Instances      Box(P          R      mAP50  mAP50-95): 100%|██████████| 3/3 [00:02<00:00,  1.08it/s]"
          ]
        },
        {
          "output_type": "stream",
          "name": "stdout",
          "text": [
            "                   all         20         20      0.995          1      0.995      0.942\n"
          ]
        },
        {
          "output_type": "stream",
          "name": "stderr",
          "text": [
            "\n"
          ]
        },
        {
          "output_type": "stream",
          "name": "stdout",
          "text": [
            "\n",
            "      Epoch    GPU_mem   box_loss   cls_loss   dfl_loss  Instances       Size\n"
          ]
        },
        {
          "output_type": "stream",
          "name": "stderr",
          "text": [
            "    111/200         0G     0.5953     0.7186      1.072         11        416: 100%|██████████| 5/5 [00:08<00:00,  1.66s/it]\n",
            "                 Class     Images  Instances      Box(P          R      mAP50  mAP50-95): 100%|██████████| 3/3 [00:02<00:00,  1.13it/s]"
          ]
        },
        {
          "output_type": "stream",
          "name": "stdout",
          "text": [
            "                   all         20         20      0.995          1      0.995      0.942\n"
          ]
        },
        {
          "output_type": "stream",
          "name": "stderr",
          "text": [
            "\n"
          ]
        },
        {
          "output_type": "stream",
          "name": "stdout",
          "text": [
            "\n",
            "      Epoch    GPU_mem   box_loss   cls_loss   dfl_loss  Instances       Size\n"
          ]
        },
        {
          "output_type": "stream",
          "name": "stderr",
          "text": [
            "    112/200         0G     0.6781     0.7582      1.077         13        416: 100%|██████████| 5/5 [00:08<00:00,  1.67s/it]\n",
            "                 Class     Images  Instances      Box(P          R      mAP50  mAP50-95): 100%|██████████| 3/3 [00:02<00:00,  1.08it/s]"
          ]
        },
        {
          "output_type": "stream",
          "name": "stdout",
          "text": [
            "                   all         20         20      0.995          1      0.995      0.942\n"
          ]
        },
        {
          "output_type": "stream",
          "name": "stderr",
          "text": [
            "\n"
          ]
        },
        {
          "output_type": "stream",
          "name": "stdout",
          "text": [
            "\n",
            "      Epoch    GPU_mem   box_loss   cls_loss   dfl_loss  Instances       Size\n"
          ]
        },
        {
          "output_type": "stream",
          "name": "stderr",
          "text": [
            "    113/200         0G     0.6375     0.7189      1.063         15        416: 100%|██████████| 5/5 [00:07<00:00,  1.59s/it]\n",
            "                 Class     Images  Instances      Box(P          R      mAP50  mAP50-95): 100%|██████████| 3/3 [00:03<00:00,  1.05s/it]"
          ]
        },
        {
          "output_type": "stream",
          "name": "stdout",
          "text": [
            "                   all         20         20      0.995          1      0.995      0.942\n"
          ]
        },
        {
          "output_type": "stream",
          "name": "stderr",
          "text": [
            "\n"
          ]
        },
        {
          "output_type": "stream",
          "name": "stdout",
          "text": [
            "\n",
            "      Epoch    GPU_mem   box_loss   cls_loss   dfl_loss  Instances       Size\n"
          ]
        },
        {
          "output_type": "stream",
          "name": "stderr",
          "text": [
            "    114/200         0G     0.6618     0.7805      1.061         13        416: 100%|██████████| 5/5 [00:07<00:00,  1.47s/it]\n",
            "                 Class     Images  Instances      Box(P          R      mAP50  mAP50-95): 100%|██████████| 3/3 [00:03<00:00,  1.24s/it]"
          ]
        },
        {
          "output_type": "stream",
          "name": "stdout",
          "text": [
            "                   all         20         20      0.995          1      0.995      0.927\n"
          ]
        },
        {
          "output_type": "stream",
          "name": "stderr",
          "text": [
            "\n"
          ]
        },
        {
          "output_type": "stream",
          "name": "stdout",
          "text": [
            "\n",
            "      Epoch    GPU_mem   box_loss   cls_loss   dfl_loss  Instances       Size\n"
          ]
        },
        {
          "output_type": "stream",
          "name": "stderr",
          "text": [
            "    115/200         0G     0.6016     0.6725      1.014         10        416: 100%|██████████| 5/5 [00:07<00:00,  1.45s/it]\n",
            "                 Class     Images  Instances      Box(P          R      mAP50  mAP50-95): 100%|██████████| 3/3 [00:02<00:00,  1.02it/s]"
          ]
        },
        {
          "output_type": "stream",
          "name": "stdout",
          "text": [
            "                   all         20         20      0.995          1      0.995      0.927\n"
          ]
        },
        {
          "output_type": "stream",
          "name": "stderr",
          "text": [
            "\n"
          ]
        },
        {
          "output_type": "stream",
          "name": "stdout",
          "text": [
            "\n",
            "      Epoch    GPU_mem   box_loss   cls_loss   dfl_loss  Instances       Size\n"
          ]
        },
        {
          "output_type": "stream",
          "name": "stderr",
          "text": [
            "    116/200         0G     0.6345     0.6635      1.009         15        416: 100%|██████████| 5/5 [00:07<00:00,  1.56s/it]\n",
            "                 Class     Images  Instances      Box(P          R      mAP50  mAP50-95): 100%|██████████| 3/3 [00:02<00:00,  1.10it/s]"
          ]
        },
        {
          "output_type": "stream",
          "name": "stdout",
          "text": [
            "                   all         20         20      0.995          1      0.995      0.927\n"
          ]
        },
        {
          "output_type": "stream",
          "name": "stderr",
          "text": [
            "\n"
          ]
        },
        {
          "output_type": "stream",
          "name": "stdout",
          "text": [
            "\n",
            "      Epoch    GPU_mem   box_loss   cls_loss   dfl_loss  Instances       Size\n"
          ]
        },
        {
          "output_type": "stream",
          "name": "stderr",
          "text": [
            "    117/200         0G     0.6552     0.7623      1.097          9        416: 100%|██████████| 5/5 [00:09<00:00,  1.88s/it]\n",
            "                 Class     Images  Instances      Box(P          R      mAP50  mAP50-95): 100%|██████████| 3/3 [00:02<00:00,  1.08it/s]"
          ]
        },
        {
          "output_type": "stream",
          "name": "stdout",
          "text": [
            "                   all         20         20      0.995          1      0.995      0.909\n"
          ]
        },
        {
          "output_type": "stream",
          "name": "stderr",
          "text": [
            "\n"
          ]
        },
        {
          "output_type": "stream",
          "name": "stdout",
          "text": [
            "\n",
            "      Epoch    GPU_mem   box_loss   cls_loss   dfl_loss  Instances       Size\n"
          ]
        },
        {
          "output_type": "stream",
          "name": "stderr",
          "text": [
            "    118/200         0G     0.7389     0.7453      1.207         12        416: 100%|██████████| 5/5 [00:08<00:00,  1.66s/it]\n",
            "                 Class     Images  Instances      Box(P          R      mAP50  mAP50-95): 100%|██████████| 3/3 [00:02<00:00,  1.08it/s]"
          ]
        },
        {
          "output_type": "stream",
          "name": "stdout",
          "text": [
            "                   all         20         20      0.995          1      0.995      0.909\n"
          ]
        },
        {
          "output_type": "stream",
          "name": "stderr",
          "text": [
            "\n"
          ]
        },
        {
          "output_type": "stream",
          "name": "stdout",
          "text": [
            "\n",
            "      Epoch    GPU_mem   box_loss   cls_loss   dfl_loss  Instances       Size\n"
          ]
        },
        {
          "output_type": "stream",
          "name": "stderr",
          "text": [
            "    119/200         0G     0.5267     0.6679      1.023          7        416: 100%|██████████| 5/5 [00:08<00:00,  1.63s/it]\n",
            "                 Class     Images  Instances      Box(P          R      mAP50  mAP50-95): 100%|██████████| 3/3 [00:03<00:00,  1.02s/it]"
          ]
        },
        {
          "output_type": "stream",
          "name": "stdout",
          "text": [
            "                   all         20         20      0.995          1      0.995      0.909\n"
          ]
        },
        {
          "output_type": "stream",
          "name": "stderr",
          "text": [
            "\n"
          ]
        },
        {
          "output_type": "stream",
          "name": "stdout",
          "text": [
            "\n",
            "      Epoch    GPU_mem   box_loss   cls_loss   dfl_loss  Instances       Size\n"
          ]
        },
        {
          "output_type": "stream",
          "name": "stderr",
          "text": [
            "    120/200         0G     0.5788     0.6724      1.102         11        416: 100%|██████████| 5/5 [00:07<00:00,  1.50s/it]\n",
            "                 Class     Images  Instances      Box(P          R      mAP50  mAP50-95): 100%|██████████| 3/3 [00:03<00:00,  1.26s/it]"
          ]
        },
        {
          "output_type": "stream",
          "name": "stdout",
          "text": [
            "                   all         20         20      0.995          1      0.995      0.927\n"
          ]
        },
        {
          "output_type": "stream",
          "name": "stderr",
          "text": [
            "\n"
          ]
        },
        {
          "output_type": "stream",
          "name": "stdout",
          "text": [
            "\n",
            "      Epoch    GPU_mem   box_loss   cls_loss   dfl_loss  Instances       Size\n"
          ]
        },
        {
          "output_type": "stream",
          "name": "stderr",
          "text": [
            "    121/200         0G     0.5774      0.712      1.049         13        416: 100%|██████████| 5/5 [00:07<00:00,  1.53s/it]\n",
            "                 Class     Images  Instances      Box(P          R      mAP50  mAP50-95): 100%|██████████| 3/3 [00:03<00:00,  1.22s/it]"
          ]
        },
        {
          "output_type": "stream",
          "name": "stdout",
          "text": [
            "                   all         20         20      0.995          1      0.995      0.927\n"
          ]
        },
        {
          "output_type": "stream",
          "name": "stderr",
          "text": [
            "\n"
          ]
        },
        {
          "output_type": "stream",
          "name": "stdout",
          "text": [
            "\n",
            "      Epoch    GPU_mem   box_loss   cls_loss   dfl_loss  Instances       Size\n"
          ]
        },
        {
          "output_type": "stream",
          "name": "stderr",
          "text": [
            "    122/200         0G     0.7374     0.7685      1.146         10        416: 100%|██████████| 5/5 [00:07<00:00,  1.57s/it]\n",
            "                 Class     Images  Instances      Box(P          R      mAP50  mAP50-95): 100%|██████████| 3/3 [00:02<00:00,  1.07it/s]"
          ]
        },
        {
          "output_type": "stream",
          "name": "stdout",
          "text": [
            "                   all         20         20      0.995          1      0.995      0.927\n"
          ]
        },
        {
          "output_type": "stream",
          "name": "stderr",
          "text": [
            "\n"
          ]
        },
        {
          "output_type": "stream",
          "name": "stdout",
          "text": [
            "\n",
            "      Epoch    GPU_mem   box_loss   cls_loss   dfl_loss  Instances       Size\n"
          ]
        },
        {
          "output_type": "stream",
          "name": "stderr",
          "text": [
            "    123/200         0G     0.6474     0.7083      1.036         13        416: 100%|██████████| 5/5 [00:08<00:00,  1.63s/it]\n",
            "                 Class     Images  Instances      Box(P          R      mAP50  mAP50-95): 100%|██████████| 3/3 [00:02<00:00,  1.12it/s]"
          ]
        },
        {
          "output_type": "stream",
          "name": "stdout",
          "text": [
            "                   all         20         20      0.995          1      0.995      0.915\n"
          ]
        },
        {
          "output_type": "stream",
          "name": "stderr",
          "text": [
            "\n"
          ]
        },
        {
          "output_type": "stream",
          "name": "stdout",
          "text": [
            "\n",
            "      Epoch    GPU_mem   box_loss   cls_loss   dfl_loss  Instances       Size\n"
          ]
        },
        {
          "output_type": "stream",
          "name": "stderr",
          "text": [
            "    124/200         0G     0.5829     0.6726      1.029         10        416: 100%|██████████| 5/5 [00:09<00:00,  1.81s/it]\n",
            "                 Class     Images  Instances      Box(P          R      mAP50  mAP50-95): 100%|██████████| 3/3 [00:03<00:00,  1.06s/it]"
          ]
        },
        {
          "output_type": "stream",
          "name": "stdout",
          "text": [
            "                   all         20         20      0.995          1      0.995      0.915\n"
          ]
        },
        {
          "output_type": "stream",
          "name": "stderr",
          "text": [
            "\n"
          ]
        },
        {
          "output_type": "stream",
          "name": "stdout",
          "text": [
            "\n",
            "      Epoch    GPU_mem   box_loss   cls_loss   dfl_loss  Instances       Size\n"
          ]
        },
        {
          "output_type": "stream",
          "name": "stderr",
          "text": [
            "    125/200         0G     0.4241     0.6506     0.9327         13        416: 100%|██████████| 5/5 [00:09<00:00,  1.86s/it]\n",
            "                 Class     Images  Instances      Box(P          R      mAP50  mAP50-95): 100%|██████████| 3/3 [00:02<00:00,  1.08it/s]"
          ]
        },
        {
          "output_type": "stream",
          "name": "stdout",
          "text": [
            "                   all         20         20      0.995          1      0.995      0.915\n"
          ]
        },
        {
          "output_type": "stream",
          "name": "stderr",
          "text": [
            "\n"
          ]
        },
        {
          "output_type": "stream",
          "name": "stdout",
          "text": [
            "\n",
            "      Epoch    GPU_mem   box_loss   cls_loss   dfl_loss  Instances       Size\n"
          ]
        },
        {
          "output_type": "stream",
          "name": "stderr",
          "text": [
            "    126/200         0G     0.5613     0.6975     0.9967         12        416: 100%|██████████| 5/5 [00:08<00:00,  1.74s/it]\n",
            "                 Class     Images  Instances      Box(P          R      mAP50  mAP50-95): 100%|██████████| 3/3 [00:02<00:00,  1.10it/s]"
          ]
        },
        {
          "output_type": "stream",
          "name": "stdout",
          "text": [
            "                   all         20         20      0.994          1      0.995       0.92\n"
          ]
        },
        {
          "output_type": "stream",
          "name": "stderr",
          "text": [
            "\n"
          ]
        },
        {
          "output_type": "stream",
          "name": "stdout",
          "text": [
            "\n",
            "      Epoch    GPU_mem   box_loss   cls_loss   dfl_loss  Instances       Size\n"
          ]
        },
        {
          "output_type": "stream",
          "name": "stderr",
          "text": [
            "    127/200         0G      0.544     0.6607      1.019         10        416: 100%|██████████| 5/5 [00:08<00:00,  1.76s/it]\n",
            "                 Class     Images  Instances      Box(P          R      mAP50  mAP50-95): 100%|██████████| 3/3 [00:02<00:00,  1.04it/s]"
          ]
        },
        {
          "output_type": "stream",
          "name": "stdout",
          "text": [
            "                   all         20         20      0.994          1      0.995       0.92\n",
            "\u001b[34m\u001b[1mEarlyStopping: \u001b[0mTraining stopped early as no improvement observed in last 20 epochs. Best results observed at epoch 107, best model saved as best.pt.\n",
            "To update EarlyStopping(patience=20) pass a new patience value, i.e. `patience=300` or use `patience=0` to disable EarlyStopping.\n"
          ]
        },
        {
          "output_type": "stream",
          "name": "stderr",
          "text": [
            "\n"
          ]
        },
        {
          "output_type": "stream",
          "name": "stdout",
          "text": [
            "\n",
            "127 epochs completed in 0.401 hours.\n",
            "Optimizer stripped from runs/train/mango_apple_detector/weights/last.pt, 6.2MB\n",
            "Optimizer stripped from runs/train/mango_apple_detector/weights/best.pt, 6.2MB\n",
            "\n",
            "Validating runs/train/mango_apple_detector/weights/best.pt...\n",
            "Ultralytics 8.3.163 🚀 Python-3.11.13 torch-2.6.0+cu124 CPU (Intel Xeon 2.20GHz)\n",
            "Model summary (fused): 72 layers, 3,006,038 parameters, 0 gradients, 8.1 GFLOPs\n"
          ]
        },
        {
          "output_type": "stream",
          "name": "stderr",
          "text": [
            "                 Class     Images  Instances      Box(P          R      mAP50  mAP50-95): 100%|██████████| 3/3 [00:02<00:00,  1.10it/s]\n"
          ]
        },
        {
          "output_type": "stream",
          "name": "stdout",
          "text": [
            "                   all         20         20      0.994          1      0.995      0.953\n",
            "                 apple         10         10      0.992          1      0.995      0.947\n",
            "                 mango         10         10      0.995          1      0.995      0.958\n",
            "Speed: 3.3ms preprocess, 124.0ms inference, 0.0ms loss, 3.5ms postprocess per image\n",
            "Results saved to \u001b[1mruns/train/mango_apple_detector\u001b[0m\n"
          ]
        }
      ],
      "source": [
        "# Step 1: Install Ultralytics\n",
        "!pip install -q ultralytics\n",
        "from ultralytics import YOLO\n",
        "from IPython.display import Image\n",
        "\n",
        "# Step 2: Load Pretrained Model (Transfer Learning)\n",
        "model = YOLO(\"yolov8n.pt\")  # use pretrained weights instead of training from scratch\n",
        "\n",
        "# Step 3: Train with Enhanced Config\n",
        "results = model.train(\n",
        "    data=\"YOLO_dataset/data.yaml\",   # path to data config\n",
        "    epochs=200,                      # more epochs for small dataset\n",
        "    imgsz=416,                       # standard YOLO input size\n",
        "    batch=4,                         # small batch size for low GPU/RAM\n",
        "    patience=20,                     # early stopping patience\n",
        "    name=\"mango_apple_detector\",     # custom run name\n",
        "    save=True,                       # save final and best models\n",
        "    save_period=10,                  # save checkpoint every 10 epochs\n",
        "    cache=True,                      # cache images in memory for speed\n",
        "    project=\"runs/train\",            # output directory\n",
        "    val=True,                        # run validation at end of every epoch\n",
        "    verbose=True                     # show progress\n",
        ")\n"
      ]
    },
    {
      "cell_type": "markdown",
      "source": [
        "# Test Model"
      ],
      "metadata": {
        "id": "4VU_yYJbFyD5"
      }
    },
    {
      "cell_type": "code",
      "source": [
        "# Inference on one of your test images\n",
        "results = model.predict(source=\"YOLO_dataset/images/train/apple9.jpeg\", save=True, conf=0.5)\n"
      ],
      "metadata": {
        "colab": {
          "base_uri": "https://localhost:8080/"
        },
        "id": "AjAbsRSm93yj",
        "outputId": "cce15afd-2514-4e97-f965-ed085621cefb"
      },
      "execution_count": 7,
      "outputs": [
        {
          "output_type": "stream",
          "name": "stdout",
          "text": [
            "\n",
            "image 1/1 /content/YOLO_dataset/images/train/apple9.jpeg: 416x416 1 apple, 125.7ms\n",
            "Speed: 3.1ms preprocess, 125.7ms inference, 5.4ms postprocess per image at shape (1, 3, 416, 416)\n",
            "Results saved to \u001b[1mruns/train/mango_apple_detector2\u001b[0m\n"
          ]
        }
      ]
    },
    {
      "cell_type": "markdown",
      "source": [
        "# Look for image files in the prediction directory"
      ],
      "metadata": {
        "id": "0hTnnEoiF2Dy"
      }
    },
    {
      "cell_type": "code",
      "source": [
        "from IPython.display import Image, display\n",
        "import os\n",
        "\n",
        "output_folder = \"runs/train/mango_apple_detector2\"\n",
        "# Look for image files in the prediction directory\n",
        "for file in os.listdir(output_folder):\n",
        "    if file.endswith(\".jpg\") or file.endswith(\".jpeg\") or file.endswith(\".png\"):\n",
        "        display(Image(filename=os.path.join(output_folder, file)))\n"
      ],
      "metadata": {
        "colab": {
          "base_uri": "https://localhost:8080/",
          "height": 242
        },
        "id": "LZT0AYw_CwFZ",
        "outputId": "5d096943-1859-4cdb-fb81-1fa2ee2e1f08"
      },
      "execution_count": 9,
      "outputs": [
        {
          "output_type": "display_data",
          "data": {
            "image/jpeg": "[encoded data removed]",
            "text/plain": [
              "<IPython.core.display.Image object>"
            ]
          },
          "metadata": {}
        }
      ]
    },
    {
      "cell_type": "markdown",
      "source": [
        "# Download Model"
      ],
      "metadata": {
        "id": "VfoDKh3SF4MD"
      }
    },
    {
      "cell_type": "code",
      "source": [
        "from google.colab import files\n",
        "# files.download('runs/detect/train/weights/best.pt')\n",
        "files.download('/content/runs/train/mango_apple_detector/weights/best.pt')\n",
        "\n"
      ],
      "metadata": {
        "colab": {
          "base_uri": "https://localhost:8080/",
          "height": 17
        },
        "id": "jZdBNWwe-Wmj",
        "outputId": "cc39aeb5-acbf-4721-98f1-55b9d8851dad"
      },
      "execution_count": 11,
      "outputs": [
        {
          "output_type": "display_data",
          "data": {
            "text/plain": [
              "<IPython.core.display.Javascript object>"
            ],
            "application/javascript": [
              "\n",
              "    async function download(id, filename, size) {\n",
              "      if (!google.colab.kernel.accessAllowed) {\n",
              "        return;\n",
              "      }\n",
              "      const div = document.createElement('div');\n",
              "      const label = document.createElement('label');\n",
              "      label.textContent = `Downloading \"${filename}\": `;\n",
              "      div.appendChild(label);\n",
              "      const progress = document.createElement('progress');\n",
              "      progress.max = size;\n",
              "      div.appendChild(progress);\n",
              "      document.body.appendChild(div);\n",
              "\n",
              "      const buffers = [];\n",
              "      let downloaded = 0;\n",
              "\n",
              "      const channel = await google.colab.kernel.comms.open(id);\n",
              "      // Send a message to notify the kernel that we're ready.\n",
              "      channel.send({})\n",
              "\n",
              "      for await (const message of channel.messages) {\n",
              "        // Send a message to notify the kernel that we're ready.\n",
              "        channel.send({})\n",
              "        if (message.buffers) {\n",
              "          for (const buffer of message.buffers) {\n",
              "            buffers.push(buffer);\n",
              "            downloaded += buffer.byteLength;\n",
              "            progress.value = downloaded;\n",
              "          }\n",
              "        }\n",
              "      }\n",
              "      const blob = new Blob(buffers, {type: 'application/binary'});\n",
              "      const a = document.createElement('a');\n",
              "      a.href = window.URL.createObjectURL(blob);\n",
              "      a.download = filename;\n",
              "      div.appendChild(a);\n",
              "      a.click();\n",
              "      div.remove();\n",
              "    }\n",
              "  "
            ]
          },
          "metadata": {}
        },
        {
          "output_type": "display_data",
          "data": {
            "text/plain": [
              "<IPython.core.display.Javascript object>"
            ],
            "application/javascript": [
              "download(\"download_7ed04c5a-21ef-42d6-a3c6-8441ac76bf8a\", \"best.pt\", 6225955)"
            ]
          },
          "metadata": {}
        }
      ]
    },
    {
      "cell_type": "markdown",
      "source": [
        "# **Bonus:** If you want to do prediction using your trained saved model follow these steps:"
      ],
      "metadata": {
        "id": "xv6BiL-2SrBD"
      }
    },
    {
      "cell_type": "markdown",
      "source": [
        "Install YOLOv8 (if not already)"
      ],
      "metadata": {
        "id": "11j3zMavSzWL"
      }
    },
    {
      "cell_type": "code",
      "source": [
        "# !pip install -q ultralytics"
      ],
      "metadata": {
        "id": "KyV1bo4ZSyzc"
      },
      "execution_count": 12,
      "outputs": []
    },
    {
      "cell_type": "markdown",
      "source": [
        "Load Your Model"
      ],
      "metadata": {
        "id": "rDids_nBS4Zx"
      }
    },
    {
      "cell_type": "code",
      "source": [
        "from ultralytics import YOLO\n",
        "\n",
        "# Load the trained model\n",
        "model = YOLO(\"runs/train/mango_apple_detector/weights/best.pt\")\n"
      ],
      "metadata": {
        "id": "GICBdYwGS-ND"
      },
      "execution_count": 13,
      "outputs": []
    },
    {
      "cell_type": "markdown",
      "source": [
        "Or if you uploaded the .pt file from your system:"
      ],
      "metadata": {
        "id": "ex1CoioZTAKj"
      }
    },
    {
      "cell_type": "code",
      "source": [
        "# from google.colab import files\n",
        "# uploaded = files.upload()  # Then choose your `best.pt` file\n",
        "\n",
        "# Now load it\n",
        "# model = YOLO(\"best.pt\")\n"
      ],
      "metadata": {
        "id": "J5Zy8EkwTEOz"
      },
      "execution_count": 14,
      "outputs": []
    },
    {
      "cell_type": "markdown",
      "source": [
        "Run Inference on an Image"
      ],
      "metadata": {
        "id": "y9kU26RuTGkL"
      }
    },
    {
      "cell_type": "code",
      "source": [
        "results = model.predict(source=\"mango.png\", conf=0.5, save=True)\n"
      ],
      "metadata": {
        "colab": {
          "base_uri": "https://localhost:8080/"
        },
        "id": "h-xYVt1FTIRS",
        "outputId": "63b372f9-2594-4bac-ad53-c72295de2cec"
      },
      "execution_count": 16,
      "outputs": [
        {
          "output_type": "stream",
          "name": "stdout",
          "text": [
            "\n",
            "image 1/1 /content/mango.png: 416x416 1 mango, 155.8ms\n",
            "Speed: 3.3ms preprocess, 155.8ms inference, 1.6ms postprocess per image at shape (1, 3, 416, 416)\n",
            "Results saved to \u001b[1mruns/detect/predict\u001b[0m\n"
          ]
        }
      ]
    },
    {
      "cell_type": "markdown",
      "source": [
        "View the Prediction Output"
      ],
      "metadata": {
        "id": "yY9EcBIbTLab"
      }
    },
    {
      "cell_type": "code",
      "source": [
        "import os\n",
        "from IPython.display import Image, display\n",
        "\n",
        "image_path = \"runs/detect/predict/mango.jpg\"\n",
        "\n",
        "if os.path.exists(image_path):\n",
        "    display(Image(filename=image_path))\n",
        "else:\n",
        "    print(\"Image not found:\", image_path)\n"
      ],
      "metadata": {
        "colab": {
          "base_uri": "https://localhost:8080/",
          "height": 646
        },
        "id": "wOiAaEvjTL_i",
        "outputId": "946b2434-8c02-4c49-c157-7b343cd6e6ed"
      },
      "execution_count": 17,
      "outputs": [
        {
          "output_type": "display_data",
          "data": {
            "image/jpeg": "[encoded data removed]",
            "text/plain": [
              "<IPython.core.display.Image object>"
            ]
          },
          "metadata": {}
        }
      ]
    },
    {
      "cell_type": "code",
      "source": [
        "results = model.predict(source=\"orange1.jpeg\", conf=0.5, save=True)\n"
      ],
      "metadata": {
        "id": "M3SUk3OdHepf",
        "outputId": "7e842bd2-4b79-409f-f96f-cd430932fac7",
        "colab": {
          "base_uri": "https://localhost:8080/"
        }
      },
      "execution_count": 23,
      "outputs": [
        {
          "output_type": "stream",
          "name": "stdout",
          "text": [
            "\n",
            "image 1/1 /content/orange1.jpeg: 416x416 (no detections), 166.4ms\n",
            "Speed: 3.7ms preprocess, 166.4ms inference, 0.9ms postprocess per image at shape (1, 3, 416, 416)\n",
            "Results saved to \u001b[1mruns/detect/predict\u001b[0m\n"
          ]
        }
      ]
    },
    {
      "cell_type": "code",
      "source": [
        "import os\n",
        "from IPython.display import Image, display\n",
        "\n",
        "image_path = \"runs/detect/predict/orange1.jpg\"\n",
        "\n",
        "if os.path.exists(image_path):\n",
        "    display(Image(filename=image_path))\n",
        "else:\n",
        "    print(\"Image not found:\", image_path)\n"
      ],
      "metadata": {
        "id": "4hYxZbdJH5yY",
        "outputId": "5ee1a9b5-3cf6-4d01-da3d-3c5a6c961118",
        "colab": {
          "base_uri": "https://localhost:8080/",
          "height": 209
        }
      },
      "execution_count": 24,
      "outputs": [
        {
          "output_type": "display_data",
          "data": {
            "image/jpeg": "[encoded data removed]",
            "text/plain": [
              "<IPython.core.display.Image object>"
            ]
          },
          "metadata": {}
        }
      ]
    },
    {
      "cell_type": "markdown",
      "source": [
        "# Exercise ToDo"
      ],
      "metadata": {
        "id": "1so495ZiF7A6"
      }
    },
    {
      "cell_type": "markdown",
      "source": [
        "\n",
        "\n",
        "---\n",
        "\n",
        "## **Simple Object Detection Ideas (for 10–20 images per class)**\n",
        "\n",
        "These pairs work well because they are:\n",
        "\n",
        "* Visually distinct\n",
        "* Easy to photograph or download\n",
        "* Easy to annotate with bounding boxes\n",
        "* Real-world relevant for small projects or demos\n",
        "\n",
        "---\n",
        "\n",
        "### 🍫 1. **Pen vs Eraser**\n",
        "\n",
        "* Very different shapes and colors\n",
        "* You can collect them easily\n",
        "* Great for a “stationery item” detector\n",
        "\n",
        "---\n",
        "\n",
        "### 🍽 2. **Spoon vs Fork**\n",
        "\n",
        "* Common kitchen objects\n",
        "* Easy to photograph\n",
        "* Good to teach fine shape differences\n",
        "\n",
        "---\n",
        "\n",
        "### 🎧 3. **Headphones vs Charger**\n",
        "\n",
        "* Useful for distinguishing electronic accessories\n",
        "* Can be used for object sorters\n",
        "\n",
        "---\n",
        "\n",
        "### 🕶 4. **Glasses vs Watch**\n",
        "\n",
        "* Useful for wearable detection projects\n",
        "* Clearly different geometry\n",
        "\n",
        "---\n",
        "\n",
        "### 🖐️ 5. **Hand vs Fist** (open hand vs closed hand)\n",
        "\n",
        "* Interesting for gesture detection\n",
        "* Good intro to pose-aware bounding box models\n",
        "\n",
        "---\n",
        "\n",
        "### 📱 6. **Mobile Phone vs Remote Control**\n",
        "\n",
        "* Look similar — good for learning fine classification\n",
        "* Good for object confusion experiments\n",
        "\n",
        "---\n",
        "\n",
        "### 🪑 7. **Chair vs Table Corner**\n",
        "\n",
        "* Good for learning furniture detection (room AI)\n",
        "* May require consistent angles\n",
        "\n",
        "---\n",
        "\n",
        "### 🧴 8. **Bottle vs Can**\n",
        "\n",
        "* Use water bottle vs Coke/Pepsi can\n",
        "* Easy to collect and annotate\n",
        "\n",
        "---\n",
        "\n",
        "### 🧠 Bonus: Use Common Dataset Subsets\n",
        "\n",
        "You can also grab a few images from larger public datasets like:\n",
        "\n",
        "* **Google Open Images**\n",
        "* **Roboflow datasets**\n",
        "* **Kaggle** subsets\n",
        "\n",
        "---\n",
        "\n",
        "## 🧰 Tools You Already Know\n",
        "\n",
        "| Task       | Tool                                   |\n",
        "| ---------- | -------------------------------------- |\n",
        "| Annotation | `LabelImg` (Pascal VOC XML)            |\n",
        "| Conversion | Python script to YOLO format           |\n",
        "| Training   | YOLOv8 via Ultralytics                 |\n",
        "| Platform   | Google Colab                           |\n",
        "| Testing    | `model.predict(...)` and `results.png` |\n",
        "\n",
        "---\n",
        "\n",
        "## 📝 Steps to Follow (Same as Apple/Mango)\n",
        "\n",
        "1. Collect 5–10 images each of **your new classes**\n",
        "2. Annotate each using **LabelImg** with bounding boxes\n",
        "3. Convert Pascal VOC XML to YOLO format\n",
        "4. Organize into:\n",
        "\n",
        "   ```\n",
        "   YOLO_dataset/\n",
        "   ├── images/train/\n",
        "   ├── labels/train/\n",
        "   └── data.yaml\n",
        "   ```\n",
        "5. Train with transfer learning:\n",
        "\n",
        "   ```python\n",
        "   model = YOLO(\"yolov8n.pt\")\n",
        "   model.train(data=\"YOLO_dataset/data.yaml\", epochs=100, imgsz=416)\n",
        "   ```\n",
        "6. Test with `model.predict(...)`\n",
        "\n",
        "---\n",
        "\n",
        "## 🧪 Want to Try Something Fun?\n",
        "\n",
        "Try:\n",
        "\n",
        "* **Banana vs Orange** 🍌🍊\n",
        "* **Mask vs No Mask** 😷❌\n",
        "* **Thumbs Up vs Thumbs Down** 👍👎\n",
        "* **Open Book vs Closed Book** 📖📕\n",
        "* **Keyboard vs Mouse**\n",
        "\n",
        "All of these work with <10 images per class for basic demos.\n",
        "\n",
        "---\n",
        "\n",
        "\n"
      ],
      "metadata": {
        "id": "oL-WBmb9Dsgi"
      }
    }
  ]
}