{
  "nbformat": 4,
  "nbformat_minor": 0,
  "metadata": {
    "colab": {
      "provenance": [],
      "authorship_tag": "ABX9TyOtu9MiEysTOTbt9rSuB4+1",
      "include_colab_link": true
    },
    "kernelspec": {
      "name": "python3",
      "display_name": "Python 3"
    },
    "language_info": {
      "name": "python"
    }
  },
  "cells": [
    {
      "cell_type": "markdown",
      "metadata": {
        "id": "view-in-github",
        "colab_type": "text"
      },
      "source": [
        "<a href=\"https://colab.research.google.com/github/lovnishverma/Python-Getting-Started/blob/main/python_built_in_modules.ipynb\" target=\"_parent\"><img src=\"https://colab.research.google.com/assets/colab-badge.svg\" alt=\"Open In Colab\"/></a>"
      ]
    },
    {
      "cell_type": "code",
      "execution_count": 20,
      "metadata": {
        "colab": {
          "base_uri": "https://localhost:8080/"
        },
        "id": "OLSgbxvWPdhx",
        "outputId": "833241db-7b34-4dea-8d57-056ed90b24a2"
      },
      "outputs": [
        {
          "output_type": "stream",
          "name": "stdout",
          "text": [
            "_abc\n",
            "_ast\n",
            "_bisect\n",
            "_blake2\n",
            "_codecs\n",
            "_collections\n",
            "_csv\n",
            "_datetime\n",
            "_elementtree\n",
            "_functools\n",
            "_heapq\n",
            "_imp\n",
            "_io\n",
            "_locale\n",
            "_md5\n",
            "_opcode\n",
            "_operator\n",
            "_pickle\n",
            "_posixsubprocess\n",
            "_random\n",
            "_sha1\n",
            "_sha256\n",
            "_sha3\n",
            "_sha512\n",
            "_signal\n",
            "_socket\n",
            "_sre\n",
            "_stat\n",
            "_statistics\n",
            "_string\n",
            "_struct\n",
            "_symtable\n",
            "_thread\n",
            "_tokenize\n",
            "_tracemalloc\n",
            "_warnings\n",
            "_weakref\n",
            "array\n",
            "atexit\n",
            "binascii\n",
            "builtins\n",
            "cmath\n",
            "errno\n",
            "faulthandler\n",
            "fcntl\n",
            "gc\n",
            "grp\n",
            "itertools\n",
            "marshal\n",
            "math\n",
            "posix\n",
            "pwd\n",
            "pyexpat\n",
            "select\n",
            "spwd\n",
            "sys\n",
            "syslog\n",
            "time\n",
            "unicodedata\n",
            "xxsubtype\n",
            "zlib\n"
          ]
        }
      ],
      "source": [
        "import sys\n",
        "for module in sys.builtin_module_names:\n",
        "  print(module)\n"
      ]
    },
    {
      "cell_type": "code",
      "source": [
        "import math\n",
        "\n",
        "print(math.sqrt(16))\n",
        "print(math.factorial(5))\n",
        "print(math.pi)\n"
      ],
      "metadata": {
        "colab": {
          "base_uri": "https://localhost:8080/"
        },
        "id": "r0hso8IkP39p",
        "outputId": "8f8d624b-b42b-47d1-990a-9d982c16d579"
      },
      "execution_count": 21,
      "outputs": [
        {
          "output_type": "stream",
          "name": "stdout",
          "text": [
            "4.0\n",
            "120\n",
            "3.141592653589793\n"
          ]
        }
      ]
    },
    {
      "cell_type": "code",
      "source": [
        "import random\n",
        "\n",
        "print(random.randint(1, 100))\n",
        "print(random.choice(['a', 'b']))\n",
        "random.shuffle([1, 2, 3, 4, 5])"
      ],
      "metadata": {
        "colab": {
          "base_uri": "https://localhost:8080/"
        },
        "id": "iMp0Qq_PQ2MP",
        "outputId": "2680ee3d-d9cc-404c-ab4e-1dd228bafe85"
      },
      "execution_count": 27,
      "outputs": [
        {
          "output_type": "stream",
          "name": "stdout",
          "text": [
            "30\n",
            "b\n"
          ]
        }
      ]
    },
    {
      "cell_type": "code",
      "source": [
        "from datetime import datetime, timedelta\n",
        "\n",
        "now = datetime.now()\n",
        "print(now)  # Current date and time\n",
        "\n",
        "future = now + timedelta(days=5)\n",
        "print(future)  # Date 5 days in the future\n"
      ],
      "metadata": {
        "colab": {
          "base_uri": "https://localhost:8080/"
        },
        "id": "oMpbjVm3Qiqx",
        "outputId": "6030daa1-9532-4441-f1a2-cb45991221a0"
      },
      "execution_count": 23,
      "outputs": [
        {
          "output_type": "stream",
          "name": "stdout",
          "text": [
            "2025-07-01 04:37:42.228089\n",
            "2025-07-06 04:37:42.228089\n"
          ]
        }
      ]
    },
    {
      "cell_type": "code",
      "source": [
        "import threading\n",
        "\n",
        "def greet():\n",
        "    print(\"Hello from thread!\")\n",
        "\n",
        "t = threading.Thread(target=greet)\n",
        "t.start()\n",
        "t.join()\n"
      ],
      "metadata": {
        "colab": {
          "base_uri": "https://localhost:8080/"
        },
        "id": "7Z5XoGLcQk2w",
        "outputId": "f19f4b73-9add-44de-892f-73d928f544fd"
      },
      "execution_count": 24,
      "outputs": [
        {
          "output_type": "stream",
          "name": "stdout",
          "text": [
            "Hello from thread!\n"
          ]
        }
      ]
    }
  ]
}