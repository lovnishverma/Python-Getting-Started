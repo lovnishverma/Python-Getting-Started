{
  "nbformat": 4,
  "nbformat_minor": 0,
  "metadata": {
    "colab": {
      "provenance": [],
      "authorship_tag": "ABX9TyNVvwzK3ROuIGd9YlXRQbYU",
      "include_colab_link": true
    },
    "kernelspec": {
      "name": "python3",
      "display_name": "Python 3"
    },
    "language_info": {
      "name": "python"
    }
  },
  "cells": [
    {
      "cell_type": "markdown",
      "metadata": {
        "id": "view-in-github",
        "colab_type": "text"
      },
      "source": [
        "<a href=\"https://colab.research.google.com/github/lovnishverma/Python-Getting-Started/blob/main/Object_Oriented_Programming_(OOP).ipynb\" target=\"_parent\"><img src=\"https://colab.research.google.com/assets/colab-badge.svg\" alt=\"Open In Colab\"/></a>"
      ]
    },
    {
      "cell_type": "markdown",
      "source": [
        "🧠 **What is Object-Oriented Programming (OOP)?**\n",
        "\n",
        "Object-Oriented Programming (OOP) is a programming paradigm (style) where you design and organize your code using classes and objects to represent real-world entities and their interactions.\n",
        "\n",
        "Instead of writing code as a list of instructions (like in procedural programming), OOP lets you think in terms of objects, which are self-contained units containing both data (attributes) and functions (methods)."
      ],
      "metadata": {
        "id": "M9wAiUrIBdGi"
      }
    },
    {
      "cell_type": "markdown",
      "source": [
        "**🚗 Think of an Example: A Car**\n",
        "\n",
        "| Concept        | Real-World Analogy                    |\n",
        "| -------------- | ------------------------------------- |\n",
        "| **Class**      | Blueprint of a Car                    |\n",
        "| **Object**     | A specific car like \"Red Toyota 2022\" |\n",
        "| **Attributes** | Color, Model, Year                    |\n",
        "| **Methods**    | Drive, Brake, Honk                    |\n"
      ],
      "metadata": {
        "id": "FkvanN7qBhvM"
      }
    },
    {
      "cell_type": "markdown",
      "source": [
        "**🔑 Core Concepts of OOP**\n",
        "\n",
        "| Concept           | Meaning                         | Example                   |\n",
        "| ----------------- | ------------------------------- | ------------------------- |\n",
        "| **Class**         | Blueprint or template           | `class Car:`              |\n",
        "| **Object**        | Instance of a class             | `my_car = Car()`          |\n",
        "| **Attribute**     | Variable inside object          | `self.color = \"red\"`      |\n",
        "| **Method**        | Function inside object          | `def drive(self):`        |\n",
        "| **Constructor**   | Initializes object (`__init__`) | `def __init__(self):`     |\n",
        "| **Inheritance**   | One class inherits another      | `class ElectricCar(Car):` |\n",
        "| **Encapsulation** | Hides internal data             | Using private variables   |\n",
        "| **Polymorphism**  | Same method works differently   | `speak()` in Dog and Cat  |\n"
      ],
      "metadata": {
        "id": "lDHw0zgcDNVB"
      }
    },
    {
      "cell_type": "markdown",
      "source": [
        "**✅ Benefits of OOP**\n",
        "\n",
        "Reusability – Write once, use again with inheritance.\n",
        "\n",
        "Modularity – Code is organized into separate classes.\n",
        "\n",
        "Scalability – Easy to expand as system grows.\n",
        "\n",
        "Maintainability – Easier to debug and update.\n",
        "\n",
        "Real-world modeling – Models real-world systems naturally.\n",
        "\n"
      ],
      "metadata": {
        "id": "xSTrtxUcDR9x"
      }
    },
    {
      "cell_type": "markdown",
      "source": [
        "**🔁 Quick Comparison: Procedural vs OOP**\n",
        "\n",
        "| Feature             | Procedural                | OOP               |\n",
        "| ------------------- | ------------------------- | ----------------- |\n",
        "| Code organized as   | Functions                 | Objects & Classes |\n",
        "| Data                | Global or passed manually | Stored in objects |\n",
        "| Real-world modeling | Not natural               | Very natural      |\n",
        "| Example             | `add(x, y)`               | `calc.add(x, y)`  |\n"
      ],
      "metadata": {
        "id": "-3bqSjFsDVjh"
      }
    },
    {
      "cell_type": "markdown",
      "source": [
        "**📦 Step 1: Creating a Class and Object**"
      ],
      "metadata": {
        "id": "wcwJVZPFBjNq"
      }
    },
    {
      "cell_type": "code",
      "execution_count": 21,
      "metadata": {
        "colab": {
          "base_uri": "https://localhost:8080/"
        },
        "id": "8kQejL56BXw2",
        "outputId": "931847de-55f6-476a-bde4-615252e0ac0f"
      },
      "outputs": [
        {
          "output_type": "stream",
          "name": "stdout",
          "text": [
            "Name: Lovnish, Age: 25\n"
          ]
        }
      ],
      "source": [
        "class Student:\n",
        "    def __init__(self, name, age):  # Constructor\n",
        "        self.name = name\n",
        "        self.age = age\n",
        "\n",
        "    def display(self):  # Method\n",
        "        print(f\"Name: {self.name}, Age: {self.age}\")\n",
        "\n",
        "# Creating object\n",
        "s1 = Student(\"Lovnish\", 25)\n",
        "s1.display()\n"
      ]
    },
    {
      "cell_type": "markdown",
      "source": [
        "**🔹 Explanation**\n",
        "\n",
        "class Student: → defines a class named Student\n",
        "\n",
        "__init__ → a constructor that runs when you create an object\n",
        "\n",
        "self → refers to the current object\n",
        "\n",
        "s1 = Student(\"Lovnish\", 22) → creates a Student object\n",
        "\n",
        "s1.display() → calls the method of the object"
      ],
      "metadata": {
        "id": "nJriJxslB0FJ"
      }
    },
    {
      "cell_type": "markdown",
      "source": [
        "**📦 Step 2: Add More Behavior (Methods)**"
      ],
      "metadata": {
        "id": "8PEZd4ZAB3ep"
      }
    },
    {
      "cell_type": "code",
      "source": [
        "class Student:\n",
        "    def __init__(self, name, age):\n",
        "        self.name = name\n",
        "        self.age = age\n",
        "        self.marks = []\n",
        "\n",
        "    def add_mark(self, mark):\n",
        "        self.marks.append(mark)\n",
        "\n",
        "    def show_marks(self):\n",
        "        print(f\"{self.name}'s Marks: {self.marks}\")\n",
        "\n",
        "s1 = Student(\"Lovnish\", 25)\n",
        "s1.add_mark(90)\n",
        "s1.add_mark(85)\n",
        "s1.show_marks()\n"
      ],
      "metadata": {
        "colab": {
          "base_uri": "https://localhost:8080/"
        },
        "id": "Ut88BmIRB5KJ",
        "outputId": "b3ad546d-e3ab-484d-db56-9c9f48f18f00"
      },
      "execution_count": 22,
      "outputs": [
        {
          "output_type": "stream",
          "name": "stdout",
          "text": [
            "Lovnish's Marks: [90, 85]\n"
          ]
        }
      ]
    },
    {
      "cell_type": "markdown",
      "source": [
        "**📦 Step 3: Inheritance**"
      ],
      "metadata": {
        "id": "XFeCsukFB7CB"
      }
    },
    {
      "cell_type": "markdown",
      "source": [
        "**🔶 1. INHERITANCE – \"Child Inherits From Parent\"**\n",
        "\n",
        "**📖 Definition:**\n",
        "Inheritance allows one class (child) to inherit the attributes and methods of another class (parent). This promotes code reuse.\n",
        "\n",
        "**🧠 Real-world analogy:**\n",
        "A Car is a Vehicle. So Car can inherit common features of Vehicle (like start(), stop()) and have its own specific features (like air_condition()).\n",
        "\n",
        "**✅ Python Example:**"
      ],
      "metadata": {
        "id": "14CbYuXgDyRO"
      }
    },
    {
      "cell_type": "code",
      "source": [
        "class Person:\n",
        "    def __init__(self, name):\n",
        "        self.name = name\n",
        "\n",
        "    def greet(self):\n",
        "        print(f\"Hello, I'm {self.name}\")\n",
        "\n",
        "class Student(Person):  # Inheriting Person\n",
        "    def __init__(self, name, grade):\n",
        "        super().__init__(name)  # Call parent constructor\n",
        "        self.grade = grade\n",
        "\n",
        "    def show_grade(self):\n",
        "        print(f\"{self.name} is in grade {self.grade}\")\n",
        "\n",
        "s = Student(\"Lovnish\", \"12th\")\n",
        "s.greet()        # from Person\n",
        "s.show_grade()   # from Student\n"
      ],
      "metadata": {
        "colab": {
          "base_uri": "https://localhost:8080/"
        },
        "id": "-f2ouRCrB9lp",
        "outputId": "4183c24b-f703-47f0-ee4b-d2875aa93f35"
      },
      "execution_count": 23,
      "outputs": [
        {
          "output_type": "stream",
          "name": "stdout",
          "text": [
            "Hello, I'm Lovnish\n",
            "Lovnish is in grade 12th\n"
          ]
        }
      ]
    },
    {
      "cell_type": "markdown",
      "source": [
        "**📦 Step 4: Encapsulation (Private Variables)**"
      ],
      "metadata": {
        "id": "oEn_sABECDNZ"
      }
    },
    {
      "cell_type": "markdown",
      "source": [
        "**🔶 2. ENCAPSULATION – \"Hide Internal Details\"**\n",
        "\n",
        "**📖 Definition:**\n",
        "\n",
        "Encapsulation is the concept of restricting access to internal object data (using private/protected attributes) and exposing only what’s necessary.\n",
        "\n",
        "**🧠 Real-world analogy:**\n",
        "\n",
        "A car’s engine is encapsulated — you can start the car with a key (start() method) without knowing how the engine works internally.\n",
        "\n",
        "**✅ Python Example:**"
      ],
      "metadata": {
        "id": "u5AhFuyUENbp"
      }
    },
    {
      "cell_type": "code",
      "source": [
        "class Account:\n",
        "    def __init__(self, owner, balance):\n",
        "        self.owner = owner\n",
        "        self.__balance = balance  # private attribute\n",
        "\n",
        "    def deposit(self, amount):\n",
        "        self.__balance += amount\n",
        "\n",
        "    def show_balance(self):\n",
        "        print(f\"{self.owner}'s Balance: {self.__balance}\")\n",
        "\n",
        "a1 = Account(\"Lovnish\", 1000)\n",
        "a1.deposit(500)\n",
        "a1.show_balance()\n",
        "\n",
        "# print(a1.__balance)  # ❌ This will cause an error\n"
      ],
      "metadata": {
        "colab": {
          "base_uri": "https://localhost:8080/"
        },
        "id": "xqqKvgLLCAYJ",
        "outputId": "9e23f07e-ea0d-444a-b753-fded796de5ca"
      },
      "execution_count": 24,
      "outputs": [
        {
          "output_type": "stream",
          "name": "stdout",
          "text": [
            "Lovnish's Balance: 1500\n"
          ]
        }
      ]
    },
    {
      "cell_type": "markdown",
      "source": [
        "**📦 Step 5: Polymorphism**"
      ],
      "metadata": {
        "id": "6Gmno1UWCIV5"
      }
    },
    {
      "cell_type": "markdown",
      "source": [
        "**🔶 3. POLYMORPHISM – \"One Interface, Many Forms\"**\n",
        "\n",
        "**📖 Definition:**\n",
        "\n",
        "Polymorphism means same method name, different behavior depending on the object calling it.\n",
        "\n",
        "**🧠 Real-world analogy:**\n",
        "\n",
        "All animals have a speak() method.\n",
        "\n",
        "A dog barks, a cat meows, but they all respond to speak().\n",
        "\n",
        "**✅ Python Example:**"
      ],
      "metadata": {
        "id": "tGSZrS4hEbh4"
      }
    },
    {
      "cell_type": "code",
      "source": [
        "class Dog:\n",
        "    def speak(self):\n",
        "        print(\"Woof!\")\n",
        "\n",
        "class Cat:\n",
        "    def speak(self):\n",
        "        print(\"Meow!\")\n",
        "\n",
        "\n",
        "# Cat().speak()\n",
        "# Dog().speak()\n",
        "\n",
        "animals = [Dog(), Cat()]\n",
        "for animal in animals:\n",
        "    animal.speak()\n"
      ],
      "metadata": {
        "colab": {
          "base_uri": "https://localhost:8080/"
        },
        "id": "2OfpYwU1CHq5",
        "outputId": "27456683-b15d-4fd2-d07c-e4e313ef9219"
      },
      "execution_count": 25,
      "outputs": [
        {
          "output_type": "stream",
          "name": "stdout",
          "text": [
            "Woof!\n",
            "Meow!\n"
          ]
        }
      ]
    },
    {
      "cell_type": "markdown",
      "source": [
        "| Concept       | Purpose                            | Python Feature         | Keyword            |\n",
        "| ------------- | ---------------------------------- | ---------------------- | ------------------ |\n",
        "| Inheritance   | Code reuse via parent class        | `class Child(Parent):` | `super()`          |\n",
        "| Encapsulation | Hide internal data                 | `__private_var`        | `getters/setters`  |\n",
        "| Polymorphism  | Same interface, different behavior | Method overriding      | `same method name` |\n"
      ],
      "metadata": {
        "id": "Q0T9QMfzFQ8B"
      }
    },
    {
      "cell_type": "markdown",
      "source": [
        "**✅ Summary of What You’ve Learned So Far**\n",
        "\n",
        "| Concept       | Description                       |\n",
        "| ------------- | --------------------------------- |\n",
        "| `class`       | Blueprint for objects             |\n",
        "| `__init__`    | Constructor method                |\n",
        "| `self`        | Refers to current object          |\n",
        "| Method        | Function inside class             |\n",
        "| Object        | Instance of class                 |\n",
        "| Inheritance   | Child class inherits parent class |\n",
        "| Encapsulation | Hide data using private members   |\n",
        "| Polymorphism  | Same method behaves differently   |\n"
      ],
      "metadata": {
        "id": "jBnVaxSvCOky"
      }
    },
    {
      "cell_type": "markdown",
      "source": [
        "**💪 Your Practice Task**\n",
        "\n",
        "Try writing a Car class that:\n",
        "\n",
        "Stores brand, model, year\n",
        "\n",
        "Has methods: start(), stop(), display_info()"
      ],
      "metadata": {
        "id": "zQitZW46CTTC"
      }
    },
    {
      "cell_type": "markdown",
      "source": [
        "✅ Solution: Car Class with Required Features"
      ],
      "metadata": {
        "id": "Bm5ATe0_CfX6"
      }
    },
    {
      "cell_type": "code",
      "source": [
        "class Car:\n",
        "    def __init__(self, brand, model, year):\n",
        "        self.brand = brand\n",
        "        self.model = model\n",
        "        self.year = year\n",
        "        self.is_running = False\n",
        "\n",
        "    def start(self):\n",
        "        if not self.is_running:\n",
        "            self.is_running = True\n",
        "            print(f\"{self.brand} {self.model} started.\")\n",
        "        else:\n",
        "            print(f\"{self.brand} {self.model} is already running.\")\n",
        "\n",
        "    def stop(self):\n",
        "        if self.is_running:\n",
        "            self.is_running = False\n",
        "            print(f\"{self.brand} {self.model} stopped.\")\n",
        "        else:\n",
        "            print(f\"{self.brand} {self.model} is already stopped.\")\n",
        "\n",
        "    def display_info(self):\n",
        "        print(f\"Car Info: {self.year} {self.brand} {self.model}\")\n",
        "\n",
        "# Creating an object of the Car class\n",
        "my_car = Car(\"Toyota\", \"Camry\", 2020)\n",
        "\n",
        "# Calling methods\n",
        "my_car.display_info()\n",
        "my_car.start()\n",
        "my_car.start()  # Should say already running\n",
        "my_car.stop()\n",
        "my_car.stop()   # Should say already stopped\n"
      ],
      "metadata": {
        "colab": {
          "base_uri": "https://localhost:8080/"
        },
        "id": "ggbdAkQKCl_B",
        "outputId": "9a3729dd-67a8-478c-ef33-c6fcff5aef80"
      },
      "execution_count": 26,
      "outputs": [
        {
          "output_type": "stream",
          "name": "stdout",
          "text": [
            "Car Info: 2020 Toyota Camry\n",
            "Toyota Camry started.\n",
            "Toyota Camry is already running.\n",
            "Toyota Camry stopped.\n",
            "Toyota Camry is already stopped.\n"
          ]
        }
      ]
    },
    {
      "cell_type": "markdown",
      "source": [
        "**🧪 Practice Ideas**\n",
        "\n",
        "Create a base class Employee and subclasses Manager, Developer. Use inheritance and method overriding.\n",
        "\n",
        "Encapsulate salary info and allow only controlled updates.\n",
        "\n",
        "Use a polymorphic method like work() that behaves differently for Manager and Developer.\n",
        "\n"
      ],
      "metadata": {
        "id": "8YPaK6pvFZgZ"
      }
    },
    {
      "cell_type": "markdown",
      "source": [
        "🧩 OOP Practice Example: Employee, Manager, and Developer"
      ],
      "metadata": {
        "id": "tnPBwEOLFe3a"
      }
    },
    {
      "cell_type": "code",
      "source": [
        "# Base class\n",
        "class Employee:\n",
        "    def __init__(self, name, emp_id, salary):\n",
        "        self.name = name\n",
        "        self.emp_id = emp_id\n",
        "        self.__salary = salary  # private attribute (Encapsulation)\n",
        "\n",
        "    def get_salary(self):  # Getter\n",
        "        return self.__salary\n",
        "\n",
        "    def set_salary(self, new_salary):  # Setter with control\n",
        "        if new_salary > 0:\n",
        "            self.__salary = new_salary\n",
        "        else:\n",
        "            print(\"❌ Invalid salary amount!\")\n",
        "\n",
        "    def display_info(self):\n",
        "        print(f\"Name: {self.name}, ID: {self.emp_id}, Salary: ₹{self.__salary}\")\n",
        "\n",
        "    def work(self):  # Polymorphic method\n",
        "        print(f\"{self.name} is doing general employee tasks.\")\n",
        "\n",
        "# Subclass: Manager\n",
        "class Manager(Employee):\n",
        "    def __init__(self, name, emp_id, salary, team_size):\n",
        "        super().__init__(name, emp_id, salary)\n",
        "        self.team_size = team_size\n",
        "\n",
        "    def work(self):  # Overriding the work method (Polymorphism)\n",
        "        print(f\"{self.name} is managing a team of {self.team_size} members.\")\n",
        "\n",
        "# Subclass: Developer\n",
        "class Developer(Employee):\n",
        "    def __init__(self, name, emp_id, salary, language):\n",
        "        super().__init__(name, emp_id, salary)\n",
        "        self.language = language\n",
        "\n",
        "    def work(self):  # Overriding the work method (Polymorphism)\n",
        "        print(f\"{self.name} is writing code in {self.language}.\")\n",
        "\n",
        "# -------------------------\n",
        "# ✅ Using the classes\n",
        "# -------------------------\n",
        "\n",
        "# Create Manager and Developer objects\n",
        "m1 = Manager(\"Lovnish\", \"M101\", 90000, 10)\n",
        "d1 = Developer(\"Aditi\", \"D202\", 70000, \"Python\")\n",
        "\n",
        "# Display info\n",
        "m1.display_info()\n",
        "d1.display_info()\n",
        "\n",
        "# Work methods (Polymorphism)\n",
        "m1.work()\n",
        "d1.work()\n",
        "\n",
        "# Encapsulation in action\n",
        "print(\"\\nUpdating salary securely...\")\n",
        "m1.set_salary(95000)  # Valid update\n",
        "print(\"New Manager Salary:\", m1.get_salary())\n",
        "\n",
        "d1.set_salary(-1000)  # Invalid update\n",
        "print(\"Developer Salary remains:\", d1.get_salary())\n"
      ],
      "metadata": {
        "colab": {
          "base_uri": "https://localhost:8080/"
        },
        "id": "2HgVe8MjFggB",
        "outputId": "9aabb88d-1f43-4e2d-cc4e-4d22671b9bab"
      },
      "execution_count": 27,
      "outputs": [
        {
          "output_type": "stream",
          "name": "stdout",
          "text": [
            "Name: Lovnish, ID: M101, Salary: ₹90000\n",
            "Name: Aditi, ID: D202, Salary: ₹70000\n",
            "Lovnish is managing a team of 10 members.\n",
            "Aditi is writing code in Python.\n",
            "\n",
            "Updating salary securely...\n",
            "New Manager Salary: 95000\n",
            "❌ Invalid salary amount!\n",
            "Developer Salary remains: 70000\n"
          ]
        }
      ]
    },
    {
      "cell_type": "markdown",
      "source": [
        "**✅ Concepts Used:**\n",
        "\n",
        "| Concept           | Example in Code                                       |\n",
        "| ----------------- | ----------------------------------------------------- |\n",
        "| Inheritance       | `Manager(Employee)`, `Developer(Employee)`            |\n",
        "| Encapsulation     | `__salary`, `get_salary()`, `set_salary()`            |\n",
        "| Polymorphism      | `.work()` behaves differently for Manager & Developer |\n",
        "| Method Overriding | Manager & Developer override `work()` method          |\n"
      ],
      "metadata": {
        "id": "bLi04XxvFj0x"
      }
    },
    {
      "cell_type": "markdown",
      "source": [
        "**What's Next**:\n",
        "\n",
        "\n",
        "Bonus calculation\n",
        "\n",
        "Saving employee data to a file (file handling)\n",
        "\n",
        "Adding/removing employees from a list or database?"
      ],
      "metadata": {
        "id": "4UcxIQsmFuwp"
      }
    },
    {
      "cell_type": "markdown",
      "source": [
        "♈**Ready for the next OOP concept like Abstract Classes, Multiple Inheritance, or Composition?**"
      ],
      "metadata": {
        "id": "pkajNOzeGFoZ"
      }
    },
    {
      "cell_type": "markdown",
      "source": [
        "🔹 Abstract Classes\n",
        "\n",
        "🔹 Multiple Inheritance\n",
        "\n",
        "🔹 Composition\n",
        "\n",
        "Each of these adds more power, flexibility, and structure to how you design your programs."
      ],
      "metadata": {
        "id": "OAj05zV5GPzp"
      }
    },
    {
      "cell_type": "markdown",
      "source": [
        "**🔸 1. ABSTRACT CLASSES**\n",
        "\n",
        "**📖 What is an Abstract Class?**\n",
        "An abstract class is a class that cannot be instantiated directly. It contains abstract methods (declared but not implemented). Subclasses must implement them.\n",
        "\n",
        "Python provides this via the abc module.\n",
        "\n",
        "**🧠 Analogy:**\n",
        "Think of Vehicle as a concept. You don’t use “just a vehicle”; you use a car or bike. So, Vehicle is an abstract class.\n",
        "\n",
        "**✅ Example:**"
      ],
      "metadata": {
        "id": "t1tWxe0BGVGB"
      }
    },
    {
      "cell_type": "code",
      "source": [
        "from abc import ABC, abstractmethod\n",
        "\n",
        "class Vehicle(ABC):  # Abstract class\n",
        "    @abstractmethod\n",
        "    def start_engine(self):\n",
        "        pass\n",
        "\n",
        "    @abstractmethod\n",
        "    def stop_engine(self):\n",
        "        pass\n",
        "\n",
        "class Car(Vehicle):\n",
        "    def start_engine(self):\n",
        "        print(\"Car engine started.\")\n",
        "\n",
        "    def stop_engine(self):\n",
        "        print(\"Car engine stopped.\")\n",
        "\n",
        "# v = Vehicle()  # ❌ Error: Can't instantiate abstract class\n",
        "c = Car()\n",
        "c.start_engine()\n",
        "c.stop_engine()\n"
      ],
      "metadata": {
        "colab": {
          "base_uri": "https://localhost:8080/"
        },
        "id": "VKFGsXasGbvx",
        "outputId": "1d7c5a3f-eccb-44e1-e645-f3ffcf1dd0a9"
      },
      "execution_count": 28,
      "outputs": [
        {
          "output_type": "stream",
          "name": "stdout",
          "text": [
            "Car engine started.\n",
            "Car engine stopped.\n"
          ]
        }
      ]
    },
    {
      "cell_type": "markdown",
      "source": [
        "**🔸 2. MULTIPLE INHERITANCE**\n",
        "\n",
        "**📖 What is Multiple Inheritance?**\n",
        "A class can inherit from more than one parent class.\n",
        "\n",
        "**🧠 Analogy:**\n",
        "A Smartphone is both a Phone and a Camera.\n",
        "\n",
        "**✅ Example:**"
      ],
      "metadata": {
        "id": "sZC-07JFGfBR"
      }
    },
    {
      "cell_type": "code",
      "source": [
        "class Phone:\n",
        "    def call(self):\n",
        "        print(\"Making a call...\")\n",
        "\n",
        "class Camera:\n",
        "    def take_photo(self):\n",
        "        print(\"Taking a photo...\")\n",
        "\n",
        "class Smartphone(Phone, Camera):\n",
        "    def use_app(self):\n",
        "        print(\"Using an app...\")\n",
        "\n",
        "s = Smartphone()\n",
        "s.call()        # from Phone\n",
        "s.take_photo()  # from Camera\n",
        "s.use_app()\n"
      ],
      "metadata": {
        "colab": {
          "base_uri": "https://localhost:8080/"
        },
        "id": "pID7nFcqGici",
        "outputId": "8fa300c2-cfab-4ea0-ab9b-cccc3bf1d69b"
      },
      "execution_count": 29,
      "outputs": [
        {
          "output_type": "stream",
          "name": "stdout",
          "text": [
            "Making a call...\n",
            "Taking a photo...\n",
            "Using an app...\n"
          ]
        }
      ]
    },
    {
      "cell_type": "markdown",
      "source": [
        "**⚠️ Note:**\n",
        "\n",
        "If both parents have the same method name, Python uses MRO (Method Resolution Order) — it looks left to right in inheritance."
      ],
      "metadata": {
        "id": "Fz76hqxKGkWB"
      }
    },
    {
      "cell_type": "code",
      "source": [
        "class A:\n",
        "    def greet(self):\n",
        "        print(\"Hello from A\")\n",
        "\n",
        "class B:\n",
        "    def greet(self):\n",
        "        print(\"Hello from B\")\n",
        "\n",
        "class C(A, B):  # A comes first\n",
        "    pass\n",
        "\n",
        "c = C()\n",
        "c.greet()  # Output: Hello from A\n"
      ],
      "metadata": {
        "colab": {
          "base_uri": "https://localhost:8080/"
        },
        "id": "UZK9egfmGn_Y",
        "outputId": "5040fa9b-55b0-4a18-c5f1-9e9e1836c48f"
      },
      "execution_count": 30,
      "outputs": [
        {
          "output_type": "stream",
          "name": "stdout",
          "text": [
            "Hello from A\n"
          ]
        }
      ]
    },
    {
      "cell_type": "markdown",
      "source": [
        "**🔸 3. COMPOSITION**\n",
        "\n",
        "**📖 What is Composition?**\n",
        "Instead of inheriting from a class, you can include an object of another class as an attribute.\n",
        "\n",
        "It follows the principle: “Has-A” rather than “Is-A”.\n",
        "\n",
        "**🧠 Analogy:**\n",
        "A Car has an Engine (composition), but is not an engine.\n",
        "\n",
        "**✅ Example:**"
      ],
      "metadata": {
        "id": "ciOW9KlfGq-Z"
      }
    },
    {
      "cell_type": "code",
      "source": [
        "class Engine:\n",
        "    def start(self):\n",
        "        print(\"Engine started.\")\n",
        "\n",
        "class Car:\n",
        "    def __init__(self):\n",
        "        self.engine = Engine()  # Car has an Engine\n",
        "\n",
        "    def drive(self):\n",
        "        self.engine.start()\n",
        "        print(\"Car is driving...\")\n",
        "\n",
        "my_car = Car()\n",
        "my_car.drive()\n"
      ],
      "metadata": {
        "colab": {
          "base_uri": "https://localhost:8080/"
        },
        "id": "ZMmjeqJ3Gt-K",
        "outputId": "dc8f6434-15dd-448f-a6b5-a0ddd219c7a5"
      },
      "execution_count": 31,
      "outputs": [
        {
          "output_type": "stream",
          "name": "stdout",
          "text": [
            "Engine started.\n",
            "Car is driving...\n"
          ]
        }
      ]
    },
    {
      "cell_type": "markdown",
      "source": [
        "**🔁 Summary Table**"
      ],
      "metadata": {
        "id": "ZYjGjMIVGwe5"
      }
    },
    {
      "cell_type": "markdown",
      "source": [
        "| Concept                  | Description                          | Example            |\n",
        "| ------------------------ | ------------------------------------ | ------------------ |\n",
        "| **Abstract Class**       | Defines required methods, no objects | `Vehicle(ABC)`     |\n",
        "| **Multiple Inheritance** | Inherits from multiple classes       | `class C(A, B)`    |\n",
        "| **Composition**          | \"Has-a\" relationship                 | `Car has Engine()` |\n"
      ],
      "metadata": {
        "id": "BfNrY69WGynJ"
      }
    },
    {
      "cell_type": "markdown",
      "source": [
        "**🧪 Want to Practice?**\n",
        "\n",
        "Try this practice challenge:\n",
        "\n",
        "💡 Create an abstract class Appliance with:\n",
        "turn_on() and turn_off() as abstract methods\n",
        "\n",
        "Then, create:\n",
        "\n",
        "Fan and WashingMachine as subclasses\n",
        "\n",
        "Use composition by giving WashingMachine a Motor class\n",
        "\n",
        "Use multiple inheritance with SmartAppliance that mixes in WiFiControl"
      ],
      "metadata": {
        "id": "y3um68kvG3DB"
      }
    },
    {
      "cell_type": "markdown",
      "source": [
        "**Here’s the complete Python implementation for your challenge, combining:**\n",
        "\n",
        "**Abstract class Appliance**\n",
        "\n",
        "**Subclasses:** Fan and WashingMachine\n",
        "\n",
        "**Composition:** WashingMachine has a Motor\n",
        "\n",
        "**Multiple inheritance:** SmartAppliance combines Appliance and WiFiControl\n",
        "\n"
      ],
      "metadata": {
        "id": "MXjwria2HLJj"
      }
    },
    {
      "cell_type": "code",
      "source": [
        "from abc import ABC, abstractmethod\n",
        "\n",
        "# Abstract Base Class\n",
        "class Appliance(ABC):\n",
        "    @abstractmethod\n",
        "    def turn_on(self):\n",
        "        pass\n",
        "\n",
        "    @abstractmethod\n",
        "    def turn_off(self):\n",
        "        pass\n",
        "\n",
        "# Composition class\n",
        "class Motor:\n",
        "    def start_motor(self):\n",
        "        print(\"Motor started.\")\n",
        "\n",
        "    def stop_motor(self):\n",
        "        print(\"Motor stopped.\")\n",
        "\n",
        "# Subclass: Fan\n",
        "class Fan(Appliance):\n",
        "    def turn_on(self):\n",
        "        print(\"Fan is now ON.\")\n",
        "\n",
        "    def turn_off(self):\n",
        "        print(\"Fan is now OFF.\")\n",
        "\n",
        "# Subclass: WashingMachine (uses composition)\n",
        "class WashingMachine(Appliance):\n",
        "    def __init__(self):\n",
        "        self.motor = Motor()  # Composition: WashingMachine has a Motor\n",
        "\n",
        "    def turn_on(self):\n",
        "        self.motor.start_motor()\n",
        "        print(\"Washing Machine is now ON.\")\n",
        "\n",
        "    def turn_off(self):\n",
        "        self.motor.stop_motor()\n",
        "        print(\"Washing Machine is now OFF.\")\n",
        "\n",
        "# Mixin class for WiFi Control\n",
        "class WiFiControl:\n",
        "    def connect_wifi(self, network):\n",
        "        print(f\"Connected to WiFi network: {network}\")\n",
        "\n",
        "    def disconnect_wifi(self):\n",
        "        print(\"Disconnected from WiFi network\")\n",
        "\n",
        "# Multiple Inheritance: Smart Appliance\n",
        "class SmartAppliance(Appliance, WiFiControl):\n",
        "    def turn_on(self):\n",
        "        print(\"Smart Appliance is ON.\")\n",
        "\n",
        "    def turn_off(self):\n",
        "        print(\"Smart Appliance is OFF.\")\n",
        "\n",
        "# ----------------------------\n",
        "# Usage examples\n",
        "# ----------------------------\n",
        "\n",
        "# Fan object\n",
        "fan = Fan()\n",
        "fan.turn_on()\n",
        "fan.turn_off()\n",
        "print()\n",
        "\n",
        "# WashingMachine object\n",
        "wm = WashingMachine()\n",
        "wm.turn_on()\n",
        "wm.turn_off()\n",
        "print()\n",
        "\n",
        "# SmartAppliance object with WiFi\n",
        "smart = SmartAppliance()\n",
        "smart.connect_wifi(\"Home_Network\")\n",
        "smart.turn_on()\n",
        "smart.turn_off()\n",
        "smart.disconnect_wifi()\n"
      ],
      "metadata": {
        "colab": {
          "base_uri": "https://localhost:8080/"
        },
        "id": "hkKx_eSzGxl6",
        "outputId": "fb5ca68b-cf23-489f-e122-c73ba9cb6729"
      },
      "execution_count": 32,
      "outputs": [
        {
          "output_type": "stream",
          "name": "stdout",
          "text": [
            "Fan is now ON.\n",
            "Fan is now OFF.\n",
            "\n",
            "Motor started.\n",
            "Washing Machine is now ON.\n",
            "Motor stopped.\n",
            "Washing Machine is now OFF.\n",
            "\n",
            "Connected to WiFi network: Home_Network\n",
            "Smart Appliance is ON.\n",
            "Smart Appliance is OFF.\n",
            "Disconnected from WiFi network\n"
          ]
        }
      ]
    },
    {
      "cell_type": "markdown",
      "source": [
        "**Explanation:**\n",
        "\n",
        "Appliance is abstract and defines mandatory methods.\n",
        "\n",
        "Fan and WashingMachine **implement** those methods.\n",
        "\n",
        "WashingMachine **has a** Motor object to delegate motor operations (composition).\n",
        "\n",
        "WiFiControl adds WiFi methods.\n",
        "\n",
        "SmartAppliance inherits both Appliance and WiFiControl (multiple inheritance) to be a WiFi-enabled appliance.\n",
        "\n"
      ],
      "metadata": {
        "id": "2Zvov3TEHVWi"
      }
    }
  ]
}