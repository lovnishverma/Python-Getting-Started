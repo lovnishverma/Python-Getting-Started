{
  "nbformat": 4,
  "nbformat_minor": 0,
  "metadata": {
    "colab": {
      "provenance": [],
      "authorship_tag": "ABX9TyOnDPxjlu1z6hA1Ss2z/fbj",
      "include_colab_link": true
    },
    "kernelspec": {
      "name": "python3",
      "display_name": "Python 3"
    },
    "language_info": {
      "name": "python"
    }
  },
  "cells": [
    {
      "cell_type": "markdown",
      "metadata": {
        "id": "view-in-github",
        "colab_type": "text"
      },
      "source": [
        "<a href=\"https://colab.research.google.com/github/lovnishverma/Python-Getting-Started/blob/main/%F0%9F%90%BC_Python_Pandas.ipynb\" target=\"_parent\"><img src=\"https://colab.research.google.com/assets/colab-badge.svg\" alt=\"Open In Colab\"/></a>"
      ]
    },
    {
      "cell_type": "markdown",
      "source": [
        "**🐼 Pandas  Tutorial for Beginners**   -  ® Lovnish Verma"
      ],
      "metadata": {
        "id": "vtXCR9m_gTEe"
      }
    },
    {
      "cell_type": "markdown",
      "source": [
        "Pandas is a powerful Python library for data analysis and manipulation. It provides two main data structures:\n",
        "\n",
        "\n",
        "\n",
        "*   **Series** – A one-dimensional labeled array\n",
        "*   **DataFrame** – A two-dimensional labeled table\n",
        "\n",
        "Let’s get started with Pandas basics, covering data structures, essential operations, and real-world examples."
      ],
      "metadata": {
        "id": "5n25e6NJj7LP"
      }
    },
    {
      "cell_type": "markdown",
      "source": [
        "1️⃣ Installation\n",
        "If you haven't installed Pandas yet, use:"
      ],
      "metadata": {
        "id": "j5W4QcLJj7_u"
      }
    },
    {
      "cell_type": "markdown",
      "source": [
        "\n",
        "\n",
        "```\n",
        "pip install pandas\n",
        "```\n",
        "\n"
      ],
      "metadata": {
        "id": "4lFyr93rkKHF"
      }
    },
    {
      "cell_type": "markdown",
      "source": [
        "Or if you're using Google Colab or Jupyter Notebook:"
      ],
      "metadata": {
        "id": "lLzh474QkAoP"
      }
    },
    {
      "cell_type": "code",
      "execution_count": 119,
      "metadata": {
        "colab": {
          "base_uri": "https://localhost:8080/"
        },
        "id": "vea1pzpcf_S9",
        "outputId": "aa2b14db-c8d1-49bd-97d3-76326e3b974a"
      },
      "outputs": [
        {
          "output_type": "stream",
          "name": "stdout",
          "text": [
            "Requirement already satisfied: pandas in /usr/local/lib/python3.11/dist-packages (2.2.2)\n",
            "Requirement already satisfied: numpy>=1.23.2 in /usr/local/lib/python3.11/dist-packages (from pandas) (1.26.4)\n",
            "Requirement already satisfied: python-dateutil>=2.8.2 in /usr/local/lib/python3.11/dist-packages (from pandas) (2.8.2)\n",
            "Requirement already satisfied: pytz>=2020.1 in /usr/local/lib/python3.11/dist-packages (from pandas) (2024.2)\n",
            "Requirement already satisfied: tzdata>=2022.7 in /usr/local/lib/python3.11/dist-packages (from pandas) (2025.1)\n",
            "Requirement already satisfied: six>=1.5 in /usr/local/lib/python3.11/dist-packages (from python-dateutil>=2.8.2->pandas) (1.17.0)\n"
          ]
        }
      ],
      "source": [
        "!pip install pandas"
      ]
    },
    {
      "cell_type": "markdown",
      "source": [
        "2️⃣ Importing Pandas"
      ],
      "metadata": {
        "id": "1LzfPZYvkPrw"
      }
    },
    {
      "cell_type": "code",
      "source": [
        "import pandas as pd"
      ],
      "metadata": {
        "id": "1sgxoQvTkRrb"
      },
      "execution_count": 120,
      "outputs": []
    },
    {
      "cell_type": "markdown",
      "source": [
        "3️⃣ Pandas Series (1D Data Structure)\n",
        "A Series is like a column in Excel, consisting of data and an index."
      ],
      "metadata": {
        "id": "eckxEFhXkTe4"
      }
    },
    {
      "cell_type": "code",
      "source": [
        "#Creating a Series\n",
        "data = [10, 20, 30, 40]\n",
        "series = pd.Series(data)\n",
        "print(series)"
      ],
      "metadata": {
        "colab": {
          "base_uri": "https://localhost:8080/"
        },
        "id": "txK-_2hckV-a",
        "outputId": "fe514aeb-147d-4644-a9a0-ae46031bb98c"
      },
      "execution_count": 121,
      "outputs": [
        {
          "output_type": "stream",
          "name": "stdout",
          "text": [
            "0    10\n",
            "1    20\n",
            "2    30\n",
            "3    40\n",
            "dtype: int64\n"
          ]
        }
      ]
    },
    {
      "cell_type": "markdown",
      "source": [
        "Custom Index in a Series"
      ],
      "metadata": {
        "id": "tLkBDaCRkaDv"
      }
    },
    {
      "cell_type": "code",
      "source": [
        "series = pd.Series([10, 20, 30], index=['a', 'b', 'c'])\n",
        "print(series)"
      ],
      "metadata": {
        "colab": {
          "base_uri": "https://localhost:8080/"
        },
        "id": "Jala3PQZkciq",
        "outputId": "12c36d8e-63b2-44e6-ca9f-e0ef7bc53935"
      },
      "execution_count": 122,
      "outputs": [
        {
          "output_type": "stream",
          "name": "stdout",
          "text": [
            "a    10\n",
            "b    20\n",
            "c    30\n",
            "dtype: int64\n"
          ]
        }
      ]
    },
    {
      "cell_type": "markdown",
      "source": [
        "Accessing Series Elements"
      ],
      "metadata": {
        "id": "uN5LE_76keCS"
      }
    },
    {
      "cell_type": "code",
      "source": [
        "print(series['b'])  # Output: 20"
      ],
      "metadata": {
        "colab": {
          "base_uri": "https://localhost:8080/"
        },
        "id": "P3gd-kCNkm2L",
        "outputId": "7c520f6e-ef6e-49c6-b36c-59a65a01954d"
      },
      "execution_count": 123,
      "outputs": [
        {
          "output_type": "stream",
          "name": "stdout",
          "text": [
            "20\n"
          ]
        }
      ]
    },
    {
      "cell_type": "markdown",
      "source": [
        "4️⃣ Pandas DataFrame (2D Data Structure)\n",
        "A DataFrame is like an Excel spreadsheet with rows and columns."
      ],
      "metadata": {
        "id": "t6LzdZTNkoPh"
      }
    },
    {
      "cell_type": "markdown",
      "source": [
        "Creating a DataFrame"
      ],
      "metadata": {
        "id": "rUHS_gfbkq31"
      }
    },
    {
      "cell_type": "code",
      "source": [
        "data = {\n",
        "    'Name': ['Alice', 'Bob', 'Charlie'],\n",
        "    'Age': [25, 30, 35],\n",
        "    'City': ['New York', 'Los Angeles', 'Chicago']\n",
        "}\n",
        "df = pd.DataFrame(data)\n",
        "print(df)"
      ],
      "metadata": {
        "colab": {
          "base_uri": "https://localhost:8080/"
        },
        "id": "KcO9oTWnksxM",
        "outputId": "2145616f-d2e2-43f1-c050-12609877947c"
      },
      "execution_count": 124,
      "outputs": [
        {
          "output_type": "stream",
          "name": "stdout",
          "text": [
            "      Name  Age         City\n",
            "0    Alice   25     New York\n",
            "1      Bob   30  Los Angeles\n",
            "2  Charlie   35      Chicago\n"
          ]
        }
      ]
    },
    {
      "cell_type": "markdown",
      "source": [
        "Python Code to Generate **data.csv**"
      ],
      "metadata": {
        "id": "lTpyucfOpCcw"
      }
    },
    {
      "cell_type": "code",
      "source": [
        "import pandas as pd\n",
        "\n",
        "data = {\n",
        "    'Name': ['Alice', 'Bob', 'Charlie', 'David', 'Eve', 'Frank', 'Grace'],\n",
        "    'Age': [25, 30, 35, 40, 28, 33, 29],\n",
        "    'City': ['New York', 'Los Angeles', 'Chicago', 'San Francisco', 'Miami', 'Houston', 'Boston'],\n",
        "    'Salary': [50000, 60000, 70000, 80000, 55000, 62000, 58000]\n",
        "}\n",
        "\n",
        "df = pd.DataFrame(data)\n",
        "\n",
        "# Save to CSV\n",
        "df.to_csv('data.csv', index=False)\n",
        "\n",
        "print(\"data.csv file created successfully!\")\n"
      ],
      "metadata": {
        "colab": {
          "base_uri": "https://localhost:8080/"
        },
        "id": "G8GlrMFmpEbv",
        "outputId": "9bf47836-2cfb-403a-bde7-332511822d70"
      },
      "execution_count": 125,
      "outputs": [
        {
          "output_type": "stream",
          "name": "stdout",
          "text": [
            "data.csv file created successfully!\n"
          ]
        }
      ]
    },
    {
      "cell_type": "markdown",
      "source": [
        "5️⃣ Reading & Writing Data"
      ],
      "metadata": {
        "id": "5JvWa1xUkuXo"
      }
    },
    {
      "cell_type": "code",
      "source": [
        "#Reading CSV Files\n",
        "df = pd.read_csv('data.csv')"
      ],
      "metadata": {
        "id": "yCuCfrrakwn4"
      },
      "execution_count": 126,
      "outputs": []
    },
    {
      "cell_type": "markdown",
      "source": [
        "Writing to a CSV File"
      ],
      "metadata": {
        "id": "l53_pVJAlMJa"
      }
    },
    {
      "cell_type": "code",
      "source": [
        "df.to_csv('output.csv', index=False)"
      ],
      "metadata": {
        "id": "oUThLDLHlPSs"
      },
      "execution_count": 127,
      "outputs": []
    },
    {
      "cell_type": "markdown",
      "source": [
        "6️⃣ Data Exploration"
      ],
      "metadata": {
        "id": "j_dPj8DKlRb-"
      }
    },
    {
      "cell_type": "markdown",
      "source": [
        "Checking First & Last Rows"
      ],
      "metadata": {
        "id": "3QcmcgqolUyL"
      }
    },
    {
      "cell_type": "code",
      "source": [
        "print(df.head())  # First 5 rows\n",
        "print(df.tail())  # Last 5 rows"
      ],
      "metadata": {
        "colab": {
          "base_uri": "https://localhost:8080/"
        },
        "id": "6_4UDy2UlWus",
        "outputId": "35393780-b39b-4b11-efff-ce458384ec52"
      },
      "execution_count": 128,
      "outputs": [
        {
          "output_type": "stream",
          "name": "stdout",
          "text": [
            "      Name  Age           City  Salary\n",
            "0    Alice   25       New York   50000\n",
            "1      Bob   30    Los Angeles   60000\n",
            "2  Charlie   35        Chicago   70000\n",
            "3    David   40  San Francisco   80000\n",
            "4      Eve   28          Miami   55000\n",
            "      Name  Age           City  Salary\n",
            "2  Charlie   35        Chicago   70000\n",
            "3    David   40  San Francisco   80000\n",
            "4      Eve   28          Miami   55000\n",
            "5    Frank   33        Houston   62000\n",
            "6    Grace   29         Boston   58000\n"
          ]
        }
      ]
    },
    {
      "cell_type": "markdown",
      "source": [
        "Basic Info & Statistics"
      ],
      "metadata": {
        "id": "QHsDb-JzlYEO"
      }
    },
    {
      "cell_type": "code",
      "source": [
        "print(df.info())       # Data types & missing values\n",
        "print(df.describe())   # Summary statistics"
      ],
      "metadata": {
        "colab": {
          "base_uri": "https://localhost:8080/"
        },
        "id": "2MBYHsMklZ2o",
        "outputId": "661433c9-0b56-4b63-fcb1-c54d7abe7703"
      },
      "execution_count": 129,
      "outputs": [
        {
          "output_type": "stream",
          "name": "stdout",
          "text": [
            "<class 'pandas.core.frame.DataFrame'>\n",
            "RangeIndex: 7 entries, 0 to 6\n",
            "Data columns (total 4 columns):\n",
            " #   Column  Non-Null Count  Dtype \n",
            "---  ------  --------------  ----- \n",
            " 0   Name    7 non-null      object\n",
            " 1   Age     7 non-null      int64 \n",
            " 2   City    7 non-null      object\n",
            " 3   Salary  7 non-null      int64 \n",
            "dtypes: int64(2), object(2)\n",
            "memory usage: 356.0+ bytes\n",
            "None\n",
            "             Age        Salary\n",
            "count   7.000000      7.000000\n",
            "mean   31.428571  62142.857143\n",
            "std     4.995236  10007.140308\n",
            "min    25.000000  50000.000000\n",
            "25%    28.500000  56500.000000\n",
            "50%    30.000000  60000.000000\n",
            "75%    34.000000  66000.000000\n",
            "max    40.000000  80000.000000\n"
          ]
        }
      ]
    },
    {
      "cell_type": "markdown",
      "source": [
        "7️⃣ Selecting & Filtering Data"
      ],
      "metadata": {
        "id": "LKpMbiuElbUu"
      }
    },
    {
      "cell_type": "markdown",
      "source": [
        "Selecting Columns"
      ],
      "metadata": {
        "id": "dEWuLUGnldw2"
      }
    },
    {
      "cell_type": "code",
      "source": [
        "print(df['Name'])  # Selecting a single column\n",
        "print(df[['Name', 'Age']])  # Selecting multiple columns"
      ],
      "metadata": {
        "colab": {
          "base_uri": "https://localhost:8080/"
        },
        "id": "XTszt-D_lfIX",
        "outputId": "9702fbb1-7e54-4f54-9b8a-81808132b4c0"
      },
      "execution_count": 130,
      "outputs": [
        {
          "output_type": "stream",
          "name": "stdout",
          "text": [
            "0      Alice\n",
            "1        Bob\n",
            "2    Charlie\n",
            "3      David\n",
            "4        Eve\n",
            "5      Frank\n",
            "6      Grace\n",
            "Name: Name, dtype: object\n",
            "      Name  Age\n",
            "0    Alice   25\n",
            "1      Bob   30\n",
            "2  Charlie   35\n",
            "3    David   40\n",
            "4      Eve   28\n",
            "5    Frank   33\n",
            "6    Grace   29\n"
          ]
        }
      ]
    },
    {
      "cell_type": "markdown",
      "source": [
        "Selecting Rows (Using Indexing)"
      ],
      "metadata": {
        "id": "7JIj3g13lgeK"
      }
    },
    {
      "cell_type": "code",
      "source": [
        "print(df.iloc[0])   # First row\n",
        "print(df.loc[1])    # Row with index 1"
      ],
      "metadata": {
        "colab": {
          "base_uri": "https://localhost:8080/"
        },
        "id": "YQZoHL5ulimP",
        "outputId": "ff434986-3710-419c-b020-34e98ebf83d8"
      },
      "execution_count": 131,
      "outputs": [
        {
          "output_type": "stream",
          "name": "stdout",
          "text": [
            "Name         Alice\n",
            "Age             25\n",
            "City      New York\n",
            "Salary       50000\n",
            "Name: 0, dtype: object\n",
            "Name              Bob\n",
            "Age                30\n",
            "City      Los Angeles\n",
            "Salary          60000\n",
            "Name: 1, dtype: object\n"
          ]
        }
      ]
    },
    {
      "cell_type": "markdown",
      "source": [
        "Filtering Data"
      ],
      "metadata": {
        "id": "1mrb8szfljvS"
      }
    },
    {
      "cell_type": "code",
      "source": [
        "filtered_df = df[df['Age'] > 25]\n",
        "print(filtered_df)"
      ],
      "metadata": {
        "colab": {
          "base_uri": "https://localhost:8080/"
        },
        "id": "wPKmKh0jllTb",
        "outputId": "b35a5024-3c34-4a9e-fb0a-3b417d7743e6"
      },
      "execution_count": 132,
      "outputs": [
        {
          "output_type": "stream",
          "name": "stdout",
          "text": [
            "      Name  Age           City  Salary\n",
            "1      Bob   30    Los Angeles   60000\n",
            "2  Charlie   35        Chicago   70000\n",
            "3    David   40  San Francisco   80000\n",
            "4      Eve   28          Miami   55000\n",
            "5    Frank   33        Houston   62000\n",
            "6    Grace   29         Boston   58000\n"
          ]
        }
      ]
    },
    {
      "cell_type": "markdown",
      "source": [
        "8️⃣ Modifying Data"
      ],
      "metadata": {
        "id": "XFHNY88plwh3"
      }
    },
    {
      "cell_type": "markdown",
      "source": [
        "Adding a New Column"
      ],
      "metadata": {
        "id": "a6BxvzvPl1t4"
      }
    },
    {
      "cell_type": "code",
      "source": [
        "df['Salary'] = [50000, 60000, 70000, 80000, 55000, 62000, 58000]\n",
        "print(df)"
      ],
      "metadata": {
        "colab": {
          "base_uri": "https://localhost:8080/"
        },
        "id": "280XzWl7l2wz",
        "outputId": "1795b9c9-3b12-42f4-ce8f-8a9ce8cab2c4"
      },
      "execution_count": 133,
      "outputs": [
        {
          "output_type": "stream",
          "name": "stdout",
          "text": [
            "      Name  Age           City  Salary\n",
            "0    Alice   25       New York   50000\n",
            "1      Bob   30    Los Angeles   60000\n",
            "2  Charlie   35        Chicago   70000\n",
            "3    David   40  San Francisco   80000\n",
            "4      Eve   28          Miami   55000\n",
            "5    Frank   33        Houston   62000\n",
            "6    Grace   29         Boston   58000\n"
          ]
        }
      ]
    },
    {
      "cell_type": "markdown",
      "source": [
        "Updating Values"
      ],
      "metadata": {
        "id": "R-PhQUeXl4o_"
      }
    },
    {
      "cell_type": "code",
      "source": [
        "df.loc[1, 'Age'] = 32  # Update age of Bob"
      ],
      "metadata": {
        "id": "rfA2QnFcl7KS"
      },
      "execution_count": 134,
      "outputs": []
    },
    {
      "cell_type": "markdown",
      "source": [
        "Deleting a Column"
      ],
      "metadata": {
        "id": "uj3YSTCxl8xb"
      }
    },
    {
      "cell_type": "code",
      "source": [
        "df.drop(columns=['Salary'], inplace=True)"
      ],
      "metadata": {
        "id": "tk2guM4Ml-ay"
      },
      "execution_count": 135,
      "outputs": []
    },
    {
      "cell_type": "markdown",
      "source": [
        "9️⃣ Handling Missing Data"
      ],
      "metadata": {
        "id": "fNoIFBNqmAS0"
      }
    },
    {
      "cell_type": "code",
      "source": [
        "#Detect Missing Values\n",
        "print(df.isnull().sum())  # Count missing values in each column"
      ],
      "metadata": {
        "colab": {
          "base_uri": "https://localhost:8080/"
        },
        "id": "EAwODKxymCSs",
        "outputId": "444ff349-399a-4b9d-f139-2ac7f274cfd8"
      },
      "execution_count": 136,
      "outputs": [
        {
          "output_type": "stream",
          "name": "stdout",
          "text": [
            "Name    0\n",
            "Age     0\n",
            "City    0\n",
            "dtype: int64\n"
          ]
        }
      ]
    },
    {
      "cell_type": "code",
      "source": [
        "#Fill Missing Values\n",
        "df.fillna(0, inplace=True)"
      ],
      "metadata": {
        "id": "nBfzz67ymGnP"
      },
      "execution_count": 137,
      "outputs": []
    },
    {
      "cell_type": "code",
      "source": [
        "#Remove Missing Values\n",
        "df.dropna(inplace=True)"
      ],
      "metadata": {
        "id": "rA5b_g9WmLII"
      },
      "execution_count": 138,
      "outputs": []
    },
    {
      "cell_type": "markdown",
      "source": [
        "Adding a new collumn"
      ],
      "metadata": {
        "id": "0rlswXhpp4qN"
      }
    },
    {
      "cell_type": "code",
      "source": [
        "df['Salary'] = [50000, 60000, 70000, 80000, 55000, 62000, 58000]\n",
        "print(df)"
      ],
      "metadata": {
        "colab": {
          "base_uri": "https://localhost:8080/"
        },
        "id": "3zUA7z6Gp-rW",
        "outputId": "be63fb14-f6b4-4ea0-f5a3-b8470783a74b"
      },
      "execution_count": 139,
      "outputs": [
        {
          "output_type": "stream",
          "name": "stdout",
          "text": [
            "      Name  Age           City  Salary\n",
            "0    Alice   25       New York   50000\n",
            "1      Bob   32    Los Angeles   60000\n",
            "2  Charlie   35        Chicago   70000\n",
            "3    David   40  San Francisco   80000\n",
            "4      Eve   28          Miami   55000\n",
            "5    Frank   33        Houston   62000\n",
            "6    Grace   29         Boston   58000\n"
          ]
        }
      ]
    },
    {
      "cell_type": "markdown",
      "source": [
        "🔟 Grouping & Aggregation"
      ],
      "metadata": {
        "id": "eeOOE1NxmQ04"
      }
    },
    {
      "cell_type": "code",
      "source": [
        "#Grouping Data\n",
        "grouped_df = df.groupby('City')[['Age', 'Salary']].mean()  # Select numeric columns only\n",
        "print(grouped_df)"
      ],
      "metadata": {
        "colab": {
          "base_uri": "https://localhost:8080/"
        },
        "id": "vUaDYUIsmRkM",
        "outputId": "08085860-d204-477e-8f75-55ea454fc985"
      },
      "execution_count": 140,
      "outputs": [
        {
          "output_type": "stream",
          "name": "stdout",
          "text": [
            "                Age   Salary\n",
            "City                        \n",
            "Boston         29.0  58000.0\n",
            "Chicago        35.0  70000.0\n",
            "Houston        33.0  62000.0\n",
            "Los Angeles    32.0  60000.0\n",
            "Miami          28.0  55000.0\n",
            "New York       25.0  50000.0\n",
            "San Francisco  40.0  80000.0\n"
          ]
        }
      ]
    },
    {
      "cell_type": "code",
      "source": [
        "#Aggregating Data\n",
        "print(df['Age'].sum())    # Total age\n",
        "print(df['Age'].mean())   # Average age\n",
        "print(df['Age'].max())    # Maximum age"
      ],
      "metadata": {
        "colab": {
          "base_uri": "https://localhost:8080/"
        },
        "id": "bon8fJjQmWHf",
        "outputId": "87b02af5-435b-4969-f0c7-b60584c00e73"
      },
      "execution_count": 141,
      "outputs": [
        {
          "output_type": "stream",
          "name": "stdout",
          "text": [
            "222\n",
            "31.714285714285715\n",
            "40\n"
          ]
        }
      ]
    },
    {
      "cell_type": "markdown",
      "source": [
        "🔹 Merging & Joining DataFrames"
      ],
      "metadata": {
        "id": "4UyTUb00mbPC"
      }
    },
    {
      "cell_type": "code",
      "source": [
        "#Concatenating DataFrames\n",
        "df1 = pd.DataFrame({'A': [1, 2], 'B': [3, 4]})\n",
        "df2 = pd.DataFrame({'A': [5, 6], 'B': [7, 8]})\n",
        "\n",
        "df_concat = pd.concat([df1, df2])\n",
        "print(df_concat)"
      ],
      "metadata": {
        "colab": {
          "base_uri": "https://localhost:8080/"
        },
        "id": "xU1wilgFmb61",
        "outputId": "0497bbd7-82b0-4266-e806-5e6bd463f4d0"
      },
      "execution_count": 142,
      "outputs": [
        {
          "output_type": "stream",
          "name": "stdout",
          "text": [
            "   A  B\n",
            "0  1  3\n",
            "1  2  4\n",
            "0  5  7\n",
            "1  6  8\n"
          ]
        }
      ]
    },
    {
      "cell_type": "markdown",
      "source": [
        "Merging DataFrames"
      ],
      "metadata": {
        "id": "1qVfnPOlmjWg"
      }
    },
    {
      "cell_type": "code",
      "source": [
        "df1 = pd.DataFrame({'ID': [1, 2, 3], 'Name': ['Alice', 'Bob', 'Charlie']})\n",
        "df2 = pd.DataFrame({'ID': [1, 2, 4], 'Salary': [50000, 60000, 70000]})\n",
        "\n",
        "df_merged = pd.merge(df1, df2, on='ID', how='inner')  # inner, left, right, outer\n",
        "print(df_merged)\n"
      ],
      "metadata": {
        "colab": {
          "base_uri": "https://localhost:8080/"
        },
        "id": "h5Bmh3X3mj3m",
        "outputId": "dc7499ca-cd51-4cfc-da4b-e2df5c34ce04"
      },
      "execution_count": 143,
      "outputs": [
        {
          "output_type": "stream",
          "name": "stdout",
          "text": [
            "   ID   Name  Salary\n",
            "0   1  Alice   50000\n",
            "1   2    Bob   60000\n"
          ]
        }
      ]
    },
    {
      "cell_type": "markdown",
      "source": [
        "Python Code to Create **employees.csv** file"
      ],
      "metadata": {
        "id": "xdKOmjliqIsP"
      }
    },
    {
      "cell_type": "code",
      "source": [
        "import pandas as pd\n",
        "\n",
        "# Create sample employee data\n",
        "data = {\n",
        "    'Name': ['Alice', 'Bob', 'Charlie', 'David', 'Eve', 'Frank', 'Grace', 'Hannah', 'Ian', 'Jack'],\n",
        "    'Age': [25, 30, 35, 40, 28, 33, 29, 32, 27, 31],\n",
        "    'City': ['New York', 'Los Angeles', 'New York', 'San Francisco', 'Miami',\n",
        "             'Houston', 'Boston', 'New York', 'Chicago', 'Seattle'],\n",
        "    'Salary': [50000, 60000, 70000, 80000, 55000, 62000, 58000, 75000, 67000, 72000]\n",
        "}\n",
        "\n",
        "# Create a DataFrame\n",
        "df = pd.DataFrame(data)\n",
        "\n",
        "# Save to CSV file\n",
        "df.to_csv('employees.csv', index=False)\n",
        "\n",
        "print(\"employees.csv file created successfully!\")\n"
      ],
      "metadata": {
        "colab": {
          "base_uri": "https://localhost:8080/"
        },
        "id": "ggeUQgzeqMhI",
        "outputId": "af58a028-b222-4a7f-add1-dbb3b5581fb9"
      },
      "execution_count": 144,
      "outputs": [
        {
          "output_type": "stream",
          "name": "stdout",
          "text": [
            "employees.csv file created successfully!\n"
          ]
        }
      ]
    },
    {
      "cell_type": "markdown",
      "source": [
        "📌 Real-World Example\n",
        "Analyzing a CSV File\n",
        "\n"
      ],
      "metadata": {
        "id": "fy0ZKAqbmpT5"
      }
    },
    {
      "cell_type": "code",
      "source": [
        "df = pd.read_csv('employees.csv')\n",
        "\n",
        "# Show top rows\n",
        "print(df.head())\n",
        "\n",
        "# Find average salary\n",
        "print(df['Salary'].mean())\n",
        "\n",
        "# Find employees from New York\n",
        "ny_employees = df[df['City'] == 'New York']\n",
        "print(ny_employees)\n",
        "\n",
        "# Save to a new CSV file\n",
        "ny_employees.to_csv('ny_employees.csv', index=False)"
      ],
      "metadata": {
        "colab": {
          "base_uri": "https://localhost:8080/"
        },
        "id": "Mp2j8GU8mqBa",
        "outputId": "e07b5b10-6542-43b8-829c-1c4bd5703601"
      },
      "execution_count": 145,
      "outputs": [
        {
          "output_type": "stream",
          "name": "stdout",
          "text": [
            "      Name  Age           City  Salary\n",
            "0    Alice   25       New York   50000\n",
            "1      Bob   30    Los Angeles   60000\n",
            "2  Charlie   35       New York   70000\n",
            "3    David   40  San Francisco   80000\n",
            "4      Eve   28          Miami   55000\n",
            "64900.0\n",
            "      Name  Age      City  Salary\n",
            "0    Alice   25  New York   50000\n",
            "2  Charlie   35  New York   70000\n",
            "7   Hannah   32  New York   75000\n"
          ]
        }
      ]
    },
    {
      "cell_type": "markdown",
      "source": [
        "🎯 **Summary**\n",
        "\n",
        "✅ **Pandas Series** – 1D labeled array\n",
        "\n",
        "✅ **Pandas DataFrame** – 2D table-like structure\n",
        "\n",
        "✅ **Data Manipulation** – Selecting, filtering, updating\n",
        "\n",
        "✅ **Handling Missing Data** – Filling/removing missing values\n",
        "\n",
        "✅ **Aggregation & Grouping** – Analyzing large datasets\n",
        "\n",
        "✅ **Reading/Writing Data** – Import/export CSV files\n",
        "\n",
        "*Made with ❤️ by Lovnish Verma* ❤"
      ],
      "metadata": {
        "id": "wiQsYCo_msvY"
      }
    }
  ]
}