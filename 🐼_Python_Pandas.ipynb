{
  "nbformat": 4,
  "nbformat_minor": 0,
  "metadata": {
    "colab": {
      "provenance": [],
      "authorship_tag": "ABX9TyNZRMwxuDi/26A+z1hK4c9n",
      "include_colab_link": true
    },
    "kernelspec": {
      "name": "python3",
      "display_name": "Python 3"
    },
    "language_info": {
      "name": "python"
    }
  },
  "cells": [
    {
      "cell_type": "markdown",
      "metadata": {
        "id": "view-in-github",
        "colab_type": "text"
      },
      "source": [
        "<a href=\"https://colab.research.google.com/github/lovnishverma/Python-Getting-Started/blob/main/%F0%9F%90%BC_Python_Pandas.ipynb\" target=\"_parent\"><img src=\"https://colab.research.google.com/assets/colab-badge.svg\" alt=\"Open In Colab\"/></a>"
      ]
    },
    {
      "cell_type": "markdown",
      "source": [
        "**🐼 Pandas  Tutorial for Beginners**   -  ® Lovnish Verma"
      ],
      "metadata": {
        "id": "vtXCR9m_gTEe"
      }
    },
    {
      "cell_type": "markdown",
      "source": [
        "Pandas is a powerful Python library for data analysis and manipulation. It provides two main data structures:\n",
        "\n",
        "\n",
        "\n",
        "*   **Series** – A one-dimensional labeled array\n",
        "*   **DataFrame** – A two-dimensional labeled table\n",
        "\n",
        "Let’s get started with Pandas basics, covering data structures, essential operations, and real-world examples."
      ],
      "metadata": {
        "id": "5n25e6NJj7LP"
      }
    },
    {
      "cell_type": "markdown",
      "source": [
        "1️⃣ Installation\n",
        "If you haven't installed Pandas yet, use:"
      ],
      "metadata": {
        "id": "j5W4QcLJj7_u"
      }
    },
    {
      "cell_type": "markdown",
      "source": [
        "\n",
        "\n",
        "```\n",
        "pip install pandas\n",
        "```\n",
        "\n"
      ],
      "metadata": {
        "id": "4lFyr93rkKHF"
      }
    },
    {
      "cell_type": "markdown",
      "source": [
        "Or if you're using Google Colab or Jupyter Notebook:"
      ],
      "metadata": {
        "id": "lLzh474QkAoP"
      }
    },
    {
      "cell_type": "code",
      "execution_count": null,
      "metadata": {
        "id": "vea1pzpcf_S9"
      },
      "outputs": [],
      "source": [
        "!pip install pandas"
      ]
    },
    {
      "cell_type": "markdown",
      "source": [
        "2️⃣ Importing Pandas"
      ],
      "metadata": {
        "id": "1LzfPZYvkPrw"
      }
    },
    {
      "cell_type": "code",
      "source": [
        "import pandas as pd"
      ],
      "metadata": {
        "id": "1sgxoQvTkRrb"
      },
      "execution_count": null,
      "outputs": []
    },
    {
      "cell_type": "markdown",
      "source": [
        "3️⃣ Pandas Series (1D Data Structure)\n",
        "A Series is like a column in Excel, consisting of data and an index."
      ],
      "metadata": {
        "id": "eckxEFhXkTe4"
      }
    },
    {
      "cell_type": "code",
      "source": [
        "#Creating a Series\n",
        "data = [10, 20, 30, 40]\n",
        "series = pd.Series(data)\n",
        "print(series)"
      ],
      "metadata": {
        "id": "txK-_2hckV-a"
      },
      "execution_count": null,
      "outputs": []
    },
    {
      "cell_type": "markdown",
      "source": [
        "Custom Index in a Series"
      ],
      "metadata": {
        "id": "tLkBDaCRkaDv"
      }
    },
    {
      "cell_type": "code",
      "source": [
        "series = pd.Series([10, 20, 30], index=['a', 'b', 'c'])\n",
        "print(series)"
      ],
      "metadata": {
        "id": "Jala3PQZkciq"
      },
      "execution_count": null,
      "outputs": []
    },
    {
      "cell_type": "markdown",
      "source": [
        "Accessing Series Elements"
      ],
      "metadata": {
        "id": "uN5LE_76keCS"
      }
    },
    {
      "cell_type": "code",
      "source": [
        "print(series['b'])  # Output: 20"
      ],
      "metadata": {
        "id": "P3gd-kCNkm2L"
      },
      "execution_count": null,
      "outputs": []
    },
    {
      "cell_type": "markdown",
      "source": [
        "4️⃣ Pandas DataFrame (2D Data Structure)\n",
        "A DataFrame is like an Excel spreadsheet with rows and columns."
      ],
      "metadata": {
        "id": "t6LzdZTNkoPh"
      }
    },
    {
      "cell_type": "markdown",
      "source": [
        "Creating a DataFrame"
      ],
      "metadata": {
        "id": "rUHS_gfbkq31"
      }
    },
    {
      "cell_type": "code",
      "source": [
        "data = {\n",
        "    'Name': ['Alice', 'Bob', 'Charlie'],\n",
        "    'Age': [25, 30, 35],\n",
        "    'City': ['New York', 'Los Angeles', 'Chicago']\n",
        "}\n",
        "df = pd.DataFrame(data)\n",
        "print(df)"
      ],
      "metadata": {
        "id": "KcO9oTWnksxM"
      },
      "execution_count": null,
      "outputs": []
    },
    {
      "cell_type": "markdown",
      "source": [
        "5️⃣ Reading & Writing Data"
      ],
      "metadata": {
        "id": "5JvWa1xUkuXo"
      }
    },
    {
      "cell_type": "code",
      "source": [
        "#Reading CSV Files\n",
        "df = pd.read_csv('data.csv')"
      ],
      "metadata": {
        "id": "yCuCfrrakwn4"
      },
      "execution_count": null,
      "outputs": []
    },
    {
      "cell_type": "markdown",
      "source": [
        "Writing to a CSV File"
      ],
      "metadata": {
        "id": "l53_pVJAlMJa"
      }
    },
    {
      "cell_type": "code",
      "source": [
        "df.to_csv('output.csv', index=False)"
      ],
      "metadata": {
        "id": "oUThLDLHlPSs"
      },
      "execution_count": null,
      "outputs": []
    },
    {
      "cell_type": "markdown",
      "source": [
        "6️⃣ Data Exploration"
      ],
      "metadata": {
        "id": "j_dPj8DKlRb-"
      }
    },
    {
      "cell_type": "markdown",
      "source": [
        "Checking First & Last Rows"
      ],
      "metadata": {
        "id": "3QcmcgqolUyL"
      }
    },
    {
      "cell_type": "code",
      "source": [
        "print(df.head())  # First 5 rows\n",
        "print(df.tail())  # Last 5 rows"
      ],
      "metadata": {
        "id": "6_4UDy2UlWus"
      },
      "execution_count": null,
      "outputs": []
    },
    {
      "cell_type": "markdown",
      "source": [
        "Basic Info & Statistics"
      ],
      "metadata": {
        "id": "QHsDb-JzlYEO"
      }
    },
    {
      "cell_type": "code",
      "source": [
        "print(df.info())       # Data types & missing values\n",
        "print(df.describe())   # Summary statistics"
      ],
      "metadata": {
        "id": "2MBYHsMklZ2o"
      },
      "execution_count": null,
      "outputs": []
    },
    {
      "cell_type": "markdown",
      "source": [
        "7️⃣ Selecting & Filtering Data"
      ],
      "metadata": {
        "id": "LKpMbiuElbUu"
      }
    },
    {
      "cell_type": "markdown",
      "source": [
        "Selecting Columns"
      ],
      "metadata": {
        "id": "dEWuLUGnldw2"
      }
    },
    {
      "cell_type": "code",
      "source": [
        "print(df['Name'])  # Selecting a single column\n",
        "print(df[['Name', 'Age']])  # Selecting multiple columns"
      ],
      "metadata": {
        "id": "XTszt-D_lfIX"
      },
      "execution_count": null,
      "outputs": []
    },
    {
      "cell_type": "markdown",
      "source": [
        "Selecting Rows (Using Indexing)"
      ],
      "metadata": {
        "id": "7JIj3g13lgeK"
      }
    },
    {
      "cell_type": "code",
      "source": [
        "print(df.iloc[0])   # First row\n",
        "print(df.loc[1])    # Row with index 1"
      ],
      "metadata": {
        "id": "YQZoHL5ulimP"
      },
      "execution_count": null,
      "outputs": []
    },
    {
      "cell_type": "markdown",
      "source": [
        "Filtering Data"
      ],
      "metadata": {
        "id": "1mrb8szfljvS"
      }
    },
    {
      "cell_type": "code",
      "source": [
        "filtered_df = df[df['Age'] > 25]\n",
        "print(filtered_df)"
      ],
      "metadata": {
        "id": "wPKmKh0jllTb"
      },
      "execution_count": null,
      "outputs": []
    },
    {
      "cell_type": "markdown",
      "source": [
        "8️⃣ Modifying Data"
      ],
      "metadata": {
        "id": "XFHNY88plwh3"
      }
    },
    {
      "cell_type": "markdown",
      "source": [
        "Adding a New Column"
      ],
      "metadata": {
        "id": "a6BxvzvPl1t4"
      }
    },
    {
      "cell_type": "code",
      "source": [
        "df['Salary'] = [50000, 60000, 70000]\n",
        "print(df)"
      ],
      "metadata": {
        "id": "280XzWl7l2wz"
      },
      "execution_count": null,
      "outputs": []
    },
    {
      "cell_type": "markdown",
      "source": [
        "Updating Values"
      ],
      "metadata": {
        "id": "R-PhQUeXl4o_"
      }
    },
    {
      "cell_type": "code",
      "source": [
        "df.loc[1, 'Age'] = 32  # Update age of Bob"
      ],
      "metadata": {
        "id": "rfA2QnFcl7KS"
      },
      "execution_count": null,
      "outputs": []
    },
    {
      "cell_type": "markdown",
      "source": [
        "Deleting a Column"
      ],
      "metadata": {
        "id": "uj3YSTCxl8xb"
      }
    },
    {
      "cell_type": "code",
      "source": [
        "df.drop(columns=['Salary'], inplace=True)"
      ],
      "metadata": {
        "id": "tk2guM4Ml-ay"
      },
      "execution_count": null,
      "outputs": []
    },
    {
      "cell_type": "markdown",
      "source": [
        "9️⃣ Handling Missing Data"
      ],
      "metadata": {
        "id": "fNoIFBNqmAS0"
      }
    },
    {
      "cell_type": "code",
      "source": [
        "#Detect Missing Values\n",
        "print(df.isnull().sum())  # Count missing values in each column"
      ],
      "metadata": {
        "id": "EAwODKxymCSs"
      },
      "execution_count": null,
      "outputs": []
    },
    {
      "cell_type": "code",
      "source": [
        "#Fill Missing Values\n",
        "df.fillna(0, inplace=True)"
      ],
      "metadata": {
        "id": "nBfzz67ymGnP"
      },
      "execution_count": null,
      "outputs": []
    },
    {
      "cell_type": "code",
      "source": [
        "#Remove Missing Values\n",
        "df.dropna(inplace=True)"
      ],
      "metadata": {
        "id": "rA5b_g9WmLII"
      },
      "execution_count": null,
      "outputs": []
    },
    {
      "cell_type": "markdown",
      "source": [
        "🔟 Grouping & Aggregation"
      ],
      "metadata": {
        "id": "eeOOE1NxmQ04"
      }
    },
    {
      "cell_type": "code",
      "source": [
        "#Grouping Data\n",
        "grouped_df = df.groupby('City').mean()\n",
        "print(grouped_df)"
      ],
      "metadata": {
        "id": "vUaDYUIsmRkM"
      },
      "execution_count": null,
      "outputs": []
    },
    {
      "cell_type": "code",
      "source": [
        "#Aggregating Data\n",
        "print(df['Age'].sum())    # Total age\n",
        "print(df['Age'].mean())   # Average age\n",
        "print(df['Age'].max())    # Maximum age"
      ],
      "metadata": {
        "id": "bon8fJjQmWHf"
      },
      "execution_count": null,
      "outputs": []
    },
    {
      "cell_type": "markdown",
      "source": [
        "🔹 Merging & Joining DataFrames"
      ],
      "metadata": {
        "id": "4UyTUb00mbPC"
      }
    },
    {
      "cell_type": "code",
      "source": [
        "#Concatenating DataFrames\n",
        "df1 = pd.DataFrame({'A': [1, 2], 'B': [3, 4]})\n",
        "df2 = pd.DataFrame({'A': [5, 6], 'B': [7, 8]})\n",
        "\n",
        "df_concat = pd.concat([df1, df2])\n",
        "print(df_concat)"
      ],
      "metadata": {
        "id": "xU1wilgFmb61"
      },
      "execution_count": null,
      "outputs": []
    },
    {
      "cell_type": "markdown",
      "source": [
        "Merging DataFrames"
      ],
      "metadata": {
        "id": "1qVfnPOlmjWg"
      }
    },
    {
      "cell_type": "code",
      "source": [
        "df1 = pd.DataFrame({'ID': [1, 2, 3], 'Name': ['Alice', 'Bob', 'Charlie']})\n",
        "df2 = pd.DataFrame({'ID': [1, 2, 4], 'Salary': [50000, 60000, 70000]})\n",
        "\n",
        "df_merged = pd.merge(df1, df2, on='ID', how='inner')  # inner, left, right, outer\n",
        "print(df_merged)\n"
      ],
      "metadata": {
        "id": "h5Bmh3X3mj3m"
      },
      "execution_count": null,
      "outputs": []
    },
    {
      "cell_type": "markdown",
      "source": [
        "📌 Real-World Example\n",
        "Analyzing a CSV File\n",
        "\n"
      ],
      "metadata": {
        "id": "fy0ZKAqbmpT5"
      }
    },
    {
      "cell_type": "code",
      "source": [
        "df = pd.read_csv('employees.csv')\n",
        "\n",
        "# Show top rows\n",
        "print(df.head())\n",
        "\n",
        "# Find average salary\n",
        "print(df['Salary'].mean())\n",
        "\n",
        "# Find employees from New York\n",
        "ny_employees = df[df['City'] == 'New York']\n",
        "print(ny_employees)\n",
        "\n",
        "# Save to a new CSV file\n",
        "ny_employees.to_csv('ny_employees.csv', index=False)"
      ],
      "metadata": {
        "id": "Mp2j8GU8mqBa"
      },
      "execution_count": null,
      "outputs": []
    },
    {
      "cell_type": "markdown",
      "source": [
        "🎯 **Summary**\n",
        "\n",
        "✅ **Pandas Series** – 1D labeled array\n",
        "\n",
        "✅ **Pandas DataFrame** – 2D table-like structure\n",
        "\n",
        "✅ **Data Manipulation** – Selecting, filtering, updating\n",
        "\n",
        "✅ **Handling Missing Data** – Filling/removing missing values\n",
        "\n",
        "✅ **Aggregation & Grouping** – Analyzing large datasets\n",
        "\n",
        "✅ **Reading/Writing Data** – Import/export CSV files\n",
        "\n",
        "*Made with ❤️ by Lovnish Verma* ❤"
      ],
      "metadata": {
        "id": "wiQsYCo_msvY"
      }
    }
  ]
}