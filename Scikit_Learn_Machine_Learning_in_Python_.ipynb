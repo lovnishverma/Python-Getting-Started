{
  "nbformat": 4,
  "nbformat_minor": 0,
  "metadata": {
    "colab": {
      "provenance": [],
      "authorship_tag": "ABX9TyO5mXKywMbgCGo4CsfMj/pI",
      "include_colab_link": true
    },
    "kernelspec": {
      "name": "python3",
      "display_name": "Python 3"
    },
    "language_info": {
      "name": "python"
    }
  },
  "cells": [
    {
      "cell_type": "markdown",
      "metadata": {
        "id": "view-in-github",
        "colab_type": "text"
      },
      "source": [
        "<a href=\"https://colab.research.google.com/github/lovnishverma/Python-Getting-Started/blob/main/Scikit_Learn_Machine_Learning_in_Python_.ipynb\" target=\"_parent\"><img src=\"https://colab.research.google.com/assets/colab-badge.svg\" alt=\"Open In Colab\"/></a>"
      ]
    },
    {
      "cell_type": "markdown",
      "source": [
        "### **Scikit-Learn: Machine Learning in Python (Beginner Guide)**  \n",
        "\n",
        "Scikit-learn is one of the most popular machine learning libraries in Python. It provides simple and efficient tools for predictive data analysis.\n"
      ],
      "metadata": {
        "id": "CZp50RYW5DCi"
      }
    },
    {
      "cell_type": "markdown",
      "source": [
        "## **1. Installation and Setup**\n",
        "First, install Scikit-learn and its dependencies using:"
      ],
      "metadata": {
        "id": "8AzavVKZ5JAK"
      }
    },
    {
      "cell_type": "markdown",
      "source": [
        "```bash\n",
        "pip install scikit-learn numpy pandas matplotlib\n",
        "```"
      ],
      "metadata": {
        "id": "NBOqiErF5Lnv"
      }
    },
    {
      "cell_type": "markdown",
      "source": [
        "## **2. Basics of Scikit-learn**\n",
        "Scikit-learn provides:\n",
        "- **Supervised Learning** (Regression & Classification)\n",
        "- **Unsupervised Learning** (Clustering & Dimensionality Reduction)\n",
        "- **Model Selection & Evaluation**\n",
        "- **Feature Engineering & Preprocessing**"
      ],
      "metadata": {
        "id": "GervC5MX5Osg"
      }
    },
    {
      "cell_type": "markdown",
      "source": [
        "### **Importing Required Libraries**"
      ],
      "metadata": {
        "id": "IgOnVv-x63BR"
      }
    },
    {
      "cell_type": "code",
      "source": [
        "import numpy as np\n",
        "import pandas as pd\n",
        "import matplotlib.pyplot as plt\n",
        "from sklearn.model_selection import train_test_split\n",
        "from sklearn.metrics import accuracy_score, confusion_matrix"
      ],
      "metadata": {
        "id": "R_xe_j2U5Tch"
      },
      "execution_count": 1,
      "outputs": []
    },
    {
      "cell_type": "markdown",
      "source": [
        "## **3. Supervised Learning (Regression & Classification)**"
      ],
      "metadata": {
        "id": "8-eC9AGa5WHP"
      }
    },
    {
      "cell_type": "markdown",
      "source": [
        "### **3.1 Linear Regression (Predicting Continuous Values)**"
      ],
      "metadata": {
        "id": "DyhdIpVh5ZTA"
      }
    },
    {
      "cell_type": "code",
      "source": [
        "from sklearn.linear_model import LinearRegression\n",
        "\n",
        "# Sample dataset\n",
        "X = np.array([[1], [2], [3], [4], [5]])  # Features\n",
        "y = np.array([2, 4, 6, 8, 10])  # Target variable\n",
        "\n",
        "# Train-test split\n",
        "X_train, X_test, y_train, y_test = train_test_split(X, y, test_size=0.2, random_state=42)\n",
        "\n",
        "# Model training\n",
        "model = LinearRegression()\n",
        "model.fit(X_train, y_train)\n",
        "\n",
        "# Prediction\n",
        "y_pred = model.predict(X_test)\n",
        "print(\"Predicted Values:\", y_pred)\n",
        "\n",
        "# Model evaluation\n",
        "print(\"Model Coefficient:\", model.coef_)\n",
        "print(\"Model Intercept:\", model.intercept_)"
      ],
      "metadata": {
        "colab": {
          "base_uri": "https://localhost:8080/"
        },
        "id": "InPvtMiW5bg3",
        "outputId": "fcfcfa7e-7b8c-486c-8254-7605e7ef7a24"
      },
      "execution_count": 2,
      "outputs": [
        {
          "output_type": "stream",
          "name": "stdout",
          "text": [
            "Predicted Values: [4.]\n",
            "Model Coefficient: [2.]\n",
            "Model Intercept: 0.0\n"
          ]
        }
      ]
    },
    {
      "cell_type": "markdown",
      "source": [
        "### **3.2 Logistic Regression (Binary Classification)**"
      ],
      "metadata": {
        "id": "oywfG__x5e9R"
      }
    },
    {
      "cell_type": "code",
      "source": [
        "from sklearn.linear_model import LogisticRegression\n",
        "from sklearn.datasets import load_iris\n",
        "\n",
        "# Load dataset\n",
        "iris = load_iris()\n",
        "X, y = iris.data[:, :2], iris.target  # Using only 2 features for visualization\n",
        "\n",
        "# Train-test split\n",
        "X_train, X_test, y_train, y_test = train_test_split(X, y, test_size=0.2, random_state=42)\n",
        "\n",
        "# Model training\n",
        "log_model = LogisticRegression()\n",
        "log_model.fit(X_train, y_train)\n",
        "\n",
        "# Prediction & Evaluation\n",
        "y_pred = log_model.predict(X_test)\n",
        "print(\"Accuracy:\", accuracy_score(y_test, y_pred))"
      ],
      "metadata": {
        "colab": {
          "base_uri": "https://localhost:8080/"
        },
        "id": "0QyVmZbq5hB_",
        "outputId": "19d6f332-e798-4db7-8478-1f51a599db54"
      },
      "execution_count": 3,
      "outputs": [
        {
          "output_type": "stream",
          "name": "stdout",
          "text": [
            "Accuracy: 0.9\n"
          ]
        }
      ]
    },
    {
      "cell_type": "markdown",
      "source": [
        "## **4. Unsupervised Learning (Clustering & Dimensionality Reduction)**\n",
        "\n",
        "### **4.1 K-Means Clustering**"
      ],
      "metadata": {
        "id": "90M1EymL5kXv"
      }
    },
    {
      "cell_type": "code",
      "source": [
        "from sklearn.cluster import KMeans\n",
        "\n",
        "# Generate sample data\n",
        "X = np.array([[1, 2], [1, 4], [1, 0], [10, 2], [10, 4], [10, 0]])\n",
        "\n",
        "# Create and fit model\n",
        "kmeans = KMeans(n_clusters=2, random_state=42)\n",
        "kmeans.fit(X)\n",
        "\n",
        "# Predictions\n",
        "print(\"Cluster Labels:\", kmeans.labels_)\n",
        "print(\"Cluster Centers:\", kmeans.cluster_centers_)"
      ],
      "metadata": {
        "colab": {
          "base_uri": "https://localhost:8080/"
        },
        "id": "pNY91fBv5mcY",
        "outputId": "98d497e6-e2c8-4da5-dd25-cbd84b00787b"
      },
      "execution_count": 4,
      "outputs": [
        {
          "output_type": "stream",
          "name": "stdout",
          "text": [
            "Cluster Labels: [0 0 0 1 1 1]\n",
            "Cluster Centers: [[ 1.  2.]\n",
            " [10.  2.]]\n"
          ]
        }
      ]
    },
    {
      "cell_type": "markdown",
      "source": [
        "### **4.2 Principal Component Analysis (PCA) for Dimensionality Reduction**"
      ],
      "metadata": {
        "id": "JjIxZHcu5pdo"
      }
    },
    {
      "cell_type": "code",
      "source": [
        "from sklearn.decomposition import PCA\n",
        "\n",
        "# Load dataset\n",
        "X, y = iris.data, iris.target\n",
        "\n",
        "# Apply PCA\n",
        "pca = PCA(n_components=2)\n",
        "X_pca = pca.fit_transform(X)\n",
        "\n",
        "# Plot PCA result\n",
        "plt.scatter(X_pca[:, 0], X_pca[:, 1], c=y, cmap=\"viridis\")\n",
        "plt.xlabel(\"Principal Component 1\")\n",
        "plt.ylabel(\"Principal Component 2\")\n",
        "plt.title(\"PCA on Iris Dataset\")\n",
        "plt.show()"
      ],
      "metadata": {
        "colab": {
          "base_uri": "https://localhost:8080/",
          "height": 472
        },
        "id": "ipygW19K5rLP",
        "outputId": "faf453e7-b88d-486c-98ac-2df083705994"
      },
      "execution_count": 5,
      "outputs": [
        {
          "output_type": "display_data",
          "data": {
            "text/plain": [
              "<Figure size 640x480 with 1 Axes>"
            ],
            "image/png": "[encoded data removed]"
          },
          "metadata": {}
        }
      ]
    },
    {
      "cell_type": "markdown",
      "source": [
        "## **5. Model Selection & Evaluation**\n",
        "### **5.1 Train-Test Split & Cross-Validation**"
      ],
      "metadata": {
        "id": "1lVFQkPg5tiX"
      }
    },
    {
      "cell_type": "code",
      "source": [
        "from sklearn.model_selection import cross_val_score\n",
        "\n",
        "# Cross-validation score for logistic regression\n",
        "scores = cross_val_score(log_model, X, y, cv=5)\n",
        "print(\"Cross-validation Scores:\", scores)\n",
        "print(\"Mean Score:\", scores.mean())"
      ],
      "metadata": {
        "colab": {
          "base_uri": "https://localhost:8080/"
        },
        "id": "TQ5g2mJj5vRv",
        "outputId": "88ebcc78-7470-4266-8b3d-71cb30c2b79e"
      },
      "execution_count": 6,
      "outputs": [
        {
          "output_type": "stream",
          "name": "stdout",
          "text": [
            "Cross-validation Scores: [0.96666667 1.         0.93333333 0.96666667 1.        ]\n",
            "Mean Score: 0.9733333333333334\n"
          ]
        },
        {
          "output_type": "stream",
          "name": "stderr",
          "text": [
            "/usr/local/lib/python3.11/dist-packages/sklearn/linear_model/_logistic.py:465: ConvergenceWarning: lbfgs failed to converge (status=1):\n",
            "STOP: TOTAL NO. of ITERATIONS REACHED LIMIT.\n",
            "\n",
            "Increase the number of iterations (max_iter) or scale the data as shown in:\n",
            "    https://scikit-learn.org/stable/modules/preprocessing.html\n",
            "Please also refer to the documentation for alternative solver options:\n",
            "    https://scikit-learn.org/stable/modules/linear_model.html#logistic-regression\n",
            "  n_iter_i = _check_optimize_result(\n"
          ]
        }
      ]
    },
    {
      "cell_type": "markdown",
      "source": [
        "### **5.2 Confusion Matrix**"
      ],
      "metadata": {
        "id": "qpbtqdhM5xwR"
      }
    },
    {
      "cell_type": "code",
      "source": [
        "from sklearn.metrics import confusion_matrix\n",
        "\n",
        "cm = confusion_matrix(y_test, y_pred)\n",
        "print(\"Confusion Matrix:\\n\", cm)"
      ],
      "metadata": {
        "colab": {
          "base_uri": "https://localhost:8080/"
        },
        "id": "NeifKlU55zSg",
        "outputId": "4e378a70-a9e3-429c-c765-058229ae14b5"
      },
      "execution_count": 7,
      "outputs": [
        {
          "output_type": "stream",
          "name": "stdout",
          "text": [
            "Confusion Matrix:\n",
            " [[10  0  0]\n",
            " [ 0  7  2]\n",
            " [ 0  1 10]]\n"
          ]
        }
      ]
    },
    {
      "cell_type": "markdown",
      "source": [
        "## **6. Feature Engineering & Preprocessing**\n",
        "### **6.1 Standardization & Normalization**"
      ],
      "metadata": {
        "id": "WCVzLG4l51lw"
      }
    },
    {
      "cell_type": "code",
      "source": [
        "from sklearn.preprocessing import StandardScaler, MinMaxScaler\n",
        "\n",
        "# Standardization\n",
        "scaler = StandardScaler()\n",
        "X_scaled = scaler.fit_transform(X)\n",
        "\n",
        "# Normalization\n",
        "normalizer = MinMaxScaler()\n",
        "X_normalized = normalizer.fit_transform(X)"
      ],
      "metadata": {
        "id": "a6o50Idz53-v"
      },
      "execution_count": 8,
      "outputs": []
    },
    {
      "cell_type": "markdown",
      "source": [
        "## **7. Advanced Topics**\n",
        "### **7.1 Decision Trees & Random Forest**"
      ],
      "metadata": {
        "id": "cxyzJOGm57Bf"
      }
    },
    {
      "cell_type": "code",
      "source": [
        "from sklearn.tree import DecisionTreeClassifier\n",
        "from sklearn.ensemble import RandomForestClassifier\n",
        "\n",
        "# Train Decision Tree\n",
        "dt_model = DecisionTreeClassifier()\n",
        "dt_model.fit(X_train, y_train)\n",
        "\n",
        "# Train Random Forest\n",
        "rf_model = RandomForestClassifier(n_estimators=100)\n",
        "rf_model.fit(X_train, y_train)\n",
        "\n",
        "# Prediction & Evaluation\n",
        "print(\"Decision Tree Accuracy:\", accuracy_score(y_test, dt_model.predict(X_test)))\n",
        "print(\"Random Forest Accuracy:\", accuracy_score(y_test, rf_model.predict(X_test)))"
      ],
      "metadata": {
        "colab": {
          "base_uri": "https://localhost:8080/"
        },
        "id": "92omA__z59PX",
        "outputId": "65debf87-867e-4d65-f5b6-c260cab4fa40"
      },
      "execution_count": 9,
      "outputs": [
        {
          "output_type": "stream",
          "name": "stdout",
          "text": [
            "Decision Tree Accuracy: 0.6333333333333333\n",
            "Random Forest Accuracy: 0.8\n"
          ]
        }
      ]
    },
    {
      "cell_type": "markdown",
      "source": [
        "### **7.2 Support Vector Machines (SVM)**"
      ],
      "metadata": {
        "id": "tiOn3Pch5_w3"
      }
    },
    {
      "cell_type": "code",
      "source": [
        "from sklearn.svm import SVC\n",
        "\n",
        "# Train SVM model\n",
        "svm_model = SVC(kernel='linear')\n",
        "svm_model.fit(X_train, y_train)\n",
        "\n",
        "# Prediction & Evaluation\n",
        "y_pred = svm_model.predict(X_test)\n",
        "print(\"SVM Accuracy:\", accuracy_score(y_test, y_pred))"
      ],
      "metadata": {
        "colab": {
          "base_uri": "https://localhost:8080/"
        },
        "id": "BPf9gTYi6BjH",
        "outputId": "7c61f142-1e40-4cc1-8941-5451d0a04547"
      },
      "execution_count": 10,
      "outputs": [
        {
          "output_type": "stream",
          "name": "stdout",
          "text": [
            "SVM Accuracy: 0.9\n"
          ]
        }
      ]
    },
    {
      "cell_type": "markdown",
      "source": [
        "## **What’s Next?**\n",
        "- **Hyperparameter Tuning** (GridSearchCV, RandomizedSearchCV)\n",
        "- **Deep Learning with Scikit-learn**\n",
        "- **Time Series Forecasting**\n",
        "- **Building a Complete ML Pipeline**\n",
        "\n",
        "Cover topics like **model tuning (GridSearchCV, RandomizedSearchCV)** & **deployment of models** 😊"
      ],
      "metadata": {
        "id": "nxrln0qA6DxJ"
      }
    }
  ]
}