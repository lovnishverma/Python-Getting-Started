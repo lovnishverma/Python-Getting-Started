{
  "nbformat": 4,
  "nbformat_minor": 0,
  "metadata": {
    "colab": {
      "provenance": [],
      "authorship_tag": "ABX9TyM9vEeu56UjRpmug9Yf8vle",
      "include_colab_link": true
    },
    "kernelspec": {
      "name": "python3",
      "display_name": "Python 3"
    },
    "language_info": {
      "name": "python"
    }
  },
  "cells": [
    {
      "cell_type": "markdown",
      "metadata": {
        "id": "view-in-github",
        "colab_type": "text"
      },
      "source": [
        "<a href=\"https://colab.research.google.com/github/lovnishverma/Python-Getting-Started/blob/main/Distribute_Datasets_for_Classification_Models.ipynb\" target=\"_parent\"><img src=\"https://colab.research.google.com/assets/colab-badge.svg\" alt=\"Open In Colab\"/></a>"
      ]
    },
    {
      "cell_type": "markdown",
      "source": [
        "# 📝 Lesson: Dataset Distribution for Classification Models\n",
        "\n",
        "Welcome!  \n",
        "In this notebook, we’ll explore how datasets are distributed in classification problems.  \n",
        "You’ll learn:\n",
        "\n",
        "1. What class distribution means  \n",
        "2. Why balanced datasets are important  \n",
        "3. How to split data into train/test sets  \n",
        "4. Problems caused by **imbalanced datasets**  \n",
        "5. Techniques to fix imbalance: undersampling, oversampling, SMOTE  \n",
        "\n",
        "---\n"
      ],
      "metadata": {
        "id": "A8UdQu1q6zaH"
      }
    },
    {
      "cell_type": "markdown",
      "source": [
        "# ⚖️ What is Class Imbalance?\n",
        "\n",
        "👉 In **classification problems**, class imbalance happens when the number of samples in each class is **not evenly distributed**.\n",
        "\n",
        "* One class has **much more data** (majority class).\n",
        "* Other classes have **very little data** (minority class).\n",
        "\n",
        "---\n",
        "\n",
        "## 🔹 Example\n",
        "\n",
        "Imagine a **medical dataset** with 1000 patients:\n",
        "\n",
        "* **950 healthy** 🟢\n",
        "* **50 with disease** 🔴\n",
        "\n",
        "This is **imbalanced** because:\n",
        "\n",
        "* Model might just predict **“healthy” for everyone** and still be **95% accurate**.\n",
        "* But it completely **fails to detect the disease** — which is the real goal!\n",
        "\n",
        "---\n",
        "\n",
        "## 🔹 Why is Imbalance a Problem?\n",
        "\n",
        "* **High accuracy can be misleading** (predicting only the majority).\n",
        "* Model becomes **biased** toward the majority class.\n",
        "* Minority class is often **the most important** (fraud detection, cancer detection, etc.).\n",
        "\n",
        "---\n",
        "\n",
        "## 🔹 Balanced vs Imbalanced Dataset\n",
        "\n",
        "* **Balanced dataset** → Classes are roughly equal in size (e.g., Cats 🐱 = 500, Dogs 🐶 = 520).\n",
        "* **Imbalanced dataset** → Classes are skewed (e.g., Cats 🐱 = 950, Dogs 🐶 = 50).\n",
        "\n",
        "---\n",
        "\n",
        "📊 **Visualization Idea for Teaching**\n",
        "You can show a **bar chart** of class distribution:\n",
        "\n",
        "* Balanced → two equal bars.\n",
        "* Imbalanced → one tall bar, one tiny bar.\n",
        "\n",
        "This makes students immediately “see” what imbalance means.\n",
        "\n",
        "---\n",
        "\n",
        "✅ **Summary**:\n",
        "\n",
        "Class imbalance = when some classes have **much fewer samples** than others, making the model biased and less useful — especially for detecting rare but critical cases.\n",
        "\n",
        "---\n",
        "\n"
      ],
      "metadata": {
        "id": "I8MxssItCGt_"
      }
    },
    {
      "cell_type": "markdown",
      "source": [
        "📌 Step 1: Install Dependencies"
      ],
      "metadata": {
        "id": "ZuSdkm7a65Hl"
      }
    },
    {
      "cell_type": "code",
      "execution_count": 13,
      "metadata": {
        "id": "qKS55aMj6xRe"
      },
      "outputs": [],
      "source": [
        "# !pip install imbalanced-learn matplotlib seaborn sklearn pandas numpy"
      ]
    },
    {
      "cell_type": "markdown",
      "source": [
        "📌 Step 2: Import Libraries"
      ],
      "metadata": {
        "id": "5TTVRctj7FPk"
      }
    },
    {
      "cell_type": "code",
      "source": [
        "import numpy as np\n",
        "import matplotlib.pyplot as plt\n",
        "import seaborn as sns\n",
        "from sklearn.datasets import load_iris\n",
        "from sklearn.model_selection import train_test_split\n",
        "from collections import Counter\n",
        "from imblearn.over_sampling import RandomOverSampler, SMOTE\n",
        "from imblearn.under_sampling import RandomUnderSampler\n",
        "\n",
        "sns.set(style=\"whitegrid\")"
      ],
      "metadata": {
        "id": "nHQ8zIJj7F4E"
      },
      "execution_count": 14,
      "outputs": []
    },
    {
      "cell_type": "markdown",
      "source": [
        "📌 Step 3: Load a Balanced Dataset (Iris 🌸)"
      ],
      "metadata": {
        "id": "WjWg4Y_u7Nf0"
      }
    },
    {
      "cell_type": "code",
      "source": [
        "data = load_iris()\n",
        "X, y = data.data, data.target\n",
        "\n",
        "print(\"Class distribution in full dataset:\", Counter(y))\n",
        "\n",
        "sns.countplot(x=y, palette=\"Set2\")\n",
        "plt.title(\"Balanced Class Distribution in Iris Dataset\")\n",
        "plt.xlabel(\"Class\")\n",
        "plt.ylabel(\"Count\")\n",
        "plt.show()"
      ],
      "metadata": {
        "colab": {
          "base_uri": "https://localhost:8080/",
          "height": 584
        },
        "id": "JP-aAzi77N4f",
        "outputId": "c9585a2b-f64a-4bf0-e189-07151beb7053"
      },
      "execution_count": 15,
      "outputs": [
        {
          "output_type": "stream",
          "name": "stdout",
          "text": [
            "Class distribution in full dataset: Counter({np.int64(0): 50, np.int64(1): 50, np.int64(2): 50})\n"
          ]
        },
        {
          "output_type": "stream",
          "name": "stderr",
          "text": [
            "/tmp/ipython-input-828963309.py:6: FutureWarning: \n",
            "\n",
            "Passing `palette` without assigning `hue` is deprecated and will be removed in v0.14.0. Assign the `x` variable to `hue` and set `legend=False` for the same effect.\n",
            "\n",
            "  sns.countplot(x=y, palette=\"Set2\")\n"
          ]
        },
        {
          "output_type": "display_data",
          "data": {
            "text/plain": [
              "<Figure size 640x480 with 1 Axes>"
            ],
            "image/png": "[encoded data removed]"
          },
          "metadata": {}
        }
      ]
    },
    {
      "cell_type": "markdown",
      "source": [
        "🧑‍🏫 Explanation:\n",
        "\n",
        "Iris dataset has 150 samples → 50 of each class.\n",
        "\n",
        "This is a balanced dataset → models train fairly."
      ],
      "metadata": {
        "id": "VnxcjRE77RwW"
      }
    },
    {
      "cell_type": "markdown",
      "source": [
        "# 🎯 What is **Stratification**?\n",
        "\n",
        "When you split a dataset into **train/test sets**, you want both sets to have the **same class distribution** as the original dataset.\n",
        "\n",
        "* **Without stratification (random split):**\n",
        "  The split is *completely random*. This means some classes may end up underrepresented (or even missing!) in either train or test.\n",
        "\n",
        "* **With stratification (stratified split):**\n",
        "  The split **preserves the class proportions**. If your dataset has 30% cats and 70% dogs, both train and test will also have \\~30% cats and 70% dogs.\n",
        "\n",
        "---\n",
        "\n",
        "## 🐱🐶 Example\n",
        "\n",
        "Imagine you have **100 images**:\n",
        "\n",
        "* 30 Cats\n",
        "* 70 Dogs\n",
        "\n",
        "👉 You want to split 70% train, 30% test.\n",
        "\n",
        "### ❌ Random Split (no stratify)\n",
        "\n",
        "* Train: 10 Cats, 60 Dogs\n",
        "* Test: 20 Cats, 10 Dogs\n",
        "\n",
        "Notice:\n",
        "\n",
        "* Training set has *too few cats* (only 14%).\n",
        "* Test set has *too many cats* (66%).\n",
        "* Your model will be biased toward dogs during training.\n",
        "\n",
        "### ✅ Stratified Split (with stratify=y)\n",
        "\n",
        "* Train: 21 Cats, 49 Dogs (still \\~30% cats, 70% dogs)\n",
        "* Test: 9 Cats, 21 Dogs (still \\~30% cats, 70% dogs)\n",
        "\n",
        "Perfect! Both train and test **represent the original distribution fairly**.\n",
        "\n",
        "---\n",
        "\n",
        "## 📌 In Code\n",
        "\n",
        "```python\n",
        "from sklearn.model_selection import train_test_split\n",
        "from collections import Counter\n",
        "\n",
        "# Fake dataset: 30 cats (0), 70 dogs (1)\n",
        "y = [0]*30 + [1]*70\n",
        "\n",
        "# Random split (without stratify)\n",
        "_, y_test1 = train_test_split(y, test_size=0.3, random_state=42)\n",
        "print(\"No stratify:\", Counter(y_test1))\n",
        "\n",
        "# Stratified split\n",
        "_, y_test2 = train_test_split(y, test_size=0.3, stratify=y, random_state=42)\n",
        "print(\"With stratify:\", Counter(y_test2))\n",
        "```\n",
        "\n",
        "Output:\n",
        "\n",
        "```\n",
        "No stratify: Counter({0: 20, 1: 10})   # Test set distorted\n",
        "With stratify: Counter({0: 9, 1: 21}) # Preserves ratio\n",
        "```\n",
        "\n",
        "---\n",
        "\n",
        "## 🧑‍🏫 Takeaway\n",
        "\n",
        "* **Without stratification** → splits can distort class balance → models learn poorly.\n",
        "* **With stratification** → splits preserve class proportions → fair training & testing.\n",
        "\n",
        "---\n"
      ],
      "metadata": {
        "id": "JG6Qz600-nHI"
      }
    },
    {
      "cell_type": "markdown",
      "source": [
        "📌 Step 4: Splitting Without vs With Stratification"
      ],
      "metadata": {
        "id": "OWshj9i57T4K"
      }
    },
    {
      "cell_type": "code",
      "source": [
        "# Random split (without stratify)\n",
        "X_train, X_test, y_train, y_test = train_test_split(X, y, test_size=0.3, random_state=42)\n",
        "print(\"Train distribution (no stratify):\", Counter(y_train))\n",
        "print(\"Test distribution (no stratify):\", Counter(y_test))\n",
        "\n",
        "# Stratified split\n",
        "X_train_s, X_test_s, y_train_s, y_test_s = train_test_split(\n",
        "    X, y, test_size=0.3, stratify=y, random_state=42\n",
        ")\n",
        "print(\"Train distribution (stratify):\", Counter(y_train_s))\n",
        "print(\"Test distribution (stratify):\", Counter(y_test_s))"
      ],
      "metadata": {
        "colab": {
          "base_uri": "https://localhost:8080/"
        },
        "id": "913FJyzU7UP3",
        "outputId": "f891dbb2-ddcc-4d73-fecb-6de52eeaad7b"
      },
      "execution_count": 16,
      "outputs": [
        {
          "output_type": "stream",
          "name": "stdout",
          "text": [
            "Train distribution (no stratify): Counter({np.int64(1): 37, np.int64(2): 37, np.int64(0): 31})\n",
            "Test distribution (no stratify): Counter({np.int64(0): 19, np.int64(1): 13, np.int64(2): 13})\n",
            "Train distribution (stratify): Counter({np.int64(1): 35, np.int64(0): 35, np.int64(2): 35})\n",
            "Test distribution (stratify): Counter({np.int64(2): 15, np.int64(1): 15, np.int64(0): 15})\n"
          ]
        }
      ]
    },
    {
      "cell_type": "markdown",
      "source": [
        "🧑‍🏫 Explanation:\n",
        "\n",
        "Random split may distort distribution slightly.\n",
        "\n",
        "Stratified split ensures each class is represented proportionally in train/test.\n",
        "\n",
        "Always use stratify=y when splitting classification data."
      ],
      "metadata": {
        "id": "2MIcNWmj7aMX"
      }
    },
    {
      "cell_type": "markdown",
      "source": [
        "you’ve got it!\n",
        "\n",
        "For **classification models**, you should *always* use `stratify=y` when doing train/test splits.\n",
        "\n",
        "Here’s why:\n",
        "\n",
        "---\n",
        "\n",
        "### 🔍 Why use `stratify=y`?\n",
        "\n",
        "* Classification problems depend heavily on **class distribution**.\n",
        "* If the split is random (**no stratify**), some classes may:\n",
        "\n",
        "  * Get **too few samples** in training → model doesn’t learn them well.\n",
        "  * Get **too few samples** in testing → evaluation is misleading.\n",
        "* With `stratify=y`, the **proportion of each class** is preserved in both train and test sets.\n",
        "\n",
        "---\n",
        "\n",
        "### 📊 Example (Fraud Detection)\n",
        "\n",
        "Dataset:\n",
        "\n",
        "* 95% \"Normal\"\n",
        "* 5% \"Fraud\"\n",
        "\n",
        "Split 80/20:\n",
        "\n",
        "* **Without stratify:** Test set might contain *0 fraud samples*.\n",
        "  → Model looks perfect (100% accuracy) but never tested on fraud.\n",
        "* **With stratify:** Test set keeps \\~5% fraud.\n",
        "  → Model is properly tested on minority class.\n",
        "\n",
        "---\n",
        "\n",
        "### ✅ Rule of Thumb\n",
        "\n",
        "* For **classification tasks** → **always use `stratify=y`**.\n",
        "* For **regression tasks** → `stratify` is not needed (target is continuous, not categorical).\n",
        "\n",
        "---\n",
        "\n",
        "👉 So\n",
        "\n",
        "> \"Whenever we split data for classification, we should *always stratify on labels* to keep the same class distribution in train and test sets.\"\n",
        "\n",
        "---\n"
      ],
      "metadata": {
        "id": "hi5BexWI_xVY"
      }
    },
    {
      "cell_type": "markdown",
      "source": [
        "📌 Step 5: Create an Artificially Imbalanced Dataset"
      ],
      "metadata": {
        "id": "pVS2nldF7b4_"
      }
    },
    {
      "cell_type": "code",
      "source": [
        "# Copy labels\n",
        "y_imbalanced = np.copy(y)\n",
        "\n",
        "# Drop samples from class 0 (Setosa)\n",
        "mask = np.where(y_imbalanced != 0)[0]  # keep non-setosa indices\n",
        "mask = np.concatenate([mask, np.random.choice(np.where(y_imbalanced==0)[0], 10)])  # keep only 10 setosa\n",
        "\n",
        "X_imbalanced = X[mask]\n",
        "y_imbalanced = y_imbalanced[mask]\n",
        "\n",
        "print(\"Imbalanced dataset distribution:\", Counter(y_imbalanced))\n",
        "\n",
        "sns.countplot(x=y_imbalanced, palette=\"coolwarm\")\n",
        "plt.title(\"Artificially Imbalanced Dataset\")\n",
        "plt.xlabel(\"Class\")\n",
        "plt.ylabel(\"Count\")\n",
        "plt.show()"
      ],
      "metadata": {
        "colab": {
          "base_uri": "https://localhost:8080/",
          "height": 584
        },
        "id": "Uk3O9uMJ7cPY",
        "outputId": "a7ebb467-303a-42bf-d60d-d9b85f22a105"
      },
      "execution_count": 17,
      "outputs": [
        {
          "output_type": "stream",
          "name": "stdout",
          "text": [
            "Imbalanced dataset distribution: Counter({np.int64(1): 50, np.int64(2): 50, np.int64(0): 10})\n"
          ]
        },
        {
          "output_type": "stream",
          "name": "stderr",
          "text": [
            "/tmp/ipython-input-1921265600.py:13: FutureWarning: \n",
            "\n",
            "Passing `palette` without assigning `hue` is deprecated and will be removed in v0.14.0. Assign the `x` variable to `hue` and set `legend=False` for the same effect.\n",
            "\n",
            "  sns.countplot(x=y_imbalanced, palette=\"coolwarm\")\n"
          ]
        },
        {
          "output_type": "display_data",
          "data": {
            "text/plain": [
              "<Figure size 640x480 with 1 Axes>"
            ],
            "image/png": "[encoded data removed]"
          },
          "metadata": {}
        }
      ]
    },
    {
      "cell_type": "markdown",
      "source": [
        "🧑‍🏫 Explanation:\n",
        "\n",
        "We reduced Setosa samples → now the dataset is imbalanced.\n",
        "\n",
        "This simulates real problems (e.g., fraud detection → few fraud cases vs many normal cases)."
      ],
      "metadata": {
        "id": "u8h8nDUO7fxL"
      }
    },
    {
      "cell_type": "markdown",
      "source": [
        "📌 Step 6: Splitting an Imbalanced Dataset"
      ],
      "metadata": {
        "id": "rAoh66RD7lBz"
      }
    },
    {
      "cell_type": "code",
      "source": [
        "# Split imbalanced data\n",
        "# ❌ Split WITHOUT stratify (bad practice, just for demonstration)\n",
        "X_train_i, X_test_i, y_train_i, y_test_i = train_test_split(\n",
        "    X_imbalanced, y_imbalanced, test_size=0.3, random_state=42\n",
        ")\n",
        "print(\"Train distribution:\", Counter(y_train_i))\n",
        "print(\"Test distribution:\", Counter(y_test_i))\n"
      ],
      "metadata": {
        "colab": {
          "base_uri": "https://localhost:8080/"
        },
        "id": "FaqJY0n57gYR",
        "outputId": "6ee7aaab-b765-43a7-800f-2c59221eb889"
      },
      "execution_count": 18,
      "outputs": [
        {
          "output_type": "stream",
          "name": "stdout",
          "text": [
            "Train distribution: Counter({np.int64(2): 35, np.int64(1): 33, np.int64(0): 9})\n",
            "Test distribution: Counter({np.int64(1): 17, np.int64(2): 15, np.int64(0): 1})\n"
          ]
        }
      ]
    },
    {
      "cell_type": "markdown",
      "source": [
        "🧑‍🏫 Problem:\n",
        "\n",
        "Minority class (Setosa) may disappear in train/test sets.\n",
        "\n",
        "Model never learns minority class → poor accuracy on rare events."
      ],
      "metadata": {
        "id": "6PnTsRbW7lZh"
      }
    },
    {
      "cell_type": "markdown",
      "source": [
        "📌 Step 7: Fixing Imbalance\n",
        "\n",
        "🔹 (a) Random Oversampling"
      ],
      "metadata": {
        "id": "jSRxVklq7q-Q"
      }
    },
    {
      "cell_type": "code",
      "source": [
        "ros = RandomOverSampler(random_state=42)\n",
        "X_ros, y_ros = ros.fit_resample(X_imbalanced, y_imbalanced)\n",
        "print(\"After Oversampling:\", Counter(y_ros))\n",
        "\n",
        "sns.countplot(x=y_ros, palette=\"Set3\")\n",
        "plt.title(\"Oversampled Dataset\")\n",
        "plt.show()"
      ],
      "metadata": {
        "colab": {
          "base_uri": "https://localhost:8080/",
          "height": 561
        },
        "id": "mFSPt0_S7s_B",
        "outputId": "46f6e2a2-c476-414a-e85a-541db4b7b0a4"
      },
      "execution_count": 19,
      "outputs": [
        {
          "output_type": "stream",
          "name": "stdout",
          "text": [
            "After Oversampling: Counter({np.int64(1): 50, np.int64(2): 50, np.int64(0): 50})\n"
          ]
        },
        {
          "output_type": "stream",
          "name": "stderr",
          "text": [
            "/tmp/ipython-input-3696468535.py:5: FutureWarning: \n",
            "\n",
            "Passing `palette` without assigning `hue` is deprecated and will be removed in v0.14.0. Assign the `x` variable to `hue` and set `legend=False` for the same effect.\n",
            "\n",
            "  sns.countplot(x=y_ros, palette=\"Set3\")\n"
          ]
        },
        {
          "output_type": "display_data",
          "data": {
            "text/plain": [
              "<Figure size 640x480 with 1 Axes>"
            ],
            "image/png": "[encoded data removed]"
          },
          "metadata": {}
        }
      ]
    },
    {
      "cell_type": "markdown",
      "source": [
        "🔹 (b) Random Undersampling"
      ],
      "metadata": {
        "id": "02mMe9_R7w-I"
      }
    },
    {
      "cell_type": "code",
      "source": [
        "rus = RandomUnderSampler(random_state=42)\n",
        "X_rus, y_rus = rus.fit_resample(X_imbalanced, y_imbalanced)\n",
        "print(\"After Undersampling:\", Counter(y_rus))\n",
        "\n",
        "sns.countplot(x=y_rus, palette=\"Set1\")\n",
        "plt.title(\"Undersampled Dataset\")\n",
        "plt.show()"
      ],
      "metadata": {
        "colab": {
          "base_uri": "https://localhost:8080/",
          "height": 561
        },
        "id": "b0NbuUar7znZ",
        "outputId": "59c135d6-c600-4914-850c-96145fd3c100"
      },
      "execution_count": 20,
      "outputs": [
        {
          "output_type": "stream",
          "name": "stdout",
          "text": [
            "After Undersampling: Counter({np.int64(0): 10, np.int64(1): 10, np.int64(2): 10})\n"
          ]
        },
        {
          "output_type": "stream",
          "name": "stderr",
          "text": [
            "/tmp/ipython-input-2424306441.py:5: FutureWarning: \n",
            "\n",
            "Passing `palette` without assigning `hue` is deprecated and will be removed in v0.14.0. Assign the `x` variable to `hue` and set `legend=False` for the same effect.\n",
            "\n",
            "  sns.countplot(x=y_rus, palette=\"Set1\")\n"
          ]
        },
        {
          "output_type": "display_data",
          "data": {
            "text/plain": [
              "<Figure size 640x480 with 1 Axes>"
            ],
            "image/png": "[encoded data removed]"
          },
          "metadata": {}
        }
      ]
    },
    {
      "cell_type": "markdown",
      "source": [
        "🔹 (c) SMOTE (Synthetic Minority Oversampling Technique)"
      ],
      "metadata": {
        "id": "qKvn0rY470RU"
      }
    },
    {
      "cell_type": "code",
      "source": [
        "smote = SMOTE(random_state=42)\n",
        "X_smote, y_smote = smote.fit_resample(X_imbalanced, y_imbalanced)\n",
        "print(\"After SMOTE:\", Counter(y_smote))\n",
        "\n",
        "sns.countplot(x=y_smote, palette=\"Set2\")\n",
        "plt.title(\"SMOTE Resampled Dataset\")\n",
        "plt.show()"
      ],
      "metadata": {
        "colab": {
          "base_uri": "https://localhost:8080/",
          "height": 561
        },
        "id": "AP6a6qk772PR",
        "outputId": "7060ab53-8081-40f5-8c04-1f55faa7b967"
      },
      "execution_count": 21,
      "outputs": [
        {
          "output_type": "stream",
          "name": "stdout",
          "text": [
            "After SMOTE: Counter({np.int64(1): 50, np.int64(2): 50, np.int64(0): 50})\n"
          ]
        },
        {
          "output_type": "stream",
          "name": "stderr",
          "text": [
            "/tmp/ipython-input-329844930.py:5: FutureWarning: \n",
            "\n",
            "Passing `palette` without assigning `hue` is deprecated and will be removed in v0.14.0. Assign the `x` variable to `hue` and set `legend=False` for the same effect.\n",
            "\n",
            "  sns.countplot(x=y_smote, palette=\"Set2\")\n"
          ]
        },
        {
          "output_type": "display_data",
          "data": {
            "text/plain": [
              "<Figure size 640x480 with 1 Axes>"
            ],
            "image/png": "[encoded data removed]"
          },
          "metadata": {}
        }
      ]
    },
    {
      "cell_type": "markdown",
      "source": [
        "🧑‍🏫 Explanation:\n",
        "\n",
        "Oversampling → duplicates minority class samples.\n",
        "\n",
        "Undersampling → drops samples from majority class.\n",
        "\n",
        "SMOTE → generates new synthetic minority samples → better than just copying."
      ],
      "metadata": {
        "id": "zhKNPL4C74yi"
      }
    },
    {
      "cell_type": "markdown",
      "source": [
        "👉  **when to use oversampling, undersampling, or SMOTE** in classification problems:\n",
        "\n",
        "---\n",
        "\n",
        "## 🔹 1. Random Oversampling\n",
        "\n",
        "👉 **What it does**:\n",
        "\n",
        "* Duplicates minority class samples until classes are balanced.\n",
        "\n",
        "👉 **When to use**:\n",
        "\n",
        "* When dataset is **small** and you don’t want to throw away data.\n",
        "* Quick baseline method (very easy to apply).\n",
        "\n",
        "👉 **Pros**:\n",
        "\n",
        "* Keeps all original data.\n",
        "* Simple to implement.\n",
        "\n",
        "👉 **Cons**:\n",
        "\n",
        "* Risk of **overfitting** (because the same minority samples are repeated many times).\n",
        "\n",
        "---\n",
        "\n",
        "## 🔹 2. Random Undersampling\n",
        "\n",
        "👉 **What it does**:\n",
        "\n",
        "* Removes samples from majority class until balance is achieved.\n",
        "\n",
        "👉 **When to use**:\n",
        "\n",
        "* When dataset is **very large** and majority class dominates.\n",
        "* You can afford to throw away data without losing too much information.\n",
        "\n",
        "👉 **Pros**:\n",
        "\n",
        "* Reduces training time (smaller dataset).\n",
        "* Avoids overfitting to duplicated samples.\n",
        "\n",
        "👉 **Cons**:\n",
        "\n",
        "* Risk of losing **important information** from the majority class.\n",
        "* May reduce performance if dataset is small.\n",
        "\n",
        "---\n",
        "\n",
        "## 🔹 3. SMOTE (Synthetic Minority Oversampling Technique)\n",
        "\n",
        "👉 **What it does**:\n",
        "\n",
        "* Creates **synthetic (new) minority samples** by interpolating between existing ones.\n",
        "* Example: If you have two minority samples close together, SMOTE generates a new sample in between.\n",
        "\n",
        "👉 **When to use**:\n",
        "\n",
        "* When dataset is **moderately sized** (not too small, not too huge).\n",
        "* When you want more variety in minority samples (better than just duplicating).\n",
        "\n",
        "👉 **Pros**:\n",
        "\n",
        "* Reduces overfitting compared to random oversampling.\n",
        "* Creates more “realistic” diversity in minority class.\n",
        "\n",
        "👉 **Cons**:\n",
        "\n",
        "* Can create **noisy or overlapping samples** if classes are not well separated.\n",
        "* Not great when minority class has very few examples (can’t interpolate much).\n",
        "\n",
        "---\n",
        "\n",
        "## 🧑‍🏫 Teaching Analogy\n",
        "\n",
        "* **Oversampling** = \"photocopying the rare class pictures\" (easy, but too many duplicates).\n",
        "* **Undersampling** = \"throwing away many majority class pictures\" (fast, but risky).\n",
        "* **SMOTE** = \"drawing new minority pictures based on existing ones\" (creative, but sometimes messy).\n",
        "\n",
        "---\n",
        "\n",
        "## ✅ Rule of Thumb\n",
        "\n",
        "* **Small dataset → Try Oversampling or SMOTE**\n",
        "* **Large dataset with too many majority samples → Try Undersampling**\n",
        "* **Best practice → Compare all three + ensemble methods (like BalancedBaggingClassifier)**\n",
        "\n",
        "---"
      ],
      "metadata": {
        "id": "w2o6qGYmA0dH"
      }
    },
    {
      "cell_type": "markdown",
      "source": [
        "📌 Step 8: Exercises for Students 🎯"
      ],
      "metadata": {
        "id": "SIiVCTUt8A3I"
      }
    },
    {
      "cell_type": "markdown",
      "source": [
        "✅ Exercise 1: Try making **class 2 (Virginica)** the minority class instead of Setosa.  \n",
        "✅ Exercise 2: Train a simple classifier (like Logistic Regression) on:  \n",
        "   - Original balanced dataset  \n",
        "   - Imbalanced dataset  \n",
        "   - Oversampled dataset  \n",
        "   Compare accuracies on test set.  \n",
        "✅ Exercise 3: Visualize distributions before and after stratified split for the imbalanced dataset.  \n"
      ],
      "metadata": {
        "id": "2jZL-nQC8CSR"
      }
    },
    {
      "cell_type": "markdown",
      "source": [
        "✅ Wrap-Up\n",
        "\n",
        "# 🎓 Key Takeaways\n",
        "- Always check class distribution before training a model.  \n",
        "- Use **stratified splits** to preserve class ratios.  \n",
        "- Imbalance can harm model performance (esp. for minority classes).  \n",
        "- Fix imbalance with **oversampling, undersampling, or SMOTE**.  \n",
        "\n",
        "Next time you face an imbalanced dataset, you’ll know what to do!\n"
      ],
      "metadata": {
        "id": "XUEzNy3Y8Epm"
      }
    },
    {
      "cell_type": "markdown",
      "source": [
        "\n",
        "\n",
        "---\n",
        "\n"
      ],
      "metadata": {
        "id": "9dyVmCMo8Ub3"
      }
    },
    {
      "cell_type": "markdown",
      "source": [
        "# A simple Logistic Regression experiment so you can see accuracy drop on the imbalanced dataset vs. improved after balancing"
      ],
      "metadata": {
        "id": "D31pyI5L8WBQ"
      }
    },
    {
      "cell_type": "markdown",
      "source": [
        "I've added a Logistic Regression experiment in the notebook, with results compared across:\n",
        "\n",
        "✅ Balanced dataset (Iris original)\n",
        "\n",
        "❌ Imbalanced dataset (Setosa minority)\n",
        "\n",
        "🔄 Fixed datasets (Oversampling, Undersampling, SMOTE)"
      ],
      "metadata": {
        "id": "39pP5ben8bg2"
      }
    },
    {
      "cell_type": "markdown",
      "source": [
        "🔬 Logistic Regression + Confusion Matrices"
      ],
      "metadata": {
        "id": "aPYH7TEo8dBA"
      }
    },
    {
      "cell_type": "code",
      "source": [
        "from sklearn.linear_model import LogisticRegression\n",
        "from sklearn.metrics import classification_report, confusion_matrix\n",
        "import seaborn as sns\n",
        "\n",
        "def train_and_evaluate_with_cm(X, y, title=\"Dataset\"):\n",
        "    # Train/Test split\n",
        "    X_train, X_test, y_train, y_test = train_test_split(\n",
        "        X, y, test_size=0.3, stratify=y, random_state=42\n",
        "    )\n",
        "\n",
        "    # Train Logistic Regression\n",
        "    model = LogisticRegression(max_iter=200)\n",
        "    model.fit(X_train, y_train)\n",
        "    y_pred = model.predict(X_test)\n",
        "\n",
        "    # Print results\n",
        "    print(f\"\\n📊 Results on {title}:\")\n",
        "    print(classification_report(y_test, y_pred, digits=3))\n",
        "\n",
        "    # Confusion Matrix\n",
        "    cm = confusion_matrix(y_test, y_pred)\n",
        "    plt.figure(figsize=(5,4))\n",
        "    sns.heatmap(cm, annot=True, fmt=\"d\", cmap=\"Blues\", cbar=False,\n",
        "                xticklabels=np.unique(y), yticklabels=np.unique(y))\n",
        "    plt.title(f\"Confusion Matrix: {title}\")\n",
        "    plt.xlabel(\"Predicted Label\")\n",
        "    plt.ylabel(\"True Label\")\n",
        "    plt.show()\n",
        "\n",
        "# 1. Original Balanced Dataset\n",
        "train_and_evaluate_with_cm(X, y, \"Original Balanced Dataset\")\n",
        "\n",
        "# 2. Imbalanced Dataset\n",
        "train_and_evaluate_with_cm(X_imbalanced, y_imbalanced, \"Imbalanced Dataset\")\n",
        "\n",
        "# 3. Oversampled Dataset\n",
        "train_and_evaluate_with_cm(X_ros, y_ros, \"Oversampled Dataset\")\n",
        "\n",
        "# 4. Undersampled Dataset\n",
        "train_and_evaluate_with_cm(X_rus, y_rus, \"Undersampled Dataset\")\n",
        "\n",
        "# 5. SMOTE Dataset\n",
        "train_and_evaluate_with_cm(X_smote, y_smote, \"SMOTE Dataset\")"
      ],
      "metadata": {
        "colab": {
          "base_uri": "https://localhost:8080/",
          "height": 1000
        },
        "id": "qoIfVCV28dXI",
        "outputId": "869e3e60-8b34-4c12-fa73-0c77adc02cea"
      },
      "execution_count": 22,
      "outputs": [
        {
          "output_type": "stream",
          "name": "stdout",
          "text": [
            "\n",
            "📊 Results on Original Balanced Dataset:\n",
            "              precision    recall  f1-score   support\n",
            "\n",
            "           0      1.000     1.000     1.000        15\n",
            "           1      0.875     0.933     0.903        15\n",
            "           2      0.929     0.867     0.897        15\n",
            "\n",
            "    accuracy                          0.933        45\n",
            "   macro avg      0.935     0.933     0.933        45\n",
            "weighted avg      0.935     0.933     0.933        45\n",
            "\n"
          ]
        },
        {
          "output_type": "display_data",
          "data": {
            "text/plain": [
              "<Figure size 500x400 with 1 Axes>"
            ],
            "image/png": "[encoded data removed]"
          },
          "metadata": {}
        },
        {
          "output_type": "stream",
          "name": "stdout",
          "text": [
            "\n",
            "📊 Results on Imbalanced Dataset:\n",
            "              precision    recall  f1-score   support\n",
            "\n",
            "           0      1.000     1.000     1.000         3\n",
            "           1      0.933     0.933     0.933        15\n",
            "           2      0.933     0.933     0.933        15\n",
            "\n",
            "    accuracy                          0.939        33\n",
            "   macro avg      0.956     0.956     0.956        33\n",
            "weighted avg      0.939     0.939     0.939        33\n",
            "\n"
          ]
        },
        {
          "output_type": "display_data",
          "data": {
            "text/plain": [
              "<Figure size 500x400 with 1 Axes>"
            ],
            "image/png": "[encoded data removed]"
          },
          "metadata": {}
        },
        {
          "output_type": "stream",
          "name": "stdout",
          "text": [
            "\n",
            "📊 Results on Oversampled Dataset:\n",
            "              precision    recall  f1-score   support\n",
            "\n",
            "           0      1.000     1.000     1.000        15\n",
            "           1      0.875     0.933     0.903        15\n",
            "           2      0.929     0.867     0.897        15\n",
            "\n",
            "    accuracy                          0.933        45\n",
            "   macro avg      0.935     0.933     0.933        45\n",
            "weighted avg      0.935     0.933     0.933        45\n",
            "\n"
          ]
        },
        {
          "output_type": "display_data",
          "data": {
            "text/plain": [
              "<Figure size 500x400 with 1 Axes>"
            ],
            "image/png": "[encoded data removed]"
          },
          "metadata": {}
        },
        {
          "output_type": "stream",
          "name": "stdout",
          "text": [
            "\n",
            "📊 Results on Undersampled Dataset:\n",
            "              precision    recall  f1-score   support\n",
            "\n",
            "           0      1.000     1.000     1.000         3\n",
            "           1      0.667     0.667     0.667         3\n",
            "           2      0.667     0.667     0.667         3\n",
            "\n",
            "    accuracy                          0.778         9\n",
            "   macro avg      0.778     0.778     0.778         9\n",
            "weighted avg      0.778     0.778     0.778         9\n",
            "\n"
          ]
        },
        {
          "output_type": "display_data",
          "data": {
            "text/plain": [
              "<Figure size 500x400 with 1 Axes>"
            ],
            "image/png": "[encoded data removed]"
          },
          "metadata": {}
        },
        {
          "output_type": "stream",
          "name": "stdout",
          "text": [
            "\n",
            "📊 Results on SMOTE Dataset:\n",
            "              precision    recall  f1-score   support\n",
            "\n",
            "           0      1.000     1.000     1.000        15\n",
            "           1      0.875     0.933     0.903        15\n",
            "           2      0.929     0.867     0.897        15\n",
            "\n",
            "    accuracy                          0.933        45\n",
            "   macro avg      0.935     0.933     0.933        45\n",
            "weighted avg      0.935     0.933     0.933        45\n",
            "\n"
          ]
        },
        {
          "output_type": "display_data",
          "data": {
            "text/plain": [
              "<Figure size 500x400 with 1 Axes>"
            ],
            "image/png": "[encoded data removed]"
          },
          "metadata": {}
        }
      ]
    },
    {
      "cell_type": "markdown",
      "source": [
        "🔍 Interpretation of Results\n",
        "✅ Balanced Dataset\n",
        "\n",
        "All classes are fairly represented.\n",
        "\n",
        "Accuracy ~93%, precision/recall fairly high for all classes.\n",
        "\n",
        "Confusion matrix would show strong diagonal (good predictions).\n",
        "\n",
        "❌ Imbalanced Dataset\n",
        "\n",
        "Only 3 samples of class 0 (Setosa) remain.\n",
        "\n",
        "Accuracy still looks high (~94%), but ⚠️ don’t be fooled:\n",
        "\n",
        "Small support for minority class (only 3 test samples).\n",
        "\n",
        "If even one sample was misclassified, recall would drop sharply.\n",
        "\n",
        "This teaches students that accuracy can be misleading on imbalanced data.\n",
        "\n",
        "🔄 Oversampled Dataset\n",
        "\n",
        "Distribution balanced again.\n",
        "\n",
        "Metrics almost identical to the original balanced dataset (~93%).\n",
        "\n",
        "Oversampling works, but may cause overfitting if dataset is small.\n",
        "\n",
        "🔄 Undersampled Dataset\n",
        "\n",
        "Now only 9 total samples in test set 😱\n",
        "\n",
        "Accuracy drops (~77%).\n",
        "\n",
        "Problem: we threw away too much data.\n",
        "\n",
        "Lesson: undersampling can hurt performance when dataset is small.\n",
        "\n",
        "🔄 SMOTE Dataset\n",
        "\n",
        "Balanced distribution with synthetic samples.\n",
        "\n",
        "Metrics back to ~93%, just like original.\n",
        "\n",
        "Advantage: more variety than plain oversampling."
      ],
      "metadata": {
        "id": "ven4Ag1Y9UkQ"
      }
    },
    {
      "cell_type": "markdown",
      "source": [
        "🧑‍🏫 Explanation\n",
        "\n",
        "On the balanced dataset, accuracy is good across all classes.\n",
        "\n",
        "On the imbalanced dataset, the model often ignores the minority class → high accuracy on majority, but poor recall on minority (false negatives).\n",
        "\n",
        "With oversampling / undersampling / SMOTE, performance improves for the minority class."
      ],
      "metadata": {
        "id": "kQVcRfJr8gz3"
      }
    },
    {
      "cell_type": "markdown",
      "source": [
        "Added a bar chart summary of accuracy and recall for each method:"
      ],
      "metadata": {
        "id": "AQuf5jN59ZGG"
      }
    },
    {
      "cell_type": "code",
      "source": [
        "from sklearn.metrics import accuracy_score, recall_score\n",
        "\n",
        "def evaluate_metrics(X, y, title):\n",
        "    X_train, X_test, y_train, y_test = train_test_split(\n",
        "        X, y, test_size=0.3, stratify=y, random_state=42\n",
        "    )\n",
        "    model = LogisticRegression(max_iter=200)\n",
        "    model.fit(X_train, y_train)\n",
        "    y_pred = model.predict(X_test)\n",
        "    return {\n",
        "        \"dataset\": title,\n",
        "        \"accuracy\": accuracy_score(y_test, y_pred),\n",
        "        \"recall_macro\": recall_score(y_test, y_pred, average=\"macro\")\n",
        "    }\n",
        "\n",
        "results = []\n",
        "results.append(evaluate_metrics(X, y, \"Balanced\"))\n",
        "results.append(evaluate_metrics(X_imbalanced, y_imbalanced, \"Imbalanced\"))\n",
        "results.append(evaluate_metrics(X_ros, y_ros, \"Oversampled\"))\n",
        "results.append(evaluate_metrics(X_rus, y_rus, \"Undersampled\"))\n",
        "results.append(evaluate_metrics(X_smote, y_smote, \"SMOTE\"))\n",
        "\n",
        "import pandas as pd\n",
        "df = pd.DataFrame(results)\n",
        "\n",
        "df.plot(x=\"dataset\", y=[\"accuracy\", \"recall_macro\"], kind=\"bar\", figsize=(8,5))\n",
        "plt.title(\"Performance Across Dataset Distribution Methods\")\n",
        "plt.ylabel(\"Score\")\n",
        "plt.ylim(0,1)\n",
        "plt.show()"
      ],
      "metadata": {
        "colab": {
          "base_uri": "https://localhost:8080/",
          "height": 593
        },
        "id": "JOacBHpH9ZoN",
        "outputId": "c731de57-fc02-4b5b-83bf-eb0294f1f0c6"
      },
      "execution_count": 28,
      "outputs": [
        {
          "output_type": "display_data",
          "data": {
            "text/plain": [
              "<Figure size 800x500 with 1 Axes>"
            ],
            "image/png": "[encoded data removed]"
          },
          "metadata": {}
        }
      ]
    },
    {
      "cell_type": "markdown",
      "source": [
        "The results show that the imbalanced dataset actually has a higher accuracy compared to the balanced dataset. However, this can be misleading and is a classic example of the \"accuracy paradox\" in imbalanced datasets. Let's break down why this happens and why accuracy alone is not a sufficient metric for evaluating model performance on imbalanced datasets.\n",
        "\n",
        "### Accuracy Paradox Explanation\n",
        "\n",
        "1. **High Accuracy with Imbalanced Data**:\n",
        "   - In the imbalanced dataset, class 0 has only 3 samples, while classes 1 and 2 each have 15 samples.\n",
        "   - If a model simply predicts the majority class (class 1 or class 2) for every sample, it will still achieve a high accuracy because the majority class makes up a large portion of the dataset.\n",
        "   - In your case, the model achieved 93.9% accuracy by predicting the majority class correctly most of the time, even though it performed poorly on the minority class (class 0).\n",
        "\n",
        "2. **Performance on Minority Class**:\n",
        "   - In the imbalanced dataset, the precision, recall, and F1-score for class 0 are all 1.000, which seems good at first glance. However, this is because there are only 3 samples in class 0, and the model happened to predict them correctly.\n",
        "   - The recall for class 0 is 1.000, meaning all instances of class 0 were correctly identified, but this is not meaningful given the small number of samples.\n",
        "   - The precision for class 0 is also 1.000, but this could be due to chance or because the model is overfitting to the few samples of class 0.\n",
        "\n",
        "### Why Accuracy is Not Enough\n",
        "\n",
        "- **Misleading Metric**: Accuracy can be misleading in imbalanced datasets because it doesn't provide insight into how well the model performs on the minority class.\n",
        "- **Focus on Other Metrics**: It's crucial to look at precision, recall, F1-score, and the confusion matrix to understand the model's performance across all classes.\n",
        "\n",
        "### Recommendations\n",
        "\n",
        "1. **Use Precision, Recall, and F1-Score**:\n",
        "   - **Precision**: The ratio of true positive predictions to the total predicted positives. It tells you how many of the predicted positive instances are actually positive.\n",
        "   - **Recall (Sensitivity)**: The ratio of true positive predictions to the total actual positives. It tells you how many of the actual positive instances were correctly identified.\n",
        "   - **F1-Score**: The harmonic mean of precision and recall, providing a balance between the two.\n",
        "\n",
        "2. **Confusion Matrix**:\n",
        "   - Provides a detailed breakdown of true positives, true negatives, false positives, and false negatives for each class.\n",
        "\n",
        "3. **Stratified Splitting**:\n",
        "   - Ensure that the train and test sets have the same class distribution as the original dataset to get reliable evaluation metrics.\n",
        "\n",
        "4. **Resampling Techniques**:\n",
        "   - **Oversampling**: Increase the number of minority class samples.\n",
        "   - **Undersampling**: Decrease the number of majority class samples.\n",
        "   - **SMOTE**: Generate synthetic samples for the minority class.\n",
        "\n",
        "5. **Advanced Techniques**:\n",
        "   - **Ensemble Methods**: Combine multiple models to improve performance.\n",
        "   - **Cost-Sensitive Learning**: Assign different costs to misclassification errors.\n",
        "   - **Threshold Tuning**: Adjust the classification threshold based on precision-recall trade-offs.\n",
        "\n",
        "### Example of Improved Evaluation\n",
        "\n",
        "Here’s an example of how you might evaluate the model using precision, recall, and F1-score:\n",
        "\n",
        "```python\n",
        "from sklearn.metrics import classification_report, confusion_matrix\n",
        "\n",
        "# Assuming y_true and y_pred are the true and predicted labels\n",
        "print(\"📊 Detailed Classification Report:\")\n",
        "print(classification_report(y_true, y_pred, target_names=iris.target_names))\n",
        "\n",
        "print(\"📊 Confusion Matrix:\")\n",
        "cm = confusion_matrix(y_true, y_pred)\n",
        "plt.figure(figsize=(6, 4))\n",
        "sns.heatmap(cm, annot=True, fmt='d', cmap='Blues',\n",
        "            xticklabels=iris.target_names,\n",
        "            yticklabels=iris.target_names)\n",
        "plt.title('Confusion Matrix')\n",
        "plt.xlabel('Predicted Label')\n",
        "plt.ylabel('True Label')\n",
        "plt.show()\n",
        "```\n",
        "\n",
        "### Conclusion\n",
        "\n",
        "While the imbalanced dataset shows higher accuracy, it is important to consider other metrics to understand the model's true performance. Accuracy alone can be deceptive in imbalanced scenarios, and focusing on precision, recall, and F1-score provides a more comprehensive evaluation."
      ],
      "metadata": {
        "id": "lrq5LM_sIGRo"
      }
    },
    {
      "cell_type": "markdown",
      "source": [
        "### Key Observations:\n",
        "1. **Accuracy**:\n",
        "   - **Balanced**: 0.933\n",
        "   - **Imbalanced**: 0.939\n",
        "   - **Oversampled**: 0.933\n",
        "   - **Undersampled**: 0.778\n",
        "   - **SMOTE**: 0.933\n",
        "   - **Insight**: The imbalanced dataset shows the highest accuracy, but this is misleading because it is dominated by the majority class.\n",
        "\n",
        "2. **Precision (Macro)**:\n",
        "   - **Balanced**: 0.935\n",
        "   - **Imbalanced**: 0.956\n",
        "   - **Oversampled**: 0.935\n",
        "   - **Undersampled**: 0.778\n",
        "   - **SMOTE**: 0.935\n",
        "   - **Insight**: Precision is high for the imbalanced dataset, but this is due to the majority class.\n",
        "\n",
        "3. **Recall (Macro)**:\n",
        "   - **Balanced**: 0.933\n",
        "   - **Imbalanced**: 0.956\n",
        "   - **Oversampled**: 0.933\n",
        "   - **Undersampled**: 0.778\n",
        "   - **SMOTE**: 0.933\n",
        "   - **Insight**: Recall is high for the imbalanced dataset, but the minority class recall is likely poor.\n",
        "\n",
        "4. **F1-Score (Macro)**:\n",
        "   - **Balanced**: 0.933\n",
        "   - **Imbalanced**: 0.956\n",
        "   - **Oversampled**: 0.933\n",
        "   - **Undersampled**: 0.778\n",
        "   - **SMOTE**: 0.933\n",
        "   - **Insight**: F1-Score is high for the imbalanced dataset, but it is not a reliable metric for imbalanced datasets.\n",
        "\n",
        "### Detailed Analysis:\n",
        "- **Imbalanced Dataset**: While the accuracy and other metrics seem high, they do not reflect the model's performance on the minority class. The high accuracy is primarily due to the majority class being correctly predicted.\n",
        "- **Undersampled Dataset**: This dataset has the lowest accuracy and other metrics, indicating that reducing the majority class samples significantly impacts performance.\n",
        "- **Oversampled and SMOTE**: These methods show similar performance to the balanced dataset, indicating that they help in balancing the class distribution and improving minority class performance."
      ],
      "metadata": {
        "id": "Oyo9_KrwLgYB"
      }
    },
    {
      "cell_type": "markdown",
      "source": [
        "**Key Finding:** Based on the results, it's clear that the accuracy metric is indeed misleading in the context of imbalanced datasets."
      ],
      "metadata": {
        "id": "iJNIS4DhNaFR"
      }
    },
    {
      "cell_type": "markdown",
      "source": [
        "Based on the results, it's clear that the **imbalanced dataset shows higher accuracy (93.9%) compared to the balanced dataset (93.3%)**, but this is a classic example of the \"accuracy paradox\" in imbalanced datasets. Let me help you understand how to check for and interpret \"fake accuracy\" using your results.\n",
        "\n",
        "### 🚨 How to Check if Model Has \"Fake Accuracy\"\n",
        "\n",
        "The model has **fake accuracy** when:\n",
        "1. It achieves high overall accuracy by predicting the majority class most of the time\n",
        "2. But performs poorly on minority classes\n",
        "3. The high accuracy doesn't reflect true performance across all classes\n",
        "\n",
        "Here's how to detect and analyze this:\n",
        "\n",
        "## 🔍 1. Analyze Class-Specific Performance\n",
        "\n",
        "```python\n",
        "from sklearn.metrics import classification_report, confusion_matrix\n",
        "import pandas as pd\n",
        "\n",
        "def analyze_fake_accuracy(X, y, title=\"Dataset\"):\n",
        "    # Train/Test split\n",
        "    X_train, X_test, y_train, y_test = train_test_split(\n",
        "        X, y, test_size=0.3, stratify=y, random_state=42\n",
        "    )\n",
        "    \n",
        "    # Train Logistic Regression\n",
        "    model = LogisticRegression(max_iter=200)\n",
        "    model.fit(X_train, y_train)\n",
        "    y_pred = model.predict(X_test)\n",
        "    \n",
        "    # Get metrics\n",
        "    accuracy = accuracy_score(y_test, y_pred)\n",
        "    precision = precision_score(y_test, y_pred, average='macro')\n",
        "    recall = recall_score(y_test, y_pred, average='macro')\n",
        "    f1 = f1_score(y_test, y_pred, average='macro')\n",
        "    \n",
        "    print(f\"\\n📊 Results on {title}:\")\n",
        "    print(f\"   Accuracy: {accuracy:.3f}\")\n",
        "    print(f\"   Precision: {precision:.3f}\")\n",
        "    print(f\"   Recall: {recall:.3f}\")\n",
        "    print(f\"   F1-Score: {f1:.3f}\")\n",
        "    \n",
        "    # Detailed per-class analysis\n",
        "    report = classification_report(y_test, y_pred, digits=3, output_dict=True)\n",
        "    df_report = pd.DataFrame(report).transpose()\n",
        "    print(\"\\n📋 Per-Class Performance:\")\n",
        "    print(df_report[['precision', 'recall', 'f1-score']])\n",
        "    \n",
        "    # Confusion Matrix\n",
        "    cm = confusion_matrix(y_test, y_pred)\n",
        "    plt.figure(figsize=(6, 5))\n",
        "    sns.heatmap(cm, annot=True, fmt=\"d\", cmap=\"Blues\", cbar=False,\n",
        "                xticklabels=np.unique(y), yticklabels=np.unique(y))\n",
        "    plt.title(f\"Confusion Matrix: {title}\")\n",
        "    plt.xlabel(\"Predicted Label\")\n",
        "    plt.ylabel(\"True Label\")\n",
        "    plt.show()\n",
        "    \n",
        "    return {\n",
        "        'accuracy': accuracy,\n",
        "        'precision': precision,\n",
        "        'recall': recall,\n",
        "        'f1_score': f1,\n",
        "        'per_class_report': df_report\n",
        "    }\n",
        "```\n",
        "\n",
        "## 📊 2. Compare All Datasets\n",
        "\n",
        "```python\n",
        "# Analyze all datasets\n",
        "results = {}\n",
        "results['Original Balanced'] = analyze_fake_accuracy(X, y, \"Original Balanced Dataset\")\n",
        "results['Imbalanced'] = analyze_fake_accuracy(X_imbalanced, y_imbalanced, \"Imbalanced Dataset\")\n",
        "results['Oversampled'] = analyze_fake_accuracy(X_ros, y_ros, \"Oversampled Dataset\")\n",
        "results['Undersampled'] = analyze_fake_accuracy(X_rus, y_rus, \"Undersampled Dataset\")\n",
        "results['SMOTE'] = analyze_fake_accuracy(X_smote, y_smote, \"SMOTE Dataset\")\n",
        "\n",
        "# Create comparison dataframe\n",
        "df_comparison = pd.DataFrame({\n",
        "    'Dataset': ['Original Balanced', 'Imbalanced', 'Oversampled', 'Undersampled', 'SMOTE'],\n",
        "    'Accuracy': [results[key]['accuracy'] for key in results],\n",
        "    'Precision': [results[key]['precision'] for key in results],\n",
        "    'Recall': [results[key]['recall'] for key in results],\n",
        "    'F1-Score': [results[key]['f1_score'] for key in results]\n",
        "})\n",
        "\n",
        "print(\"\\n📈 Comprehensive Comparison:\")\n",
        "print(df_comparison.round(3))\n",
        "```\n",
        "\n",
        "## 🔎 3. Key Insights from Your Results\n",
        "\n",
        "### ✅ Why the Imbalanced Dataset Shows Higher Accuracy\n",
        "- **Majority class dominance**: Class 1 and 2 have 15 samples each, while class 0 has only 3\n",
        "- **Model bias**: The model learns to predict classes 1 and 2 correctly most of the time\n",
        "- **Minority class prediction**: Class 0 has perfect precision/recall because there are only 3 samples\n",
        "\n",
        "### ❌ Signs of Fake Accuracy\n",
        "1. **High accuracy but low minority class recall**: While accuracy is 93.9%, the model might miss rare events\n",
        "2. **Perfect minority class performance due to small sample size**: With only 3 samples, getting 100% recall is likely due to chance\n",
        "3. **Inconsistent performance across resampling techniques**: The oversampled and SMOTE datasets show more consistent performance\n",
        "\n",
        "### 💡 How to Fix Fake Accuracy\n",
        "\n",
        "```python\n",
        "# Use multiple evaluation strategies to avoid fake accuracy\n",
        "\n",
        "def comprehensive_evaluation(X, y, title=\"Dataset\"):\n",
        "    \"\"\"Comprehensive evaluation to detect fake accuracy\"\"\"\n",
        "    \n",
        "    # 1. Stratified cross-validation\n",
        "    from sklearn.model_selection import StratifiedKFold, cross_val_score\n",
        "    \n",
        "    skf = StratifiedKFold(n_splits=5, shuffle=True, random_state=42)\n",
        "    model = LogisticRegression(max_iter=200)\n",
        "    \n",
        "    # Cross-validation scores\n",
        "    cv_f1 = cross_val_score(model, X, y, cv=skf, scoring='f1_macro')\n",
        "    cv_precision = cross_val_score(model, X, y, cv=skf, scoring='precision_macro')\n",
        "    cv_recall = cross_val_score(model, X, y, cv=skf, scoring='recall_macro')\n",
        "    \n",
        "    # 2. Training/validation split with stratification\n",
        "    X_train, X_test, y_train, y_test = train_test_split(\n",
        "        X, y, test_size=0.3, stratify=y, random_state=42\n",
        "    )\n",
        "    \n",
        "    model.fit(X_train, y_train)\n",
        "    y_pred = model.predict(X_test)\n",
        "    \n",
        "    # 3. Multiple metrics\n",
        "    accuracy = accuracy_score(y_test, y_pred)\n",
        "    f1 = f1_score(y_test, y_pred, average='macro')\n",
        "    precision = precision_score(y_test, y_pred, average='macro')\n",
        "    recall = recall_score(y_test, y_pred, average='macro')\n",
        "    \n",
        "    # 4. Business impact analysis\n",
        "    # Calculate cost of false positives vs false negatives\n",
        "    # For medical diagnosis: False negative cost > False positive cost\n",
        "    \n",
        "    print(f\"\\n📊 Comprehensive Evaluation: {title}\")\n",
        "    print(f\"   CV F1-Score: {cv_f1.mean():.3f} ± {cv_f1.std():.3f}\")\n",
        "    print(f\"   CV Precision: {cv_precision.mean():.3f} ± {cv_precision.std():.3f}\")\n",
        "    print(f\"   CV Recall: {cv_recall.mean():.3f} ± {cv_recall.std():.3f}\")\n",
        "    print(f\"   Test Accuracy: {accuracy:.3f}\")\n",
        "    print(f\"   Test F1-Score: {f1:.3f}\")\n",
        "    print(f\"   Test Precision: {precision:.3f}\")\n",
        "    print(f\"   Test Recall: {recall:.3f}\")\n",
        "    \n",
        "    # 5. Confusion matrix analysis\n",
        "    cm = confusion_matrix(y_test, y_pred)\n",
        "    plt.figure(figsize=(6, 5))\n",
        "    sns.heatmap(cm, annot=True, fmt=\"d\", cmap=\"Blues\", cbar=False,\n",
        "                xticklabels=np.unique(y), yticklabels=np.unique(y))\n",
        "    plt.title(f\"Confusion Matrix: {title}\")\n",
        "    plt.xlabel(\"Predicted Label\")\n",
        "    plt.ylabel(\"True Label\")\n",
        "    plt.show()\n",
        "    \n",
        "    return {\n",
        "        'cv_f1_mean': cv_f1.mean(),\n",
        "        'cv_f1_std': cv_f1.std(),\n",
        "        'test_accuracy': accuracy,\n",
        "        'test_f1': f1,\n",
        "        'test_precision': precision,\n",
        "        'test_recall': recall,\n",
        "        'confusion_matrix': cm\n",
        "    }\n",
        "\n",
        "# Apply comprehensive evaluation\n",
        "comprehensive_results = {}\n",
        "for name, (X_data, y_data) in zip(['Original Balanced', 'Imbalanced', 'Oversampled', 'SMOTE'],\n",
        "                                [(X, y), (X_imbalanced, y_imbalanced), (X_ros, y_ros), (X_smote, y_smote)]):\n",
        "    comprehensive_results[name] = comprehensive_evaluation(X_data, y_data, name)\n",
        "```\n",
        "\n",
        "## 🧠 Best Practices to Avoid Fake Accuracy\n",
        "\n",
        "### 1. **Always Use Multiple Metrics**\n",
        "```python\n",
        "# Don't rely on accuracy alone\n",
        "metrics_to_use = ['precision', 'recall', 'f1', 'roc_auc']\n",
        "```\n",
        "\n",
        "### 2. **Use Stratified Sampling**\n",
        "```python\n",
        "# Always use stratify parameter\n",
        "X_train, X_test, y_train, y_test = train_test_split(\n",
        "    X, y, test_size=0.3, stratify=y, random_state=42\n",
        ")\n",
        "```\n",
        "\n",
        "### 3. **Apply Cross-Validation**\n",
        "```python\n",
        "from sklearn.model_selection import StratifiedKFold\n",
        "skf = StratifiedKFold(n_splits=5, shuffle=True, random_state=42)\n",
        "```\n",
        "\n",
        "### 4. **Analyze Confusion Matrices**\n",
        "```python\n",
        "# Look at false positives and false negatives\n",
        "cm = confusion_matrix(y_test, y_pred)\n",
        "```\n",
        "\n",
        "### 5. **Consider Business Impact**\n",
        "```python\n",
        "# For fraud detection: False negatives are more costly than false positives\n",
        "# Adjust threshold accordingly\n",
        "```\n",
        "\n",
        "## ✅ Conclusion\n",
        "\n",
        "Your model shows **\"fake accuracy\"** because:\n",
        "1. The imbalanced dataset has higher accuracy due to majority class dominance\n",
        "2. The minority class (class 0) has perfect performance due to small sample size\n",
        "3. The model isn't truly learning patterns for minority classes\n",
        "\n",
        "To fix this:\n",
        "- Use **multiple evaluation metrics** (precision, recall, F1-score)\n",
        "- Apply **stratified sampling** and **cross-validation**\n",
        "- Analyze **confusion matrices** for each class\n",
        "- Consider **business impact** of different error types\n",
        "\n",
        "The **oversampled and SMOTE datasets** provide more reliable performance estimates because they balance the class distribution and reduce the risk of fake accuracy."
      ],
      "metadata": {
        "id": "jur2usXBPK0A"
      }
    }
  ]
}