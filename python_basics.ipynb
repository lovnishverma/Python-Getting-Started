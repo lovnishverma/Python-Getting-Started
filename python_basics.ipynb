{
  "nbformat": 4,
  "nbformat_minor": 0,
  "metadata": {
    "colab": {
      "provenance": [],
      "authorship_tag": "ABX9TyOrWpQ6KhSW5mrip50tU/Yv",
      "include_colab_link": true
    },
    "kernelspec": {
      "name": "python3",
      "display_name": "Python 3"
    },
    "language_info": {
      "name": "python"
    }
  },
  "cells": [
    {
      "cell_type": "markdown",
      "metadata": {
        "id": "view-in-github",
        "colab_type": "text"
      },
      "source": [
        "<a href=\"https://colab.research.google.com/github/lovnishverma/Python-Getting-Started/blob/main/python_basics.ipynb\" target=\"_parent\"><img src=\"https://colab.research.google.com/assets/colab-badge.svg\" alt=\"Open In Colab\"/></a>"
      ]
    },
    {
      "cell_type": "markdown",
      "source": [
        "**recursion, factorial, Fibonacci series, length of string using loop, finding a number of characters, file handling, conditional checking in dictionary**"
      ],
      "metadata": {
        "id": "YzpBHjTjiYJo"
      }
    },
    {
      "cell_type": "markdown",
      "source": [
        "1. **What is Recursion?**\n",
        "Recursion is when a function calls itself. Think of it like looking into a mirror, where each reflection contains another mirror, creating a repeating pattern.\n",
        "\n",
        "In Python, recursion is used to solve problems by breaking them into smaller, simpler problems."
      ],
      "metadata": {
        "id": "npPsI97XIC4v"
      }
    },
    {
      "cell_type": "markdown",
      "source": [
        "2. **Understanding with a Simple Real-Life Example**\n",
        "Imagine you are stacking boxes:\n",
        "\n",
        "To stack n boxes, you first stack n-1 boxes and then add the last box on top.\n",
        "When there is only one box left (n = 1), you stop stacking because it’s already done.\n",
        "This is how recursion works:\n",
        "\n",
        "A base case stops the process when it’s simple enough to solve directly.\n",
        "A recursive case repeats the process with a smaller or simpler version of the problem."
      ],
      "metadata": {
        "id": "_kttskcpIiVI"
      }
    },
    {
      "cell_type": "markdown",
      "source": [
        "3. **Recursion in Python**\n",
        "\n",
        "Here’s how we write recursion in Python:"
      ],
      "metadata": {
        "id": "qYC0w54CIoaR"
      }
    },
    {
      "cell_type": "markdown",
      "source": [
        "\n",
        "\n",
        "```\n",
        "def function_name(parameters):\n",
        "    if base_case_condition:\n",
        "        return simple_result\n",
        "    else:\n",
        "        return function_name(smaller_problem)\n",
        "\n",
        "```\n",
        "\n"
      ],
      "metadata": {
        "id": "gO5P9mMSVb0R"
      }
    },
    {
      "cell_type": "code",
      "source": [
        "def factorial(n):\n",
        "    if n == 0:\n",
        "        return 1\n",
        "    else:\n",
        "        return n * factorial(n - 1)\n",
        "print(factorial(5))"
      ],
      "metadata": {
        "colab": {
          "base_uri": "https://localhost:8080/"
        },
        "id": "xfeSv4bDWylw",
        "outputId": "623e589c-6d1e-4a38-eeaa-9c317d1b1e5f"
      },
      "execution_count": null,
      "outputs": [
        {
          "output_type": "stream",
          "name": "stdout",
          "text": [
            "120\n"
          ]
        }
      ]
    },
    {
      "cell_type": "markdown",
      "source": [
        " Example: Calculating Factorial\n",
        "The factorial of a number 𝑛 is the product of all positive integers from 1 to 𝑛.\n",
        " For example:\n",
        "\n",
        "![Capture.PNG](data:image/png;base64,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)\n",
        "\n",
        "Let’s write this using recursion:"
      ],
      "metadata": {
        "id": "OBjJP81SINyT"
      }
    },
    {
      "cell_type": "code",
      "source": [
        "def factorial(n):\n",
        "    # Base case: When n is 1 or 0, return 1\n",
        "    if n == 0 or n == 1:\n",
        "        return 1\n",
        "    # Recursive case: Multiply n by factorial of (n-1)\n",
        "    return n * factorial(n - 1)\n",
        "\n",
        "# Testing the function\n",
        "print(factorial(5))  # Output: 120\n"
      ],
      "metadata": {
        "colab": {
          "base_uri": "https://localhost:8080/"
        },
        "id": "YNKt6i7oICot",
        "outputId": "e07bcd93-321d-4ae4-c30c-5feefbe25430"
      },
      "execution_count": null,
      "outputs": [
        {
          "output_type": "stream",
          "name": "stdout",
          "text": [
            "120\n"
          ]
        }
      ]
    },
    {
      "cell_type": "markdown",
      "source": [
        "5. How It Works (Step-by-Step)\n",
        "\n",
        "\n",
        "*   The first call is factorial(5).\n",
        "*   Inside factorial(5), it calls factorial(4).\n",
        "*   Inside factorial(4), it calls factorial(3).\n",
        "*   This continues until the base case factorial(1) is reached, which returns 1.\n",
        "*   The function then calculates the result as it \"unwinds\":\n",
        "\n",
        "![Capture.PNG](data:image/png;base64,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)"
      ],
      "metadata": {
        "id": "X0Z1u8aOJMou"
      }
    },
    {
      "cell_type": "markdown",
      "source": [
        "6. Why Do We Need Recursion?\n",
        "Recursion is useful when:\n",
        "\n",
        "*   The problem can be divided into smaller, similar sub-problems.\n",
        "*   We are working with structures like trees or graphs.\n",
        "*   For tasks like calculating factorial, Fibonacci numbers, or traversing files in directories."
      ],
      "metadata": {
        "id": "eQdciUoPJnXz"
      }
    },
    {
      "cell_type": "markdown",
      "source": [
        "7. Important Points to Remember\n",
        "\n",
        "**Base Case**: Always define a condition to stop recursion; otherwise, the program will keep calling itself forever and crash.\n",
        "\n",
        "**Think Step-by-Ste**p: Understand how the problem gets smaller with each recursive call.\n",
        "\n",
        "**Practice**: Start with simple problems like factorial or Fibonacci to build confidence.\n",
        "\n"
      ],
      "metadata": {
        "id": "TKuKRNV4J2se"
      }
    },
    {
      "cell_type": "markdown",
      "source": [
        "8. Interactive Learning Exercise\n",
        "\n",
        "Let’s find the sum of numbers from 1 to 𝑛 using recursion:"
      ],
      "metadata": {
        "id": "WJ4ZsvLoKbO5"
      }
    },
    {
      "cell_type": "code",
      "source": [
        "def sum_n(n):\n",
        "    # Base case: When n is 1, return 1\n",
        "    if n == 1:\n",
        "        return 1\n",
        "    # Recursive case: Add n to the sum of (n-1)\n",
        "    return n + sum_n(n - 1)\n",
        "\n",
        "# Testing the function\n",
        "print(sum_n(5))  # Output: 15 (1+2+3+4+5)\n"
      ],
      "metadata": {
        "colab": {
          "base_uri": "https://localhost:8080/"
        },
        "id": "7qL3q-RjKfJt",
        "outputId": "69082cf8-a3cc-457a-f08e-889510c924e6"
      },
      "execution_count": null,
      "outputs": [
        {
          "output_type": "stream",
          "name": "stdout",
          "text": [
            "15\n"
          ]
        }
      ]
    },
    {
      "cell_type": "markdown",
      "source": [
        "![Capture.PNG](data:image/png;base64,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)"
      ],
      "metadata": {
        "id": "RF0RIeOxLHYJ"
      }
    },
    {
      "cell_type": "markdown",
      "source": [
        "**1. Recursion**\n",
        "\n",
        "Definition: A function that calls itself to solve smaller subproblems.\n",
        "\n",
        "Example: Factorial calculation using recursion."
      ],
      "metadata": {
        "id": "1j0jEO2dFBuC"
      }
    },
    {
      "cell_type": "code",
      "source": [
        "def factorial(n):\n",
        "    if n == 0:\n",
        "        return 1\n",
        "    return n * factorial(n - 1)\n",
        "\n",
        "print(factorial(5))  # Output: 120\n"
      ],
      "metadata": {
        "id": "xhSFAkA0FIG2",
        "colab": {
          "base_uri": "https://localhost:8080/"
        },
        "outputId": "7d58a313-4f9b-4ad1-9b70-ded3591b0abf"
      },
      "execution_count": null,
      "outputs": [
        {
          "output_type": "stream",
          "name": "stdout",
          "text": [
            "120\n"
          ]
        }
      ]
    },
    {
      "cell_type": "markdown",
      "source": [
        "2. **Factorial (Iterative vs. Recursive)**\n",
        "\n",
        "Iterative version for comparison:"
      ],
      "metadata": {
        "id": "BocPx8hjFKVw"
      }
    },
    {
      "cell_type": "code",
      "source": [
        "def factorial_iterative(n):\n",
        "    result = 1\n",
        "    for i in range(1, n + 1):\n",
        "        result *= i\n",
        "    return result\n",
        "\n",
        "print(factorial_iterative(5))  # Output: 120\n"
      ],
      "metadata": {
        "id": "3EndU-FGFSlm",
        "colab": {
          "base_uri": "https://localhost:8080/"
        },
        "outputId": "8291efb4-414e-47f5-eeb5-5476f00931b2"
      },
      "execution_count": null,
      "outputs": [
        {
          "output_type": "stream",
          "name": "stdout",
          "text": [
            "120\n"
          ]
        }
      ]
    },
    {
      "cell_type": "markdown",
      "source": [
        "**3. Fibonacci Series**\n",
        "\n",
        "Recursive approach:"
      ],
      "metadata": {
        "id": "-7gEf3rjFWYU"
      }
    },
    {
      "cell_type": "code",
      "source": [
        "def fibonacci(n):\n",
        "    if n <= 0:\n",
        "        return 0\n",
        "    elif n == 1:\n",
        "        return 1\n",
        "    else:\n",
        "        return fibonacci(n-1) + fibonacci(n-2)\n",
        "\n",
        "# Print the first 10 terms of the Fibonacci series\n",
        "for i in range(10):\n",
        "    print(fibonacci(i), end=\" \")\n"
      ],
      "metadata": {
        "id": "aZ1ZtDiYFXrt",
        "colab": {
          "base_uri": "https://localhost:8080/"
        },
        "outputId": "5c53fd86-d900-49ab-e3ca-23445f67c37e"
      },
      "execution_count": null,
      "outputs": [
        {
          "output_type": "stream",
          "name": "stdout",
          "text": [
            "0 1 1 2 3 5 8 13 21 34 "
          ]
        }
      ]
    },
    {
      "cell_type": "markdown",
      "source": [
        "**Iterative approach:**"
      ],
      "metadata": {
        "id": "yI2T53oKFZgz"
      }
    },
    {
      "cell_type": "code",
      "source": [
        "def fibonacci_iterative(n):\n",
        "    a, b = 0, 1\n",
        "    for _ in range(n):\n",
        "        print(a, end=\" \")\n",
        "        a, b = b, a + b\n",
        "\n",
        "fibonacci_iterative(6)  # Output: 0 1 1 2 3 5\n"
      ],
      "metadata": {
        "id": "B2XnZROYFcQ8",
        "colab": {
          "base_uri": "https://localhost:8080/"
        },
        "outputId": "14d82b24-3072-461a-863d-8db6922c7a01"
      },
      "execution_count": null,
      "outputs": [
        {
          "output_type": "stream",
          "name": "stdout",
          "text": [
            "0 1 1 2 3 5 "
          ]
        }
      ]
    },
    {
      "cell_type": "markdown",
      "source": [
        "Another Example without Recursion"
      ],
      "metadata": {
        "id": "Y13fy8N_rT7g"
      }
    },
    {
      "cell_type": "code",
      "source": [
        "def generate_fibonacci_series(n):\n",
        "    # List to store the Fibonacci series\n",
        "    fibonacci_series = []\n",
        "\n",
        "    # Initial two numbers of the Fibonacci series\n",
        "    a, b = 0, 1\n",
        "\n",
        "    for _ in range(n):\n",
        "        fibonacci_series.append(a)\n",
        "        a, b = b, a + b  # Update to the next Fibonacci numbers\n",
        "\n",
        "    return fibonacci_series\n",
        "\n",
        "\n",
        "# Input: Number of terms\n",
        "num_terms = int(input(\"Enter the number of terms: \"))\n",
        "\n",
        "# Generate and print the Fibonacci series\n",
        "if num_terms <= 0:\n",
        "    print(\"Please enter a positive integer.\")\n",
        "else:\n",
        "    series = generate_fibonacci_series(num_terms)\n",
        "    print(f\"Fibonacci series ({num_terms} terms): {series}\")\n"
      ],
      "metadata": {
        "colab": {
          "base_uri": "https://localhost:8080/"
        },
        "id": "vEIaiquXrF2p",
        "outputId": "42422910-5fc7-47c2-a0b6-5569cf122088"
      },
      "execution_count": null,
      "outputs": [
        {
          "output_type": "stream",
          "name": "stdout",
          "text": [
            "Enter the number of terms: 6\n",
            "Fibonacci series (6 terms): [0, 1, 1, 2, 3, 5]\n"
          ]
        }
      ]
    },
    {
      "cell_type": "markdown",
      "source": [
        "![Capture-removebg-preview (5).png](data:image/png;base64,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)"
      ],
      "metadata": {
        "id": "7tZpMacEGX3p"
      }
    },
    {
      "cell_type": "markdown",
      "source": [
        "**4. Length of a String Using a Loop**"
      ],
      "metadata": {
        "id": "Ogsng9xqFdxn"
      }
    },
    {
      "cell_type": "code",
      "source": [
        "def string_length(s):\n",
        "    length = 0\n",
        "    for _ in s:\n",
        "        length += 1\n",
        "    return length\n",
        "\n",
        "print(string_length(\"hello\"))  # Output: 5\n"
      ],
      "metadata": {
        "id": "29zZO49HFfzd",
        "colab": {
          "base_uri": "https://localhost:8080/"
        },
        "outputId": "3a829243-820c-4bb4-afc3-dbaba12cc5d3"
      },
      "execution_count": null,
      "outputs": [
        {
          "output_type": "stream",
          "name": "stdout",
          "text": [
            "5\n"
          ]
        }
      ]
    },
    {
      "cell_type": "markdown",
      "source": [
        "**5. Finding the Number of Characters in a String**"
      ],
      "metadata": {
        "id": "W9mDRsgvFhel"
      }
    },
    {
      "cell_type": "code",
      "source": [
        "def char_count(s, char):\n",
        "    count = 0\n",
        "    for c in s:\n",
        "        if c == char:\n",
        "            count += 1\n",
        "    return count\n",
        "\n",
        "print(char_count(\"hello\", \"l\"))  # Output: 2\n"
      ],
      "metadata": {
        "id": "z-I7T6QAFjb2",
        "colab": {
          "base_uri": "https://localhost:8080/"
        },
        "outputId": "0aa9dc5b-fe15-45df-c07d-95b688b843a4"
      },
      "execution_count": null,
      "outputs": [
        {
          "output_type": "stream",
          "name": "stdout",
          "text": [
            "2\n"
          ]
        }
      ]
    },
    {
      "cell_type": "markdown",
      "source": [
        "**6. File Handling**\n",
        "\n",
        "Reading and Writing a File:"
      ],
      "metadata": {
        "id": "3EZX9jQ4FlXp"
      }
    },
    {
      "cell_type": "code",
      "source": [
        "# Write to a file\n",
        "with open(\"example.txt\", \"w\") as file:\n",
        "    file.write(\"Hello, students!\")\n",
        "\n",
        "# Read from the file\n",
        "with open(\"example.txt\", \"r\") as file:\n",
        "    content = file.read()\n",
        "    print(content)  # Output: Hello, students!\n"
      ],
      "metadata": {
        "colab": {
          "base_uri": "https://localhost:8080/"
        },
        "id": "QrQjpJDpFnDw",
        "outputId": "f3a586e0-ed7b-42dd-bca6-55bab3e5ae4e"
      },
      "execution_count": null,
      "outputs": [
        {
          "output_type": "stream",
          "name": "stdout",
          "text": [
            "Hello, students!\n"
          ]
        }
      ]
    },
    {
      "cell_type": "markdown",
      "source": [
        "**7. Conditional Checking in Dictionary**"
      ],
      "metadata": {
        "id": "9iyXiK6jFw86"
      }
    },
    {
      "cell_type": "code",
      "source": [
        "data = {\"name\": \"Alice\", \"age\": 25, \"city\": \"New York\"}\n",
        "\n",
        "if \"age\" in data:\n",
        "    print(f\"Age is {data['age']}\")  # Output: Age is 25\n",
        "else:\n",
        "    print(\"Age not found\")\n"
      ],
      "metadata": {
        "id": "KJREm_LkFzWp",
        "colab": {
          "base_uri": "https://localhost:8080/"
        },
        "outputId": "32b57efd-59f6-4b6f-84b4-87179ccf7711"
      },
      "execution_count": null,
      "outputs": [
        {
          "output_type": "stream",
          "name": "stdout",
          "text": [
            "Age is 25\n"
          ]
        }
      ]
    }
  ]
}