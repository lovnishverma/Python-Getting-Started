{
  "nbformat": 4,
  "nbformat_minor": 0,
  "metadata": {
    "colab": {
      "provenance": [],
      "authorship_tag": "ABX9TyPwzF1scMXau3PM8roNtyTz",
      "include_colab_link": true
    },
    "kernelspec": {
      "name": "python3",
      "display_name": "Python 3"
    },
    "language_info": {
      "name": "python"
    }
  },
  "cells": [
    {
      "cell_type": "markdown",
      "metadata": {
        "id": "view-in-github",
        "colab_type": "text"
      },
      "source": [
        "<a href=\"https://colab.research.google.com/github/lovnishverma/Python-Getting-Started/blob/main/pandas_bdds.ipynb\" target=\"_parent\"><img src=\"https://colab.research.google.com/assets/colab-badge.svg\" alt=\"Open In Colab\"/></a>"
      ]
    },
    {
      "cell_type": "markdown",
      "source": [
        "#🐼 Pandas Zero-to-Hero Guide\n",
        "\n",
        "#A beginner-friendly, hands-on crash course to master the Pandas library for data analysis."
      ],
      "metadata": {
        "id": "UQrvK21E5O8P"
      }
    },
    {
      "cell_type": "code",
      "execution_count": 117,
      "metadata": {
        "id": "HeM7sDW-a4Sw"
      },
      "outputs": [],
      "source": [
        "import pandas as pd"
      ]
    },
    {
      "cell_type": "code",
      "source": [
        "# Load the dataset\n",
        "# Replace with your actual CSV file\n",
        "# Use this sample if no dataset available: https://raw.githubusercontent.com/lovnishverma/datasets/refs/heads/main/testdata.csv\n",
        "df = pd.read_csv('https://raw.githubusercontent.com/lovnishverma/datasets/refs/heads/main/testdata.csv')"
      ],
      "metadata": {
        "id": "r-pSu_N2bYph"
      },
      "execution_count": 118,
      "outputs": []
    },
    {
      "cell_type": "markdown",
      "source": [
        "| Expression      | Meaning                     |\n",
        "| --------------- | --------------------------- |\n",
        "| `df`            | Show full DataFrame         |\n",
        "| `df.head()`     | First 5 rows                |\n",
        "| `df.tail()`     | Last 5 rows                 |\n",
        "| `df[1:4]`       | Rows 1 to 3                 |\n",
        "| `df.iloc[:, :]` | All rows, all columns       |\n",
        "| `df.iloc[:, 1]` | All rows, column at index 1 |\n",
        "| `df.iloc[0, :]` | First row, all columns      |\n"
      ],
      "metadata": {
        "id": "vHCI6xdAdpSP"
      }
    },
    {
      "cell_type": "markdown",
      "source": [
        "🙈 1. First Look"
      ],
      "metadata": {
        "id": "jU-DdHSW5yls"
      }
    },
    {
      "cell_type": "code",
      "source": [
        "print(\"\\n First few rows:\")\n",
        "print(df.head())\n",
        "\n",
        "print(\"\\n Last few rows:\")\n",
        "print(df.tail())\n",
        "\n",
        "print(\"\\n Shape of DataFrame (rows, columns):\")\n",
        "print(df.shape)\n",
        "\n",
        "print(\"\\n Column names:\")\n",
        "print(df.columns)\n",
        "\n",
        "print(\"\\n Data types:\")\n",
        "print(df.dtypes)\n",
        "\n",
        "print(df.info())       # Data types & missing values\n",
        "print(df.describe())   # Summary statistics"
      ],
      "metadata": {
        "colab": {
          "base_uri": "https://localhost:8080/"
        },
        "id": "mL_2YcjrbeD5",
        "outputId": "0e7573c1-02ab-439e-9199-ff4bb5ad9b18"
      },
      "execution_count": 119,
      "outputs": [
        {
          "output_type": "stream",
          "name": "stdout",
          "text": [
            "\n",
            " First few rows:\n",
            "   rank discipline  phd  service   sex    salary\n",
            "0  Prof          B   56     49.0  Male  186960.0\n",
            "1  Prof          A   12      6.0  Male   93000.0\n",
            "2   NaN          A   23     20.0  Male  110515.0\n",
            "3  Prof          A   40     31.0   NaN  131205.0\n",
            "4  Prof          B   20      NaN  Male  104800.0\n",
            "\n",
            " Last few rows:\n",
            "         rank discipline  phd  service     sex    salary\n",
            "75       Prof          B   18     10.0  Female  105450.0\n",
            "76  AssocProf          B   19      6.0  Female  104542.0\n",
            "77       Prof          B   17     17.0  Female  124312.0\n",
            "78       Prof          A   28     14.0  Female  109954.0\n",
            "79       Prof          A   23     15.0  Female  109646.0\n",
            "\n",
            " Shape of DataFrame (rows, columns):\n",
            "(80, 6)\n",
            "\n",
            " Column names:\n",
            "Index(['rank', 'discipline', 'phd', 'service', 'sex', 'salary'], dtype='object')\n",
            "\n",
            " Data types:\n",
            "rank           object\n",
            "discipline     object\n",
            "phd             int64\n",
            "service       float64\n",
            "sex            object\n",
            "salary        float64\n",
            "dtype: object\n"
          ]
        }
      ]
    },
    {
      "cell_type": "markdown",
      "source": [
        "✌ 2. Selecting Data"
      ],
      "metadata": {
        "id": "UprwCUnm5v98"
      }
    },
    {
      "cell_type": "code",
      "source": [
        "# Row slices\n",
        "print(df[1:4])            # Rows 1 to 3\n",
        "print(df.iloc[:, :])      # All rows, all columns\n",
        "print(df.iloc[:, 1])      # All rows, column at index 1\n",
        "print(df.iloc[0, :])      # First row, all columns\n",
        "\n",
        "# Using .loc with labels\n",
        "print(df.loc[0])\n",
        "print(df.loc[1:3])\n",
        "\n",
        "\n",
        "\n",
        "print(df.columns) # Before selecting columns, always confirm column names\n",
        "\n",
        "# You can drop a column from the DataFrame using the .drop() method.\n",
        "# df.drop(columns=['rank'], inplace=True)\n",
        "\n",
        "# If you want to remove multiple columns, pass a list:\n",
        "# df.drop(columns=['rank', 'service'], inplace=True)\n",
        "\n",
        "df.loc[:, 'phd']  # All rows, column 'phd'\n",
        "df.loc[0:2, ['rank', 'service']]\n",
        "\n",
        "# Selecting specific columns\n",
        "print(df.loc[:, 'phd'])\n",
        "\n",
        "print(df.loc[0:2, ['rank', 'service']])\n"
      ],
      "metadata": {
        "colab": {
          "base_uri": "https://localhost:8080/"
        },
        "id": "nLy4ciJYeQx_",
        "outputId": "78a4378a-c22b-4948-e32d-c5b798e067e3"
      },
      "execution_count": 120,
      "outputs": [
        {
          "output_type": "stream",
          "name": "stdout",
          "text": [
            "   rank discipline  phd  service   sex    salary\n",
            "1  Prof          A   12      6.0  Male   93000.0\n",
            "2   NaN          A   23     20.0  Male  110515.0\n",
            "3  Prof          A   40     31.0   NaN  131205.0\n",
            "         rank discipline  phd  service     sex    salary\n",
            "0        Prof          B   56     49.0    Male  186960.0\n",
            "1        Prof          A   12      6.0    Male   93000.0\n",
            "2         NaN          A   23     20.0    Male  110515.0\n",
            "3        Prof          A   40     31.0     NaN  131205.0\n",
            "4        Prof          B   20      NaN    Male  104800.0\n",
            "..        ...        ...  ...      ...     ...       ...\n",
            "75       Prof          B   18     10.0  Female  105450.0\n",
            "76  AssocProf          B   19      6.0  Female  104542.0\n",
            "77       Prof          B   17     17.0  Female  124312.0\n",
            "78       Prof          A   28     14.0  Female  109954.0\n",
            "79       Prof          A   23     15.0  Female  109646.0\n",
            "\n",
            "[80 rows x 6 columns]\n",
            "0     B\n",
            "1     A\n",
            "2     A\n",
            "3     A\n",
            "4     B\n",
            "     ..\n",
            "75    B\n",
            "76    B\n",
            "77    B\n",
            "78    A\n",
            "79    A\n",
            "Name: discipline, Length: 80, dtype: object\n",
            "rank              Prof\n",
            "discipline           B\n",
            "phd                 56\n",
            "service           49.0\n",
            "sex               Male\n",
            "salary        186960.0\n",
            "Name: 0, dtype: object\n",
            "rank              Prof\n",
            "discipline           B\n",
            "phd                 56\n",
            "service           49.0\n",
            "sex               Male\n",
            "salary        186960.0\n",
            "Name: 0, dtype: object\n",
            "   rank discipline  phd  service   sex    salary\n",
            "1  Prof          A   12      6.0  Male   93000.0\n",
            "2   NaN          A   23     20.0  Male  110515.0\n",
            "3  Prof          A   40     31.0   NaN  131205.0\n",
            "Index(['rank', 'discipline', 'phd', 'service', 'sex', 'salary'], dtype='object')\n",
            "0     56\n",
            "1     12\n",
            "2     23\n",
            "3     40\n",
            "4     20\n",
            "      ..\n",
            "75    18\n",
            "76    19\n",
            "77    17\n",
            "78    28\n",
            "79    23\n",
            "Name: phd, Length: 80, dtype: int64\n",
            "   rank  service\n",
            "0  Prof     49.0\n",
            "1  Prof      6.0\n",
            "2   NaN     20.0\n"
          ]
        }
      ]
    },
    {
      "cell_type": "markdown",
      "source": [
        "🎯 3. Filtering Rows"
      ],
      "metadata": {
        "id": "WGlgOc3J6Nfl"
      }
    },
    {
      "cell_type": "code",
      "source": [
        "# Selecting & Filtering Data (Selecting Columns)\n",
        "\n",
        "# print(df['rank'])  # Selecting a single column\n",
        "# print(df[['phd', 'service']])  # Selecting multiple columns\n",
        "\n",
        "# Example: Filter rows with numerical service > 45 (only if applicable)\n",
        "print(df[df['service'] > 45])\n"
      ],
      "metadata": {
        "colab": {
          "base_uri": "https://localhost:8080/"
        },
        "id": "cijG3DNEgQWt",
        "outputId": "82e099ad-e8f6-480d-ba12-9a9df6f72bdf"
      },
      "execution_count": 121,
      "outputs": [
        {
          "output_type": "stream",
          "name": "stdout",
          "text": [
            "    rank discipline  phd  service   sex    salary\n",
            "0   Prof          B   56     49.0  Male  186960.0\n",
            "10  Prof          A   51     51.0  Male   57800.0\n"
          ]
        }
      ]
    },
    {
      "cell_type": "markdown",
      "source": [
        "📊 4. Sorting Data"
      ],
      "metadata": {
        "id": "oUtobMoh6V9t"
      }
    },
    {
      "cell_type": "code",
      "source": [
        "print(df.sort_values(by='service', ascending=True))\n",
        "print(df.sort_values(by='service', ascending=False))"
      ],
      "metadata": {
        "colab": {
          "base_uri": "https://localhost:8080/"
        },
        "id": "ZDgB4P4Xg-Vs",
        "outputId": "efe7c6f1-88f7-451e-ea25-a98a85558a93"
      },
      "execution_count": 122,
      "outputs": [
        {
          "output_type": "stream",
          "name": "stdout",
          "text": [
            "        rank discipline  phd  service     sex    salary\n",
            "13  AsstProf          B    1      0.0    Male   88000.0\n",
            "14  AsstProf          B    1      0.0    Male   88000.0\n",
            "25  AsstProf          A    2      0.0    Male   85000.0\n",
            "19  AsstProf          B    4      0.0    Male   92000.0\n",
            "54      Prof          A   12      0.0  Female  105000.0\n",
            "..       ...        ...  ...      ...     ...       ...\n",
            "29      Prof          A   45     43.0    Male  155865.0\n",
            "38      Prof          B   45     45.0    Male  146856.0\n",
            "0       Prof          B   56     49.0    Male  186960.0\n",
            "10      Prof          A   51     51.0    Male   57800.0\n",
            "4       Prof          B   20      NaN    Male  104800.0\n",
            "\n",
            "[80 rows x 6 columns]\n",
            "        rank discipline  phd  service     sex    salary\n",
            "10      Prof          A   51     51.0    Male   57800.0\n",
            "0       Prof          B   56     49.0    Male  186960.0\n",
            "38      Prof          B   45     45.0    Male  146856.0\n",
            "29      Prof          A   45     43.0    Male  155865.0\n",
            "42      Prof          A   39     36.0  Female  137000.0\n",
            "..       ...        ...  ...      ...     ...       ...\n",
            "45  AsstProf          B    5      0.0  Female   77000.0\n",
            "25  AsstProf          A    2      0.0    Male   85000.0\n",
            "57  AsstProf          A    2      0.0  Female   72500.0\n",
            "54      Prof          A   12      0.0  Female  105000.0\n",
            "4       Prof          B   20      NaN    Male  104800.0\n",
            "\n",
            "[80 rows x 6 columns]\n"
          ]
        }
      ]
    },
    {
      "cell_type": "markdown",
      "source": [
        "🆕 5. Creating New Columns"
      ],
      "metadata": {
        "id": "VGXfA0JS6bfc"
      }
    },
    {
      "cell_type": "code",
      "source": [
        "df['is_senior'] = df['rank'] == 'Prof'  # Example boolean logic\n",
        "print(df[['rank', 'is_senior']])"
      ],
      "metadata": {
        "colab": {
          "base_uri": "https://localhost:8080/"
        },
        "id": "1wnBPIxOh5sD",
        "outputId": "791eb17b-d03b-4c7f-e9ce-016afe2dfe52"
      },
      "execution_count": 123,
      "outputs": [
        {
          "output_type": "stream",
          "name": "stdout",
          "text": [
            "         rank  is_senior\n",
            "0        Prof       True\n",
            "1        Prof       True\n",
            "2         NaN      False\n",
            "3        Prof       True\n",
            "4        Prof       True\n",
            "..        ...        ...\n",
            "75       Prof       True\n",
            "76  AssocProf      False\n",
            "77       Prof       True\n",
            "78       Prof       True\n",
            "79       Prof       True\n",
            "\n",
            "[80 rows x 2 columns]\n"
          ]
        }
      ]
    },
    {
      "cell_type": "markdown",
      "source": [
        "🧮 6. Aggregation / Grouping"
      ],
      "metadata": {
        "id": "aukmwjnr6ier"
      }
    },
    {
      "cell_type": "code",
      "source": [
        "print(df.groupby('service')['phd'].mean())"
      ],
      "metadata": {
        "colab": {
          "base_uri": "https://localhost:8080/"
        },
        "id": "DWdzXDDE6jkb",
        "outputId": "68075e7c-bbac-4495-dd7b-da831654b377"
      },
      "execution_count": 124,
      "outputs": [
        {
          "output_type": "stream",
          "name": "stdout",
          "text": [
            "service\n",
            "0.0      3.857143\n",
            "1.0      3.000000\n",
            "2.0      4.750000\n",
            "3.0      8.000000\n",
            "4.0      4.000000\n",
            "5.0     10.000000\n",
            "6.0     12.666667\n",
            "7.0     17.500000\n",
            "8.0     13.750000\n",
            "9.0     12.000000\n",
            "10.0    14.333333\n",
            "11.0    14.000000\n",
            "14.0    24.000000\n",
            "15.0    23.500000\n",
            "17.0    18.000000\n",
            "18.0    17.800000\n",
            "19.0    29.666667\n",
            "20.0    21.333333\n",
            "21.0    22.000000\n",
            "22.0    25.000000\n",
            "23.0    27.000000\n",
            "24.0    26.000000\n",
            "25.0    25.000000\n",
            "26.0    36.000000\n",
            "27.0    29.000000\n",
            "30.0    33.000000\n",
            "31.0    37.500000\n",
            "33.0    37.000000\n",
            "36.0    39.000000\n",
            "43.0    45.000000\n",
            "45.0    45.000000\n",
            "49.0    56.000000\n",
            "51.0    51.000000\n",
            "Name: phd, dtype: float64\n"
          ]
        }
      ]
    },
    {
      "cell_type": "markdown",
      "source": [
        "🛠️ 7. Renaming Columns (if needed)"
      ],
      "metadata": {
        "id": "j5qxiHgXjue5"
      }
    },
    {
      "cell_type": "code",
      "source": [
        "# df.rename(columns={'rank': 'Rank', 'service': 'Service'}, inplace=True)\n",
        "print(df.columns)"
      ],
      "metadata": {
        "colab": {
          "base_uri": "https://localhost:8080/"
        },
        "id": "fQzRV3pSjm4K",
        "outputId": "899d99f0-5818-483d-c482-16cf71107092"
      },
      "execution_count": 125,
      "outputs": [
        {
          "output_type": "stream",
          "name": "stdout",
          "text": [
            "Index(['rank', 'discipline', 'phd', 'service', 'sex', 'salary', 'is_senior'], dtype='object')\n"
          ]
        }
      ]
    },
    {
      "cell_type": "markdown",
      "source": [
        "🧽 8. Handling Duplicates"
      ],
      "metadata": {
        "id": "N2dVZOGCI_Ad"
      }
    },
    {
      "cell_type": "code",
      "source": [
        "print(\"\\n Checking for duplicate rows:\")\n",
        "print(df.duplicated().sum())\n",
        "\n",
        "# Drop duplicates if any\n",
        "df.drop_duplicates(inplace=True)\n",
        "print(\"\\n Shape after dropping duplicates:\")\n",
        "print(df.shape)\n"
      ],
      "metadata": {
        "colab": {
          "base_uri": "https://localhost:8080/"
        },
        "id": "XZ5oo4iUI-fv",
        "outputId": "7e13d9ba-b01f-45c1-a2e5-40da7a244ae2"
      },
      "execution_count": 126,
      "outputs": [
        {
          "output_type": "stream",
          "name": "stdout",
          "text": [
            "\n",
            " Checking for duplicate rows:\n",
            "2\n",
            "\n",
            " Shape after dropping duplicates:\n",
            "(78, 7)\n"
          ]
        }
      ]
    },
    {
      "cell_type": "markdown",
      "source": [
        "❓ 9. Missing Values Handling"
      ],
      "metadata": {
        "id": "6hBtAmTXj5kJ"
      }
    },
    {
      "cell_type": "code",
      "source": [
        "print(\"\\n Missing values per column:\")\n",
        "print(df.isnull().sum())\n",
        "\n",
        "# Fill numeric columns with statistical values\n",
        "\n",
        "df['phd'] = df['phd'].fillna(df['phd'].mean())     # Fill with mean (average)\n",
        "df['phd'] = df['phd'].fillna(df['phd'].median())   # Fill with median\n",
        "df['phd'] = df['phd'].fillna(df['phd'].mode()[0])  # Fill with mode (most frequent)\n",
        "\n",
        "# Forward / Backward fill using modern syntax\n",
        "# Useful in time series or ordered data\n",
        "df = df.ffill()  # Forward fill (previous value)\n",
        "df = df.bfill()  # Backward fill (next value)\n",
        "\n",
        "# Drop rows/columns with NaN (uncomment if needed)\n",
        "# df.dropna(inplace=True)\n",
        "# df.dropna(axis=1, inplace=True)\n",
        "\n",
        "# Final missing value report\n",
        "print(\"\\n Missing values after cleaning:\")\n",
        "print(df.isnull().sum())"
      ],
      "metadata": {
        "colab": {
          "base_uri": "https://localhost:8080/"
        },
        "id": "4aLQEWwhjs0x",
        "outputId": "4890f49c-7b87-4f6c-bed9-2dbd167c919c"
      },
      "execution_count": 127,
      "outputs": [
        {
          "output_type": "stream",
          "name": "stdout",
          "text": [
            "\n",
            " Missing values per column:\n",
            "rank          1\n",
            "discipline    1\n",
            "phd           0\n",
            "service       1\n",
            "sex           1\n",
            "salary        1\n",
            "is_senior     0\n",
            "dtype: int64\n",
            "\n",
            " Missing values after cleaning:\n",
            "rank          0\n",
            "discipline    0\n",
            "phd           0\n",
            "service       0\n",
            "sex           0\n",
            "salary        0\n",
            "is_senior     0\n",
            "dtype: int64\n"
          ]
        }
      ]
    },
    {
      "cell_type": "markdown",
      "source": [
        "🔁 10. Looping Through Rows (not recommended for big data)"
      ],
      "metadata": {
        "id": "QpU9UEBe7BS0"
      }
    },
    {
      "cell_type": "code",
      "source": [
        "# Loop through rows\n",
        "\n",
        "# for index, row in df.iterrows():\n",
        "#     print(f\"{row['Service']} officer has rank {row['Rank']}\")"
      ],
      "metadata": {
        "id": "u3U1piM8j7op"
      },
      "execution_count": 128,
      "outputs": []
    },
    {
      "cell_type": "markdown",
      "source": [
        "🔚 11. Export Cleaned Data"
      ],
      "metadata": {
        "id": "3RgmBwa6ki0k"
      }
    },
    {
      "cell_type": "code",
      "source": [
        "df.to_csv('cleaned_testdata.csv', index=False)\n",
        "print(\"\\n Cleaned data saved to 'cleaned_testdata.csv'\")"
      ],
      "metadata": {
        "colab": {
          "base_uri": "https://localhost:8080/"
        },
        "id": "VGQ7ErFtkFJi",
        "outputId": "b4a1abcf-9f43-4d7b-f5b2-766843f7251a"
      },
      "execution_count": 129,
      "outputs": [
        {
          "output_type": "stream",
          "name": "stdout",
          "text": [
            "\n",
            " Cleaned data saved to 'cleaned_testdata.csv'\n"
          ]
        }
      ]
    }
  ]
}