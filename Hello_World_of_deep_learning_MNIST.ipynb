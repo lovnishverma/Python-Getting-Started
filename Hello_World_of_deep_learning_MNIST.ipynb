{
  "nbformat": 4,
  "nbformat_minor": 0,
  "metadata": {
    "colab": {
      "provenance": [],
      "gpuType": "V5E1",
      "authorship_tag": "ABX9TyPaQd3WR40lIhro4rbMfFOC",
      "include_colab_link": true
    },
    "kernelspec": {
      "name": "python3",
      "display_name": "Python 3"
    },
    "language_info": {
      "name": "python"
    },
    "accelerator": "TPU"
  },
  "cells": [
    {
      "cell_type": "markdown",
      "metadata": {
        "id": "view-in-github",
        "colab_type": "text"
      },
      "source": [
        "<a href=\"https://colab.research.google.com/github/lovnishverma/Python-Getting-Started/blob/main/Hello_World_of_deep_learning_MNIST.ipynb\" target=\"_parent\"><img src=\"https://colab.research.google.com/assets/colab-badge.svg\" alt=\"Open In Colab\"/></a>"
      ]
    },
    {
      "cell_type": "markdown",
      "source": [
        "# A first look at a neural network"
      ],
      "metadata": {
        "id": "7Sq8zn73QJEb"
      }
    },
    {
      "cell_type": "markdown",
      "source": [
        "\n",
        "\n",
        "---\n",
        "\n",
        "\n",
        "\n",
        "> [Source](https://github.com/lovnishverma/Python-Getting-Started/blob/main/Books/deeplearningwithpython.pdf)\n",
        "\n"
      ],
      "metadata": {
        "id": "OlmsVomFQLVB"
      }
    },
    {
      "cell_type": "markdown",
      "source": [
        "Let’s look at a concrete example of a neural network that uses the Python library Keras\n",
        "to learn to classify handwritten digits.\n",
        "\n",
        " The problem we’re trying to solve here is to classify grayscale images of handwritten digits (28 × 28 pixels) into their 10 categories (0 through 9). We’ll use the MNIST\n",
        "dataset, a classic in the machine-learning community, which has been around almost\n",
        "as long as the field itself and has been intensively studied. It’s a set of 60,000 training\n",
        "images, plus 10,000 test images, assembled by the National Institute of Standards and\n",
        "Technology (the NIST in MNIST) in the 1980s. You can think of “solving” MNIST as the\n",
        "“Hello World” of deep learning—it’s what you do to verify that your algorithms are\n",
        "working as expected. As you become a machine-learning practitioner, you’ll see\n",
        "MNIST come up over and over again, in scientific papers, blog posts, and so on. You\n",
        "can see some MNIST samples in figure below."
      ],
      "metadata": {
        "id": "BgnbzeIOQPBp"
      }
    },
    {
      "cell_type": "markdown",
      "source": [
        "**Note on classes and labels**\n",
        "\n",
        "In machine learning, a category in a classification problem is called a class. Data\n",
        "points are called samples. The class associated with a specific sample is called a\n",
        "label."
      ],
      "metadata": {
        "id": "qcBmB1wTRLGK"
      }
    },
    {
      "cell_type": "markdown",
      "source": [
        "![image.png](data:image/png;base64,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)"
      ],
      "metadata": {
        "id": "-h6CMfVLQaAh"
      }
    },
    {
      "cell_type": "markdown",
      "source": [
        " The MNIST dataset comes preloaded in Keras, in the form of a set of four Numpy\n",
        "arrays."
      ],
      "metadata": {
        "id": "gxsuk88tOjYz"
      }
    },
    {
      "cell_type": "markdown",
      "source": [
        "**Loading the MNIST dataset in Keras**"
      ],
      "metadata": {
        "id": "8czUojBBRhIB"
      }
    },
    {
      "cell_type": "code",
      "execution_count": 113,
      "metadata": {
        "id": "AbZ3JJ1qOB4F"
      },
      "outputs": [],
      "source": [
        "from keras.datasets import mnist\n",
        "(train_images, train_labels), (test_images, test_labels) = mnist.load_data()"
      ]
    },
    {
      "cell_type": "markdown",
      "source": [
        "*train_images* and *train_labels* form the *training set*, the data that the model will\n",
        "learn from. The model will then be tested on the *test set*, *test_images* and *test_labels*."
      ],
      "metadata": {
        "id": "USlaY5q1OsaS"
      }
    },
    {
      "cell_type": "markdown",
      "source": [
        "The images are encoded as Numpy arrays, and the labels are an array of digits, ranging\n",
        "from 0 to 9. The images and labels have a one-to-one correspondence.\n",
        "\n",
        "**Let’s look at the training data:**"
      ],
      "metadata": {
        "id": "wmWHA5ndOtDJ"
      }
    },
    {
      "cell_type": "code",
      "source": [
        "train_images.shape"
      ],
      "metadata": {
        "colab": {
          "base_uri": "https://localhost:8080/"
        },
        "id": "Mi3nBu_LOKSS",
        "outputId": "c14f58db-e39a-4225-ae99-996a914c3c48"
      },
      "execution_count": 114,
      "outputs": [
        {
          "output_type": "execute_result",
          "data": {
            "text/plain": [
              "(60000, 28, 28)"
            ]
          },
          "metadata": {},
          "execution_count": 114
        }
      ]
    },
    {
      "cell_type": "code",
      "source": [
        "len(train_labels)"
      ],
      "metadata": {
        "colab": {
          "base_uri": "https://localhost:8080/"
        },
        "id": "0pua1NkLOPuj",
        "outputId": "786fdc08-7497-4e26-a336-572b8cd08829"
      },
      "execution_count": 115,
      "outputs": [
        {
          "output_type": "execute_result",
          "data": {
            "text/plain": [
              "60000"
            ]
          },
          "metadata": {},
          "execution_count": 115
        }
      ]
    },
    {
      "cell_type": "code",
      "source": [
        "len(train_labels)"
      ],
      "metadata": {
        "colab": {
          "base_uri": "https://localhost:8080/"
        },
        "id": "LFoBlGa3OReX",
        "outputId": "e6b5e4dc-a30f-4f9f-8394-a3f2cccd4450"
      },
      "execution_count": 116,
      "outputs": [
        {
          "output_type": "execute_result",
          "data": {
            "text/plain": [
              "60000"
            ]
          },
          "metadata": {},
          "execution_count": 116
        }
      ]
    },
    {
      "cell_type": "markdown",
      "source": [
        "**And here’s the test data:**"
      ],
      "metadata": {
        "id": "Mm-CBdaYOydb"
      }
    },
    {
      "cell_type": "code",
      "source": [
        "test_images.shape"
      ],
      "metadata": {
        "colab": {
          "base_uri": "https://localhost:8080/"
        },
        "id": "aU7xu5wROTWF",
        "outputId": "2c51432a-f521-44d8-aa7e-5686fcd84c9a"
      },
      "execution_count": 117,
      "outputs": [
        {
          "output_type": "execute_result",
          "data": {
            "text/plain": [
              "(10000, 28, 28)"
            ]
          },
          "metadata": {},
          "execution_count": 117
        }
      ]
    },
    {
      "cell_type": "code",
      "source": [
        "len(test_labels)"
      ],
      "metadata": {
        "colab": {
          "base_uri": "https://localhost:8080/"
        },
        "id": "fOcDOOMVOWEh",
        "outputId": "76eaed07-d9a3-4cea-ae80-1dd627f130f3"
      },
      "execution_count": 118,
      "outputs": [
        {
          "output_type": "execute_result",
          "data": {
            "text/plain": [
              "10000"
            ]
          },
          "metadata": {},
          "execution_count": 118
        }
      ]
    },
    {
      "cell_type": "code",
      "source": [
        "test_labels"
      ],
      "metadata": {
        "colab": {
          "base_uri": "https://localhost:8080/"
        },
        "id": "uLQzW1WFOX6d",
        "outputId": "42bd113a-2def-4791-970b-362e68b209f3"
      },
      "execution_count": 119,
      "outputs": [
        {
          "output_type": "execute_result",
          "data": {
            "text/plain": [
              "array([7, 2, 1, ..., 4, 5, 6], dtype=uint8)"
            ]
          },
          "metadata": {},
          "execution_count": 119
        }
      ]
    },
    {
      "cell_type": "markdown",
      "source": [
        "The workflow will be as follows: First, we’ll feed the neural network the training data,\n",
        "train_images and train_labels. The network will then learn to associate images and\n",
        "labels. Finally, we’ll ask the network to produce predictions for test_images, and we’ll\n",
        "verify whether these predictions match the labels from test_labels."
      ],
      "metadata": {
        "id": "pOmO-euvO71S"
      }
    },
    {
      "cell_type": "markdown",
      "source": [
        "**The network architecture**"
      ],
      "metadata": {
        "id": "xrqryUgaPKK5"
      }
    },
    {
      "cell_type": "code",
      "source": [
        "from keras import models, layers\n",
        "\n",
        "network = models.Sequential()\n",
        "\n",
        "# First layer: use Input layer explicitly\n",
        "network.add(layers.Input(shape=(28*28,)))\n",
        "\n",
        "# Hidden layer: 512 neurons, ReLU activation\n",
        "network.add(layers.Dense(512, activation='relu'))\n",
        "\n",
        "# Output layer: 10 neurons, softmax activation\n",
        "network.add(layers.Dense(10, activation='softmax'))"
      ],
      "metadata": {
        "id": "XBgSnpKBO8qK"
      },
      "execution_count": 120,
      "outputs": []
    },
    {
      "cell_type": "markdown",
      "source": [
        "The core building block of neural networks is the layer, a data-processing module that\n",
        "you can think of as a filter for data. Some data goes in, and it comes out in a more useful form. Specifically, layers extract representations out of the data fed into them—hopefully, representations that are more meaningful for the problem at hand. Most of\n",
        "deep learning consists of chaining together simple layers that will implement a form\n",
        "of progressive data distillation. A deep-learning model is like a sieve for data processing, made of a succession of increasingly refined data filters—the layers.\n",
        " Here, our network consists of a sequence of two Dense layers, which are densely\n",
        "connected (also called fully connected) neural layers. The second (and last) layer is a\n",
        "10-way softmax layer, which means it will return an array of 10 probability scores (summing to 1). Each score will be the probability that the current digit image belongs to\n",
        "one of our 10 digit classes."
      ],
      "metadata": {
        "id": "xkylspW1PDaJ"
      }
    },
    {
      "cell_type": "markdown",
      "source": [
        "*To make the network ready for training, we need to pick three more things, as part\n",
        "of the compilation step:*\n",
        "\n",
        "* **A loss function**—How the network will be able to measure its performance on\n",
        "the training data, and thus how it will be able to steer itself in the right direction.\n",
        "\n",
        "* **An optimizer**—The mechanism through which the network will update itself\n",
        "based on the data it sees and its loss function.\n",
        "\n",
        "* **Metrics** to monitor during training and testing—Here, we’ll only care about accuracy (the fraction of the images that were correctly classified)."
      ],
      "metadata": {
        "id": "zOhqrAWYPEFK"
      }
    },
    {
      "cell_type": "markdown",
      "source": [
        "**The compilation step**"
      ],
      "metadata": {
        "id": "QkeDJpmxPNgJ"
      }
    },
    {
      "cell_type": "code",
      "source": [
        "network.compile(optimizer='rmsprop',\n",
        "                loss='categorical_crossentropy',\n",
        "                metrics=['accuracy'])"
      ],
      "metadata": {
        "id": "twYBBgoWPaiq"
      },
      "execution_count": 121,
      "outputs": []
    },
    {
      "cell_type": "markdown",
      "source": [
        "Before training, we’ll preprocess the data by reshaping it into the shape the network\n",
        "expects and scaling it so that all values are in the [0, 1] interval. Previously, our training images, for instance, were stored in an array of shape (60000, 28, 28) of type\n",
        "uint8 with values in the [0, 255] interval. We transform it into a float32 array of\n",
        "shape (60000, 28 * 28) with values between 0 and 1."
      ],
      "metadata": {
        "id": "iRtiz7htPfs5"
      }
    },
    {
      "cell_type": "markdown",
      "source": [
        "**Preparing the image data**"
      ],
      "metadata": {
        "id": "YNZzYTf6PiXS"
      }
    },
    {
      "cell_type": "code",
      "source": [
        "train_images = train_images.reshape((60000, 28 * 28))\n",
        "train_images = train_images.astype('float32') / 255\n",
        "test_images = test_images.reshape((10000, 28 * 28))\n",
        "test_images = test_images.astype('float32') / 255"
      ],
      "metadata": {
        "id": "xhz8bSJjPkqJ"
      },
      "execution_count": 122,
      "outputs": []
    },
    {
      "cell_type": "markdown",
      "source": [
        "**We also need to categorically encode the labels.**"
      ],
      "metadata": {
        "id": "tk3uBkeMPllh"
      }
    },
    {
      "cell_type": "markdown",
      "source": [
        "**Preparing the labels**"
      ],
      "metadata": {
        "id": "PptwWCt2Pqya"
      }
    },
    {
      "cell_type": "code",
      "source": [
        "from keras.utils import to_categorical\n",
        "train_labels = to_categorical(train_labels)\n",
        "test_labels = to_categorical(test_labels)"
      ],
      "metadata": {
        "id": "cdFi9oGfPsqp"
      },
      "execution_count": 123,
      "outputs": []
    },
    {
      "cell_type": "markdown",
      "source": [
        "We’re now ready to train the network, which in Keras is done via a call to the network’s fit method—we fit the model to its training data:"
      ],
      "metadata": {
        "id": "BTxVMdpDPyQZ"
      }
    },
    {
      "cell_type": "code",
      "source": [
        "network.fit(train_images, train_labels, epochs=5, batch_size=128)"
      ],
      "metadata": {
        "colab": {
          "base_uri": "https://localhost:8080/"
        },
        "id": "3x6Vx0qqPz2w",
        "outputId": "117e607f-01eb-4ace-dd42-f49076900863"
      },
      "execution_count": 124,
      "outputs": [
        {
          "output_type": "stream",
          "name": "stdout",
          "text": [
            "Epoch 1/5\n",
            "\u001b[1m469/469\u001b[0m \u001b[32m━━━━━━━━━━━━━━━━━━━━\u001b[0m\u001b[37m\u001b[0m \u001b[1m5s\u001b[0m 9ms/step - accuracy: 0.8707 - loss: 0.4433\n",
            "Epoch 2/5\n",
            "\u001b[1m469/469\u001b[0m \u001b[32m━━━━━━━━━━━━━━━━━━━━\u001b[0m\u001b[37m\u001b[0m \u001b[1m6s\u001b[0m 12ms/step - accuracy: 0.9664 - loss: 0.1157\n",
            "Epoch 3/5\n",
            "\u001b[1m469/469\u001b[0m \u001b[32m━━━━━━━━━━━━━━━━━━━━\u001b[0m\u001b[37m\u001b[0m \u001b[1m9s\u001b[0m 10ms/step - accuracy: 0.9781 - loss: 0.0733\n",
            "Epoch 4/5\n",
            "\u001b[1m469/469\u001b[0m \u001b[32m━━━━━━━━━━━━━━━━━━━━\u001b[0m\u001b[37m\u001b[0m \u001b[1m6s\u001b[0m 12ms/step - accuracy: 0.9846 - loss: 0.0514\n",
            "Epoch 5/5\n",
            "\u001b[1m469/469\u001b[0m \u001b[32m━━━━━━━━━━━━━━━━━━━━\u001b[0m\u001b[37m\u001b[0m \u001b[1m10s\u001b[0m 12ms/step - accuracy: 0.9894 - loss: 0.0378\n"
          ]
        },
        {
          "output_type": "execute_result",
          "data": {
            "text/plain": [
              "<keras.src.callbacks.history.History at 0x7996640370e0>"
            ]
          },
          "metadata": {},
          "execution_count": 124
        }
      ]
    },
    {
      "cell_type": "markdown",
      "source": [
        "Two quantities are displayed during training: the loss of the network over the training\n",
        "data, and the accuracy of the network over the training data.\n",
        " We quickly reach an accuracy of 0.989 (98.9%) on the training data. Now let’s\n",
        "check that the model performs well on the test set, too:"
      ],
      "metadata": {
        "id": "mM9FssUXP5g5"
      }
    },
    {
      "cell_type": "code",
      "source": [
        "test_loss, test_acc = network.evaluate(test_images, test_labels)"
      ],
      "metadata": {
        "colab": {
          "base_uri": "https://localhost:8080/"
        },
        "id": "kWvlYqoSP5Ea",
        "outputId": "6cd77d53-7b62-40d9-e113-c963231a4753"
      },
      "execution_count": 125,
      "outputs": [
        {
          "output_type": "stream",
          "name": "stdout",
          "text": [
            "\u001b[1m313/313\u001b[0m \u001b[32m━━━━━━━━━━━━━━━━━━━━\u001b[0m\u001b[37m\u001b[0m \u001b[1m1s\u001b[0m 3ms/step - accuracy: 0.9769 - loss: 0.0772\n"
          ]
        }
      ]
    },
    {
      "cell_type": "code",
      "source": [
        "print('test_acc:', test_acc)"
      ],
      "metadata": {
        "colab": {
          "base_uri": "https://localhost:8080/",
          "height": 33
        },
        "id": "7dTLfOnPP770",
        "outputId": "b455f527-4e1b-4ea2-f402-ef0650c49b92"
      },
      "execution_count": 126,
      "outputs": [
        {
          "output_type": "display_data",
          "data": {
            "text/plain": [
              "test_acc: \u001b[1;36m0.9810000061988831\u001b[0m\n"
            ],
            "text/html": [
              "<pre style=\"white-space:pre;overflow-x:auto;line-height:normal;font-family:Menlo,'DejaVu Sans Mono',consolas,'Courier New',monospace\">test_acc: <span style=\"color: #008080; text-decoration-color: #008080; font-weight: bold\">0.9810000061988831</span>\n",
              "</pre>\n"
            ]
          },
          "metadata": {}
        }
      ]
    },
    {
      "cell_type": "markdown",
      "source": [
        "The test-set accuracy turns out to be 97.8%—that’s quite a bit lower than the training\n",
        "set accuracy. This gap between training accuracy and test accuracy is an example of\n",
        "overfitting: the fact that machine-learning models tend to perform worse on new data\n",
        "than on their training data. Overfitting is a central topic in chapter 3.\n",
        " This concludes our first example—you just saw how you can build and train a neural network to classify handwritten digits in less than 20 lines of Python code. In the\n",
        "next chapter, I’ll go into detail about every moving piece we just previewed and clarify\n",
        "what’s going on behind the scenes. You’ll learn about tensors, the data-storing objects\n",
        "going into the network; tensor operations, which layers are made of; and gradient\n",
        "descent, which allows your network to learn from its training examples."
      ],
      "metadata": {
        "id": "Y-bbqTygQCza"
      }
    },
    {
      "cell_type": "markdown",
      "source": [
        "# Test with Some Images"
      ],
      "metadata": {
        "id": "bLjRIRi7WHv5"
      }
    },
    {
      "cell_type": "code",
      "source": [
        "import numpy as np\n",
        "from PIL import Image\n",
        "from google.colab import files\n",
        "\n",
        "# Upload an image file\n",
        "uploaded = files.upload()  # Prompts user to choose file\n",
        "\n",
        "for filename in uploaded.keys():\n",
        "    # Open the uploaded image\n",
        "    img = Image.open(filename).convert('L').resize((28, 28))  # Grayscale, 28x28\n",
        "\n",
        "    # Convert to numpy array and normalize\n",
        "    img_array = np.array(img).astype('float32') / 255\n",
        "\n",
        "    # Flatten to match the network input shape (1, 784)\n",
        "    img_array = img_array.reshape(1, 28*28)\n",
        "\n",
        "    # Predict using your trained model\n",
        "    predictions = network.predict(img_array)\n",
        "    predicted_class = np.argmax(predictions)\n",
        "\n",
        "    print(f\"Uploaded image: {filename}\")\n",
        "    print(\"Predicted digit:\", predicted_class)\n"
      ],
      "metadata": {
        "colab": {
          "base_uri": "https://localhost:8080/",
          "height": 122
        },
        "id": "Auu_Sq_3TZX5",
        "outputId": "e7984df4-4ada-4f41-917d-71bf27a83b01"
      },
      "execution_count": 127,
      "outputs": [
        {
          "output_type": "display_data",
          "data": {
            "text/plain": [
              "<IPython.core.display.HTML object>"
            ],
            "text/html": [
              "\n",
              "     <input type=\"file\" id=\"files-6a05424f-c612-43c8-9a9e-a8c78a1e99b2\" name=\"files[]\" multiple disabled\n",
              "        style=\"border:none\" />\n",
              "     <output id=\"result-6a05424f-c612-43c8-9a9e-a8c78a1e99b2\">\n",
              "      Upload widget is only available when the cell has been executed in the\n",
              "      current browser session. Please rerun this cell to enable.\n",
              "      </output>\n",
              "      <script>// Copyright 2017 Google LLC\n",
              "//\n",
              "// Licensed under the Apache License, Version 2.0 (the \"License\");\n",
              "// you may not use this file except in compliance with the License.\n",
              "// You may obtain a copy of the License at\n",
              "//\n",
              "//      http://www.apache.org/licenses/LICENSE-2.0\n",
              "//\n",
              "// Unless required by applicable law or agreed to in writing, software\n",
              "// distributed under the License is distributed on an \"AS IS\" BASIS,\n",
              "// WITHOUT WARRANTIES OR CONDITIONS OF ANY KIND, either express or implied.\n",
              "// See the License for the specific language governing permissions and\n",
              "// limitations under the License.\n",
              "\n",
              "/**\n",
              " * @fileoverview Helpers for google.colab Python module.\n",
              " */\n",
              "(function(scope) {\n",
              "function span(text, styleAttributes = {}) {\n",
              "  const element = document.createElement('span');\n",
              "  element.textContent = text;\n",
              "  for (const key of Object.keys(styleAttributes)) {\n",
              "    element.style[key] = styleAttributes[key];\n",
              "  }\n",
              "  return element;\n",
              "}\n",
              "\n",
              "// Max number of bytes which will be uploaded at a time.\n",
              "const MAX_PAYLOAD_SIZE = 100 * 1024;\n",
              "\n",
              "function _uploadFiles(inputId, outputId) {\n",
              "  const steps = uploadFilesStep(inputId, outputId);\n",
              "  const outputElement = document.getElementById(outputId);\n",
              "  // Cache steps on the outputElement to make it available for the next call\n",
              "  // to uploadFilesContinue from Python.\n",
              "  outputElement.steps = steps;\n",
              "\n",
              "  return _uploadFilesContinue(outputId);\n",
              "}\n",
              "\n",
              "// This is roughly an async generator (not supported in the browser yet),\n",
              "// where there are multiple asynchronous steps and the Python side is going\n",
              "// to poll for completion of each step.\n",
              "// This uses a Promise to block the python side on completion of each step,\n",
              "// then passes the result of the previous step as the input to the next step.\n",
              "function _uploadFilesContinue(outputId) {\n",
              "  const outputElement = document.getElementById(outputId);\n",
              "  const steps = outputElement.steps;\n",
              "\n",
              "  const next = steps.next(outputElement.lastPromiseValue);\n",
              "  return Promise.resolve(next.value.promise).then((value) => {\n",
              "    // Cache the last promise value to make it available to the next\n",
              "    // step of the generator.\n",
              "    outputElement.lastPromiseValue = value;\n",
              "    return next.value.response;\n",
              "  });\n",
              "}\n",
              "\n",
              "/**\n",
              " * Generator function which is called between each async step of the upload\n",
              " * process.\n",
              " * @param {string} inputId Element ID of the input file picker element.\n",
              " * @param {string} outputId Element ID of the output display.\n",
              " * @return {!Iterable<!Object>} Iterable of next steps.\n",
              " */\n",
              "function* uploadFilesStep(inputId, outputId) {\n",
              "  const inputElement = document.getElementById(inputId);\n",
              "  inputElement.disabled = false;\n",
              "\n",
              "  const outputElement = document.getElementById(outputId);\n",
              "  outputElement.innerHTML = '';\n",
              "\n",
              "  const pickedPromise = new Promise((resolve) => {\n",
              "    inputElement.addEventListener('change', (e) => {\n",
              "      resolve(e.target.files);\n",
              "    });\n",
              "  });\n",
              "\n",
              "  const cancel = document.createElement('button');\n",
              "  inputElement.parentElement.appendChild(cancel);\n",
              "  cancel.textContent = 'Cancel upload';\n",
              "  const cancelPromise = new Promise((resolve) => {\n",
              "    cancel.onclick = () => {\n",
              "      resolve(null);\n",
              "    };\n",
              "  });\n",
              "\n",
              "  // Wait for the user to pick the files.\n",
              "  const files = yield {\n",
              "    promise: Promise.race([pickedPromise, cancelPromise]),\n",
              "    response: {\n",
              "      action: 'starting',\n",
              "    }\n",
              "  };\n",
              "\n",
              "  cancel.remove();\n",
              "\n",
              "  // Disable the input element since further picks are not allowed.\n",
              "  inputElement.disabled = true;\n",
              "\n",
              "  if (!files) {\n",
              "    return {\n",
              "      response: {\n",
              "        action: 'complete',\n",
              "      }\n",
              "    };\n",
              "  }\n",
              "\n",
              "  for (const file of files) {\n",
              "    const li = document.createElement('li');\n",
              "    li.append(span(file.name, {fontWeight: 'bold'}));\n",
              "    li.append(span(\n",
              "        `(${file.type || 'n/a'}) - ${file.size} bytes, ` +\n",
              "        `last modified: ${\n",
              "            file.lastModifiedDate ? file.lastModifiedDate.toLocaleDateString() :\n",
              "                                    'n/a'} - `));\n",
              "    const percent = span('0% done');\n",
              "    li.appendChild(percent);\n",
              "\n",
              "    outputElement.appendChild(li);\n",
              "\n",
              "    const fileDataPromise = new Promise((resolve) => {\n",
              "      const reader = new FileReader();\n",
              "      reader.onload = (e) => {\n",
              "        resolve(e.target.result);\n",
              "      };\n",
              "      reader.readAsArrayBuffer(file);\n",
              "    });\n",
              "    // Wait for the data to be ready.\n",
              "    let fileData = yield {\n",
              "      promise: fileDataPromise,\n",
              "      response: {\n",
              "        action: 'continue',\n",
              "      }\n",
              "    };\n",
              "\n",
              "    // Use a chunked sending to avoid message size limits. See b/62115660.\n",
              "    let position = 0;\n",
              "    do {\n",
              "      const length = Math.min(fileData.byteLength - position, MAX_PAYLOAD_SIZE);\n",
              "      const chunk = new Uint8Array(fileData, position, length);\n",
              "      position += length;\n",
              "\n",
              "      const base64 = btoa(String.fromCharCode.apply(null, chunk));\n",
              "      yield {\n",
              "        response: {\n",
              "          action: 'append',\n",
              "          file: file.name,\n",
              "          data: base64,\n",
              "        },\n",
              "      };\n",
              "\n",
              "      let percentDone = fileData.byteLength === 0 ?\n",
              "          100 :\n",
              "          Math.round((position / fileData.byteLength) * 100);\n",
              "      percent.textContent = `${percentDone}% done`;\n",
              "\n",
              "    } while (position < fileData.byteLength);\n",
              "  }\n",
              "\n",
              "  // All done.\n",
              "  yield {\n",
              "    response: {\n",
              "      action: 'complete',\n",
              "    }\n",
              "  };\n",
              "}\n",
              "\n",
              "scope.google = scope.google || {};\n",
              "scope.google.colab = scope.google.colab || {};\n",
              "scope.google.colab._files = {\n",
              "  _uploadFiles,\n",
              "  _uploadFilesContinue,\n",
              "};\n",
              "})(self);\n",
              "</script> "
            ]
          },
          "metadata": {}
        },
        {
          "output_type": "stream",
          "name": "stdout",
          "text": [
            "Saving test on image of 7.png to test on image of 7 (1).png\n",
            "\u001b[1m1/1\u001b[0m \u001b[32m━━━━━━━━━━━━━━━━━━━━\u001b[0m\u001b[37m\u001b[0m \u001b[1m0s\u001b[0m 60ms/step\n"
          ]
        },
        {
          "output_type": "display_data",
          "data": {
            "text/plain": [
              "Uploaded image: test on image of \u001b[1;36m7\u001b[0m \u001b[1m(\u001b[0m\u001b[1;36m1\u001b[0m\u001b[1m)\u001b[0m.png\n"
            ],
            "text/html": [
              "<pre style=\"white-space:pre;overflow-x:auto;line-height:normal;font-family:Menlo,'DejaVu Sans Mono',consolas,'Courier New',monospace\">Uploaded image: test on image of <span style=\"color: #008080; text-decoration-color: #008080; font-weight: bold\">7</span> <span style=\"font-weight: bold\">(</span><span style=\"color: #008080; text-decoration-color: #008080; font-weight: bold\">1</span><span style=\"font-weight: bold\">)</span>.png\n",
              "</pre>\n"
            ]
          },
          "metadata": {}
        },
        {
          "output_type": "display_data",
          "data": {
            "text/plain": [
              "Predicted digit: \u001b[1;36m7\u001b[0m\n"
            ],
            "text/html": [
              "<pre style=\"white-space:pre;overflow-x:auto;line-height:normal;font-family:Menlo,'DejaVu Sans Mono',consolas,'Courier New',monospace\">Predicted digit: <span style=\"color: #008080; text-decoration-color: #008080; font-weight: bold\">7</span>\n",
              "</pre>\n"
            ]
          },
          "metadata": {}
        }
      ]
    },
    {
      "cell_type": "markdown",
      "source": [
        "**Save Model (Optional for future use)**"
      ],
      "metadata": {
        "id": "PcV_Mb-1T8-6"
      }
    },
    {
      "cell_type": "code",
      "source": [
        "network.save(\"mnist_model.keras\")\n",
        "print(\"Model saved as mnist_model.keras\")"
      ],
      "metadata": {
        "colab": {
          "base_uri": "https://localhost:8080/",
          "height": 33
        },
        "id": "p3MY_jJwT-pp",
        "outputId": "eba5c07e-fb3f-4f20-eb67-abcf6be16bae"
      },
      "execution_count": 128,
      "outputs": [
        {
          "output_type": "display_data",
          "data": {
            "text/plain": [
              "Model saved as mnist_model.keras\n"
            ],
            "text/html": [
              "<pre style=\"white-space:pre;overflow-x:auto;line-height:normal;font-family:Menlo,'DejaVu Sans Mono',consolas,'Courier New',monospace\">Model saved as mnist_model.keras\n",
              "</pre>\n"
            ]
          },
          "metadata": {}
        }
      ]
    },
    {
      "cell_type": "markdown",
      "source": [
        "**Load Model**"
      ],
      "metadata": {
        "id": "soGxgJB6WOFB"
      }
    },
    {
      "cell_type": "code",
      "source": [
        "from keras.models import load_model\n",
        "\n",
        "# Load the saved model\n",
        "network = load_model(\"mnist_model.keras\")  # or \"mnist_model.h5\n",
        "print(\"Model loaded successfully\")"
      ],
      "metadata": {
        "colab": {
          "base_uri": "https://localhost:8080/",
          "height": 33
        },
        "id": "xz54NME2UCWZ",
        "outputId": "06131da4-b51d-44e9-ab75-0e23aaeaa570"
      },
      "execution_count": 129,
      "outputs": [
        {
          "output_type": "display_data",
          "data": {
            "text/plain": [
              "Model loaded successfully\n"
            ],
            "text/html": [
              "<pre style=\"white-space:pre;overflow-x:auto;line-height:normal;font-family:Menlo,'DejaVu Sans Mono',consolas,'Courier New',monospace\">Model loaded successfully\n",
              "</pre>\n"
            ]
          },
          "metadata": {}
        }
      ]
    },
    {
      "cell_type": "markdown",
      "source": [
        "**Predict using loaded model**"
      ],
      "metadata": {
        "id": "oMjbt1XrWQwR"
      }
    },
    {
      "cell_type": "code",
      "source": [
        "predictions = network.predict(img_array)\n",
        "predicted_class = np.argmax(predictions)\n",
        "print(\"Predicted digit:\", predicted_class)"
      ],
      "metadata": {
        "colab": {
          "base_uri": "https://localhost:8080/",
          "height": 50
        },
        "id": "nyjgI6_cUP57",
        "outputId": "d0214de9-dd5d-476c-e9e7-eba3824af3c0"
      },
      "execution_count": 130,
      "outputs": [
        {
          "output_type": "stream",
          "name": "stdout",
          "text": [
            "\u001b[1m1/1\u001b[0m \u001b[32m━━━━━━━━━━━━━━━━━━━━\u001b[0m\u001b[37m\u001b[0m \u001b[1m0s\u001b[0m 65ms/step\n"
          ]
        },
        {
          "output_type": "display_data",
          "data": {
            "text/plain": [
              "Predicted digit: \u001b[1;36m7\u001b[0m\n"
            ],
            "text/html": [
              "<pre style=\"white-space:pre;overflow-x:auto;line-height:normal;font-family:Menlo,'DejaVu Sans Mono',consolas,'Courier New',monospace\">Predicted digit: <span style=\"color: #008080; text-decoration-color: #008080; font-weight: bold\">7</span>\n",
              "</pre>\n"
            ]
          },
          "metadata": {}
        }
      ]
    }
  ]
}