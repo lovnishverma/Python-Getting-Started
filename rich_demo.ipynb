{
  "cells": [
    {
      "cell_type": "markdown",
      "metadata": {
        "id": "hYuZ7qpY7oc-"
      },
      "source": [
        "# 🎨 Rich Library Complete Demo\n",
        "This comprehensive notebook showcases the power of the [Rich](https://github.com/Textualize/rich) library for creating stunning console output in Python.\n",
        "\n",
        "✨ **Features covered:**\n",
        "- Styled text and colors\n",
        "- Beautiful tables with various styles\n",
        "- Progress bars and spinners\n",
        "- Markdown rendering\n",
        "- Enhanced tracebacks\n",
        "- Panels and layouts\n",
        "- Syntax highlighting\n",
        "- JSON pretty printing\n",
        "- Live displays\n",
        "- Status indicators\n",
        "\n",
        "👉 Run each cell to see the magic happen in your console!"
      ]
    },
    {
      "cell_type": "code",
      "execution_count": 1,
      "metadata": {
        "colab": {
          "base_uri": "https://localhost:8080/"
        },
        "id": "Zb0-a9yL7oc_",
        "outputId": "718cbb4a-ed67-4274-c749-91784a34769c"
      },
      "outputs": [
        {
          "output_type": "stream",
          "name": "stdout",
          "text": [
            "Requirement already satisfied: rich[jupyter] in /usr/local/lib/python3.12/dist-packages (13.9.4)\n",
            "Requirement already satisfied: ipywidgets<9,>=7.5.1 in /usr/local/lib/python3.12/dist-packages (from rich[jupyter]) (7.7.1)\n",
            "Requirement already satisfied: markdown-it-py>=2.2.0 in /usr/local/lib/python3.12/dist-packages (from rich[jupyter]) (4.0.0)\n",
            "Requirement already satisfied: pygments<3.0.0,>=2.13.0 in /usr/local/lib/python3.12/dist-packages (from rich[jupyter]) (2.19.2)\n",
            "Requirement already satisfied: ipykernel>=4.5.1 in /usr/local/lib/python3.12/dist-packages (from ipywidgets<9,>=7.5.1->rich[jupyter]) (6.17.1)\n",
            "Requirement already satisfied: ipython-genutils~=0.2.0 in /usr/local/lib/python3.12/dist-packages (from ipywidgets<9,>=7.5.1->rich[jupyter]) (0.2.0)\n",
            "Requirement already satisfied: traitlets>=4.3.1 in /usr/local/lib/python3.12/dist-packages (from ipywidgets<9,>=7.5.1->rich[jupyter]) (5.7.1)\n",
            "Requirement already satisfied: widgetsnbextension~=3.6.0 in /usr/local/lib/python3.12/dist-packages (from ipywidgets<9,>=7.5.1->rich[jupyter]) (3.6.10)\n",
            "Requirement already satisfied: ipython>=4.0.0 in /usr/local/lib/python3.12/dist-packages (from ipywidgets<9,>=7.5.1->rich[jupyter]) (7.34.0)\n",
            "Requirement already satisfied: jupyterlab-widgets>=1.0.0 in /usr/local/lib/python3.12/dist-packages (from ipywidgets<9,>=7.5.1->rich[jupyter]) (3.0.15)\n",
            "Requirement already satisfied: mdurl~=0.1 in /usr/local/lib/python3.12/dist-packages (from markdown-it-py>=2.2.0->rich[jupyter]) (0.1.2)\n",
            "Requirement already satisfied: debugpy>=1.0 in /usr/local/lib/python3.12/dist-packages (from ipykernel>=4.5.1->ipywidgets<9,>=7.5.1->rich[jupyter]) (1.8.15)\n",
            "Requirement already satisfied: jupyter-client>=6.1.12 in /usr/local/lib/python3.12/dist-packages (from ipykernel>=4.5.1->ipywidgets<9,>=7.5.1->rich[jupyter]) (7.4.9)\n",
            "Requirement already satisfied: matplotlib-inline>=0.1 in /usr/local/lib/python3.12/dist-packages (from ipykernel>=4.5.1->ipywidgets<9,>=7.5.1->rich[jupyter]) (0.1.7)\n",
            "Requirement already satisfied: nest-asyncio in /usr/local/lib/python3.12/dist-packages (from ipykernel>=4.5.1->ipywidgets<9,>=7.5.1->rich[jupyter]) (1.6.0)\n",
            "Requirement already satisfied: packaging in /usr/local/lib/python3.12/dist-packages (from ipykernel>=4.5.1->ipywidgets<9,>=7.5.1->rich[jupyter]) (25.0)\n",
            "Requirement already satisfied: psutil in /usr/local/lib/python3.12/dist-packages (from ipykernel>=4.5.1->ipywidgets<9,>=7.5.1->rich[jupyter]) (5.9.5)\n",
            "Requirement already satisfied: pyzmq>=17 in /usr/local/lib/python3.12/dist-packages (from ipykernel>=4.5.1->ipywidgets<9,>=7.5.1->rich[jupyter]) (26.2.1)\n",
            "Requirement already satisfied: tornado>=6.1 in /usr/local/lib/python3.12/dist-packages (from ipykernel>=4.5.1->ipywidgets<9,>=7.5.1->rich[jupyter]) (6.4.2)\n",
            "Requirement already satisfied: setuptools>=18.5 in /usr/local/lib/python3.12/dist-packages (from ipython>=4.0.0->ipywidgets<9,>=7.5.1->rich[jupyter]) (75.2.0)\n",
            "Collecting jedi>=0.16 (from ipython>=4.0.0->ipywidgets<9,>=7.5.1->rich[jupyter])\n",
            "  Downloading jedi-0.19.2-py2.py3-none-any.whl.metadata (22 kB)\n",
            "Requirement already satisfied: decorator in /usr/local/lib/python3.12/dist-packages (from ipython>=4.0.0->ipywidgets<9,>=7.5.1->rich[jupyter]) (4.4.2)\n",
            "Requirement already satisfied: pickleshare in /usr/local/lib/python3.12/dist-packages (from ipython>=4.0.0->ipywidgets<9,>=7.5.1->rich[jupyter]) (0.7.5)\n",
            "Requirement already satisfied: prompt-toolkit!=3.0.0,!=3.0.1,<3.1.0,>=2.0.0 in /usr/local/lib/python3.12/dist-packages (from ipython>=4.0.0->ipywidgets<9,>=7.5.1->rich[jupyter]) (3.0.52)\n",
            "Requirement already satisfied: backcall in /usr/local/lib/python3.12/dist-packages (from ipython>=4.0.0->ipywidgets<9,>=7.5.1->rich[jupyter]) (0.2.0)\n",
            "Requirement already satisfied: pexpect>4.3 in /usr/local/lib/python3.12/dist-packages (from ipython>=4.0.0->ipywidgets<9,>=7.5.1->rich[jupyter]) (4.9.0)\n",
            "Requirement already satisfied: notebook>=4.4.1 in /usr/local/lib/python3.12/dist-packages (from widgetsnbextension~=3.6.0->ipywidgets<9,>=7.5.1->rich[jupyter]) (6.5.7)\n",
            "Requirement already satisfied: parso<0.9.0,>=0.8.4 in /usr/local/lib/python3.12/dist-packages (from jedi>=0.16->ipython>=4.0.0->ipywidgets<9,>=7.5.1->rich[jupyter]) (0.8.5)\n",
            "Requirement already satisfied: entrypoints in /usr/local/lib/python3.12/dist-packages (from jupyter-client>=6.1.12->ipykernel>=4.5.1->ipywidgets<9,>=7.5.1->rich[jupyter]) (0.4)\n",
            "Requirement already satisfied: jupyter-core>=4.9.2 in /usr/local/lib/python3.12/dist-packages (from jupyter-client>=6.1.12->ipykernel>=4.5.1->ipywidgets<9,>=7.5.1->rich[jupyter]) (5.8.1)\n",
            "Requirement already satisfied: python-dateutil>=2.8.2 in /usr/local/lib/python3.12/dist-packages (from jupyter-client>=6.1.12->ipykernel>=4.5.1->ipywidgets<9,>=7.5.1->rich[jupyter]) (2.9.0.post0)\n",
            "Requirement already satisfied: jinja2 in /usr/local/lib/python3.12/dist-packages (from notebook>=4.4.1->widgetsnbextension~=3.6.0->ipywidgets<9,>=7.5.1->rich[jupyter]) (3.1.6)\n",
            "Requirement already satisfied: argon2-cffi in /usr/local/lib/python3.12/dist-packages (from notebook>=4.4.1->widgetsnbextension~=3.6.0->ipywidgets<9,>=7.5.1->rich[jupyter]) (25.1.0)\n",
            "Requirement already satisfied: nbformat in /usr/local/lib/python3.12/dist-packages (from notebook>=4.4.1->widgetsnbextension~=3.6.0->ipywidgets<9,>=7.5.1->rich[jupyter]) (5.10.4)\n",
            "Requirement already satisfied: nbconvert>=5 in /usr/local/lib/python3.12/dist-packages (from notebook>=4.4.1->widgetsnbextension~=3.6.0->ipywidgets<9,>=7.5.1->rich[jupyter]) (7.16.6)\n",
            "Requirement already satisfied: Send2Trash>=1.8.0 in /usr/local/lib/python3.12/dist-packages (from notebook>=4.4.1->widgetsnbextension~=3.6.0->ipywidgets<9,>=7.5.1->rich[jupyter]) (1.8.3)\n",
            "Requirement already satisfied: terminado>=0.8.3 in /usr/local/lib/python3.12/dist-packages (from notebook>=4.4.1->widgetsnbextension~=3.6.0->ipywidgets<9,>=7.5.1->rich[jupyter]) (0.18.1)\n",
            "Requirement already satisfied: prometheus-client in /usr/local/lib/python3.12/dist-packages (from notebook>=4.4.1->widgetsnbextension~=3.6.0->ipywidgets<9,>=7.5.1->rich[jupyter]) (0.22.1)\n",
            "Requirement already satisfied: nbclassic>=0.4.7 in /usr/local/lib/python3.12/dist-packages (from notebook>=4.4.1->widgetsnbextension~=3.6.0->ipywidgets<9,>=7.5.1->rich[jupyter]) (1.3.2)\n",
            "Requirement already satisfied: ptyprocess>=0.5 in /usr/local/lib/python3.12/dist-packages (from pexpect>4.3->ipython>=4.0.0->ipywidgets<9,>=7.5.1->rich[jupyter]) (0.7.0)\n",
            "Requirement already satisfied: wcwidth in /usr/local/lib/python3.12/dist-packages (from prompt-toolkit!=3.0.0,!=3.0.1,<3.1.0,>=2.0.0->ipython>=4.0.0->ipywidgets<9,>=7.5.1->rich[jupyter]) (0.2.13)\n",
            "Requirement already satisfied: platformdirs>=2.5 in /usr/local/lib/python3.12/dist-packages (from jupyter-core>=4.9.2->jupyter-client>=6.1.12->ipykernel>=4.5.1->ipywidgets<9,>=7.5.1->rich[jupyter]) (4.4.0)\n",
            "Requirement already satisfied: notebook-shim>=0.2.3 in /usr/local/lib/python3.12/dist-packages (from nbclassic>=0.4.7->notebook>=4.4.1->widgetsnbextension~=3.6.0->ipywidgets<9,>=7.5.1->rich[jupyter]) (0.2.4)\n",
            "Requirement already satisfied: beautifulsoup4 in /usr/local/lib/python3.12/dist-packages (from nbconvert>=5->notebook>=4.4.1->widgetsnbextension~=3.6.0->ipywidgets<9,>=7.5.1->rich[jupyter]) (4.13.5)\n",
            "Requirement already satisfied: bleach!=5.0.0 in /usr/local/lib/python3.12/dist-packages (from bleach[css]!=5.0.0->nbconvert>=5->notebook>=4.4.1->widgetsnbextension~=3.6.0->ipywidgets<9,>=7.5.1->rich[jupyter]) (6.2.0)\n",
            "Requirement already satisfied: defusedxml in /usr/local/lib/python3.12/dist-packages (from nbconvert>=5->notebook>=4.4.1->widgetsnbextension~=3.6.0->ipywidgets<9,>=7.5.1->rich[jupyter]) (0.7.1)\n",
            "Requirement already satisfied: jupyterlab-pygments in /usr/local/lib/python3.12/dist-packages (from nbconvert>=5->notebook>=4.4.1->widgetsnbextension~=3.6.0->ipywidgets<9,>=7.5.1->rich[jupyter]) (0.3.0)\n",
            "Requirement already satisfied: markupsafe>=2.0 in /usr/local/lib/python3.12/dist-packages (from nbconvert>=5->notebook>=4.4.1->widgetsnbextension~=3.6.0->ipywidgets<9,>=7.5.1->rich[jupyter]) (3.0.2)\n",
            "Requirement already satisfied: mistune<4,>=2.0.3 in /usr/local/lib/python3.12/dist-packages (from nbconvert>=5->notebook>=4.4.1->widgetsnbextension~=3.6.0->ipywidgets<9,>=7.5.1->rich[jupyter]) (3.1.4)\n",
            "Requirement already satisfied: nbclient>=0.5.0 in /usr/local/lib/python3.12/dist-packages (from nbconvert>=5->notebook>=4.4.1->widgetsnbextension~=3.6.0->ipywidgets<9,>=7.5.1->rich[jupyter]) (0.10.2)\n",
            "Requirement already satisfied: pandocfilters>=1.4.1 in /usr/local/lib/python3.12/dist-packages (from nbconvert>=5->notebook>=4.4.1->widgetsnbextension~=3.6.0->ipywidgets<9,>=7.5.1->rich[jupyter]) (1.5.1)\n",
            "Requirement already satisfied: fastjsonschema>=2.15 in /usr/local/lib/python3.12/dist-packages (from nbformat->notebook>=4.4.1->widgetsnbextension~=3.6.0->ipywidgets<9,>=7.5.1->rich[jupyter]) (2.21.2)\n",
            "Requirement already satisfied: jsonschema>=2.6 in /usr/local/lib/python3.12/dist-packages (from nbformat->notebook>=4.4.1->widgetsnbextension~=3.6.0->ipywidgets<9,>=7.5.1->rich[jupyter]) (4.25.1)\n",
            "Requirement already satisfied: six>=1.5 in /usr/local/lib/python3.12/dist-packages (from python-dateutil>=2.8.2->jupyter-client>=6.1.12->ipykernel>=4.5.1->ipywidgets<9,>=7.5.1->rich[jupyter]) (1.17.0)\n",
            "Requirement already satisfied: argon2-cffi-bindings in /usr/local/lib/python3.12/dist-packages (from argon2-cffi->notebook>=4.4.1->widgetsnbextension~=3.6.0->ipywidgets<9,>=7.5.1->rich[jupyter]) (25.1.0)\n",
            "Requirement already satisfied: webencodings in /usr/local/lib/python3.12/dist-packages (from bleach!=5.0.0->bleach[css]!=5.0.0->nbconvert>=5->notebook>=4.4.1->widgetsnbextension~=3.6.0->ipywidgets<9,>=7.5.1->rich[jupyter]) (0.5.1)\n",
            "Requirement already satisfied: tinycss2<1.5,>=1.1.0 in /usr/local/lib/python3.12/dist-packages (from bleach[css]!=5.0.0->nbconvert>=5->notebook>=4.4.1->widgetsnbextension~=3.6.0->ipywidgets<9,>=7.5.1->rich[jupyter]) (1.4.0)\n",
            "Requirement already satisfied: attrs>=22.2.0 in /usr/local/lib/python3.12/dist-packages (from jsonschema>=2.6->nbformat->notebook>=4.4.1->widgetsnbextension~=3.6.0->ipywidgets<9,>=7.5.1->rich[jupyter]) (25.3.0)\n",
            "Requirement already satisfied: jsonschema-specifications>=2023.03.6 in /usr/local/lib/python3.12/dist-packages (from jsonschema>=2.6->nbformat->notebook>=4.4.1->widgetsnbextension~=3.6.0->ipywidgets<9,>=7.5.1->rich[jupyter]) (2025.4.1)\n",
            "Requirement already satisfied: referencing>=0.28.4 in /usr/local/lib/python3.12/dist-packages (from jsonschema>=2.6->nbformat->notebook>=4.4.1->widgetsnbextension~=3.6.0->ipywidgets<9,>=7.5.1->rich[jupyter]) (0.36.2)\n",
            "Requirement already satisfied: rpds-py>=0.7.1 in /usr/local/lib/python3.12/dist-packages (from jsonschema>=2.6->nbformat->notebook>=4.4.1->widgetsnbextension~=3.6.0->ipywidgets<9,>=7.5.1->rich[jupyter]) (0.27.1)\n",
            "Requirement already satisfied: jupyter-server<3,>=1.8 in /usr/local/lib/python3.12/dist-packages (from notebook-shim>=0.2.3->nbclassic>=0.4.7->notebook>=4.4.1->widgetsnbextension~=3.6.0->ipywidgets<9,>=7.5.1->rich[jupyter]) (2.14.0)\n",
            "Requirement already satisfied: cffi>=1.0.1 in /usr/local/lib/python3.12/dist-packages (from argon2-cffi-bindings->argon2-cffi->notebook>=4.4.1->widgetsnbextension~=3.6.0->ipywidgets<9,>=7.5.1->rich[jupyter]) (1.17.1)\n",
            "Requirement already satisfied: soupsieve>1.2 in /usr/local/lib/python3.12/dist-packages (from beautifulsoup4->nbconvert>=5->notebook>=4.4.1->widgetsnbextension~=3.6.0->ipywidgets<9,>=7.5.1->rich[jupyter]) (2.8)\n",
            "Requirement already satisfied: typing-extensions>=4.0.0 in /usr/local/lib/python3.12/dist-packages (from beautifulsoup4->nbconvert>=5->notebook>=4.4.1->widgetsnbextension~=3.6.0->ipywidgets<9,>=7.5.1->rich[jupyter]) (4.15.0)\n",
            "Requirement already satisfied: pycparser in /usr/local/lib/python3.12/dist-packages (from cffi>=1.0.1->argon2-cffi-bindings->argon2-cffi->notebook>=4.4.1->widgetsnbextension~=3.6.0->ipywidgets<9,>=7.5.1->rich[jupyter]) (2.22)\n",
            "Requirement already satisfied: anyio>=3.1.0 in /usr/local/lib/python3.12/dist-packages (from jupyter-server<3,>=1.8->notebook-shim>=0.2.3->nbclassic>=0.4.7->notebook>=4.4.1->widgetsnbextension~=3.6.0->ipywidgets<9,>=7.5.1->rich[jupyter]) (4.10.0)\n",
            "Requirement already satisfied: jupyter-events>=0.9.0 in /usr/local/lib/python3.12/dist-packages (from jupyter-server<3,>=1.8->notebook-shim>=0.2.3->nbclassic>=0.4.7->notebook>=4.4.1->widgetsnbextension~=3.6.0->ipywidgets<9,>=7.5.1->rich[jupyter]) (0.12.0)\n",
            "Requirement already satisfied: jupyter-server-terminals>=0.4.4 in /usr/local/lib/python3.12/dist-packages (from jupyter-server<3,>=1.8->notebook-shim>=0.2.3->nbclassic>=0.4.7->notebook>=4.4.1->widgetsnbextension~=3.6.0->ipywidgets<9,>=7.5.1->rich[jupyter]) (0.5.3)\n",
            "Requirement already satisfied: overrides>=5.0 in /usr/local/lib/python3.12/dist-packages (from jupyter-server<3,>=1.8->notebook-shim>=0.2.3->nbclassic>=0.4.7->notebook>=4.4.1->widgetsnbextension~=3.6.0->ipywidgets<9,>=7.5.1->rich[jupyter]) (7.7.0)\n",
            "Requirement already satisfied: websocket-client>=1.7 in /usr/local/lib/python3.12/dist-packages (from jupyter-server<3,>=1.8->notebook-shim>=0.2.3->nbclassic>=0.4.7->notebook>=4.4.1->widgetsnbextension~=3.6.0->ipywidgets<9,>=7.5.1->rich[jupyter]) (1.8.0)\n",
            "Requirement already satisfied: idna>=2.8 in /usr/local/lib/python3.12/dist-packages (from anyio>=3.1.0->jupyter-server<3,>=1.8->notebook-shim>=0.2.3->nbclassic>=0.4.7->notebook>=4.4.1->widgetsnbextension~=3.6.0->ipywidgets<9,>=7.5.1->rich[jupyter]) (3.10)\n",
            "Requirement already satisfied: sniffio>=1.1 in /usr/local/lib/python3.12/dist-packages (from anyio>=3.1.0->jupyter-server<3,>=1.8->notebook-shim>=0.2.3->nbclassic>=0.4.7->notebook>=4.4.1->widgetsnbextension~=3.6.0->ipywidgets<9,>=7.5.1->rich[jupyter]) (1.3.1)\n",
            "Requirement already satisfied: python-json-logger>=2.0.4 in /usr/local/lib/python3.12/dist-packages (from jupyter-events>=0.9.0->jupyter-server<3,>=1.8->notebook-shim>=0.2.3->nbclassic>=0.4.7->notebook>=4.4.1->widgetsnbextension~=3.6.0->ipywidgets<9,>=7.5.1->rich[jupyter]) (3.3.0)\n",
            "Requirement already satisfied: pyyaml>=5.3 in /usr/local/lib/python3.12/dist-packages (from jupyter-events>=0.9.0->jupyter-server<3,>=1.8->notebook-shim>=0.2.3->nbclassic>=0.4.7->notebook>=4.4.1->widgetsnbextension~=3.6.0->ipywidgets<9,>=7.5.1->rich[jupyter]) (6.0.2)\n",
            "Requirement already satisfied: rfc3339-validator in /usr/local/lib/python3.12/dist-packages (from jupyter-events>=0.9.0->jupyter-server<3,>=1.8->notebook-shim>=0.2.3->nbclassic>=0.4.7->notebook>=4.4.1->widgetsnbextension~=3.6.0->ipywidgets<9,>=7.5.1->rich[jupyter]) (0.1.4)\n",
            "Requirement already satisfied: rfc3986-validator>=0.1.1 in /usr/local/lib/python3.12/dist-packages (from jupyter-events>=0.9.0->jupyter-server<3,>=1.8->notebook-shim>=0.2.3->nbclassic>=0.4.7->notebook>=4.4.1->widgetsnbextension~=3.6.0->ipywidgets<9,>=7.5.1->rich[jupyter]) (0.1.1)\n",
            "Requirement already satisfied: fqdn in /usr/local/lib/python3.12/dist-packages (from jsonschema[format-nongpl]>=4.18.0->jupyter-events>=0.9.0->jupyter-server<3,>=1.8->notebook-shim>=0.2.3->nbclassic>=0.4.7->notebook>=4.4.1->widgetsnbextension~=3.6.0->ipywidgets<9,>=7.5.1->rich[jupyter]) (1.5.1)\n",
            "Requirement already satisfied: isoduration in /usr/local/lib/python3.12/dist-packages (from jsonschema[format-nongpl]>=4.18.0->jupyter-events>=0.9.0->jupyter-server<3,>=1.8->notebook-shim>=0.2.3->nbclassic>=0.4.7->notebook>=4.4.1->widgetsnbextension~=3.6.0->ipywidgets<9,>=7.5.1->rich[jupyter]) (20.11.0)\n",
            "Requirement already satisfied: jsonpointer>1.13 in /usr/local/lib/python3.12/dist-packages (from jsonschema[format-nongpl]>=4.18.0->jupyter-events>=0.9.0->jupyter-server<3,>=1.8->notebook-shim>=0.2.3->nbclassic>=0.4.7->notebook>=4.4.1->widgetsnbextension~=3.6.0->ipywidgets<9,>=7.5.1->rich[jupyter]) (3.0.0)\n",
            "Requirement already satisfied: rfc3987-syntax>=1.1.0 in /usr/local/lib/python3.12/dist-packages (from jsonschema[format-nongpl]>=4.18.0->jupyter-events>=0.9.0->jupyter-server<3,>=1.8->notebook-shim>=0.2.3->nbclassic>=0.4.7->notebook>=4.4.1->widgetsnbextension~=3.6.0->ipywidgets<9,>=7.5.1->rich[jupyter]) (1.1.0)\n",
            "Requirement already satisfied: uri-template in /usr/local/lib/python3.12/dist-packages (from jsonschema[format-nongpl]>=4.18.0->jupyter-events>=0.9.0->jupyter-server<3,>=1.8->notebook-shim>=0.2.3->nbclassic>=0.4.7->notebook>=4.4.1->widgetsnbextension~=3.6.0->ipywidgets<9,>=7.5.1->rich[jupyter]) (1.3.0)\n",
            "Requirement already satisfied: webcolors>=24.6.0 in /usr/local/lib/python3.12/dist-packages (from jsonschema[format-nongpl]>=4.18.0->jupyter-events>=0.9.0->jupyter-server<3,>=1.8->notebook-shim>=0.2.3->nbclassic>=0.4.7->notebook>=4.4.1->widgetsnbextension~=3.6.0->ipywidgets<9,>=7.5.1->rich[jupyter]) (24.11.1)\n",
            "Requirement already satisfied: lark>=1.2.2 in /usr/local/lib/python3.12/dist-packages (from rfc3987-syntax>=1.1.0->jsonschema[format-nongpl]>=4.18.0->jupyter-events>=0.9.0->jupyter-server<3,>=1.8->notebook-shim>=0.2.3->nbclassic>=0.4.7->notebook>=4.4.1->widgetsnbextension~=3.6.0->ipywidgets<9,>=7.5.1->rich[jupyter]) (1.2.2)\n",
            "Requirement already satisfied: arrow>=0.15.0 in /usr/local/lib/python3.12/dist-packages (from isoduration->jsonschema[format-nongpl]>=4.18.0->jupyter-events>=0.9.0->jupyter-server<3,>=1.8->notebook-shim>=0.2.3->nbclassic>=0.4.7->notebook>=4.4.1->widgetsnbextension~=3.6.0->ipywidgets<9,>=7.5.1->rich[jupyter]) (1.3.0)\n",
            "Requirement already satisfied: types-python-dateutil>=2.8.10 in /usr/local/lib/python3.12/dist-packages (from arrow>=0.15.0->isoduration->jsonschema[format-nongpl]>=4.18.0->jupyter-events>=0.9.0->jupyter-server<3,>=1.8->notebook-shim>=0.2.3->nbclassic>=0.4.7->notebook>=4.4.1->widgetsnbextension~=3.6.0->ipywidgets<9,>=7.5.1->rich[jupyter]) (2.9.0.20250822)\n",
            "Downloading jedi-0.19.2-py2.py3-none-any.whl (1.6 MB)\n",
            "\u001b[2K   \u001b[90m━━━━━━━━━━━━━━━━━━━━━━━━━━━━━━━━━━━━━━━━\u001b[0m \u001b[32m1.6/1.6 MB\u001b[0m \u001b[31m53.0 MB/s\u001b[0m eta \u001b[36m0:00:00\u001b[0m\n",
            "\u001b[?25hInstalling collected packages: jedi\n",
            "Successfully installed jedi-0.19.2\n"
          ]
        }
      ],
      "source": [
        "# Install rich with all optional dependencies\n",
        "!pip install rich[jupyter]"
      ]
    },
    {
      "cell_type": "markdown",
      "metadata": {
        "id": "-LF65Cy07odA"
      },
      "source": [
        "## 1️⃣ Advanced Styled Text & Colors"
      ]
    },
    {
      "cell_type": "code",
      "execution_count": 2,
      "metadata": {
        "colab": {
          "base_uri": "https://localhost:8080/",
          "height": 113
        },
        "id": "Az-lY7QO7odA",
        "outputId": "72e4206b-7664-4150-fd83-86d2452424d6"
      },
      "outputs": [
        {
          "output_type": "display_data",
          "data": {
            "text/plain": [
              "\u001b[1;35mHello, LinkedIn!\u001b[0m \u001b[32mThis is rich!\u001b[0m\n"
            ],
            "text/html": [
              "<pre style=\"white-space:pre;overflow-x:auto;line-height:normal;font-family:Menlo,'DejaVu Sans Mono',consolas,'Courier New',monospace\"><span style=\"color: #800080; text-decoration-color: #800080; font-weight: bold\">Hello, LinkedIn!</span> <span style=\"color: #008000; text-decoration-color: #008000\">This is rich!</span>\n",
              "</pre>\n"
            ]
          },
          "metadata": {}
        },
        {
          "output_type": "display_data",
          "data": {
            "text/plain": [
              "\u001b[33;44mText with background color\u001b[0m\n"
            ],
            "text/html": [
              "<pre style=\"white-space:pre;overflow-x:auto;line-height:normal;font-family:Menlo,'DejaVu Sans Mono',consolas,'Courier New',monospace\"><span style=\"color: #808000; text-decoration-color: #808000; background-color: #000080\">Text with background color</span>\n",
              "</pre>\n"
            ]
          },
          "metadata": {}
        },
        {
          "output_type": "display_data",
          "data": {
            "text/plain": [
              "\u001b[4;31mUnderlined red text\u001b[0m\n"
            ],
            "text/html": [
              "<pre style=\"white-space:pre;overflow-x:auto;line-height:normal;font-family:Menlo,'DejaVu Sans Mono',consolas,'Courier New',monospace\"><span style=\"color: #800000; text-decoration-color: #800000; text-decoration: underline\">Underlined red text</span>\n",
              "</pre>\n"
            ]
          },
          "metadata": {}
        },
        {
          "output_type": "display_data",
          "data": {
            "text/plain": [
              "\u001b[5mBlinking text\u001b[0m \u001b[9mStrikethrough\u001b[0m\n"
            ],
            "text/html": [
              "<pre style=\"white-space:pre;overflow-x:auto;line-height:normal;font-family:Menlo,'DejaVu Sans Mono',consolas,'Courier New',monospace\">Blinking text <span style=\"text-decoration: line-through\">Strikethrough</span>\n",
              "</pre>\n"
            ]
          },
          "metadata": {}
        },
        {
          "output_type": "display_data",
          "data": {
            "text/plain": [
              "\u001b[1;35mRainbow\u001b[0m \u001b[1;36mText\u001b[0m!\n"
            ],
            "text/html": [
              "<pre style=\"white-space:pre;overflow-x:auto;line-height:normal;font-family:Menlo,'DejaVu Sans Mono',consolas,'Courier New',monospace\"><span style=\"color: #800080; text-decoration-color: #800080; font-weight: bold\">Rainbow</span> <span style=\"color: #008080; text-decoration-color: #008080; font-weight: bold\">Text</span>!\n",
              "</pre>\n"
            ]
          },
          "metadata": {}
        },
        {
          "output_type": "display_data",
          "data": {
            "text/plain": [
              "\u001b[38;2;255;100;0mG\u001b[0m\u001b[38;2;240;110;20mr\u001b[0m\u001b[38;2;225;120;40ma\u001b[0m\u001b[38;2;210;130;60md\u001b[0m\u001b[38;2;195;140;80mi\u001b[0m\u001b[38;2;180;150;100me\u001b[0m\u001b[38;2;165;160;120mn\u001b[0m\u001b[38;2;150;170;140mt\u001b[0m\u001b[38;2;135;180;160m \u001b[0m\u001b[38;2;120;190;180mE\u001b[0m\u001b[38;2;105;200;200mf\u001b[0m\u001b[38;2;90;210;220mf\u001b[0m\u001b[38;2;75;220;240me\u001b[0mct\n"
            ],
            "text/html": [
              "<pre style=\"white-space:pre;overflow-x:auto;line-height:normal;font-family:Menlo,'DejaVu Sans Mono',consolas,'Courier New',monospace\"><span style=\"color: #ff6400; text-decoration-color: #ff6400\">G</span><span style=\"color: #f06e14; text-decoration-color: #f06e14\">r</span><span style=\"color: #e17828; text-decoration-color: #e17828\">a</span><span style=\"color: #d2823c; text-decoration-color: #d2823c\">d</span><span style=\"color: #c38c50; text-decoration-color: #c38c50\">i</span><span style=\"color: #b49664; text-decoration-color: #b49664\">e</span><span style=\"color: #a5a078; text-decoration-color: #a5a078\">n</span><span style=\"color: #96aa8c; text-decoration-color: #96aa8c\">t</span><span style=\"color: #87b4a0; text-decoration-color: #87b4a0\"> </span><span style=\"color: #78beb4; text-decoration-color: #78beb4\">E</span><span style=\"color: #69c8c8; text-decoration-color: #69c8c8\">f</span><span style=\"color: #5ad2dc; text-decoration-color: #5ad2dc\">f</span><span style=\"color: #4bdcf0; text-decoration-color: #4bdcf0\">e</span>ct\n",
              "</pre>\n"
            ]
          },
          "metadata": {}
        }
      ],
      "source": [
        "from rich import print\n",
        "from rich.text import Text\n",
        "from rich.console import Console\n",
        "\n",
        "console = Console()\n",
        "\n",
        "# Basic styling\n",
        "print(\"[bold magenta]Hello, LinkedIn![/bold magenta] [green]This is rich![/green]\")\n",
        "print(\"[yellow on blue]Text with background color[/yellow on blue]\")\n",
        "print(\"[underline red]Underlined red text[/underline red]\")\n",
        "print(\"[blink]Blinking text[/blink] [strike]Strikethrough[/strike]\")\n",
        "\n",
        "# Advanced text object\n",
        "text = Text(\"Rainbow Text!\")\n",
        "text.stylize(\"bold magenta\", 0, 7)\n",
        "text.stylize(\"bold cyan\", 8, 12)\n",
        "console.print(text)\n",
        "\n",
        "# Gradient text\n",
        "from rich.color import Color\n",
        "gradient_text = Text(\"Gradient Effect\")\n",
        "for i, char in enumerate(gradient_text.plain):\n",
        "    gradient_text.stylize(f\"rgb({255-i*15},{100+i*10},{i*20})\", i, i+1)\n",
        "console.print(gradient_text)"
      ]
    },
    {
      "cell_type": "markdown",
      "metadata": {
        "id": "2n2zN-xC7odA"
      },
      "source": [
        "## 2️⃣ Advanced Tables with Multiple Styles"
      ]
    },
    {
      "cell_type": "code",
      "execution_count": 3,
      "metadata": {
        "colab": {
          "base_uri": "https://localhost:8080/",
          "height": 345
        },
        "id": "2JydFJSQ7odA",
        "outputId": "59f25b13-70db-4501-9713-9cb0aa49dffc"
      },
      "outputs": [
        {
          "output_type": "display_data",
          "data": {
            "text/plain": [
              "\u001b[3m   🚀 Top Programming Languages 2024   \u001b[0m\n",
              "╭──────┬────────────┬─────────┬───────╮\n",
              "│\u001b[1m \u001b[0m\u001b[1mRank\u001b[0m\u001b[1m \u001b[0m│\u001b[1m \u001b[0m\u001b[1mLanguage  \u001b[0m\u001b[1m \u001b[0m│\u001b[1m \u001b[0m\u001b[1mUsage %\u001b[0m\u001b[1m \u001b[0m│\u001b[1m \u001b[0m\u001b[1mTrend\u001b[0m\u001b[1m \u001b[0m│\n",
              "├──────┼────────────┼─────────┼───────┤\n",
              "│\u001b[36m \u001b[0m\u001b[36m 1  \u001b[0m\u001b[36m \u001b[0m│\u001b[35m \u001b[0m\u001b[35mPython    \u001b[0m\u001b[35m \u001b[0m│\u001b[32m \u001b[0m\u001b[32m  29.9%\u001b[0m\u001b[32m \u001b[0m│  📈   │\n",
              "│\u001b[36m \u001b[0m\u001b[36m 2  \u001b[0m\u001b[36m \u001b[0m│\u001b[35m \u001b[0m\u001b[35mJavaScript\u001b[0m\u001b[35m \u001b[0m│\u001b[32m \u001b[0m\u001b[32m  19.1%\u001b[0m\u001b[32m \u001b[0m│  📊   │\n",
              "│\u001b[36m \u001b[0m\u001b[36m 3  \u001b[0m\u001b[36m \u001b[0m│\u001b[35m \u001b[0m\u001b[35mJava      \u001b[0m\u001b[35m \u001b[0m│\u001b[32m \u001b[0m\u001b[32m  16.3%\u001b[0m\u001b[32m \u001b[0m│  📉   │\n",
              "│\u001b[36m \u001b[0m\u001b[36m 4  \u001b[0m\u001b[36m \u001b[0m│\u001b[35m \u001b[0m\u001b[35mTypeScript\u001b[0m\u001b[35m \u001b[0m│\u001b[32m \u001b[0m\u001b[32m  12.7%\u001b[0m\u001b[32m \u001b[0m│  🚀   │\n",
              "│\u001b[36m \u001b[0m\u001b[36m 5  \u001b[0m\u001b[36m \u001b[0m│\u001b[35m \u001b[0m\u001b[35mC#        \u001b[0m\u001b[35m \u001b[0m│\u001b[32m \u001b[0m\u001b[32m  10.5%\u001b[0m\u001b[32m \u001b[0m│  📈   │\n",
              "╰──────┴────────────┴─────────┴───────╯\n"
            ],
            "text/html": [
              "<pre style=\"white-space:pre;overflow-x:auto;line-height:normal;font-family:Menlo,'DejaVu Sans Mono',consolas,'Courier New',monospace\"><span style=\"font-style: italic\">   🚀 Top Programming Languages 2024   </span>\n",
              "╭──────┬────────────┬─────────┬───────╮\n",
              "│<span style=\"font-weight: bold\"> Rank </span>│<span style=\"font-weight: bold\"> Language   </span>│<span style=\"font-weight: bold\"> Usage % </span>│<span style=\"font-weight: bold\"> Trend </span>│\n",
              "├──────┼────────────┼─────────┼───────┤\n",
              "│<span style=\"color: #008080; text-decoration-color: #008080\">  1   </span>│<span style=\"color: #800080; text-decoration-color: #800080\"> Python     </span>│<span style=\"color: #008000; text-decoration-color: #008000\">   29.9% </span>│  📈   │\n",
              "│<span style=\"color: #008080; text-decoration-color: #008080\">  2   </span>│<span style=\"color: #800080; text-decoration-color: #800080\"> JavaScript </span>│<span style=\"color: #008000; text-decoration-color: #008000\">   19.1% </span>│  📊   │\n",
              "│<span style=\"color: #008080; text-decoration-color: #008080\">  3   </span>│<span style=\"color: #800080; text-decoration-color: #800080\"> Java       </span>│<span style=\"color: #008000; text-decoration-color: #008000\">   16.3% </span>│  📉   │\n",
              "│<span style=\"color: #008080; text-decoration-color: #008080\">  4   </span>│<span style=\"color: #800080; text-decoration-color: #800080\"> TypeScript </span>│<span style=\"color: #008000; text-decoration-color: #008000\">   12.7% </span>│  🚀   │\n",
              "│<span style=\"color: #008080; text-decoration-color: #008080\">  5   </span>│<span style=\"color: #800080; text-decoration-color: #800080\"> C#         </span>│<span style=\"color: #008000; text-decoration-color: #008000\">   10.5% </span>│  📈   │\n",
              "╰──────┴────────────┴─────────┴───────╯\n",
              "</pre>\n"
            ]
          },
          "metadata": {}
        },
        {
          "output_type": "display_data",
          "data": {
            "text/plain": [
              "\n"
            ],
            "text/html": [
              "<pre style=\"white-space:pre;overflow-x:auto;line-height:normal;font-family:Menlo,'DejaVu Sans Mono',consolas,'Courier New',monospace\">\n",
              "</pre>\n"
            ]
          },
          "metadata": {}
        },
        {
          "output_type": "display_data",
          "data": {
            "text/plain": [
              "\u001b[3m           ⚡ System Performance            \u001b[0m\n",
              "╔══════════════╤═════════╤════════╤════════╗\n",
              "║\u001b[1;34m \u001b[0m\u001b[1;34mMetric      \u001b[0m\u001b[1;34m \u001b[0m│\u001b[1;34m \u001b[0m\u001b[1;34mCurrent\u001b[0m\u001b[1;34m \u001b[0m│\u001b[1;34m \u001b[0m\u001b[1;34mTarget\u001b[0m\u001b[1;34m \u001b[0m│\u001b[1;34m \u001b[0m\u001b[1;34mStatus\u001b[0m\u001b[1;34m \u001b[0m║\n",
              "╟──────────────┼─────────┼────────┼────────╢\n",
              "║\u001b[2m \u001b[0m\u001b[2mCPU Usage   \u001b[0m\u001b[2m \u001b[0m│\u001b[32m \u001b[0m\u001b[32m    23%\u001b[0m\u001b[32m \u001b[0m│\u001b[33m \u001b[0m\u001b[33m < 80%\u001b[0m\u001b[33m \u001b[0m│   ✅   ║\n",
              "║\u001b[2m \u001b[0m\u001b[2mMemory      \u001b[0m\u001b[2m \u001b[0m│\u001b[32m \u001b[0m\u001b[32m    67%\u001b[0m\u001b[32m \u001b[0m│\u001b[33m \u001b[0m\u001b[33m < 90%\u001b[0m\u001b[33m \u001b[0m│   ✅   ║\n",
              "║\u001b[2m \u001b[0m\u001b[2mDisk I/O    \u001b[0m\u001b[2m \u001b[0m│\u001b[32m \u001b[0m\u001b[32m    95%\u001b[0m\u001b[32m \u001b[0m│\u001b[33m \u001b[0m\u001b[33m < 85%\u001b[0m\u001b[33m \u001b[0m│   ⚠️    ║\n",
              "║\u001b[2m \u001b[0m\u001b[2mNetwork     \u001b[0m\u001b[2m \u001b[0m│\u001b[32m \u001b[0m\u001b[32m    12%\u001b[0m\u001b[32m \u001b[0m│\u001b[33m \u001b[0m\u001b[33m < 70%\u001b[0m\u001b[33m \u001b[0m│   ✅   ║\n",
              "╚══════════════╧═════════╧════════╧════════╝\n"
            ],
            "text/html": [
              "<pre style=\"white-space:pre;overflow-x:auto;line-height:normal;font-family:Menlo,'DejaVu Sans Mono',consolas,'Courier New',monospace\"><span style=\"font-style: italic\">           ⚡ System Performance            </span>\n",
              "╔══════════════╤═════════╤════════╤════════╗\n",
              "║<span style=\"color: #000080; text-decoration-color: #000080; font-weight: bold\"> Metric       </span>│<span style=\"color: #000080; text-decoration-color: #000080; font-weight: bold\"> Current </span>│<span style=\"color: #000080; text-decoration-color: #000080; font-weight: bold\"> Target </span>│<span style=\"color: #000080; text-decoration-color: #000080; font-weight: bold\"> Status </span>║\n",
              "╟──────────────┼─────────┼────────┼────────╢\n",
              "║<span style=\"color: #7f7f7f; text-decoration-color: #7f7f7f\"> CPU Usage    </span>│<span style=\"color: #008000; text-decoration-color: #008000\">     23% </span>│<span style=\"color: #808000; text-decoration-color: #808000\">  &lt; 80% </span>│   ✅   ║\n",
              "║<span style=\"color: #7f7f7f; text-decoration-color: #7f7f7f\"> Memory       </span>│<span style=\"color: #008000; text-decoration-color: #008000\">     67% </span>│<span style=\"color: #808000; text-decoration-color: #808000\">  &lt; 90% </span>│   ✅   ║\n",
              "║<span style=\"color: #7f7f7f; text-decoration-color: #7f7f7f\"> Disk I/O     </span>│<span style=\"color: #008000; text-decoration-color: #008000\">     95% </span>│<span style=\"color: #808000; text-decoration-color: #808000\">  &lt; 85% </span>│   ⚠️    ║\n",
              "║<span style=\"color: #7f7f7f; text-decoration-color: #7f7f7f\"> Network      </span>│<span style=\"color: #008000; text-decoration-color: #008000\">     12% </span>│<span style=\"color: #808000; text-decoration-color: #808000\">  &lt; 70% </span>│   ✅   ║\n",
              "╚══════════════╧═════════╧════════╧════════╝\n",
              "</pre>\n"
            ]
          },
          "metadata": {}
        }
      ],
      "source": [
        "from rich.console import Console\n",
        "from rich.table import Table, Column\n",
        "from rich import box\n",
        "\n",
        "console = Console()\n",
        "\n",
        "# Table 1: Programming languages with custom styling\n",
        "table1 = Table(title=\"🚀 Top Programming Languages 2024\", box=box.ROUNDED)\n",
        "\n",
        "table1.add_column(\"Rank\", justify=\"center\", style=\"cyan\", no_wrap=True)\n",
        "table1.add_column(\"Language\", style=\"magenta\")\n",
        "table1.add_column(\"Usage %\", justify=\"right\", style=\"green\")\n",
        "table1.add_column(\"Trend\", justify=\"center\")\n",
        "\n",
        "table1.add_row(\"1\", \"Python\", \"29.9%\", \"📈\")\n",
        "table1.add_row(\"2\", \"JavaScript\", \"19.1%\", \"📊\")\n",
        "table1.add_row(\"3\", \"Java\", \"16.3%\", \"📉\")\n",
        "table1.add_row(\"4\", \"TypeScript\", \"12.7%\", \"🚀\")\n",
        "table1.add_row(\"5\", \"C#\", \"10.5%\", \"📈\")\n",
        "\n",
        "console.print(table1)\n",
        "print()\n",
        "\n",
        "# Table 2: Performance metrics with different box style\n",
        "table2 = Table(title=\"⚡ System Performance\", box=box.DOUBLE_EDGE, show_header=True, header_style=\"bold blue\")\n",
        "\n",
        "table2.add_column(\"Metric\", style=\"dim\", width=12)\n",
        "table2.add_column(\"Current\", justify=\"right\", style=\"green\")\n",
        "table2.add_column(\"Target\", justify=\"right\", style=\"yellow\")\n",
        "table2.add_column(\"Status\", justify=\"center\")\n",
        "\n",
        "table2.add_row(\"CPU Usage\", \"23%\", \"< 80%\", \"✅\")\n",
        "table2.add_row(\"Memory\", \"67%\", \"< 90%\", \"✅\")\n",
        "table2.add_row(\"Disk I/O\", \"95%\", \"< 85%\", \"⚠️\")\n",
        "table2.add_row(\"Network\", \"12%\", \"< 70%\", \"✅\")\n",
        "\n",
        "console.print(table2)"
      ]
    },
    {
      "cell_type": "markdown",
      "metadata": {
        "id": "L8KpAdTZ7odB"
      },
      "source": [
        "## 3️⃣ Advanced Progress Bars & Spinners"
      ]
    },
    {
      "cell_type": "code",
      "execution_count": 4,
      "metadata": {
        "colab": {
          "base_uri": "https://localhost:8080/",
          "height": 83,
          "referenced_widgets": [
            "292e5e63ff114e8e93fd30387367bb2f",
            "de794bd4471548c1905816a82d7c6241",
            "fbc0546e9d6f46ea975a9a3def9b87bb",
            "3b88b1b8625c43aa958b909c2df6266d"
          ]
        },
        "id": "misTCK5q7odB",
        "outputId": "15f162ba-cb74-49ad-f516-3ec3845703b2"
      },
      "outputs": [
        {
          "output_type": "display_data",
          "data": {
            "text/plain": [
              "Output()"
            ],
            "application/vnd.jupyter.widget-view+json": {
              "version_major": 2,
              "version_minor": 0,
              "model_id": "292e5e63ff114e8e93fd30387367bb2f"
            }
          },
          "metadata": {}
        },
        {
          "output_type": "display_data",
          "data": {
            "text/plain": [],
            "text/html": [
              "<pre style=\"white-space:pre;overflow-x:auto;line-height:normal;font-family:Menlo,'DejaVu Sans Mono',consolas,'Courier New',monospace\"></pre>\n"
            ]
          },
          "metadata": {}
        },
        {
          "output_type": "display_data",
          "data": {
            "text/plain": [
              "\n"
            ],
            "text/html": [
              "<pre style=\"white-space:pre;overflow-x:auto;line-height:normal;font-family:Menlo,'DejaVu Sans Mono',consolas,'Courier New',monospace\">\n",
              "</pre>\n"
            ]
          },
          "metadata": {}
        },
        {
          "output_type": "display_data",
          "data": {
            "text/plain": [
              "Output()"
            ],
            "application/vnd.jupyter.widget-view+json": {
              "version_major": 2,
              "version_minor": 0,
              "model_id": "fbc0546e9d6f46ea975a9a3def9b87bb"
            }
          },
          "metadata": {}
        },
        {
          "output_type": "display_data",
          "data": {
            "text/plain": [],
            "text/html": [
              "<pre style=\"white-space:pre;overflow-x:auto;line-height:normal;font-family:Menlo,'DejaVu Sans Mono',consolas,'Courier New',monospace\"></pre>\n"
            ]
          },
          "metadata": {}
        }
      ],
      "source": [
        "from rich.progress import Progress, SpinnerColumn, TextColumn, BarColumn, TaskProgressColumn, TimeRemainingColumn\n",
        "from rich.progress import track\n",
        "import time\n",
        "import random\n",
        "\n",
        "# Simple progress bar\n",
        "for step in track(range(20), description=\"🔄 Simple Processing...\"):\n",
        "    time.sleep(0.1)\n",
        "\n",
        "print()\n",
        "\n",
        "# Advanced progress with multiple tasks\n",
        "with Progress(\n",
        "    SpinnerColumn(),\n",
        "    TextColumn(\"[progress.description]{task.description}\"),\n",
        "    BarColumn(),\n",
        "    TaskProgressColumn(),\n",
        "    TimeRemainingColumn(),\n",
        ") as progress:\n",
        "\n",
        "    task1 = progress.add_task(\"[red]Downloading files...\", total=100)\n",
        "    task2 = progress.add_task(\"[green]Processing data...\", total=80)\n",
        "    task3 = progress.add_task(\"[cyan]Uploading results...\", total=60)\n",
        "\n",
        "    while not progress.finished:\n",
        "        progress.update(task1, advance=random.randint(1, 5))\n",
        "        progress.update(task2, advance=random.randint(1, 3))\n",
        "        progress.update(task3, advance=random.randint(1, 2))\n",
        "        time.sleep(0.1)"
      ]
    },
    {
      "cell_type": "markdown",
      "metadata": {
        "id": "4IydWkwG7odB"
      },
      "source": [
        "## 4️⃣ Enhanced Markdown & Syntax Highlighting"
      ]
    },
    {
      "cell_type": "code",
      "execution_count": 5,
      "metadata": {
        "colab": {
          "base_uri": "https://localhost:8080/",
          "height": 783
        },
        "id": "YkjzNRJV7odB",
        "outputId": "6589e752-b7d1-4c2b-8952-2cf16c3d5204"
      },
      "outputs": [
        {
          "output_type": "display_data",
          "data": {
            "text/plain": [
              "┏━━━━━━━━━━━━━━━━━━━━━━━━━━━━━━━━━━━━━━━━━━━━━━━━━━━━━━━━━━━━━━━━━━━━━━━━━━━━━━━━━━━━━━━━━━━━━━━━━━━━━━━━━━━━━━━━━┓\n",
              "┃                                            \u001b[1m🚀 Rich Library Features\u001b[0m                                             ┃\n",
              "┗━━━━━━━━━━━━━━━━━━━━━━━━━━━━━━━━━━━━━━━━━━━━━━━━━━━━━━━━━━━━━━━━━━━━━━━━━━━━━━━━━━━━━━━━━━━━━━━━━━━━━━━━━━━━━━━━━┛\n",
              "\n",
              "\n",
              "                                                \u001b[1;4mWhy Rich is Amazing\u001b[0m                                                \n",
              "\n",
              "\u001b[1mRich\u001b[0m provides a \u001b[3mbeautiful\u001b[0m way to add color and style to terminal output:                                           \n",
              "\n",
              "\u001b[1;33m • \u001b[0m✅ Easy to use API                                                                                              \n",
              "\u001b[1;33m • \u001b[0m🎨 Extensive color support                                                                                      \n",
              "\u001b[1;33m • \u001b[0m📊 Built-in table formatting                                                                                    \n",
              "\u001b[1;33m • \u001b[0m📈 Progress bars and spinners                                                                                   \n",
              "\u001b[1;33m • \u001b[0m🖥️ Cross-platform compatibility                                                                                  \n",
              "\n",
              "\u001b[35m▌ \u001b[0m\u001b[35m\"Rich is a Python library for rich text and beautiful formatting in the terminal.\"\u001b[0m\u001b[35m                             \u001b[0m\n",
              "\n",
              "                                                   \u001b[1mCode Example\u001b[0m                                                    \n",
              "\n",
              "\u001b[48;2;39;40;34m                                                                                                                   \u001b[0m\n",
              "\u001b[48;2;39;40;34m \u001b[0m\u001b[38;2;255;70;137;48;2;39;40;34mfrom\u001b[0m\u001b[38;2;248;248;242;48;2;39;40;34m \u001b[0m\u001b[38;2;248;248;242;48;2;39;40;34mrich\u001b[0m\u001b[38;2;248;248;242;48;2;39;40;34m \u001b[0m\u001b[38;2;255;70;137;48;2;39;40;34mimport\u001b[0m\u001b[38;2;248;248;242;48;2;39;40;34m \u001b[0m\u001b[38;2;248;248;242;48;2;39;40;34mprint\u001b[0m\u001b[48;2;39;40;34m                                                                                           \u001b[0m\u001b[48;2;39;40;34m \u001b[0m\n",
              "\u001b[48;2;39;40;34m \u001b[0m\u001b[38;2;248;248;242;48;2;39;40;34mprint\u001b[0m\u001b[38;2;248;248;242;48;2;39;40;34m(\u001b[0m\u001b[38;2;230;219;116;48;2;39;40;34m\"\u001b[0m\u001b[38;2;230;219;116;48;2;39;40;34m[bold red]Alert![/bold red]\u001b[0m\u001b[38;2;230;219;116;48;2;39;40;34m\"\u001b[0m\u001b[38;2;248;248;242;48;2;39;40;34m)\u001b[0m\u001b[48;2;39;40;34m                                                                             \u001b[0m\u001b[48;2;39;40;34m \u001b[0m\n",
              "\u001b[48;2;39;40;34m                                                                                                                   \u001b[0m\n",
              "\n",
              "Visit \u001b]8;id=306416;https://github.com/Textualize/rich\u001b\\\u001b[4;34mGitHub\u001b[0m\u001b]8;;\u001b\\ for more info!                                                                                        \n"
            ],
            "text/html": [
              "<pre style=\"white-space:pre;overflow-x:auto;line-height:normal;font-family:Menlo,'DejaVu Sans Mono',consolas,'Courier New',monospace\">┏━━━━━━━━━━━━━━━━━━━━━━━━━━━━━━━━━━━━━━━━━━━━━━━━━━━━━━━━━━━━━━━━━━━━━━━━━━━━━━━━━━━━━━━━━━━━━━━━━━━━━━━━━━━━━━━━━┓\n",
              "┃                                            <span style=\"font-weight: bold\">🚀 Rich Library Features</span>                                             ┃\n",
              "┗━━━━━━━━━━━━━━━━━━━━━━━━━━━━━━━━━━━━━━━━━━━━━━━━━━━━━━━━━━━━━━━━━━━━━━━━━━━━━━━━━━━━━━━━━━━━━━━━━━━━━━━━━━━━━━━━━┛\n",
              "\n",
              "\n",
              "                                                <span style=\"font-weight: bold; text-decoration: underline\">Why Rich is Amazing</span>                                                \n",
              "\n",
              "<span style=\"font-weight: bold\">Rich</span> provides a <span style=\"font-style: italic\">beautiful</span> way to add color and style to terminal output:                                           \n",
              "\n",
              "<span style=\"color: #808000; text-decoration-color: #808000; font-weight: bold\"> • </span>✅ Easy to use API                                                                                              \n",
              "<span style=\"color: #808000; text-decoration-color: #808000; font-weight: bold\"> • </span>🎨 Extensive color support                                                                                      \n",
              "<span style=\"color: #808000; text-decoration-color: #808000; font-weight: bold\"> • </span>📊 Built-in table formatting                                                                                    \n",
              "<span style=\"color: #808000; text-decoration-color: #808000; font-weight: bold\"> • </span>📈 Progress bars and spinners                                                                                   \n",
              "<span style=\"color: #808000; text-decoration-color: #808000; font-weight: bold\"> • </span>🖥️ Cross-platform compatibility                                                                                  \n",
              "\n",
              "<span style=\"color: #800080; text-decoration-color: #800080\">▌ \"Rich is a Python library for rich text and beautiful formatting in the terminal.\"                             </span>\n",
              "\n",
              "                                                   <span style=\"font-weight: bold\">Code Example</span>                                                    \n",
              "\n",
              "<span style=\"background-color: #272822\">                                                                                                                   </span>\n",
              "<span style=\"background-color: #272822\"> </span><span style=\"color: #ff4689; text-decoration-color: #ff4689; background-color: #272822\">from</span><span style=\"color: #f8f8f2; text-decoration-color: #f8f8f2; background-color: #272822\"> rich </span><span style=\"color: #ff4689; text-decoration-color: #ff4689; background-color: #272822\">import</span><span style=\"color: #f8f8f2; text-decoration-color: #f8f8f2; background-color: #272822\"> print</span><span style=\"background-color: #272822\">                                                                                            </span>\n",
              "<span style=\"background-color: #272822\"> </span><span style=\"color: #f8f8f2; text-decoration-color: #f8f8f2; background-color: #272822\">print(</span><span style=\"color: #e6db74; text-decoration-color: #e6db74; background-color: #272822\">\"[bold red]Alert![/bold red]\"</span><span style=\"color: #f8f8f2; text-decoration-color: #f8f8f2; background-color: #272822\">)</span><span style=\"background-color: #272822\">                                                                              </span>\n",
              "<span style=\"background-color: #272822\">                                                                                                                   </span>\n",
              "\n",
              "Visit <a href=\"https://github.com/Textualize/rich\" target=\"_blank\"><span style=\"color: #000080; text-decoration-color: #000080; text-decoration: underline\">GitHub</span></a> for more info!                                                                                        \n",
              "</pre>\n"
            ]
          },
          "metadata": {}
        },
        {
          "output_type": "display_data",
          "data": {
            "text/plain": [
              "\n",
              "==================================================\n",
              "\n"
            ],
            "text/html": [
              "<pre style=\"white-space:pre;overflow-x:auto;line-height:normal;font-family:Menlo,'DejaVu Sans Mono',consolas,'Courier New',monospace\">\n",
              "==================================================\n",
              "\n",
              "</pre>\n"
            ]
          },
          "metadata": {}
        },
        {
          "output_type": "display_data",
          "data": {
            "text/plain": [
              "\u001b[1;38;2;227;227;221;48;2;39;40;34m  \u001b[0m\u001b[38;2;101;102;96;48;2;39;40;34m 1 \u001b[0m\u001b[48;2;39;40;34m                                                                                                              \u001b[0m\n",
              "\u001b[1;38;2;227;227;221;48;2;39;40;34m  \u001b[0m\u001b[38;2;101;102;96;48;2;39;40;34m 2 \u001b[0m\u001b[38;2;102;217;239;48;2;39;40;34mdef\u001b[0m\u001b[38;2;248;248;242;48;2;39;40;34m \u001b[0m\u001b[38;2;166;226;46;48;2;39;40;34mfibonacci\u001b[0m\u001b[38;2;248;248;242;48;2;39;40;34m(\u001b[0m\u001b[38;2;248;248;242;48;2;39;40;34mn\u001b[0m\u001b[38;2;248;248;242;48;2;39;40;34m)\u001b[0m\u001b[38;2;248;248;242;48;2;39;40;34m:\u001b[0m\u001b[48;2;39;40;34m                                                                                             \u001b[0m\n",
              "\u001b[1;38;2;227;227;221;48;2;39;40;34m  \u001b[0m\u001b[38;2;101;102;96;48;2;39;40;34m 3 \u001b[0m\u001b[38;2;248;248;242;48;2;39;40;34m    \u001b[0m\u001b[38;2;230;219;116;48;2;39;40;34m\"\"\"Generate Fibonacci sequence up to n terms.\"\"\"\u001b[0m\u001b[48;2;39;40;34m                                                          \u001b[0m\n",
              "\u001b[1;38;2;227;227;221;48;2;39;40;34m  \u001b[0m\u001b[38;2;101;102;96;48;2;39;40;34m 4 \u001b[0m\u001b[38;2;248;248;242;48;2;39;40;34m    \u001b[0m\u001b[38;2;102;217;239;48;2;39;40;34mif\u001b[0m\u001b[38;2;248;248;242;48;2;39;40;34m \u001b[0m\u001b[38;2;248;248;242;48;2;39;40;34mn\u001b[0m\u001b[38;2;248;248;242;48;2;39;40;34m \u001b[0m\u001b[38;2;255;70;137;48;2;39;40;34m<\u001b[0m\u001b[38;2;255;70;137;48;2;39;40;34m=\u001b[0m\u001b[38;2;248;248;242;48;2;39;40;34m \u001b[0m\u001b[38;2;174;129;255;48;2;39;40;34m0\u001b[0m\u001b[38;2;248;248;242;48;2;39;40;34m:\u001b[0m\u001b[48;2;39;40;34m                                                                                                \u001b[0m\n",
              "\u001b[1;38;2;227;227;221;48;2;39;40;34m  \u001b[0m\u001b[38;2;101;102;96;48;2;39;40;34m 5 \u001b[0m\u001b[38;2;248;248;242;48;2;39;40;34m        \u001b[0m\u001b[38;2;102;217;239;48;2;39;40;34mreturn\u001b[0m\u001b[38;2;248;248;242;48;2;39;40;34m \u001b[0m\u001b[38;2;248;248;242;48;2;39;40;34m[\u001b[0m\u001b[38;2;248;248;242;48;2;39;40;34m]\u001b[0m\u001b[48;2;39;40;34m                                                                                             \u001b[0m\n",
              "\u001b[1;38;2;227;227;221;48;2;39;40;34m  \u001b[0m\u001b[38;2;101;102;96;48;2;39;40;34m 6 \u001b[0m\u001b[38;2;248;248;242;48;2;39;40;34m    \u001b[0m\u001b[38;2;102;217;239;48;2;39;40;34melif\u001b[0m\u001b[38;2;248;248;242;48;2;39;40;34m \u001b[0m\u001b[38;2;248;248;242;48;2;39;40;34mn\u001b[0m\u001b[38;2;248;248;242;48;2;39;40;34m \u001b[0m\u001b[38;2;255;70;137;48;2;39;40;34m==\u001b[0m\u001b[38;2;248;248;242;48;2;39;40;34m \u001b[0m\u001b[38;2;174;129;255;48;2;39;40;34m1\u001b[0m\u001b[38;2;248;248;242;48;2;39;40;34m:\u001b[0m\u001b[48;2;39;40;34m                                                                                              \u001b[0m\n",
              "\u001b[1;38;2;227;227;221;48;2;39;40;34m  \u001b[0m\u001b[38;2;101;102;96;48;2;39;40;34m 7 \u001b[0m\u001b[38;2;248;248;242;48;2;39;40;34m        \u001b[0m\u001b[38;2;102;217;239;48;2;39;40;34mreturn\u001b[0m\u001b[38;2;248;248;242;48;2;39;40;34m \u001b[0m\u001b[38;2;248;248;242;48;2;39;40;34m[\u001b[0m\u001b[38;2;174;129;255;48;2;39;40;34m0\u001b[0m\u001b[38;2;248;248;242;48;2;39;40;34m]\u001b[0m\u001b[48;2;39;40;34m                                                                                            \u001b[0m\n",
              "\u001b[1;38;2;227;227;221;48;2;39;40;34m  \u001b[0m\u001b[38;2;101;102;96;48;2;39;40;34m 8 \u001b[0m\u001b[38;2;248;248;242;48;2;39;40;34m    \u001b[0m\u001b[38;2;102;217;239;48;2;39;40;34melif\u001b[0m\u001b[38;2;248;248;242;48;2;39;40;34m \u001b[0m\u001b[38;2;248;248;242;48;2;39;40;34mn\u001b[0m\u001b[38;2;248;248;242;48;2;39;40;34m \u001b[0m\u001b[38;2;255;70;137;48;2;39;40;34m==\u001b[0m\u001b[38;2;248;248;242;48;2;39;40;34m \u001b[0m\u001b[38;2;174;129;255;48;2;39;40;34m2\u001b[0m\u001b[38;2;248;248;242;48;2;39;40;34m:\u001b[0m\u001b[48;2;39;40;34m                                                                                              \u001b[0m\n",
              "\u001b[1;38;2;227;227;221;48;2;39;40;34m  \u001b[0m\u001b[38;2;101;102;96;48;2;39;40;34m 9 \u001b[0m\u001b[38;2;248;248;242;48;2;39;40;34m        \u001b[0m\u001b[38;2;102;217;239;48;2;39;40;34mreturn\u001b[0m\u001b[38;2;248;248;242;48;2;39;40;34m \u001b[0m\u001b[38;2;248;248;242;48;2;39;40;34m[\u001b[0m\u001b[38;2;174;129;255;48;2;39;40;34m0\u001b[0m\u001b[38;2;248;248;242;48;2;39;40;34m,\u001b[0m\u001b[38;2;248;248;242;48;2;39;40;34m \u001b[0m\u001b[38;2;174;129;255;48;2;39;40;34m1\u001b[0m\u001b[38;2;248;248;242;48;2;39;40;34m]\u001b[0m\u001b[48;2;39;40;34m                                                                                         \u001b[0m\n",
              "\u001b[1;38;2;227;227;221;48;2;39;40;34m  \u001b[0m\u001b[38;2;101;102;96;48;2;39;40;34m10 \u001b[0m\u001b[38;2;248;248;242;48;2;39;40;34m    \u001b[0m\u001b[48;2;39;40;34m                                                                                                          \u001b[0m\n",
              "\u001b[1;38;2;227;227;221;48;2;39;40;34m  \u001b[0m\u001b[38;2;101;102;96;48;2;39;40;34m11 \u001b[0m\u001b[38;2;248;248;242;48;2;39;40;34m    \u001b[0m\u001b[38;2;248;248;242;48;2;39;40;34mfib\u001b[0m\u001b[38;2;248;248;242;48;2;39;40;34m \u001b[0m\u001b[38;2;255;70;137;48;2;39;40;34m=\u001b[0m\u001b[38;2;248;248;242;48;2;39;40;34m \u001b[0m\u001b[38;2;248;248;242;48;2;39;40;34m[\u001b[0m\u001b[38;2;174;129;255;48;2;39;40;34m0\u001b[0m\u001b[38;2;248;248;242;48;2;39;40;34m,\u001b[0m\u001b[38;2;248;248;242;48;2;39;40;34m \u001b[0m\u001b[38;2;174;129;255;48;2;39;40;34m1\u001b[0m\u001b[38;2;248;248;242;48;2;39;40;34m]\u001b[0m\u001b[48;2;39;40;34m                                                                                              \u001b[0m\n",
              "\u001b[1;38;2;227;227;221;48;2;39;40;34m  \u001b[0m\u001b[38;2;101;102;96;48;2;39;40;34m12 \u001b[0m\u001b[38;2;248;248;242;48;2;39;40;34m    \u001b[0m\u001b[38;2;102;217;239;48;2;39;40;34mfor\u001b[0m\u001b[38;2;248;248;242;48;2;39;40;34m \u001b[0m\u001b[38;2;248;248;242;48;2;39;40;34mi\u001b[0m\u001b[38;2;248;248;242;48;2;39;40;34m \u001b[0m\u001b[38;2;255;70;137;48;2;39;40;34min\u001b[0m\u001b[38;2;248;248;242;48;2;39;40;34m \u001b[0m\u001b[38;2;248;248;242;48;2;39;40;34mrange\u001b[0m\u001b[38;2;248;248;242;48;2;39;40;34m(\u001b[0m\u001b[38;2;174;129;255;48;2;39;40;34m2\u001b[0m\u001b[38;2;248;248;242;48;2;39;40;34m,\u001b[0m\u001b[38;2;248;248;242;48;2;39;40;34m \u001b[0m\u001b[38;2;248;248;242;48;2;39;40;34mn\u001b[0m\u001b[38;2;248;248;242;48;2;39;40;34m)\u001b[0m\u001b[38;2;248;248;242;48;2;39;40;34m:\u001b[0m\u001b[48;2;39;40;34m                                                                                     \u001b[0m\n",
              "\u001b[1;38;2;227;227;221;48;2;39;40;34m  \u001b[0m\u001b[38;2;101;102;96;48;2;39;40;34m13 \u001b[0m\u001b[38;2;248;248;242;48;2;39;40;34m        \u001b[0m\u001b[38;2;248;248;242;48;2;39;40;34mfib\u001b[0m\u001b[38;2;255;70;137;48;2;39;40;34m.\u001b[0m\u001b[38;2;248;248;242;48;2;39;40;34mappend\u001b[0m\u001b[38;2;248;248;242;48;2;39;40;34m(\u001b[0m\u001b[38;2;248;248;242;48;2;39;40;34mfib\u001b[0m\u001b[38;2;248;248;242;48;2;39;40;34m[\u001b[0m\u001b[38;2;248;248;242;48;2;39;40;34mi\u001b[0m\u001b[38;2;255;70;137;48;2;39;40;34m-\u001b[0m\u001b[38;2;174;129;255;48;2;39;40;34m1\u001b[0m\u001b[38;2;248;248;242;48;2;39;40;34m]\u001b[0m\u001b[38;2;248;248;242;48;2;39;40;34m \u001b[0m\u001b[38;2;255;70;137;48;2;39;40;34m+\u001b[0m\u001b[38;2;248;248;242;48;2;39;40;34m \u001b[0m\u001b[38;2;248;248;242;48;2;39;40;34mfib\u001b[0m\u001b[38;2;248;248;242;48;2;39;40;34m[\u001b[0m\u001b[38;2;248;248;242;48;2;39;40;34mi\u001b[0m\u001b[38;2;255;70;137;48;2;39;40;34m-\u001b[0m\u001b[38;2;174;129;255;48;2;39;40;34m2\u001b[0m\u001b[38;2;248;248;242;48;2;39;40;34m]\u001b[0m\u001b[38;2;248;248;242;48;2;39;40;34m)\u001b[0m\u001b[48;2;39;40;34m                                                                       \u001b[0m\n",
              "\u001b[1;38;2;227;227;221;48;2;39;40;34m  \u001b[0m\u001b[38;2;101;102;96;48;2;39;40;34m14 \u001b[0m\u001b[38;2;248;248;242;48;2;39;40;34m    \u001b[0m\u001b[48;2;39;40;34m                                                                                                          \u001b[0m\n",
              "\u001b[1;38;2;227;227;221;48;2;39;40;34m  \u001b[0m\u001b[38;2;101;102;96;48;2;39;40;34m15 \u001b[0m\u001b[38;2;248;248;242;48;2;39;40;34m    \u001b[0m\u001b[38;2;102;217;239;48;2;39;40;34mreturn\u001b[0m\u001b[38;2;248;248;242;48;2;39;40;34m \u001b[0m\u001b[38;2;248;248;242;48;2;39;40;34mfib\u001b[0m\u001b[48;2;39;40;34m                                                                                                \u001b[0m\n",
              "\u001b[1;38;2;227;227;221;48;2;39;40;34m  \u001b[0m\u001b[38;2;101;102;96;48;2;39;40;34m16 \u001b[0m\u001b[48;2;39;40;34m                                                                                                              \u001b[0m\n",
              "\u001b[1;38;2;227;227;221;48;2;39;40;34m  \u001b[0m\u001b[38;2;101;102;96;48;2;39;40;34m17 \u001b[0m\u001b[38;2;149;144;119;48;2;39;40;34m# Usage\u001b[0m\u001b[48;2;39;40;34m                                                                                                       \u001b[0m\n",
              "\u001b[1;38;2;227;227;221;48;2;39;40;34m  \u001b[0m\u001b[38;2;101;102;96;48;2;39;40;34m18 \u001b[0m\u001b[38;2;248;248;242;48;2;39;40;34mresult\u001b[0m\u001b[38;2;248;248;242;48;2;39;40;34m \u001b[0m\u001b[38;2;255;70;137;48;2;39;40;34m=\u001b[0m\u001b[38;2;248;248;242;48;2;39;40;34m \u001b[0m\u001b[38;2;248;248;242;48;2;39;40;34mfibonacci\u001b[0m\u001b[38;2;248;248;242;48;2;39;40;34m(\u001b[0m\u001b[38;2;174;129;255;48;2;39;40;34m10\u001b[0m\u001b[38;2;248;248;242;48;2;39;40;34m)\u001b[0m\u001b[48;2;39;40;34m                                                                                        \u001b[0m\n",
              "\u001b[1;38;2;227;227;221;48;2;39;40;34m  \u001b[0m\u001b[38;2;101;102;96;48;2;39;40;34m19 \u001b[0m\u001b[38;2;248;248;242;48;2;39;40;34mprint\u001b[0m\u001b[38;2;248;248;242;48;2;39;40;34m(\u001b[0m\u001b[38;2;230;219;116;48;2;39;40;34mf\u001b[0m\u001b[38;2;230;219;116;48;2;39;40;34m\"\u001b[0m\u001b[38;2;230;219;116;48;2;39;40;34mFirst 10 Fibonacci numbers: \u001b[0m\u001b[38;2;230;219;116;48;2;39;40;34m{\u001b[0m\u001b[38;2;248;248;242;48;2;39;40;34mresult\u001b[0m\u001b[38;2;230;219;116;48;2;39;40;34m}\u001b[0m\u001b[38;2;230;219;116;48;2;39;40;34m\"\u001b[0m\u001b[38;2;248;248;242;48;2;39;40;34m)\u001b[0m\u001b[48;2;39;40;34m                                                                \u001b[0m\n",
              "\u001b[1;38;2;227;227;221;48;2;39;40;34m  \u001b[0m\u001b[38;2;101;102;96;48;2;39;40;34m20 \u001b[0m\u001b[48;2;39;40;34m                                                                                                              \u001b[0m\n"
            ],
            "text/html": [
              "<pre style=\"white-space:pre;overflow-x:auto;line-height:normal;font-family:Menlo,'DejaVu Sans Mono',consolas,'Courier New',monospace\"><span style=\"color: #e3e3dd; text-decoration-color: #e3e3dd; background-color: #272822; font-weight: bold\">  </span><span style=\"color: #656660; text-decoration-color: #656660; background-color: #272822\"> 1 </span><span style=\"background-color: #272822\">                                                                                                              </span>\n",
              "<span style=\"color: #e3e3dd; text-decoration-color: #e3e3dd; background-color: #272822; font-weight: bold\">  </span><span style=\"color: #656660; text-decoration-color: #656660; background-color: #272822\"> 2 </span><span style=\"color: #66d9ef; text-decoration-color: #66d9ef; background-color: #272822\">def</span><span style=\"color: #f8f8f2; text-decoration-color: #f8f8f2; background-color: #272822\"> </span><span style=\"color: #a6e22e; text-decoration-color: #a6e22e; background-color: #272822\">fibonacci</span><span style=\"color: #f8f8f2; text-decoration-color: #f8f8f2; background-color: #272822\">(n):</span><span style=\"background-color: #272822\">                                                                                             </span>\n",
              "<span style=\"color: #e3e3dd; text-decoration-color: #e3e3dd; background-color: #272822; font-weight: bold\">  </span><span style=\"color: #656660; text-decoration-color: #656660; background-color: #272822\"> 3 </span><span style=\"color: #f8f8f2; text-decoration-color: #f8f8f2; background-color: #272822\">    </span><span style=\"color: #e6db74; text-decoration-color: #e6db74; background-color: #272822\">\"\"\"Generate Fibonacci sequence up to n terms.\"\"\"</span><span style=\"background-color: #272822\">                                                          </span>\n",
              "<span style=\"color: #e3e3dd; text-decoration-color: #e3e3dd; background-color: #272822; font-weight: bold\">  </span><span style=\"color: #656660; text-decoration-color: #656660; background-color: #272822\"> 4 </span><span style=\"color: #f8f8f2; text-decoration-color: #f8f8f2; background-color: #272822\">    </span><span style=\"color: #66d9ef; text-decoration-color: #66d9ef; background-color: #272822\">if</span><span style=\"color: #f8f8f2; text-decoration-color: #f8f8f2; background-color: #272822\"> n </span><span style=\"color: #ff4689; text-decoration-color: #ff4689; background-color: #272822\">&lt;=</span><span style=\"color: #f8f8f2; text-decoration-color: #f8f8f2; background-color: #272822\"> </span><span style=\"color: #ae81ff; text-decoration-color: #ae81ff; background-color: #272822\">0</span><span style=\"color: #f8f8f2; text-decoration-color: #f8f8f2; background-color: #272822\">:</span><span style=\"background-color: #272822\">                                                                                                </span>\n",
              "<span style=\"color: #e3e3dd; text-decoration-color: #e3e3dd; background-color: #272822; font-weight: bold\">  </span><span style=\"color: #656660; text-decoration-color: #656660; background-color: #272822\"> 5 </span><span style=\"color: #f8f8f2; text-decoration-color: #f8f8f2; background-color: #272822\">        </span><span style=\"color: #66d9ef; text-decoration-color: #66d9ef; background-color: #272822\">return</span><span style=\"color: #f8f8f2; text-decoration-color: #f8f8f2; background-color: #272822\"> []</span><span style=\"background-color: #272822\">                                                                                             </span>\n",
              "<span style=\"color: #e3e3dd; text-decoration-color: #e3e3dd; background-color: #272822; font-weight: bold\">  </span><span style=\"color: #656660; text-decoration-color: #656660; background-color: #272822\"> 6 </span><span style=\"color: #f8f8f2; text-decoration-color: #f8f8f2; background-color: #272822\">    </span><span style=\"color: #66d9ef; text-decoration-color: #66d9ef; background-color: #272822\">elif</span><span style=\"color: #f8f8f2; text-decoration-color: #f8f8f2; background-color: #272822\"> n </span><span style=\"color: #ff4689; text-decoration-color: #ff4689; background-color: #272822\">==</span><span style=\"color: #f8f8f2; text-decoration-color: #f8f8f2; background-color: #272822\"> </span><span style=\"color: #ae81ff; text-decoration-color: #ae81ff; background-color: #272822\">1</span><span style=\"color: #f8f8f2; text-decoration-color: #f8f8f2; background-color: #272822\">:</span><span style=\"background-color: #272822\">                                                                                              </span>\n",
              "<span style=\"color: #e3e3dd; text-decoration-color: #e3e3dd; background-color: #272822; font-weight: bold\">  </span><span style=\"color: #656660; text-decoration-color: #656660; background-color: #272822\"> 7 </span><span style=\"color: #f8f8f2; text-decoration-color: #f8f8f2; background-color: #272822\">        </span><span style=\"color: #66d9ef; text-decoration-color: #66d9ef; background-color: #272822\">return</span><span style=\"color: #f8f8f2; text-decoration-color: #f8f8f2; background-color: #272822\"> [</span><span style=\"color: #ae81ff; text-decoration-color: #ae81ff; background-color: #272822\">0</span><span style=\"color: #f8f8f2; text-decoration-color: #f8f8f2; background-color: #272822\">]</span><span style=\"background-color: #272822\">                                                                                            </span>\n",
              "<span style=\"color: #e3e3dd; text-decoration-color: #e3e3dd; background-color: #272822; font-weight: bold\">  </span><span style=\"color: #656660; text-decoration-color: #656660; background-color: #272822\"> 8 </span><span style=\"color: #f8f8f2; text-decoration-color: #f8f8f2; background-color: #272822\">    </span><span style=\"color: #66d9ef; text-decoration-color: #66d9ef; background-color: #272822\">elif</span><span style=\"color: #f8f8f2; text-decoration-color: #f8f8f2; background-color: #272822\"> n </span><span style=\"color: #ff4689; text-decoration-color: #ff4689; background-color: #272822\">==</span><span style=\"color: #f8f8f2; text-decoration-color: #f8f8f2; background-color: #272822\"> </span><span style=\"color: #ae81ff; text-decoration-color: #ae81ff; background-color: #272822\">2</span><span style=\"color: #f8f8f2; text-decoration-color: #f8f8f2; background-color: #272822\">:</span><span style=\"background-color: #272822\">                                                                                              </span>\n",
              "<span style=\"color: #e3e3dd; text-decoration-color: #e3e3dd; background-color: #272822; font-weight: bold\">  </span><span style=\"color: #656660; text-decoration-color: #656660; background-color: #272822\"> 9 </span><span style=\"color: #f8f8f2; text-decoration-color: #f8f8f2; background-color: #272822\">        </span><span style=\"color: #66d9ef; text-decoration-color: #66d9ef; background-color: #272822\">return</span><span style=\"color: #f8f8f2; text-decoration-color: #f8f8f2; background-color: #272822\"> [</span><span style=\"color: #ae81ff; text-decoration-color: #ae81ff; background-color: #272822\">0</span><span style=\"color: #f8f8f2; text-decoration-color: #f8f8f2; background-color: #272822\">, </span><span style=\"color: #ae81ff; text-decoration-color: #ae81ff; background-color: #272822\">1</span><span style=\"color: #f8f8f2; text-decoration-color: #f8f8f2; background-color: #272822\">]</span><span style=\"background-color: #272822\">                                                                                         </span>\n",
              "<span style=\"color: #e3e3dd; text-decoration-color: #e3e3dd; background-color: #272822; font-weight: bold\">  </span><span style=\"color: #656660; text-decoration-color: #656660; background-color: #272822\">10 </span><span style=\"color: #f8f8f2; text-decoration-color: #f8f8f2; background-color: #272822\">    </span><span style=\"background-color: #272822\">                                                                                                          </span>\n",
              "<span style=\"color: #e3e3dd; text-decoration-color: #e3e3dd; background-color: #272822; font-weight: bold\">  </span><span style=\"color: #656660; text-decoration-color: #656660; background-color: #272822\">11 </span><span style=\"color: #f8f8f2; text-decoration-color: #f8f8f2; background-color: #272822\">    fib </span><span style=\"color: #ff4689; text-decoration-color: #ff4689; background-color: #272822\">=</span><span style=\"color: #f8f8f2; text-decoration-color: #f8f8f2; background-color: #272822\"> [</span><span style=\"color: #ae81ff; text-decoration-color: #ae81ff; background-color: #272822\">0</span><span style=\"color: #f8f8f2; text-decoration-color: #f8f8f2; background-color: #272822\">, </span><span style=\"color: #ae81ff; text-decoration-color: #ae81ff; background-color: #272822\">1</span><span style=\"color: #f8f8f2; text-decoration-color: #f8f8f2; background-color: #272822\">]</span><span style=\"background-color: #272822\">                                                                                              </span>\n",
              "<span style=\"color: #e3e3dd; text-decoration-color: #e3e3dd; background-color: #272822; font-weight: bold\">  </span><span style=\"color: #656660; text-decoration-color: #656660; background-color: #272822\">12 </span><span style=\"color: #f8f8f2; text-decoration-color: #f8f8f2; background-color: #272822\">    </span><span style=\"color: #66d9ef; text-decoration-color: #66d9ef; background-color: #272822\">for</span><span style=\"color: #f8f8f2; text-decoration-color: #f8f8f2; background-color: #272822\"> i </span><span style=\"color: #ff4689; text-decoration-color: #ff4689; background-color: #272822\">in</span><span style=\"color: #f8f8f2; text-decoration-color: #f8f8f2; background-color: #272822\"> range(</span><span style=\"color: #ae81ff; text-decoration-color: #ae81ff; background-color: #272822\">2</span><span style=\"color: #f8f8f2; text-decoration-color: #f8f8f2; background-color: #272822\">, n):</span><span style=\"background-color: #272822\">                                                                                     </span>\n",
              "<span style=\"color: #e3e3dd; text-decoration-color: #e3e3dd; background-color: #272822; font-weight: bold\">  </span><span style=\"color: #656660; text-decoration-color: #656660; background-color: #272822\">13 </span><span style=\"color: #f8f8f2; text-decoration-color: #f8f8f2; background-color: #272822\">        fib</span><span style=\"color: #ff4689; text-decoration-color: #ff4689; background-color: #272822\">.</span><span style=\"color: #f8f8f2; text-decoration-color: #f8f8f2; background-color: #272822\">append(fib[i</span><span style=\"color: #ff4689; text-decoration-color: #ff4689; background-color: #272822\">-</span><span style=\"color: #ae81ff; text-decoration-color: #ae81ff; background-color: #272822\">1</span><span style=\"color: #f8f8f2; text-decoration-color: #f8f8f2; background-color: #272822\">] </span><span style=\"color: #ff4689; text-decoration-color: #ff4689; background-color: #272822\">+</span><span style=\"color: #f8f8f2; text-decoration-color: #f8f8f2; background-color: #272822\"> fib[i</span><span style=\"color: #ff4689; text-decoration-color: #ff4689; background-color: #272822\">-</span><span style=\"color: #ae81ff; text-decoration-color: #ae81ff; background-color: #272822\">2</span><span style=\"color: #f8f8f2; text-decoration-color: #f8f8f2; background-color: #272822\">])</span><span style=\"background-color: #272822\">                                                                       </span>\n",
              "<span style=\"color: #e3e3dd; text-decoration-color: #e3e3dd; background-color: #272822; font-weight: bold\">  </span><span style=\"color: #656660; text-decoration-color: #656660; background-color: #272822\">14 </span><span style=\"color: #f8f8f2; text-decoration-color: #f8f8f2; background-color: #272822\">    </span><span style=\"background-color: #272822\">                                                                                                          </span>\n",
              "<span style=\"color: #e3e3dd; text-decoration-color: #e3e3dd; background-color: #272822; font-weight: bold\">  </span><span style=\"color: #656660; text-decoration-color: #656660; background-color: #272822\">15 </span><span style=\"color: #f8f8f2; text-decoration-color: #f8f8f2; background-color: #272822\">    </span><span style=\"color: #66d9ef; text-decoration-color: #66d9ef; background-color: #272822\">return</span><span style=\"color: #f8f8f2; text-decoration-color: #f8f8f2; background-color: #272822\"> fib</span><span style=\"background-color: #272822\">                                                                                                </span>\n",
              "<span style=\"color: #e3e3dd; text-decoration-color: #e3e3dd; background-color: #272822; font-weight: bold\">  </span><span style=\"color: #656660; text-decoration-color: #656660; background-color: #272822\">16 </span><span style=\"background-color: #272822\">                                                                                                              </span>\n",
              "<span style=\"color: #e3e3dd; text-decoration-color: #e3e3dd; background-color: #272822; font-weight: bold\">  </span><span style=\"color: #656660; text-decoration-color: #656660; background-color: #272822\">17 </span><span style=\"color: #959077; text-decoration-color: #959077; background-color: #272822\"># Usage</span><span style=\"background-color: #272822\">                                                                                                       </span>\n",
              "<span style=\"color: #e3e3dd; text-decoration-color: #e3e3dd; background-color: #272822; font-weight: bold\">  </span><span style=\"color: #656660; text-decoration-color: #656660; background-color: #272822\">18 </span><span style=\"color: #f8f8f2; text-decoration-color: #f8f8f2; background-color: #272822\">result </span><span style=\"color: #ff4689; text-decoration-color: #ff4689; background-color: #272822\">=</span><span style=\"color: #f8f8f2; text-decoration-color: #f8f8f2; background-color: #272822\"> fibonacci(</span><span style=\"color: #ae81ff; text-decoration-color: #ae81ff; background-color: #272822\">10</span><span style=\"color: #f8f8f2; text-decoration-color: #f8f8f2; background-color: #272822\">)</span><span style=\"background-color: #272822\">                                                                                        </span>\n",
              "<span style=\"color: #e3e3dd; text-decoration-color: #e3e3dd; background-color: #272822; font-weight: bold\">  </span><span style=\"color: #656660; text-decoration-color: #656660; background-color: #272822\">19 </span><span style=\"color: #f8f8f2; text-decoration-color: #f8f8f2; background-color: #272822\">print(</span><span style=\"color: #e6db74; text-decoration-color: #e6db74; background-color: #272822\">f\"First 10 Fibonacci numbers: {</span><span style=\"color: #f8f8f2; text-decoration-color: #f8f8f2; background-color: #272822\">result</span><span style=\"color: #e6db74; text-decoration-color: #e6db74; background-color: #272822\">}\"</span><span style=\"color: #f8f8f2; text-decoration-color: #f8f8f2; background-color: #272822\">)</span><span style=\"background-color: #272822\">                                                                </span>\n",
              "<span style=\"color: #e3e3dd; text-decoration-color: #e3e3dd; background-color: #272822; font-weight: bold\">  </span><span style=\"color: #656660; text-decoration-color: #656660; background-color: #272822\">20 </span><span style=\"background-color: #272822\">                                                                                                              </span>\n",
              "</pre>\n"
            ]
          },
          "metadata": {}
        }
      ],
      "source": [
        "from rich.console import Console\n",
        "from rich.markdown import Markdown\n",
        "from rich.syntax import Syntax\n",
        "\n",
        "console = Console()\n",
        "\n",
        "# Enhanced markdown\n",
        "markdown_content = \"\"\"\n",
        "# 🚀 Rich Library Features\n",
        "\n",
        "## Why Rich is Amazing\n",
        "\n",
        "**Rich** provides a *beautiful* way to add color and style to terminal output:\n",
        "\n",
        "- ✅ Easy to use API\n",
        "- 🎨 Extensive color support\n",
        "- 📊 Built-in table formatting\n",
        "- 📈 Progress bars and spinners\n",
        "- 🖥️ Cross-platform compatibility\n",
        "\n",
        "> \"Rich is a Python library for rich text and beautiful formatting in the terminal.\"\n",
        "\n",
        "### Code Example\n",
        "\n",
        "```python\n",
        "from rich import print\n",
        "print(\"[bold red]Alert![/bold red]\")\n",
        "```\n",
        "\n",
        "Visit [GitHub](https://github.com/Textualize/rich) for more info!\n",
        "\"\"\"\n",
        "\n",
        "md = Markdown(markdown_content)\n",
        "console.print(md)\n",
        "\n",
        "print(\"\\n\" + \"=\"*50 + \"\\n\")\n",
        "\n",
        "# Syntax highlighting\n",
        "python_code = '''\n",
        "def fibonacci(n):\n",
        "    \"\"\"Generate Fibonacci sequence up to n terms.\"\"\"\n",
        "    if n <= 0:\n",
        "        return []\n",
        "    elif n == 1:\n",
        "        return [0]\n",
        "    elif n == 2:\n",
        "        return [0, 1]\n",
        "\n",
        "    fib = [0, 1]\n",
        "    for i in range(2, n):\n",
        "        fib.append(fib[i-1] + fib[i-2])\n",
        "\n",
        "    return fib\n",
        "\n",
        "# Usage\n",
        "result = fibonacci(10)\n",
        "print(f\"First 10 Fibonacci numbers: {result}\")\n",
        "'''\n",
        "\n",
        "syntax = Syntax(python_code, \"python\", theme=\"monokai\", line_numbers=True)\n",
        "console.print(syntax)"
      ]
    },
    {
      "cell_type": "markdown",
      "metadata": {
        "id": "2K5wuzQi7odB"
      },
      "source": [
        "## 5️⃣ Enhanced Tracebacks & Error Handling"
      ]
    },
    {
      "cell_type": "code",
      "execution_count": 6,
      "metadata": {
        "colab": {
          "base_uri": "https://localhost:8080/",
          "height": 33
        },
        "id": "GYs0IQZI7odB",
        "outputId": "620d396c-4d4b-46f1-fd1c-1d57a2f07d3e"
      },
      "outputs": [
        {
          "output_type": "display_data",
          "data": {
            "text/plain": [
              "\u001b[31mError caught:\u001b[0m float division by zero\n"
            ],
            "text/html": [
              "<pre style=\"white-space:pre;overflow-x:auto;line-height:normal;font-family:Menlo,'DejaVu Sans Mono',consolas,'Courier New',monospace\"><span style=\"color: #800000; text-decoration-color: #800000\">Error caught:</span> float division by zero\n",
              "</pre>\n"
            ]
          },
          "metadata": {}
        }
      ],
      "source": [
        "from rich.traceback import install\n",
        "from rich.console import Console\n",
        "\n",
        "# Install rich traceback handler\n",
        "install(show_locals=True)\n",
        "console = Console()\n",
        "\n",
        "def complex_function(x, y):\n",
        "    \"\"\"A function that will cause an error.\"\"\"\n",
        "    data = {\"numbers\": [1, 2, 3, 4, 5]}\n",
        "    result = calculate_average(data[\"numbers\"], x)\n",
        "    return result / y  # This will cause division by zero\n",
        "\n",
        "def calculate_average(numbers, multiplier):\n",
        "    \"\"\"Calculate average with multiplier.\"\"\"\n",
        "    total = sum(numbers) * multiplier\n",
        "    average = total / len(numbers)\n",
        "    return average\n",
        "\n",
        "# This will show a beautiful traceback\n",
        "try:\n",
        "    result = complex_function(2, 0)\n",
        "except Exception as e:\n",
        "    console.print(f\"[red]Error caught:[/red] {e}\")"
      ]
    },
    {
      "cell_type": "markdown",
      "metadata": {
        "id": "y4VQzwKP7odC"
      },
      "source": [
        "## 6️⃣ Panels & Layout"
      ]
    },
    {
      "cell_type": "code",
      "execution_count": 7,
      "metadata": {
        "colab": {
          "base_uri": "https://localhost:8080/",
          "height": 1000
        },
        "id": "rnQq19hp7odC",
        "outputId": "725ab14b-09df-448f-ee90-24db5035b0bc"
      },
      "outputs": [
        {
          "output_type": "display_data",
          "data": {
            "text/plain": [
              "\u001b[32m╭─\u001b[0m\u001b[32m─────────────────────────────────────────────────\u001b[0m\u001b[32m 🎉 Welcome \u001b[0m\u001b[32m──────────────────────────────────────────────────\u001b[0m\u001b[32m─╮\u001b[0m\n",
              "\u001b[32m│\u001b[0m Hello, \u001b[1;34mRich\u001b[0m!                                                                                                    \u001b[32m│\u001b[0m\n",
              "\u001b[32m╰─────────────────────────────────────────────────────────────────────────────────────────────────────────────────╯\u001b[0m\n"
            ],
            "text/html": [
              "<pre style=\"white-space:pre;overflow-x:auto;line-height:normal;font-family:Menlo,'DejaVu Sans Mono',consolas,'Courier New',monospace\"><span style=\"color: #008000; text-decoration-color: #008000\">╭────────────────────────────────────────────────── 🎉 Welcome ───────────────────────────────────────────────────╮</span>\n",
              "<span style=\"color: #008000; text-decoration-color: #008000\">│</span> Hello, <span style=\"color: #000080; text-decoration-color: #000080; font-weight: bold\">Rich</span>!                                                                                                    <span style=\"color: #008000; text-decoration-color: #008000\">│</span>\n",
              "<span style=\"color: #008000; text-decoration-color: #008000\">╰─────────────────────────────────────────────────────────────────────────────────────────────────────────────────╯</span>\n",
              "</pre>\n"
            ]
          },
          "metadata": {}
        },
        {
          "output_type": "display_data",
          "data": {
            "text/plain": [
              "\u001b[31m╭─\u001b[0m\u001b[31m───────────────────────────────────────────────────\u001b[0m\u001b[31m ⚠️ Alert \u001b[0m\u001b[31m───────────────────────────────────────────────────\u001b[0m\u001b[31m─╮\u001b[0m\n",
              "\u001b[31m│\u001b[0m This is a \u001b[31mwarning\u001b[0m message                                                                                       \u001b[31m│\u001b[0m\n",
              "\u001b[31m╰─────────────────────────────────────────────────────────────────────────────────────────────────────────────────╯\u001b[0m\n"
            ],
            "text/html": [
              "<pre style=\"white-space:pre;overflow-x:auto;line-height:normal;font-family:Menlo,'DejaVu Sans Mono',consolas,'Courier New',monospace\"><span style=\"color: #800000; text-decoration-color: #800000\">╭──────────────────────────────────────────────────── ⚠️ Alert ────────────────────────────────────────────────────╮</span>\n",
              "<span style=\"color: #800000; text-decoration-color: #800000\">│</span> This is a <span style=\"color: #800000; text-decoration-color: #800000\">warning</span> message                                                                                       <span style=\"color: #800000; text-decoration-color: #800000\">│</span>\n",
              "<span style=\"color: #800000; text-decoration-color: #800000\">╰─────────────────────────────────────────────────────────────────────────────────────────────────────────────────╯</span>\n",
              "</pre>\n"
            ]
          },
          "metadata": {}
        },
        {
          "output_type": "display_data",
          "data": {
            "text/plain": [
              "\u001b[36m╔═\u001b[0m\u001b[36m═════════════════════════════════════════════════\u001b[0m\u001b[36m ✨ Success \u001b[0m\u001b[36m══════════════════════════════════════════════════\u001b[0m\u001b[36m═╗\u001b[0m\n",
              "\u001b[36m║\u001b[0m Task completed \u001b[32msuccessfully\u001b[0m! ✅                                                                                 \u001b[36m║\u001b[0m\n",
              "\u001b[36m╚═════════════════════════════════════════════════════════════════════════════════════════════════════════════════╝\u001b[0m\n"
            ],
            "text/html": [
              "<pre style=\"white-space:pre;overflow-x:auto;line-height:normal;font-family:Menlo,'DejaVu Sans Mono',consolas,'Courier New',monospace\"><span style=\"color: #008080; text-decoration-color: #008080\">╔══════════════════════════════════════════════════ ✨ Success ═══════════════════════════════════════════════════╗</span>\n",
              "<span style=\"color: #008080; text-decoration-color: #008080\">║</span> Task completed <span style=\"color: #008000; text-decoration-color: #008000\">successfully</span>! ✅                                                                                 <span style=\"color: #008080; text-decoration-color: #008080\">║</span>\n",
              "<span style=\"color: #008080; text-decoration-color: #008080\">╚═════════════════════════════════════════════════════════════════════════════════════════════════════════════════╝</span>\n",
              "</pre>\n"
            ]
          },
          "metadata": {}
        },
        {
          "output_type": "display_data",
          "data": {
            "text/plain": [
              "\n"
            ],
            "text/html": [
              "<pre style=\"white-space:pre;overflow-x:auto;line-height:normal;font-family:Menlo,'DejaVu Sans Mono',consolas,'Courier New',monospace\">\n",
              "</pre>\n"
            ]
          },
          "metadata": {}
        },
        {
          "output_type": "display_data",
          "data": {
            "text/plain": [
              "\u001b[32m╭─────────────────────────────────────────────────────────────────────────────────────────────────────────────────╮\u001b[0m\n",
              "\u001b[32m│\u001b[0m 🚀 System Status: \u001b[32mOnline\u001b[0m                                                                                        \u001b[32m│\u001b[0m\n",
              "\u001b[32m╰─────────────────────────────────────────────────────────────────────────────────────────────────────────────────╯\u001b[0m\n",
              "\u001b[36m╭─\u001b[0m\u001b[36m───────────────────\u001b[0m\u001b[36m Activity Log \u001b[0m\u001b[36m────────────────────\u001b[0m\u001b[36m─╮\u001b[0m\u001b[35m╭─\u001b[0m\u001b[35m──────────────────────\u001b[0m\u001b[35m Metrics \u001b[0m\u001b[35m───────────────────────\u001b[0m\u001b[35m─╮\u001b[0m\n",
              "\u001b[36m│\u001b[0m 📋 Recent Activity:                                   \u001b[36m│\u001b[0m\u001b[35m│\u001b[0m 📈 Performance:                                        \u001b[35m│\u001b[0m\n",
              "\u001b[36m│\u001b[0m                                                       \u001b[36m│\u001b[0m\u001b[35m│\u001b[0m                                                        \u001b[35m│\u001b[0m\n",
              "\u001b[36m│\u001b[0m • User login                                          \u001b[36m│\u001b[0m\u001b[35m│\u001b[0m Response Time: 245ms                                   \u001b[35m│\u001b[0m\n",
              "\u001b[36m│\u001b[0m • File uploaded                                       \u001b[36m│\u001b[0m\u001b[35m│\u001b[0m Throughput: 1.2k req/s                                 \u001b[35m│\u001b[0m\n",
              "\u001b[36m│\u001b[0m • Report generated                                    \u001b[36m│\u001b[0m\u001b[35m│\u001b[0m Uptime: 99.9%                                          \u001b[35m│\u001b[0m\n",
              "\u001b[36m│\u001b[0m                                                       \u001b[36m│\u001b[0m\u001b[35m│\u001b[0m                                                        \u001b[35m│\u001b[0m\n",
              "\u001b[36m│\u001b[0m                                                       \u001b[36m│\u001b[0m\u001b[35m│\u001b[0m                                                        \u001b[35m│\u001b[0m\n",
              "\u001b[36m│\u001b[0m                                                       \u001b[36m│\u001b[0m\u001b[35m│\u001b[0m                                                        \u001b[35m│\u001b[0m\n",
              "\u001b[36m│\u001b[0m                                                       \u001b[36m│\u001b[0m\u001b[35m│\u001b[0m                                                        \u001b[35m│\u001b[0m\n",
              "\u001b[36m│\u001b[0m                                                       \u001b[36m│\u001b[0m\u001b[35m│\u001b[0m                                                        \u001b[35m│\u001b[0m\n",
              "\u001b[36m│\u001b[0m                                                       \u001b[36m│\u001b[0m\u001b[35m│\u001b[0m                                                        \u001b[35m│\u001b[0m\n",
              "\u001b[36m│\u001b[0m                                                       \u001b[36m│\u001b[0m\u001b[35m│\u001b[0m                                                        \u001b[35m│\u001b[0m\n",
              "\u001b[36m│\u001b[0m                                                       \u001b[36m│\u001b[0m\u001b[35m│\u001b[0m                                                        \u001b[35m│\u001b[0m\n",
              "\u001b[36m│\u001b[0m                                                       \u001b[36m│\u001b[0m\u001b[35m│\u001b[0m                                                        \u001b[35m│\u001b[0m\n",
              "\u001b[36m│\u001b[0m                                                       \u001b[36m│\u001b[0m\u001b[35m│\u001b[0m                                                        \u001b[35m│\u001b[0m\n",
              "\u001b[36m│\u001b[0m                                                       \u001b[36m│\u001b[0m\u001b[35m│\u001b[0m                                                        \u001b[35m│\u001b[0m\n",
              "\u001b[36m│\u001b[0m                                                       \u001b[36m│\u001b[0m\u001b[35m│\u001b[0m                                                        \u001b[35m│\u001b[0m\n",
              "\u001b[36m│\u001b[0m                                                       \u001b[36m│\u001b[0m\u001b[35m│\u001b[0m                                                        \u001b[35m│\u001b[0m\n",
              "\u001b[36m│\u001b[0m                                                       \u001b[36m│\u001b[0m\u001b[35m│\u001b[0m                                                        \u001b[35m│\u001b[0m\n",
              "\u001b[36m│\u001b[0m                                                       \u001b[36m│\u001b[0m\u001b[35m│\u001b[0m                                                        \u001b[35m│\u001b[0m\n",
              "\u001b[36m│\u001b[0m                                                       \u001b[36m│\u001b[0m\u001b[35m│\u001b[0m                                                        \u001b[35m│\u001b[0m\n",
              "\u001b[36m│\u001b[0m                                                       \u001b[36m│\u001b[0m\u001b[35m│\u001b[0m                                                        \u001b[35m│\u001b[0m\n",
              "\u001b[36m│\u001b[0m                                                       \u001b[36m│\u001b[0m\u001b[35m│\u001b[0m                                                        \u001b[35m│\u001b[0m\n",
              "\u001b[36m│\u001b[0m                                                       \u001b[36m│\u001b[0m\u001b[35m│\u001b[0m                                                        \u001b[35m│\u001b[0m\n",
              "\u001b[36m│\u001b[0m                                                       \u001b[36m│\u001b[0m\u001b[35m│\u001b[0m                                                        \u001b[35m│\u001b[0m\n",
              "\u001b[36m│\u001b[0m                                                       \u001b[36m│\u001b[0m\u001b[35m│\u001b[0m                                                        \u001b[35m│\u001b[0m\n",
              "\u001b[36m│\u001b[0m                                                       \u001b[36m│\u001b[0m\u001b[35m│\u001b[0m                                                        \u001b[35m│\u001b[0m\n",
              "\u001b[36m│\u001b[0m                                                       \u001b[36m│\u001b[0m\u001b[35m│\u001b[0m                                                        \u001b[35m│\u001b[0m\n",
              "\u001b[36m│\u001b[0m                                                       \u001b[36m│\u001b[0m\u001b[35m│\u001b[0m                                                        \u001b[35m│\u001b[0m\n",
              "\u001b[36m│\u001b[0m                                                       \u001b[36m│\u001b[0m\u001b[35m│\u001b[0m                                                        \u001b[35m│\u001b[0m\n",
              "\u001b[36m│\u001b[0m                                                       \u001b[36m│\u001b[0m\u001b[35m│\u001b[0m                                                        \u001b[35m│\u001b[0m\n",
              "\u001b[36m│\u001b[0m                                                       \u001b[36m│\u001b[0m\u001b[35m│\u001b[0m                                                        \u001b[35m│\u001b[0m\n",
              "\u001b[36m│\u001b[0m                                                       \u001b[36m│\u001b[0m\u001b[35m│\u001b[0m                                                        \u001b[35m│\u001b[0m\n",
              "\u001b[36m│\u001b[0m                                                       \u001b[36m│\u001b[0m\u001b[35m│\u001b[0m                                                        \u001b[35m│\u001b[0m\n",
              "\u001b[36m│\u001b[0m                                                       \u001b[36m│\u001b[0m\u001b[35m│\u001b[0m                                                        \u001b[35m│\u001b[0m\n",
              "\u001b[36m│\u001b[0m                                                       \u001b[36m│\u001b[0m\u001b[35m│\u001b[0m                                                        \u001b[35m│\u001b[0m\n",
              "\u001b[36m│\u001b[0m                                                       \u001b[36m│\u001b[0m\u001b[35m│\u001b[0m                                                        \u001b[35m│\u001b[0m\n",
              "\u001b[36m│\u001b[0m                                                       \u001b[36m│\u001b[0m\u001b[35m│\u001b[0m                                                        \u001b[35m│\u001b[0m\n",
              "\u001b[36m│\u001b[0m                                                       \u001b[36m│\u001b[0m\u001b[35m│\u001b[0m                                                        \u001b[35m│\u001b[0m\n",
              "\u001b[36m│\u001b[0m                                                       \u001b[36m│\u001b[0m\u001b[35m│\u001b[0m                                                        \u001b[35m│\u001b[0m\n",
              "\u001b[36m│\u001b[0m                                                       \u001b[36m│\u001b[0m\u001b[35m│\u001b[0m                                                        \u001b[35m│\u001b[0m\n",
              "\u001b[36m│\u001b[0m                                                       \u001b[36m│\u001b[0m\u001b[35m│\u001b[0m                                                        \u001b[35m│\u001b[0m\n",
              "\u001b[36m│\u001b[0m                                                       \u001b[36m│\u001b[0m\u001b[35m│\u001b[0m                                                        \u001b[35m│\u001b[0m\n",
              "\u001b[36m│\u001b[0m                                                       \u001b[36m│\u001b[0m\u001b[35m│\u001b[0m                                                        \u001b[35m│\u001b[0m\n",
              "\u001b[36m│\u001b[0m                                                       \u001b[36m│\u001b[0m\u001b[35m│\u001b[0m                                                        \u001b[35m│\u001b[0m\n",
              "\u001b[36m│\u001b[0m                                                       \u001b[36m│\u001b[0m\u001b[35m│\u001b[0m                                                        \u001b[35m│\u001b[0m\n",
              "\u001b[36m│\u001b[0m                                                       \u001b[36m│\u001b[0m\u001b[35m│\u001b[0m                                                        \u001b[35m│\u001b[0m\n",
              "\u001b[36m│\u001b[0m                                                       \u001b[36m│\u001b[0m\u001b[35m│\u001b[0m                                                        \u001b[35m│\u001b[0m\n",
              "\u001b[36m│\u001b[0m                                                       \u001b[36m│\u001b[0m\u001b[35m│\u001b[0m                                                        \u001b[35m│\u001b[0m\n",
              "\u001b[36m│\u001b[0m                                                       \u001b[36m│\u001b[0m\u001b[35m│\u001b[0m                                                        \u001b[35m│\u001b[0m\n",
              "\u001b[36m│\u001b[0m                                                       \u001b[36m│\u001b[0m\u001b[35m│\u001b[0m                                                        \u001b[35m│\u001b[0m\n",
              "\u001b[36m│\u001b[0m                                                       \u001b[36m│\u001b[0m\u001b[35m│\u001b[0m                                                        \u001b[35m│\u001b[0m\n",
              "\u001b[36m│\u001b[0m                                                       \u001b[36m│\u001b[0m\u001b[35m│\u001b[0m                                                        \u001b[35m│\u001b[0m\n",
              "\u001b[36m│\u001b[0m                                                       \u001b[36m│\u001b[0m\u001b[35m│\u001b[0m                                                        \u001b[35m│\u001b[0m\n",
              "\u001b[36m│\u001b[0m                                                       \u001b[36m│\u001b[0m\u001b[35m│\u001b[0m                                                        \u001b[35m│\u001b[0m\n",
              "\u001b[36m│\u001b[0m                                                       \u001b[36m│\u001b[0m\u001b[35m│\u001b[0m                                                        \u001b[35m│\u001b[0m\n",
              "\u001b[36m│\u001b[0m                                                       \u001b[36m│\u001b[0m\u001b[35m│\u001b[0m                                                        \u001b[35m│\u001b[0m\n",
              "\u001b[36m│\u001b[0m                                                       \u001b[36m│\u001b[0m\u001b[35m│\u001b[0m                                                        \u001b[35m│\u001b[0m\n",
              "\u001b[36m│\u001b[0m                                                       \u001b[36m│\u001b[0m\u001b[35m│\u001b[0m                                                        \u001b[35m│\u001b[0m\n",
              "\u001b[36m│\u001b[0m                                                       \u001b[36m│\u001b[0m\u001b[35m│\u001b[0m                                                        \u001b[35m│\u001b[0m\n",
              "\u001b[36m│\u001b[0m                                                       \u001b[36m│\u001b[0m\u001b[35m│\u001b[0m                                                        \u001b[35m│\u001b[0m\n",
              "\u001b[36m│\u001b[0m                                                       \u001b[36m│\u001b[0m\u001b[35m│\u001b[0m                                                        \u001b[35m│\u001b[0m\n",
              "\u001b[36m│\u001b[0m                                                       \u001b[36m│\u001b[0m\u001b[35m│\u001b[0m                                                        \u001b[35m│\u001b[0m\n",
              "\u001b[36m│\u001b[0m                                                       \u001b[36m│\u001b[0m\u001b[35m│\u001b[0m                                                        \u001b[35m│\u001b[0m\n",
              "\u001b[36m│\u001b[0m                                                       \u001b[36m│\u001b[0m\u001b[35m│\u001b[0m                                                        \u001b[35m│\u001b[0m\n",
              "\u001b[36m│\u001b[0m                                                       \u001b[36m│\u001b[0m\u001b[35m│\u001b[0m                                                        \u001b[35m│\u001b[0m\n",
              "\u001b[36m│\u001b[0m                                                       \u001b[36m│\u001b[0m\u001b[35m│\u001b[0m                                                        \u001b[35m│\u001b[0m\n",
              "\u001b[36m│\u001b[0m                                                       \u001b[36m│\u001b[0m\u001b[35m│\u001b[0m                                                        \u001b[35m│\u001b[0m\n",
              "\u001b[36m│\u001b[0m                                                       \u001b[36m│\u001b[0m\u001b[35m│\u001b[0m                                                        \u001b[35m│\u001b[0m\n",
              "\u001b[36m│\u001b[0m                                                       \u001b[36m│\u001b[0m\u001b[35m│\u001b[0m                                                        \u001b[35m│\u001b[0m\n",
              "\u001b[36m│\u001b[0m                                                       \u001b[36m│\u001b[0m\u001b[35m│\u001b[0m                                                        \u001b[35m│\u001b[0m\n",
              "\u001b[36m│\u001b[0m                                                       \u001b[36m│\u001b[0m\u001b[35m│\u001b[0m                                                        \u001b[35m│\u001b[0m\n",
              "\u001b[36m│\u001b[0m                                                       \u001b[36m│\u001b[0m\u001b[35m│\u001b[0m                                                        \u001b[35m│\u001b[0m\n",
              "\u001b[36m│\u001b[0m                                                       \u001b[36m│\u001b[0m\u001b[35m│\u001b[0m                                                        \u001b[35m│\u001b[0m\n",
              "\u001b[36m│\u001b[0m                                                       \u001b[36m│\u001b[0m\u001b[35m│\u001b[0m                                                        \u001b[35m│\u001b[0m\n",
              "\u001b[36m│\u001b[0m                                                       \u001b[36m│\u001b[0m\u001b[35m│\u001b[0m                                                        \u001b[35m│\u001b[0m\n",
              "\u001b[36m│\u001b[0m                                                       \u001b[36m│\u001b[0m\u001b[35m│\u001b[0m                                                        \u001b[35m│\u001b[0m\n",
              "\u001b[36m│\u001b[0m                                                       \u001b[36m│\u001b[0m\u001b[35m│\u001b[0m                                                        \u001b[35m│\u001b[0m\n",
              "\u001b[36m│\u001b[0m                                                       \u001b[36m│\u001b[0m\u001b[35m│\u001b[0m                                                        \u001b[35m│\u001b[0m\n",
              "\u001b[36m│\u001b[0m                                                       \u001b[36m│\u001b[0m\u001b[35m│\u001b[0m                                                        \u001b[35m│\u001b[0m\n",
              "\u001b[36m│\u001b[0m                                                       \u001b[36m│\u001b[0m\u001b[35m│\u001b[0m                                                        \u001b[35m│\u001b[0m\n",
              "\u001b[36m│\u001b[0m                                                       \u001b[36m│\u001b[0m\u001b[35m│\u001b[0m                                                        \u001b[35m│\u001b[0m\n",
              "\u001b[36m│\u001b[0m                                                       \u001b[36m│\u001b[0m\u001b[35m│\u001b[0m                                                        \u001b[35m│\u001b[0m\n",
              "\u001b[36m│\u001b[0m                                                       \u001b[36m│\u001b[0m\u001b[35m│\u001b[0m                                                        \u001b[35m│\u001b[0m\n",
              "\u001b[36m│\u001b[0m                                                       \u001b[36m│\u001b[0m\u001b[35m│\u001b[0m                                                        \u001b[35m│\u001b[0m\n",
              "\u001b[36m│\u001b[0m                                                       \u001b[36m│\u001b[0m\u001b[35m│\u001b[0m                                                        \u001b[35m│\u001b[0m\n",
              "\u001b[36m│\u001b[0m                                                       \u001b[36m│\u001b[0m\u001b[35m│\u001b[0m                                                        \u001b[35m│\u001b[0m\n",
              "\u001b[36m│\u001b[0m                                                       \u001b[36m│\u001b[0m\u001b[35m│\u001b[0m                                                        \u001b[35m│\u001b[0m\n",
              "\u001b[36m│\u001b[0m                                                       \u001b[36m│\u001b[0m\u001b[35m│\u001b[0m                                                        \u001b[35m│\u001b[0m\n",
              "\u001b[36m│\u001b[0m                                                       \u001b[36m│\u001b[0m\u001b[35m│\u001b[0m                                                        \u001b[35m│\u001b[0m\n",
              "\u001b[36m│\u001b[0m                                                       \u001b[36m│\u001b[0m\u001b[35m│\u001b[0m                                                        \u001b[35m│\u001b[0m\n",
              "\u001b[36m│\u001b[0m                                                       \u001b[36m│\u001b[0m\u001b[35m│\u001b[0m                                                        \u001b[35m│\u001b[0m\n",
              "\u001b[36m╰───────────────────────────────────────────────────────╯\u001b[0m\u001b[35m╰────────────────────────────────────────────────────────╯\u001b[0m\n",
              "\u001b[34m╭─────────────────────────────────────────────────────────────────────────────────────────────────────────────────╮\u001b[0m\n",
              "\u001b[34m│\u001b[0m 📊 Memory: 4.2GB | CPU: 23% | Disk: 67%                                                                         \u001b[34m│\u001b[0m\n",
              "\u001b[34m╰─────────────────────────────────────────────────────────────────────────────────────────────────────────────────╯\u001b[0m\n"
            ],
            "text/html": [
              "<pre style=\"white-space:pre;overflow-x:auto;line-height:normal;font-family:Menlo,'DejaVu Sans Mono',consolas,'Courier New',monospace\"><span style=\"color: #008000; text-decoration-color: #008000\">╭─────────────────────────────────────────────────────────────────────────────────────────────────────────────────╮</span>\n",
              "<span style=\"color: #008000; text-decoration-color: #008000\">│</span> 🚀 System Status: <span style=\"color: #008000; text-decoration-color: #008000\">Online</span>                                                                                        <span style=\"color: #008000; text-decoration-color: #008000\">│</span>\n",
              "<span style=\"color: #008000; text-decoration-color: #008000\">╰─────────────────────────────────────────────────────────────────────────────────────────────────────────────────╯</span>\n",
              "<span style=\"color: #008080; text-decoration-color: #008080\">╭──────────────────── Activity Log ─────────────────────╮</span><span style=\"color: #800080; text-decoration-color: #800080\">╭─────────────────────── Metrics ────────────────────────╮</span>\n",
              "<span style=\"color: #008080; text-decoration-color: #008080\">│</span> 📋 Recent Activity:                                   <span style=\"color: #008080; text-decoration-color: #008080\">│</span><span style=\"color: #800080; text-decoration-color: #800080\">│</span> 📈 Performance:                                        <span style=\"color: #800080; text-decoration-color: #800080\">│</span>\n",
              "<span style=\"color: #008080; text-decoration-color: #008080\">│</span>                                                       <span style=\"color: #008080; text-decoration-color: #008080\">│</span><span style=\"color: #800080; text-decoration-color: #800080\">│</span>                                                        <span style=\"color: #800080; text-decoration-color: #800080\">│</span>\n",
              "<span style=\"color: #008080; text-decoration-color: #008080\">│</span> • User login                                          <span style=\"color: #008080; text-decoration-color: #008080\">│</span><span style=\"color: #800080; text-decoration-color: #800080\">│</span> Response Time: 245ms                                   <span style=\"color: #800080; text-decoration-color: #800080\">│</span>\n",
              "<span style=\"color: #008080; text-decoration-color: #008080\">│</span> • File uploaded                                       <span style=\"color: #008080; text-decoration-color: #008080\">│</span><span style=\"color: #800080; text-decoration-color: #800080\">│</span> Throughput: 1.2k req/s                                 <span style=\"color: #800080; text-decoration-color: #800080\">│</span>\n",
              "<span style=\"color: #008080; text-decoration-color: #008080\">│</span> • Report generated                                    <span style=\"color: #008080; text-decoration-color: #008080\">│</span><span style=\"color: #800080; text-decoration-color: #800080\">│</span> Uptime: 99.9%                                          <span style=\"color: #800080; text-decoration-color: #800080\">│</span>\n",
              "<span style=\"color: #008080; text-decoration-color: #008080\">│</span>                                                       <span style=\"color: #008080; text-decoration-color: #008080\">│</span><span style=\"color: #800080; text-decoration-color: #800080\">│</span>                                                        <span style=\"color: #800080; text-decoration-color: #800080\">│</span>\n",
              "<span style=\"color: #008080; text-decoration-color: #008080\">│</span>                                                       <span style=\"color: #008080; text-decoration-color: #008080\">│</span><span style=\"color: #800080; text-decoration-color: #800080\">│</span>                                                        <span style=\"color: #800080; text-decoration-color: #800080\">│</span>\n",
              "<span style=\"color: #008080; text-decoration-color: #008080\">│</span>                                                       <span style=\"color: #008080; text-decoration-color: #008080\">│</span><span style=\"color: #800080; text-decoration-color: #800080\">│</span>                                                        <span style=\"color: #800080; text-decoration-color: #800080\">│</span>\n",
              "<span style=\"color: #008080; text-decoration-color: #008080\">│</span>                                                       <span style=\"color: #008080; text-decoration-color: #008080\">│</span><span style=\"color: #800080; text-decoration-color: #800080\">│</span>                                                        <span style=\"color: #800080; text-decoration-color: #800080\">│</span>\n",
              "<span style=\"color: #008080; text-decoration-color: #008080\">│</span>                                                       <span style=\"color: #008080; text-decoration-color: #008080\">│</span><span style=\"color: #800080; text-decoration-color: #800080\">│</span>                                                        <span style=\"color: #800080; text-decoration-color: #800080\">│</span>\n",
              "<span style=\"color: #008080; text-decoration-color: #008080\">│</span>                                                       <span style=\"color: #008080; text-decoration-color: #008080\">│</span><span style=\"color: #800080; text-decoration-color: #800080\">│</span>                                                        <span style=\"color: #800080; text-decoration-color: #800080\">│</span>\n",
              "<span style=\"color: #008080; text-decoration-color: #008080\">│</span>                                                       <span style=\"color: #008080; text-decoration-color: #008080\">│</span><span style=\"color: #800080; text-decoration-color: #800080\">│</span>                                                        <span style=\"color: #800080; text-decoration-color: #800080\">│</span>\n",
              "<span style=\"color: #008080; text-decoration-color: #008080\">│</span>                                                       <span style=\"color: #008080; text-decoration-color: #008080\">│</span><span style=\"color: #800080; text-decoration-color: #800080\">│</span>                                                        <span style=\"color: #800080; text-decoration-color: #800080\">│</span>\n",
              "<span style=\"color: #008080; text-decoration-color: #008080\">│</span>                                                       <span style=\"color: #008080; text-decoration-color: #008080\">│</span><span style=\"color: #800080; text-decoration-color: #800080\">│</span>                                                        <span style=\"color: #800080; text-decoration-color: #800080\">│</span>\n",
              "<span style=\"color: #008080; text-decoration-color: #008080\">│</span>                                                       <span style=\"color: #008080; text-decoration-color: #008080\">│</span><span style=\"color: #800080; text-decoration-color: #800080\">│</span>                                                        <span style=\"color: #800080; text-decoration-color: #800080\">│</span>\n",
              "<span style=\"color: #008080; text-decoration-color: #008080\">│</span>                                                       <span style=\"color: #008080; text-decoration-color: #008080\">│</span><span style=\"color: #800080; text-decoration-color: #800080\">│</span>                                                        <span style=\"color: #800080; text-decoration-color: #800080\">│</span>\n",
              "<span style=\"color: #008080; text-decoration-color: #008080\">│</span>                                                       <span style=\"color: #008080; text-decoration-color: #008080\">│</span><span style=\"color: #800080; text-decoration-color: #800080\">│</span>                                                        <span style=\"color: #800080; text-decoration-color: #800080\">│</span>\n",
              "<span style=\"color: #008080; text-decoration-color: #008080\">│</span>                                                       <span style=\"color: #008080; text-decoration-color: #008080\">│</span><span style=\"color: #800080; text-decoration-color: #800080\">│</span>                                                        <span style=\"color: #800080; text-decoration-color: #800080\">│</span>\n",
              "<span style=\"color: #008080; text-decoration-color: #008080\">│</span>                                                       <span style=\"color: #008080; text-decoration-color: #008080\">│</span><span style=\"color: #800080; text-decoration-color: #800080\">│</span>                                                        <span style=\"color: #800080; text-decoration-color: #800080\">│</span>\n",
              "<span style=\"color: #008080; text-decoration-color: #008080\">│</span>                                                       <span style=\"color: #008080; text-decoration-color: #008080\">│</span><span style=\"color: #800080; text-decoration-color: #800080\">│</span>                                                        <span style=\"color: #800080; text-decoration-color: #800080\">│</span>\n",
              "<span style=\"color: #008080; text-decoration-color: #008080\">│</span>                                                       <span style=\"color: #008080; text-decoration-color: #008080\">│</span><span style=\"color: #800080; text-decoration-color: #800080\">│</span>                                                        <span style=\"color: #800080; text-decoration-color: #800080\">│</span>\n",
              "<span style=\"color: #008080; text-decoration-color: #008080\">│</span>                                                       <span style=\"color: #008080; text-decoration-color: #008080\">│</span><span style=\"color: #800080; text-decoration-color: #800080\">│</span>                                                        <span style=\"color: #800080; text-decoration-color: #800080\">│</span>\n",
              "<span style=\"color: #008080; text-decoration-color: #008080\">│</span>                                                       <span style=\"color: #008080; text-decoration-color: #008080\">│</span><span style=\"color: #800080; text-decoration-color: #800080\">│</span>                                                        <span style=\"color: #800080; text-decoration-color: #800080\">│</span>\n",
              "<span style=\"color: #008080; text-decoration-color: #008080\">│</span>                                                       <span style=\"color: #008080; text-decoration-color: #008080\">│</span><span style=\"color: #800080; text-decoration-color: #800080\">│</span>                                                        <span style=\"color: #800080; text-decoration-color: #800080\">│</span>\n",
              "<span style=\"color: #008080; text-decoration-color: #008080\">│</span>                                                       <span style=\"color: #008080; text-decoration-color: #008080\">│</span><span style=\"color: #800080; text-decoration-color: #800080\">│</span>                                                        <span style=\"color: #800080; text-decoration-color: #800080\">│</span>\n",
              "<span style=\"color: #008080; text-decoration-color: #008080\">│</span>                                                       <span style=\"color: #008080; text-decoration-color: #008080\">│</span><span style=\"color: #800080; text-decoration-color: #800080\">│</span>                                                        <span style=\"color: #800080; text-decoration-color: #800080\">│</span>\n",
              "<span style=\"color: #008080; text-decoration-color: #008080\">│</span>                                                       <span style=\"color: #008080; text-decoration-color: #008080\">│</span><span style=\"color: #800080; text-decoration-color: #800080\">│</span>                                                        <span style=\"color: #800080; text-decoration-color: #800080\">│</span>\n",
              "<span style=\"color: #008080; text-decoration-color: #008080\">│</span>                                                       <span style=\"color: #008080; text-decoration-color: #008080\">│</span><span style=\"color: #800080; text-decoration-color: #800080\">│</span>                                                        <span style=\"color: #800080; text-decoration-color: #800080\">│</span>\n",
              "<span style=\"color: #008080; text-decoration-color: #008080\">│</span>                                                       <span style=\"color: #008080; text-decoration-color: #008080\">│</span><span style=\"color: #800080; text-decoration-color: #800080\">│</span>                                                        <span style=\"color: #800080; text-decoration-color: #800080\">│</span>\n",
              "<span style=\"color: #008080; text-decoration-color: #008080\">│</span>                                                       <span style=\"color: #008080; text-decoration-color: #008080\">│</span><span style=\"color: #800080; text-decoration-color: #800080\">│</span>                                                        <span style=\"color: #800080; text-decoration-color: #800080\">│</span>\n",
              "<span style=\"color: #008080; text-decoration-color: #008080\">│</span>                                                       <span style=\"color: #008080; text-decoration-color: #008080\">│</span><span style=\"color: #800080; text-decoration-color: #800080\">│</span>                                                        <span style=\"color: #800080; text-decoration-color: #800080\">│</span>\n",
              "<span style=\"color: #008080; text-decoration-color: #008080\">│</span>                                                       <span style=\"color: #008080; text-decoration-color: #008080\">│</span><span style=\"color: #800080; text-decoration-color: #800080\">│</span>                                                        <span style=\"color: #800080; text-decoration-color: #800080\">│</span>\n",
              "<span style=\"color: #008080; text-decoration-color: #008080\">│</span>                                                       <span style=\"color: #008080; text-decoration-color: #008080\">│</span><span style=\"color: #800080; text-decoration-color: #800080\">│</span>                                                        <span style=\"color: #800080; text-decoration-color: #800080\">│</span>\n",
              "<span style=\"color: #008080; text-decoration-color: #008080\">│</span>                                                       <span style=\"color: #008080; text-decoration-color: #008080\">│</span><span style=\"color: #800080; text-decoration-color: #800080\">│</span>                                                        <span style=\"color: #800080; text-decoration-color: #800080\">│</span>\n",
              "<span style=\"color: #008080; text-decoration-color: #008080\">│</span>                                                       <span style=\"color: #008080; text-decoration-color: #008080\">│</span><span style=\"color: #800080; text-decoration-color: #800080\">│</span>                                                        <span style=\"color: #800080; text-decoration-color: #800080\">│</span>\n",
              "<span style=\"color: #008080; text-decoration-color: #008080\">│</span>                                                       <span style=\"color: #008080; text-decoration-color: #008080\">│</span><span style=\"color: #800080; text-decoration-color: #800080\">│</span>                                                        <span style=\"color: #800080; text-decoration-color: #800080\">│</span>\n",
              "<span style=\"color: #008080; text-decoration-color: #008080\">│</span>                                                       <span style=\"color: #008080; text-decoration-color: #008080\">│</span><span style=\"color: #800080; text-decoration-color: #800080\">│</span>                                                        <span style=\"color: #800080; text-decoration-color: #800080\">│</span>\n",
              "<span style=\"color: #008080; text-decoration-color: #008080\">│</span>                                                       <span style=\"color: #008080; text-decoration-color: #008080\">│</span><span style=\"color: #800080; text-decoration-color: #800080\">│</span>                                                        <span style=\"color: #800080; text-decoration-color: #800080\">│</span>\n",
              "<span style=\"color: #008080; text-decoration-color: #008080\">│</span>                                                       <span style=\"color: #008080; text-decoration-color: #008080\">│</span><span style=\"color: #800080; text-decoration-color: #800080\">│</span>                                                        <span style=\"color: #800080; text-decoration-color: #800080\">│</span>\n",
              "<span style=\"color: #008080; text-decoration-color: #008080\">│</span>                                                       <span style=\"color: #008080; text-decoration-color: #008080\">│</span><span style=\"color: #800080; text-decoration-color: #800080\">│</span>                                                        <span style=\"color: #800080; text-decoration-color: #800080\">│</span>\n",
              "<span style=\"color: #008080; text-decoration-color: #008080\">│</span>                                                       <span style=\"color: #008080; text-decoration-color: #008080\">│</span><span style=\"color: #800080; text-decoration-color: #800080\">│</span>                                                        <span style=\"color: #800080; text-decoration-color: #800080\">│</span>\n",
              "<span style=\"color: #008080; text-decoration-color: #008080\">│</span>                                                       <span style=\"color: #008080; text-decoration-color: #008080\">│</span><span style=\"color: #800080; text-decoration-color: #800080\">│</span>                                                        <span style=\"color: #800080; text-decoration-color: #800080\">│</span>\n",
              "<span style=\"color: #008080; text-decoration-color: #008080\">│</span>                                                       <span style=\"color: #008080; text-decoration-color: #008080\">│</span><span style=\"color: #800080; text-decoration-color: #800080\">│</span>                                                        <span style=\"color: #800080; text-decoration-color: #800080\">│</span>\n",
              "<span style=\"color: #008080; text-decoration-color: #008080\">│</span>                                                       <span style=\"color: #008080; text-decoration-color: #008080\">│</span><span style=\"color: #800080; text-decoration-color: #800080\">│</span>                                                        <span style=\"color: #800080; text-decoration-color: #800080\">│</span>\n",
              "<span style=\"color: #008080; text-decoration-color: #008080\">│</span>                                                       <span style=\"color: #008080; text-decoration-color: #008080\">│</span><span style=\"color: #800080; text-decoration-color: #800080\">│</span>                                                        <span style=\"color: #800080; text-decoration-color: #800080\">│</span>\n",
              "<span style=\"color: #008080; text-decoration-color: #008080\">│</span>                                                       <span style=\"color: #008080; text-decoration-color: #008080\">│</span><span style=\"color: #800080; text-decoration-color: #800080\">│</span>                                                        <span style=\"color: #800080; text-decoration-color: #800080\">│</span>\n",
              "<span style=\"color: #008080; text-decoration-color: #008080\">│</span>                                                       <span style=\"color: #008080; text-decoration-color: #008080\">│</span><span style=\"color: #800080; text-decoration-color: #800080\">│</span>                                                        <span style=\"color: #800080; text-decoration-color: #800080\">│</span>\n",
              "<span style=\"color: #008080; text-decoration-color: #008080\">│</span>                                                       <span style=\"color: #008080; text-decoration-color: #008080\">│</span><span style=\"color: #800080; text-decoration-color: #800080\">│</span>                                                        <span style=\"color: #800080; text-decoration-color: #800080\">│</span>\n",
              "<span style=\"color: #008080; text-decoration-color: #008080\">│</span>                                                       <span style=\"color: #008080; text-decoration-color: #008080\">│</span><span style=\"color: #800080; text-decoration-color: #800080\">│</span>                                                        <span style=\"color: #800080; text-decoration-color: #800080\">│</span>\n",
              "<span style=\"color: #008080; text-decoration-color: #008080\">│</span>                                                       <span style=\"color: #008080; text-decoration-color: #008080\">│</span><span style=\"color: #800080; text-decoration-color: #800080\">│</span>                                                        <span style=\"color: #800080; text-decoration-color: #800080\">│</span>\n",
              "<span style=\"color: #008080; text-decoration-color: #008080\">│</span>                                                       <span style=\"color: #008080; text-decoration-color: #008080\">│</span><span style=\"color: #800080; text-decoration-color: #800080\">│</span>                                                        <span style=\"color: #800080; text-decoration-color: #800080\">│</span>\n",
              "<span style=\"color: #008080; text-decoration-color: #008080\">│</span>                                                       <span style=\"color: #008080; text-decoration-color: #008080\">│</span><span style=\"color: #800080; text-decoration-color: #800080\">│</span>                                                        <span style=\"color: #800080; text-decoration-color: #800080\">│</span>\n",
              "<span style=\"color: #008080; text-decoration-color: #008080\">│</span>                                                       <span style=\"color: #008080; text-decoration-color: #008080\">│</span><span style=\"color: #800080; text-decoration-color: #800080\">│</span>                                                        <span style=\"color: #800080; text-decoration-color: #800080\">│</span>\n",
              "<span style=\"color: #008080; text-decoration-color: #008080\">│</span>                                                       <span style=\"color: #008080; text-decoration-color: #008080\">│</span><span style=\"color: #800080; text-decoration-color: #800080\">│</span>                                                        <span style=\"color: #800080; text-decoration-color: #800080\">│</span>\n",
              "<span style=\"color: #008080; text-decoration-color: #008080\">│</span>                                                       <span style=\"color: #008080; text-decoration-color: #008080\">│</span><span style=\"color: #800080; text-decoration-color: #800080\">│</span>                                                        <span style=\"color: #800080; text-decoration-color: #800080\">│</span>\n",
              "<span style=\"color: #008080; text-decoration-color: #008080\">│</span>                                                       <span style=\"color: #008080; text-decoration-color: #008080\">│</span><span style=\"color: #800080; text-decoration-color: #800080\">│</span>                                                        <span style=\"color: #800080; text-decoration-color: #800080\">│</span>\n",
              "<span style=\"color: #008080; text-decoration-color: #008080\">│</span>                                                       <span style=\"color: #008080; text-decoration-color: #008080\">│</span><span style=\"color: #800080; text-decoration-color: #800080\">│</span>                                                        <span style=\"color: #800080; text-decoration-color: #800080\">│</span>\n",
              "<span style=\"color: #008080; text-decoration-color: #008080\">│</span>                                                       <span style=\"color: #008080; text-decoration-color: #008080\">│</span><span style=\"color: #800080; text-decoration-color: #800080\">│</span>                                                        <span style=\"color: #800080; text-decoration-color: #800080\">│</span>\n",
              "<span style=\"color: #008080; text-decoration-color: #008080\">│</span>                                                       <span style=\"color: #008080; text-decoration-color: #008080\">│</span><span style=\"color: #800080; text-decoration-color: #800080\">│</span>                                                        <span style=\"color: #800080; text-decoration-color: #800080\">│</span>\n",
              "<span style=\"color: #008080; text-decoration-color: #008080\">│</span>                                                       <span style=\"color: #008080; text-decoration-color: #008080\">│</span><span style=\"color: #800080; text-decoration-color: #800080\">│</span>                                                        <span style=\"color: #800080; text-decoration-color: #800080\">│</span>\n",
              "<span style=\"color: #008080; text-decoration-color: #008080\">│</span>                                                       <span style=\"color: #008080; text-decoration-color: #008080\">│</span><span style=\"color: #800080; text-decoration-color: #800080\">│</span>                                                        <span style=\"color: #800080; text-decoration-color: #800080\">│</span>\n",
              "<span style=\"color: #008080; text-decoration-color: #008080\">│</span>                                                       <span style=\"color: #008080; text-decoration-color: #008080\">│</span><span style=\"color: #800080; text-decoration-color: #800080\">│</span>                                                        <span style=\"color: #800080; text-decoration-color: #800080\">│</span>\n",
              "<span style=\"color: #008080; text-decoration-color: #008080\">│</span>                                                       <span style=\"color: #008080; text-decoration-color: #008080\">│</span><span style=\"color: #800080; text-decoration-color: #800080\">│</span>                                                        <span style=\"color: #800080; text-decoration-color: #800080\">│</span>\n",
              "<span style=\"color: #008080; text-decoration-color: #008080\">│</span>                                                       <span style=\"color: #008080; text-decoration-color: #008080\">│</span><span style=\"color: #800080; text-decoration-color: #800080\">│</span>                                                        <span style=\"color: #800080; text-decoration-color: #800080\">│</span>\n",
              "<span style=\"color: #008080; text-decoration-color: #008080\">│</span>                                                       <span style=\"color: #008080; text-decoration-color: #008080\">│</span><span style=\"color: #800080; text-decoration-color: #800080\">│</span>                                                        <span style=\"color: #800080; text-decoration-color: #800080\">│</span>\n",
              "<span style=\"color: #008080; text-decoration-color: #008080\">│</span>                                                       <span style=\"color: #008080; text-decoration-color: #008080\">│</span><span style=\"color: #800080; text-decoration-color: #800080\">│</span>                                                        <span style=\"color: #800080; text-decoration-color: #800080\">│</span>\n",
              "<span style=\"color: #008080; text-decoration-color: #008080\">│</span>                                                       <span style=\"color: #008080; text-decoration-color: #008080\">│</span><span style=\"color: #800080; text-decoration-color: #800080\">│</span>                                                        <span style=\"color: #800080; text-decoration-color: #800080\">│</span>\n",
              "<span style=\"color: #008080; text-decoration-color: #008080\">│</span>                                                       <span style=\"color: #008080; text-decoration-color: #008080\">│</span><span style=\"color: #800080; text-decoration-color: #800080\">│</span>                                                        <span style=\"color: #800080; text-decoration-color: #800080\">│</span>\n",
              "<span style=\"color: #008080; text-decoration-color: #008080\">│</span>                                                       <span style=\"color: #008080; text-decoration-color: #008080\">│</span><span style=\"color: #800080; text-decoration-color: #800080\">│</span>                                                        <span style=\"color: #800080; text-decoration-color: #800080\">│</span>\n",
              "<span style=\"color: #008080; text-decoration-color: #008080\">│</span>                                                       <span style=\"color: #008080; text-decoration-color: #008080\">│</span><span style=\"color: #800080; text-decoration-color: #800080\">│</span>                                                        <span style=\"color: #800080; text-decoration-color: #800080\">│</span>\n",
              "<span style=\"color: #008080; text-decoration-color: #008080\">│</span>                                                       <span style=\"color: #008080; text-decoration-color: #008080\">│</span><span style=\"color: #800080; text-decoration-color: #800080\">│</span>                                                        <span style=\"color: #800080; text-decoration-color: #800080\">│</span>\n",
              "<span style=\"color: #008080; text-decoration-color: #008080\">│</span>                                                       <span style=\"color: #008080; text-decoration-color: #008080\">│</span><span style=\"color: #800080; text-decoration-color: #800080\">│</span>                                                        <span style=\"color: #800080; text-decoration-color: #800080\">│</span>\n",
              "<span style=\"color: #008080; text-decoration-color: #008080\">│</span>                                                       <span style=\"color: #008080; text-decoration-color: #008080\">│</span><span style=\"color: #800080; text-decoration-color: #800080\">│</span>                                                        <span style=\"color: #800080; text-decoration-color: #800080\">│</span>\n",
              "<span style=\"color: #008080; text-decoration-color: #008080\">│</span>                                                       <span style=\"color: #008080; text-decoration-color: #008080\">│</span><span style=\"color: #800080; text-decoration-color: #800080\">│</span>                                                        <span style=\"color: #800080; text-decoration-color: #800080\">│</span>\n",
              "<span style=\"color: #008080; text-decoration-color: #008080\">│</span>                                                       <span style=\"color: #008080; text-decoration-color: #008080\">│</span><span style=\"color: #800080; text-decoration-color: #800080\">│</span>                                                        <span style=\"color: #800080; text-decoration-color: #800080\">│</span>\n",
              "<span style=\"color: #008080; text-decoration-color: #008080\">│</span>                                                       <span style=\"color: #008080; text-decoration-color: #008080\">│</span><span style=\"color: #800080; text-decoration-color: #800080\">│</span>                                                        <span style=\"color: #800080; text-decoration-color: #800080\">│</span>\n",
              "<span style=\"color: #008080; text-decoration-color: #008080\">│</span>                                                       <span style=\"color: #008080; text-decoration-color: #008080\">│</span><span style=\"color: #800080; text-decoration-color: #800080\">│</span>                                                        <span style=\"color: #800080; text-decoration-color: #800080\">│</span>\n",
              "<span style=\"color: #008080; text-decoration-color: #008080\">│</span>                                                       <span style=\"color: #008080; text-decoration-color: #008080\">│</span><span style=\"color: #800080; text-decoration-color: #800080\">│</span>                                                        <span style=\"color: #800080; text-decoration-color: #800080\">│</span>\n",
              "<span style=\"color: #008080; text-decoration-color: #008080\">│</span>                                                       <span style=\"color: #008080; text-decoration-color: #008080\">│</span><span style=\"color: #800080; text-decoration-color: #800080\">│</span>                                                        <span style=\"color: #800080; text-decoration-color: #800080\">│</span>\n",
              "<span style=\"color: #008080; text-decoration-color: #008080\">│</span>                                                       <span style=\"color: #008080; text-decoration-color: #008080\">│</span><span style=\"color: #800080; text-decoration-color: #800080\">│</span>                                                        <span style=\"color: #800080; text-decoration-color: #800080\">│</span>\n",
              "<span style=\"color: #008080; text-decoration-color: #008080\">│</span>                                                       <span style=\"color: #008080; text-decoration-color: #008080\">│</span><span style=\"color: #800080; text-decoration-color: #800080\">│</span>                                                        <span style=\"color: #800080; text-decoration-color: #800080\">│</span>\n",
              "<span style=\"color: #008080; text-decoration-color: #008080\">│</span>                                                       <span style=\"color: #008080; text-decoration-color: #008080\">│</span><span style=\"color: #800080; text-decoration-color: #800080\">│</span>                                                        <span style=\"color: #800080; text-decoration-color: #800080\">│</span>\n",
              "<span style=\"color: #008080; text-decoration-color: #008080\">│</span>                                                       <span style=\"color: #008080; text-decoration-color: #008080\">│</span><span style=\"color: #800080; text-decoration-color: #800080\">│</span>                                                        <span style=\"color: #800080; text-decoration-color: #800080\">│</span>\n",
              "<span style=\"color: #008080; text-decoration-color: #008080\">│</span>                                                       <span style=\"color: #008080; text-decoration-color: #008080\">│</span><span style=\"color: #800080; text-decoration-color: #800080\">│</span>                                                        <span style=\"color: #800080; text-decoration-color: #800080\">│</span>\n",
              "<span style=\"color: #008080; text-decoration-color: #008080\">│</span>                                                       <span style=\"color: #008080; text-decoration-color: #008080\">│</span><span style=\"color: #800080; text-decoration-color: #800080\">│</span>                                                        <span style=\"color: #800080; text-decoration-color: #800080\">│</span>\n",
              "<span style=\"color: #008080; text-decoration-color: #008080\">│</span>                                                       <span style=\"color: #008080; text-decoration-color: #008080\">│</span><span style=\"color: #800080; text-decoration-color: #800080\">│</span>                                                        <span style=\"color: #800080; text-decoration-color: #800080\">│</span>\n",
              "<span style=\"color: #008080; text-decoration-color: #008080\">│</span>                                                       <span style=\"color: #008080; text-decoration-color: #008080\">│</span><span style=\"color: #800080; text-decoration-color: #800080\">│</span>                                                        <span style=\"color: #800080; text-decoration-color: #800080\">│</span>\n",
              "<span style=\"color: #008080; text-decoration-color: #008080\">│</span>                                                       <span style=\"color: #008080; text-decoration-color: #008080\">│</span><span style=\"color: #800080; text-decoration-color: #800080\">│</span>                                                        <span style=\"color: #800080; text-decoration-color: #800080\">│</span>\n",
              "<span style=\"color: #008080; text-decoration-color: #008080\">│</span>                                                       <span style=\"color: #008080; text-decoration-color: #008080\">│</span><span style=\"color: #800080; text-decoration-color: #800080\">│</span>                                                        <span style=\"color: #800080; text-decoration-color: #800080\">│</span>\n",
              "<span style=\"color: #008080; text-decoration-color: #008080\">│</span>                                                       <span style=\"color: #008080; text-decoration-color: #008080\">│</span><span style=\"color: #800080; text-decoration-color: #800080\">│</span>                                                        <span style=\"color: #800080; text-decoration-color: #800080\">│</span>\n",
              "<span style=\"color: #008080; text-decoration-color: #008080\">│</span>                                                       <span style=\"color: #008080; text-decoration-color: #008080\">│</span><span style=\"color: #800080; text-decoration-color: #800080\">│</span>                                                        <span style=\"color: #800080; text-decoration-color: #800080\">│</span>\n",
              "<span style=\"color: #008080; text-decoration-color: #008080\">│</span>                                                       <span style=\"color: #008080; text-decoration-color: #008080\">│</span><span style=\"color: #800080; text-decoration-color: #800080\">│</span>                                                        <span style=\"color: #800080; text-decoration-color: #800080\">│</span>\n",
              "<span style=\"color: #008080; text-decoration-color: #008080\">╰───────────────────────────────────────────────────────╯</span><span style=\"color: #800080; text-decoration-color: #800080\">╰────────────────────────────────────────────────────────╯</span>\n",
              "<span style=\"color: #000080; text-decoration-color: #000080\">╭─────────────────────────────────────────────────────────────────────────────────────────────────────────────────╮</span>\n",
              "<span style=\"color: #000080; text-decoration-color: #000080\">│</span> 📊 Memory: 4.2GB | CPU: 23% | Disk: 67%                                                                         <span style=\"color: #000080; text-decoration-color: #000080\">│</span>\n",
              "<span style=\"color: #000080; text-decoration-color: #000080\">╰─────────────────────────────────────────────────────────────────────────────────────────────────────────────────╯</span>\n",
              "</pre>\n"
            ]
          },
          "metadata": {}
        }
      ],
      "source": [
        "from rich.console import Console\n",
        "from rich.panel import Panel\n",
        "from rich.layout import Layout\n",
        "from rich.align import Align\n",
        "from rich import box\n",
        "\n",
        "console = Console()\n",
        "\n",
        "# Simple panels\n",
        "console.print(Panel(\"Hello, [bold blue]Rich[/bold blue]!\", title=\"🎉 Welcome\", border_style=\"green\"))\n",
        "console.print(Panel(\"This is a [red]warning[/red] message\", title=\"⚠️ Alert\", border_style=\"red\"))\n",
        "console.print(Panel(\"Task completed [green]successfully[/green]! ✅\", title=\"✨ Success\", border_style=\"cyan\", box=box.DOUBLE))\n",
        "\n",
        "print()\n",
        "\n",
        "# Complex layout\n",
        "layout = Layout()\n",
        "layout.split_column(\n",
        "    Layout(Panel(\"🚀 System Status: [green]Online[/green]\", border_style=\"green\"), name=\"header\", size=3),\n",
        "    Layout(name=\"main\"),\n",
        "    Layout(Panel(\"📊 Memory: 4.2GB | CPU: 23% | Disk: 67%\", border_style=\"blue\"), name=\"footer\", size=3)\n",
        ")\n",
        "\n",
        "layout[\"main\"].split_row(\n",
        "    Layout(Panel(\"📋 Recent Activity:\\n\\n• User login\\n• File uploaded\\n• Report generated\", title=\"Activity Log\", border_style=\"cyan\")),\n",
        "    Layout(Panel(\"📈 Performance:\\n\\nResponse Time: 245ms\\nThroughput: 1.2k req/s\\nUptime: 99.9%\", title=\"Metrics\", border_style=\"magenta\"))\n",
        ")\n",
        "\n",
        "console.print(layout)"
      ]
    },
    {
      "cell_type": "markdown",
      "metadata": {
        "id": "ev0jnObf7odC"
      },
      "source": [
        "## 7️⃣ JSON Pretty Printing & Data Display"
      ]
    },
    {
      "cell_type": "code",
      "execution_count": 8,
      "metadata": {
        "colab": {
          "base_uri": "https://localhost:8080/",
          "height": 1000
        },
        "id": "qJkjxQaa7odC",
        "outputId": "e5354792-f3d3-48b2-82a3-1c808799fc10"
      },
      "outputs": [
        {
          "output_type": "display_data",
          "data": {
            "text/plain": [
              "\u001b[33m╭─\u001b[0m\u001b[33m─────────────────────────────────────────────\u001b[0m\u001b[33m 📋 User Data (JSON) \u001b[0m\u001b[33m─────────────────────────────────────────────\u001b[0m\u001b[33m─╮\u001b[0m\n",
              "\u001b[33m│\u001b[0m \u001b[1m{\u001b[0m                                                                                                               \u001b[33m│\u001b[0m\n",
              "\u001b[33m│\u001b[0m   \u001b[1;34m\"users\"\u001b[0m: \u001b[1m[\u001b[0m                                                                                                    \u001b[33m│\u001b[0m\n",
              "\u001b[33m│\u001b[0m     \u001b[1m{\u001b[0m                                                                                                           \u001b[33m│\u001b[0m\n",
              "\u001b[33m│\u001b[0m       \u001b[1;34m\"id\"\u001b[0m: \u001b[1;36m1\u001b[0m,                                                                                                  \u001b[33m│\u001b[0m\n",
              "\u001b[33m│\u001b[0m       \u001b[1;34m\"name\"\u001b[0m: \u001b[32m\"Alice Johnson\"\u001b[0m,                                                                                  \u001b[33m│\u001b[0m\n",
              "\u001b[33m│\u001b[0m       \u001b[1;34m\"email\"\u001b[0m: \u001b[32m\"alice@example.com\"\u001b[0m,                                                                             \u001b[33m│\u001b[0m\n",
              "\u001b[33m│\u001b[0m       \u001b[1;34m\"active\"\u001b[0m: \u001b[3;92mtrue\u001b[0m,                                                                                           \u001b[33m│\u001b[0m\n",
              "\u001b[33m│\u001b[0m       \u001b[1;34m\"roles\"\u001b[0m: \u001b[1m[\u001b[0m                                                                                                \u001b[33m│\u001b[0m\n",
              "\u001b[33m│\u001b[0m         \u001b[32m\"admin\"\u001b[0m,                                                                                                \u001b[33m│\u001b[0m\n",
              "\u001b[33m│\u001b[0m         \u001b[32m\"user\"\u001b[0m                                                                                                  \u001b[33m│\u001b[0m\n",
              "\u001b[33m│\u001b[0m       \u001b[1m]\u001b[0m,                                                                                                        \u001b[33m│\u001b[0m\n",
              "\u001b[33m│\u001b[0m       \u001b[1;34m\"profile\"\u001b[0m: \u001b[1m{\u001b[0m                                                                                              \u001b[33m│\u001b[0m\n",
              "\u001b[33m│\u001b[0m         \u001b[1;34m\"age\"\u001b[0m: \u001b[1;36m28\u001b[0m,                                                                                              \u001b[33m│\u001b[0m\n",
              "\u001b[33m│\u001b[0m         \u001b[1;34m\"location\"\u001b[0m: \u001b[32m\"New York\"\u001b[0m,                                                                                 \u001b[33m│\u001b[0m\n",
              "\u001b[33m│\u001b[0m         \u001b[1;34m\"preferences\"\u001b[0m: \u001b[1m{\u001b[0m                                                                                        \u001b[33m│\u001b[0m\n",
              "\u001b[33m│\u001b[0m           \u001b[1;34m\"theme\"\u001b[0m: \u001b[32m\"dark\"\u001b[0m,                                                                                      \u001b[33m│\u001b[0m\n",
              "\u001b[33m│\u001b[0m           \u001b[1;34m\"notifications\"\u001b[0m: \u001b[3;92mtrue\u001b[0m,                                                                                \u001b[33m│\u001b[0m\n",
              "\u001b[33m│\u001b[0m           \u001b[1;34m\"language\"\u001b[0m: \u001b[32m\"en\"\u001b[0m                                                                                      \u001b[33m│\u001b[0m\n",
              "\u001b[33m│\u001b[0m         \u001b[1m}\u001b[0m                                                                                                       \u001b[33m│\u001b[0m\n",
              "\u001b[33m│\u001b[0m       \u001b[1m}\u001b[0m                                                                                                         \u001b[33m│\u001b[0m\n",
              "\u001b[33m│\u001b[0m     \u001b[1m}\u001b[0m,                                                                                                          \u001b[33m│\u001b[0m\n",
              "\u001b[33m│\u001b[0m     \u001b[1m{\u001b[0m                                                                                                           \u001b[33m│\u001b[0m\n",
              "\u001b[33m│\u001b[0m       \u001b[1;34m\"id\"\u001b[0m: \u001b[1;36m2\u001b[0m,                                                                                                  \u001b[33m│\u001b[0m\n",
              "\u001b[33m│\u001b[0m       \u001b[1;34m\"name\"\u001b[0m: \u001b[32m\"Bob Smith\"\u001b[0m,                                                                                      \u001b[33m│\u001b[0m\n",
              "\u001b[33m│\u001b[0m       \u001b[1;34m\"email\"\u001b[0m: \u001b[32m\"bob@example.com\"\u001b[0m,                                                                               \u001b[33m│\u001b[0m\n",
              "\u001b[33m│\u001b[0m       \u001b[1;34m\"active\"\u001b[0m: \u001b[3;91mfalse\u001b[0m,                                                                                          \u001b[33m│\u001b[0m\n",
              "\u001b[33m│\u001b[0m       \u001b[1;34m\"roles\"\u001b[0m: \u001b[1m[\u001b[0m                                                                                                \u001b[33m│\u001b[0m\n",
              "\u001b[33m│\u001b[0m         \u001b[32m\"user\"\u001b[0m                                                                                                  \u001b[33m│\u001b[0m\n",
              "\u001b[33m│\u001b[0m       \u001b[1m]\u001b[0m,                                                                                                        \u001b[33m│\u001b[0m\n",
              "\u001b[33m│\u001b[0m       \u001b[1;34m\"profile\"\u001b[0m: \u001b[1m{\u001b[0m                                                                                              \u001b[33m│\u001b[0m\n",
              "\u001b[33m│\u001b[0m         \u001b[1;34m\"age\"\u001b[0m: \u001b[1;36m35\u001b[0m,                                                                                              \u001b[33m│\u001b[0m\n",
              "\u001b[33m│\u001b[0m         \u001b[1;34m\"location\"\u001b[0m: \u001b[32m\"San Francisco\"\u001b[0m,                                                                            \u001b[33m│\u001b[0m\n",
              "\u001b[33m│\u001b[0m         \u001b[1;34m\"preferences\"\u001b[0m: \u001b[1m{\u001b[0m                                                                                        \u001b[33m│\u001b[0m\n",
              "\u001b[33m│\u001b[0m           \u001b[1;34m\"theme\"\u001b[0m: \u001b[32m\"light\"\u001b[0m,                                                                                     \u001b[33m│\u001b[0m\n",
              "\u001b[33m│\u001b[0m           \u001b[1;34m\"notifications\"\u001b[0m: \u001b[3;91mfalse\u001b[0m,                                                                               \u001b[33m│\u001b[0m\n",
              "\u001b[33m│\u001b[0m           \u001b[1;34m\"language\"\u001b[0m: \u001b[32m\"es\"\u001b[0m                                                                                      \u001b[33m│\u001b[0m\n",
              "\u001b[33m│\u001b[0m         \u001b[1m}\u001b[0m                                                                                                       \u001b[33m│\u001b[0m\n",
              "\u001b[33m│\u001b[0m       \u001b[1m}\u001b[0m                                                                                                         \u001b[33m│\u001b[0m\n",
              "\u001b[33m│\u001b[0m     \u001b[1m}\u001b[0m                                                                                                           \u001b[33m│\u001b[0m\n",
              "\u001b[33m│\u001b[0m   \u001b[1m]\u001b[0m,                                                                                                            \u001b[33m│\u001b[0m\n",
              "\u001b[33m│\u001b[0m   \u001b[1;34m\"metadata\"\u001b[0m: \u001b[1m{\u001b[0m                                                                                                 \u001b[33m│\u001b[0m\n",
              "\u001b[33m│\u001b[0m     \u001b[1;34m\"total_users\"\u001b[0m: \u001b[1;36m2\u001b[0m,                                                                                           \u001b[33m│\u001b[0m\n",
              "\u001b[33m│\u001b[0m     \u001b[1;34m\"active_users\"\u001b[0m: \u001b[1;36m1\u001b[0m,                                                                                          \u001b[33m│\u001b[0m\n",
              "\u001b[33m│\u001b[0m     \u001b[1;34m\"last_updated\"\u001b[0m: \u001b[32m\"2024-09-11T10:30:00Z\"\u001b[0m,                                                                     \u001b[33m│\u001b[0m\n",
              "\u001b[33m│\u001b[0m     \u001b[1;34m\"version\"\u001b[0m: \u001b[32m\"1.2.3\"\u001b[0m                                                                                          \u001b[33m│\u001b[0m\n",
              "\u001b[33m│\u001b[0m   \u001b[1m}\u001b[0m                                                                                                             \u001b[33m│\u001b[0m\n",
              "\u001b[33m│\u001b[0m \u001b[1m}\u001b[0m                                                                                                               \u001b[33m│\u001b[0m\n",
              "\u001b[33m╰─────────────────────────────────────────────────────────────────────────────────────────────────────────────────╯\u001b[0m\n"
            ],
            "text/html": [
              "<pre style=\"white-space:pre;overflow-x:auto;line-height:normal;font-family:Menlo,'DejaVu Sans Mono',consolas,'Courier New',monospace\"><span style=\"color: #808000; text-decoration-color: #808000\">╭────────────────────────────────────────────── 📋 User Data (JSON) ──────────────────────────────────────────────╮</span>\n",
              "<span style=\"color: #808000; text-decoration-color: #808000\">│</span> <span style=\"font-weight: bold\">{</span>                                                                                                               <span style=\"color: #808000; text-decoration-color: #808000\">│</span>\n",
              "<span style=\"color: #808000; text-decoration-color: #808000\">│</span>   <span style=\"color: #000080; text-decoration-color: #000080; font-weight: bold\">\"users\"</span>: <span style=\"font-weight: bold\">[</span>                                                                                                    <span style=\"color: #808000; text-decoration-color: #808000\">│</span>\n",
              "<span style=\"color: #808000; text-decoration-color: #808000\">│</span>     <span style=\"font-weight: bold\">{</span>                                                                                                           <span style=\"color: #808000; text-decoration-color: #808000\">│</span>\n",
              "<span style=\"color: #808000; text-decoration-color: #808000\">│</span>       <span style=\"color: #000080; text-decoration-color: #000080; font-weight: bold\">\"id\"</span>: <span style=\"color: #008080; text-decoration-color: #008080; font-weight: bold\">1</span>,                                                                                                  <span style=\"color: #808000; text-decoration-color: #808000\">│</span>\n",
              "<span style=\"color: #808000; text-decoration-color: #808000\">│</span>       <span style=\"color: #000080; text-decoration-color: #000080; font-weight: bold\">\"name\"</span>: <span style=\"color: #008000; text-decoration-color: #008000\">\"Alice Johnson\"</span>,                                                                                  <span style=\"color: #808000; text-decoration-color: #808000\">│</span>\n",
              "<span style=\"color: #808000; text-decoration-color: #808000\">│</span>       <span style=\"color: #000080; text-decoration-color: #000080; font-weight: bold\">\"email\"</span>: <span style=\"color: #008000; text-decoration-color: #008000\">\"alice@example.com\"</span>,                                                                             <span style=\"color: #808000; text-decoration-color: #808000\">│</span>\n",
              "<span style=\"color: #808000; text-decoration-color: #808000\">│</span>       <span style=\"color: #000080; text-decoration-color: #000080; font-weight: bold\">\"active\"</span>: <span style=\"color: #00ff00; text-decoration-color: #00ff00; font-style: italic\">true</span>,                                                                                           <span style=\"color: #808000; text-decoration-color: #808000\">│</span>\n",
              "<span style=\"color: #808000; text-decoration-color: #808000\">│</span>       <span style=\"color: #000080; text-decoration-color: #000080; font-weight: bold\">\"roles\"</span>: <span style=\"font-weight: bold\">[</span>                                                                                                <span style=\"color: #808000; text-decoration-color: #808000\">│</span>\n",
              "<span style=\"color: #808000; text-decoration-color: #808000\">│</span>         <span style=\"color: #008000; text-decoration-color: #008000\">\"admin\"</span>,                                                                                                <span style=\"color: #808000; text-decoration-color: #808000\">│</span>\n",
              "<span style=\"color: #808000; text-decoration-color: #808000\">│</span>         <span style=\"color: #008000; text-decoration-color: #008000\">\"user\"</span>                                                                                                  <span style=\"color: #808000; text-decoration-color: #808000\">│</span>\n",
              "<span style=\"color: #808000; text-decoration-color: #808000\">│</span>       <span style=\"font-weight: bold\">]</span>,                                                                                                        <span style=\"color: #808000; text-decoration-color: #808000\">│</span>\n",
              "<span style=\"color: #808000; text-decoration-color: #808000\">│</span>       <span style=\"color: #000080; text-decoration-color: #000080; font-weight: bold\">\"profile\"</span>: <span style=\"font-weight: bold\">{</span>                                                                                              <span style=\"color: #808000; text-decoration-color: #808000\">│</span>\n",
              "<span style=\"color: #808000; text-decoration-color: #808000\">│</span>         <span style=\"color: #000080; text-decoration-color: #000080; font-weight: bold\">\"age\"</span>: <span style=\"color: #008080; text-decoration-color: #008080; font-weight: bold\">28</span>,                                                                                              <span style=\"color: #808000; text-decoration-color: #808000\">│</span>\n",
              "<span style=\"color: #808000; text-decoration-color: #808000\">│</span>         <span style=\"color: #000080; text-decoration-color: #000080; font-weight: bold\">\"location\"</span>: <span style=\"color: #008000; text-decoration-color: #008000\">\"New York\"</span>,                                                                                 <span style=\"color: #808000; text-decoration-color: #808000\">│</span>\n",
              "<span style=\"color: #808000; text-decoration-color: #808000\">│</span>         <span style=\"color: #000080; text-decoration-color: #000080; font-weight: bold\">\"preferences\"</span>: <span style=\"font-weight: bold\">{</span>                                                                                        <span style=\"color: #808000; text-decoration-color: #808000\">│</span>\n",
              "<span style=\"color: #808000; text-decoration-color: #808000\">│</span>           <span style=\"color: #000080; text-decoration-color: #000080; font-weight: bold\">\"theme\"</span>: <span style=\"color: #008000; text-decoration-color: #008000\">\"dark\"</span>,                                                                                      <span style=\"color: #808000; text-decoration-color: #808000\">│</span>\n",
              "<span style=\"color: #808000; text-decoration-color: #808000\">│</span>           <span style=\"color: #000080; text-decoration-color: #000080; font-weight: bold\">\"notifications\"</span>: <span style=\"color: #00ff00; text-decoration-color: #00ff00; font-style: italic\">true</span>,                                                                                <span style=\"color: #808000; text-decoration-color: #808000\">│</span>\n",
              "<span style=\"color: #808000; text-decoration-color: #808000\">│</span>           <span style=\"color: #000080; text-decoration-color: #000080; font-weight: bold\">\"language\"</span>: <span style=\"color: #008000; text-decoration-color: #008000\">\"en\"</span>                                                                                      <span style=\"color: #808000; text-decoration-color: #808000\">│</span>\n",
              "<span style=\"color: #808000; text-decoration-color: #808000\">│</span>         <span style=\"font-weight: bold\">}</span>                                                                                                       <span style=\"color: #808000; text-decoration-color: #808000\">│</span>\n",
              "<span style=\"color: #808000; text-decoration-color: #808000\">│</span>       <span style=\"font-weight: bold\">}</span>                                                                                                         <span style=\"color: #808000; text-decoration-color: #808000\">│</span>\n",
              "<span style=\"color: #808000; text-decoration-color: #808000\">│</span>     <span style=\"font-weight: bold\">}</span>,                                                                                                          <span style=\"color: #808000; text-decoration-color: #808000\">│</span>\n",
              "<span style=\"color: #808000; text-decoration-color: #808000\">│</span>     <span style=\"font-weight: bold\">{</span>                                                                                                           <span style=\"color: #808000; text-decoration-color: #808000\">│</span>\n",
              "<span style=\"color: #808000; text-decoration-color: #808000\">│</span>       <span style=\"color: #000080; text-decoration-color: #000080; font-weight: bold\">\"id\"</span>: <span style=\"color: #008080; text-decoration-color: #008080; font-weight: bold\">2</span>,                                                                                                  <span style=\"color: #808000; text-decoration-color: #808000\">│</span>\n",
              "<span style=\"color: #808000; text-decoration-color: #808000\">│</span>       <span style=\"color: #000080; text-decoration-color: #000080; font-weight: bold\">\"name\"</span>: <span style=\"color: #008000; text-decoration-color: #008000\">\"Bob Smith\"</span>,                                                                                      <span style=\"color: #808000; text-decoration-color: #808000\">│</span>\n",
              "<span style=\"color: #808000; text-decoration-color: #808000\">│</span>       <span style=\"color: #000080; text-decoration-color: #000080; font-weight: bold\">\"email\"</span>: <span style=\"color: #008000; text-decoration-color: #008000\">\"bob@example.com\"</span>,                                                                               <span style=\"color: #808000; text-decoration-color: #808000\">│</span>\n",
              "<span style=\"color: #808000; text-decoration-color: #808000\">│</span>       <span style=\"color: #000080; text-decoration-color: #000080; font-weight: bold\">\"active\"</span>: <span style=\"color: #ff0000; text-decoration-color: #ff0000; font-style: italic\">false</span>,                                                                                          <span style=\"color: #808000; text-decoration-color: #808000\">│</span>\n",
              "<span style=\"color: #808000; text-decoration-color: #808000\">│</span>       <span style=\"color: #000080; text-decoration-color: #000080; font-weight: bold\">\"roles\"</span>: <span style=\"font-weight: bold\">[</span>                                                                                                <span style=\"color: #808000; text-decoration-color: #808000\">│</span>\n",
              "<span style=\"color: #808000; text-decoration-color: #808000\">│</span>         <span style=\"color: #008000; text-decoration-color: #008000\">\"user\"</span>                                                                                                  <span style=\"color: #808000; text-decoration-color: #808000\">│</span>\n",
              "<span style=\"color: #808000; text-decoration-color: #808000\">│</span>       <span style=\"font-weight: bold\">]</span>,                                                                                                        <span style=\"color: #808000; text-decoration-color: #808000\">│</span>\n",
              "<span style=\"color: #808000; text-decoration-color: #808000\">│</span>       <span style=\"color: #000080; text-decoration-color: #000080; font-weight: bold\">\"profile\"</span>: <span style=\"font-weight: bold\">{</span>                                                                                              <span style=\"color: #808000; text-decoration-color: #808000\">│</span>\n",
              "<span style=\"color: #808000; text-decoration-color: #808000\">│</span>         <span style=\"color: #000080; text-decoration-color: #000080; font-weight: bold\">\"age\"</span>: <span style=\"color: #008080; text-decoration-color: #008080; font-weight: bold\">35</span>,                                                                                              <span style=\"color: #808000; text-decoration-color: #808000\">│</span>\n",
              "<span style=\"color: #808000; text-decoration-color: #808000\">│</span>         <span style=\"color: #000080; text-decoration-color: #000080; font-weight: bold\">\"location\"</span>: <span style=\"color: #008000; text-decoration-color: #008000\">\"San Francisco\"</span>,                                                                            <span style=\"color: #808000; text-decoration-color: #808000\">│</span>\n",
              "<span style=\"color: #808000; text-decoration-color: #808000\">│</span>         <span style=\"color: #000080; text-decoration-color: #000080; font-weight: bold\">\"preferences\"</span>: <span style=\"font-weight: bold\">{</span>                                                                                        <span style=\"color: #808000; text-decoration-color: #808000\">│</span>\n",
              "<span style=\"color: #808000; text-decoration-color: #808000\">│</span>           <span style=\"color: #000080; text-decoration-color: #000080; font-weight: bold\">\"theme\"</span>: <span style=\"color: #008000; text-decoration-color: #008000\">\"light\"</span>,                                                                                     <span style=\"color: #808000; text-decoration-color: #808000\">│</span>\n",
              "<span style=\"color: #808000; text-decoration-color: #808000\">│</span>           <span style=\"color: #000080; text-decoration-color: #000080; font-weight: bold\">\"notifications\"</span>: <span style=\"color: #ff0000; text-decoration-color: #ff0000; font-style: italic\">false</span>,                                                                               <span style=\"color: #808000; text-decoration-color: #808000\">│</span>\n",
              "<span style=\"color: #808000; text-decoration-color: #808000\">│</span>           <span style=\"color: #000080; text-decoration-color: #000080; font-weight: bold\">\"language\"</span>: <span style=\"color: #008000; text-decoration-color: #008000\">\"es\"</span>                                                                                      <span style=\"color: #808000; text-decoration-color: #808000\">│</span>\n",
              "<span style=\"color: #808000; text-decoration-color: #808000\">│</span>         <span style=\"font-weight: bold\">}</span>                                                                                                       <span style=\"color: #808000; text-decoration-color: #808000\">│</span>\n",
              "<span style=\"color: #808000; text-decoration-color: #808000\">│</span>       <span style=\"font-weight: bold\">}</span>                                                                                                         <span style=\"color: #808000; text-decoration-color: #808000\">│</span>\n",
              "<span style=\"color: #808000; text-decoration-color: #808000\">│</span>     <span style=\"font-weight: bold\">}</span>                                                                                                           <span style=\"color: #808000; text-decoration-color: #808000\">│</span>\n",
              "<span style=\"color: #808000; text-decoration-color: #808000\">│</span>   <span style=\"font-weight: bold\">]</span>,                                                                                                            <span style=\"color: #808000; text-decoration-color: #808000\">│</span>\n",
              "<span style=\"color: #808000; text-decoration-color: #808000\">│</span>   <span style=\"color: #000080; text-decoration-color: #000080; font-weight: bold\">\"metadata\"</span>: <span style=\"font-weight: bold\">{</span>                                                                                                 <span style=\"color: #808000; text-decoration-color: #808000\">│</span>\n",
              "<span style=\"color: #808000; text-decoration-color: #808000\">│</span>     <span style=\"color: #000080; text-decoration-color: #000080; font-weight: bold\">\"total_users\"</span>: <span style=\"color: #008080; text-decoration-color: #008080; font-weight: bold\">2</span>,                                                                                           <span style=\"color: #808000; text-decoration-color: #808000\">│</span>\n",
              "<span style=\"color: #808000; text-decoration-color: #808000\">│</span>     <span style=\"color: #000080; text-decoration-color: #000080; font-weight: bold\">\"active_users\"</span>: <span style=\"color: #008080; text-decoration-color: #008080; font-weight: bold\">1</span>,                                                                                          <span style=\"color: #808000; text-decoration-color: #808000\">│</span>\n",
              "<span style=\"color: #808000; text-decoration-color: #808000\">│</span>     <span style=\"color: #000080; text-decoration-color: #000080; font-weight: bold\">\"last_updated\"</span>: <span style=\"color: #008000; text-decoration-color: #008000\">\"2024-09-11T10:30:00Z\"</span>,                                                                     <span style=\"color: #808000; text-decoration-color: #808000\">│</span>\n",
              "<span style=\"color: #808000; text-decoration-color: #808000\">│</span>     <span style=\"color: #000080; text-decoration-color: #000080; font-weight: bold\">\"version\"</span>: <span style=\"color: #008000; text-decoration-color: #008000\">\"1.2.3\"</span>                                                                                          <span style=\"color: #808000; text-decoration-color: #808000\">│</span>\n",
              "<span style=\"color: #808000; text-decoration-color: #808000\">│</span>   <span style=\"font-weight: bold\">}</span>                                                                                                             <span style=\"color: #808000; text-decoration-color: #808000\">│</span>\n",
              "<span style=\"color: #808000; text-decoration-color: #808000\">│</span> <span style=\"font-weight: bold\">}</span>                                                                                                               <span style=\"color: #808000; text-decoration-color: #808000\">│</span>\n",
              "<span style=\"color: #808000; text-decoration-color: #808000\">╰─────────────────────────────────────────────────────────────────────────────────────────────────────────────────╯</span>\n",
              "</pre>\n"
            ]
          },
          "metadata": {}
        },
        {
          "output_type": "display_data",
          "data": {
            "text/plain": [
              "\n"
            ],
            "text/html": [
              "<pre style=\"white-space:pre;overflow-x:auto;line-height:normal;font-family:Menlo,'DejaVu Sans Mono',consolas,'Courier New',monospace\">\n",
              "</pre>\n"
            ]
          },
          "metadata": {}
        },
        {
          "output_type": "display_data",
          "data": {
            "text/plain": [
              "\u001b[1mPython object pretty printing:\u001b[0m\n"
            ],
            "text/html": [
              "<pre style=\"white-space:pre;overflow-x:auto;line-height:normal;font-family:Menlo,'DejaVu Sans Mono',consolas,'Courier New',monospace\"><span style=\"font-weight: bold\">Python object pretty printing:</span>\n",
              "</pre>\n"
            ]
          },
          "metadata": {}
        },
        {
          "output_type": "display_data",
          "data": {
            "text/plain": [
              "\u001b[1m{\u001b[0m\n",
              "\u001b[2;32m│   \u001b[0m\u001b[32m'users'\u001b[0m: \u001b[1m[\u001b[0m\n",
              "\u001b[2;32m│   │   \u001b[0m\u001b[1m{\u001b[0m\n",
              "\u001b[2;32m│   │   │   \u001b[0m\u001b[32m'id'\u001b[0m: \u001b[1;36m1\u001b[0m,\n",
              "\u001b[2;32m│   │   │   \u001b[0m\u001b[32m'name'\u001b[0m: \u001b[32m'Alice Johnson'\u001b[0m,\n",
              "\u001b[2;32m│   │   │   \u001b[0m\u001b[32m'email'\u001b[0m: \u001b[32m'alice@example.com'\u001b[0m,\n",
              "\u001b[2;32m│   │   │   \u001b[0m\u001b[32m'active'\u001b[0m: \u001b[3;92mTrue\u001b[0m,\n",
              "\u001b[2;32m│   │   │   \u001b[0m\u001b[32m'roles'\u001b[0m: \u001b[1m[\u001b[0m\u001b[32m'admin'\u001b[0m, \u001b[32m'user'\u001b[0m\u001b[1m]\u001b[0m,\n",
              "\u001b[2;32m│   │   │   \u001b[0m\u001b[32m'profile'\u001b[0m: \u001b[1m{\u001b[0m\n",
              "\u001b[2;32m│   │   │   │   \u001b[0m\u001b[32m'age'\u001b[0m: \u001b[1;36m28\u001b[0m,\n",
              "\u001b[2;32m│   │   │   │   \u001b[0m\u001b[32m'location'\u001b[0m: \u001b[32m'New York'\u001b[0m,\n",
              "\u001b[2;32m│   │   │   │   \u001b[0m\u001b[32m'preferences'\u001b[0m: \u001b[1m{\u001b[0m\u001b[32m'theme'\u001b[0m: \u001b[32m'dark'\u001b[0m, \u001b[32m'notifications'\u001b[0m: \u001b[3;92mTrue\u001b[0m, \u001b[32m'language'\u001b[0m: \u001b[32m'en'\u001b[0m\u001b[1m}\u001b[0m\n",
              "\u001b[2;32m│   │   │   \u001b[0m\u001b[1m}\u001b[0m\n",
              "\u001b[2;32m│   │   \u001b[0m\u001b[1m}\u001b[0m,\n",
              "\u001b[2;32m│   │   \u001b[0m\u001b[1m{\u001b[0m\n",
              "\u001b[2;32m│   │   │   \u001b[0m\u001b[32m'id'\u001b[0m: \u001b[1;36m2\u001b[0m,\n",
              "\u001b[2;32m│   │   │   \u001b[0m\u001b[32m'name'\u001b[0m: \u001b[32m'Bob Smith'\u001b[0m,\n",
              "\u001b[2;32m│   │   │   \u001b[0m\u001b[32m'email'\u001b[0m: \u001b[32m'bob@example.com'\u001b[0m,\n",
              "\u001b[2;32m│   │   │   \u001b[0m\u001b[32m'active'\u001b[0m: \u001b[3;91mFalse\u001b[0m,\n",
              "\u001b[2;32m│   │   │   \u001b[0m\u001b[32m'roles'\u001b[0m: \u001b[1m[\u001b[0m\u001b[32m'user'\u001b[0m\u001b[1m]\u001b[0m,\n",
              "\u001b[2;32m│   │   │   \u001b[0m\u001b[32m'profile'\u001b[0m: \u001b[1m{\u001b[0m\n",
              "\u001b[2;32m│   │   │   │   \u001b[0m\u001b[32m'age'\u001b[0m: \u001b[1;36m35\u001b[0m,\n",
              "\u001b[2;32m│   │   │   │   \u001b[0m\u001b[32m'location'\u001b[0m: \u001b[32m'San Francisco'\u001b[0m,\n",
              "\u001b[2;32m│   │   │   │   \u001b[0m\u001b[32m'preferences'\u001b[0m: \u001b[1m{\u001b[0m\u001b[32m'theme'\u001b[0m: \u001b[32m'light'\u001b[0m, \u001b[32m'notifications'\u001b[0m: \u001b[3;91mFalse\u001b[0m, \u001b[32m'language'\u001b[0m: \u001b[32m'es'\u001b[0m\u001b[1m}\u001b[0m\n",
              "\u001b[2;32m│   │   │   \u001b[0m\u001b[1m}\u001b[0m\n",
              "\u001b[2;32m│   │   \u001b[0m\u001b[1m}\u001b[0m\n",
              "\u001b[2;32m│   \u001b[0m\u001b[1m]\u001b[0m,\n",
              "\u001b[2;32m│   \u001b[0m\u001b[32m'metadata'\u001b[0m: \u001b[1m{\u001b[0m\u001b[32m'total_users'\u001b[0m: \u001b[1;36m2\u001b[0m, \u001b[32m'active_users'\u001b[0m: \u001b[1;36m1\u001b[0m, \u001b[32m'last_updated'\u001b[0m: \u001b[32m'2024-09-11T10:30:00Z'\u001b[0m, \u001b[32m'version'\u001b[0m: \u001b[32m'1.2.3'\u001b[0m\u001b[1m}\u001b[0m\n",
              "\u001b[1m}\u001b[0m\n"
            ],
            "text/html": [
              "<pre style=\"white-space:pre;overflow-x:auto;line-height:normal;font-family:Menlo,'DejaVu Sans Mono',consolas,'Courier New',monospace\"><span style=\"font-weight: bold\">{</span>\n",
              "<span style=\"color: #7fbf7f; text-decoration-color: #7fbf7f\">│   </span><span style=\"color: #008000; text-decoration-color: #008000\">'users'</span>: <span style=\"font-weight: bold\">[</span>\n",
              "<span style=\"color: #7fbf7f; text-decoration-color: #7fbf7f\">│   │   </span><span style=\"font-weight: bold\">{</span>\n",
              "<span style=\"color: #7fbf7f; text-decoration-color: #7fbf7f\">│   │   │   </span><span style=\"color: #008000; text-decoration-color: #008000\">'id'</span>: <span style=\"color: #008080; text-decoration-color: #008080; font-weight: bold\">1</span>,\n",
              "<span style=\"color: #7fbf7f; text-decoration-color: #7fbf7f\">│   │   │   </span><span style=\"color: #008000; text-decoration-color: #008000\">'name'</span>: <span style=\"color: #008000; text-decoration-color: #008000\">'Alice Johnson'</span>,\n",
              "<span style=\"color: #7fbf7f; text-decoration-color: #7fbf7f\">│   │   │   </span><span style=\"color: #008000; text-decoration-color: #008000\">'email'</span>: <span style=\"color: #008000; text-decoration-color: #008000\">'alice@example.com'</span>,\n",
              "<span style=\"color: #7fbf7f; text-decoration-color: #7fbf7f\">│   │   │   </span><span style=\"color: #008000; text-decoration-color: #008000\">'active'</span>: <span style=\"color: #00ff00; text-decoration-color: #00ff00; font-style: italic\">True</span>,\n",
              "<span style=\"color: #7fbf7f; text-decoration-color: #7fbf7f\">│   │   │   </span><span style=\"color: #008000; text-decoration-color: #008000\">'roles'</span>: <span style=\"font-weight: bold\">[</span><span style=\"color: #008000; text-decoration-color: #008000\">'admin'</span>, <span style=\"color: #008000; text-decoration-color: #008000\">'user'</span><span style=\"font-weight: bold\">]</span>,\n",
              "<span style=\"color: #7fbf7f; text-decoration-color: #7fbf7f\">│   │   │   </span><span style=\"color: #008000; text-decoration-color: #008000\">'profile'</span>: <span style=\"font-weight: bold\">{</span>\n",
              "<span style=\"color: #7fbf7f; text-decoration-color: #7fbf7f\">│   │   │   │   </span><span style=\"color: #008000; text-decoration-color: #008000\">'age'</span>: <span style=\"color: #008080; text-decoration-color: #008080; font-weight: bold\">28</span>,\n",
              "<span style=\"color: #7fbf7f; text-decoration-color: #7fbf7f\">│   │   │   │   </span><span style=\"color: #008000; text-decoration-color: #008000\">'location'</span>: <span style=\"color: #008000; text-decoration-color: #008000\">'New York'</span>,\n",
              "<span style=\"color: #7fbf7f; text-decoration-color: #7fbf7f\">│   │   │   │   </span><span style=\"color: #008000; text-decoration-color: #008000\">'preferences'</span>: <span style=\"font-weight: bold\">{</span><span style=\"color: #008000; text-decoration-color: #008000\">'theme'</span>: <span style=\"color: #008000; text-decoration-color: #008000\">'dark'</span>, <span style=\"color: #008000; text-decoration-color: #008000\">'notifications'</span>: <span style=\"color: #00ff00; text-decoration-color: #00ff00; font-style: italic\">True</span>, <span style=\"color: #008000; text-decoration-color: #008000\">'language'</span>: <span style=\"color: #008000; text-decoration-color: #008000\">'en'</span><span style=\"font-weight: bold\">}</span>\n",
              "<span style=\"color: #7fbf7f; text-decoration-color: #7fbf7f\">│   │   │   </span><span style=\"font-weight: bold\">}</span>\n",
              "<span style=\"color: #7fbf7f; text-decoration-color: #7fbf7f\">│   │   </span><span style=\"font-weight: bold\">}</span>,\n",
              "<span style=\"color: #7fbf7f; text-decoration-color: #7fbf7f\">│   │   </span><span style=\"font-weight: bold\">{</span>\n",
              "<span style=\"color: #7fbf7f; text-decoration-color: #7fbf7f\">│   │   │   </span><span style=\"color: #008000; text-decoration-color: #008000\">'id'</span>: <span style=\"color: #008080; text-decoration-color: #008080; font-weight: bold\">2</span>,\n",
              "<span style=\"color: #7fbf7f; text-decoration-color: #7fbf7f\">│   │   │   </span><span style=\"color: #008000; text-decoration-color: #008000\">'name'</span>: <span style=\"color: #008000; text-decoration-color: #008000\">'Bob Smith'</span>,\n",
              "<span style=\"color: #7fbf7f; text-decoration-color: #7fbf7f\">│   │   │   </span><span style=\"color: #008000; text-decoration-color: #008000\">'email'</span>: <span style=\"color: #008000; text-decoration-color: #008000\">'bob@example.com'</span>,\n",
              "<span style=\"color: #7fbf7f; text-decoration-color: #7fbf7f\">│   │   │   </span><span style=\"color: #008000; text-decoration-color: #008000\">'active'</span>: <span style=\"color: #ff0000; text-decoration-color: #ff0000; font-style: italic\">False</span>,\n",
              "<span style=\"color: #7fbf7f; text-decoration-color: #7fbf7f\">│   │   │   </span><span style=\"color: #008000; text-decoration-color: #008000\">'roles'</span>: <span style=\"font-weight: bold\">[</span><span style=\"color: #008000; text-decoration-color: #008000\">'user'</span><span style=\"font-weight: bold\">]</span>,\n",
              "<span style=\"color: #7fbf7f; text-decoration-color: #7fbf7f\">│   │   │   </span><span style=\"color: #008000; text-decoration-color: #008000\">'profile'</span>: <span style=\"font-weight: bold\">{</span>\n",
              "<span style=\"color: #7fbf7f; text-decoration-color: #7fbf7f\">│   │   │   │   </span><span style=\"color: #008000; text-decoration-color: #008000\">'age'</span>: <span style=\"color: #008080; text-decoration-color: #008080; font-weight: bold\">35</span>,\n",
              "<span style=\"color: #7fbf7f; text-decoration-color: #7fbf7f\">│   │   │   │   </span><span style=\"color: #008000; text-decoration-color: #008000\">'location'</span>: <span style=\"color: #008000; text-decoration-color: #008000\">'San Francisco'</span>,\n",
              "<span style=\"color: #7fbf7f; text-decoration-color: #7fbf7f\">│   │   │   │   </span><span style=\"color: #008000; text-decoration-color: #008000\">'preferences'</span>: <span style=\"font-weight: bold\">{</span><span style=\"color: #008000; text-decoration-color: #008000\">'theme'</span>: <span style=\"color: #008000; text-decoration-color: #008000\">'light'</span>, <span style=\"color: #008000; text-decoration-color: #008000\">'notifications'</span>: <span style=\"color: #ff0000; text-decoration-color: #ff0000; font-style: italic\">False</span>, <span style=\"color: #008000; text-decoration-color: #008000\">'language'</span>: <span style=\"color: #008000; text-decoration-color: #008000\">'es'</span><span style=\"font-weight: bold\">}</span>\n",
              "<span style=\"color: #7fbf7f; text-decoration-color: #7fbf7f\">│   │   │   </span><span style=\"font-weight: bold\">}</span>\n",
              "<span style=\"color: #7fbf7f; text-decoration-color: #7fbf7f\">│   │   </span><span style=\"font-weight: bold\">}</span>\n",
              "<span style=\"color: #7fbf7f; text-decoration-color: #7fbf7f\">│   </span><span style=\"font-weight: bold\">]</span>,\n",
              "<span style=\"color: #7fbf7f; text-decoration-color: #7fbf7f\">│   </span><span style=\"color: #008000; text-decoration-color: #008000\">'metadata'</span>: <span style=\"font-weight: bold\">{</span><span style=\"color: #008000; text-decoration-color: #008000\">'total_users'</span>: <span style=\"color: #008080; text-decoration-color: #008080; font-weight: bold\">2</span>, <span style=\"color: #008000; text-decoration-color: #008000\">'active_users'</span>: <span style=\"color: #008080; text-decoration-color: #008080; font-weight: bold\">1</span>, <span style=\"color: #008000; text-decoration-color: #008000\">'last_updated'</span>: <span style=\"color: #008000; text-decoration-color: #008000\">'2024-09-11T10:30:00Z'</span>, <span style=\"color: #008000; text-decoration-color: #008000\">'version'</span>: <span style=\"color: #008000; text-decoration-color: #008000\">'1.2.3'</span><span style=\"font-weight: bold\">}</span>\n",
              "<span style=\"font-weight: bold\">}</span>\n",
              "</pre>\n"
            ]
          },
          "metadata": {}
        }
      ],
      "source": [
        "from rich.console import Console\n",
        "from rich.json import JSON\n",
        "from rich.pretty import pprint\n",
        "import json\n",
        "\n",
        "console = Console()\n",
        "\n",
        "# Sample complex data\n",
        "data = {\n",
        "    \"users\": [\n",
        "        {\n",
        "            \"id\": 1,\n",
        "            \"name\": \"Alice Johnson\",\n",
        "            \"email\": \"alice@example.com\",\n",
        "            \"active\": True,\n",
        "            \"roles\": [\"admin\", \"user\"],\n",
        "            \"profile\": {\n",
        "                \"age\": 28,\n",
        "                \"location\": \"New York\",\n",
        "                \"preferences\": {\n",
        "                    \"theme\": \"dark\",\n",
        "                    \"notifications\": True,\n",
        "                    \"language\": \"en\"\n",
        "                }\n",
        "            }\n",
        "        },\n",
        "        {\n",
        "            \"id\": 2,\n",
        "            \"name\": \"Bob Smith\",\n",
        "            \"email\": \"bob@example.com\",\n",
        "            \"active\": False,\n",
        "            \"roles\": [\"user\"],\n",
        "            \"profile\": {\n",
        "                \"age\": 35,\n",
        "                \"location\": \"San Francisco\",\n",
        "                \"preferences\": {\n",
        "                    \"theme\": \"light\",\n",
        "                    \"notifications\": False,\n",
        "                    \"language\": \"es\"\n",
        "                }\n",
        "            }\n",
        "        }\n",
        "    ],\n",
        "    \"metadata\": {\n",
        "        \"total_users\": 2,\n",
        "        \"active_users\": 1,\n",
        "        \"last_updated\": \"2024-09-11T10:30:00Z\",\n",
        "        \"version\": \"1.2.3\"\n",
        "    }\n",
        "}\n",
        "\n",
        "# Pretty print with Rich JSON\n",
        "console.print(Panel(JSON(json.dumps(data)), title=\"📋 User Data (JSON)\", border_style=\"yellow\"))\n",
        "\n",
        "print()\n",
        "\n",
        "# Pretty print Python objects\n",
        "console.print(\"[bold]Python object pretty printing:[/bold]\")\n",
        "pprint(data, console=console)"
      ]
    },
    {
      "cell_type": "markdown",
      "metadata": {
        "id": "rmNtJhLW7odC"
      },
      "source": [
        "## 8️⃣ Live Display & Status"
      ]
    },
    {
      "cell_type": "code",
      "execution_count": 9,
      "metadata": {
        "colab": {
          "base_uri": "https://localhost:8080/",
          "height": 210,
          "referenced_widgets": [
            "84cfe019e26445ce821cb9d12c64dbe8",
            "d57f130c84b5410fa6c996decd384afd",
            "72b3cf0a9daf41739e17f12f9f08aeb8",
            "e239c06ab55742e9bebf3611c9659fa1"
          ]
        },
        "id": "OBGGIrWn7odC",
        "outputId": "d9d24673-b153-427f-a6e1-59cb0f2e8306"
      },
      "outputs": [
        {
          "output_type": "display_data",
          "data": {
            "text/plain": [
              "Output()"
            ],
            "application/vnd.jupyter.widget-view+json": {
              "version_major": 2,
              "version_minor": 0,
              "model_id": "84cfe019e26445ce821cb9d12c64dbe8"
            }
          },
          "metadata": {}
        },
        {
          "output_type": "display_data",
          "data": {
            "text/plain": [],
            "text/html": [
              "<pre style=\"white-space:pre;overflow-x:auto;line-height:normal;font-family:Menlo,'DejaVu Sans Mono',consolas,'Courier New',monospace\"></pre>\n"
            ]
          },
          "metadata": {}
        },
        {
          "output_type": "display_data",
          "data": {
            "text/plain": [
              "✅ \u001b[32mConnected successfully!\u001b[0m\n"
            ],
            "text/html": [
              "<pre style=\"white-space:pre;overflow-x:auto;line-height:normal;font-family:Menlo,'DejaVu Sans Mono',consolas,'Courier New',monospace\">✅ <span style=\"color: #008000; text-decoration-color: #008000\">Connected successfully!</span>\n",
              "</pre>\n"
            ]
          },
          "metadata": {}
        },
        {
          "output_type": "display_data",
          "data": {
            "text/plain": [
              "\n"
            ],
            "text/html": [
              "<pre style=\"white-space:pre;overflow-x:auto;line-height:normal;font-family:Menlo,'DejaVu Sans Mono',consolas,'Courier New',monospace\">\n",
              "</pre>\n"
            ]
          },
          "metadata": {}
        },
        {
          "output_type": "display_data",
          "data": {
            "text/plain": [
              "Output()"
            ],
            "application/vnd.jupyter.widget-view+json": {
              "version_major": 2,
              "version_minor": 0,
              "model_id": "72b3cf0a9daf41739e17f12f9f08aeb8"
            }
          },
          "metadata": {}
        },
        {
          "output_type": "display_data",
          "data": {
            "text/plain": [],
            "text/html": [
              "<pre style=\"white-space:pre;overflow-x:auto;line-height:normal;font-family:Menlo,'DejaVu Sans Mono',consolas,'Courier New',monospace\"></pre>\n"
            ]
          },
          "metadata": {}
        },
        {
          "output_type": "display_data",
          "data": {
            "text/plain": [
              "\n",
              "🏁 \u001b[1mLive demo completed!\u001b[0m\n"
            ],
            "text/html": [
              "<pre style=\"white-space:pre;overflow-x:auto;line-height:normal;font-family:Menlo,'DejaVu Sans Mono',consolas,'Courier New',monospace\">\n",
              "🏁 <span style=\"font-weight: bold\">Live demo completed!</span>\n",
              "</pre>\n"
            ]
          },
          "metadata": {}
        }
      ],
      "source": [
        "from rich.live import Live\n",
        "from rich.console import Console\n",
        "from rich.table import Table\n",
        "from rich.status import Status\n",
        "import time\n",
        "import random\n",
        "\n",
        "console = Console()\n",
        "\n",
        "# Status spinner\n",
        "with console.status(\"[bold green]Connecting to server...\") as status:\n",
        "    time.sleep(2)\n",
        "    status.update(\"[bold yellow]Authenticating...\")\n",
        "    time.sleep(2)\n",
        "    status.update(\"[bold blue]Loading data...\")\n",
        "    time.sleep(2)\n",
        "\n",
        "console.print(\"✅ [green]Connected successfully![/green]\")\n",
        "print()\n",
        "\n",
        "# Live updating table\n",
        "def generate_table():\n",
        "    \"\"\"Generate a table with random data.\"\"\"\n",
        "    table = Table(title=\"📊 Live Server Metrics\")\n",
        "    table.add_column(\"Server\", style=\"cyan\")\n",
        "    table.add_column(\"CPU %\", justify=\"right\", style=\"green\")\n",
        "    table.add_column(\"Memory %\", justify=\"right\", style=\"yellow\")\n",
        "    table.add_column(\"Status\", justify=\"center\")\n",
        "\n",
        "    servers = [\"web-01\", \"web-02\", \"db-01\", \"cache-01\"]\n",
        "\n",
        "    for server in servers:\n",
        "        cpu = random.randint(10, 90)\n",
        "        memory = random.randint(20, 95)\n",
        "        status = \"🟢\" if cpu < 80 and memory < 85 else \"🟡\" if cpu < 95 and memory < 95 else \"🔴\"\n",
        "        table.add_row(server, f\"{cpu}%\", f\"{memory}%\", status)\n",
        "\n",
        "    return table\n",
        "\n",
        "# Live display for 10 seconds\n",
        "with Live(generate_table(), refresh_per_second=4) as live:\n",
        "    for _ in range(40):  # Update 40 times (10 seconds at 4fps)\n",
        "        time.sleep(0.25)\n",
        "        live.update(generate_table())\n",
        "\n",
        "console.print(\"\\n🏁 [bold]Live demo completed![/bold]\")"
      ]
    },
    {
      "cell_type": "markdown",
      "metadata": {
        "id": "Dhldq66D7odC"
      },
      "source": [
        "## 9️⃣ Tree Structure & File Display"
      ]
    },
    {
      "cell_type": "code",
      "execution_count": 10,
      "metadata": {
        "colab": {
          "base_uri": "https://localhost:8080/",
          "height": 330
        },
        "id": "8KgiMlb57odC",
        "outputId": "5bbc4e41-6e17-4c5e-fb20-0c6801e96e3d"
      },
      "outputs": [
        {
          "output_type": "display_data",
          "data": {
            "text/plain": [
              "📁 \u001b[1;34mProject Structure\u001b[0m\n",
              "├── 📁 \u001b[1msrc/\u001b[0m\n",
              "│   ├── 🐍 \u001b[32mmain.py\u001b[0m \u001b[2m(2.3 KB)\u001b[0m\n",
              "│   ├── 🐍 \u001b[32mutils.py\u001b[0m \u001b[2m(1.8 KB)\u001b[0m\n",
              "│   ├── 🐍 \u001b[32mconfig.py\u001b[0m \u001b[2m(0.9 KB)\u001b[0m\n",
              "│   └── 📁 \u001b[1mmodels/\u001b[0m\n",
              "│       ├── 🐍 \u001b[32muser.py\u001b[0m \u001b[2m(3.2 KB)\u001b[0m\n",
              "│       └── 🐍 \u001b[32mproduct.py\u001b[0m \u001b[2m(2.7 KB)\u001b[0m\n",
              "├── 📁 \u001b[1mtests/\u001b[0m\n",
              "│   ├── 🧪 \u001b[33mtest_main.py\u001b[0m \u001b[2m(1.5 KB)\u001b[0m\n",
              "│   └── 🧪 \u001b[33mtest_utils.py\u001b[0m \u001b[2m(1.2 KB)\u001b[0m\n",
              "├── 📁 \u001b[1mdocs/\u001b[0m\n",
              "│   ├── 📄 \u001b[34mREADME.md\u001b[0m \u001b[2m(4.1 KB)\u001b[0m\n",
              "│   └── 📄 \u001b[34mAPI.md\u001b[0m \u001b[2m(2.8 KB)\u001b[0m\n",
              "├── ⚙️ \u001b[35mrequirements.txt\u001b[0m \u001b[2m(0.3 KB)\u001b[0m\n",
              "├── ⚙️ \u001b[35msetup.py\u001b[0m \u001b[2m(1.1 KB)\u001b[0m\n",
              "└── 📄 \u001b[34mLICENSE\u001b[0m \u001b[2m(1.0 KB)\u001b[0m\n"
            ],
            "text/html": [
              "<pre style=\"white-space:pre;overflow-x:auto;line-height:normal;font-family:Menlo,'DejaVu Sans Mono',consolas,'Courier New',monospace\">📁 <span style=\"color: #000080; text-decoration-color: #000080; font-weight: bold\">Project Structure</span>\n",
              "├── 📁 <span style=\"font-weight: bold\">src/</span>\n",
              "│   ├── 🐍 <span style=\"color: #008000; text-decoration-color: #008000\">main.py</span> <span style=\"color: #7f7f7f; text-decoration-color: #7f7f7f\">(2.3 KB)</span>\n",
              "│   ├── 🐍 <span style=\"color: #008000; text-decoration-color: #008000\">utils.py</span> <span style=\"color: #7f7f7f; text-decoration-color: #7f7f7f\">(1.8 KB)</span>\n",
              "│   ├── 🐍 <span style=\"color: #008000; text-decoration-color: #008000\">config.py</span> <span style=\"color: #7f7f7f; text-decoration-color: #7f7f7f\">(0.9 KB)</span>\n",
              "│   └── 📁 <span style=\"font-weight: bold\">models/</span>\n",
              "│       ├── 🐍 <span style=\"color: #008000; text-decoration-color: #008000\">user.py</span> <span style=\"color: #7f7f7f; text-decoration-color: #7f7f7f\">(3.2 KB)</span>\n",
              "│       └── 🐍 <span style=\"color: #008000; text-decoration-color: #008000\">product.py</span> <span style=\"color: #7f7f7f; text-decoration-color: #7f7f7f\">(2.7 KB)</span>\n",
              "├── 📁 <span style=\"font-weight: bold\">tests/</span>\n",
              "│   ├── 🧪 <span style=\"color: #808000; text-decoration-color: #808000\">test_main.py</span> <span style=\"color: #7f7f7f; text-decoration-color: #7f7f7f\">(1.5 KB)</span>\n",
              "│   └── 🧪 <span style=\"color: #808000; text-decoration-color: #808000\">test_utils.py</span> <span style=\"color: #7f7f7f; text-decoration-color: #7f7f7f\">(1.2 KB)</span>\n",
              "├── 📁 <span style=\"font-weight: bold\">docs/</span>\n",
              "│   ├── 📄 <span style=\"color: #000080; text-decoration-color: #000080\">README.md</span> <span style=\"color: #7f7f7f; text-decoration-color: #7f7f7f\">(4.1 KB)</span>\n",
              "│   └── 📄 <span style=\"color: #000080; text-decoration-color: #000080\">API.md</span> <span style=\"color: #7f7f7f; text-decoration-color: #7f7f7f\">(2.8 KB)</span>\n",
              "├── ⚙️ <span style=\"color: #800080; text-decoration-color: #800080\">requirements.txt</span> <span style=\"color: #7f7f7f; text-decoration-color: #7f7f7f\">(0.3 KB)</span>\n",
              "├── ⚙️ <span style=\"color: #800080; text-decoration-color: #800080\">setup.py</span> <span style=\"color: #7f7f7f; text-decoration-color: #7f7f7f\">(1.1 KB)</span>\n",
              "└── 📄 <span style=\"color: #000080; text-decoration-color: #000080\">LICENSE</span> <span style=\"color: #7f7f7f; text-decoration-color: #7f7f7f\">(1.0 KB)</span>\n",
              "</pre>\n"
            ]
          },
          "metadata": {}
        }
      ],
      "source": [
        "from rich.tree import Tree\n",
        "from rich.console import Console\n",
        "from rich.filesize import decimal\n",
        "from rich.markup import escape\n",
        "\n",
        "console = Console()\n",
        "\n",
        "# Create a file tree\n",
        "tree = Tree(\"📁 [bold blue]Project Structure[/bold blue]\")\n",
        "\n",
        "# Add main directories\n",
        "src_branch = tree.add(\"📁 [bold]src/[/bold]\")\n",
        "src_branch.add(\"🐍 [green]main.py[/green] [dim](2.3 KB)[/dim]\")\n",
        "src_branch.add(\"🐍 [green]utils.py[/green] [dim](1.8 KB)[/dim]\")\n",
        "src_branch.add(\"🐍 [green]config.py[/green] [dim](0.9 KB)[/dim]\")\n",
        "\n",
        "models_branch = src_branch.add(\"📁 [bold]models/[/bold]\")\n",
        "models_branch.add(\"🐍 [green]user.py[/green] [dim](3.2 KB)[/dim]\")\n",
        "models_branch.add(\"🐍 [green]product.py[/green] [dim](2.7 KB)[/dim]\")\n",
        "\n",
        "tests_branch = tree.add(\"📁 [bold]tests/[/bold]\")\n",
        "tests_branch.add(\"🧪 [yellow]test_main.py[/yellow] [dim](1.5 KB)[/dim]\")\n",
        "tests_branch.add(\"🧪 [yellow]test_utils.py[/yellow] [dim](1.2 KB)[/dim]\")\n",
        "\n",
        "docs_branch = tree.add(\"📁 [bold]docs/[/bold]\")\n",
        "docs_branch.add(\"📄 [blue]README.md[/blue] [dim](4.1 KB)[/dim]\")\n",
        "docs_branch.add(\"📄 [blue]API.md[/blue] [dim](2.8 KB)[/dim]\")\n",
        "\n",
        "tree.add(\"⚙️ [magenta]requirements.txt[/magenta] [dim](0.3 KB)[/dim]\")\n",
        "tree.add(\"⚙️ [magenta]setup.py[/magenta] [dim](1.1 KB)[/dim]\")\n",
        "tree.add(\"📄 [blue]LICENSE[/blue] [dim](1.0 KB)[/dim]\")\n",
        "\n",
        "console.print(tree)"
      ]
    },
    {
      "cell_type": "markdown",
      "metadata": {
        "id": "Zy6jCvMl7odD"
      },
      "source": [
        "## 🔟 Console Features & Logging"
      ]
    },
    {
      "cell_type": "code",
      "execution_count": 13,
      "metadata": {
        "colab": {
          "base_uri": "https://localhost:8080/",
          "height": 574
        },
        "id": "D97CvVH37odD",
        "outputId": "54735869-4f72-454d-bf91-40d65de667ac"
      },
      "outputs": [
        {
          "output_type": "display_data",
          "data": {
            "text/plain": [
              "\u001b[92m────────────────────────────────────────────── \u001b[0m\u001b[1;31mConsole Features Demo\u001b[0m\u001b[92m ──────────────────────────────────────────────\u001b[0m\n"
            ],
            "text/html": [
              "<pre style=\"white-space:pre;overflow-x:auto;line-height:normal;font-family:Menlo,'DejaVu Sans Mono',consolas,'Courier New',monospace\"><span style=\"color: #00ff00; text-decoration-color: #00ff00\">────────────────────────────────────────────── </span><span style=\"color: #800000; text-decoration-color: #800000; font-weight: bold\">Console Features Demo</span><span style=\"color: #00ff00; text-decoration-color: #00ff00\"> ──────────────────────────────────────────────</span>\n",
              "</pre>\n"
            ]
          },
          "metadata": {}
        },
        {
          "output_type": "display_data",
          "data": {
            "text/plain": [
              "\u001b[2;36m[18:46:59]\u001b[0m\u001b[2;36m \u001b[0m\u001b[2mThis is a log message                                                     \u001b[0m \u001b]8;id=923216;file:///tmp/ipython-input-658824004.py\u001b\\\u001b[2mipython-input-658824004.py\u001b[0m\u001b]8;;\u001b\\\u001b[2m:\u001b[0m\u001b]8;id=729496;file:///tmp/ipython-input-658824004.py#12\u001b\\\u001b[2m12\u001b[0m\u001b]8;;\u001b\\\n"
            ],
            "text/html": [
              "<pre style=\"white-space:pre;overflow-x:auto;line-height:normal;font-family:Menlo,'DejaVu Sans Mono',consolas,'Courier New',monospace\"><span style=\"color: #7fbfbf; text-decoration-color: #7fbfbf\">[18:46:59] </span><span style=\"color: #7f7f7f; text-decoration-color: #7f7f7f\">This is a log message                                                     </span> <a href=\"file:///tmp/ipython-input-658824004.py\" target=\"_blank\"><span style=\"color: #7f7f7f; text-decoration-color: #7f7f7f\">ipython-input-658824004.py</span></a><span style=\"color: #7f7f7f; text-decoration-color: #7f7f7f\">:</span><a href=\"file:///tmp/ipython-input-658824004.py#12\" target=\"_blank\"><span style=\"color: #7f7f7f; text-decoration-color: #7f7f7f\">12</span></a>\n",
              "</pre>\n"
            ]
          },
          "metadata": {}
        },
        {
          "output_type": "display_data",
          "data": {
            "text/plain": [
              "📌 Regular print message\n"
            ],
            "text/html": [
              "<pre style=\"white-space:pre;overflow-x:auto;line-height:normal;font-family:Menlo,'DejaVu Sans Mono',consolas,'Courier New',monospace\">📌 Regular print message\n",
              "</pre>\n"
            ]
          },
          "metadata": {}
        },
        {
          "output_type": "stream",
          "name": "stderr",
          "text": [
            "WARNING:rich:⚠️ Warning: High memory usage detected\n",
            "ERROR:rich:❌ Error: Database connection failed\n",
            "CRITICAL:rich:🚨 Critical: System overload detected\n"
          ]
        },
        {
          "output_type": "display_data",
          "data": {
            "text/plain": [
              "\u001b[92m────────────────────────────────────────────────── \u001b[0m\u001b[1;32mDemo Complete\u001b[0m\u001b[92m ──────────────────────────────────────────────────\u001b[0m\n"
            ],
            "text/html": [
              "<pre style=\"white-space:pre;overflow-x:auto;line-height:normal;font-family:Menlo,'DejaVu Sans Mono',consolas,'Courier New',monospace\"><span style=\"color: #00ff00; text-decoration-color: #00ff00\">────────────────────────────────────────────────── </span><span style=\"color: #008000; text-decoration-color: #008000; font-weight: bold\">Demo Complete</span><span style=\"color: #00ff00; text-decoration-color: #00ff00\"> ──────────────────────────────────────────────────</span>\n",
              "</pre>\n"
            ]
          },
          "metadata": {}
        },
        {
          "output_type": "display_data",
          "data": {
            "text/plain": [],
            "text/html": [
              "<pre style=\"white-space:pre;overflow-x:auto;line-height:normal;font-family:Menlo,'DejaVu Sans Mono',consolas,'Courier New',monospace\"></pre>\n"
            ]
          },
          "metadata": {}
        },
        {
          "output_type": "display_data",
          "data": {
            "text/plain": [
              "\n",
              "📝 Captured output length: \u001b[1;36m47\u001b[0m characters\n"
            ],
            "text/html": [
              "<pre style=\"white-space:pre;overflow-x:auto;line-height:normal;font-family:Menlo,'DejaVu Sans Mono',consolas,'Courier New',monospace\">\n",
              "📝 Captured output length: <span style=\"color: #008080; text-decoration-color: #008080; font-weight: bold\">47</span> characters\n",
              "</pre>\n"
            ]
          },
          "metadata": {}
        },
        {
          "output_type": "display_data",
          "data": {
            "text/plain": [
              "\n",
              "🕒 Demo completed at: \u001b[1;36m2025\u001b[0m\u001b[1m-\u001b[0m\u001b[1;36m09\u001b[0m\u001b[1m-\u001b[0m\u001b[1;36m10\u001b[0m\u001b[1m \u001b[0m\u001b[1;92m18:46:59\u001b[0m\n"
            ],
            "text/html": [
              "<pre style=\"white-space:pre;overflow-x:auto;line-height:normal;font-family:Menlo,'DejaVu Sans Mono',consolas,'Courier New',monospace\">\n",
              "🕒 Demo completed at: <span style=\"color: #008080; text-decoration-color: #008080; font-weight: bold\">2025</span><span style=\"font-weight: bold\">-</span><span style=\"color: #008080; text-decoration-color: #008080; font-weight: bold\">09</span><span style=\"font-weight: bold\">-</span><span style=\"color: #008080; text-decoration-color: #008080; font-weight: bold\">10</span><span style=\"font-weight: bold\"> </span><span style=\"color: #00ff00; text-decoration-color: #00ff00; font-weight: bold\">18:46:59</span>\n",
              "</pre>\n"
            ]
          },
          "metadata": {}
        },
        {
          "output_type": "display_data",
          "data": {
            "text/plain": [
              "\u001b[32m╭─\u001b[0m\u001b[32m─────────────────────────────────────────────────\u001b[0m\u001b[32m 🚀 Summary \u001b[0m\u001b[32m──────────────────────────────────────────────────\u001b[0m\u001b[32m─╮\u001b[0m\n",
              "\u001b[32m│\u001b[0m                                                                                                                 \u001b[32m│\u001b[0m\n",
              "\u001b[32m│\u001b[0m                                                                                                                 \u001b[32m│\u001b[0m\n",
              "\u001b[32m│\u001b[0m  🎉 \u001b[1;32mRich Library Demo Complete!\u001b[0m                                                                                 \u001b[32m│\u001b[0m\n",
              "\u001b[32m│\u001b[0m                                                                                                                 \u001b[32m│\u001b[0m\n",
              "\u001b[32m│\u001b[0m  You've seen:                                                                                                   \u001b[32m│\u001b[0m\n",
              "\u001b[32m│\u001b[0m  ✅ Styled text and colors                                                                                      \u001b[32m│\u001b[0m\n",
              "\u001b[32m│\u001b[0m  ✅ Beautiful tables with various styles                                                                        \u001b[32m│\u001b[0m\n",
              "\u001b[32m│\u001b[0m  ✅ Progress bars and spinners                                                                                  \u001b[32m│\u001b[0m\n",
              "\u001b[32m│\u001b[0m  ✅ Markdown and syntax highlighting                                                                            \u001b[32m│\u001b[0m\n",
              "\u001b[32m│\u001b[0m  ✅ Enhanced tracebacks                                                                                         \u001b[32m│\u001b[0m\n",
              "\u001b[32m│\u001b[0m  ✅ Panels and layouts                                                                                          \u001b[32m│\u001b[0m\n",
              "\u001b[32m│\u001b[0m  ✅ JSON pretty printing                                                                                        \u001b[32m│\u001b[0m\n",
              "\u001b[32m│\u001b[0m  ✅ Live displays and status                                                                                    \u001b[32m│\u001b[0m\n",
              "\u001b[32m│\u001b[0m  ✅ Tree structures                                                                                             \u001b[32m│\u001b[0m\n",
              "\u001b[32m│\u001b[0m  ✅ Advanced logging                                                                                            \u001b[32m│\u001b[0m\n",
              "\u001b[32m│\u001b[0m                                                                                                                 \u001b[32m│\u001b[0m\n",
              "\u001b[32m│\u001b[0m  \u001b]8;id=420101;https://github.com/Textualize/rich\u001b\\📚 Learn more at the Rich GitHub repo\u001b]8;;\u001b\\                                                                          \u001b[32m│\u001b[0m\n",
              "\u001b[32m│\u001b[0m                                                                                                                 \u001b[32m│\u001b[0m\n",
              "\u001b[32m│\u001b[0m                                                                                                                 \u001b[32m│\u001b[0m\n",
              "\u001b[32m╰─────────────────────────────────────────────────────────────────────────────────────────────────────────────────╯\u001b[0m\n"
            ],
            "text/html": [
              "<pre style=\"white-space:pre;overflow-x:auto;line-height:normal;font-family:Menlo,'DejaVu Sans Mono',consolas,'Courier New',monospace\"><span style=\"color: #008000; text-decoration-color: #008000\">╭────────────────────────────────────────────────── 🚀 Summary ───────────────────────────────────────────────────╮</span>\n",
              "<span style=\"color: #008000; text-decoration-color: #008000\">│</span>                                                                                                                 <span style=\"color: #008000; text-decoration-color: #008000\">│</span>\n",
              "<span style=\"color: #008000; text-decoration-color: #008000\">│</span>                                                                                                                 <span style=\"color: #008000; text-decoration-color: #008000\">│</span>\n",
              "<span style=\"color: #008000; text-decoration-color: #008000\">│</span>  🎉 <span style=\"color: #008000; text-decoration-color: #008000; font-weight: bold\">Rich Library Demo Complete!</span>                                                                                 <span style=\"color: #008000; text-decoration-color: #008000\">│</span>\n",
              "<span style=\"color: #008000; text-decoration-color: #008000\">│</span>                                                                                                                 <span style=\"color: #008000; text-decoration-color: #008000\">│</span>\n",
              "<span style=\"color: #008000; text-decoration-color: #008000\">│</span>  You've seen:                                                                                                   <span style=\"color: #008000; text-decoration-color: #008000\">│</span>\n",
              "<span style=\"color: #008000; text-decoration-color: #008000\">│</span>  ✅ Styled text and colors                                                                                      <span style=\"color: #008000; text-decoration-color: #008000\">│</span>\n",
              "<span style=\"color: #008000; text-decoration-color: #008000\">│</span>  ✅ Beautiful tables with various styles                                                                        <span style=\"color: #008000; text-decoration-color: #008000\">│</span>\n",
              "<span style=\"color: #008000; text-decoration-color: #008000\">│</span>  ✅ Progress bars and spinners                                                                                  <span style=\"color: #008000; text-decoration-color: #008000\">│</span>\n",
              "<span style=\"color: #008000; text-decoration-color: #008000\">│</span>  ✅ Markdown and syntax highlighting                                                                            <span style=\"color: #008000; text-decoration-color: #008000\">│</span>\n",
              "<span style=\"color: #008000; text-decoration-color: #008000\">│</span>  ✅ Enhanced tracebacks                                                                                         <span style=\"color: #008000; text-decoration-color: #008000\">│</span>\n",
              "<span style=\"color: #008000; text-decoration-color: #008000\">│</span>  ✅ Panels and layouts                                                                                          <span style=\"color: #008000; text-decoration-color: #008000\">│</span>\n",
              "<span style=\"color: #008000; text-decoration-color: #008000\">│</span>  ✅ JSON pretty printing                                                                                        <span style=\"color: #008000; text-decoration-color: #008000\">│</span>\n",
              "<span style=\"color: #008000; text-decoration-color: #008000\">│</span>  ✅ Live displays and status                                                                                    <span style=\"color: #008000; text-decoration-color: #008000\">│</span>\n",
              "<span style=\"color: #008000; text-decoration-color: #008000\">│</span>  ✅ Tree structures                                                                                             <span style=\"color: #008000; text-decoration-color: #008000\">│</span>\n",
              "<span style=\"color: #008000; text-decoration-color: #008000\">│</span>  ✅ Advanced logging                                                                                            <span style=\"color: #008000; text-decoration-color: #008000\">│</span>\n",
              "<span style=\"color: #008000; text-decoration-color: #008000\">│</span>                                                                                                                 <span style=\"color: #008000; text-decoration-color: #008000\">│</span>\n",
              "<span style=\"color: #008000; text-decoration-color: #008000\">│</span>  <a href=\"https://github.com/Textualize/rich\" target=\"_blank\">📚 Learn more at the Rich GitHub repo</a>                                                                          <span style=\"color: #008000; text-decoration-color: #008000\">│</span>\n",
              "<span style=\"color: #008000; text-decoration-color: #008000\">│</span>                                                                                                                 <span style=\"color: #008000; text-decoration-color: #008000\">│</span>\n",
              "<span style=\"color: #008000; text-decoration-color: #008000\">│</span>                                                                                                                 <span style=\"color: #008000; text-decoration-color: #008000\">│</span>\n",
              "<span style=\"color: #008000; text-decoration-color: #008000\">╰─────────────────────────────────────────────────────────────────────────────────────────────────────────────────╯</span>\n",
              "</pre>\n"
            ]
          },
          "metadata": {}
        },
        {
          "output_type": "display_data",
          "data": {
            "text/plain": [
              "\u001b[1m \u001b[0m\n",
              "\u001b[1m Crafted with ❤️ by Lovnish Verma \u001b[0m\n"
            ],
            "text/html": [
              "<pre style=\"white-space:pre;overflow-x:auto;line-height:normal;font-family:Menlo,'DejaVu Sans Mono',consolas,'Courier New',monospace\"><span style=\"font-weight: bold\"> </span>\n",
              "<span style=\"font-weight: bold\"> Crafted with ❤️ by Lovnish Verma </span>\n",
              "</pre>\n"
            ]
          },
          "metadata": {}
        }
      ],
      "source": [
        "from rich.console import Console\n",
        "from rich.logging import RichHandler\n",
        "import logging\n",
        "from datetime import datetime\n",
        "\n",
        "console = Console()\n",
        "\n",
        "# Console features\n",
        "console.rule(\"[bold red]Console Features Demo\")\n",
        "\n",
        "# Different log levels\n",
        "console.log(\"This is a log message\", style=\"dim\")\n",
        "console.print(\"📌 Regular print message\")\n",
        "\n",
        "# Rich logging handler\n",
        "logging.basicConfig(\n",
        "    level=\"DEBUG\",\n",
        "    format=\"%(message)s\",\n",
        "    datefmt=\"[%X]\",\n",
        "    handlers=[RichHandler(console=console)]\n",
        ")\n",
        "\n",
        "log = logging.getLogger(\"rich\")\n",
        "\n",
        "log.debug(\"🔍 Debug: Application starting up\")\n",
        "log.info(\"ℹ️ Info: User authentication successful\")\n",
        "log.warning(\"⚠️ Warning: High memory usage detected\")\n",
        "log.error(\"❌ Error: Database connection failed\")\n",
        "log.critical(\"🚨 Critical: System overload detected\")\n",
        "\n",
        "console.rule(\"[bold green]Demo Complete\")\n",
        "\n",
        "# Capture console output\n",
        "with console.capture() as capture:\n",
        "    console.print(\"This text is captured\")\n",
        "    console.print(\"[bold red]And this too![/bold red]\")\n",
        "\n",
        "captured_text = capture.get()\n",
        "console.print(f\"\\n📝 Captured output length: {len(captured_text)} characters\")\n",
        "\n",
        "# Print with timestamp\n",
        "console.print(f\"\\n🕒 Demo completed at: [bold]{datetime.now().strftime('%Y-%m-%d %H:%M:%S')}[/bold]\")\n",
        "\n",
        "# Final summary\n",
        "summary = \"\"\"\n",
        "🎉 [bold green]Rich Library Demo Complete![/bold green]\n",
        "\n",
        "You've seen:\n",
        "✅ Styled text and colors\n",
        "✅ Beautiful tables with various styles\n",
        "✅ Progress bars and spinners\n",
        "✅ Markdown and syntax highlighting\n",
        "✅ Enhanced tracebacks\n",
        "✅ Panels and layouts\n",
        "✅ JSON pretty printing\n",
        "✅ Live displays and status\n",
        "✅ Tree structures\n",
        "✅ Advanced logging\n",
        "\n",
        "[link=https://github.com/Textualize/rich]📚 Learn more at the Rich GitHub repo[/link]\n",
        "\"\"\"\n",
        "\n",
        "console.print(Panel(summary, title=\"🚀 Summary\", border_style=\"green\", padding=(1, 2)))\n",
        "\n",
        "console.print(f\"[bold] \\n Crafted with \\u2764\\uFE0F by Lovnish Verma [/bold]\")"
      ]
    }
  ],
  "metadata": {
    "colab": {
      "provenance": []
    },
    "kernelspec": {
      "display_name": "Python 3",
      "language": "python",
      "name": "python3"
    },
    "language_info": {
      "codemirror_mode": {
        "name": "ipython",
        "version": 3
      },
      "file_extension": ".py",
      "mimetype": "text/x-python",
      "name": "python",
      "nbconvert_exporter": "python",
      "pygments_lexer": "ipython3",
      "version": "3.8.10"
    },
    "widgets": {
      "application/vnd.jupyter.widget-state+json": {
        "292e5e63ff114e8e93fd30387367bb2f": {
          "model_module": "@jupyter-widgets/output",
          "model_name": "OutputModel",
          "model_module_version": "1.0.0",
          "state": {
            "_dom_classes": [],
            "_model_module": "@jupyter-widgets/output",
            "_model_module_version": "1.0.0",
            "_model_name": "OutputModel",
            "_view_count": null,
            "_view_module": "@jupyter-widgets/output",
            "_view_module_version": "1.0.0",
            "_view_name": "OutputView",
            "layout": "IPY_MODEL_de794bd4471548c1905816a82d7c6241",
            "msg_id": "",
            "outputs": [
              {
                "output_type": "display_data",
                "data": {
                  "text/plain": "🔄 Simple Processing... \u001b[38;2;114;156;31m━━━━━━━━━━━━━━━━━━━━━━━━━━━━━━━━━━━━━━━━\u001b[0m \u001b[35m100%\u001b[0m \u001b[33m0:00:02\u001b[0m\n",
                  "text/html": "<pre style=\"white-space:pre;overflow-x:auto;line-height:normal;font-family:Menlo,'DejaVu Sans Mono',consolas,'Courier New',monospace\">🔄 Simple Processing... <span style=\"color: #729c1f; text-decoration-color: #729c1f\">━━━━━━━━━━━━━━━━━━━━━━━━━━━━━━━━━━━━━━━━</span> <span style=\"color: #800080; text-decoration-color: #800080\">100%</span> <span style=\"color: #808000; text-decoration-color: #808000\">0:00:02</span>\n</pre>\n"
                },
                "metadata": {}
              }
            ]
          }
        },
        "de794bd4471548c1905816a82d7c6241": {
          "model_module": "@jupyter-widgets/base",
          "model_name": "LayoutModel",
          "model_module_version": "1.2.0",
          "state": {
            "_model_module": "@jupyter-widgets/base",
            "_model_module_version": "1.2.0",
            "_model_name": "LayoutModel",
            "_view_count": null,
            "_view_module": "@jupyter-widgets/base",
            "_view_module_version": "1.2.0",
            "_view_name": "LayoutView",
            "align_content": null,
            "align_items": null,
            "align_self": null,
            "border": null,
            "bottom": null,
            "display": null,
            "flex": null,
            "flex_flow": null,
            "grid_area": null,
            "grid_auto_columns": null,
            "grid_auto_flow": null,
            "grid_auto_rows": null,
            "grid_column": null,
            "grid_gap": null,
            "grid_row": null,
            "grid_template_areas": null,
            "grid_template_columns": null,
            "grid_template_rows": null,
            "height": null,
            "justify_content": null,
            "justify_items": null,
            "left": null,
            "margin": null,
            "max_height": null,
            "max_width": null,
            "min_height": null,
            "min_width": null,
            "object_fit": null,
            "object_position": null,
            "order": null,
            "overflow": null,
            "overflow_x": null,
            "overflow_y": null,
            "padding": null,
            "right": null,
            "top": null,
            "visibility": null,
            "width": null
          }
        },
        "fbc0546e9d6f46ea975a9a3def9b87bb": {
          "model_module": "@jupyter-widgets/output",
          "model_name": "OutputModel",
          "model_module_version": "1.0.0",
          "state": {
            "_dom_classes": [],
            "_model_module": "@jupyter-widgets/output",
            "_model_module_version": "1.0.0",
            "_model_name": "OutputModel",
            "_view_count": null,
            "_view_module": "@jupyter-widgets/output",
            "_view_module_version": "1.0.0",
            "_view_name": "OutputView",
            "layout": "IPY_MODEL_3b88b1b8625c43aa958b909c2df6266d",
            "msg_id": "",
            "outputs": [
              {
                "output_type": "display_data",
                "data": {
                  "text/plain": "  \u001b[31mDownloading files...\u001b[0m \u001b[38;2;114;156;31m━━━━━━━━━━━━━━━━━━━━━━━━━━━━━━━━━━━━━━━━\u001b[0m \u001b[35m100%\u001b[0m \u001b[36m0:00:00\u001b[0m\n  \u001b[32mProcessing data...\u001b[0m   \u001b[38;2;114;156;31m━━━━━━━━━━━━━━━━━━━━━━━━━━━━━━━━━━━━━━━━\u001b[0m \u001b[35m100%\u001b[0m \u001b[36m0:00:00\u001b[0m\n  \u001b[36mUploading results...\u001b[0m \u001b[38;2;114;156;31m━━━━━━━━━━━━━━━━━━━━━━━━━━━━━━━━━━━━━━━━\u001b[0m \u001b[35m100%\u001b[0m \u001b[36m0:00:00\u001b[0m\n",
                  "text/html": "<pre style=\"white-space:pre;overflow-x:auto;line-height:normal;font-family:Menlo,'DejaVu Sans Mono',consolas,'Courier New',monospace\">  <span style=\"color: #800000; text-decoration-color: #800000\">Downloading files...</span> <span style=\"color: #729c1f; text-decoration-color: #729c1f\">━━━━━━━━━━━━━━━━━━━━━━━━━━━━━━━━━━━━━━━━</span> <span style=\"color: #800080; text-decoration-color: #800080\">100%</span> <span style=\"color: #008080; text-decoration-color: #008080\">0:00:00</span>\n  <span style=\"color: #008000; text-decoration-color: #008000\">Processing data...</span>   <span style=\"color: #729c1f; text-decoration-color: #729c1f\">━━━━━━━━━━━━━━━━━━━━━━━━━━━━━━━━━━━━━━━━</span> <span style=\"color: #800080; text-decoration-color: #800080\">100%</span> <span style=\"color: #008080; text-decoration-color: #008080\">0:00:00</span>\n  <span style=\"color: #008080; text-decoration-color: #008080\">Uploading results...</span> <span style=\"color: #729c1f; text-decoration-color: #729c1f\">━━━━━━━━━━━━━━━━━━━━━━━━━━━━━━━━━━━━━━━━</span> <span style=\"color: #800080; text-decoration-color: #800080\">100%</span> <span style=\"color: #008080; text-decoration-color: #008080\">0:00:00</span>\n</pre>\n"
                },
                "metadata": {}
              }
            ]
          }
        },
        "3b88b1b8625c43aa958b909c2df6266d": {
          "model_module": "@jupyter-widgets/base",
          "model_name": "LayoutModel",
          "model_module_version": "1.2.0",
          "state": {
            "_model_module": "@jupyter-widgets/base",
            "_model_module_version": "1.2.0",
            "_model_name": "LayoutModel",
            "_view_count": null,
            "_view_module": "@jupyter-widgets/base",
            "_view_module_version": "1.2.0",
            "_view_name": "LayoutView",
            "align_content": null,
            "align_items": null,
            "align_self": null,
            "border": null,
            "bottom": null,
            "display": null,
            "flex": null,
            "flex_flow": null,
            "grid_area": null,
            "grid_auto_columns": null,
            "grid_auto_flow": null,
            "grid_auto_rows": null,
            "grid_column": null,
            "grid_gap": null,
            "grid_row": null,
            "grid_template_areas": null,
            "grid_template_columns": null,
            "grid_template_rows": null,
            "height": null,
            "justify_content": null,
            "justify_items": null,
            "left": null,
            "margin": null,
            "max_height": null,
            "max_width": null,
            "min_height": null,
            "min_width": null,
            "object_fit": null,
            "object_position": null,
            "order": null,
            "overflow": null,
            "overflow_x": null,
            "overflow_y": null,
            "padding": null,
            "right": null,
            "top": null,
            "visibility": null,
            "width": null
          }
        },
        "84cfe019e26445ce821cb9d12c64dbe8": {
          "model_module": "@jupyter-widgets/output",
          "model_name": "OutputModel",
          "model_module_version": "1.0.0",
          "state": {
            "_dom_classes": [],
            "_model_module": "@jupyter-widgets/output",
            "_model_module_version": "1.0.0",
            "_model_name": "OutputModel",
            "_view_count": null,
            "_view_module": "@jupyter-widgets/output",
            "_view_module_version": "1.0.0",
            "_view_name": "OutputView",
            "layout": "IPY_MODEL_d57f130c84b5410fa6c996decd384afd",
            "msg_id": "",
            "outputs": [
              {
                "output_type": "display_data",
                "data": {
                  "text/plain": "\u001b[32m⠸\u001b[0m \u001b[1;34mLoading data...\u001b[0m\n",
                  "text/html": "<pre style=\"white-space:pre;overflow-x:auto;line-height:normal;font-family:Menlo,'DejaVu Sans Mono',consolas,'Courier New',monospace\"><span style=\"color: #008000; text-decoration-color: #008000\">⠸</span> <span style=\"color: #000080; text-decoration-color: #000080; font-weight: bold\">Loading data...</span>\n</pre>\n"
                },
                "metadata": {}
              }
            ]
          }
        },
        "d57f130c84b5410fa6c996decd384afd": {
          "model_module": "@jupyter-widgets/base",
          "model_name": "LayoutModel",
          "model_module_version": "1.2.0",
          "state": {
            "_model_module": "@jupyter-widgets/base",
            "_model_module_version": "1.2.0",
            "_model_name": "LayoutModel",
            "_view_count": null,
            "_view_module": "@jupyter-widgets/base",
            "_view_module_version": "1.2.0",
            "_view_name": "LayoutView",
            "align_content": null,
            "align_items": null,
            "align_self": null,
            "border": null,
            "bottom": null,
            "display": null,
            "flex": null,
            "flex_flow": null,
            "grid_area": null,
            "grid_auto_columns": null,
            "grid_auto_flow": null,
            "grid_auto_rows": null,
            "grid_column": null,
            "grid_gap": null,
            "grid_row": null,
            "grid_template_areas": null,
            "grid_template_columns": null,
            "grid_template_rows": null,
            "height": null,
            "justify_content": null,
            "justify_items": null,
            "left": null,
            "margin": null,
            "max_height": null,
            "max_width": null,
            "min_height": null,
            "min_width": null,
            "object_fit": null,
            "object_position": null,
            "order": null,
            "overflow": null,
            "overflow_x": null,
            "overflow_y": null,
            "padding": null,
            "right": null,
            "top": null,
            "visibility": null,
            "width": null
          }
        },
        "72b3cf0a9daf41739e17f12f9f08aeb8": {
          "model_module": "@jupyter-widgets/output",
          "model_name": "OutputModel",
          "model_module_version": "1.0.0",
          "state": {
            "_dom_classes": [],
            "_model_module": "@jupyter-widgets/output",
            "_model_module_version": "1.0.0",
            "_model_name": "OutputModel",
            "_view_count": null,
            "_view_module": "@jupyter-widgets/output",
            "_view_module_version": "1.0.0",
            "_view_name": "OutputView",
            "layout": "IPY_MODEL_e239c06ab55742e9bebf3611c9659fa1",
            "msg_id": "",
            "outputs": [
              {
                "output_type": "display_data",
                "data": {
                  "text/plain": "\u001b[3m         📊 Live Server Metrics         \u001b[0m\n┏━━━━━━━━━━┳━━━━━━━┳━━━━━━━━━━┳━━━━━━━━┓\n┃\u001b[1m \u001b[0m\u001b[1mServer  \u001b[0m\u001b[1m \u001b[0m┃\u001b[1m \u001b[0m\u001b[1mCPU %\u001b[0m\u001b[1m \u001b[0m┃\u001b[1m \u001b[0m\u001b[1mMemory %\u001b[0m\u001b[1m \u001b[0m┃\u001b[1m \u001b[0m\u001b[1mStatus\u001b[0m\u001b[1m \u001b[0m┃\n┡━━━━━━━━━━╇━━━━━━━╇━━━━━━━━━━╇━━━━━━━━┩\n│\u001b[36m \u001b[0m\u001b[36mweb-01  \u001b[0m\u001b[36m \u001b[0m│\u001b[32m \u001b[0m\u001b[32m  36%\u001b[0m\u001b[32m \u001b[0m│\u001b[33m \u001b[0m\u001b[33m     56%\u001b[0m\u001b[33m \u001b[0m│   🟢   │\n│\u001b[36m \u001b[0m\u001b[36mweb-02  \u001b[0m\u001b[36m \u001b[0m│\u001b[32m \u001b[0m\u001b[32m  80%\u001b[0m\u001b[32m \u001b[0m│\u001b[33m \u001b[0m\u001b[33m     89%\u001b[0m\u001b[33m \u001b[0m│   🟡   │\n│\u001b[36m \u001b[0m\u001b[36mdb-01   \u001b[0m\u001b[36m \u001b[0m│\u001b[32m \u001b[0m\u001b[32m  62%\u001b[0m\u001b[32m \u001b[0m│\u001b[33m \u001b[0m\u001b[33m     27%\u001b[0m\u001b[33m \u001b[0m│   🟢   │\n│\u001b[36m \u001b[0m\u001b[36mcache-01\u001b[0m\u001b[36m \u001b[0m│\u001b[32m \u001b[0m\u001b[32m  29%\u001b[0m\u001b[32m \u001b[0m│\u001b[33m \u001b[0m\u001b[33m     26%\u001b[0m\u001b[33m \u001b[0m│   🟢   │\n└──────────┴───────┴──────────┴────────┘\n",
                  "text/html": "<pre style=\"white-space:pre;overflow-x:auto;line-height:normal;font-family:Menlo,'DejaVu Sans Mono',consolas,'Courier New',monospace\"><span style=\"font-style: italic\">         📊 Live Server Metrics         </span>\n┏━━━━━━━━━━┳━━━━━━━┳━━━━━━━━━━┳━━━━━━━━┓\n┃<span style=\"font-weight: bold\"> Server   </span>┃<span style=\"font-weight: bold\"> CPU % </span>┃<span style=\"font-weight: bold\"> Memory % </span>┃<span style=\"font-weight: bold\"> Status </span>┃\n┡━━━━━━━━━━╇━━━━━━━╇━━━━━━━━━━╇━━━━━━━━┩\n│<span style=\"color: #008080; text-decoration-color: #008080\"> web-01   </span>│<span style=\"color: #008000; text-decoration-color: #008000\">   36% </span>│<span style=\"color: #808000; text-decoration-color: #808000\">      56% </span>│   🟢   │\n│<span style=\"color: #008080; text-decoration-color: #008080\"> web-02   </span>│<span style=\"color: #008000; text-decoration-color: #008000\">   80% </span>│<span style=\"color: #808000; text-decoration-color: #808000\">      89% </span>│   🟡   │\n│<span style=\"color: #008080; text-decoration-color: #008080\"> db-01    </span>│<span style=\"color: #008000; text-decoration-color: #008000\">   62% </span>│<span style=\"color: #808000; text-decoration-color: #808000\">      27% </span>│   🟢   │\n│<span style=\"color: #008080; text-decoration-color: #008080\"> cache-01 </span>│<span style=\"color: #008000; text-decoration-color: #008000\">   29% </span>│<span style=\"color: #808000; text-decoration-color: #808000\">      26% </span>│   🟢   │\n└──────────┴───────┴──────────┴────────┘\n</pre>\n"
                },
                "metadata": {}
              }
            ]
          }
        },
        "e239c06ab55742e9bebf3611c9659fa1": {
          "model_module": "@jupyter-widgets/base",
          "model_name": "LayoutModel",
          "model_module_version": "1.2.0",
          "state": {
            "_model_module": "@jupyter-widgets/base",
            "_model_module_version": "1.2.0",
            "_model_name": "LayoutModel",
            "_view_count": null,
            "_view_module": "@jupyter-widgets/base",
            "_view_module_version": "1.2.0",
            "_view_name": "LayoutView",
            "align_content": null,
            "align_items": null,
            "align_self": null,
            "border": null,
            "bottom": null,
            "display": null,
            "flex": null,
            "flex_flow": null,
            "grid_area": null,
            "grid_auto_columns": null,
            "grid_auto_flow": null,
            "grid_auto_rows": null,
            "grid_column": null,
            "grid_gap": null,
            "grid_row": null,
            "grid_template_areas": null,
            "grid_template_columns": null,
            "grid_template_rows": null,
            "height": null,
            "justify_content": null,
            "justify_items": null,
            "left": null,
            "margin": null,
            "max_height": null,
            "max_width": null,
            "min_height": null,
            "min_width": null,
            "object_fit": null,
            "object_position": null,
            "order": null,
            "overflow": null,
            "overflow_x": null,
            "overflow_y": null,
            "padding": null,
            "right": null,
            "top": null,
            "visibility": null,
            "width": null
          }
        }
      }
    }
  },
  "nbformat": 4,
  "nbformat_minor": 0
}