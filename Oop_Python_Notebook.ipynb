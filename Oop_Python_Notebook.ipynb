{
  "nbformat": 4,
  "nbformat_minor": 0,
  "metadata": {
    "colab": {
      "provenance": [],
      "authorship_tag": "ABX9TyN621yPQ7BFooXRb09HE9BJ",
      "include_colab_link": true
    },
    "kernelspec": {
      "name": "python3",
      "display_name": "Python 3"
    },
    "language_info": {
      "name": "python"
    }
  },
  "cells": [
    {
      "cell_type": "markdown",
      "metadata": {
        "id": "view-in-github",
        "colab_type": "text"
      },
      "source": [
        "<a href=\"https://colab.research.google.com/github/lovnishverma/Python-Getting-Started/blob/main/Oop_Python_Notebook.ipynb\" target=\"_parent\"><img src=\"https://colab.research.google.com/assets/colab-badge.svg\" alt=\"Open In Colab\"/></a>"
      ]
    },
    {
      "cell_type": "markdown",
      "source": [
        "**Object-Oriented Programming (OOP) in Python** -* Beginner Friendly Guide*"
      ],
      "metadata": {
        "id": "OyyB4iRQwFZH"
      }
    },
    {
      "cell_type": "markdown",
      "source": [
        "# (A) Class and Object\n",
        "# A class is a blueprint for creating objects. An object is an instance of a class.\n",
        "# Here, we define a Car class with attributes and methods.\n"
      ],
      "metadata": {
        "id": "KXN4O8lpwwy3"
      }
    },
    {
      "cell_type": "code",
      "execution_count": 7,
      "metadata": {
        "colab": {
          "base_uri": "https://localhost:8080/"
        },
        "id": "XQnXfYO7vVKl",
        "outputId": "44b3ccc3-0d31-4fbf-8d50-263c89ca7a6e"
      },
      "outputs": [
        {
          "output_type": "stream",
          "name": "stdout",
          "text": [
            "2022 Mahindra Thar\n",
            "2023 Honda City\n"
          ]
        }
      ],
      "source": [
        "class Car:\n",
        "    def __init__(self, brand, model, year):\n",
        "        self.brand = brand  # Car brand\n",
        "        self.model = model  # Car model\n",
        "        self.year = year    # Manufacturing year\n",
        "\n",
        "    def display_info(self):\n",
        "        return f\"{self.year} {self.brand} {self.model}\"  # Returns formatted car info\n",
        "\n",
        "# Creating instances (objects) of the Car class\n",
        "car1 = Car(\"Mahindra\", \"Thar\", 2022)\n",
        "car2 = Car(\"Honda\", \"City\", 2023)\n",
        "\n",
        "# Calling the method to display car information\n",
        "print(car1.display_info())\n",
        "print(car2.display_info())"
      ]
    },
    {
      "cell_type": "markdown",
      "source": [
        "# (B) Encapsulation - Protecting Data\n",
        "# Encapsulation restricts access to certain details and prevents accidental modification.\n"
      ],
      "metadata": {
        "id": "RhEMPcBFw0nq"
      }
    },
    {
      "cell_type": "code",
      "source": [
        "class BankAccount:\n",
        "    def __init__(self, account_number, balance):\n",
        "        self.__account_number = account_number  # Private attribute\n",
        "        self.__balance = balance  # Private attribute\n",
        "\n",
        "    def deposit(self, amount):\n",
        "        if amount > 0:\n",
        "            self.__balance += amount\n",
        "            return f\"Deposited {amount}. New balance: {self.__balance}\"\n",
        "        return \"Invalid deposit amount\"\n",
        "\n",
        "    def withdraw(self, amount):\n",
        "        if 0 < amount <= self.__balance:\n",
        "            self.__balance -= amount\n",
        "            return f\"Withdrew {amount}. New balance: {self.__balance}\"\n",
        "        return \"Insufficient funds or invalid amount\"\n",
        "\n",
        "    def get_balance(self):\n",
        "        return self.__balance  # Provides controlled access to balance\n",
        "\n",
        "# Creating a BankAccount object\n",
        "account = BankAccount(\"123456789\", 1000)\n",
        "print(account.deposit(500))  # Deposits 500 and updates balance\n",
        "print(account.withdraw(200))  # Withdraws 200 and updates balance\n",
        "print(account.get_balance())  # Retrieves balance"
      ],
      "metadata": {
        "colab": {
          "base_uri": "https://localhost:8080/"
        },
        "id": "PdW8TqJ1wCFP",
        "outputId": "a956f6c1-6575-4447-dde0-4ce3f318163b"
      },
      "execution_count": 8,
      "outputs": [
        {
          "output_type": "stream",
          "name": "stdout",
          "text": [
            "Deposited 500. New balance: 1500\n",
            "Withdrew 200. New balance: 1300\n",
            "1300\n"
          ]
        }
      ]
    },
    {
      "cell_type": "markdown",
      "source": [
        "# (C) Inheritance - Reusing Code\n",
        "# Inheritance allows a class to derive properties and methods from another class.\n"
      ],
      "metadata": {
        "id": "0k4IHHdQw3up"
      }
    },
    {
      "cell_type": "code",
      "source": [
        "class Animal:\n",
        "    def __init__(self, name):\n",
        "        self.name = name\n",
        "\n",
        "    def make_sound(self):\n",
        "        return \"Some sound\"\n",
        "\n",
        "# Dog and Cat classes inherit from Animal\n",
        "class Dog(Animal):\n",
        "    def make_sound(self):\n",
        "        return \"Bark\"\n",
        "\n",
        "class Cat(Animal):\n",
        "    def make_sound(self):\n",
        "        return \"Meow\"\n",
        "\n",
        "# Creating objects and calling the overridden method\n",
        "\n",
        "dog = Dog(\"Jhonny\")\n",
        "cat = Cat(\"Liza\")\n",
        "print(dog.name, \"says\", dog.make_sound())\n",
        "print(cat.name, \"says\", cat.make_sound())"
      ],
      "metadata": {
        "colab": {
          "base_uri": "https://localhost:8080/"
        },
        "id": "O49dhswawALo",
        "outputId": "f74841d8-e415-4f9d-ade2-5448dfa095c9"
      },
      "execution_count": 9,
      "outputs": [
        {
          "output_type": "stream",
          "name": "stdout",
          "text": [
            "Jhonny says Bark\n",
            "Liza says Meow\n"
          ]
        }
      ]
    },
    {
      "cell_type": "markdown",
      "source": [
        "# (D) Polymorphism - One Interface, Many Implementations\n",
        "# Different classes can define the same method differently.\n"
      ],
      "metadata": {
        "id": "MoMyiOhqw6xx"
      }
    },
    {
      "cell_type": "code",
      "source": [
        "class Bird:\n",
        "    def speak(self):\n",
        "        return \"Chirp\"\n",
        "\n",
        "class Human:\n",
        "    def speak(self):\n",
        "        return \"Hello\"\n",
        "\n",
        "def make_sound(entity):\n",
        "    return entity.speak()\n",
        "\n",
        "# Objects of different classes using the same method\n",
        "bird = Bird()\n",
        "human = Human()\n",
        "print(make_sound(bird))  # Output: Chirp\n",
        "print(make_sound(human))  # Output: Hello"
      ],
      "metadata": {
        "colab": {
          "base_uri": "https://localhost:8080/"
        },
        "id": "7WCSZ355v-TJ",
        "outputId": "1c8e2563-cdd9-41dc-eeba-a86029dd421c"
      },
      "execution_count": 10,
      "outputs": [
        {
          "output_type": "stream",
          "name": "stdout",
          "text": [
            "Chirp\n",
            "Hello\n"
          ]
        }
      ]
    },
    {
      "cell_type": "markdown",
      "source": [
        "# (E) Abstraction - Hiding Implementation Details\n",
        "# Abstract classes define common methods that must be implemented by subclasses.\n"
      ],
      "metadata": {
        "id": "uOi8QiAXw86x"
      }
    },
    {
      "cell_type": "code",
      "source": [
        "from abc import ABC, abstractmethod\n",
        "\n",
        "class Shape(ABC):  # Abstract Class\n",
        "    @abstractmethod\n",
        "    def area(self):\n",
        "        pass  # Abstract method - must be implemented in subclasses\n",
        "\n",
        "class Circle(Shape):\n",
        "    def __init__(self, radius):\n",
        "        self.radius = radius\n",
        "\n",
        "    def area(self):\n",
        "        return 3.14 * self.radius ** 2  # Calculating circle area\n",
        "\n",
        "class Rectangle(Shape):\n",
        "    def __init__(self, width, height):\n",
        "        self.width = width\n",
        "        self.height = height\n",
        "\n",
        "    def area(self):\n",
        "        return self.width * self.height  # Calculating rectangle area\n",
        "\n",
        "# Creating objects and calling area methods\n",
        "circle = Circle(5)\n",
        "rectangle = Rectangle(4, 6)\n",
        "print(circle.area())\n",
        "print(rectangle.area())"
      ],
      "metadata": {
        "colab": {
          "base_uri": "https://localhost:8080/"
        },
        "id": "DVLoMTqcv66P",
        "outputId": "4b760924-0508-4aaa-cc7b-0b22540098dc"
      },
      "execution_count": 11,
      "outputs": [
        {
          "output_type": "stream",
          "name": "stdout",
          "text": [
            "78.5\n",
            "24\n"
          ]
        }
      ]
    },
    {
      "cell_type": "markdown",
      "source": [
        "# (F) Real-World Example: Library Management System\n",
        "# This example demonstrates all OOP principles in a real-world use case.\n"
      ],
      "metadata": {
        "id": "S_cRSPetw-8H"
      }
    },
    {
      "cell_type": "code",
      "source": [
        "class Book:\n",
        "    def __init__(self, title, author, isbn):\n",
        "        self.title = title\n",
        "        self.author = author\n",
        "        self.isbn = isbn\n",
        "\n",
        "    def display(self):\n",
        "        return f\"{self.title} by {self.author} (ISBN: {self.isbn})\"\n",
        "\n",
        "class Member:\n",
        "    def __init__(self, name, member_id):\n",
        "        self.name = name\n",
        "        self.member_id = member_id\n",
        "        self.borrowed_books = []\n",
        "\n",
        "    def borrow_book(self, book):\n",
        "        self.borrowed_books.append(book)\n",
        "        return f\"{self.name} borrowed {book.title}\"\n",
        "\n",
        "    def return_book(self, book):\n",
        "        if book in self.borrowed_books:\n",
        "            self.borrowed_books.remove(book)\n",
        "            return f\"{self.name} returned {book.title}\"\n",
        "        return \"Book not found in borrowed list\"\n",
        "\n",
        "class Library:\n",
        "    def __init__(self):\n",
        "        self.books = []\n",
        "\n",
        "    def add_book(self, book):\n",
        "        self.books.append(book)\n",
        "        return f\"Book '{book.title}' added to library\"\n",
        "\n",
        "    def list_books(self):\n",
        "        return [book.display() for book in self.books]\n",
        "\n",
        "# Creating books, members, and a library system\n",
        "book1 = Book(\"1984\", \"George Orwell\", \"123456789\")\n",
        "book2 = Book(\"To Kill a Mockingbird\", \"Harper Lee\", \"987654321\")\n",
        "\n",
        "member1 = Member(\"Ajay\", \"M001\")\n",
        "\n",
        "library = Library()\n",
        "library.add_book(book1)\n",
        "library.add_book(book2)\n",
        "\n",
        "print(library.list_books())  # Displays available books\n",
        "print(member1.borrow_book(book1))\n",
        "print(member1.return_book(book1))"
      ],
      "metadata": {
        "colab": {
          "base_uri": "https://localhost:8080/"
        },
        "id": "K--zrMJSv47S",
        "outputId": "514de83d-d51a-4ada-a590-b020b62b5ef0"
      },
      "execution_count": 12,
      "outputs": [
        {
          "output_type": "stream",
          "name": "stdout",
          "text": [
            "['1984 by George Orwell (ISBN: 123456789)', 'To Kill a Mockingbird by Harper Lee (ISBN: 987654321)']\n",
            "Ajay borrowed 1984\n",
            "Ajay returned 1984\n"
          ]
        }
      ]
    }
  ]
}