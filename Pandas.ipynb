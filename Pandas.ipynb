{
  "nbformat": 4,
  "nbformat_minor": 0,
  "metadata": {
    "colab": {
      "provenance": [],
      "authorship_tag": "ABX9TyM9khv8SvvqCwnQ/5JppUnF",
      "include_colab_link": true
    },
    "kernelspec": {
      "name": "python3",
      "display_name": "Python 3"
    },
    "language_info": {
      "name": "python"
    }
  },
  "cells": [
    {
      "cell_type": "markdown",
      "metadata": {
        "id": "view-in-github",
        "colab_type": "text"
      },
      "source": [
        "<a href=\"https://colab.research.google.com/github/lovnishverma/Python-Getting-Started/blob/main/Pandas.ipynb\" target=\"_parent\"><img src=\"https://colab.research.google.com/assets/colab-badge.svg\" alt=\"Open In Colab\"/></a>"
      ]
    },
    {
      "cell_type": "markdown",
      "source": [
        "Data Cleaning with Pandas"
      ],
      "metadata": {
        "id": "lQiDlyU08u45"
      }
    },
    {
      "cell_type": "markdown",
      "source": [
        "```\n",
        "!pip install pandas\n",
        "```"
      ],
      "metadata": {
        "id": "hVokkMzQ824J"
      }
    },
    {
      "cell_type": "code",
      "execution_count": 9,
      "metadata": {
        "id": "I0kjphrc67TR"
      },
      "outputs": [],
      "source": [
        "# Step 1: Import Necessary Libraries\n",
        "import pandas as pd\n",
        "import numpy as np"
      ]
    },
    {
      "cell_type": "code",
      "source": [
        "# Step 2: Load Data from CSV (or use sample data)\n",
        "#https://github.com/lovnishverma/datasets/blob/main/pandas_tutorial1.csv\n",
        "\n",
        "df = pd.read_csv(\"https://raw.githubusercontent.com/lovnishverma/datasets/refs/heads/main/pandas_tutorial1.csv\")\n",
        "\n",
        "# Display the original dataset\n",
        "print(\"Original Data:\")\n",
        "print(df)\n",
        "print(df.head())  # First 5 rows\n",
        "print(df.tail())  # Last 5 rows\n",
        "print(df.info())       # Data types & missing values\n",
        "print(df.describe())   # Summary statistics\n",
        "\n",
        "\n",
        "# Selecting & Filtering Data (Selecting Columns)\n",
        "\n",
        "# print(df['Name'])  # Selecting a single column\n",
        "# print(df[['Name', 'Age']])  # Selecting multiple columns\n",
        "\n",
        "\n",
        "# You can drop a column from the DataFrame using the .drop() method.\n",
        "# df.drop(columns=['City'], inplace=True)\n",
        "\n",
        "# If you want to remove multiple columns, pass a list:\n",
        "# df.drop(columns=['City', 'Salary'], inplace=True)\n",
        "\n"
      ],
      "metadata": {
        "colab": {
          "base_uri": "https://localhost:8080/"
        },
        "id": "CImEfkyC8rdR",
        "outputId": "0721b53f-0be9-4993-b34a-97b83b949ec5"
      },
      "execution_count": 10,
      "outputs": [
        {
          "output_type": "stream",
          "name": "stdout",
          "text": [
            "Original Data:\n",
            "             Name   Age        City   Salary\n",
            "0     aman Kapoor  25.0       Delhi  50000.0\n",
            "1    Bharat Kumar   NaN     Kolkata  60000.0\n",
            "2    charu thakur  30.0     Chennai      NaN\n",
            "3    dinesh singh  35.0  Hoshiarpur  45000.0\n",
            "4          Emilly  40.0      Mumbai  70000.0\n",
            "5     Rajat gupta  28.0         NaN      NaN\n",
            "6  Anamika Kumari   NaN    Dehradun  55000.0\n",
            "7    dinesh singh  35.0  Hoshiarpur  45000.0\n",
            "8      Amar kumar   NaN       Ropar  62000.0\n",
            "           Name   Age        City   Salary\n",
            "0   aman Kapoor  25.0       Delhi  50000.0\n",
            "1  Bharat Kumar   NaN     Kolkata  60000.0\n",
            "2  charu thakur  30.0     Chennai      NaN\n",
            "3  dinesh singh  35.0  Hoshiarpur  45000.0\n",
            "4        Emilly  40.0      Mumbai  70000.0\n",
            "             Name   Age        City   Salary\n",
            "4          Emilly  40.0      Mumbai  70000.0\n",
            "5     Rajat gupta  28.0         NaN      NaN\n",
            "6  Anamika Kumari   NaN    Dehradun  55000.0\n",
            "7    dinesh singh  35.0  Hoshiarpur  45000.0\n",
            "8      Amar kumar   NaN       Ropar  62000.0\n",
            "<class 'pandas.core.frame.DataFrame'>\n",
            "RangeIndex: 9 entries, 0 to 8\n",
            "Data columns (total 4 columns):\n",
            " #   Column  Non-Null Count  Dtype  \n",
            "---  ------  --------------  -----  \n",
            " 0   Name    9 non-null      object \n",
            " 1   Age     6 non-null      float64\n",
            " 2   City    8 non-null      object \n",
            " 3   Salary  7 non-null      float64\n",
            "dtypes: float64(2), object(2)\n",
            "memory usage: 420.0+ bytes\n",
            "None\n",
            "             Age        Salary\n",
            "count   6.000000      7.000000\n",
            "mean   32.166667  55285.714286\n",
            "std     5.492419   9340.133577\n",
            "min    25.000000  45000.000000\n",
            "25%    28.500000  47500.000000\n",
            "50%    32.500000  55000.000000\n",
            "75%    35.000000  61000.000000\n",
            "max    40.000000  70000.000000\n"
          ]
        }
      ]
    },
    {
      "cell_type": "code",
      "source": [
        "# Step 3: Identify Missing Values\n",
        "print(\"\\nMissing Values Count:\")\n",
        "print(df.isnull().sum())"
      ],
      "metadata": {
        "colab": {
          "base_uri": "https://localhost:8080/"
        },
        "id": "9X-tGGtL8n5Q",
        "outputId": "0db8c8d9-c25b-48d1-d949-7528301a7c43"
      },
      "execution_count": 11,
      "outputs": [
        {
          "output_type": "stream",
          "name": "stdout",
          "text": [
            "\n",
            "Missing Values Count:\n",
            "Name      0\n",
            "Age       3\n",
            "City      1\n",
            "Salary    2\n",
            "dtype: int64\n"
          ]
        }
      ]
    },
    {
      "cell_type": "code",
      "source": [
        "# Step 4: Handle Missing Values\n",
        "# Replace 'NaN' strings with np.nan\n",
        "df.replace({'NaN': np.nan}, inplace=True)\n",
        "\n",
        "#  Convert Salary to numeric\n",
        "df['Salary'] = pd.to_numeric(df['Salary'], errors='coerce')\n",
        "\n",
        "#  Handle missing values safely using assignment\n",
        "df['Age'] = df['Age'].fillna(df['Age'].mean())  # Fill Age with mean\n",
        "df['Salary'] = df['Salary'].fillna(df['Salary'].median())  # Fill Salary with median\n",
        "df['City'] = df['City'].fillna(df['City'].mode()[0])  # Fill City with mode (most frequent value)\n",
        "\n",
        "# Print updated DataFrame\n",
        "print(\"Cleaned Data:\\n\", df)\n",
        "\n",
        "# Optionally, remove rows with any remaining missing values (if any)\n",
        "df_cleaned = df.dropna()\n",
        "print(\"\\n Final Data After Dropping Missing Rows (if any left):\\n\", df_cleaned)\n",
        "\n",
        "# Check if any missing values remain\n",
        "print(\"\\n Missing Values Summary:\\n\", df.isnull().sum())"
      ],
      "metadata": {
        "colab": {
          "base_uri": "https://localhost:8080/"
        },
        "id": "57ajzjnw8lAy",
        "outputId": "1f4f357d-227f-4ed0-b227-ce08fe04657b"
      },
      "execution_count": 12,
      "outputs": [
        {
          "output_type": "stream",
          "name": "stdout",
          "text": [
            "Cleaned Data:\n",
            "              Name        Age        City   Salary\n",
            "0     aman Kapoor  25.000000       Delhi  50000.0\n",
            "1    Bharat Kumar  32.166667     Kolkata  60000.0\n",
            "2    charu thakur  30.000000     Chennai  55000.0\n",
            "3    dinesh singh  35.000000  Hoshiarpur  45000.0\n",
            "4          Emilly  40.000000      Mumbai  70000.0\n",
            "5     Rajat gupta  28.000000  Hoshiarpur  55000.0\n",
            "6  Anamika Kumari  32.166667    Dehradun  55000.0\n",
            "7    dinesh singh  35.000000  Hoshiarpur  45000.0\n",
            "8      Amar kumar  32.166667       Ropar  62000.0\n",
            "\n",
            " Final Data After Dropping Missing Rows (if any left):\n",
            "              Name        Age        City   Salary\n",
            "0     aman Kapoor  25.000000       Delhi  50000.0\n",
            "1    Bharat Kumar  32.166667     Kolkata  60000.0\n",
            "2    charu thakur  30.000000     Chennai  55000.0\n",
            "3    dinesh singh  35.000000  Hoshiarpur  45000.0\n",
            "4          Emilly  40.000000      Mumbai  70000.0\n",
            "5     Rajat gupta  28.000000  Hoshiarpur  55000.0\n",
            "6  Anamika Kumari  32.166667    Dehradun  55000.0\n",
            "7    dinesh singh  35.000000  Hoshiarpur  45000.0\n",
            "8      Amar kumar  32.166667       Ropar  62000.0\n",
            "\n",
            " Missing Values Summary:\n",
            " Name      0\n",
            "Age       0\n",
            "City      0\n",
            "Salary    0\n",
            "dtype: int64\n"
          ]
        }
      ]
    },
    {
      "cell_type": "code",
      "source": [
        "# Step 5: Remove Duplicates\n",
        "print(df)\n",
        "df.drop_duplicates(inplace=True)\n"
      ],
      "metadata": {
        "colab": {
          "base_uri": "https://localhost:8080/"
        },
        "id": "GMBnwqyy8jEz",
        "outputId": "2fc5a9cd-a436-45fb-cca4-f837c51d7f66"
      },
      "execution_count": 13,
      "outputs": [
        {
          "output_type": "stream",
          "name": "stdout",
          "text": [
            "             Name        Age        City   Salary\n",
            "0     aman Kapoor  25.000000       Delhi  50000.0\n",
            "1    Bharat Kumar  32.166667     Kolkata  60000.0\n",
            "2    charu thakur  30.000000     Chennai  55000.0\n",
            "3    dinesh singh  35.000000  Hoshiarpur  45000.0\n",
            "4          Emilly  40.000000      Mumbai  70000.0\n",
            "5     Rajat gupta  28.000000  Hoshiarpur  55000.0\n",
            "6  Anamika Kumari  32.166667    Dehradun  55000.0\n",
            "7    dinesh singh  35.000000  Hoshiarpur  45000.0\n",
            "8      Amar kumar  32.166667       Ropar  62000.0\n"
          ]
        }
      ]
    },
    {
      "cell_type": "code",
      "source": [
        "# Step 6: Standardize Text Columns\n",
        "df['Name'] = df['Name'].str.title()  # Capitalize Names\n",
        "df['City'] = df['City'].str.title().str.strip()  # Capitalize and trim spaces"
      ],
      "metadata": {
        "id": "PK1uOUZV8fxd"
      },
      "execution_count": 14,
      "outputs": []
    },
    {
      "cell_type": "code",
      "source": [
        "# Step 7: Convert Data Types\n",
        "# Convert Age and Salary to integer type\n",
        "df['Age'] = df['Age'].astype(int)\n",
        "df['Salary'] = df['Salary'].astype(int)\n",
        "\n",
        "# Display the cleaned dataset\n",
        "print(\"\\nData After Cleaning:\")\n",
        "print(df)"
      ],
      "metadata": {
        "colab": {
          "base_uri": "https://localhost:8080/"
        },
        "id": "Pp2UHtG18eTh",
        "outputId": "9d91d9f5-16bc-460c-8038-f3162d1de825"
      },
      "execution_count": 15,
      "outputs": [
        {
          "output_type": "stream",
          "name": "stdout",
          "text": [
            "\n",
            "Data After Cleaning:\n",
            "             Name  Age        City  Salary\n",
            "0     Aman Kapoor   25       Delhi   50000\n",
            "1    Bharat Kumar   32     Kolkata   60000\n",
            "2    Charu Thakur   30     Chennai   55000\n",
            "3    Dinesh Singh   35  Hoshiarpur   45000\n",
            "4          Emilly   40      Mumbai   70000\n",
            "5     Rajat Gupta   28  Hoshiarpur   55000\n",
            "6  Anamika Kumari   32    Dehradun   55000\n",
            "8      Amar Kumar   32       Ropar   62000\n"
          ]
        }
      ]
    },
    {
      "cell_type": "code",
      "source": [
        "# Step 8: Save the Cleaned Data to a CSV File\n",
        "df.to_csv(\"cleaned_data.csv\", index=False)\n",
        "print(\"\\nCleaned data saved as cleaned_data.csv\")"
      ],
      "metadata": {
        "colab": {
          "base_uri": "https://localhost:8080/"
        },
        "id": "zh8H-DsB8cqS",
        "outputId": "4b7fcede-06ea-40c4-e510-c8f6893099fa"
      },
      "execution_count": 16,
      "outputs": [
        {
          "output_type": "stream",
          "name": "stdout",
          "text": [
            "\n",
            "Cleaned data saved as cleaned_data.csv\n"
          ]
        }
      ]
    }
  ]
}