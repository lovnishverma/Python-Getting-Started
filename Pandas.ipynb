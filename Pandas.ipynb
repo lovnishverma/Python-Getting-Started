{
  "nbformat": 4,
  "nbformat_minor": 0,
  "metadata": {
    "colab": {
      "provenance": [],
      "authorship_tag": "ABX9TyPYwBsVMurYCbI9fYJKVf6f",
      "include_colab_link": true
    },
    "kernelspec": {
      "name": "python3",
      "display_name": "Python 3"
    },
    "language_info": {
      "name": "python"
    }
  },
  "cells": [
    {
      "cell_type": "markdown",
      "metadata": {
        "id": "view-in-github",
        "colab_type": "text"
      },
      "source": [
        "<a href=\"https://colab.research.google.com/github/lovnishverma/Python-Getting-Started/blob/main/Pandas.ipynb\" target=\"_parent\"><img src=\"https://colab.research.google.com/assets/colab-badge.svg\" alt=\"Open In Colab\"/></a>"
      ]
    },
    {
      "cell_type": "markdown",
      "source": [
        "Data Cleaning with Pandas"
      ],
      "metadata": {
        "id": "lQiDlyU08u45"
      }
    },
    {
      "cell_type": "markdown",
      "source": [
        "```\n",
        "!pip install pandas\n",
        "```"
      ],
      "metadata": {
        "id": "hVokkMzQ824J"
      }
    },
    {
      "cell_type": "code",
      "execution_count": 53,
      "metadata": {
        "id": "I0kjphrc67TR"
      },
      "outputs": [],
      "source": [
        "# Step 1: Import Necessary Libraries\n",
        "import pandas as pd"
      ]
    },
    {
      "cell_type": "code",
      "source": [
        "# Step 2: Load Data from CSV (or use sample data)\n",
        "#https://github.com/lovnishverma/datasets/blob/main/pandas_tutorial1.csv\n",
        "\n",
        "df = pd.read_csv(\"https://raw.githubusercontent.com/lovnishverma/datasets/refs/heads/main/pandas_tutorial1.csv\")\n",
        "\n",
        "# Display the original dataset\n",
        "print(\"Original Data:\")\n",
        "print(df)\n",
        "print(df.head())  # First 5 rows\n",
        "print(df.tail())  # Last 5 rows\n",
        "print(df.info())       # Data types & missing values\n",
        "print(df.describe())   # Summary statistics\n",
        "\n",
        "\n",
        "# Selecting & Filtering Data (Selecting Columns)\n",
        "\n",
        "# print(df['Name'])  # Selecting a single column\n",
        "# print(df[['Name', 'Age']])  # Selecting multiple columns\n",
        "\n",
        "\n",
        "# You can drop a column from the DataFrame using the .drop() method.\n",
        "# df.drop(columns=['City'], inplace=True)\n",
        "\n",
        "# If you want to remove multiple columns, pass a list:\n",
        "# df.drop(columns=['City', 'Salary'], inplace=True)\n",
        "\n"
      ],
      "metadata": {
        "colab": {
          "base_uri": "https://localhost:8080/"
        },
        "id": "CImEfkyC8rdR",
        "outputId": "e43329ee-28d7-4470-cc3d-135590bb0207"
      },
      "execution_count": 62,
      "outputs": [
        {
          "output_type": "stream",
          "name": "stdout",
          "text": [
            "Original Data:\n",
            "             Name   Age        City   Salary\n",
            "0     aman Kapoor  25.0       Delhi  50000.0\n",
            "1    Bharat Kumar   NaN     Kolkata  60000.0\n",
            "2    charu thakur  30.0     Chennai      NaN\n",
            "3    dinesh singh  35.0  Hoshiarpur  45000.0\n",
            "4          Emilly  40.0      Mumbai  70000.0\n",
            "5     Rajat gupta  28.0         NaN      NaN\n",
            "6  Anamika Kumari   NaN    Dehradun  55000.0\n",
            "7    dinesh singh  35.0  Hoshiarpur  45000.0\n",
            "8      Amar kumar   NaN       Ropar  62000.0\n",
            "           Name   Age        City   Salary\n",
            "0   aman Kapoor  25.0       Delhi  50000.0\n",
            "1  Bharat Kumar   NaN     Kolkata  60000.0\n",
            "2  charu thakur  30.0     Chennai      NaN\n",
            "3  dinesh singh  35.0  Hoshiarpur  45000.0\n",
            "4        Emilly  40.0      Mumbai  70000.0\n",
            "             Name   Age        City   Salary\n",
            "4          Emilly  40.0      Mumbai  70000.0\n",
            "5     Rajat gupta  28.0         NaN      NaN\n",
            "6  Anamika Kumari   NaN    Dehradun  55000.0\n",
            "7    dinesh singh  35.0  Hoshiarpur  45000.0\n",
            "8      Amar kumar   NaN       Ropar  62000.0\n",
            "<class 'pandas.core.frame.DataFrame'>\n",
            "RangeIndex: 9 entries, 0 to 8\n",
            "Data columns (total 4 columns):\n",
            " #   Column  Non-Null Count  Dtype  \n",
            "---  ------  --------------  -----  \n",
            " 0   Name    9 non-null      object \n",
            " 1   Age     6 non-null      float64\n",
            " 2   City    8 non-null      object \n",
            " 3   Salary  7 non-null      float64\n",
            "dtypes: float64(2), object(2)\n",
            "memory usage: 420.0+ bytes\n",
            "None\n",
            "             Age        Salary\n",
            "count   6.000000      7.000000\n",
            "mean   32.166667  55285.714286\n",
            "std     5.492419   9340.133577\n",
            "min    25.000000  45000.000000\n",
            "25%    28.500000  47500.000000\n",
            "50%    32.500000  55000.000000\n",
            "75%    35.000000  61000.000000\n",
            "max    40.000000  70000.000000\n",
            "0       aman Kapoor\n",
            "1      Bharat Kumar\n",
            "2      charu thakur\n",
            "3      dinesh singh\n",
            "4            Emilly\n",
            "5       Rajat gupta\n",
            "6    Anamika Kumari\n",
            "7      dinesh singh\n",
            "8        Amar kumar\n",
            "Name: Name, dtype: object\n",
            "             Name   Age\n",
            "0     aman Kapoor  25.0\n",
            "1    Bharat Kumar   NaN\n",
            "2    charu thakur  30.0\n",
            "3    dinesh singh  35.0\n",
            "4          Emilly  40.0\n",
            "5     Rajat gupta  28.0\n",
            "6  Anamika Kumari   NaN\n",
            "7    dinesh singh  35.0\n",
            "8      Amar kumar   NaN\n"
          ]
        }
      ]
    },
    {
      "cell_type": "code",
      "source": [
        "# Step 3: Identify Missing Values\n",
        "print(\"\\nMissing Values Count:\")\n",
        "print(df.isnull().sum())"
      ],
      "metadata": {
        "colab": {
          "base_uri": "https://localhost:8080/"
        },
        "id": "9X-tGGtL8n5Q",
        "outputId": "f812b07a-df08-44a4-8e17-33ad775634ab"
      },
      "execution_count": 55,
      "outputs": [
        {
          "output_type": "stream",
          "name": "stdout",
          "text": [
            "\n",
            "Missing Values Count:\n",
            "Name      0\n",
            "Age       3\n",
            "City      1\n",
            "Salary    2\n",
            "dtype: int64\n"
          ]
        }
      ]
    },
    {
      "cell_type": "code",
      "source": [
        "# Replace 'NaN' strings and None values with actual NaN values\n",
        "df.replace({'NaN': None}, inplace=True)\n",
        "\n",
        "# Convert 'Salary' column to numeric values\n",
        "df['Salary'] = pd.to_numeric(df['Salary'], errors='coerce')\n",
        "\n",
        "# Handle missing values correctly\n",
        "df = df.assign(\n",
        "    Age=df['Age'].fillna(df['Age'].mean()),  # Fill missing Age with mean\n",
        "    City=df['City'].fillna(\"Unknown\"),       # Fill missing City with \"Unknown\"\n",
        "    Salary=df['Salary'].fillna(df['Salary'].median())  # Fill missing Salary with median\n",
        ")\n",
        "\n",
        "print(\"\\nMissing Values After Handling:\")\n",
        "print(df.isnull().sum())\n"
      ],
      "metadata": {
        "colab": {
          "base_uri": "https://localhost:8080/"
        },
        "id": "57ajzjnw8lAy",
        "outputId": "5c2a60f5-b0dc-49d0-cd6f-88e15b7dc52d"
      },
      "execution_count": 56,
      "outputs": [
        {
          "output_type": "stream",
          "name": "stdout",
          "text": [
            "\n",
            "Missing Values After Handling:\n",
            "Name      0\n",
            "Age       0\n",
            "City      0\n",
            "Salary    0\n",
            "dtype: int64\n"
          ]
        }
      ]
    },
    {
      "cell_type": "code",
      "source": [
        "# Step 5: Remove Duplicates\n",
        "print(df)\n",
        "df.drop_duplicates(inplace=True)\n"
      ],
      "metadata": {
        "colab": {
          "base_uri": "https://localhost:8080/"
        },
        "id": "GMBnwqyy8jEz",
        "outputId": "15986d0a-bc42-4487-8cd9-fe280c3abfa0"
      },
      "execution_count": 57,
      "outputs": [
        {
          "output_type": "stream",
          "name": "stdout",
          "text": [
            "             Name        Age        City   Salary\n",
            "0     aman Kapoor  25.000000       Delhi  50000.0\n",
            "1    Bharat Kumar  32.166667     Kolkata  60000.0\n",
            "2    charu thakur  30.000000     Chennai  55000.0\n",
            "3    dinesh singh  35.000000  Hoshiarpur  45000.0\n",
            "4          Emilly  40.000000      Mumbai  70000.0\n",
            "5     Rajat gupta  28.000000     Unknown  55000.0\n",
            "6  Anamika Kumari  32.166667    Dehradun  55000.0\n",
            "7    dinesh singh  35.000000  Hoshiarpur  45000.0\n",
            "8      Amar kumar  32.166667       Ropar  62000.0\n"
          ]
        }
      ]
    },
    {
      "cell_type": "code",
      "source": [
        "# Step 6: Standardize Text Columns\n",
        "df['Name'] = df['Name'].str.title()  # Capitalize Names\n",
        "df['City'] = df['City'].str.title().str.strip()  # Capitalize and trim spaces"
      ],
      "metadata": {
        "id": "PK1uOUZV8fxd"
      },
      "execution_count": 58,
      "outputs": []
    },
    {
      "cell_type": "code",
      "source": [
        "# Step 7: Convert Data Types\n",
        "# Convert Age and Salary to integer type\n",
        "df['Age'] = df['Age'].astype(int)\n",
        "df['Salary'] = df['Salary'].astype(int)\n",
        "\n",
        "# Display the cleaned dataset\n",
        "print(\"\\nData After Cleaning:\")\n",
        "print(df)"
      ],
      "metadata": {
        "colab": {
          "base_uri": "https://localhost:8080/"
        },
        "id": "Pp2UHtG18eTh",
        "outputId": "6bf74571-442b-40dc-c0e2-e9cedfa3f638"
      },
      "execution_count": 59,
      "outputs": [
        {
          "output_type": "stream",
          "name": "stdout",
          "text": [
            "\n",
            "Data After Cleaning:\n",
            "             Name  Age        City  Salary\n",
            "0     Aman Kapoor   25       Delhi   50000\n",
            "1    Bharat Kumar   32     Kolkata   60000\n",
            "2    Charu Thakur   30     Chennai   55000\n",
            "3    Dinesh Singh   35  Hoshiarpur   45000\n",
            "4          Emilly   40      Mumbai   70000\n",
            "5     Rajat Gupta   28     Unknown   55000\n",
            "6  Anamika Kumari   32    Dehradun   55000\n",
            "8      Amar Kumar   32       Ropar   62000\n"
          ]
        }
      ]
    },
    {
      "cell_type": "code",
      "source": [
        "# Step 8: Save the Cleaned Data to a CSV File\n",
        "df.to_csv(\"cleaned_data.csv\", index=False)\n",
        "print(\"\\nCleaned data saved as cleaned_data.csv\")"
      ],
      "metadata": {
        "colab": {
          "base_uri": "https://localhost:8080/"
        },
        "id": "zh8H-DsB8cqS",
        "outputId": "2e5b0363-c246-44cd-9d66-40ae62858765"
      },
      "execution_count": 60,
      "outputs": [
        {
          "output_type": "stream",
          "name": "stdout",
          "text": [
            "\n",
            "Cleaned data saved as cleaned_data.csv\n"
          ]
        }
      ]
    }
  ]
}