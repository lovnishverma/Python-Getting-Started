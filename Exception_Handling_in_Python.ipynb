{
  "nbformat": 4,
  "nbformat_minor": 0,
  "metadata": {
    "colab": {
      "provenance": [],
      "authorship_tag": "ABX9TyNG6ebrA/j0RziRADqt/46D",
      "include_colab_link": true
    },
    "kernelspec": {
      "name": "python3",
      "display_name": "Python 3"
    },
    "language_info": {
      "name": "python"
    }
  },
  "cells": [
    {
      "cell_type": "markdown",
      "metadata": {
        "id": "view-in-github",
        "colab_type": "text"
      },
      "source": [
        "<a href=\"https://colab.research.google.com/github/lovnishverma/Python-Getting-Started/blob/main/Exception_Handling_in_Python.ipynb\" target=\"_parent\"><img src=\"https://colab.research.google.com/assets/colab-badge.svg\" alt=\"Open In Colab\"/></a>"
      ]
    },
    {
      "cell_type": "markdown",
      "source": [
        "### **Exception Handling in Python: A Beginner's Guide**  \n",
        "\n",
        "Python provides a powerful mechanism for handling errors through **exception handling** using `try`, `except`, and `finally` blocks. Exception handling allows programs to deal with runtime errors gracefully without crashing.  \n"
      ],
      "metadata": {
        "id": "gEMK9FXq1A3Z"
      }
    },
    {
      "cell_type": "markdown",
      "source": [
        "## **1. What is an Exception?**  \n",
        "An **exception** is an error that occurs during program execution, disrupting the normal flow of the program. Examples include:  \n",
        "- Division by zero (`ZeroDivisionError`)  \n",
        "- Accessing an undefined variable (`NameError`)  \n",
        "- Invalid type operations (`TypeError`)  \n",
        "- File not found (`FileNotFoundError`)  \n",
        "\n",
        "Instead of stopping the program abruptly, Python allows us to **handle** these exceptions using `try-except-finally`.  \n",
        "\n",
        "---\n",
        "\n",
        "## **2. Using `try` and `except`**  \n",
        "\n",
        "The `try` block contains the code that might raise an exception. If an error occurs, Python jumps to the `except` block to handle it.  "
      ],
      "metadata": {
        "id": "Bso9nG551DN5"
      }
    },
    {
      "cell_type": "markdown",
      "source": [
        "### **Basic Example: Handling Division by Zero**"
      ],
      "metadata": {
        "id": "Cr7-zKiQ1HiR"
      }
    },
    {
      "cell_type": "code",
      "source": [
        "try:\n",
        "    result = 10 / 0  # This will cause ZeroDivisionError\n",
        "except ZeroDivisionError:\n",
        "    print(\"Error: You cannot divide by zero!\")"
      ],
      "metadata": {
        "colab": {
          "base_uri": "https://localhost:8080/"
        },
        "id": "bsUKwP8p1J7P",
        "outputId": "eeeaa2c1-6e82-41bf-83e8-98344ff42158"
      },
      "execution_count": 10,
      "outputs": [
        {
          "output_type": "stream",
          "name": "stdout",
          "text": [
            "Error: You cannot divide by zero!\n"
          ]
        }
      ]
    },
    {
      "cell_type": "markdown",
      "source": [
        "🔹 **Output:**  \n",
        "```\n",
        "Error: You cannot divide by zero!\n",
        "```\n",
        "✅ The program does not crash but instead prints a friendly message.  "
      ],
      "metadata": {
        "id": "q_50Vu_l1P2Q"
      }
    },
    {
      "cell_type": "markdown",
      "source": [
        "## **3. Handling Multiple Exceptions**  \n",
        "You can handle different exceptions separately using multiple `except` blocks.  "
      ],
      "metadata": {
        "id": "Gsdagz2c1S63"
      }
    },
    {
      "cell_type": "code",
      "source": [
        "try:\n",
        "    num = int(input(\"Enter a number: \"))\n",
        "    result = 10 / num\n",
        "except ZeroDivisionError:\n",
        "    print(\"Error: Cannot divide by zero!\")\n",
        "except ValueError:\n",
        "    print(\"Error: Invalid input! Please enter a number.\")"
      ],
      "metadata": {
        "colab": {
          "base_uri": "https://localhost:8080/"
        },
        "id": "ZlUfAiL01Vvh",
        "outputId": "ebf64cfb-5dd9-41db-86da-d3914f2a3423"
      },
      "execution_count": 17,
      "outputs": [
        {
          "output_type": "stream",
          "name": "stdout",
          "text": [
            "Enter a number: abc\n",
            "Error: Invalid input! Please enter a number.\n"
          ]
        }
      ]
    },
    {
      "cell_type": "markdown",
      "source": [
        "🔹 **Example Runs:**  \n",
        "✔ **Input:** `0` → Output: `Error: Cannot divide by zero!`  \n",
        "✔ **Input:** `abc` → Output: `Error: Invalid input! Please enter a number.`  "
      ],
      "metadata": {
        "id": "CxofYmGU1ZSh"
      }
    },
    {
      "cell_type": "markdown",
      "source": [
        "## **4. Using a Generic `except` Block**  \n",
        "If you don’t know the exact type of exception, you can catch **all exceptions** using `except Exception`.  "
      ],
      "metadata": {
        "id": "Mwv8Zbsc1cnh"
      }
    },
    {
      "cell_type": "code",
      "source": [
        "try:\n",
        "    x = int(\"Hello\")  # This will cause ValueError\n",
        "except Exception as e:\n",
        "    print(f\"An error occurred: {e}\")"
      ],
      "metadata": {
        "colab": {
          "base_uri": "https://localhost:8080/"
        },
        "id": "zxiKhruv1bwf",
        "outputId": "b0947004-9973-42b1-cd85-46be5d1fe1da"
      },
      "execution_count": 12,
      "outputs": [
        {
          "output_type": "stream",
          "name": "stdout",
          "text": [
            "An error occurred: invalid literal for int() with base 10: 'Hello'\n"
          ]
        }
      ]
    },
    {
      "cell_type": "markdown",
      "source": [
        "🔹 **Output:**  \n",
        "```\n",
        "An error occurred: invalid literal for int() with base 10: 'Hello'\n",
        "```\n",
        "✅ Using `except Exception as e`, you can print the actual error message.\n"
      ],
      "metadata": {
        "id": "ahhk-p_B1h2P"
      }
    },
    {
      "cell_type": "markdown",
      "source": [
        "## **5. The `finally` Block**  \n",
        "The `finally` block **always executes** whether an exception occurs or not. It's often used for cleanup operations, like closing files or releasing resources.  \n"
      ],
      "metadata": {
        "id": "BZecMTP21khz"
      }
    },
    {
      "cell_type": "code",
      "source": [
        "try:\n",
        "    file = open(\"test.txt\", \"r\")\n",
        "    data = file.read()\n",
        "except FileNotFoundError:\n",
        "    print(\"Error: File not found!\")\n",
        "finally:\n",
        "    print(\"Closing the file (if opened).\")\n",
        "    if 'file' in locals():\n",
        "        file.close()"
      ],
      "metadata": {
        "colab": {
          "base_uri": "https://localhost:8080/"
        },
        "id": "NXTGvksH1mZn",
        "outputId": "f33f65ff-2f83-4713-f1a9-1928a77088e9"
      },
      "execution_count": 13,
      "outputs": [
        {
          "output_type": "stream",
          "name": "stdout",
          "text": [
            "Error: File not found!\n",
            "Closing the file (if opened).\n"
          ]
        }
      ]
    },
    {
      "cell_type": "markdown",
      "source": [
        "🔹 **Possible Outputs:**  \n",
        "✔ If file exists:  \n",
        "```\n",
        "Closing the file (if opened).\n",
        "```\n",
        "✔ If file does not exist:  \n",
        "```\n",
        "Error: File not found!\n",
        "Closing the file (if opened).\n",
        "```\n",
        "✅ The `finally` block ensures that resources are cleaned up properly."
      ],
      "metadata": {
        "id": "hANCFXUF1o_C"
      }
    },
    {
      "cell_type": "markdown",
      "source": [
        "## **6. The `else` Block (Optional)**  \n",
        "The `else` block executes **only if no exceptions** occur inside `try`.  "
      ],
      "metadata": {
        "id": "eZXTNKRT1ui_"
      }
    },
    {
      "cell_type": "code",
      "source": [
        "try:\n",
        "    num = int(input(\"Enter a number: \"))\n",
        "    result = 10 / num\n",
        "except ZeroDivisionError:\n",
        "    print(\"Error: Cannot divide by zero!\")\n",
        "else:\n",
        "    print(f\"Division successful, result: {result}\")\n",
        "finally:\n",
        "    print(\"End of program.\")"
      ],
      "metadata": {
        "colab": {
          "base_uri": "https://localhost:8080/"
        },
        "id": "ng0NXkCe1wR3",
        "outputId": "73b7a99e-4ac7-4f23-9368-77ecf6b8a97b"
      },
      "execution_count": 14,
      "outputs": [
        {
          "output_type": "stream",
          "name": "stdout",
          "text": [
            "Enter a number: 45\n",
            "Division successful, result: 0.2222222222222222\n",
            "End of program.\n"
          ]
        }
      ]
    },
    {
      "cell_type": "markdown",
      "source": [
        "🔹 **Example Runs:**  \n",
        "✔ **Input:** `5` → Output:  \n",
        "```\n",
        "Division successful, result: 2.0\n",
        "End of program.\n",
        "```\n",
        "✔ **Input:** `0` → Output:  \n",
        "```\n",
        "Error: Cannot divide by zero!\n",
        "End of program."
      ],
      "metadata": {
        "id": "hVvcu_XS1zFP"
      }
    },
    {
      "cell_type": "markdown",
      "source": [
        "✅ The `else` block runs **only** when there is **no exception**."
      ],
      "metadata": {
        "id": "F-b8nfpa12ts"
      }
    },
    {
      "cell_type": "markdown",
      "source": [
        "## **7. Raising Custom Exceptions**  \n",
        "You can manually **raise** exceptions using `raise`.  "
      ],
      "metadata": {
        "id": "J95yTszD17hI"
      }
    },
    {
      "cell_type": "code",
      "source": [
        "try:\n",
        "    age = int(input(\"Enter your age: \"))\n",
        "    if age < 0:\n",
        "        raise ValueError(\"Age cannot be negative!\")\n",
        "    print(f\"Your age is {age}\")\n",
        "except ValueError as e:\n",
        "    print(f\"Invalid input: {e}\")"
      ],
      "metadata": {
        "colab": {
          "base_uri": "https://localhost:8080/"
        },
        "id": "4xkyRAST11vh",
        "outputId": "7d2173b4-a3a7-4126-c290-77324b803320"
      },
      "execution_count": 15,
      "outputs": [
        {
          "output_type": "stream",
          "name": "stdout",
          "text": [
            "Enter your age: 25\n",
            "Your age is 25\n"
          ]
        }
      ]
    },
    {
      "cell_type": "markdown",
      "source": [
        "🔹 **Example Runs:**  \n",
        "✔ **Input:** `25` → Output: `Your age is 25`  \n",
        "✔ **Input:** `-5` → Output: `Invalid input: Age cannot be negative!`"
      ],
      "metadata": {
        "id": "OfQsDChk1_w_"
      }
    },
    {
      "cell_type": "markdown",
      "source": [
        "## **8. Summary**  \n",
        "\n",
        "| Concept         | Description |\n",
        "|----------------|-------------|\n",
        "| `try`          | Code that may raise an exception |\n",
        "| `except`       | Catches and handles the exception |\n",
        "| `finally`      | Always executes, used for cleanup |\n",
        "| `else`         | Runs if no exception occurs |\n",
        "| `raise`        | Manually raises an exception |"
      ],
      "metadata": {
        "id": "yck0lTPI2CEb"
      }
    },
    {
      "cell_type": "markdown",
      "source": [
        "## **9. Practice Exercise**  \n",
        "Try running the following code and experiment with different inputs:"
      ],
      "metadata": {
        "id": "X1hdQD_s2EV_"
      }
    },
    {
      "cell_type": "code",
      "source": [
        "try:\n",
        "    num1 = int(input(\"Enter the first number: \"))\n",
        "    num2 = int(input(\"Enter the second number: \"))\n",
        "    result = num1 / num2\n",
        "except ZeroDivisionError:\n",
        "    print(\"Cannot divide by zero!\")\n",
        "except ValueError:\n",
        "    print(\"Please enter valid numbers!\")\n",
        "else:\n",
        "    print(f\"Result: {result}\")\n",
        "finally:\n",
        "    print(\"Thank you for using the calculator!\")"
      ],
      "metadata": {
        "colab": {
          "base_uri": "https://localhost:8080/"
        },
        "id": "iQv_Vv0y2GSA",
        "outputId": "fd531a6e-9efd-4740-bb65-f3150862c972"
      },
      "execution_count": 16,
      "outputs": [
        {
          "output_type": "stream",
          "name": "stdout",
          "text": [
            "Enter the first number: 5\n",
            "Enter the second number: 10\n",
            "Result: 0.5\n",
            "Thank you for using the calculator!\n"
          ]
        }
      ]
    },
    {
      "cell_type": "markdown",
      "source": [
        "### **Final Thoughts**  \n",
        "Mastering `try-except-finally` will make your Python programs more **robust** and **user-friendly** by preventing crashes and handling errors gracefully. 😊  \n",
        "\n",
        "Now Learn some **advanced** exception handling techniques?"
      ],
      "metadata": {
        "id": "nX6OjBtv2Jqv"
      }
    }
  ]
}