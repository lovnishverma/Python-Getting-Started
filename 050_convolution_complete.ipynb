{
  "cells": [
    {
      "cell_type": "markdown",
      "metadata": {
        "id": "view-in-github",
        "colab_type": "text"
      },
      "source": [
        "<a href=\"https://colab.research.google.com/github/lovnishverma/Python-Getting-Started/blob/main/050_convolution_complete.ipynb\" target=\"_parent\"><img src=\"https://colab.research.google.com/assets/colab-badge.svg\" alt=\"Open In Colab\"/></a>"
      ]
    },
    {
      "cell_type": "markdown",
      "metadata": {
        "id": "v1noHicQ19_x"
      },
      "source": [
        "# Convolution"
      ]
    },
    {
      "cell_type": "markdown",
      "metadata": {
        "id": "Z_x3575G1-AB"
      },
      "source": [
        "## Required imports"
      ]
    },
    {
      "cell_type": "code",
      "execution_count": 1,
      "metadata": {
        "ExecuteTime": {
          "end_time": "2018-07-17T05:07:22.409259Z",
          "start_time": "2018-07-17T05:07:22.244395Z"
        },
        "id": "2dQT7o7i1-AH"
      },
      "outputs": [],
      "source": [
        "from keras.datasets import mnist\n",
        "import matplotlib.pyplot as plt\n",
        "%matplotlib inline\n",
        "import numpy as np\n",
        "from scipy import signal"
      ]
    },
    {
      "cell_type": "markdown",
      "metadata": {
        "id": "X0BGb8Or1-AO"
      },
      "source": [
        "## Load data"
      ]
    },
    {
      "cell_type": "markdown",
      "metadata": {
        "id": "XDkujpJk1-AR"
      },
      "source": [
        "We use the MNIST data set that is provided by the keras framework."
      ]
    },
    {
      "cell_type": "code",
      "execution_count": 2,
      "metadata": {
        "colab": {
          "base_uri": "https://localhost:8080/"
        },
        "id": "MT4iZirz1-AS",
        "outputId": "4ee1d1cb-8dfa-4a34-a698-015e85e2031b"
      },
      "outputs": [
        {
          "output_type": "stream",
          "name": "stdout",
          "text": [
            "Downloading data from https://storage.googleapis.com/tensorflow/tf-keras-datasets/mnist.npz\n",
            "\u001b[1m11490434/11490434\u001b[0m \u001b[32m━━━━━━━━━━━━━━━━━━━━\u001b[0m\u001b[37m\u001b[0m \u001b[1m0s\u001b[0m 0us/step\n"
          ]
        }
      ],
      "source": [
        "(x_train, *_), *_ = mnist.load_data()"
      ]
    },
    {
      "cell_type": "markdown",
      "metadata": {
        "id": "Y0KazgR51-AU"
      },
      "source": [
        "We load the images of a 5 and a 3."
      ]
    },
    {
      "cell_type": "code",
      "execution_count": 3,
      "metadata": {
        "id": "_YR64Lhp1-AV"
      },
      "outputs": [],
      "source": [
        "five = x_train[0]"
      ]
    },
    {
      "cell_type": "code",
      "execution_count": 4,
      "metadata": {
        "id": "bFKcn6VT1-AW"
      },
      "outputs": [],
      "source": [
        "three = x_train[7]"
      ]
    },
    {
      "cell_type": "markdown",
      "metadata": {
        "id": "g5hBL1Sw1-AX"
      },
      "source": [
        "We define a function to visualize the data as a gray scale image."
      ]
    },
    {
      "cell_type": "code",
      "execution_count": 5,
      "metadata": {
        "id": "ZbWxW5Zs1-AZ"
      },
      "outputs": [],
      "source": [
        "def show_img(img):\n",
        "    frame = plt.gca()\n",
        "    frame.axes.get_xaxis().set_visible(False)\n",
        "    frame.axes.get_yaxis().set_visible(False)\n",
        "    plt.imshow(img, cmap='gray')\n",
        "    plt.show()"
      ]
    },
    {
      "cell_type": "markdown",
      "metadata": {
        "id": "80G7qXOS1-Aj"
      },
      "source": [
        "We define two kernels, one to detect diagonal features along the main diagonal, the other along the minor diagonal.  The kernels are $7 \\times 7$ pixels."
      ]
    },
    {
      "cell_type": "code",
      "execution_count": 6,
      "metadata": {
        "id": "Na1mhU351-Al"
      },
      "outputs": [],
      "source": [
        "kernel_main_diag = np.eye(7)/7.0"
      ]
    },
    {
      "cell_type": "code",
      "execution_count": 7,
      "metadata": {
        "id": "5TnZ_-pj1-Am"
      },
      "outputs": [],
      "source": [
        "kernel_minor_diag = np.rot90(kernel_main_diag)"
      ]
    },
    {
      "cell_type": "markdown",
      "metadata": {
        "id": "tHGJ6sYa1-An"
      },
      "source": [
        "Below, the convolution of those two kernels with the images for 5 and 3 are shown."
      ]
    },
    {
      "cell_type": "code",
      "execution_count": 8,
      "metadata": {
        "colab": {
          "base_uri": "https://localhost:8080/",
          "height": 406
        },
        "id": "xAzUr2fd1-Ao",
        "outputId": "9784d665-e47b-4fef-d3cd-619408b60da8"
      },
      "outputs": [
        {
          "output_type": "display_data",
          "data": {
            "text/plain": [
              "<Figure size 640x480 with 1 Axes>"
            ],
            "image/png": "[encoded data removed]"
          },
          "metadata": {}
        }
      ],
      "source": [
        "show_img(five)"
      ]
    },
    {
      "cell_type": "code",
      "execution_count": 9,
      "metadata": {
        "id": "x3IumSCD1-At"
      },
      "outputs": [],
      "source": [
        "five_main_diag = signal.fftconvolve(five, kernel_main_diag, mode='same')"
      ]
    },
    {
      "cell_type": "code",
      "execution_count": 10,
      "metadata": {
        "colab": {
          "base_uri": "https://localhost:8080/",
          "height": 406
        },
        "id": "pP9CsvMt1-Au",
        "outputId": "09cdc659-f077-4e39-989b-48cd0d9f0d19"
      },
      "outputs": [
        {
          "output_type": "display_data",
          "data": {
            "text/plain": [
              "<Figure size 640x480 with 1 Axes>"
            ],
            "image/png": "[encoded data removed]"
          },
          "metadata": {}
        }
      ],
      "source": [
        "show_img(five_main_diag)"
      ]
    },
    {
      "cell_type": "code",
      "execution_count": 11,
      "metadata": {
        "id": "GhhldArI1-Av"
      },
      "outputs": [],
      "source": [
        "five_minor_diag = signal.fftconvolve(five, kernel_minor_diag, mode='same')"
      ]
    },
    {
      "cell_type": "code",
      "execution_count": 12,
      "metadata": {
        "colab": {
          "base_uri": "https://localhost:8080/",
          "height": 406
        },
        "id": "UkS_xbcY1-Aw",
        "outputId": "4775d170-6986-4af9-dd10-cde8383ad206"
      },
      "outputs": [
        {
          "output_type": "display_data",
          "data": {
            "text/plain": [
              "<Figure size 640x480 with 1 Axes>"
            ],
            "image/png": "[encoded data removed]"
          },
          "metadata": {}
        }
      ],
      "source": [
        "show_img(five_minor_diag)"
      ]
    },
    {
      "cell_type": "code",
      "execution_count": 13,
      "metadata": {
        "colab": {
          "base_uri": "https://localhost:8080/",
          "height": 406
        },
        "id": "5A4RF8hi1-Ax",
        "outputId": "a77f7fd6-f9a4-454d-c611-0c2112276677"
      },
      "outputs": [
        {
          "output_type": "display_data",
          "data": {
            "text/plain": [
              "<Figure size 640x480 with 1 Axes>"
            ],
            "image/png": "[encoded data removed]"
          },
          "metadata": {}
        }
      ],
      "source": [
        "show_img(three)"
      ]
    },
    {
      "cell_type": "code",
      "execution_count": 14,
      "metadata": {
        "id": "GT440Lyk1-Az"
      },
      "outputs": [],
      "source": [
        "three_main_diag = signal.fftconvolve(three, kernel_main_diag, mode='same')"
      ]
    },
    {
      "cell_type": "code",
      "execution_count": 15,
      "metadata": {
        "colab": {
          "base_uri": "https://localhost:8080/",
          "height": 406
        },
        "id": "F_Riq46C1-Az",
        "outputId": "8d0c1d10-9955-4568-dc45-c23a399a0f98"
      },
      "outputs": [
        {
          "output_type": "display_data",
          "data": {
            "text/plain": [
              "<Figure size 640x480 with 1 Axes>"
            ],
            "image/png": "[encoded data removed]"
          },
          "metadata": {}
        }
      ],
      "source": [
        "show_img(three_main_diag)"
      ]
    },
    {
      "cell_type": "code",
      "execution_count": 16,
      "metadata": {
        "id": "pK3TjuIk1-A1"
      },
      "outputs": [],
      "source": [
        "three_minor_diag = signal.fftconvolve(three, kernel_minor_diag, mode='same')"
      ]
    },
    {
      "cell_type": "code",
      "execution_count": 17,
      "metadata": {
        "colab": {
          "base_uri": "https://localhost:8080/",
          "height": 406
        },
        "id": "QL_3z7r51-A2",
        "outputId": "38ddeba2-eb99-470c-ac7b-640333699a92"
      },
      "outputs": [
        {
          "output_type": "display_data",
          "data": {
            "text/plain": [
              "<Figure size 640x480 with 1 Axes>"
            ],
            "image/png": "[encoded data removed]"
          },
          "metadata": {}
        }
      ],
      "source": [
        "show_img(three_minor_diag)"
      ]
    },
    {
      "cell_type": "markdown",
      "metadata": {
        "id": "ZanhCcac1-A5"
      },
      "source": [
        "From the images, it is clear that these kernels could be used to detect features that are distinct for 5 and 3."
      ]
    }
  ],
  "metadata": {
    "kernelspec": {
      "display_name": "Python 3",
      "language": "python",
      "name": "python3"
    },
    "language_info": {
      "codemirror_mode": {
        "name": "ipython",
        "version": 3
      },
      "file_extension": ".py",
      "mimetype": "text/x-python",
      "name": "python",
      "nbconvert_exporter": "python",
      "pygments_lexer": "ipython3",
      "version": "3.7.3"
    },
    "colab": {
      "provenance": [],
      "include_colab_link": true
    }
  },
  "nbformat": 4,
  "nbformat_minor": 0
}