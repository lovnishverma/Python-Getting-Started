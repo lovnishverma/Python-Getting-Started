{
  "nbformat": 4,
  "nbformat_minor": 0,
  "metadata": {
    "colab": {
      "provenance": [],
      "authorship_tag": "ABX9TyPFsupJRkK5QofYFQ4lw8im",
      "include_colab_link": true
    },
    "kernelspec": {
      "name": "python3",
      "display_name": "Python 3"
    },
    "language_info": {
      "name": "python"
    }
  },
  "cells": [
    {
      "cell_type": "markdown",
      "metadata": {
        "id": "view-in-github",
        "colab_type": "text"
      },
      "source": [
        "<a href=\"https://colab.research.google.com/github/lovnishverma/Python-Getting-Started/blob/main/Pascal_VOC_(XML)_to_YOLO_format.ipynb\" target=\"_parent\"><img src=\"https://colab.research.google.com/assets/colab-badge.svg\" alt=\"Open In Colab\"/></a>"
      ]
    },
    {
      "cell_type": "markdown",
      "source": [
        "# Pascal VOC (XML) to YOLO format"
      ],
      "metadata": {
        "id": "WwL3n-9Jcrjq"
      }
    },
    {
      "cell_type": "markdown",
      "source": [
        "\n",
        "\n",
        "---\n",
        "\n"
      ],
      "metadata": {
        "id": "Fh_-KQ0WdPQx"
      }
    },
    {
      "cell_type": "code",
      "execution_count": 1,
      "metadata": {
        "colab": {
          "base_uri": "https://localhost:8080/"
        },
        "id": "-OYPTPsobhh8",
        "outputId": "ce02eb3d-6755-4302-baa8-0139d8205167"
      },
      "outputs": [
        {
          "output_type": "stream",
          "name": "stdout",
          "text": [
            "Archive:  annotations_xml.zip\n",
            "   creating: annotations_xml/\n",
            "  inflating: annotations_xml/apple1.xml  \n",
            "  inflating: annotations_xml/apple10.xml  \n",
            "  inflating: annotations_xml/apple2.xml  \n",
            "  inflating: annotations_xml/apple3.xml  \n",
            "  inflating: annotations_xml/apple4.xml  \n",
            "  inflating: annotations_xml/apple5.xml  \n",
            "  inflating: annotations_xml/apple6.xml  \n",
            "  inflating: annotations_xml/apple7.xml  \n",
            "  inflating: annotations_xml/apple8.xml  \n",
            "  inflating: annotations_xml/apple9.xml  \n",
            "  inflating: annotations_xml/mango1.xml  \n",
            "  inflating: annotations_xml/mango10.xml  \n",
            "  inflating: annotations_xml/mango2.xml  \n",
            "  inflating: annotations_xml/mango3.xml  \n",
            "  inflating: annotations_xml/mango4.xml  \n",
            "  inflating: annotations_xml/mango5.xml  \n",
            "  inflating: annotations_xml/mango6.xml  \n",
            "  inflating: annotations_xml/mango7.xml  \n",
            "  inflating: annotations_xml/mango8.xml  \n",
            "  inflating: annotations_xml/mango9.xml  \n"
          ]
        }
      ],
      "source": [
        "!unzip annotations_xml.zip"
      ]
    },
    {
      "cell_type": "markdown",
      "source": [
        "\n",
        "\n",
        "---\n",
        "\n"
      ],
      "metadata": {
        "id": "irZNwrpRdRPx"
      }
    },
    {
      "cell_type": "markdown",
      "source": [
        "Pascal VOC (XML) to YOLO format"
      ],
      "metadata": {
        "id": "U-bW4oDUbsVB"
      }
    },
    {
      "cell_type": "code",
      "source": [
        "import os\n",
        "import xml.etree.ElementTree as ET\n",
        "\n",
        "# Classes in the dataset\n",
        "CLASSES = ['apple', 'mango']\n",
        "\n",
        "# Input and output paths\n",
        "xml_folder = 'annotations_xml'\n",
        "output_labels = 'labels'\n",
        "\n",
        "os.makedirs(output_labels, exist_ok=True)\n",
        "\n",
        "# Function to convert\n",
        "\n",
        "\n",
        "def convert(xml_file):\n",
        "    tree = ET.parse(xml_file)\n",
        "    root = tree.getroot()\n",
        "\n",
        "    img_w = int(root.find('size/width').text)\n",
        "    img_h = int(root.find('size/height').text)\n",
        "\n",
        "    yolo_lines = []\n",
        "\n",
        "    for obj in root.findall('object'):\n",
        "        class_name = obj.find('name').text.lower()\n",
        "        if class_name not in CLASSES:\n",
        "            continue\n",
        "\n",
        "        class_id = CLASSES.index(class_name)\n",
        "\n",
        "        bndbox = obj.find('bndbox')\n",
        "        xmin = int(bndbox.find('xmin').text)\n",
        "        ymin = int(bndbox.find('ymin').text)\n",
        "        xmax = int(bndbox.find('xmax').text)\n",
        "        ymax = int(bndbox.find('ymax').text)\n",
        "\n",
        "        # Convert to YOLO format\n",
        "        x_center = (xmin + xmax) / 2.0 / img_w\n",
        "        y_center = (ymin + ymax) / 2.0 / img_h\n",
        "        width = (xmax - xmin) / img_w\n",
        "        height = (ymax - ymin) / img_h\n",
        "\n",
        "        yolo_lines.append(\n",
        "            f\"{class_id} {x_center:.6f} {y_center:.6f} {width:.6f} {height:.6f}\")\n",
        "\n",
        "    return yolo_lines\n",
        "\n",
        "\n",
        "# Process all XML files\n",
        "for file in os.listdir(xml_folder):\n",
        "    if file.endswith(\".xml\"):\n",
        "        xml_path = os.path.join(xml_folder, file)\n",
        "        yolo_data = convert(xml_path)\n",
        "\n",
        "        txt_filename = file.replace(\".xml\", \".txt\")\n",
        "        with open(os.path.join(output_labels, txt_filename), \"w\") as f:\n",
        "            f.write(\"\\n\".join(yolo_data))\n",
        "\n",
        "print(\"Conversion completed.\")\n"
      ],
      "metadata": {
        "colab": {
          "base_uri": "https://localhost:8080/"
        },
        "id": "nKXX0xGbbpkq",
        "outputId": "9c92ed3d-8e9d-405d-cfd8-6d67500f1ea0"
      },
      "execution_count": 2,
      "outputs": [
        {
          "output_type": "stream",
          "name": "stdout",
          "text": [
            "Conversion completed.\n"
          ]
        }
      ]
    },
    {
      "cell_type": "markdown",
      "source": [
        "\n",
        "\n",
        "---\n",
        "\n"
      ],
      "metadata": {
        "id": "Q5EIQkpqdSs5"
      }
    },
    {
      "cell_type": "markdown",
      "source": [
        "Download labels folder to local pc"
      ],
      "metadata": {
        "id": "9EpON81ab15Z"
      }
    },
    {
      "cell_type": "code",
      "source": [
        "#Download labels folder to local pc from colab\n",
        "# Step 1: Zip the folder\n",
        "!zip -r labels.zip labels/\n",
        "\n",
        "# Step 2: Download the zip\n",
        "from google.colab import files\n",
        "files.download('labels.zip')\n"
      ],
      "metadata": {
        "colab": {
          "base_uri": "https://localhost:8080/",
          "height": 382
        },
        "id": "4PHMOO22b8eS",
        "outputId": "4cafdfd4-41f2-42dc-a7d4-277366d5090f"
      },
      "execution_count": 6,
      "outputs": [
        {
          "output_type": "stream",
          "name": "stdout",
          "text": [
            "  adding: labels/ (stored 0%)\n",
            "  adding: labels/mango3.txt (deflated 19%)\n",
            "  adding: labels/apple10.txt (deflated 24%)\n",
            "  adding: labels/apple7.txt (deflated 14%)\n",
            "  adding: labels/apple2.txt (deflated 30%)\n",
            "  adding: labels/apple4.txt (deflated 24%)\n",
            "  adding: labels/mango10.txt (deflated 11%)\n",
            "  adding: labels/mango9.txt (deflated 19%)\n",
            "  adding: labels/mango4.txt (deflated 30%)\n",
            "  adding: labels/apple5.txt (deflated 5%)\n",
            "  adding: labels/mango8.txt (deflated 11%)\n",
            "  adding: labels/mango7.txt (deflated 5%)\n",
            "  adding: labels/apple6.txt (deflated 16%)\n",
            "  adding: labels/mango2.txt (deflated 5%)\n",
            "  adding: labels/apple9.txt (deflated 38%)\n",
            "  adding: labels/mango1.txt (deflated 19%)\n",
            "  adding: labels/apple3.txt (deflated 8%)\n",
            "  adding: labels/apple8.txt (deflated 38%)\n",
            "  adding: labels/mango5.txt (deflated 22%)\n",
            "  adding: labels/mango6.txt (deflated 14%)\n",
            "  adding: labels/apple1.txt (deflated 8%)\n"
          ]
        },
        {
          "output_type": "display_data",
          "data": {
            "text/plain": [
              "<IPython.core.display.Javascript object>"
            ],
            "application/javascript": [
              "\n",
              "    async function download(id, filename, size) {\n",
              "      if (!google.colab.kernel.accessAllowed) {\n",
              "        return;\n",
              "      }\n",
              "      const div = document.createElement('div');\n",
              "      const label = document.createElement('label');\n",
              "      label.textContent = `Downloading \"${filename}\": `;\n",
              "      div.appendChild(label);\n",
              "      const progress = document.createElement('progress');\n",
              "      progress.max = size;\n",
              "      div.appendChild(progress);\n",
              "      document.body.appendChild(div);\n",
              "\n",
              "      const buffers = [];\n",
              "      let downloaded = 0;\n",
              "\n",
              "      const channel = await google.colab.kernel.comms.open(id);\n",
              "      // Send a message to notify the kernel that we're ready.\n",
              "      channel.send({})\n",
              "\n",
              "      for await (const message of channel.messages) {\n",
              "        // Send a message to notify the kernel that we're ready.\n",
              "        channel.send({})\n",
              "        if (message.buffers) {\n",
              "          for (const buffer of message.buffers) {\n",
              "            buffers.push(buffer);\n",
              "            downloaded += buffer.byteLength;\n",
              "            progress.value = downloaded;\n",
              "          }\n",
              "        }\n",
              "      }\n",
              "      const blob = new Blob(buffers, {type: 'application/binary'});\n",
              "      const a = document.createElement('a');\n",
              "      a.href = window.URL.createObjectURL(blob);\n",
              "      a.download = filename;\n",
              "      div.appendChild(a);\n",
              "      a.click();\n",
              "      div.remove();\n",
              "    }\n",
              "  "
            ]
          },
          "metadata": {}
        },
        {
          "output_type": "display_data",
          "data": {
            "text/plain": [
              "<IPython.core.display.Javascript object>"
            ],
            "application/javascript": [
              "download(\"download_c1bdaa84-9380-4eb7-9d9a-174c7c3fca56\", \"labels.zip\", 4015)"
            ]
          },
          "metadata": {}
        }
      ]
    }
  ]
}