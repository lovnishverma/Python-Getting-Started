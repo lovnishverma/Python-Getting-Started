{
  "cells": [
    {
      "cell_type": "markdown",
      "metadata": {
        "id": "view-in-github",
        "colab_type": "text"
      },
      "source": [
        "<a href=\"https://colab.research.google.com/github/lovnishverma/Python-Getting-Started/blob/main/070_imdb_data_exploration_complete.ipynb\" target=\"_parent\"><img src=\"https://colab.research.google.com/assets/colab-badge.svg\" alt=\"Open In Colab\"/></a>"
      ]
    },
    {
      "cell_type": "markdown",
      "metadata": {
        "id": "RtQxeWP22jlu"
      },
      "source": [
        "# IMDB data set: opinions and recurrent neural networks"
      ]
    },
    {
      "cell_type": "markdown",
      "metadata": {
        "id": "fhirDwKJ2jl1"
      },
      "source": [
        "## Required imports"
      ]
    },
    {
      "cell_type": "code",
      "execution_count": 24,
      "metadata": {
        "id": "_OR0sy5X2jl3"
      },
      "outputs": [],
      "source": [
        "from collections import Counter\n",
        "from keras.datasets import imdb\n",
        "import matplotlib.pyplot as plt\n",
        "# %matplotlib inline # not required in google colab\n",
        "import numpy as np\n",
        "from pathlib import Path\n",
        "import pickle"
      ]
    },
    {
      "cell_type": "markdown",
      "metadata": {
        "id": "Jyj7FUGv2jl7"
      },
      "source": [
        "### Loading the data set"
      ]
    },
    {
      "cell_type": "markdown",
      "metadata": {
        "id": "8AdMLg3-2jl9"
      },
      "source": [
        "Load the data set, it will be downloaded and cached."
      ]
    },
    {
      "cell_type": "code",
      "execution_count": 25,
      "metadata": {
        "id": "c-1_RB9V2jl-"
      },
      "outputs": [],
      "source": [
        "(x_train, y_train), (x_test, y_test) = imdb.load_data()"
      ]
    },
    {
      "cell_type": "markdown",
      "metadata": {
        "id": "uFxTOf-V2jl_"
      },
      "source": [
        "## Exploring the data set"
      ]
    },
    {
      "cell_type": "markdown",
      "metadata": {
        "id": "2a3u1hFD2jl_"
      },
      "source": [
        "### Data shape and types"
      ]
    },
    {
      "cell_type": "markdown",
      "metadata": {
        "id": "vGvlg2Oi2jmA"
      },
      "source": [
        "Shape and type of the input and output."
      ]
    },
    {
      "cell_type": "code",
      "execution_count": 26,
      "metadata": {
        "colab": {
          "base_uri": "https://localhost:8080/"
        },
        "id": "Lv3I3yiA2jmB",
        "outputId": "70d0d0d0-bc07-45b1-fff5-d31c91398fa4"
      },
      "outputs": [
        {
          "output_type": "execute_result",
          "data": {
            "text/plain": [
              "((25000,), dtype('O'), (25000,), dtype('int64'))"
            ]
          },
          "metadata": {},
          "execution_count": 26
        }
      ],
      "source": [
        "x_train.shape, x_train.dtype, y_train.shape, y_train.dtype"
      ]
    },
    {
      "cell_type": "code",
      "execution_count": 27,
      "metadata": {
        "colab": {
          "base_uri": "https://localhost:8080/"
        },
        "id": "vad-cSMM2jmE",
        "outputId": "bfd42292-93a8-4326-a648-591f5e23bacb"
      },
      "outputs": [
        {
          "output_type": "execute_result",
          "data": {
            "text/plain": [
              "((25000,), dtype('O'), (25000,), dtype('int64'))"
            ]
          },
          "metadata": {},
          "execution_count": 27
        }
      ],
      "source": [
        "x_test.shape, x_test.dtype, y_test.shape, y_test.dtype"
      ]
    },
    {
      "cell_type": "markdown",
      "metadata": {
        "id": "3Kbg7osl2jmG"
      },
      "source": [
        "Both training and test sets have 25,000 examples each.  The input is a list of integers, the output either 0 or 1."
      ]
    },
    {
      "cell_type": "code",
      "execution_count": 28,
      "metadata": {
        "colab": {
          "base_uri": "https://localhost:8080/"
        },
        "id": "rNxWfHn02jmG",
        "outputId": "95cf5908-84c5-47cd-8902-ae0b99a7a574"
      },
      "outputs": [
        {
          "output_type": "execute_result",
          "data": {
            "text/plain": [
              "(list, 218, int)"
            ]
          },
          "metadata": {},
          "execution_count": 28
        }
      ],
      "source": [
        "type(x_train[0]), len(x_train[0]), type(x_train[0][0])"
      ]
    },
    {
      "cell_type": "code",
      "execution_count": 29,
      "metadata": {
        "colab": {
          "base_uri": "https://localhost:8080/"
        },
        "id": "lN6Ys2N62jmH",
        "outputId": "2281409c-fee8-4ab7-a8bc-09d7658ec271"
      },
      "outputs": [
        {
          "output_type": "execute_result",
          "data": {
            "text/plain": [
              "{np.int64(0), np.int64(1)}"
            ]
          },
          "metadata": {},
          "execution_count": 29
        }
      ],
      "source": [
        "set(y_train)"
      ]
    },
    {
      "cell_type": "markdown",
      "metadata": {
        "id": "IC212qc22jmH"
      },
      "source": [
        "Each training input consists of a list of integers.  Each integer uniquely represents a word, the list represents a text as an ordered sequence of words. The corresponding output is an integer, either 0 or 1, representing the opinion expressed in the review text."
      ]
    },
    {
      "cell_type": "markdown",
      "metadata": {
        "id": "xPQEXVZq2jmI"
      },
      "source": [
        "### Review lengths"
      ]
    },
    {
      "cell_type": "markdown",
      "metadata": {
        "id": "U-h7x0oO2jmI"
      },
      "source": [
        "We can visualize the distribution of the review lengths in a histogram, one for the training, the other for the test input."
      ]
    },
    {
      "cell_type": "code",
      "execution_count": 30,
      "metadata": {
        "colab": {
          "base_uri": "https://localhost:8080/",
          "height": 381
        },
        "id": "Lod9Y8uS2jmI",
        "outputId": "62ac7e3b-5e0d-4f92-a325-cf8aefd5ccae"
      },
      "outputs": [
        {
          "output_type": "display_data",
          "data": {
            "text/plain": [
              "<Figure size 1500x500 with 2 Axes>"
            ],
            "image/png": "[encoded data removed]"
          },
          "metadata": {}
        }
      ],
      "source": [
        "figure, axes = plt.subplots(nrows=1, ncols=2, figsize=(15, 5))\n",
        "for i, reviews in enumerate((x_train, x_test)):\n",
        "    review_lengths = map(len, reviews)\n",
        "    axes[i].hist(list(review_lengths), bins=50);\n",
        "figure.tight_layout()"
      ]
    },
    {
      "cell_type": "markdown",
      "metadata": {
        "id": "auyiOJF82jmI"
      },
      "source": [
        "### Word distribution"
      ]
    },
    {
      "cell_type": "markdown",
      "metadata": {
        "id": "5bzuWPU_2jmJ"
      },
      "source": [
        "The distribution of the words, or features, can also be visualized."
      ]
    },
    {
      "cell_type": "markdown",
      "metadata": {
        "id": "1KqLdH1D2jmJ"
      },
      "source": [
        "The following computation is rather time consuming, so its results are pickled, so that they can be reused for demonstartion purposes without redoing the computation."
      ]
    },
    {
      "cell_type": "code",
      "execution_count": 31,
      "metadata": {
        "id": "3SJU2zPh2jmJ"
      },
      "outputs": [],
      "source": [
        "pickle_path = Path('feature_count.pkl')\n",
        "if not pickle_path.exists():\n",
        "    feature_counter = Counter()\n",
        "    for review in x_train:\n",
        "        for feature in review:\n",
        "            feature_counter[feature] += 1\n",
        "    with open('feature_count.pkl', 'wb') as pickle_file:\n",
        "        pickle.dump(feature_counter, pickle_file)\n",
        "else:\n",
        "    with open('feature_count.pkl', 'rb') as pickle_file:\n",
        "        feature_counter = pickle.load(pickle_file)"
      ]
    },
    {
      "cell_type": "code",
      "execution_count": 32,
      "metadata": {
        "colab": {
          "base_uri": "https://localhost:8080/"
        },
        "id": "vE58kfWr2jmJ",
        "outputId": "8c83bd13-1d42-4d20-ccdb-e9d6e32d0b8d"
      },
      "outputs": [
        {
          "output_type": "execute_result",
          "data": {
            "text/plain": [
              "[(4, 336148),\n",
              " (5, 164097),\n",
              " (6, 163040),\n",
              " (7, 145847),\n",
              " (8, 135708),\n",
              " (9, 107313),\n",
              " (10, 101871),\n",
              " (11, 93934),\n",
              " (12, 79058),\n",
              " (13, 77142)]"
            ]
          },
          "metadata": {},
          "execution_count": 32
        }
      ],
      "source": [
        "feature_counter.most_common(10)"
      ]
    },
    {
      "cell_type": "markdown",
      "metadata": {
        "id": "pdi1EQg-2jmK"
      },
      "source": [
        "Note that the most common word starts at index 4, which may be unexpected."
      ]
    },
    {
      "cell_type": "code",
      "execution_count": 33,
      "metadata": {
        "colab": {
          "base_uri": "https://localhost:8080/"
        },
        "id": "Vml2mjiD2jmK",
        "outputId": "78bc04a3-1545-47c8-b3bb-e01a3aa2633d"
      },
      "outputs": [
        {
          "output_type": "execute_result",
          "data": {
            "text/plain": [
              "(0, 25000, 1, 0)"
            ]
          },
          "metadata": {},
          "execution_count": 33
        }
      ],
      "source": [
        "feature_counter[0], feature_counter[1], feature_counter[2], feature_counter[3]"
      ]
    },
    {
      "cell_type": "markdown",
      "metadata": {
        "id": "s4oUYlL-2jmK"
      },
      "source": [
        "Index 0 serves as padding, 1 as start of a review (note that it occurs as many times as there are reviews in the training set).  For more details, see the section on texts below."
      ]
    },
    {
      "cell_type": "code",
      "execution_count": 34,
      "metadata": {
        "colab": {
          "base_uri": "https://localhost:8080/"
        },
        "id": "Hul9Caax2jmK",
        "outputId": "a24fbbc3-a9af-4e1c-b0af-572b797aea91"
      },
      "outputs": [
        {
          "output_type": "execute_result",
          "data": {
            "text/plain": [
              "88585"
            ]
          },
          "metadata": {},
          "execution_count": 34
        }
      ],
      "source": [
        "len(feature_counter)"
      ]
    },
    {
      "cell_type": "code",
      "execution_count": 35,
      "metadata": {
        "colab": {
          "base_uri": "https://localhost:8080/",
          "height": 449
        },
        "id": "-9NSdBAd2jmL",
        "outputId": "755857ab-1101-4a81-d279-088a17dee022"
      },
      "outputs": [
        {
          "output_type": "display_data",
          "data": {
            "text/plain": [
              "<Figure size 640x480 with 1 Axes>"
            ],
            "image/png": "[encoded data removed]"
          },
          "metadata": {}
        }
      ],
      "source": [
        "plt.semilogy(list(feature_counter.keys()), list(feature_counter.values()),\n",
        "             '.', alpha=0.3, markersize=1)\n",
        "plt.xlabel('feature')\n",
        "plt.ylabel('frequency');"
      ]
    },
    {
      "cell_type": "markdown",
      "metadata": {
        "id": "K1nwV5SE2jmL"
      },
      "source": [
        "The features, i.e., the words, follow a Zipf-like distribution, which doesn't come as a surprise.  Since this computation is time consuming, we assume similar results for the test set."
      ]
    },
    {
      "cell_type": "markdown",
      "metadata": {
        "id": "o35MeVlG2jmL"
      },
      "source": [
        "Note that the minimum index is 1, the maximum 88586."
      ]
    },
    {
      "cell_type": "code",
      "execution_count": 36,
      "metadata": {
        "colab": {
          "base_uri": "https://localhost:8080/"
        },
        "id": "02UMXHtN2jmL",
        "outputId": "ee1cc6e3-ab8f-4bea-fb0d-9f5e6a3ebc34"
      },
      "outputs": [
        {
          "output_type": "execute_result",
          "data": {
            "text/plain": [
              "(1, 88586)"
            ]
          },
          "metadata": {},
          "execution_count": 36
        }
      ],
      "source": [
        "min(feature_counter.keys()), max(feature_counter.keys())"
      ]
    },
    {
      "cell_type": "markdown",
      "metadata": {
        "id": "DOqGGR5i2jmM"
      },
      "source": [
        "### Sentiment distribution"
      ]
    },
    {
      "cell_type": "markdown",
      "metadata": {
        "id": "ruH99M2l2jmM"
      },
      "source": [
        "The distirbution of the opinions, 0 or 1, can be visualized in a bar plot, again one for the training, the other for the test output."
      ]
    },
    {
      "cell_type": "code",
      "execution_count": 37,
      "metadata": {
        "colab": {
          "base_uri": "https://localhost:8080/",
          "height": 487
        },
        "id": "RcCcdxaE2jmM",
        "outputId": "3956d5fe-bcbc-4656-9fdf-2c44de6f7c2d"
      },
      "outputs": [
        {
          "output_type": "display_data",
          "data": {
            "text/plain": [
              "<Figure size 640x480 with 2 Axes>"
            ],
            "image/png": "[encoded data removed]"
          },
          "metadata": {}
        }
      ],
      "source": [
        "figure, axes = plt.subplots(1, 2)\n",
        "for i, opinions in enumerate((y_train, y_test)):\n",
        "    counter = [0, 0]\n",
        "    for opinion in opinions:\n",
        "        counter[opinion] += 1\n",
        "    axes[i].bar(['0', '1'], counter, 0.5);\n",
        "figure.tight_layout()"
      ]
    },
    {
      "cell_type": "markdown",
      "metadata": {
        "id": "jsb8x7ps2jmM"
      },
      "source": [
        "Positive and negetive opinions are uniformly distributed in the training set and the test set."
      ]
    },
    {
      "cell_type": "markdown",
      "metadata": {
        "id": "a0MAwz3h2jmN"
      },
      "source": [
        "## Texts"
      ]
    },
    {
      "cell_type": "markdown",
      "metadata": {
        "id": "lYKEnJy32jmN"
      },
      "source": [
        "The texts represented as a list of integers, each integer representing a specific word.  The word index, i.e, a dictionary that has the words as keys, and the integers as values is also available in the IMDB dataset."
      ]
    },
    {
      "cell_type": "code",
      "execution_count": 38,
      "metadata": {
        "id": "YKzdEt8R2jmN"
      },
      "outputs": [],
      "source": [
        "word_index = imdb.get_word_index()"
      ]
    },
    {
      "cell_type": "code",
      "execution_count": 39,
      "metadata": {
        "colab": {
          "base_uri": "https://localhost:8080/"
        },
        "id": "Um1SMjLb2jmN",
        "outputId": "0babfa01-d9a0-4bb1-acaa-59fce553cf47"
      },
      "outputs": [
        {
          "output_type": "execute_result",
          "data": {
            "text/plain": [
              "1"
            ]
          },
          "metadata": {},
          "execution_count": 39
        }
      ],
      "source": [
        "word_index['the']"
      ]
    },
    {
      "cell_type": "markdown",
      "metadata": {
        "id": "aydJv-4L2jmQ"
      },
      "source": [
        "However, in order to translate the lists of integers into the original reviews, the data has to be loaded appropriately.  The `load_data` method has some optional arguments that should be specified.  Index 0 is usually reserved for padding, i.e., to ensure that short sequences can be extended to the required length.  Index 1 indicates the start of a review (`start_char`), while index 2 is used to represent words that have not been indexed, either because they were not part of the data set, they were too infrequently used, or, if the top words are left out, too common to be considered informative (`oov_char`).  Hence, the actual word index starts at 4."
      ]
    },
    {
      "cell_type": "markdown",
      "metadata": {
        "id": "EzPC_muQ2jmQ"
      },
      "source": [
        "The word index has to be shifted by `index_from`, and the strings representing padding, start and unknown added.  The following function will do this, compute the reverse dictionary, and return both."
      ]
    },
    {
      "cell_type": "code",
      "execution_count": 40,
      "metadata": {
        "id": "ffUPIq_h2jmQ"
      },
      "outputs": [],
      "source": [
        "def compute_indices(word_index=None, index_from=3, padding_idx=0, start_idx=1, unknown_idx=2):\n",
        "    if word_index is None:\n",
        "        word_index = imdb.get_word_index()\n",
        "    word_to_idx = {k: v + index_from for k, v in word_index.items()}\n",
        "    word_to_idx['<pad>'] = padding_idx\n",
        "    word_to_idx['<start>'] = start_idx\n",
        "    word_to_idx['<unknown>'] = unknown_idx\n",
        "    return word_to_idx, {v: k for k, v in word_to_idx.items()}"
      ]
    },
    {
      "cell_type": "code",
      "execution_count": 41,
      "metadata": {
        "id": "ZvNwUWLH2jmR"
      },
      "outputs": [],
      "source": [
        "word_to_idx, idx_to_word = compute_indices(word_index)"
      ]
    },
    {
      "cell_type": "markdown",
      "metadata": {
        "id": "el92KkIR2jmR"
      },
      "source": [
        "The first review in the training set can now be \"translated\" back to English.  Note that there is no punctuation, and, since only the 1,000 most common words were loaded, quite a number of `<unknown>` crop up in the text."
      ]
    },
    {
      "cell_type": "code",
      "execution_count": 42,
      "metadata": {
        "colab": {
          "base_uri": "https://localhost:8080/"
        },
        "id": "DhFOW0Sv2jmR",
        "outputId": "9ad40f4f-90bd-4974-f60e-b705dc02a3d6"
      },
      "outputs": [
        {
          "output_type": "stream",
          "name": "stdout",
          "text": [
            "<start> this film was just brilliant casting location scenery story direction everyone's really suited the part they played and you could just imagine being there robert redford's is an amazing actor and now the same being director norman's father came from the same scottish island as myself so i loved the fact there was a real connection with this film the witty remarks throughout the film were great it was just brilliant so much that i bought the film as soon as it was released for retail and would recommend it to everyone to watch and the fly fishing was amazing really cried at the end it was so sad and you know what they say if you cry at a film it must have been good and this definitely was also congratulations to the two little boy's that played the part's of norman and paul they were just brilliant children are often left out of the praising list i think because the stars that play them all grown up are such a big profile for the whole film but these children are amazing and should be praised for what they have done don't you think the whole story was so lovely because it was true and was someone's life after all that was shared with us all\n"
          ]
        }
      ],
      "source": [
        "print(' '.join(idx_to_word[idx] for idx in x_train[0]))"
      ]
    },
    {
      "cell_type": "markdown",
      "metadata": {
        "id": "fL8VwgXc2jmR"
      },
      "source": [
        "The sentiment expressed in this review is positive, so the output should be 1."
      ]
    },
    {
      "cell_type": "code",
      "execution_count": 43,
      "metadata": {
        "colab": {
          "base_uri": "https://localhost:8080/"
        },
        "id": "KzPErpLj2jmS",
        "outputId": "b0aabf4e-9f16-45db-97bd-2a9b6882f042"
      },
      "outputs": [
        {
          "output_type": "execute_result",
          "data": {
            "text/plain": [
              "np.int64(1)"
            ]
          },
          "metadata": {},
          "execution_count": 43
        }
      ],
      "source": [
        "y_train[0]"
      ]
    },
    {
      "cell_type": "markdown",
      "metadata": {
        "id": "ifF6_yCg2jmS"
      },
      "source": [
        "Find the first review expressing a negative sentiment."
      ]
    },
    {
      "cell_type": "code",
      "execution_count": 44,
      "metadata": {
        "id": "qIloIj1e2jmS"
      },
      "outputs": [],
      "source": [
        "neg_idx = list(y_train).index(0)"
      ]
    },
    {
      "cell_type": "code",
      "execution_count": 45,
      "metadata": {
        "colab": {
          "base_uri": "https://localhost:8080/"
        },
        "id": "cxrqPvL42jmS",
        "outputId": "45e18fa5-b0a1-4736-8ce0-9483b09e2c69"
      },
      "outputs": [
        {
          "output_type": "stream",
          "name": "stdout",
          "text": [
            "<start> big hair big boobs bad music and a giant safety pin these are the words to best describe this terrible movie i love cheesy horror movies and i've seen hundreds but this had got to be on of the worst ever made the plot is paper thin and ridiculous the acting is an abomination the script is completely laughable the best is the end showdown with the cop and how he worked out who the killer is it's just so damn terribly written the clothes are sickening and funny in equal measures the hair is big lots of boobs bounce men wear those cut tee shirts that show off their stomachs sickening that men actually wore them and the music is just synthesiser trash that plays over and over again in almost every scene there is trashy music boobs and paramedics taking away bodies and the gym still doesn't close for bereavement all joking aside this is a truly bad film whose only charm is to look back on the disaster that was the 80's and have a good old laugh at how bad everything was back then\n"
          ]
        }
      ],
      "source": [
        "print(' '.join(idx_to_word[idx] for idx in x_train[neg_idx]))"
      ]
    },
    {
      "cell_type": "markdown",
      "metadata": {
        "id": "taIDQj402jmS"
      },
      "source": [
        "Clearly, the reviewer was not taken by the movie."
      ]
    },
    {
      "cell_type": "markdown",
      "metadata": {
        "id": "G7Yx-MP72jmT"
      },
      "source": [
        "## Stop words"
      ]
    },
    {
      "cell_type": "markdown",
      "metadata": {
        "id": "t5513Qgd2jmT"
      },
      "source": [
        "When you display the top-25 words, it is quite clear that most will not be very informative, except \"but\" at index 20 and \"not\" at index 23."
      ]
    },
    {
      "cell_type": "code",
      "execution_count": 46,
      "metadata": {
        "colab": {
          "base_uri": "https://localhost:8080/"
        },
        "id": "H5edjd6s2jmT",
        "outputId": "0eb4e4ba-4938-4767-c574-ab5272948401"
      },
      "outputs": [
        {
          "output_type": "stream",
          "name": "stdout",
          "text": [
            "4 the\n",
            "5 and\n",
            "6 a\n",
            "7 of\n",
            "8 to\n",
            "9 is\n",
            "10 br\n",
            "11 in\n",
            "12 it\n",
            "13 i\n",
            "14 this\n",
            "15 that\n",
            "16 was\n",
            "17 as\n",
            "18 for\n",
            "19 with\n",
            "20 movie\n",
            "21 but\n",
            "22 film\n",
            "23 on\n",
            "24 not\n",
            "25 you\n",
            "26 are\n",
            "27 his\n",
            "28 have\n",
            "29 he\n"
          ]
        }
      ],
      "source": [
        "for i in range(4, 4 + 26):\n",
        "    print(i, idx_to_word[i])"
      ]
    },
    {
      "cell_type": "markdown",
      "metadata": {
        "id": "KrtyHaMq2jmU"
      },
      "source": [
        "It would most likely be fine to exclude all most frequent words upto \"but\", and limit the number of words to the 5,000 most frequent ones in order to reduce the dataset size, and hence the computations when training the network."
      ]
    }
  ],
  "metadata": {
    "kernelspec": {
      "display_name": "Python 3",
      "language": "python",
      "name": "python3"
    },
    "language_info": {
      "codemirror_mode": {
        "name": "ipython",
        "version": 3
      },
      "file_extension": ".py",
      "mimetype": "text/x-python",
      "name": "python",
      "nbconvert_exporter": "python",
      "pygments_lexer": "ipython3",
      "version": "3.7.3"
    },
    "colab": {
      "provenance": [],
      "include_colab_link": true
    }
  },
  "nbformat": 4,
  "nbformat_minor": 0
}